{
 "cells": [
  {
   "cell_type": "markdown",
   "metadata": {
    "application/vnd.databricks.v1+cell": {
     "cellMetadata": {},
     "inputWidgets": {},
     "nuid": "bfaad047-e724-45f4-bb49-e68e9406a6c0",
     "showTitle": false,
     "tableResultSettingsMap": {},
     "title": ""
    }
   },
   "source": [
    "\n",
    "# Describe a DataFrame\n",
    "\n",
    "Your data processing in Apaceh Spark is accomplished by defining Dataframes to read and process the Data.\n",
    "\n",
    "This notebook will introduce how to read your data using Apache Spark Dataframes."
   ]
  },
  {
   "cell_type": "markdown",
   "metadata": {
    "application/vnd.databricks.v1+cell": {
     "cellMetadata": {},
     "inputWidgets": {},
     "nuid": "582e0d4d-c49c-463f-8546-5655b8fd0295",
     "showTitle": false,
     "tableResultSettingsMap": {},
     "title": ""
    }
   },
   "source": [
    "#Introduction\n",
    "\n",
    "** Data Source **\n",
    "* One hour of Pagecounts from the English Wikimedia projects captured August 5, 2016, at 12:00 PM UTC.\n",
    "* Size on Disk: ~23 MB\n",
    "* Type: Compressed Parquet File\n",
    "* More Info: <a href=\"https://dumps.wikimedia.org/other/pagecounts-raw\" target=\"_blank\">Page view statistics for Wikimedia projects</a>\n",
    "\n",
    "**Technical Accomplishments:**\n",
    "* Develop familiarity with the `DataFrame` APIs\n",
    "* Introduce the classes...\n",
    "  * `SparkSession`\n",
    "  * `DataFrame` (aka `Dataset[Row]`)\n",
    "* Introduce the actions...\n",
    "  * `count()`"
   ]
  },
  {
   "cell_type": "markdown",
   "metadata": {
    "application/vnd.databricks.v1+cell": {
     "cellMetadata": {},
     "inputWidgets": {},
     "nuid": "35dc62e4-3218-41ed-a85e-d961141d9a7f",
     "showTitle": false,
     "tableResultSettingsMap": {},
     "title": ""
    }
   },
   "source": [
    "## ![Spark Logo Tiny](https://files.training.databricks.com/images/105/logo_spark_tiny.png) Getting Started"
   ]
  },
  {
   "cell_type": "code",
   "execution_count": null,
   "metadata": {},
   "outputs": [],
   "source": [
    "from pyspark.sql import SparkSession"
   ]
  },
  {
   "cell_type": "code",
   "execution_count": null,
   "metadata": {},
   "outputs": [],
   "source": [
    "# Initialize Spark Session\n",
    "spark = (SparkSession.builder\n",
    "         .appName(\"Read CSV Data\")\n",
    "         .getOrCreate())"
   ]
  },
  {
   "cell_type": "code",
   "execution_count": null,
   "metadata": {},
   "outputs": [],
   "source": [
    "print(spark)\n",
    "spark"
   ]
  },
  {
   "cell_type": "markdown",
   "metadata": {
    "application/vnd.databricks.v1+cell": {
     "cellMetadata": {},
     "inputWidgets": {},
     "nuid": "539cbf7b-54dd-4dcb-b350-ab579ae73b81",
     "showTitle": false,
     "tableResultSettingsMap": {},
     "title": ""
    }
   },
   "source": [
    "## ![Spark Logo Tiny](https://files.training.databricks.com/images/105/logo_spark_tiny.png) **The Data Source**\n",
    "\n",
    "* In this notebook, we will be using a compressed parquet \"file\" called **pagecounts** (~23 MB file from Wikipedia)\n",
    "* We will explore the data and develop an understanding of it as we progress."
   ]
  },
  {
   "cell_type": "code",
   "execution_count": null,
   "metadata": {
    "application/vnd.databricks.v1+cell": {
     "cellMetadata": {},
     "inputWidgets": {},
     "nuid": "1f62f58d-07e2-4eb1-8ed3-f78a561d2f52",
     "showTitle": false,
     "tableResultSettingsMap": {},
     "title": ""
    }
   },
   "outputs": [],
   "source": [
    "import os\n",
    "\n",
    "parquetDir = \"../dataset/pagecounts/staging_parquet_en_only_clean/\"\n",
    "\n",
    "# List files in the directory\n",
    "file_list = os.listdir(parquetDir)\n",
    "\n",
    "# Display the list of files\n",
    "print(\"\\n\".join(file_list))"
   ]
  },
  {
   "cell_type": "markdown",
   "metadata": {
    "application/vnd.databricks.v1+cell": {
     "cellMetadata": {},
     "inputWidgets": {},
     "nuid": "1ddb6668-33ce-42f7-9902-d8a42e62fe20",
     "showTitle": false,
     "tableResultSettingsMap": {},
     "title": ""
    }
   },
   "source": [
    "As we can see from the files listed above, this data is stored in <a href=\"https://parquet.apache.org\" target=\"_blank\">Parquet</a> files which can be read in a single command, the result of which will be a `DataFrame`."
   ]
  },
  {
   "cell_type": "markdown",
   "metadata": {
    "application/vnd.databricks.v1+cell": {
     "cellMetadata": {},
     "inputWidgets": {},
     "nuid": "74020868-ad23-4ad5-bf43-3036c4ac8ab2",
     "showTitle": false,
     "tableResultSettingsMap": {},
     "title": ""
    }
   },
   "source": [
    "## ![Spark Logo Tiny](https://files.training.databricks.com/images/105/logo_spark_tiny.png) Create a DataFrame\n",
    "* We can read the Parquet files into a `DataFrame`.\n",
    "* We'll start with the object **spark**, an instance of `SparkSession` and the entry point to Spark 2.0 applications.\n",
    "* From there we can access the `read` object which gives us an instance of `DataFrameReader`."
   ]
  },
  {
   "cell_type": "code",
   "execution_count": null,
   "metadata": {
    "application/vnd.databricks.v1+cell": {
     "cellMetadata": {},
     "inputWidgets": {},
     "nuid": "8cb4fe6a-d412-4400-9603-f69a7ad089b6",
     "showTitle": false,
     "tableResultSettingsMap": {},
     "title": ""
    }
   },
   "outputs": [],
   "source": [
    "pagecountsEnAllDF = (spark  # Our SparkSession & Entry Point\n",
    "  .read                     # Our DataFrameReader\n",
    "  .parquet(parquetDir)      # Returns an instance of DataFrame\n",
    ")\n",
    "print(pagecountsEnAllDF)    # Python hack to see the data type"
   ]
  },
  {
   "cell_type": "markdown",
   "metadata": {
    "application/vnd.databricks.v1+cell": {
     "cellMetadata": {},
     "inputWidgets": {},
     "nuid": "e827cad6-b644-488e-8846-4ba2fa0eb2bc",
     "showTitle": false,
     "tableResultSettingsMap": {},
     "title": ""
    }
   },
   "source": [
    "## ![Spark Logo Tiny](https://files.training.databricks.com/images/105/logo_spark_tiny.png) count()\n",
    "\n",
    "If you look at the API docs, `count()` is described like this:\n",
    "> Returns the number of rows in the Dataset.\n",
    "\n",
    "`count()` will trigger a job to process the request and return a value.\n",
    "\n",
    "We can now count all records in our `DataFrame` like this:"
   ]
  },
  {
   "cell_type": "code",
   "execution_count": null,
   "metadata": {
    "application/vnd.databricks.v1+cell": {
     "cellMetadata": {},
     "inputWidgets": {},
     "nuid": "de0a0822-ce3d-4bfe-a01d-2f8646a5a5a8",
     "showTitle": false,
     "tableResultSettingsMap": {},
     "title": ""
    }
   },
   "outputs": [],
   "source": [
    "total = pagecountsEnAllDF.count()\n",
    "\n",
    "print(\"Record Count: {0:,}\".format( total ))"
   ]
  },
  {
   "cell_type": "markdown",
   "metadata": {
    "application/vnd.databricks.v1+cell": {
     "cellMetadata": {},
     "inputWidgets": {},
     "nuid": "3f53f346-b98b-4c1a-a949-1da639770d9a",
     "showTitle": false,
     "tableResultSettingsMap": {},
     "title": ""
    }
   },
   "source": [
    "That tells us that there are around 2 million rows in the `DataFrame`."
   ]
  },
  {
   "cell_type": "markdown",
   "metadata": {},
   "source": [
    "\n",
    "# Use common DataFrame methods\n",
    "\n",
    "We will now build upon that concept by introducing common DataFrame methods."
   ]
  },
  {
   "cell_type": "markdown",
   "metadata": {},
   "source": [
    "Before we take a closer look at the contents of the `DataFrame`, let us introduce a technique that speeds up processing.  "
   ]
  },
  {
   "cell_type": "markdown",
   "metadata": {},
   "source": [
    "## ![Spark Logo Tiny](https://files.training.databricks.com/images/105/logo_spark_tiny.png) cache() & persist()\n",
    "\n",
    "The ability to cache data is one technique for achieving better performance with Apache Spark. \n",
    "\n",
    "This is because every action requires Spark to read the data from its source (Azure Blob, Amazon S3, HDFS, etc.) but caching moves that data into the memory of the local executor for \"instant\" access.\n",
    "\n",
    "`cache()` is just an alias for `persist()`. "
   ]
  },
  {
   "cell_type": "code",
   "execution_count": null,
   "metadata": {},
   "outputs": [],
   "source": [
    "(pagecountsEnAllDF\n",
    "  .cache()         # Mark the DataFrame as cached\n",
    "  .count()         # Materialize the cache\n",
    ")"
   ]
  },
  {
   "cell_type": "markdown",
   "metadata": {},
   "source": [
    "If you re-run that command, it should take significantly less time."
   ]
  },
  {
   "cell_type": "code",
   "execution_count": null,
   "metadata": {},
   "outputs": [],
   "source": [
    "pagecountsEnAllDF.count()"
   ]
  },
  {
   "cell_type": "markdown",
   "metadata": {},
   "source": [
    "\n",
    "## Performance considerations of Caching Data\n",
    "\n",
    "When Caching Data you are placing it on the workers of the cluster. \n",
    "\n",
    "Caching takes resources, before moving a notebook into production please check and verify that you are appropriately using cache. "
   ]
  },
  {
   "cell_type": "markdown",
   "metadata": {},
   "source": [
    "And as a quick side note, you can remove a cache by calling the `DataFrame`'s `unpersist()` method but, it is not necessary."
   ]
  },
  {
   "cell_type": "markdown",
   "metadata": {},
   "source": [
    "## ![Spark Logo Tiny](https://files.training.databricks.com/images/105/logo_spark_tiny.png) Our Data\n",
    "\n",
    "Let's continue by taking a look at the type of data we have. \n",
    "\n",
    "We can do this with the `printSchema()` command:"
   ]
  },
  {
   "cell_type": "code",
   "execution_count": null,
   "metadata": {},
   "outputs": [],
   "source": [
    "pagecountsEnAllDF.printSchema()"
   ]
  },
  {
   "cell_type": "markdown",
   "metadata": {},
   "source": [
    "We should now be able to see that we have four columns of data:\n",
    "* **project** (*string*): The name of the Wikipedia project. This will include values such as:\n",
    "  * **en**: The English version of Wikipedia.\n",
    "  * **fr**: The French version of Wikipedia.\n",
    "  * **en.d**: The English version of Wiktionary.\n",
    "  * **fr.b**: The French version of Wikibooks.\n",
    "  * **de.n**: The German version of Wikinews.\n",
    "* **article** (*string*): The name of the article in the corresponding project. This will include values such as:\n",
    "  * Apache_Spark\n",
    "  * Matei_Zaharia\n",
    "  * Kevin_Bacon\n",
    "* **requests** (*integer*): The number of requests (clicks) the article has received in the hour this data represents.\n",
    "* **bytes_served** (*long*): The total number of bytes delivered for the requested article.\n",
    "  > **Note:** In our copy of the data, this value is zero for all records and consequently is of no value to us."
   ]
  },
  {
   "cell_type": "markdown",
   "metadata": {},
   "source": [
    "## ![Spark Logo Tiny](https://files.training.databricks.com/images/105/logo_spark_tiny.png) Spark API\n",
    "\n",
    "You have already seen one command available to the `DataFrame` class, namely `DataFrame.printSchema()`\n",
    "  \n",
    "Let's take a look at the API to see what other operations we have available."
   ]
  },
  {
   "cell_type": "markdown",
   "metadata": {},
   "source": [
    "### **Spark API Home Page**\n",
    "0. Open a new browser tab\n",
    "0. Google for **Spark API Latest** or **Spark API _x.x.x_** for a specific version.\n",
    "0. Select **Spark API Documentation - Spark _x.x.x_ Documentation - Apache Spark** \n",
    "\n",
    "Other Documentation:\n",
    "* Programming Guides for DataFrames, SQL, Graphs, Machine Learning, Streaming...\n",
    "* Deployment Guides for Spark Standalone, Mesos, Yarn...\n",
    "* Configuration, Monitoring, Tuning, Security...\n",
    "\n",
    "Here are some shortcuts\n",
    "  * <a href=\"https://spark.apache.org/docs/latest/\" target=\"_blank\">Spark API Documentation - Latest</a>\n",
    "  * <a href=\"https://spark.apache.org/docs/2.1.1/api.html\" target=\"_blank\">Spark API Documentation - 2.1.1</a>\n",
    "  * <a href=\"https://spark.apache.org/docs/2.1.0/api.html\" target=\"_blank\">Spark API Documentation - 2.1.0</a>\n",
    "  * <a href=\"https://spark.apache.org/docs/2.0.2/api.html\" target=\"_blank\">Spark API Documentation - 2.0.2</a>\n",
    "  * <a href=\"https://spark.apache.org/docs/1.6.3/api.html\" target=\"_blank\">Spark API Documentation - 1.6.3</a>"
   ]
  },
  {
   "cell_type": "markdown",
   "metadata": {},
   "source": [
    "Naturally, which set of documentation you will use depends on which language you will use."
   ]
  },
  {
   "cell_type": "markdown",
   "metadata": {},
   "source": [
    "### Spark API (Python)\n",
    "\n",
    "0. Select **Spark Python API (Sphinx)**.\n",
    "0. Look up the documentation for `pyspark.sql.DataFrame`.\n",
    "  0. In the lower-left-hand-corner type **DataFrame** into the search field.\n",
    "  0. Hit **[Enter]**.\n",
    "  0. The search results should appear in the right-hand pane.\n",
    "  0. Click on **pyspark.sql.DataFrame (Python class, in pyspark.sql module)**\n",
    "  0. The documentation should open in the right-hand pane."
   ]
  },
  {
   "cell_type": "markdown",
   "metadata": {},
   "source": [
    "\n",
    "# Use the Display function\n",
    "\n",
    "There are different ways to view data in a DataFrame. This notebook covers these methods as well as transformations to further refine the data."
   ]
  },
  {
   "cell_type": "markdown",
   "metadata": {},
   "source": [
    "\n",
    "**Technical Accomplishments:**\n",
    "* Introduce the transformations...\n",
    "  * `limit(..)`\n",
    "  * `select(..)`\n",
    "  * `drop(..)`\n",
    "  * `distinct()`\n",
    "  * `dropDuplicates(..)`\n",
    "* Introduce the actions...\n",
    "  * `show(..)`"
   ]
  },
  {
   "cell_type": "markdown",
   "metadata": {},
   "source": [
    "## ![Spark Logo Tiny](https://files.training.databricks.com/images/105/logo_spark_tiny.png) show(..)\n",
    "\n",
    "What we want to look for next is a function that will allow us to print the data to the console.\n",
    "\n",
    "In the API docs for `DataFrame`/`Dataset` find the docs for the `show(..)` command(s).\n",
    "\n",
    "In the case of Python, we have one method with two optional parameters.<br/>\n",
    "In the case of Scala, we have several overloaded methods.<br/>\n",
    "\n",
    "In either case, the `show(..)` method effectively has two optional parameters:\n",
    "* **n**: The number of records to print to the console, the default being 20.\n",
    "* **truncate**: If true, columns wider than 20 characters will be truncated, where the default is true.\n",
    "\n",
    "Let's take a look at the data in our `DataFrame` with the `show()` command:"
   ]
  },
  {
   "cell_type": "code",
   "execution_count": null,
   "metadata": {},
   "outputs": [],
   "source": [
    "pagecountsEnAllDF.show()"
   ]
  },
  {
   "cell_type": "markdown",
   "metadata": {},
   "source": [
    "In the cell above, change the parameters of the show command to:\n",
    "* print only the first five records\n",
    "* disable truncation\n",
    "* print only the first ten records and disable truncation\n",
    "\n",
    "**Note:** The function `show(..)` is an **action** which triggers a job."
   ]
  },
  {
   "cell_type": "code",
   "execution_count": null,
   "metadata": {},
   "outputs": [],
   "source": [
    "display(pagecountsEnAllDF.show(5, False))"
   ]
  },
  {
   "cell_type": "markdown",
   "metadata": {},
   "source": [
    "## ![Spark Logo Tiny](https://files.training.databricks.com/images/105/logo_spark_tiny.png) limit(..)\n",
    "\n",
    "Both `show(..)` and `display(..)` are **actions** that trigger jobs (though in slightly different ways).\n",
    "\n",
    "If you recall, `show(..)` has a parameter to control how many records are printed but, `display(..)` does not.\n",
    "\n",
    "We can address that difference with our first transformation, `limit(..)`.\n",
    "\n",
    "If you look at the API docs, `limit(..)` is described like this:\n",
    "> Returns a new Dataset by taking the first n rows...\n",
    "\n",
    "`show(..)`, like many actions, does not return anything. \n",
    "\n",
    "On the other hand, transformations like `limit(..)` return a **new** `DataFrame`:"
   ]
  },
  {
   "cell_type": "code",
   "execution_count": null,
   "metadata": {},
   "outputs": [],
   "source": [
    "limitedDF = pagecountsEnAllDF.limit(5) # \"limit\" the number of records to the first 5\n",
    "\n",
    "limitedDF # Python hack to force printing of the data type"
   ]
  },
  {
   "cell_type": "markdown",
   "metadata": {},
   "source": [
    "### Nothing Happened\n",
    "* Notice how \"nothing\" happened - that is no job was triggered.\n",
    "* This is because we are simply defining the second step in our transformations.\n",
    "  1. Read in the parquet file (represented by **pagecountsEnAllDF**).\n",
    "  1. Limit those records to just the first 5 (represented by **limitedDF**).\n",
    "* It's not until we induce an action that a job is triggered and the data is processed\n",
    "\n",
    "We can induce a job by calling `show(..)` actions:"
   ]
  },
  {
   "cell_type": "code",
   "execution_count": null,
   "metadata": {},
   "outputs": [],
   "source": [
    "limitedDF.show(100, False) #show up to 100 records and don't truncate the columns"
   ]
  },
  {
   "cell_type": "markdown",
   "metadata": {},
   "source": [
    "## ![Spark Logo Tiny](https://files.training.databricks.com/images/105/logo_spark_tiny.png) select(..)\n",
    "\n",
    "Let's say, for the sake of argument, that we don't want to look at all the data:"
   ]
  },
  {
   "cell_type": "code",
   "execution_count": null,
   "metadata": {},
   "outputs": [],
   "source": [
    "pagecountsEnAllDF.printSchema()"
   ]
  },
  {
   "cell_type": "markdown",
   "metadata": {},
   "source": [
    "For example, it was asserted above that **bytes_served** had nothing but zeros in it and consequently is of no value to us.\n",
    "\n",
    "If that is the case, we can disregard it by selecting only the three columns that we want:"
   ]
  },
  {
   "cell_type": "code",
   "execution_count": null,
   "metadata": {},
   "outputs": [],
   "source": [
    "# Transform the data by selecting only three columns\n",
    "onlyThreeDF = (pagecountsEnAllDF\n",
    "  .select(\"project\", \"article\", \"requests\") # Our 2nd transformation (4 >> 3 columns)\n",
    ")\n",
    "# Now let's take a look at what the schema looks like\n",
    "onlyThreeDF.printSchema()"
   ]
  },
  {
   "cell_type": "markdown",
   "metadata": {},
   "source": [
    "Again, notice how the call to `select(..)` does not trigger a job.\n",
    "\n",
    "That's because `select(..)` is a transformation. It's just one more step in a long list of transformations.\n",
    "\n",
    "Let's go ahead and invoke the action `show(..)` and take a look at the result."
   ]
  },
  {
   "cell_type": "code",
   "execution_count": null,
   "metadata": {},
   "outputs": [],
   "source": [
    "# And lastly, show the first five records which should exclude the bytes_served column.\n",
    "onlyThreeDF.show(5, False)"
   ]
  },
  {
   "cell_type": "markdown",
   "metadata": {},
   "source": [
    "The `select(..)` command is one of the most powerful and most commonly used transformations. \n",
    "\n",
    "We will see plenty of other examples of its usage as we progress.\n",
    "\n",
    "If you look at the API docs, `select(..)` is described like this:\n",
    "> Returns a new Dataset by computing the given Column expression for each element.\n",
    "\n",
    "The \"Column expression\" referred to there is where the true power of this operation shows up. Again, we will go deeper on these later.\n",
    "\n",
    "Just like `limit(..)`, `select(..)` \n",
    "* does not trigger a job\n",
    "* returns a new `DataFrame`\n",
    "* simply defines the next transformation in a sequence of transformations."
   ]
  },
  {
   "cell_type": "markdown",
   "metadata": {},
   "source": [
    "## ![Spark Logo Tiny](https://files.training.databricks.com/images/105/logo_spark_tiny.png) drop(..)\n",
    "\n",
    "As a quick side note, you will quickly discover there are a lot of ways to accomplish the same task.\n",
    "\n",
    "Take the transformation `drop(..)` for example - instead of selecting everything we wanted, `drop(..)` allows us to specify the columns we don't want.\n",
    "\n",
    "If you look at the API docs, `drop(..)` is described like this:\n",
    "> Returns a new Dataset with a column dropped.\n",
    "\n",
    "And we can see that we can produce the same result as the last exercise this way:"
   ]
  },
  {
   "cell_type": "code",
   "execution_count": null,
   "metadata": {},
   "outputs": [],
   "source": [
    "# Transform the data by selecting only three columns\n",
    "droppedDF = (pagecountsEnAllDF\n",
    "  .drop(\"bytes_served\") # Our second transformation after the initial read (4 columns down to 3)\n",
    ")\n",
    "# Now let's take a look at what the schema looks like\n",
    "droppedDF.printSchema()"
   ]
  },
  {
   "cell_type": "markdown",
   "metadata": {},
   "source": [
    "Again, `drop(..)` is just one more transformation - that is no job is triggered."
   ]
  },
  {
   "cell_type": "code",
   "execution_count": null,
   "metadata": {},
   "outputs": [],
   "source": [
    "# And lastly, show the first five records which should exclude the bytes_served column.\n",
    "droppedDF.show(5, False)"
   ]
  },
  {
   "cell_type": "markdown",
   "metadata": {},
   "source": [
    "## ![Spark Logo Tiny](https://files.training.databricks.com/images/105/logo_spark_tiny.png) distinct() & dropDuplicates()\n",
    "\n",
    "These two transformations do the same thing. In fact, they are aliases for one another.\n",
    "* You can see this by looking at the source code for these two methods\n",
    "* ```def distinct(): Dataset[T] = dropDuplicates()```\n",
    "\n",
    "The difference between them has everything to do with the programmer and their perspective.\n",
    "* The name **distinct** will resonate with developers, analyst and DB admins with a background in SQL.\n",
    "* The name **dropDuplicates** will resonate with developers that have a background or experience in functional programming.\n",
    "\n",
    "As you become more familiar with the various APIs, you will see this pattern reassert itself.\n",
    "\n",
    "The designers of the API are trying to make the API as approachable as possible for multiple target audiences.\n",
    "\n",
    "If you look at the API docs, both `distinct(..)` and `dropDuplicates(..)` are described like this:\n",
    "> Returns a new Dataset that contains only the unique rows from this Dataset....\n",
    "\n",
    "With this transformation, we can now tackle our first business question:"
   ]
  },
  {
   "cell_type": "markdown",
   "metadata": {},
   "source": [
    "### How many different English Wikimedia projects saw traffic during that hour?"
   ]
  },
  {
   "cell_type": "markdown",
   "metadata": {},
   "source": [
    "\n",
    "If you recall, our original `DataFrame` has this schema:"
   ]
  },
  {
   "cell_type": "code",
   "execution_count": null,
   "metadata": {},
   "outputs": [],
   "source": [
    "pagecountsEnAllDF.printSchema()"
   ]
  },
  {
   "cell_type": "markdown",
   "metadata": {},
   "source": [
    "The transformation `distinct()` is applied to the row as a whole - data in the **project**, **article** and **requests** column will effect this evaluation.\n",
    "\n",
    "To get the distinct list of projects, and only projects, we need to reduce the number of columns to just the one column, **project**. \n",
    "\n",
    "We can do this with the `select(..)` transformation and then we can introduce the `distinct()` transformation."
   ]
  },
  {
   "cell_type": "code",
   "execution_count": null,
   "metadata": {},
   "outputs": [],
   "source": [
    "distinctDF = (pagecountsEnAllDF     # Our original DataFrame from spark.read.parquet(..)\n",
    "  .select(\"project\")                # Drop all columns except the \"project\" column\n",
    "  .distinct()                       # Reduce the set of all records to just the distinct column.\n",
    ")"
   ]
  },
  {
   "cell_type": "markdown",
   "metadata": {},
   "source": [
    "Just to reinforce, we have three transformations:\n",
    "1. Read the data (now represented by `pagecountsEnAllDF`)\n",
    "1. Select just the one column\n",
    "1. Reduce the records to a distinct set\n",
    "\n",
    "No job is triggered until we perform an action like `show(..)`:"
   ]
  },
  {
   "cell_type": "code",
   "execution_count": null,
   "metadata": {},
   "outputs": [],
   "source": [
    "# There will not be more than 100 projects\n",
    "distinctDF.show(100, False)               "
   ]
  },
  {
   "cell_type": "markdown",
   "metadata": {},
   "source": [
    "You can count those if you like.\n",
    "\n",
    "But, it would be easier to ask the `DataFrame` for the `count()`:"
   ]
  },
  {
   "cell_type": "code",
   "execution_count": null,
   "metadata": {},
   "outputs": [],
   "source": [
    "total = distinctDF.count()     \n",
    "print(\"Distinct Projects: {0:,}\".format( total ))"
   ]
  },
  {
   "cell_type": "markdown",
   "metadata": {},
   "source": [
    "## ![Spark Logo Tiny](https://files.training.databricks.com/images/105/logo_spark_tiny.png) dropDuplicates(columns...)\n",
    "\n",
    "The method `dropDuplicates(..)` has a second variant that accepts one or more columns.\n",
    "* The distinction is not performed across the entire record unlike `distinct()` or even `dropDuplicates()`.\n",
    "* The distinction is based only on the specified columns.\n",
    "* This allows us to keep all the original columns in our `DataFrame`."
   ]
  },
  {
   "cell_type": "markdown",
   "metadata": {},
   "source": [
    "##![Spark Logo Tiny](https://files.training.databricks.com/images/105/logo_spark_tiny.png) Recap\n",
    "\n",
    "Our code is spread out over many cells which can make this a little hard to follow.\n",
    "\n",
    "Let's take a look at the same code in a single cell."
   ]
  },
  {
   "cell_type": "code",
   "execution_count": null,
   "metadata": {},
   "outputs": [],
   "source": [
    "pagecountsEnAllDF = (spark       # Our SparkSession & Entry Point\n",
    "  .read                          # Our DataFrameReader\n",
    "  .parquet(parquetDir)           # Returns an instance of DataFrame\n",
    ")\n",
    "(pagecountsEnAllDF               # Only if we are running multiple queries\n",
    "  .cache()                       # mark the DataFrame as cachable\n",
    "  .count()                       # materialize the cache\n",
    ")\n",
    "distinctDF = (pagecountsEnAllDF  # Our original DataFrame from spark.read.parquet(..)\n",
    "  .select(\"project\")             # Drop all columns except the \"project\" column\n",
    "  .distinct()                    # Reduce the set of all records to just the distinct column.\n",
    ")\n",
    "total = distinctDF.count()     \n",
    "print(\"Distinct Projects: {0:,}\".format( total ))"
   ]
  },
  {
   "cell_type": "markdown",
   "metadata": {},
   "source": [
    "## ![Spark Logo Tiny](https://files.training.databricks.com/images/105/logo_spark_tiny.png) DataFrames vs SQL & Temporary Views\n",
    "\n",
    "The `DataFrame`s API is built upon an SQL engine.\n",
    "\n",
    "As such we can \"convert\" a `DataFrame` into a temporary view (or table) and then use it in \"standard\" SQL.\n",
    "\n",
    "Let's start by creating a temporary view from a previous `DataFrame`."
   ]
  },
  {
   "cell_type": "code",
   "execution_count": null,
   "metadata": {},
   "outputs": [],
   "source": [
    "pagecountsEnAllDF.createOrReplaceTempView(\"pagecounts\")"
   ]
  },
  {
   "cell_type": "markdown",
   "metadata": {},
   "source": [
    "\n",
    "Now that we have a temporary view (or table) we can start expressing our queries and transformations in SQL:"
   ]
  },
  {
   "cell_type": "code",
   "execution_count": null,
   "metadata": {},
   "outputs": [],
   "source": [
    "%load_ext sparksql_magic\n",
    "%config SparkSql.limit=10"
   ]
  },
  {
   "cell_type": "code",
   "execution_count": null,
   "metadata": {},
   "outputs": [],
   "source": [
    "%%sparksql\n",
    "\n",
    "SELECT * FROM pagecounts"
   ]
  },
  {
   "cell_type": "markdown",
   "metadata": {},
   "source": [
    "And we can just as easily express in SQL the distinct list of projects, and just because we can, we'll sort that list:"
   ]
  },
  {
   "cell_type": "code",
   "execution_count": null,
   "metadata": {},
   "outputs": [],
   "source": [
    "%%sparksql\n",
    "\n",
    "SELECT DISTINCT project FROM pagecounts ORDER BY project"
   ]
  },
  {
   "cell_type": "markdown",
   "metadata": {},
   "source": [
    "And converting from SQL back to a `DataFrame` is just as easy:"
   ]
  },
  {
   "cell_type": "code",
   "execution_count": null,
   "metadata": {},
   "outputs": [],
   "source": [
    "tableDF = spark.sql(\"SELECT DISTINCT project FROM pagecounts ORDER BY project\")\n",
    "tableDF.show()"
   ]
  },
  {
   "cell_type": "markdown",
   "metadata": {},
   "source": [
    "# Lab Distinct Articles"
   ]
  },
  {
   "cell_type": "code",
   "execution_count": null,
   "metadata": {},
   "outputs": [],
   "source": [
    "# TODO\n",
    "# Replace <<FILL_IN>> with your code. \n",
    "\n",
    "df = (spark                    # Our SparkSession & Entry Point\n",
    "  .read                        # Our DataFrameReader\n",
    "  <<FILL_IN>>                  # Read in the parquet files\n",
    "  <<FILL_IN>>                  # Reduce the columns to just the one\n",
    "  <<FILL_IN>>                  # Produce a unique set of values\n",
    ")\n",
    "totalArticles = df.<<FILL_IN>> # Identify the total number of records remaining.\n",
    "\n",
    "print(\"Distinct Articles: {0:,}\".format(totalArticles))"
   ]
  },
  {
   "cell_type": "markdown",
   "metadata": {},
   "source": [
    "## ![Spark Logo Tiny](https://files.training.databricks.com/images/105/logo_spark_tiny.png) Verify Your Work\n",
    "Run the following cell to verify that your `DataFrame` was created properly."
   ]
  },
  {
   "cell_type": "code",
   "execution_count": null,
   "metadata": {},
   "outputs": [],
   "source": [
    "expected = 1783138\n",
    "assert totalArticles == expected, \"Expected the total to be \" + str(expected) + \" but found \" + str(totalArticles)\n"
   ]
  },
  {
   "cell_type": "code",
   "execution_count": null,
   "metadata": {},
   "outputs": [],
   "source": [
    "spark.stop()"
   ]
  }
 ],
 "metadata": {
  "application/vnd.databricks.v1+notebook": {
   "computePreferences": null,
   "dashboards": [],
   "environmentMetadata": null,
   "language": "python",
   "notebookMetadata": {
    "pythonIndentUnit": 2
   },
   "notebookName": "1.Describe-a-dataframe",
   "widgets": {}
  },
  "kernelspec": {
   "display_name": "Python 3",
   "language": "python",
   "name": "python3"
  },
  "language_info": {
   "codemirror_mode": {
    "name": "ipython",
    "version": 3
   },
   "file_extension": ".py",
   "mimetype": "text/x-python",
   "name": "python",
   "nbconvert_exporter": "python",
   "pygments_lexer": "ipython3",
   "version": "3.10.0"
  }
 },
 "nbformat": 4,
 "nbformat_minor": 0
}
