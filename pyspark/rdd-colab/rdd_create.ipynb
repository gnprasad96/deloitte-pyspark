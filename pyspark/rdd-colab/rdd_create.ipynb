{
  "nbformat": 4,
  "nbformat_minor": 0,
  "metadata": {
    "colab": {
      "provenance": []
    },
    "kernelspec": {
      "name": "python3",
      "display_name": "Python 3"
    },
    "language_info": {
      "name": "python"
    }
  },
  "cells": [
    {
      "cell_type": "markdown",
      "source": [
        "## Install Spark and create SparkSession and SparlCpntext instance"
      ],
      "metadata": {
        "id": "kuhpxciTVf8M"
      }
    },
    {
      "cell_type": "code",
      "source": [
        "!apt-get install openjdk-8-jdk-headless -qq > /dev/null\n",
        "!wget -q https://archive.apache.org/dist/spark/spark-3.5.0/spark-3.5.0-bin-hadoop3.tgz\n",
        "!tar xf spark-3.5.0-bin-hadoop3.tgz\n",
        "\n",
        "import os\n",
        "os.environ[\"JAVA_HOME\"] = \"/usr/lib/jvm/java-8-openjdk-amd64\"\n",
        "os.environ[\"SPARK_HOME\"] = \"/content/spark-3.5.0-bin-hadoop3\"\n",
        "\n",
        "\n",
        "!pip install -q findspark\n",
        "import findspark\n",
        "\n",
        "findspark.init()\n",
        "from pyspark.sql import SparkSession\n",
        "\n",
        "spark = SparkSession.builder \\\n",
        "    .appName(\"PySpark DataFrame Example\") \\\n",
        "    .getOrCreate()\n",
        "sc = spark.sparkContext\n",
        "sc"
      ],
      "metadata": {
        "colab": {
          "base_uri": "https://localhost:8080/",
          "height": 196
        },
        "id": "V7QKnHmsP1w3",
        "outputId": "66dcd94f-a9f3-44d2-9457-b3f5cd523275"
      },
      "execution_count": 1,
      "outputs": [
        {
          "output_type": "execute_result",
          "data": {
            "text/plain": [
              "<SparkContext master=local[*] appName=PySpark DataFrame Example>"
            ],
            "text/html": [
              "\n",
              "        <div>\n",
              "            <p><b>SparkContext</b></p>\n",
              "\n",
              "            <p><a href=\"http://bfe3150d6726:4040\">Spark UI</a></p>\n",
              "\n",
              "            <dl>\n",
              "              <dt>Version</dt>\n",
              "                <dd><code>v3.5.0</code></dd>\n",
              "              <dt>Master</dt>\n",
              "                <dd><code>local[*]</code></dd>\n",
              "              <dt>AppName</dt>\n",
              "                <dd><code>PySpark DataFrame Example</code></dd>\n",
              "            </dl>\n",
              "        </div>\n",
              "        "
            ]
          },
          "metadata": {},
          "execution_count": 1
        }
      ]
    },
    {
      "cell_type": "markdown",
      "source": [
        "# RDD"
      ],
      "metadata": {
        "id": "3gBpbr2EMEqN"
      }
    },
    {
      "cell_type": "code",
      "source": [
        "import requests, os\n",
        "path = \"https://raw.githubusercontent.com/pankajcloudthat/deloitte-pyspark/refs/heads/main/pyspark/dataset/rdd_create/\"\n",
        "\n",
        "\n",
        "if not os.path.exists('pd_dataset'):\n",
        "  os.mkdir(\"pd_dataset\")\n",
        "  os.mkdir(\"pd_dataset/rdd_create\")\n",
        "\n",
        "\n",
        "file_list = ['text01.csv','text02.csv','text03.csv','text04.csv']\n",
        "for fname in file_list:\n",
        "  req = requests.get(path + fname)\n",
        "  csv_file_name = 'pd_dataset/rdd_create/' + fname\n",
        "  with open(csv_file_name, 'wb') as cfile:\n",
        "    cfile.write(req.content)"
      ],
      "metadata": {
        "id": "7jxwn6_lVi9h"
      },
      "execution_count": 17,
      "outputs": []
    },
    {
      "cell_type": "code",
      "source": [
        "import numpy as np"
      ],
      "metadata": {
        "id": "r-AAOhjg5Izs"
      },
      "execution_count": 18,
      "outputs": []
    },
    {
      "cell_type": "code",
      "source": [
        "data = np.arange(1, 13)\n",
        "distData = sc.parallelize(data, 3)"
      ],
      "metadata": {
        "id": "Hwy9QyJa5V-9"
      },
      "execution_count": 19,
      "outputs": []
    },
    {
      "cell_type": "code",
      "source": [
        "distData.collect()"
      ],
      "metadata": {
        "colab": {
          "base_uri": "https://localhost:8080/"
        },
        "id": "52qQl4So5eTm",
        "outputId": "d88697cd-0eab-4889-fd9c-be2c258d40c0"
      },
      "execution_count": 20,
      "outputs": [
        {
          "output_type": "execute_result",
          "data": {
            "text/plain": [
              "[1, 2, 3, 4, 5, 6, 7, 8, 9, 10, 11, 12]"
            ]
          },
          "metadata": {},
          "execution_count": 20
        }
      ]
    },
    {
      "cell_type": "code",
      "source": [
        "distData.glom().collect()"
      ],
      "metadata": {
        "colab": {
          "base_uri": "https://localhost:8080/"
        },
        "id": "0KTD5ewL5jrc",
        "outputId": "c6d8144c-42c8-4d93-f33d-115fb7dc4a12"
      },
      "execution_count": 21,
      "outputs": [
        {
          "output_type": "execute_result",
          "data": {
            "text/plain": [
              "[[1, 2, 3, 4], [5, 6, 7, 8], [9, 10, 11, 12]]"
            ]
          },
          "metadata": {},
          "execution_count": 21
        }
      ]
    },
    {
      "cell_type": "code",
      "source": [
        "fileData = sc.textFile(\"/content/pd_dataset/rdd_create/text01.csv\")"
      ],
      "metadata": {
        "id": "1ATt-Njr5k8F"
      },
      "execution_count": 22,
      "outputs": []
    },
    {
      "cell_type": "code",
      "source": [
        "fileData.first()"
      ],
      "metadata": {
        "colab": {
          "base_uri": "https://localhost:8080/",
          "height": 35
        },
        "id": "B9pP7coM7fqo",
        "outputId": "8a2849a5-7363-4ce2-90b7-faab87f9638f"
      },
      "execution_count": 23,
      "outputs": [
        {
          "output_type": "execute_result",
          "data": {
            "text/plain": [
              "'Name,email'"
            ],
            "application/vnd.google.colaboratory.intrinsic+json": {
              "type": "string"
            }
          },
          "metadata": {},
          "execution_count": 23
        }
      ]
    },
    {
      "cell_type": "code",
      "source": [
        "rdd1 = fileData.map(lambda r : r.split(','))\n",
        "rdd1.first()"
      ],
      "metadata": {
        "colab": {
          "base_uri": "https://localhost:8080/"
        },
        "id": "VuJZPirq7i1F",
        "outputId": "829856c1-abd7-48e4-d36a-ddfb0b3b31da"
      },
      "execution_count": 24,
      "outputs": [
        {
          "output_type": "execute_result",
          "data": {
            "text/plain": [
              "['Name', 'email']"
            ]
          },
          "metadata": {},
          "execution_count": 24
        }
      ]
    },
    {
      "cell_type": "code",
      "source": [
        "rdd1.collect()"
      ],
      "metadata": {
        "colab": {
          "base_uri": "https://localhost:8080/"
        },
        "id": "n4OZ31SQ7leW",
        "outputId": "d86cf22f-d7da-4dfa-b91d-ff05c9fe5fd2"
      },
      "execution_count": 25,
      "outputs": [
        {
          "output_type": "execute_result",
          "data": {
            "text/plain": [
              "[['Name', 'email'],\n",
              " ['Ravi Goyal', 'ravi.goyal@contoso.com'],\n",
              " ['Ankit Ved', 'ankitv@gmail.com']]"
            ]
          },
          "metadata": {},
          "execution_count": 25
        }
      ]
    },
    {
      "cell_type": "code",
      "source": [
        "header = fileData.first()\n",
        "header"
      ],
      "metadata": {
        "colab": {
          "base_uri": "https://localhost:8080/",
          "height": 35
        },
        "id": "LrU-Il5P7nrt",
        "outputId": "ba5a40ac-acfb-4644-daba-dcb0a8727f33"
      },
      "execution_count": 26,
      "outputs": [
        {
          "output_type": "execute_result",
          "data": {
            "text/plain": [
              "'Name,email'"
            ],
            "application/vnd.google.colaboratory.intrinsic+json": {
              "type": "string"
            }
          },
          "metadata": {},
          "execution_count": 26
        }
      ]
    },
    {
      "cell_type": "code",
      "source": [
        "filesData = sc.textFile(\"/content/pd_dataset/rdd_create/*.csv\")\n",
        "filesData.collect()"
      ],
      "metadata": {
        "colab": {
          "base_uri": "https://localhost:8080/"
        },
        "id": "3VddYbmr7rg9",
        "outputId": "ea1117cb-2303-499e-ca5b-d993b68de856"
      },
      "execution_count": 27,
      "outputs": [
        {
          "output_type": "execute_result",
          "data": {
            "text/plain": [
              "['Name,email',\n",
              " 'Ravi Goyal,ravi.goyal@contoso.com',\n",
              " 'Ankit Ved,ankitv@gmail.com',\n",
              " 'Name,email',\n",
              " 'Mohan Mahori,mohan34@gmail.com',\n",
              " 'Atul Malhotra,atul.m@yahoo.com',\n",
              " 'Ramesh Sharma,ramesh.s3@hotmail.com',\n",
              " 'Name,email',\n",
              " 'Mohit Panchal,mohit.p@gmail.com',\n",
              " 'Name,email',\n",
              " 'Rishab Sahu,rishabshau@gmail.com',\n",
              " 'Yukti Badoniya,byukti@gmail.com',\n",
              " 'Nikhil S,nikhils1@hotmail.com']"
            ]
          },
          "metadata": {},
          "execution_count": 27
        }
      ]
    },
    {
      "cell_type": "code",
      "source": [
        "rdd2 = filesData.filter(lambda r: r != header).map(lambda r: r.split(\",\"))\n",
        "rdd2.collect()"
      ],
      "metadata": {
        "colab": {
          "base_uri": "https://localhost:8080/"
        },
        "id": "h05RgVBk71DS",
        "outputId": "b0cd35c2-b02e-4b36-a9e6-569b4037f94d"
      },
      "execution_count": 28,
      "outputs": [
        {
          "output_type": "execute_result",
          "data": {
            "text/plain": [
              "[['Ravi Goyal', 'ravi.goyal@contoso.com'],\n",
              " ['Ankit Ved', 'ankitv@gmail.com'],\n",
              " ['Mohan Mahori', 'mohan34@gmail.com'],\n",
              " ['Atul Malhotra', 'atul.m@yahoo.com'],\n",
              " ['Ramesh Sharma', 'ramesh.s3@hotmail.com'],\n",
              " ['Mohit Panchal', 'mohit.p@gmail.com'],\n",
              " ['Rishab Sahu', 'rishabshau@gmail.com'],\n",
              " ['Yukti Badoniya', 'byukti@gmail.com'],\n",
              " ['Nikhil S', 'nikhils1@hotmail.com']]"
            ]
          },
          "metadata": {},
          "execution_count": 28
        }
      ]
    },
    {
      "cell_type": "code",
      "source": [
        "gmail_rdd = rdd2.filter(lambda x: \"@gmail.com\" in x[1])"
      ],
      "metadata": {
        "id": "mm-aYq3q76pn"
      },
      "execution_count": 29,
      "outputs": []
    },
    {
      "cell_type": "code",
      "source": [
        "gmail_rdd.collect()"
      ],
      "metadata": {
        "colab": {
          "base_uri": "https://localhost:8080/"
        },
        "id": "7iETa3_98O4J",
        "outputId": "d0cf0b5a-5375-4abc-bcd8-095626ee8fb0"
      },
      "execution_count": 30,
      "outputs": [
        {
          "output_type": "execute_result",
          "data": {
            "text/plain": [
              "[['Ankit Ved', 'ankitv@gmail.com'],\n",
              " ['Mohan Mahori', 'mohan34@gmail.com'],\n",
              " ['Mohit Panchal', 'mohit.p@gmail.com'],\n",
              " ['Rishab Sahu', 'rishabshau@gmail.com'],\n",
              " ['Yukti Badoniya', 'byukti@gmail.com']]"
            ]
          },
          "metadata": {},
          "execution_count": 30
        }
      ]
    },
    {
      "cell_type": "code",
      "source": [
        "import os, shutil\n",
        "import csv\n",
        "import uuid\n",
        "\n",
        "def save_rdd_as_csv(rdd, output_dir):\n",
        "\n",
        "    # Ensure output directory exists\n",
        "    if os.path.exists(output_dir):\n",
        "        shutil.rmtree(output_dir)\n",
        "    os.makedirs(output_dir)\n",
        "\n",
        "    # Prepare header for the CSV\n",
        "    header = ['Name', 'Email']\n",
        "\n",
        "    # Write the RDD data into CSV files\n",
        "\n",
        "    filename = os.path.join(output_dir, f\"partition_{uuid.uuid4()}.csv\")\n",
        "    with open(filename, 'w', newline='') as file:\n",
        "        writer = csv.writer(file)\n",
        "        writer.writerow(header)  # Write the header\n",
        "        writer.writerows(rdd.collect())  # Write the record\n",
        "\n",
        "    print(f\"Data saved to CSV files in {output_dir}\")"
      ],
      "metadata": {
        "id": "IOK4Usj48Z_X"
      },
      "execution_count": 31,
      "outputs": []
    },
    {
      "cell_type": "code",
      "source": [
        "output_dir = \"/content/data/gmail_rdd_output/\"\n",
        "save_rdd_as_csv(gmail_rdd, output_dir)"
      ],
      "metadata": {
        "colab": {
          "base_uri": "https://localhost:8080/"
        },
        "id": "4x5RwJYk8BF-",
        "outputId": "8ca9109f-d3b0-4a10-e6d8-40193991e57c"
      },
      "execution_count": 32,
      "outputs": [
        {
          "output_type": "stream",
          "name": "stdout",
          "text": [
            "Data saved to CSV files in /content/data/gmail_rdd_output/\n"
          ]
        }
      ]
    },
    {
      "cell_type": "code",
      "source": [
        "ol_rdd = rdd2.filter(lambda x: \"@outlook.com\" in x[1])\n",
        "output_dir = \"/content/data/ol_rdd_output/\"\n",
        "save_rdd_as_csv(ol_rdd, output_dir)"
      ],
      "metadata": {
        "colab": {
          "base_uri": "https://localhost:8080/"
        },
        "id": "SEU7BooOJzo4",
        "outputId": "7748fa9d-fceb-4274-ebd3-0765dbbae733"
      },
      "execution_count": 33,
      "outputs": [
        {
          "output_type": "stream",
          "name": "stdout",
          "text": [
            "Data saved to CSV files in /content/data/ol_rdd_output/\n"
          ]
        }
      ]
    }
  ]
}