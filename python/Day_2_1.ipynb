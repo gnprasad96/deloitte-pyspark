{
 "cells": [
  {
   "cell_type": "markdown",
   "metadata": {},
   "source": [
    "# File Handling in python\n",
    "\n",
    "File handling in Python allows you to work with files on your system, such as reading, writing, and manipulating file content. Python provides built-in functions for handling files. Below is an explanation of how to handle files in Python with examples:\n",
    "\n",
    "**File Handling Operations**\n",
    "1. Opening a File:\n",
    "    - Use the open() function to open a file in different modes.\n",
    "    - Syntax: open(file_name, mode)\n",
    "1. Reading from a File:\n",
    "    - You can read the contents of a file using read(), readline(), or readlines().\n",
    "    - read(): Reads the entire content.\n",
    "    - readline(): Reads a single line.\n",
    "    - readlines(): Reads all lines and returns them as a list.    \n",
    "1. Writing to a File:\n",
    "    - You can write to a file using write() or writelines().\n",
    "    - write(): Writes a string to the file.\n",
    "    - writelines(): Writes a list of strings to the file.\n",
    "1. Closing a File:\n",
    "    - It's good practice to close the file after performing operations to free up resources using close().\n",
    "\n",
    "1. Modes for Opening Files:\n",
    "<pre>\n",
    "    'r': Read (default mode, file must exist).\n",
    "    'w': Write (creates a new file or truncates an existing file).\n",
    "    'a': Append (writes data to the end of the file).\n",
    "    'b': Binary mode (used for non-text files).\n",
    "    'x': Exclusive creation (creates a new file but fails if the file exists).\n",
    "    't': Text mode (default mode for reading and writing text files).\n",
    "</pre>"
   ]
  },
  {
   "cell_type": "markdown",
   "metadata": {},
   "source": [
    "**Opening and Reading a File**"
   ]
  },
  {
   "cell_type": "code",
   "execution_count": 4,
   "metadata": {},
   "outputs": [
    {
     "name": "stdout",
     "output_type": "stream",
     "text": [
      "This is a python Programming Course. I am learning Python.\n",
      "My Name is Ramesh Yadav.\n",
      "I am a trainer\n",
      "The student name is Priyanka\n"
     ]
    }
   ],
   "source": [
    "# Open the file in read mode ('r')\n",
    "file = open('example.txt', 'r')\n",
    "\n",
    "# Read the entire content of the file\n",
    "content = file.read()\n",
    "\n",
    "# Print the content\n",
    "print(content)\n",
    "\n",
    "# Close the file after reading\n",
    "file.close()"
   ]
  },
  {
   "cell_type": "markdown",
   "metadata": {},
   "source": [
    "> Note:\n",
    "> - Using only the file name, if the file is in current directory, otherwise give full path\n",
    "> - always when we use open() it will return file handle and not the exact file\n",
    "> - Either use the methods read(), readline(), readlines() to read the contents\n",
    "> - once read, we must close and open again"
   ]
  },
  {
   "cell_type": "markdown",
   "metadata": {},
   "source": [
    "**Example: Reading Line by Line**"
   ]
  },
  {
   "cell_type": "code",
   "execution_count": 5,
   "metadata": {},
   "outputs": [
    {
     "name": "stdout",
     "output_type": "stream",
     "text": [
      "This is a python Programming Course. I am learning Python.\n",
      "My Name is Ramesh Yadav.\n",
      "I am a trainer\n",
      "The student name is Priyanka\n"
     ]
    }
   ],
   "source": [
    "# Open the file in read mode\n",
    "file = open('example.txt', 'r')\n",
    "\n",
    "# Read the file line by line\n",
    "for line in file:\n",
    "    print(line.strip())  # strip() removes the newline characters\n",
    "\n",
    "# Close the file\n",
    "file.close()"
   ]
  },
  {
   "cell_type": "markdown",
   "metadata": {},
   "source": [
    "**Using with Statement for File Handling (Recommended)**\n",
    "\n",
    "The ```with``` statement is used to handle files more efficiently. It automatically closes the file after the block of code is executed, even if an error occurs."
   ]
  },
  {
   "cell_type": "code",
   "execution_count": null,
   "metadata": {},
   "outputs": [
    {
     "name": "stdout",
     "output_type": "stream",
     "text": [
      "EmployeeID,Name,Department,MonthlySalary\n",
      "1,Alice,HR,3000\n",
      "2,Bob,Finance,4500\n",
      "3,Charlie,Engineering,5000\n",
      "4,David,Marketing,4000\n",
      "5,Eva,Sales,3500\n"
     ]
    }
   ],
   "source": [
    "# Use 'with' statement to open the file\n",
    "with open('employee.csv', 'r') as file:\n",
    "    content = file.read()\n",
    "    print(content)\n",
    "# No need to call file.close(), it's automatically handled"
   ]
  },
  {
   "cell_type": "markdown",
   "metadata": {},
   "source": [
    "Example: Using readlines() to Read All Lines into a List"
   ]
  },
  {
   "cell_type": "code",
   "execution_count": 9,
   "metadata": {},
   "outputs": [
    {
     "name": "stdout",
     "output_type": "stream",
     "text": [
      "['This is a python Programming Course. I am learning Python.\\n', 'My Name is Ramesh Yadav.\\n', 'I am a trainer\\n', 'The student name is Priyanka']\n",
      "This is a python Programming Course. I am learning Python.\n",
      "My Name is Ramesh Yadav.\n",
      "I am a trainer\n",
      "The student name is Priyanka\n"
     ]
    }
   ],
   "source": [
    "# Read all lines from the file into a list\n",
    "with open('example.txt', 'r') as file:\n",
    "    lines = file.readlines()\n",
    "\n",
    "print(lines)\n",
    "\n",
    "# Print each line\n",
    "for line in lines:\n",
    "    print(line.strip())\n"
   ]
  },
  {
   "cell_type": "markdown",
   "metadata": {},
   "source": [
    "**Example: Writing to a File**"
   ]
  },
  {
   "cell_type": "code",
   "execution_count": 10,
   "metadata": {},
   "outputs": [],
   "source": [
    "# Open the file in write mode ('w')\n",
    "file = open('output.txt', 'w')\n",
    "\n",
    "# Write content to the file\n",
    "file.write('Hello, World!\\n')\n",
    "file.write('This is an example of writing to a file.\\n')\n",
    "\n",
    "# Close the file\n",
    "file.close()"
   ]
  },
  {
   "cell_type": "markdown",
   "metadata": {},
   "source": [
    "**Example: Appending to a File**"
   ]
  },
  {
   "cell_type": "code",
   "execution_count": 11,
   "metadata": {},
   "outputs": [],
   "source": [
    "# Open the file in append mode ('a')\n",
    "file = open('output.txt', 'a')\n",
    "\n",
    "# Append content to the file\n",
    "file.write('This line is appended to the file.\\n')\n",
    "\n",
    "# Close the file\n",
    "file.close()"
   ]
  },
  {
   "cell_type": "code",
   "execution_count": null,
   "metadata": {},
   "outputs": [],
   "source": [
    "fhand = open(\"output.txt\", mode=\"x\")\n",
    "fhand.write(\"This is a Python Programming course\")\n",
    "fhand.close()"
   ]
  },
  {
   "cell_type": "markdown",
   "metadata": {},
   "source": [
    "**Example: Count Lines, Words, and Characters in a File**"
   ]
  },
  {
   "cell_type": "code",
   "execution_count": 13,
   "metadata": {},
   "outputs": [
    {
     "name": "stdout",
     "output_type": "stream",
     "text": [
      "Number of lines: 4\n",
      "Number of words: 24\n",
      "Number of characters: 127\n"
     ]
    }
   ],
   "source": [
    "# Function to count lines, words, and characters in a file\n",
    "def count_file_details(file_name):\n",
    "    # Initialize counters\n",
    "    line_count = 0\n",
    "    word_count = 0\n",
    "    char_count = 0\n",
    "\n",
    "    # Open the file in read mode\n",
    "    with open(file_name, 'r') as file:\n",
    "        # Iterate through each line in the file\n",
    "        for line in file:\n",
    "            line_count += 1  # Increment line counter\n",
    "            words = line.split()  # Split line into words\n",
    "            word_count += len(words)  # Increment word counter by the number of words in the line\n",
    "            char_count += len(line)  # Increment character counter by the length of the line (including spaces)\n",
    "\n",
    "    # Return the counts\n",
    "    return line_count, word_count, char_count\n",
    "\n",
    "# Example usage\n",
    "file_name = 'example.txt'  # Replace with your file path\n",
    "lines, words, chars = count_file_details(file_name)\n",
    "\n",
    "# Display the results\n",
    "print(f\"Number of lines: {lines}\")\n",
    "print(f\"Number of words: {words}\")\n",
    "print(f\"Number of characters: {chars}\")"
   ]
  },
  {
   "cell_type": "markdown",
   "metadata": {},
   "source": [
    "**Example: Read, Calculate Stats, and Write to Another File**\n",
    "<pre>\n",
    "Summary of mbox.txt\n",
    "--------------------\n",
    "Number of lines 132045\n",
    "Number of words 547789\n",
    "Number of characters 6687002\n",
    "Number of vowels: {&apos;a&apos;: 319823, &apos;e&apos;: 385082, &apos;i&apos;: 306085, &apos;o&apos;: 300187, &apos;u&apos;: 203488}\n",
    "Number of consonants: 4195754\n",
    "Number of punctuations: 976583\n",
    "********************\n",
    "</pre>"
   ]
  },
  {
   "cell_type": "code",
   "execution_count": 14,
   "metadata": {},
   "outputs": [],
   "source": [
    "import string\n",
    "\n",
    "# Function to count stats from the file\n",
    "def count_file_stats(file_name):\n",
    "    # Initialize counters\n",
    "    line_count = 0\n",
    "    word_count = 0\n",
    "    char_count = 0\n",
    "    vowel_count = {'a': 0, 'e': 0, 'i': 0, 'o': 0, 'u': 0}\n",
    "    consonant_count = 0\n",
    "    punctuation_count = 0\n",
    "\n",
    "    # Define vowels and punctuation characters\n",
    "    vowels = \"aeiouAEIOU\"\n",
    "    punctuation = string.punctuation  # All punctuation marks\n",
    "\n",
    "    # Open the file in read mode\n",
    "    with open(file_name, 'r') as file:\n",
    "        # Iterate through each line in the file\n",
    "        for line in file:\n",
    "            line_count += 1  # Increment line counter\n",
    "            words = line.split()  # Split line into words\n",
    "            word_count += len(words)  # Increment word counter by the number of words\n",
    "            char_count += len(line)  # Increment character counter by the length of the line (including spaces)\n",
    "\n",
    "            # Count vowels, consonants, and punctuation\n",
    "            for char in line:\n",
    "                if char.lower() in vowels:\n",
    "                    vowel_count[char.lower()] += 1\n",
    "                elif char.isalpha():\n",
    "                    consonant_count += 1\n",
    "                elif char in punctuation:\n",
    "                    punctuation_count += 1\n",
    "\n",
    "    # Return the counts\n",
    "    return line_count, word_count, char_count, vowel_count, consonant_count, punctuation_count\n",
    "\n",
    "# Function to write stats to another file\n",
    "def write_stats_to_file(output_file, stats):\n",
    "    # Open the output file in write mode\n",
    "    with open(output_file, 'w') as file:\n",
    "        # Write the stats to the file\n",
    "        file.write(f\"Number of lines: {stats[0]}\\n\")\n",
    "        file.write(f\"Number of words: {stats[1]}\\n\")\n",
    "        file.write(f\"Number of characters: {stats[2]}\\n\")\n",
    "        file.write(f\"Number of vowels: {stats[3]}\\n\")\n",
    "        file.write(f\"Number of consonants: {stats[4]}\\n\")\n",
    "        file.write(f\"Number of punctuation marks: {stats[5]}\\n\")"
   ]
  },
  {
   "cell_type": "code",
   "execution_count": 15,
   "metadata": {},
   "outputs": [
    {
     "name": "stdout",
     "output_type": "stream",
     "text": [
      "Stats written to stats_output.txt\n"
     ]
    }
   ],
   "source": [
    "# Example usage\n",
    "input_file = 'example.txt'  # Replace with your input file path\n",
    "output_file = 'stats_output.txt'  # Replace with your output file path\n",
    "\n",
    "# Get the stats from the input file\n",
    "stats = count_file_stats(input_file)\n",
    "\n",
    "# Write the stats to the output file\n",
    "write_stats_to_file(output_file, stats)\n",
    "\n",
    "print(f\"Stats written to {output_file}\")"
   ]
  },
  {
   "cell_type": "markdown",
   "metadata": {},
   "source": [
    "### Read and Write Data from CSV File\n",
    "\n",
    "The ```csv``` module in Python provides functionality for working with CSV (Comma-Separated Values) files. It allows you to read, write, and process CSV files efficiently.\n",
    "\n",
    "By importing the csv module, you gain access to methods and classes for handling CSV files. This module is part of Python’s standard library, so you don’t need to install it separately.\n",
    "\n",
    "The ```csv``` module in Python provides two main ways to read data from a CSV file: **csv.reader and csv.DictReader**. Each serves a different purpose and offers distinct advantages.\n",
    "\n",
    "**csv.reader**\n",
    "- Reads the CSV file into a list of lists.\n",
    "- Each row in the CSV file is represented as a list of strings.\n",
    "- Access data by index (e.g., row[0], row[1]).\n",
    "\n",
    "*Advantages:*\n",
    "- Simple and lightweight.\n",
    "- Suitable for files with consistent structure and no need for column names."
   ]
  },
  {
   "cell_type": "markdown",
   "metadata": {},
   "source": [
    "**Example: Read from CSV File**"
   ]
  },
  {
   "cell_type": "code",
   "execution_count": 16,
   "metadata": {},
   "outputs": [
    {
     "name": "stdout",
     "output_type": "stream",
     "text": [
      "Reading data from employees.csv...\n",
      "['EmployeeID', 'Name', 'Department', 'MonthlySalary']\n",
      "['1', 'Alice', 'HR', '3000']\n",
      "['2', 'Bob', 'Finance', '4500']\n",
      "['3', 'Charlie', 'Engineering', '5000']\n",
      "['4', 'David', 'Marketing', '4000']\n",
      "['5', 'Eva', 'Sales', '3500']\n"
     ]
    }
   ],
   "source": [
    "import csv\n",
    "\n",
    "# Define the input file path\n",
    "input_file = 'employee.csv'\n",
    "\n",
    "# Reading the CSV file\n",
    "print(\"Reading data from employees.csv...\")\n",
    "with open(input_file, 'r') as infile:\n",
    "    reader = csv.reader(infile)\n",
    "    \n",
    "    # Iterate through rows and print each row\n",
    "    for row in reader:\n",
    "        print(row)"
   ]
  },
  {
   "cell_type": "markdown",
   "metadata": {},
   "source": [
    "Example"
   ]
  },
  {
   "cell_type": "code",
   "execution_count": 17,
   "metadata": {},
   "outputs": [
    {
     "name": "stdout",
     "output_type": "stream",
     "text": [
      "Name: Alice\t Department: HR\n",
      "Name: Bob\t Department: Finance\n",
      "Name: Charlie\t Department: Engineering\n",
      "Name: David\t Department: Marketing\n",
      "Name: Eva\t Department: Sales\n"
     ]
    }
   ],
   "source": [
    "# Access specific data by index\n",
    "with open('employee.csv', 'r') as file:\n",
    "    reader = csv.reader(file)\n",
    "    next(reader)  # Skip the header\n",
    "    for row in reader:\n",
    "        print(f\"Name: {row[1]}\\t Department: {row[2]}\")"
   ]
  },
  {
   "cell_type": "markdown",
   "metadata": {},
   "source": [
    "**csv.DictReader**\n",
    "- Reads the CSV file into a list of dictionaries.\n",
    "- Each row is represented as a dictionary where:\n",
    "- Keys are column headers (from the first row of the file).\n",
    "- Values are the corresponding data in that row.\n",
    "\n",
    "*Advantages:*\n",
    "- Allows access to data by column name instead of index.\n",
    "- More readable and intuitive for processing structured data."
   ]
  },
  {
   "cell_type": "markdown",
   "metadata": {},
   "source": [
    "Example"
   ]
  },
  {
   "cell_type": "code",
   "execution_count": 18,
   "metadata": {},
   "outputs": [
    {
     "name": "stdout",
     "output_type": "stream",
     "text": [
      "{'EmployeeID': '1', 'Name': 'Alice', 'Department': 'HR', 'MonthlySalary': '3000'}\n",
      "{'EmployeeID': '2', 'Name': 'Bob', 'Department': 'Finance', 'MonthlySalary': '4500'}\n",
      "{'EmployeeID': '3', 'Name': 'Charlie', 'Department': 'Engineering', 'MonthlySalary': '5000'}\n",
      "{'EmployeeID': '4', 'Name': 'David', 'Department': 'Marketing', 'MonthlySalary': '4000'}\n",
      "{'EmployeeID': '5', 'Name': 'Eva', 'Department': 'Sales', 'MonthlySalary': '3500'}\n"
     ]
    }
   ],
   "source": [
    "import csv\n",
    "\n",
    "# Read CSV file using csv.DictReader\n",
    "with open('employee.csv', 'r') as file:\n",
    "    reader = csv.DictReader(file)\n",
    "    \n",
    "    # Iterate over rows\n",
    "    for row in reader:\n",
    "        print(row)  # Each row is a dictionary"
   ]
  },
  {
   "cell_type": "markdown",
   "metadata": {},
   "source": [
    "Example"
   ]
  },
  {
   "cell_type": "code",
   "execution_count": 19,
   "metadata": {},
   "outputs": [
    {
     "name": "stdout",
     "output_type": "stream",
     "text": [
      "Name: Alice \t Department: HR\n",
      "Name: Bob \t Department: Finance\n",
      "Name: Charlie \t Department: Engineering\n",
      "Name: David \t Department: Marketing\n",
      "Name: Eva \t Department: Sales\n"
     ]
    }
   ],
   "source": [
    "# Access specific data by column name\n",
    "with open('employee.csv', 'r') as file:\n",
    "    reader = csv.DictReader(file)\n",
    "    for row in reader:\n",
    "        print(f\"Name: {row['Name']} \\t Department: {row['Department']}\")"
   ]
  },
  {
   "cell_type": "markdown",
   "metadata": {},
   "source": [
    "**Example: Read and Write from/to CSV file**\n",
    "\n",
    "Calculate the yearly salary of employee"
   ]
  },
  {
   "cell_type": "code",
   "execution_count": 20,
   "metadata": {},
   "outputs": [
    {
     "name": "stdout",
     "output_type": "stream",
     "text": [
      "Reading data from employees.csv...\n",
      "Writing data to updated_employees.csv...\n",
      "Data successfully written to updated_employee.csv.\n"
     ]
    }
   ],
   "source": [
    "import csv\n",
    "\n",
    "# Define file paths\n",
    "input_file = 'employee.csv'\n",
    "output_file = 'updated_employee.csv'\n",
    "\n",
    "# Read and process the input CSV\n",
    "print(\"Reading data from employees.csv...\")\n",
    "with open(input_file, 'r') as infile:\n",
    "    reader = csv.DictReader(infile)\n",
    "    updated_data = []\n",
    "\n",
    "    for row in reader:\n",
    "        # Calculate yearly salary\n",
    "        monthly_salary = int(row['MonthlySalary'])\n",
    "        yearly_salary = monthly_salary * 12\n",
    "        \n",
    "        # Add the new field for yearly salary\n",
    "        row['YearlySalary'] = yearly_salary\n",
    "        \n",
    "        # Append updated row to the list\n",
    "        updated_data.append(row)\n",
    "\n",
    "# Write the updated data to a new CSV file\n",
    "print(\"Writing data to updated_employees.csv...\")\n",
    "with open(output_file, 'w', newline='') as outfile:\n",
    "    # Include the new field in the header\n",
    "    fieldnames = ['EmployeeID', 'Name', 'Department', 'MonthlySalary', 'YearlySalary']\n",
    "    writer = csv.DictWriter(outfile, fieldnames=fieldnames)\n",
    "    \n",
    "    # Write the header and rows\n",
    "    writer.writeheader()\n",
    "    writer.writerows(updated_data)\n",
    "\n",
    "print(f\"Data successfully written to {output_file}.\")\n"
   ]
  },
  {
   "cell_type": "markdown",
   "metadata": {},
   "source": [
    "Another Example of writing data in csv format"
   ]
  },
  {
   "cell_type": "code",
   "execution_count": 21,
   "metadata": {},
   "outputs": [
    {
     "name": "stdout",
     "output_type": "stream",
     "text": [
      "Sample CSV file 'student_grades.csv' created successfully.\n"
     ]
    }
   ],
   "source": [
    "import csv\n",
    "\n",
    "# Sample student data\n",
    "students = [\n",
    "    [\"Alice\", 85, 90, 88],\n",
    "    [\"Bob\", 72, 65, 78],\n",
    "    [\"Charlie\", 95, 92, 91],\n",
    "    [\"David\", 80, 75, 82],\n",
    "    [\"Eva\", 88, 92, 90],\n",
    "    [\"Frank\", 60, 65, 70],\n",
    "    [\"Grace\", 91, 93, 92],\n",
    "    [\"Hannah\", 55, 60, 58],\n",
    "    [\"Ivy\", 85, 87, 90],\n",
    "    [\"Jack\", 78, 80, 77],\n",
    "    [\"Kelly\", 90, 92, 91],\n",
    "    [\"Liam\", 67, 70, 75],\n",
    "    [\"Mona\", 80, 85, 84],\n",
    "    [\"Nathan\", 55, 60, 65],\n",
    "    [\"Olivia\", 90, 93, 95]\n",
    "]\n",
    "\n",
    "# Define the output CSV file\n",
    "file_name = 'student_grades.csv'\n",
    "\n",
    "# Writing data to CSV\n",
    "with open(file_name, 'w', newline='') as file:\n",
    "    writer = csv.writer(file)\n",
    "    \n",
    "    # Write the header\n",
    "    writer.writerow([\"StudentName\", \"Grade1\", \"Grade2\", \"Grade3\"])\n",
    "    \n",
    "    # Write student data\n",
    "    writer.writerows(students)\n",
    "\n",
    "print(f\"Sample CSV file '{file_name}' created successfully.\")\n"
   ]
  },
  {
   "cell_type": "markdown",
   "metadata": {},
   "source": [
    "***\n",
    "## Lab Challenge: Student Grade Calculator\n",
    "\n",
    "Create a Python program to calculate the grade of students based on their marks in multiple subjects. The program will:\n",
    "\n",
    "1. Read student data (name and marks for 3 subjects) from a CSV file.\n",
    "1. Calculate the average marks.\n",
    "1. Assign a grade based on the average:\n",
    "    - A: 90-100\n",
    "    - B: 80-89\n",
    "    - C: 70-79\n",
    "    - D: 60-69\n",
    "    - F: Below 60\n",
    "1. Write the results, including the student's name, marks, average, and grade, to another CSV file.\n",
    "\n",
    "**Sample Data**:\n",
    "<pre>\n",
    "Name,Subject1,Subject2,Subject3\n",
    "Alice,85,90,88\n",
    "Bob,72,65,78\n",
    "Charlie,95,92,91\n",
    "David,80,75,82\n",
    "Eva,88,92,90\n",
    "</pre>\n",
    "\n",
    "**Expected Output**:\n",
    "<pre>\n",
    "Name,Subject1,Subject2,Subject3,Average,Grade\n",
    "Alice,85,90,88,87.67,B\n",
    "Bob,72,65,78,71.67,C\n",
    "Charlie,95,92,91,92.67,A\n",
    "David,80,75,82,79.0,C\n",
    "Eva,88,92,90,90.0,A\n",
    "</pre>\n",
    "\n",
    "**Steps:**\n",
    "1. Setup Input File: Create a CSV file (students.csv) with student names and marks in 3 subjects.\n",
    "1. Read Data: Use Python's csv module to read the input file.\n",
    "1. Calculate Results:\n",
    "    - Compute the average of the 3 subject marks.\n",
    "    - Assign grades based on the average.\n",
    "1. Write Results: Write the results to a new CSV file (grades.csv), including the calculated average and grade.\n",
    "1. Test and Validate: Run the program with multiple input scenarios to ensure accuracy."
   ]
  },
  {
   "cell_type": "markdown",
   "metadata": {},
   "source": [
    "**Further challange**\n",
    "\n",
    "*Challenge Tasks:*\n",
    "- Task 1: Extend the grading criteria to include plus/minus grades (e.g., A+, B-).\n",
    "- Task 2: Add error handling to ensure all marks are valid integers between 0 and 100.\n",
    "- Task 3: Allow the user to enter the name of the input and output files at runtime.\n",
    "- Task 4: Sort the output file by grades (descending order) or names (alphabetical order)."
   ]
  },
  {
   "cell_type": "markdown",
   "metadata": {},
   "source": []
  }
 ],
 "metadata": {
  "kernelspec": {
   "display_name": "Python 3",
   "language": "python",
   "name": "python3"
  },
  "language_info": {
   "codemirror_mode": {
    "name": "ipython",
    "version": 3
   },
   "file_extension": ".py",
   "mimetype": "text/x-python",
   "name": "python",
   "nbconvert_exporter": "python",
   "pygments_lexer": "ipython3",
   "version": "3.12.1"
  }
 },
 "nbformat": 4,
 "nbformat_minor": 2
}
