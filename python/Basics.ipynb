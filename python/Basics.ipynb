{
 "cells": [
  {
   "attachments": {},
   "cell_type": "markdown",
   "metadata": {},
   "source": [
    "# Basics"
   ]
  },
  {
   "attachments": {},
   "cell_type": "markdown",
   "metadata": {},
   "source": [
    "## Indentation\n",
    "\n",
    "Most of the programming languages like C, C++, and Java uses bracs {} to define a code block (Each such set of statements is called a block.) however Python uses Indentation.\n",
    "\n",
    "Whitespace at the beginning of the line is important. This is called indentation. \n",
    "\n",
    "Leading whitespace (spaces and tabs) at the beginning of the logical line is used to determine the indentation level of the logical line, which in turn is used to determine the grouping of statements.\n",
    "\n",
    "This means that statements which go together must have the same indentation. \n",
    " \n",
    "One thing you should remember is that wrong indentation can give rise to errors. For example:"
   ]
  },
  {
   "cell_type": "code",
   "execution_count": 3,
   "metadata": {},
   "outputs": [
    {
     "name": "stdout",
     "output_type": "stream",
     "text": [
      "5\n",
      "Value of x is:  5\n"
     ]
    }
   ],
   "source": [
    "x = 5\n",
    "print(x)\n",
    "\n",
    "if x >= 10:\n",
    "    print(x)\n",
    "\n",
    "# Error below! Notice a single space at the start of the line\n",
    "print('Value of x is: ', x)\n",
    "\n",
    "# # This will not execute because of indentation exception\n",
    "# print('hello')"
   ]
  },
  {
   "attachments": {},
   "cell_type": "markdown",
   "metadata": {},
   "source": [
    "How to indent: \n",
    "- Use four spaces for indentation. \n",
    "- This is the official Python language recommendation. \n",
    "- Good editors will automatically do this for you. \n",
    "- Make sure you use a consistent number of spaces for indentation, \n",
    "    otherwise your program will not run or will have unexpected behavior."
   ]
  },
  {
   "cell_type": "code",
   "execution_count": 4,
   "metadata": {},
   "outputs": [
    {
     "name": "stdout",
     "output_type": "stream",
     "text": [
      "5 is less than 6\n",
      "value of x is 5\n"
     ]
    }
   ],
   "source": [
    "x = 5\n",
    "\n",
    "if x <= 6:\n",
    "    print(\"{} is less than 6\".format(x))\n",
    "\n",
    "print(\"value of x is \" + str(x))"
   ]
  },
  {
   "attachments": {},
   "cell_type": "markdown",
   "metadata": {},
   "source": [
    "***"
   ]
  },
  {
   "attachments": {},
   "cell_type": "markdown",
   "metadata": {},
   "source": [
    "## Comment\n",
    "\n",
    "Comment is part of code which is for better understanding of code for developers.​\n",
    "Comments are any text to the right of the # symbol.\n",
    "Comments will be ignored by the Python compiler.​\n",
    "\n",
    "Use as many useful comments as you can in your program to:\n",
    "\n",
    "    - explain assumptions\n",
    "    - explain important decisions\n",
    "    - explain important details\n",
    "    - explain problems you're trying to solve\n",
    "    - explain problems you're trying to overcome in your program, etc.\n",
    "\n",
    "There are two types of comments:​\n",
    "    -   Single line comment​\n",
    "    -   Multi line comment​"
   ]
  },
  {
   "attachments": {},
   "cell_type": "markdown",
   "metadata": {},
   "source": [
    "**Single Line Comment**\n",
    "\n",
    "Single line comments are defined by *# Char*​\n",
    "\n",
    ">\n",
    "    # This is a comment​\n",
    "    # written in​\n",
    "    # more than just one line​\n",
    "    \n",
    "    print(\"Hello, World!\")"
   ]
  },
  {
   "cell_type": "code",
   "execution_count": null,
   "metadata": {},
   "outputs": [],
   "source": [
    "# Example\n",
    "\n",
    "print('hello world') # Note that print is a function"
   ]
  },
  {
   "attachments": {},
   "cell_type": "markdown",
   "metadata": {},
   "source": [
    "**This can also be written as:**"
   ]
  },
  {
   "cell_type": "code",
   "execution_count": null,
   "metadata": {},
   "outputs": [],
   "source": [
    "# Note that print is a function\n",
    "print('hello world')"
   ]
  },
  {
   "attachments": {},
   "cell_type": "markdown",
   "metadata": {},
   "source": [
    "**Multiple Line Comment**\n",
    "Python does not really have a syntax for multiline comments.\n",
    "\n",
    "Since Python will ignore string literals that are not assigned to a variable, you can add a multiline string (triple quotes) in your code, and place your comment inside it\n"
   ]
  },
  {
   "cell_type": "code",
   "execution_count": null,
   "metadata": {},
   "outputs": [],
   "source": [
    "\"\"\"\n",
    "This is a comment\n",
    "written in\n",
    "more than just one line\n",
    "\"\"\"\n",
    "\n",
    "print(\"Hello, World!\")\n",
    "print(x)"
   ]
  },
  {
   "attachments": {},
   "cell_type": "markdown",
   "metadata": {},
   "source": [
    "***"
   ]
  },
  {
   "attachments": {},
   "cell_type": "markdown",
   "metadata": {},
   "source": [
    "## Variables\n",
    "\n",
    "Variables are exactly what the name implies - their value can vary, \n",
    "i.e., you can store anything using a variable. \n",
    "\n",
    "Variables are just parts of your computer's memory where you store some information.\n",
    "You need some method of accessing these variables and hence you give them names."
   ]
  },
  {
   "attachments": {},
   "cell_type": "markdown",
   "metadata": {},
   "source": [
    "**Variables Naming**\n",
    "\n",
    "Variables are names given to identify something. There are some rules you have to follow for naming variables:\n",
    "\n",
    "    - Variable names should have a combination of letters in lowercase (a to z) or uppercase (A to Z) or digits (0 to 9) or an underscore (_).\n",
    "    - Don't start a variable name with a digit.\n",
    "    - Use capital letters possible to declare a constant.​\n",
    "    - Give some meaningful name to variable.\n",
    "    - Never use special symbols like !, @, #, $, %, etc.\n",
    "    - variable names are case-sensitive. For example, myname and myName are not the same.\n",
    "    - Examples of valid variable names are \n",
    "        - i, \n",
    "        - name_2_3. \n",
    "        \n",
    "    - Examples of invalid identifier names are \n",
    "        - 2things, \n",
    "        - speed of light, \n",
    "        - my-name\n",
    "        - $a1b2_c3"
   ]
  },
  {
   "cell_type": "code",
   "execution_count": 6,
   "metadata": {},
   "outputs": [],
   "source": [
    "speed_of_light = 10"
   ]
  },
  {
   "cell_type": "code",
   "execution_count": 8,
   "metadata": {},
   "outputs": [
    {
     "name": "stdout",
     "output_type": "stream",
     "text": [
      "Ankit\n"
     ]
    }
   ],
   "source": [
    "myname = \"pankaj\"\n",
    "myName = \"Ankit\"\n",
    "\n",
    "print(myName)"
   ]
  },
  {
   "cell_type": "code",
   "execution_count": 9,
   "metadata": {},
   "outputs": [
    {
     "name": "stdout",
     "output_type": "stream",
     "text": [
      "pankaj\n"
     ]
    }
   ],
   "source": [
    "print(myname)"
   ]
  },
  {
   "cell_type": "code",
   "execution_count": 10,
   "metadata": {},
   "outputs": [
    {
     "name": "stdout",
     "output_type": "stream",
     "text": [
      "Area of the circle is 79.0\n"
     ]
    }
   ],
   "source": [
    "import math\n",
    "\n",
    "# radius of the circle\n",
    "radius = 5\n",
    "\n",
    "# Calculate area of circle 3.14 * r * r\n",
    "area = round(math.pi * pow(radius,2), 0)\n",
    "\n",
    "print(\"Area of the circle is {}\".format(area))"
   ]
  },
  {
   "cell_type": "code",
   "execution_count": 11,
   "metadata": {},
   "outputs": [
    {
     "name": "stdout",
     "output_type": "stream",
     "text": [
      "5\n",
      "a\n"
     ]
    }
   ],
   "source": [
    "x = 5\n",
    "print(x)\n",
    "\n",
    "x = 'a'\n",
    "print(x)"
   ]
  },
  {
   "attachments": {},
   "cell_type": "markdown",
   "metadata": {},
   "source": [
    "> **Important**: \n",
    "> \n",
    "> Python is a type-inferred language, so you don't have to explicitly define the variable type. \n",
    "> It automatically knows that **x** is a string and declares the **x** variable as a string.\n",
    "\n",
    "Variables can hold values of different types called data types. The basic types are numbers and strings."
   ]
  },
  {
   "attachments": {},
   "cell_type": "markdown",
   "metadata": {},
   "source": [
    "To Check the type of variable"
   ]
  },
  {
   "cell_type": "code",
   "execution_count": 13,
   "metadata": {},
   "outputs": [
    {
     "name": "stdout",
     "output_type": "stream",
     "text": [
      "<class 'int'>\n",
      "\n",
      "<class 'str'>\n"
     ]
    }
   ],
   "source": [
    "x = 5\n",
    "print(type(x), end='\\n\\n')\n",
    "\n",
    "x = 'a'\n",
    "print(type(x))"
   ]
  },
  {
   "attachments": {},
   "cell_type": "markdown",
   "metadata": {},
   "source": [
    "***"
   ]
  },
  {
   "attachments": {},
   "cell_type": "markdown",
   "metadata": {},
   "source": [
    "## Data types ​"
   ]
  },
  {
   "attachments": {},
   "cell_type": "markdown",
   "metadata": {},
   "source": [
    "**Different types of Data types and  Structures**\n",
    "\n",
    "Primitive Data Structures​\n",
    "- Integer​\n",
    "- Float​\n",
    "- Boolean​\n",
    "- Strings​\n",
    "\n",
    "Non-primitive Data Structures​\n",
    "- List​\n",
    "- Tuple​\n",
    "- Dictionary​\n",
    "- Sets​"
   ]
  },
  {
   "attachments": {},
   "cell_type": "markdown",
   "metadata": {},
   "source": [
    "**Integer**\n",
    "\n",
    "- Int, or integer, is a whole number, positive or negative, without decimals, of unlimited length.​\n",
    "- You can get the data type of any object by using the type() function:​"
   ]
  },
  {
   "cell_type": "code",
   "execution_count": 14,
   "metadata": {},
   "outputs": [
    {
     "name": "stdout",
     "output_type": "stream",
     "text": [
      "<class 'int'>\n",
      "<class 'int'>\n",
      "<class 'int'>\n"
     ]
    }
   ],
   "source": [
    "\n",
    "x = 2\n",
    "y = 36363673777377773\n",
    "z = -363674838\n",
    "\n",
    "\n",
    "print(type(x))\n",
    "print(type(y))\n",
    "print(type(z))"
   ]
  },
  {
   "attachments": {},
   "cell_type": "markdown",
   "metadata": {},
   "source": [
    "**Float**\n",
    "\n",
    "- Float, or \"floating point number\" is a number, positive or negative, containing one or more decimals.​"
   ]
  },
  {
   "cell_type": "code",
   "execution_count": 15,
   "metadata": {},
   "outputs": [
    {
     "name": "stdout",
     "output_type": "stream",
     "text": [
      "0.00523\n",
      "<class 'float'>\n",
      "<class 'float'>\n",
      "<class 'float'>\n"
     ]
    }
   ],
   "source": [
    "x = 1.10\n",
    "y = 52.3E-4\n",
    "z = -35.59\n",
    "\n",
    "print(y)\n",
    "\n",
    "print(type(x))\n",
    "print(type(y))\n",
    "print(type(z))"
   ]
  },
  {
   "attachments": {},
   "cell_type": "markdown",
   "metadata": {},
   "source": [
    "**String​**\n",
    "\n",
    "- A string is a sequence of characters. \n",
    "- Strings are basically just a bunch of words.\n",
    "- You will be using strings in almost every Python program that you \n",
    "\n",
    "> **Strings Are Immutable**: This means that once you have created a string, you cannot change it. "
   ]
  },
  {
   "cell_type": "code",
   "execution_count": 16,
   "metadata": {},
   "outputs": [
    {
     "name": "stdout",
     "output_type": "stream",
     "text": [
      "Single quote string:\n",
      "What is your name?\n",
      "<class 'str'>\n"
     ]
    }
   ],
   "source": [
    "# Single quote string:\n",
    "# \n",
    "# - You can specify strings using single quotes such as 'Quote me on this'.\n",
    "# - All white space i.e. spaces and tabs, within the quotes, are preserved as-is.\n",
    "\n",
    "str = 'What is your name?'\n",
    "print(\"Single quote string:\")\n",
    "print(str)\n",
    "print(type(str))"
   ]
  },
  {
   "cell_type": "code",
   "execution_count": 17,
   "metadata": {},
   "outputs": [
    {
     "name": "stdout",
     "output_type": "stream",
     "text": [
      "Pankaj\n",
      "\n",
      "Double quote string:\n",
      "What is your name?\n",
      "<class 'str'>\n",
      "Triple Quotes string:\n"
     ]
    }
   ],
   "source": [
    "# Double quote string:\n",
    "# Strings in double quotes work exactly the same way as strings in single quotes\n",
    "\n",
    "str = \"What is your name?\"\n",
    "\n",
    "print(\"Pankaj\", end='\\n\\n')\n",
    "print(\"Double quote string:\")\n",
    "print(str)\n",
    "print(type(str))\n",
    "\n",
    "print(\"\"\"Triple Quotes string:\"\"\")"
   ]
  },
  {
   "cell_type": "code",
   "execution_count": 18,
   "metadata": {},
   "outputs": [
    {
     "name": "stdout",
     "output_type": "stream",
     "text": [
      "\n",
      "\n",
      "Triple quote string:\n",
      "First line.\n",
      "Second line.\n",
      "\"What's your name?,\" I asked.\n",
      "He said 'Bond, James Bond.'\n",
      "\n",
      "<class 'str'>\n"
     ]
    }
   ],
   "source": [
    "# Triple Quotes:\n",
    "# \n",
    "# You can specify multi-line strings using triple quotes - (\"\"\" or '''). \n",
    "# You can use single quotes and double quotes freely within the triple quotes.\n",
    "\n",
    "str = '''First line.\n",
    "Second line.\n",
    "\"What's your name?,\" I asked.\n",
    "He said 'Bond, James Bond.'\n",
    "'''\n",
    "\n",
    "print(\"\", end='\\n\\n')\n",
    "print(\"Triple quote string:\")\n",
    "print(str)\n",
    "print(type(str))"
   ]
  },
  {
   "cell_type": "code",
   "execution_count": 19,
   "metadata": {},
   "outputs": [
    {
     "name": "stdout",
     "output_type": "stream",
     "text": [
      "c\n"
     ]
    }
   ],
   "source": [
    "# Immutable string\n",
    "\n",
    "x = \"abc\"\n",
    "\n",
    "print(x[2])"
   ]
  },
  {
   "cell_type": "code",
   "execution_count": 20,
   "metadata": {},
   "outputs": [
    {
     "ename": "TypeError",
     "evalue": "'str' object does not support item assignment",
     "output_type": "error",
     "traceback": [
      "\u001b[1;31m---------------------------------------------------------------------------\u001b[0m",
      "\u001b[1;31mTypeError\u001b[0m                                 Traceback (most recent call last)",
      "Cell \u001b[1;32mIn[20], line 2\u001b[0m\n\u001b[0;32m      1\u001b[0m \u001b[38;5;66;03m# when you try to modify its give the error.\u001b[39;00m\n\u001b[1;32m----> 2\u001b[0m \u001b[43mx\u001b[49m\u001b[43m[\u001b[49m\u001b[38;5;241;43m0\u001b[39;49m\u001b[43m]\u001b[49m \u001b[38;5;241m=\u001b[39m \u001b[38;5;124m'\u001b[39m\u001b[38;5;124mx\u001b[39m\u001b[38;5;124m'\u001b[39m\n",
      "\u001b[1;31mTypeError\u001b[0m: 'str' object does not support item assignment"
     ]
    }
   ],
   "source": [
    "# when you try to modify its give the error.\n",
    "x[0] = 'x'"
   ]
  },
  {
   "attachments": {},
   "cell_type": "markdown",
   "metadata": {},
   "source": [
    "**Format string**\n",
    "\n",
    "Sometimes we may want to construct strings from other information. This is where the format() method is useful."
   ]
  },
  {
   "cell_type": "code",
   "execution_count": 2,
   "metadata": {},
   "outputs": [
    {
     "name": "stdout",
     "output_type": "stream",
     "text": [
      "Produt Pen price is 45.6 Rs.\n",
      "Total cost for 10 Pen is 456.0\n"
     ]
    }
   ],
   "source": [
    "price = 45.6\n",
    "units = 10\n",
    "name = 'Pen'\n",
    "\n",
    "print('Produt {0} price is {1} Rs.'.format(name, price))\n",
    "print('Total cost for {u} {n} is {tot}'.format(n=name, u=units, tot=units*price))"
   ]
  },
  {
   "cell_type": "code",
   "execution_count": 24,
   "metadata": {},
   "outputs": [
    {
     "name": "stdout",
     "output_type": "stream",
     "text": [
      "a b c\n"
     ]
    }
   ],
   "source": [
    "print('a', end=' ')\n",
    "print('b', end=' ')\n",
    "print('c')"
   ]
  },
  {
   "cell_type": "code",
   "execution_count": 3,
   "metadata": {},
   "outputs": [
    {
     "name": "stdout",
     "output_type": "stream",
     "text": [
      "Product Pen total price is 456.0\n"
     ]
    }
   ],
   "source": [
    "str = f\"Product {name} total price is {price * units}\"\n",
    "print(str)"
   ]
  },
  {
   "cell_type": "code",
   "execution_count": null,
   "metadata": {},
   "outputs": [],
   "source": []
  }
 ],
 "metadata": {
  "kernelspec": {
   "display_name": "Python 3",
   "language": "python",
   "name": "python3"
  },
  "language_info": {
   "codemirror_mode": {
    "name": "ipython",
    "version": 3
   },
   "file_extension": ".py",
   "mimetype": "text/x-python",
   "name": "python",
   "nbconvert_exporter": "python",
   "pygments_lexer": "ipython3",
   "version": "3.12.1"
  },
  "orig_nbformat": 4,
  "vscode": {
   "interpreter": {
    "hash": "52634da84371cba311ea128a5ea7cdc41ff074b781779e754b270ff9f8153cee"
   }
  }
 },
 "nbformat": 4,
 "nbformat_minor": 2
}
