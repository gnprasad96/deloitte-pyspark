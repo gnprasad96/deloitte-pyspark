{
 "cells": [
  {
   "cell_type": "markdown",
   "metadata": {},
   "source": [
    "# Exception Handling"
   ]
  },
  {
   "cell_type": "code",
   "execution_count": 2,
   "metadata": {},
   "outputs": [
    {
     "name": "stdout",
     "output_type": "stream",
     "text": [
      "Hello world\n",
      "Hello world\n",
      "Hello world\n",
      "Hello world\n",
      "Hello world\n",
      "Hello world\n",
      "Hello world\n",
      "Hello world\n",
      "Hello world\n",
      "Hello world\n",
      "Hello world\n"
     ]
    }
   ],
   "source": [
    "i=0\n",
    "while True:\n",
    "  print(\"Hello world\")\n",
    "  if (i==10):\n",
    "    break\n",
    "  i +=1"
   ]
  },
  {
   "cell_type": "markdown",
   "metadata": {},
   "source": [
    "#Exception Handling"
   ]
  },
  {
   "cell_type": "code",
   "execution_count": 3,
   "metadata": {},
   "outputs": [
    {
     "ename": "NameError",
     "evalue": "name 'demo' is not defined",
     "output_type": "error",
     "traceback": [
      "\u001b[1;31m---------------------------------------------------------------------------\u001b[0m",
      "\u001b[1;31mNameError\u001b[0m                                 Traceback (most recent call last)",
      "Cell \u001b[1;32mIn[3], line 1\u001b[0m\n\u001b[1;32m----> 1\u001b[0m \u001b[38;5;241m4\u001b[39m \u001b[38;5;241m+\u001b[39m \u001b[43mdemo\u001b[49m\u001b[38;5;241m*\u001b[39m\u001b[38;5;241m3\u001b[39m\n",
      "\u001b[1;31mNameError\u001b[0m: name 'demo' is not defined"
     ]
    }
   ],
   "source": [
    "4 + demo*3"
   ]
  },
  {
   "cell_type": "code",
   "execution_count": null,
   "metadata": {},
   "outputs": [
    {
     "ename": "ZeroDivisionError",
     "evalue": "division by zero",
     "output_type": "error",
     "traceback": [
      "\u001b[1;31m---------------------------------------------------------------------------\u001b[0m\n",
      "\u001b[1;31mZeroDivisionError\u001b[0m                         Traceback (most recent call last)\n",
      "Cell \u001b[1;32mIn[3], line 1\u001b[0m\n",
      "\u001b[1;32m----> 1\u001b[0m \u001b[38;5;241;43m10\u001b[39;49m\u001b[38;5;241;43m/\u001b[39;49m\u001b[38;5;241;43m0\u001b[39;49m\n",
      "\n",
      "\u001b[1;31mZeroDivisionError\u001b[0m: division by zero"
     ]
    }
   ],
   "source": [
    "10/0"
   ]
  },
  {
   "cell_type": "code",
   "execution_count": null,
   "metadata": {},
   "outputs": [
    {
     "ename": "TypeError",
     "evalue": "can only concatenate str (not \"int\") to str",
     "output_type": "error",
     "traceback": [
      "\u001b[1;31m---------------------------------------------------------------------------\u001b[0m\n",
      "\u001b[1;31mTypeError\u001b[0m                                 Traceback (most recent call last)\n",
      "Cell \u001b[1;32mIn[5], line 1\u001b[0m\n",
      "\u001b[1;32m----> 1\u001b[0m \u001b[38;5;124;43m'\u001b[39;49m\u001b[38;5;124;43m2\u001b[39;49m\u001b[38;5;124;43m'\u001b[39;49m\u001b[43m \u001b[49m\u001b[38;5;241;43m+\u001b[39;49m\u001b[43m \u001b[49m\u001b[38;5;241;43m3\u001b[39;49m\n",
      "\n",
      "\u001b[1;31mTypeError\u001b[0m: can only concatenate str (not \"int\") to str"
     ]
    }
   ],
   "source": [
    "'2' + 3"
   ]
  },
  {
   "cell_type": "code",
   "execution_count": null,
   "metadata": {},
   "outputs": [
    {
     "name": "stdout",
     "output_type": "stream",
     "text": [
      "1.0\n"
     ]
    }
   ],
   "source": [
    "try:\n",
    "    x=int(input(\"enter the number:\"))\n",
    "    y=10/x\n",
    "    print(y)\n",
    "except ZeroDivisionError:\n",
    "    print(\"enter a valid number greater than 0\")  "
   ]
  },
  {
   "cell_type": "code",
   "execution_count": 4,
   "metadata": {},
   "outputs": [
    {
     "name": "stdout",
     "output_type": "stream",
     "text": [
      "the user has not defined the variable bb\n"
     ]
    }
   ],
   "source": [
    "try:\n",
    "  aa=bb\n",
    "except NameError:\n",
    "  print(\"the user has not defined the variable bb\")  "
   ]
  },
  {
   "cell_type": "code",
   "execution_count": 5,
   "metadata": {},
   "outputs": [
    {
     "name": "stdout",
     "output_type": "stream",
     "text": [
      "Enter a valid integer\n"
     ]
    }
   ],
   "source": [
    "try:\n",
    "  x, y = 1, '2'\n",
    "  z=x+y\n",
    "except TypeError:\n",
    "  print(\"Enter a valid integer\")\n"
   ]
  },
  {
   "cell_type": "code",
   "execution_count": 6,
   "metadata": {},
   "outputs": [
    {
     "name": "stdout",
     "output_type": "stream",
     "text": [
      "the execution is done\n"
     ]
    },
    {
     "ename": "ValueError",
     "evalue": "invalid literal for int() with base 10: ''",
     "output_type": "error",
     "traceback": [
      "\u001b[1;31m---------------------------------------------------------------------------\u001b[0m",
      "\u001b[1;31mValueError\u001b[0m                                Traceback (most recent call last)",
      "Cell \u001b[1;32mIn[6], line 2\u001b[0m\n\u001b[0;32m      1\u001b[0m \u001b[38;5;28;01mtry\u001b[39;00m:\n\u001b[1;32m----> 2\u001b[0m   x\u001b[38;5;241m=\u001b[39m\u001b[38;5;28;43mint\u001b[39;49m\u001b[43m(\u001b[49m\u001b[38;5;28;43minput\u001b[39;49m\u001b[43m(\u001b[49m\u001b[38;5;124;43m\"\u001b[39;49m\u001b[38;5;124;43menter the number \u001b[39;49m\u001b[38;5;124;43m\"\u001b[39;49m\u001b[43m)\u001b[49m\u001b[43m)\u001b[49m\n\u001b[0;32m      3\u001b[0m   y\u001b[38;5;241m=\u001b[39m\u001b[38;5;241m20\u001b[39m\u001b[38;5;241m/\u001b[39mx\n\u001b[0;32m      4\u001b[0m \u001b[38;5;28;01mexcept\u001b[39;00m \u001b[38;5;167;01mZeroDivisionError\u001b[39;00m:\n",
      "\u001b[1;31mValueError\u001b[0m: invalid literal for int() with base 10: ''"
     ]
    }
   ],
   "source": [
    "try:\n",
    "  x=int(input(\"enter the number \"))\n",
    "  y=20/x\n",
    "except ZeroDivisionError:\n",
    "  print(\"Enter number greater than 0\")\n",
    "else:\n",
    "  print(\"quotient is\",y)\n",
    "finally:\n",
    "  print(\"the execution is done\")      "
   ]
  },
  {
   "cell_type": "code",
   "execution_count": 7,
   "metadata": {},
   "outputs": [
    {
     "name": "stdout",
     "output_type": "stream",
     "text": [
      "Enter a valid Integer in ValueError\n"
     ]
    }
   ],
   "source": [
    "try:\n",
    "  x=int(input(\"Enter the number\"))\n",
    "  y=20/x\n",
    "except TypeError:\n",
    "  print(\"Enter a valid Integer in TypeError\")\n",
    "except ValueError:\n",
    "  print(\"Enter a valid Integer in ValueError\")\n",
    "except ZeroDivisionError:\n",
    "  print(\"Enter a valid integer greater than 0\")  \n"
   ]
  },
  {
   "cell_type": "code",
   "execution_count": 8,
   "metadata": {},
   "outputs": [
    {
     "name": "stdout",
     "output_type": "stream",
     "text": [
      "Try Block\n",
      "except ValueError block\n",
      "Value not accepted\n",
      "Finally Block\n",
      "Out of try, except, else and finally blocks.\n"
     ]
    }
   ],
   "source": [
    "try:  # Code that might raise an exception\n",
    "    print('Try Block')\n",
    "    x=int(input('Enter a number: '))\n",
    "    y=int(input('Enter another number: '))\n",
    "    z=x/y\n",
    "except ZeroDivisionError:  # Handle exception\n",
    "    print(\"except ZeroDivisionError block\")\n",
    "    print(\"Division by 0 not accepted\")\n",
    "except ValueError:  # Handle exception\n",
    "    print(\"except ValueError block\")\n",
    "    print(\"Value not accepted\")\n",
    "else: # Execute if no exception occurs\n",
    "    print(\"Else Block\")\n",
    "    print(\"Division = \", z)\n",
    "finally: # Always execute, used for cleanup\n",
    "    print(\"Finally Block\")\n",
    "    \n",
    "print (\"Out of try, except, else and finally blocks.\" )"
   ]
  },
  {
   "cell_type": "code",
   "execution_count": 9,
   "metadata": {},
   "outputs": [
    {
     "name": "stdout",
     "output_type": "stream",
     "text": [
      "division by zero\n"
     ]
    }
   ],
   "source": [
    "try:\n",
    "  x=1/0\n",
    "except Exception as ex:\n",
    "  print(ex)  "
   ]
  },
  {
   "cell_type": "markdown",
   "metadata": {},
   "source": [
    "**Custom Exception**\n",
    "\n",
    "Creating a custom exception in Python allows you to define your own error types for specific situations in your program. To create a custom exception, you typically subclass the built-in Exception class.\n",
    "\n",
    "**Steps to Create a Custom Exception:**\n",
    "1. Define a new class that inherits from Exception (or any of its subclasses).\n",
    "1. Customize the exception by defining the ```__init__()``` method (optional) and any other functionality you need.\n",
    "1. Raise the custom exception using the raise keyword."
   ]
  },
  {
   "cell_type": "markdown",
   "metadata": {},
   "source": [
    "**Basic Custom Exception:**\n",
    "\n",
    "Let's create a simple custom exception called InvalidAgeError, which will be raised when an invalid age (less than 0) is provided."
   ]
  },
  {
   "cell_type": "code",
   "execution_count": 10,
   "metadata": {},
   "outputs": [
    {
     "name": "stdout",
     "output_type": "stream",
     "text": [
      "Error: Age cannot be negative (Age: -5)\n"
     ]
    }
   ],
   "source": [
    "class InvalidAgeError(Exception):\n",
    "    \"\"\"Custom exception raised when an invalid age is provided.\"\"\"\n",
    "    \n",
    "    def __init__(self, age, message=\"Age cannot be negative\"):\n",
    "        self.age = age\n",
    "        self.message = message\n",
    "        super().__init__(self.message)\n",
    "\n",
    "# Function that raises the custom exception\n",
    "def check_age(age):\n",
    "    if age < 0:\n",
    "        raise InvalidAgeError(age)\n",
    "    return f\"Age {age} is valid!\"\n",
    "\n",
    "# Example usage:\n",
    "try:\n",
    "    print(check_age(-5))  # Invalid age\n",
    "except InvalidAgeError as e:\n",
    "    print(f\"Error: {e} (Age: {e.age})\")"
   ]
  },
  {
   "cell_type": "markdown",
   "metadata": {},
   "source": [
    "**Custom Exception with Multiple Parameters**\n",
    "\n",
    "In some cases, you might want your custom exception to accept more than one argument (for example, an error code along with the message)."
   ]
  },
  {
   "cell_type": "code",
   "execution_count": 11,
   "metadata": {},
   "outputs": [
    {
     "name": "stdout",
     "output_type": "stream",
     "text": [
      "Error Code 101: Data must be a list\n"
     ]
    }
   ],
   "source": [
    "class CustomError(Exception):\n",
    "    \"\"\"Custom exception with an error code and message.\"\"\"\n",
    "    \n",
    "    def __init__(self, code, message=\"An error occurred\"):\n",
    "        self.code = code\n",
    "        self.message = message\n",
    "        super().__init__(f\"Error Code {self.code}: {self.message}\")\n",
    "\n",
    "# Function that raises the custom exception\n",
    "def process_data(data):\n",
    "    if not isinstance(data, list):\n",
    "        raise CustomError(101, \"Data must be a list\")\n",
    "    return \"Data processed successfully\"\n",
    "\n",
    "# Example usage:\n",
    "try:\n",
    "    print(process_data(\"Not a list\"))  # Invalid data type\n",
    "except CustomError as e:\n",
    "    print(e)  # Print custom error message with error code"
   ]
  },
  {
   "cell_type": "markdown",
   "metadata": {},
   "source": [
    "## Lab Challenge: Custom Exception Handling\n",
    "\n",
    "In this lab challenge, you will practice creating and using custom exceptions in Python. You will build a program that simulates a Bank Account system. You will define custom exceptions for various error scenarios such as insufficient balance, invalid withdrawal amount, and invalid account number.\n",
    "\n",
    "**Problem Statement:**\n",
    "\n",
    "1. **BankAccount Class:**\n",
    "    - Create a BankAccount class that represents a bank account with the following properties:\n",
    "        - **account_number**: A unique account number (string).\n",
    "        - **balance**: The account's balance (float).\n",
    "    -   The class should have the following methods:\n",
    "        - **deposit(amount)**: Deposit a certain amount into the account. The amount should be a positive value.\n",
    "        - **withdraw(amount)**: Withdraw a certain amount from the account. The amount should be a positive value, and the withdrawal should not exceed the available balance.\n",
    "        - **get_balance()**: Returns the current balance of the account.\n",
    "1. Custom Exceptions:\n",
    "    - **InvalidAccountError**: Raised when an invalid account number is provided (e.g., an empty string or an account number that does not follow the required format).\n",
    "    - **InsufficientBalanceError**: Raised when there are not enough funds in the account to complete a withdrawal.\n",
    "    - **InvalidAmountError**: Raised when the deposit or withdrawal amount is negative or zero.\n",
    "1. Program Flow:\n",
    "\n",
    "    - You will create a BankAccount object and simulate deposit and withdrawal operations.\n",
    "    - Handle all the potential errors using custom exceptions and ensure meaningful error messages are displayed when an exception is caught."
   ]
  },
  {
   "cell_type": "markdown",
   "metadata": {},
   "source": [
    "**Step-by-Step Instructions:**\n",
    "1. Define Custom Exceptions: Create three custom exceptions:\n",
    "    - ```InvalidAccountError```\n",
    "    - ```InsufficientBalanceError```\n",
    "    - ```InvalidAmountError```\n",
    "1. Create the ```BankAccount``` Class: Define a class with methods for depositing, withdrawing, and checking the balance.\n",
    "1. Simulate Transactions:\n",
    "    - Create a ```BankAccount``` instance.\n",
    "    - Perform deposit and withdrawal actions.\n",
    "    - Test different error scenarios and catch the corresponding exceptions.\n",
    "1. Handle Exceptions: Use ```try```, ```except```, and ```finally``` to handle exceptions raised in the ```BankAccount``` methods."
   ]
  }
 ],
 "metadata": {
  "kernelspec": {
   "display_name": "Python 3",
   "language": "python",
   "name": "python3"
  },
  "language_info": {
   "codemirror_mode": {
    "name": "ipython",
    "version": 3
   },
   "file_extension": ".py",
   "mimetype": "text/x-python",
   "name": "python",
   "nbconvert_exporter": "python",
   "pygments_lexer": "ipython3",
   "version": "3.12.1"
  }
 },
 "nbformat": 4,
 "nbformat_minor": 2
}
