{
 "cells": [
  {
   "cell_type": "markdown",
   "metadata": {},
   "source": [
    "# Object Oriented Programming\n",
    "\n",
    "Object-Oriented Programming (OOP) is a programming paradigm based on the concept of objects, which can contain data (attributes) and code (methods). In Python, OOP helps organize code for better reusability, scalability, and maintainability."
   ]
  },
  {
   "cell_type": "markdown",
   "metadata": {},
   "source": [
    "**Key OOP Concepts in Python**\n",
    "1. Class: A blueprint for creating objects.\n",
    "1. Object: An instance of a class.\n",
    "1. Encapsulation: Restricting access to certain components (e.g., using private variables).\n",
    "1. Inheritance: Deriving new classes from existing ones.\n",
    "1. Polymorphism: Different classes having methods with the same name but different behavior.\n",
    "1. Abstraction: Hiding unnecessary implementation details from the user.\n"
   ]
  },
  {
   "cell_type": "markdown",
   "metadata": {},
   "source": [
    "---\n",
    "### Class and Object"
   ]
  },
  {
   "cell_type": "code",
   "execution_count": 1,
   "metadata": {},
   "outputs": [],
   "source": [
    "class Person:\n",
    "    # Class attribute\n",
    "    species = \"Homo sapiens\"\n",
    "\n",
    "    def __init__(self, name, age):  # Constructor\n",
    "        self.name = name  # Instance attribute\n",
    "        self.age = age\n",
    "\n",
    "    def greet(self):  # Method\n",
    "        return f\"Hello, my name is {self.name} and I am {self.age} years old.\"\n"
   ]
  },
  {
   "cell_type": "code",
   "execution_count": 2,
   "metadata": {},
   "outputs": [
    {
     "name": "stdout",
     "output_type": "stream",
     "text": [
      "Hello, my name is Alice and I am 30 years old.\n",
      "Homo sapiens\n"
     ]
    }
   ],
   "source": [
    "# Creating an object of the class\n",
    "person1 = Person(\"Alice\", 30)\n",
    "\n",
    "# Accessing attributes and methods\n",
    "print(person1.greet())\n",
    "print(person1.species)\n"
   ]
  },
  {
   "cell_type": "code",
   "execution_count": 7,
   "metadata": {},
   "outputs": [
    {
     "name": "stdout",
     "output_type": "stream",
     "text": [
      "Hello, my name is Bob and I am 28 years old.\n",
      "Homo sapiens\n"
     ]
    }
   ],
   "source": [
    "# Creating an object of the class\n",
    "person2 = Person(\"Bob\", 28)\n",
    "\n",
    "# Accessing attributes and methods\n",
    "print(person2.greet())\n",
    "print(person2.species)"
   ]
  },
  {
   "cell_type": "code",
   "execution_count": 8,
   "metadata": {},
   "outputs": [],
   "source": [
    "person2.species = \"New\""
   ]
  },
  {
   "cell_type": "code",
   "execution_count": null,
   "metadata": {},
   "outputs": [
    {
     "name": "stdout",
     "output_type": "stream",
     "text": [
      "New Data\n",
      "New\n"
     ]
    }
   ],
   "source": [
    "print(person1.species)\n",
    "print(person2.species)"
   ]
  },
  {
   "cell_type": "code",
   "execution_count": 16,
   "metadata": {},
   "outputs": [
    {
     "data": {
      "text/plain": [
       "'New Data'"
      ]
     },
     "execution_count": 16,
     "metadata": {},
     "output_type": "execute_result"
    }
   ],
   "source": [
    "Person.species"
   ]
  },
  {
   "cell_type": "code",
   "execution_count": 17,
   "metadata": {},
   "outputs": [
    {
     "name": "stdout",
     "output_type": "stream",
     "text": [
      "['__class__', '__delattr__', '__dict__', '__dir__', '__doc__', '__eq__', '__format__', '__ge__', '__getattribute__', '__getstate__', '__gt__', '__hash__', '__init__', '__init_subclass__', '__le__', '__lt__', '__module__', '__ne__', '__new__', '__reduce__', '__reduce_ex__', '__repr__', '__setattr__', '__sizeof__', '__str__', '__subclasshook__', '__weakref__', 'age', 'greet', 'name', 'species']\n"
     ]
    }
   ],
   "source": [
    "print(dir(person1))"
   ]
  },
  {
   "cell_type": "markdown",
   "metadata": {},
   "source": [
    "**Constructor**\n",
    "\n",
    "A constructor is a special method used to initialize objects. \n",
    "In Python, the ```__init__``` method acts as the constructor. It is automatically called when an object is created."
   ]
  },
  {
   "cell_type": "markdown",
   "metadata": {},
   "source": [
    "*Example:*"
   ]
  },
  {
   "cell_type": "code",
   "execution_count": 19,
   "metadata": {},
   "outputs": [
    {
     "name": "stdout",
     "output_type": "stream",
     "text": [
      "Area of the circle: 50.2656\n"
     ]
    }
   ],
   "source": [
    "class Circle:\n",
    "    def __init__(self, radius):  # Constructor\n",
    "        self.radius = radius\n",
    "\n",
    "    def area(self):  # Method\n",
    "        return 3.1416 * self.radius ** 2\n",
    "\n",
    "circle1 = Circle(4)\n",
    "print(f\"Area of the circle: {circle1.area()}\")"
   ]
  },
  {
   "cell_type": "markdown",
   "metadata": {},
   "source": [
    "**Destructor**\n",
    "\n",
    "A destructor is a special method that is called when an object is about to be destroyed. \n",
    "In Python, the ```__del__``` method acts as the destructor. It's commonly used for cleanup tasks like closing files or releasing resources."
   ]
  },
  {
   "cell_type": "markdown",
   "metadata": {},
   "source": [
    "*Example:*"
   ]
  },
  {
   "cell_type": "code",
   "execution_count": 20,
   "metadata": {},
   "outputs": [],
   "source": [
    "class FileHandler:\n",
    "    def __init__(self, file_name):\n",
    "        self.file = open(file_name, 'w')  # Opens a file in write mode\n",
    "        print(f\"File {file_name} opened.\")\n",
    "\n",
    "    def write_data(self, data):\n",
    "        self.file.write(data)\n",
    "\n",
    "    def __del__(self):  # Destructor\n",
    "        self.file.close()\n",
    "        print(\"File closed.\")"
   ]
  },
  {
   "cell_type": "code",
   "execution_count": 21,
   "metadata": {},
   "outputs": [
    {
     "name": "stdout",
     "output_type": "stream",
     "text": [
      "File example.txt opened.\n",
      "File closed.\n"
     ]
    }
   ],
   "source": [
    "# Example\n",
    "handler = FileHandler(\"example.txt\")\n",
    "handler.write_data(\"Hello, World!\")\n",
    "\n",
    "del handler  # Explicitly calls the destructor"
   ]
  },
  {
   "cell_type": "markdown",
   "metadata": {},
   "source": [
    "**Method**\n",
    "\n",
    "A method is a function defined inside a class that operates on the attributes of the class. There are different types of methods:\n",
    "\n",
    "1. Instance Method: Operates on instance attributes.\n",
    "1. Class Method: Operates on class attributes. Defined using @classmethod decorator.\n",
    "1. Static Method: Doesn't access any class or instance attributes. Defined using @staticmethod."
   ]
  },
  {
   "cell_type": "markdown",
   "metadata": {},
   "source": [
    "**Example:**"
   ]
  },
  {
   "cell_type": "code",
   "execution_count": 22,
   "metadata": {},
   "outputs": [],
   "source": [
    "class Calculator:\n",
    "    @staticmethod\n",
    "    def add(a, b):  # Static method\n",
    "        return a + b\n",
    "\n",
    "    @classmethod\n",
    "    def info(cls):  # Class method\n",
    "        return \"This is a Calculator class.\""
   ]
  },
  {
   "cell_type": "code",
   "execution_count": 23,
   "metadata": {},
   "outputs": [
    {
     "name": "stdout",
     "output_type": "stream",
     "text": [
      "8\n",
      "This is a Calculator class.\n"
     ]
    }
   ],
   "source": [
    "# Example usage\n",
    "print(Calculator.add(5, 3))\n",
    "print(Calculator.info())"
   ]
  },
  {
   "cell_type": "markdown",
   "metadata": {},
   "source": [
    "**Example:**"
   ]
  },
  {
   "cell_type": "code",
   "execution_count": 37,
   "metadata": {},
   "outputs": [],
   "source": [
    "class Employee:\n",
    "    \"\"\"\n",
    "    Common base class for all employees.\n",
    "    This class is used to define attributes and methods for Employee objects.\n",
    "    \"\"\"\n",
    "    \n",
    "    empCount = 0  # Class variable to count the number of Employee objects created.\n",
    "    \n",
    "    def __init__(self, name, salary):\n",
    "        \"\"\"\n",
    "        Constructor to initialize the attributes of the Employee object.\n",
    "        :param name: Name of the employee.\n",
    "        :param salary: Salary of the employee.\n",
    "        \"\"\"\n",
    "        self.name = name  # Instance variable to store the name of the employee.\n",
    "        self.salary = salary  # Instance variable to store the salary of the employee.\n",
    "        Employee.empCount += 1  # Increment the class variable 'empCount' for each new employee.\n",
    "\n",
    "    @classmethod\n",
    "    def displayCount(cls):\n",
    "        \"\"\"\n",
    "        Method to display the total number of Employee objects created.\n",
    "        This method uses the class variable 'empCount'.\n",
    "        \"\"\"\n",
    "        print(cls)\n",
    "        print(\"Total Number of Employees:\", Employee.empCount)\n",
    "\n",
    "    def displayEmployee(self):\n",
    "        \"\"\"\n",
    "        Method to display the details of the Employee object (name and salary).\n",
    "        \"\"\"\n",
    "        # print(self)\n",
    "        print(\"Name of Employee:\", self.name, \"\\nSalary:\", self.salary)\n",
    "        \n",
    "    def __str__(self):\n",
    "        return f\"Name of Employee: {self.name} \\nSalary: {self.salary}\"\n"
   ]
  },
  {
   "cell_type": "code",
   "execution_count": 40,
   "metadata": {},
   "outputs": [
    {
     "name": "stdout",
     "output_type": "stream",
     "text": [
      "Name of Employee: Nikhil \n",
      "Salary: 35000\n"
     ]
    }
   ],
   "source": [
    "emp1 = Employee(\"Nikhil\", 35000)\n",
    "emp1.displayEmployee()"
   ]
  },
  {
   "cell_type": "code",
   "execution_count": 8,
   "metadata": {},
   "outputs": [
    {
     "data": {
      "text/plain": [
       "35000"
      ]
     },
     "execution_count": 8,
     "metadata": {},
     "output_type": "execute_result"
    }
   ],
   "source": [
    "emp1.salary"
   ]
  },
  {
   "cell_type": "code",
   "execution_count": 18,
   "metadata": {},
   "outputs": [],
   "source": [
    "emp2 = Employee(\"Vyshnavi\",\"50000\")"
   ]
  },
  {
   "cell_type": "code",
   "execution_count": 39,
   "metadata": {},
   "outputs": [
    {
     "name": "stdout",
     "output_type": "stream",
     "text": [
      "<class '__main__.Employee'>\n",
      "Total Number of Employees: 1\n",
      "<class '__main__.Employee'>\n",
      "Total Number of Employees: 1\n",
      "Employee count: 1\n"
     ]
    }
   ],
   "source": [
    "Employee.displayCount()\n",
    "emp1.displayCount()\n",
    "print(\"Employee count:\", Employee.empCount)"
   ]
  },
  {
   "cell_type": "code",
   "execution_count": 19,
   "metadata": {},
   "outputs": [
    {
     "data": {
      "text/plain": [
       "20"
      ]
     },
     "execution_count": 19,
     "metadata": {},
     "output_type": "execute_result"
    }
   ],
   "source": [
    "# Add a new instance variable to emp1\n",
    "emp1.age = 20\n",
    "emp1.age"
   ]
  },
  {
   "cell_type": "code",
   "execution_count": 20,
   "metadata": {},
   "outputs": [
    {
     "name": "stdout",
     "output_type": "stream",
     "text": [
      "['__class__', '__delattr__', '__dict__', '__dir__', '__doc__', '__eq__', '__format__', '__ge__', '__getattribute__', '__getstate__', '__gt__', '__hash__', '__init__', '__init_subclass__', '__le__', '__lt__', '__module__', '__ne__', '__new__', '__reduce__', '__reduce_ex__', '__repr__', '__setattr__', '__sizeof__', '__str__', '__subclasshook__', '__weakref__', 'age', 'displayCount', 'displayEmployee', 'empCount', 'name', 'salary']\n",
      "['__class__', '__delattr__', '__dict__', '__dir__', '__doc__', '__eq__', '__format__', '__ge__', '__getattribute__', '__getstate__', '__gt__', '__hash__', '__init__', '__init_subclass__', '__le__', '__lt__', '__module__', '__ne__', '__new__', '__reduce__', '__reduce_ex__', '__repr__', '__setattr__', '__sizeof__', '__str__', '__subclasshook__', '__weakref__', 'displayCount', 'displayEmployee', 'empCount', 'name', 'salary']\n"
     ]
    }
   ],
   "source": [
    "print(dir(emp1))\n",
    "print(dir(emp2))"
   ]
  },
  {
   "cell_type": "code",
   "execution_count": 26,
   "metadata": {},
   "outputs": [
    {
     "name": "stdout",
     "output_type": "stream",
     "text": [
      "True\n",
      "False\n"
     ]
    }
   ],
   "source": [
    "print(hasattr(emp1,'age'))\n",
    "print(hasattr(emp2,'age'))"
   ]
  },
  {
   "cell_type": "code",
   "execution_count": 22,
   "metadata": {},
   "outputs": [
    {
     "data": {
      "text/plain": [
       "20"
      ]
     },
     "execution_count": 22,
     "metadata": {},
     "output_type": "execute_result"
    }
   ],
   "source": [
    "getattr(emp1,'age')"
   ]
  },
  {
   "cell_type": "code",
   "execution_count": 23,
   "metadata": {},
   "outputs": [
    {
     "name": "stdout",
     "output_type": "stream",
     "text": [
      "True\n"
     ]
    }
   ],
   "source": [
    "setattr(emp2,'age',21)\n",
    "print(hasattr(emp2,'age'))"
   ]
  },
  {
   "cell_type": "code",
   "execution_count": 25,
   "metadata": {},
   "outputs": [
    {
     "data": {
      "text/plain": [
       "False"
      ]
     },
     "execution_count": 25,
     "metadata": {},
     "output_type": "execute_result"
    }
   ],
   "source": [
    "delattr(emp2,'age')\n",
    "hasattr(emp2,'age')"
   ]
  },
  {
   "cell_type": "code",
   "execution_count": 41,
   "metadata": {},
   "outputs": [
    {
     "name": "stdout",
     "output_type": "stream",
     "text": [
      "Name of Employee: Nikhil \n",
      "Salary: 35000\n"
     ]
    }
   ],
   "source": [
    "print(emp1)"
   ]
  },
  {
   "cell_type": "code",
   "execution_count": 42,
   "metadata": {},
   "outputs": [
    {
     "name": "stdout",
     "output_type": "stream",
     "text": [
      "Name of Employee: Nikhil \n",
      "Salary: 35000\n"
     ]
    }
   ],
   "source": [
    "emp1.displayEmployee()"
   ]
  },
  {
   "cell_type": "code",
   "execution_count": 27,
   "metadata": {},
   "outputs": [
    {
     "name": "stdout",
     "output_type": "stream",
     "text": [
      "\n",
      "    Common base class for all employees.\n",
      "    This class is used to define attributes and methods for Employee objects.\n",
      "    \n"
     ]
    }
   ],
   "source": [
    "print(Employee.__doc__)"
   ]
  },
  {
   "cell_type": "code",
   "execution_count": 28,
   "metadata": {},
   "outputs": [
    {
     "name": "stdout",
     "output_type": "stream",
     "text": [
      "\n",
      "        Method to display the total number of Employee objects created.\n",
      "        This method uses the class variable 'empCount'.\n",
      "        \n"
     ]
    }
   ],
   "source": [
    "print(Employee.displayCount.__doc__)"
   ]
  },
  {
   "cell_type": "code",
   "execution_count": 29,
   "metadata": {},
   "outputs": [
    {
     "name": "stdout",
     "output_type": "stream",
     "text": [
      "Employee\n"
     ]
    }
   ],
   "source": [
    "print(Employee.__name__)"
   ]
  },
  {
   "cell_type": "markdown",
   "metadata": {},
   "source": [
    "***\n",
    "## Encapsulation\n",
    "\n",
    "Encapsulation is one of the fundamental principles of Object-Oriented Programming (OOP). It refers to the bundling of data (attributes) and methods (functions) that operate on the data into a single unit (class), and restricting direct access to some of the object's components to maintain control and ensure data integrity.\n",
    "\n",
    "**Key Features of Encapsulation**\n",
    "1. **Data Hiding**: Prevents direct access to internal attributes to ensure that data is accessed and modified in a controlled manner.\n",
    "1. **Abstraction**: Hides the complex implementation details and provides a simple interface to the user.\n",
    "1. **Controlled Access**: Uses getters and setters to manage access to attributes."
   ]
  },
  {
   "cell_type": "markdown",
   "metadata": {},
   "source": [
    "> **Encapsulation in Python**\n",
    "\n",
    "> Python does not enforce strict encapsulation like some other programming languages (e.g., Java). \n",
    "> Instead, it relies on conventions and access modifiers:\n",
    "> 1. Public Members: Accessible from anywhere (name).\n",
    "> 1. Protected Members: Indicated by a single underscore (_name), meant to be accessed only within the class and subclasses.\n",
    "> 1. Private Members: Indicated by a double underscore (__name), accessible only within the class."
   ]
  },
  {
   "cell_type": "markdown",
   "metadata": {},
   "source": [
    "*Example:* Without Encapsulation"
   ]
  },
  {
   "cell_type": "code",
   "execution_count": 43,
   "metadata": {},
   "outputs": [
    {
     "name": "stdout",
     "output_type": "stream",
     "text": [
      "1000\n",
      "-500\n"
     ]
    }
   ],
   "source": [
    "class BankAccount:\n",
    "    def __init__(self, balance):\n",
    "        self.balance = balance  # Direct access to balance\n",
    "\n",
    "# Example\n",
    "account = BankAccount(1000)\n",
    "print(account.balance)\n",
    "\n",
    "# No restriction on setting an invalid value\n",
    "account.balance = -500\n",
    "print(account.balance)"
   ]
  },
  {
   "cell_type": "markdown",
   "metadata": {},
   "source": [
    "*Example:* With Encapsulation"
   ]
  },
  {
   "cell_type": "code",
   "execution_count": 44,
   "metadata": {},
   "outputs": [],
   "source": [
    "class BankAccount:\n",
    "    def __init__(self, balance):\n",
    "        self.__balance = balance  # Private attribute\n",
    "\n",
    "    @property\n",
    "    def balance(self):\n",
    "        \"\"\"Getter: Returns the account balance.\"\"\"\n",
    "        return self.__balance\n",
    "\n",
    "    @balance.setter\n",
    "    def balance(self, amount):\n",
    "        \"\"\"Setter: Validates and sets the account balance.\"\"\"\n",
    "        if amount < 0:\n",
    "            raise ValueError(\"Balance cannot be negative!\")\n",
    "        self.__balance = amount"
   ]
  },
  {
   "cell_type": "code",
   "execution_count": 51,
   "metadata": {},
   "outputs": [
    {
     "name": "stdout",
     "output_type": "stream",
     "text": [
      "1000\n",
      "1500\n"
     ]
    }
   ],
   "source": [
    "# Example\n",
    "account = BankAccount(1000)\n",
    "print(account.balance)  # Output: 1000\n",
    "\n",
    "# Setting a valid value\n",
    "account.balance = 1500\n",
    "print(account.balance)  # Output: 1500"
   ]
  },
  {
   "cell_type": "code",
   "execution_count": 52,
   "metadata": {},
   "outputs": [
    {
     "data": {
      "text/plain": [
       "1500"
      ]
     },
     "execution_count": 52,
     "metadata": {},
     "output_type": "execute_result"
    }
   ],
   "source": [
    "account._BankAccount__balance"
   ]
  },
  {
   "cell_type": "code",
   "execution_count": null,
   "metadata": {},
   "outputs": [],
   "source": [
    "# Trying to set an invalid value\n",
    "# account.balance = -500  # Raises ValueError: Balance cannot be negative!"
   ]
  },
  {
   "cell_type": "code",
   "execution_count": 48,
   "metadata": {},
   "outputs": [
    {
     "name": "stdout",
     "output_type": "stream",
     "text": [
      "['_BankAccount__balance', '__class__', '__delattr__', '__dict__', '__dir__', '__doc__', '__eq__', '__format__', '__ge__', '__getattribute__', '__getstate__', '__gt__', '__hash__', '__init__', '__init_subclass__', '__le__', '__lt__', '__module__', '__ne__', '__new__', '__reduce__', '__reduce_ex__', '__repr__', '__setattr__', '__sizeof__', '__str__', '__subclasshook__', '__weakref__', 'balance']\n"
     ]
    }
   ],
   "source": [
    "print(dir(account))"
   ]
  },
  {
   "cell_type": "markdown",
   "metadata": {},
   "source": [
    "**Getter and Setter in Python**\n",
    "\n",
    "Getters and Setters are methods that allow controlled access to the attributes of a class. They are commonly used to enforce encapsulation and validate data before assigning or retrieving values. Python provides a way to create getters and setters using the **@property** decorator."
   ]
  },
  {
   "cell_type": "markdown",
   "metadata": {},
   "source": [
    "**Why Use Getters and Setters?**\n",
    "\n",
    "1. Encapsulation: Protect internal class variables from being accessed or modified directly.\n",
    "1. Validation: Add logic to ensure attributes are set to valid values.\n",
    "1. Customization: Customize how attributes are retrieved or set."
   ]
  },
  {
   "cell_type": "markdown",
   "metadata": {},
   "source": [
    "*Example:* Without Getters and Setters"
   ]
  },
  {
   "cell_type": "code",
   "execution_count": 53,
   "metadata": {},
   "outputs": [
    {
     "name": "stdout",
     "output_type": "stream",
     "text": [
      "Alice\n",
      "Bob\n"
     ]
    }
   ],
   "source": [
    "class Person:\n",
    "    def __init__(self, name):\n",
    "        self.name = name  # Directly accessing and modifying the attribute\n",
    "\n",
    "# Example\n",
    "p = Person(\"Alice\")\n",
    "print(p.name)  # Output: Alice\n",
    "p.name = \"Bob\"  # Attribute can be modified without restrictions\n",
    "print(p.name)  # Output: Bob"
   ]
  },
  {
   "cell_type": "markdown",
   "metadata": {},
   "source": [
    "*Example:* With Getters and Setters"
   ]
  },
  {
   "cell_type": "code",
   "execution_count": 54,
   "metadata": {},
   "outputs": [],
   "source": [
    "class Person:\n",
    "    def __init__(self, name):\n",
    "        self._name = name  # Private attribute (indicated by _)\n",
    "\n",
    "    @property\n",
    "    def name(self):\n",
    "        \"\"\"Getter: Retrieves the value of the name.\"\"\"\n",
    "        return self._name\n",
    "\n",
    "    @name.setter\n",
    "    def name(self, value):\n",
    "        \"\"\"Setter: Sets the value of the name after validation.\"\"\"\n",
    "        if not isinstance(value, str):\n",
    "            raise ValueError(\"Name must be a string!\")\n",
    "        self._name = value"
   ]
  },
  {
   "cell_type": "code",
   "execution_count": 55,
   "metadata": {},
   "outputs": [
    {
     "name": "stdout",
     "output_type": "stream",
     "text": [
      "Alice\n",
      "Bob\n"
     ]
    }
   ],
   "source": [
    "# Example\n",
    "p = Person(\"Alice\")\n",
    "print(p.name)  # Calls the getter, Output: Alice\n",
    "p.name = \"Bob\"  # Calls the setter, validates and sets the value\n",
    "\n",
    "print(p.name)  # Output: Bob"
   ]
  },
  {
   "cell_type": "code",
   "execution_count": null,
   "metadata": {},
   "outputs": [],
   "source": [
    "# Trying to set an invalid value\n",
    "# p.name = 123  # Raises ValueError: Name must be a string!"
   ]
  },
  {
   "cell_type": "markdown",
   "metadata": {},
   "source": [
    "**How ```@property``` Works**\n",
    "1. @property: Used to define a getter for an attribute.\n",
    "1. @<attribute>.setter: Defines a setter for the same attribute.\n",
    "1. Encapsulation: Direct access to the attribute is replaced with method calls transparently."
   ]
  },
  {
   "cell_type": "markdown",
   "metadata": {},
   "source": [
    "**Benefits**\n",
    "- Validation Logic: Easily include checks when setting values.\n",
    "- Read-Only Properties: Only define a getter without a setter."
   ]
  },
  {
   "cell_type": "code",
   "execution_count": 57,
   "metadata": {},
   "outputs": [
    {
     "name": "stdout",
     "output_type": "stream",
     "text": [
      "5\n",
      "78.53999999999999\n"
     ]
    }
   ],
   "source": [
    "class Circle:\n",
    "    def __init__(self, radius):\n",
    "        self._radius = radius\n",
    "\n",
    "    @property\n",
    "    def radius(self):\n",
    "        return self._radius\n",
    "\n",
    "    @property\n",
    "    def area(self):\n",
    "        return 3.1416 * self._radius ** 2\n",
    "\n",
    "# Example\n",
    "c = Circle(5)\n",
    "print(c.radius)  # Output: 5\n",
    "print(c.area)    # Output: 78.54\n",
    "# c.radius = 10  # Error: Cannot set attribute, as no setter is defined"
   ]
  },
  {
   "cell_type": "markdown",
   "metadata": {},
   "source": [
    "**Getters and Setters Without ```@property```**\n",
    "\n",
    "You can also use standard methods for getters and setters, but it makes the syntax verbose."
   ]
  },
  {
   "cell_type": "code",
   "execution_count": 58,
   "metadata": {},
   "outputs": [
    {
     "name": "stdout",
     "output_type": "stream",
     "text": [
      "Alice\n",
      "Bob\n"
     ]
    }
   ],
   "source": [
    "class Person:\n",
    "    def __init__(self, name):\n",
    "        self._name = name\n",
    "\n",
    "    def get_name(self):\n",
    "        return self._name\n",
    "\n",
    "    def set_name(self, value):\n",
    "        if not isinstance(value, str):\n",
    "            raise ValueError(\"Name must be a string!\")\n",
    "        self._name = value\n",
    "\n",
    "# Example\n",
    "p = Person(\"Alice\")\n",
    "print(p.get_name())\n",
    "\n",
    "p.set_name(\"Bob\")\n",
    "print(p.get_name())"
   ]
  },
  {
   "cell_type": "markdown",
   "metadata": {},
   "source": [
    "**Best Practices**\n",
    "1. Use **@property** for a cleaner, Pythonic way to implement getters and setters.\n",
    "1. Use private variables **(__var)** to prevent direct access.\n",
    "1. Only use setters when you need validation or additional logic for assignment.\n",
    "1. Use getters for computed properties or for encapsulating attribute access.\n",
    "1. This approach enhances the maintainability and robustness of your code."
   ]
  },
  {
   "cell_type": "markdown",
   "metadata": {},
   "source": [
    "***"
   ]
  },
  {
   "cell_type": "markdown",
   "metadata": {},
   "source": [
    "***\n",
    "## Inheritance\n",
    "\n",
    "Inheritance is an Object-Oriented Programming (OOP) concept where one class (child or derived class) inherits the attributes and methods of another class (parent or base class). It allows code reuse, logical hierarchy, and extension of functionalities in Python.\n",
    "\n",
    "**Types of Inheritance in Python**\n",
    "\n",
    "Python supports the following types of inheritance:\n",
    "\n",
    "1. **Single Inheritance**: A child class inherits from a single parent class.\n",
    "1. **Multiple Inheritance**: A child class inherits from multiple parent classes.\n",
    "1. **Multilevel Inheritance**: A chain of inheritance where a child class acts as a parent to another class.\n",
    "1. **Hierarchical Inheritance**: Multiple child classes inherit from a single parent class.\n",
    "1. **Hybrid Inheritance**: A combination of two or more types of inheritance."
   ]
  },
  {
   "cell_type": "markdown",
   "metadata": {},
   "source": [
    "**Examples:**"
   ]
  },
  {
   "cell_type": "markdown",
   "metadata": {},
   "source": [
    "**Single Inheritance**"
   ]
  },
  {
   "cell_type": "code",
   "execution_count": 59,
   "metadata": {},
   "outputs": [
    {
     "name": "stdout",
     "output_type": "stream",
     "text": [
      "Animal speaks\n",
      "Dog barks\n"
     ]
    }
   ],
   "source": [
    "class Animal:\n",
    "    def speak(self):\n",
    "        print(\"Animal speaks\")\n",
    "\n",
    "class Dog(Animal):  # Dog inherits from Animal\n",
    "    def bark(self):\n",
    "        print(\"Dog barks\")\n",
    "\n",
    "# Example\n",
    "dog = Dog()\n",
    "dog.speak()\n",
    "dog.bark()"
   ]
  },
  {
   "cell_type": "markdown",
   "metadata": {},
   "source": [
    "**Multiple Inheritance**"
   ]
  },
  {
   "cell_type": "code",
   "execution_count": 62,
   "metadata": {},
   "outputs": [
    {
     "name": "stdout",
     "output_type": "stream",
     "text": [
      "Good at driving\n",
      "Good at coding\n"
     ]
    }
   ],
   "source": [
    "class Mother:\n",
    "    def skills(self):\n",
    "        print(\"Good at cooking\")\n",
    "\n",
    "class Father:\n",
    "    def skills(self):\n",
    "        print(\"Good at driving\")\n",
    "\n",
    "class Child(Father, Mother):  # Child inherits from Mother and Father\n",
    "    def own_skill(self):\n",
    "        print(\"Good at coding\")\n",
    "\n",
    "# Example\n",
    "child = Child()\n",
    "child.skills()  # Output: Good at cooking (follows method resolution order, MRO)\n",
    "child.own_skill()  # Output: Good at coding"
   ]
  },
  {
   "cell_type": "code",
   "execution_count": 63,
   "metadata": {},
   "outputs": [
    {
     "data": {
      "text/plain": [
       "(__main__.Child, __main__.Father, __main__.Mother, object)"
      ]
     },
     "execution_count": 63,
     "metadata": {},
     "output_type": "execute_result"
    }
   ],
   "source": [
    "Child.__mro__"
   ]
  },
  {
   "cell_type": "markdown",
   "metadata": {},
   "source": [
    "**MRO (Method Resolution Order) in Python**\n",
    "\n",
    "The *Method Resolution Order (MRO)* is the order in which Python looks for a method or attribute in a hierarchy of classes. When a method or attribute is called on an object, Python follows the MRO to decide which class's method or attribute to execute.\n",
    "\n",
    "MRO is particularly important in the context of multiple inheritance to ensure consistency and avoid ambiguity (e.g., the Diamond Problem)."
   ]
  },
  {
   "cell_type": "markdown",
   "metadata": {},
   "source": [
    "*Example of MRO*"
   ]
  },
  {
   "cell_type": "code",
   "execution_count": 64,
   "metadata": {},
   "outputs": [
    {
     "name": "stdout",
     "output_type": "stream",
     "text": [
      "Method from Class B\n",
      "(<class '__main__.D'>, <class '__main__.B'>, <class '__main__.C'>, <class '__main__.A'>, <class 'object'>)\n",
      "[<class '__main__.D'>, <class '__main__.B'>, <class '__main__.C'>, <class '__main__.A'>, <class 'object'>]\n"
     ]
    }
   ],
   "source": [
    "class A:\n",
    "    def show(self):\n",
    "        print(\"Method from Class A\")\n",
    "\n",
    "class B(A):\n",
    "    def show(self):\n",
    "        print(\"Method from Class B\")\n",
    "\n",
    "class C(A):\n",
    "    def show(self):\n",
    "        print(\"Method from Class C\")\n",
    "\n",
    "class D(B, C):  # Multiple inheritance\n",
    "    pass\n",
    "\n",
    "# Instantiate object\n",
    "d = D()\n",
    "d.show()  # Output: Method from Class B\n",
    "\n",
    "# Check MRO\n",
    "print(D.__mro__)\n",
    "print(D.mro())"
   ]
  },
  {
   "cell_type": "markdown",
   "metadata": {},
   "source": [
    "**Multilevel Inheritance**"
   ]
  },
  {
   "cell_type": "code",
   "execution_count": 65,
   "metadata": {},
   "outputs": [
    {
     "name": "stdout",
     "output_type": "stream",
     "text": [
      "Vehicles are used for transportation.\n",
      "Cars are four-wheeled vehicles.\n",
      "Electric cars run on batteries.\n"
     ]
    }
   ],
   "source": [
    "class Vehicle:\n",
    "    def general_info(self):\n",
    "        print(\"Vehicles are used for transportation.\")\n",
    "\n",
    "class Car(Vehicle):\n",
    "    def car_info(self):\n",
    "        print(\"Cars are four-wheeled vehicles.\")\n",
    "\n",
    "class ElectricCar(Car):  # ElectricCar inherits from Car, which inherits from Vehicle\n",
    "    def battery_info(self):\n",
    "        print(\"Electric cars run on batteries.\")\n",
    "\n",
    "# Example\n",
    "e_car = ElectricCar()\n",
    "e_car.general_info()\n",
    "e_car.car_info()\n",
    "e_car.battery_info()"
   ]
  },
  {
   "cell_type": "markdown",
   "metadata": {},
   "source": [
    "**Hierarchical Inheritance**"
   ]
  },
  {
   "cell_type": "code",
   "execution_count": 66,
   "metadata": {},
   "outputs": [
    {
     "name": "stdout",
     "output_type": "stream",
     "text": [
      "This is the parent class.\n",
      "This is the first child class.\n",
      "This is the parent class.\n",
      "This is the second child class.\n"
     ]
    }
   ],
   "source": [
    "class Parent:\n",
    "    def parent_info(self):\n",
    "        print(\"This is the parent class.\")\n",
    "\n",
    "class Child1(Parent):  # Child1 inherits from Parent\n",
    "    def child1_info(self):\n",
    "        print(\"This is the first child class.\")\n",
    "\n",
    "class Child2(Parent):  # Child2 inherits from Parent\n",
    "    def child2_info(self):\n",
    "        print(\"This is the second child class.\")\n",
    "\n",
    "# Example\n",
    "c1 = Child1()\n",
    "c1.parent_info()\n",
    "c1.child1_info()\n",
    "\n",
    "c2 = Child2()\n",
    "c2.parent_info()\n",
    "c2.child2_info()"
   ]
  },
  {
   "cell_type": "markdown",
   "metadata": {},
   "source": [
    "**Hybrid Inheritance**"
   ]
  },
  {
   "cell_type": "code",
   "execution_count": 67,
   "metadata": {},
   "outputs": [
    {
     "name": "stdout",
     "output_type": "stream",
     "text": [
      "Feature A\n",
      "Feature B\n",
      "Feature C\n",
      "Feature D\n"
     ]
    }
   ],
   "source": [
    "class A:\n",
    "    def feature_a(self):\n",
    "        print(\"Feature A\")\n",
    "\n",
    "class B(A):\n",
    "    def feature_b(self):\n",
    "        print(\"Feature B\")\n",
    "\n",
    "class C(A):\n",
    "    def feature_c(self):\n",
    "        print(\"Feature C\")\n",
    "\n",
    "class D(B, C):  # D inherits from B and C, which both inherit from A\n",
    "    def feature_d(self):\n",
    "        print(\"Feature D\")\n",
    "\n",
    "# Example\n",
    "d = D()\n",
    "d.feature_a() \n",
    "d.feature_b()\n",
    "d.feature_c()\n",
    "d.feature_d()"
   ]
  },
  {
   "cell_type": "markdown",
   "metadata": {},
   "source": [
    "**Advantages of Inheritance**\n",
    "1. **Code Reusability**: Allows reuse of code in parent classes.\n",
    "1. **Logical Hierarchy**: Models real-world relationships (e.g., parent-child).\n",
    "1. **Extensibility**: Child classes can extend or override parent class functionality.\n",
    "1. **Simplifies Code**: Reduces redundancy and improves maintainability."
   ]
  },
  {
   "cell_type": "markdown",
   "metadata": {},
   "source": [
    "**Key Concepts in Inheritance**\n",
    "1. ```super()``` Keyword: Used to call methods or constructors of the parent class.\n",
    "\n",
    "*Example:*"
   ]
  },
  {
   "cell_type": "code",
   "execution_count": 68,
   "metadata": {},
   "outputs": [
    {
     "name": "stdout",
     "output_type": "stream",
     "text": [
      "Buddy\n",
      "Labrador\n"
     ]
    }
   ],
   "source": [
    "class Animal:\n",
    "    def __init__(self, name):\n",
    "        self.name = name\n",
    "\n",
    "class Dog(Animal):\n",
    "    def __init__(self, name, breed):\n",
    "        super().__init__(name)  # Call the parent constructor\n",
    "        self.breed = breed\n",
    "\n",
    "dog = Dog(\"Buddy\", \"Labrador\")\n",
    "print(dog.name)\n",
    "print(dog.breed)"
   ]
  },
  {
   "cell_type": "code",
   "execution_count": 69,
   "metadata": {},
   "outputs": [
    {
     "name": "stdout",
     "output_type": "stream",
     "text": [
      "Ted\n",
      "Labrador\n"
     ]
    }
   ],
   "source": [
    "class Animal:\n",
    "    def __init__(self, name):\n",
    "        self.name = name\n",
    "\n",
    "class Dog(Animal):\n",
    "    def __init__(self, name, breed):\n",
    "        Animal.__init__(self, name)  # Call the parent constructor\n",
    "        self.breed = breed\n",
    "\n",
    "dog = Dog(\"Ted\", \"Labrador\")\n",
    "print(dog.name)\n",
    "print(dog.breed)"
   ]
  },
  {
   "cell_type": "markdown",
   "metadata": {},
   "source": [
    "**Overriding:** Child classes can override parent class methods.\n",
    "\n",
    "*Example:*"
   ]
  },
  {
   "cell_type": "code",
   "execution_count": 70,
   "metadata": {},
   "outputs": [
    {
     "name": "stdout",
     "output_type": "stream",
     "text": [
      "Dog barks\n"
     ]
    }
   ],
   "source": [
    "class Animal:\n",
    "    def speak(self):\n",
    "        print(\"Animal speaks\")\n",
    "\n",
    "class Dog(Animal):\n",
    "    def speak(self):  # Overriding the parent method\n",
    "        print(\"Dog barks\")\n",
    "\n",
    "dog = Dog()\n",
    "dog.speak()  # Output: Dog barks"
   ]
  },
  {
   "cell_type": "code",
   "execution_count": 71,
   "metadata": {},
   "outputs": [
    {
     "name": "stdout",
     "output_type": "stream",
     "text": [
      "Grade of A010CS2024: B\n",
      "Percentgae:  80.0\n"
     ]
    }
   ],
   "source": [
    "class Student(object):\n",
    "\n",
    "    ml = (\"OOT\",\"CNT\",\"EVS\")\n",
    "    tot = 50\n",
    "\n",
    "    def __init__(self, prn, mrks):\n",
    "        self.prn = prn\n",
    "        self.mrks = mrks    #list of marks\n",
    "    \n",
    "    def grade(self):        \n",
    "        grd = float(sum(self.mrks))/(Student.tot*len(Student.ml))*100\n",
    "        \n",
    "        return grd\n",
    "\n",
    "class Result(Student):\n",
    "    \n",
    "    def grade(self):\n",
    "        # grd = super(result, self).grade()\n",
    "        # grd = super().grade()\n",
    "        grd = Student.grade(self)\n",
    "        g = \"F\"\n",
    "        \n",
    "        if grd >= 90:\n",
    "            g = \"A\"\n",
    "        elif grd < 90 and grd >= 80:\n",
    "            g = \"B\"\n",
    "        elif grd < 80 and grd >= 70:\n",
    "            g = \"c\"\n",
    "        elif grd < 70 and grd >= 60:\n",
    "            g = \"D\"\n",
    "            \n",
    "        return g\n",
    "\n",
    "    def percentage(self):\n",
    "        return super(Result, self).grade()\n",
    "\n",
    "s = Result(\"A010CS2024\",[40,40,40])\n",
    "print (\"Grade of \" + s.prn + \":\", end=' ')\n",
    "print (s.grade())\n",
    "print (\"Percentgae: \", s.percentage())"
   ]
  },
  {
   "cell_type": "markdown",
   "metadata": {},
   "source": [
    "**Compositional Inheritance in Python**\n",
    "\n",
    "Compositional Inheritance (also called Hybrid Inheritance) is a combination of multiple inheritance and composition. It uses inheritance to extend functionality and composition to include objects of other classes. This approach ensures greater flexibility, avoids common pitfalls like the Diamond Problem, and adheres to the principle of \"composition over inheritance\" when appropriate."
   ]
  },
  {
   "cell_type": "markdown",
   "metadata": {},
   "source": [
    "**Difference Between Inheritance and Composition**\n",
    "1. Inheritance:\n",
    "    - A class derives from a parent class and inherits its attributes and methods.\n",
    "    - Represents an \"is-a\" relationship (e.g., a Dog is an Animal).\n",
    "    - Example: class Dog(Animal):\n",
    "\n",
    "2. Composition:\n",
    "    - A class contains objects of other classes as attributes.\n",
    "    - Represents a \"has-a\" relationship (e.g., a Car has an Engine).\n",
    "    - Example: self.engine = Engine() inside a Car class."
   ]
  },
  {
   "cell_type": "markdown",
   "metadata": {},
   "source": [
    "*Example:*"
   ]
  },
  {
   "cell_type": "code",
   "execution_count": 73,
   "metadata": {},
   "outputs": [],
   "source": [
    "class Engine:\n",
    "    def start(self):\n",
    "        print(\"Engine starts\")\n",
    "\n",
    "    def stop(self):\n",
    "        print(\"Engine stops\")\n",
    "\n",
    "class Vehicle:\n",
    "    def __init__(self, name):\n",
    "        self.name = name\n",
    "\n",
    "    def move(self):\n",
    "        print(f\"{self.name} is moving\")\n",
    "\n",
    "class Car(Vehicle):  # Inheritance (Car \"is-a\" Vehicle)\n",
    "    def __init__(self, name):\n",
    "        super().__init__(name)\n",
    "        self.engine = Engine()  # Composition (Car \"has-a\" Engine)\n",
    "\n",
    "    def start_car(self):\n",
    "        print(f\"{self.name} is starting\")\n",
    "        self.engine.start()\n",
    "\n",
    "    def stop_car(self):\n",
    "        print(f\"{self.name} is stopping\")\n",
    "        self.engine.stop()"
   ]
  },
  {
   "cell_type": "code",
   "execution_count": 74,
   "metadata": {},
   "outputs": [
    {
     "name": "stdout",
     "output_type": "stream",
     "text": [
      "Tesla Model 3 is starting\n",
      "Engine starts\n",
      "Tesla Model 3 is moving\n",
      "Tesla Model 3 is stopping\n",
      "Engine stops\n"
     ]
    }
   ],
   "source": [
    "# Example\n",
    "car = Car(\"Tesla Model 3\")\n",
    "car.start_car()\n",
    "car.move()\n",
    "car.stop_car()"
   ]
  },
  {
   "cell_type": "markdown",
   "metadata": {},
   "source": [
    "**Advantages of Compositional Inheritance**\n",
    "1. **Avoids Diamond Problem**:\n",
    "   - The diamond problem occurs in multiple inheritance when classes share a common base class, leading to ambiguity.\n",
    "   - Composition sidesteps this issue by including objects rather than inheriting them.\n",
    "\n",
    "2. **Flexibility**:\n",
    "   - Enables modular design where objects can be replaced or swapped easily without altering the parent class.\n",
    "\n",
    "3. **Separation of Concerns**:\n",
    "   - Keeps classes focused on their specific responsibilities, making the code cleaner and more maintainable.\n",
    "\n",
    "4. **Reuse Without Hierarchy**:\n",
    "   - Allows code reuse without needing a strict inheritance hierarchy.\n",
    "\n",
    "**When to Use Compositional Inheritance**\n",
    "- **Use inheritance** when there is a clear \"is-a\" relationship.\n",
    "- **Use composition** when there is a \"has-a\" relationship or when you want to reduce coupling between classes.\n",
    "- Combine both in **compositional inheritance** for more complex scenarios where extending and composing behavior is necessary."
   ]
  },
  {
   "cell_type": "markdown",
   "metadata": {},
   "source": [
    "***\n",
    "## Polymorphism\n",
    "\n",
    "Polymorphism is a fundamental concept in object-oriented programming (OOP) that allows objects of different classes to be treated as objects of a common base class. It enables the same interface to be used for different underlying forms (data types or classes). The word \"polymorphism\" is derived from the Greek words \"poly\" (many) and \"morph\" (form), meaning \"many forms.\"\n",
    "\n",
    "In Python, polymorphism is implemented through methods, functions, or operators that can operate on objects of different types."
   ]
  },
  {
   "cell_type": "markdown",
   "metadata": {},
   "source": [
    "**Types of Polymorphism**\n",
    "\n",
    "1. Compile-Time Polymorphism (Static):\n",
    "    - Achieved through method overloading.\n",
    "    - Not natively supported in Python (can be mimicked using default arguments or variable-length arguments).\n",
    "1. Run-Time Polymorphism (Dynamic):\n",
    "    - Achieved through method overriding.\n",
    "    - Python supports this type of polymorphism."
   ]
  },
  {
   "cell_type": "markdown",
   "metadata": {},
   "source": [
    " Example of Polymorphism with Methods"
   ]
  },
  {
   "cell_type": "code",
   "execution_count": 75,
   "metadata": {},
   "outputs": [
    {
     "name": "stdout",
     "output_type": "stream",
     "text": [
      "Chirp\n",
      "Bark\n"
     ]
    }
   ],
   "source": [
    "class Bird:\n",
    "    def make_sound(self):\n",
    "        return \"Chirp\"\n",
    "\n",
    "class Dog:\n",
    "    def make_sound(self):\n",
    "        return \"Bark\"\n",
    "\n",
    "def animal_sound(animal):\n",
    "    print(animal.make_sound())\n",
    "\n",
    "# Example usage\n",
    "bird = Bird()\n",
    "dog = Dog()\n",
    "\n",
    "animal_sound(bird)\n",
    "animal_sound(dog)"
   ]
  },
  {
   "cell_type": "markdown",
   "metadata": {},
   "source": [
    "Example of Polymorphism with Inheritance"
   ]
  },
  {
   "cell_type": "code",
   "execution_count": 76,
   "metadata": {},
   "outputs": [
    {
     "name": "stdout",
     "output_type": "stream",
     "text": [
      "Area: 50\n",
      "Area: 153.93791\n"
     ]
    }
   ],
   "source": [
    "class Shape:\n",
    "    def area(self):\n",
    "        pass\n",
    "\n",
    "class Rectangle(Shape):\n",
    "    def __init__(self, width, height):\n",
    "        self.width = width\n",
    "        self.height = height\n",
    "\n",
    "    def area(self):\n",
    "        return self.width * self.height\n",
    "\n",
    "class Circle(Shape):\n",
    "    def __init__(self, radius):\n",
    "        self.radius = radius\n",
    "\n",
    "    def area(self):\n",
    "        return 3.14159 * self.radius ** 2\n",
    "\n",
    "# Example usage\n",
    "shapes = [Rectangle(10, 5), Circle(7)]\n",
    "\n",
    "for shape in shapes:\n",
    "    print(\"Area:\", shape.area())"
   ]
  },
  {
   "cell_type": "markdown",
   "metadata": {},
   "source": [
    " Example of Polymorphism with Functions"
   ]
  },
  {
   "cell_type": "code",
   "execution_count": 84,
   "metadata": {},
   "outputs": [
    {
     "name": "stdout",
     "output_type": "stream",
     "text": [
      "8\n",
      "Hello, World!\n"
     ]
    }
   ],
   "source": [
    "def add(a, b):\n",
    "    return a + b\n",
    "\n",
    "# Example usage\n",
    "print(add(3, 5))\n",
    "print(add(\"Hello, \", \"World!\"))"
   ]
  },
  {
   "cell_type": "markdown",
   "metadata": {},
   "source": [
    "Example of Polymorphism with Operators"
   ]
  },
  {
   "cell_type": "code",
   "execution_count": 77,
   "metadata": {},
   "outputs": [
    {
     "name": "stdout",
     "output_type": "stream",
     "text": [
      "8\n",
      "Hi there\n"
     ]
    }
   ],
   "source": [
    "print(3 + 5)\n",
    "print(\"Hi\" + \" there\")"
   ]
  },
  {
   "cell_type": "markdown",
   "metadata": {},
   "source": [
    "**Operator Overloading**"
   ]
  },
  {
   "cell_type": "code",
   "execution_count": 78,
   "metadata": {},
   "outputs": [],
   "source": [
    "class Currency:\n",
    "    \n",
    "    # Conversion rates for different currency units to a base unit (Rs)\n",
    "    conversion_rates = {\"R\": 1, \"$\": 60, \"#\": 90, \"E\": 70}\n",
    "\n",
    "    def __init__(self, value, unit):\n",
    "        # Initialize the currency object with a value and a unit (currency type)\n",
    "        self.value = value\n",
    "        self.unit = unit\n",
    "\n",
    "    def __str__(self):\n",
    "        # String representation of the currency object (e.g., 1 Rs or 2 $)\n",
    "        return f\"{self.value} {self.unit}\"\n",
    "\n",
    "    def __add__(self, other):\n",
    "        # Handles addition of two Currency objects\n",
    "        if isinstance(other, Currency):\n",
    "            # Convert both currencies to base unit (Rs) for addition, then convert back to the original unit\n",
    "            total_value = (self.value * Currency.conversion_rates[self.unit] + \n",
    "                           other.value * Currency.conversion_rates[other.unit])\n",
    "            return Currency(total_value / Currency.conversion_rates[self.unit], self.unit)\n",
    "        else:\n",
    "            # If adding a non-Currency object (like a number), delegate the operation to __radd__\n",
    "            return other + self\n",
    "\n",
    "    def __radd__(self, other):\n",
    "        # Handles addition where the other operand is not a Currency object (e.g., 10 + Currency(5, \"$\"))\n",
    "        return Currency(self.value + other, self.unit)\n",
    "\n",
    "    def __sub__(self, other):\n",
    "        # Handles subtraction of two Currency objects\n",
    "        if isinstance(other, Currency):\n",
    "            # Convert both currencies to the same unit before subtraction\n",
    "            total_value = (self.value * Currency.conversion_rates[self.unit] - \n",
    "                           other.value * Currency.conversion_rates[other.unit])\n",
    "            return Currency(total_value / Currency.conversion_rates[self.unit], self.unit)\n",
    "        else:\n",
    "            # If subtracting a non-Currency object, delegate the operation to __rsub__\n",
    "            return Currency(self.value - other, self.unit)\n",
    "\n",
    "    def __rsub__(self, other):\n",
    "        # Handles subtraction where the other operand is not a Currency object (e.g., 100 - Currency(20, \"$\"))\n",
    "        return Currency(other - self.value, self.unit)\n",
    "    \n",
    "    def convert(self, target_unit):\n",
    "        # Converts the value of the currency to a target unit\n",
    "        if self.unit == target_unit:\n",
    "            return Currency(self.value, self.unit)  # No conversion needed if units are the same\n",
    "        # Convert the currency to the target unit based on the conversion rates\n",
    "        value_in_target_unit = (self.value * Currency.conversion_rates[self.unit]) / Currency.conversion_rates[target_unit]\n",
    "        return Currency(value_in_target_unit, target_unit)\n"
   ]
  },
  {
   "cell_type": "code",
   "execution_count": 82,
   "metadata": {},
   "outputs": [
    {
     "name": "stdout",
     "output_type": "stream",
     "text": [
      "Result of Addition: 30 $\n"
     ]
    }
   ],
   "source": [
    "# Example usage\n",
    "c1 = Currency(10, \"R\")  # 1 unit of '#'\n",
    "c2 = Currency(20, \"$\")  # 2 units of '$'\n",
    "\n",
    "# Adding c1 and c2 (will convert both to Rs before adding)\n",
    "c3 = c2 + 10\n",
    "\n",
    "# Print the result of addition\n",
    "print(f\"Result of Addition: {c3}\")\n"
   ]
  },
  {
   "cell_type": "code",
   "execution_count": 83,
   "metadata": {},
   "outputs": [
    {
     "name": "stdout",
     "output_type": "stream",
     "text": [
      "Result of Subtraction: 1.988888888888889 #\n"
     ]
    }
   ],
   "source": [
    "# Example usage\n",
    "c1 = Currency(2, \"#\")  # 1 unit of '#'\n",
    "c2 = Currency(1, \"R\")  # 2 units of '$'\n",
    "\n",
    "# Subtracting c1 and c2 (will convert both to Rs before adding)\n",
    "c3 = c1 - c2\n",
    "\n",
    "# Print the result of Subtraction\n",
    "print(f\"Result of Subtraction: {c3}\")"
   ]
  },
  {
   "cell_type": "code",
   "execution_count": 84,
   "metadata": {},
   "outputs": [
    {
     "name": "stdout",
     "output_type": "stream",
     "text": [
      "c1 in Rs: 90.0 R\n",
      "c2 in Rs: 120.0 R\n",
      "c1 in Dollars: 1.5 $\n",
      "c2 in Euro: 1.7142857142857142 E\n"
     ]
    }
   ],
   "source": [
    "# Example usage\n",
    "c1 = Currency(1, \"#\")  # 1 unit of '#'\n",
    "c2 = Currency(2, \"$\")  # 2 units of '$'\n",
    "\n",
    "# Converting c1 (#) to Rs and printing\n",
    "c1_in_rs = c1.convert(\"R\")\n",
    "print(f\"c1 in Rs: {c1_in_rs}\")\n",
    "\n",
    "# Converting c2 ($) to Rs and printing\n",
    "c2_in_rs = c2.convert(\"R\")\n",
    "print(f\"c2 in Rs: {c2_in_rs}\")\n",
    "\n",
    "# Converting c1 (#) to $ and printing\n",
    "c1_in_dollars = c1.convert(\"$\")\n",
    "print(f\"c1 in Dollars: {c1_in_dollars}\")\n",
    "\n",
    "# Converting c2 ($) to # and printing\n",
    "c2_in_hash = c2.convert(\"E\")\n",
    "print(f\"c2 in Euro: {c2_in_hash}\")"
   ]
  },
  {
   "cell_type": "markdown",
   "metadata": {},
   "source": [
    "Private Members"
   ]
  },
  {
   "cell_type": "code",
   "execution_count": 85,
   "metadata": {},
   "outputs": [
    {
     "name": "stdout",
     "output_type": "stream",
     "text": [
      "1\n",
      "2\n",
      "SecretCount value is 2\n"
     ]
    }
   ],
   "source": [
    "class JustCounter:\n",
    "    _secretCount = 0\n",
    "\n",
    "    def count(self):\n",
    "      self._secretCount += 1\n",
    "      print(self._secretCount)\n",
    "\n",
    "counter = JustCounter()\n",
    "counter.count()\n",
    "counter.count()\n",
    "print(\"SecretCount value is\", counter._secretCount)"
   ]
  },
  {
   "cell_type": "code",
   "execution_count": 86,
   "metadata": {},
   "outputs": [],
   "source": [
    "class JustCounter:\n",
    "    __secretCount = 0\n",
    "    \n",
    "    @staticmethod\n",
    "    def increment():\n",
    "        JustCounter.__secretCount += 1\n",
    "        \n",
    "    @property\n",
    "    def count(self):\n",
    "        return JustCounter.__secretCount\n",
    "\n",
    "counter = JustCounter()"
   ]
  },
  {
   "cell_type": "code",
   "execution_count": 92,
   "metadata": {},
   "outputs": [
    {
     "name": "stdout",
     "output_type": "stream",
     "text": [
      "SecretCount value is 6\n"
     ]
    }
   ],
   "source": [
    "counter.increment()\n",
    "print(\"SecretCount value is\", counter.count)"
   ]
  },
  {
   "cell_type": "markdown",
   "metadata": {},
   "source": [
    "## Abstract Base Classes (ABCs) in Python\n",
    "\n",
    "An ```Abstract Base Class (ABC)``` in Python provides a blueprint for other classes. It defines a common interface that derived (child) classes must implement. ABCs cannot be instantiated directly; instead, they are used as base classes for concrete subclasses.\n",
    "\n",
    "Python provides the ```abc``` module for creating abstract base classes. It includes the ```ABC``` class and the ```@abstractmethod``` decorator to define abstract methods."
   ]
  },
  {
   "cell_type": "markdown",
   "metadata": {},
   "source": [
    "**Key Features of Abstract Base Classes**\n",
    "\n",
    "1. **Enforces Implementation**: Any class inheriting from an ABC must implement all its abstract methods.\n",
    "1. **Prevents Instantiation**: ABCs cannot be instantiated directly.\n",
    "1. **Provides Interface**: Defines a contract for derived classes to follow."
   ]
  },
  {
   "cell_type": "markdown",
   "metadata": {},
   "source": [
    "*Example:*"
   ]
  },
  {
   "cell_type": "code",
   "execution_count": 97,
   "metadata": {},
   "outputs": [],
   "source": [
    "from abc import ABC, abstractmethod\n",
    "\n",
    "# Define an Abstract Base Class\n",
    "class Shape(ABC):\n",
    "    @abstractmethod\n",
    "    def area(self):\n",
    "        \"\"\"Calculate the area of the shape\"\"\"\n",
    "        pass\n",
    "\n",
    "    @abstractmethod\n",
    "    def perimeter(self):\n",
    "        \"\"\"Calculate the perimeter of the shape\"\"\"\n",
    "        pass\n",
    "\n",
    "# Concrete Class: Rectangle\n",
    "class Rectangle(Shape):\n",
    "    def __init__(self, width, height):\n",
    "        self.width = width\n",
    "        self.height = height\n",
    "\n",
    "    def area(self):\n",
    "        return self.width * self.height\n",
    "\n",
    "    def perimeter(self):\n",
    "        return 2 * (self.width + self.height)\n",
    "\n",
    "# Concrete Class: Circle\n",
    "class Circle(Shape):\n",
    "    def __init__(self, radius):\n",
    "        self.radius = radius\n",
    "\n",
    "    def area(self):\n",
    "        return 3.14159 * self.radius ** 2\n",
    "\n",
    "    def perimeter(self):\n",
    "        return 2 * 3.14159 * self.radius"
   ]
  },
  {
   "cell_type": "code",
   "execution_count": 98,
   "metadata": {},
   "outputs": [
    {
     "name": "stdout",
     "output_type": "stream",
     "text": [
      "Rectangle Area: 50\n",
      "Rectangle Perimeter: 30\n",
      "Circle Area: 153.93791\n",
      "Circle Perimeter: 43.98226\n"
     ]
    }
   ],
   "source": [
    "# Example Usage\n",
    "rectangle = Rectangle(10, 5)\n",
    "circle = Circle(7)\n",
    "\n",
    "print(\"Rectangle Area:\", rectangle.area())\n",
    "print(\"Rectangle Perimeter:\", rectangle.perimeter())\n",
    "\n",
    "print(\"Circle Area:\", circle.area())\n",
    "print(\"Circle Perimeter:\", circle.perimeter())"
   ]
  },
  {
   "cell_type": "markdown",
   "metadata": {},
   "source": [
    "*Another Example*: for older python version"
   ]
  },
  {
   "cell_type": "code",
   "execution_count": 99,
   "metadata": {},
   "outputs": [
    {
     "name": "stdout",
     "output_type": "stream",
     "text": [
      "dum dum dim dim doom doom doom doom "
     ]
    }
   ],
   "source": [
    "from abc import *\n",
    "class MusicInstrument(object):\n",
    "    \n",
    "    __metaclass__ = ABCMeta\n",
    "\n",
    "    @abstractmethod\n",
    "    def sound(self):\n",
    "        print (\"play sound\")\n",
    "    \n",
    "class Drum(MusicInstrument):\n",
    "\n",
    "    def __init__(self, sounds):\n",
    "        drm = {}\n",
    "        for i in range(1,len(sounds)+1):\n",
    "            drm[\"d\"+str(i)] = sounds[i-1]\n",
    "\n",
    "        self.drm = drm\n",
    "\n",
    "    def sound(self,dno):\n",
    "        for i in range(0,len(dno),2):\n",
    "            for j in range(dno[i+1]):\n",
    "                print (self.drm[dno[i]],end=' ')\n",
    "        \n",
    "sound_list = [\"dum\",\"dim\",\"doom\"]\n",
    "\n",
    "drum1 = Drum(sound_list)\n",
    "drum1.sound([\"d1\",2,\"d2\",2,\"d3\",4])"
   ]
  },
  {
   "cell_type": "markdown",
   "metadata": {},
   "source": [
    "**Advantages of Abstract Base Classes**\n",
    "1. Code Consistency: Ensures all derived classes follow a common interface.\n",
    "1. Enforces Rules: Prevents instantiation of incomplete or partially implemented classes.\n",
    "1. Facilitates Polymorphism: Abstract classes make it easier to write code that works with a group of related objects."
   ]
  },
  {
   "cell_type": "markdown",
   "metadata": {},
   "source": [
    "***\n",
    "## Lab Challange\n",
    "\n",
    "**Challenge: Student Class with GPA Calculation, Inheritance, and Polymorphism**\n",
    "\n",
    "**Task:**\n",
    "1. Create a Student class that represents a student with attributes like name, student ID, and grades in different subjects. Implement methods to calculate the GPA (Grade Point Average) of the student based on their grades.\n",
    "1. Extend the Student class to represent specific types of students (e.g., Undergraduate and Graduate students) to demonstrate inheritance.\n",
    "1. Implement polymorphism to handle GPA calculations differently for each type of student (e.g., using different weightings for undergraduate and graduate students).\n",
    "\n",
    "**Steps to Follow:**\n",
    "1. Create a Student class with:\n",
    "    - Attributes: name, student_id, and grades (a dictionary containing subject names and their corresponding grades).\n",
    "    - A method calculate_gpa to calculate the GPA based on grades.\n",
    "1. Extend the Student class to create subclasses Undergraduate and Graduate, where:\n",
    "    - The Undergraduate class uses a different method for calculating the GPA (e.g., equal weights for all subjects).\n",
    "    - The Graduate class gives more weight to certain subjects for GPA calculation.\n",
    "1. Demonstrate polymorphism by overriding the calculate_gpa method in the Undergraduate and Graduate subclasses to calculate the GPA differently."
   ]
  }
 ],
 "metadata": {
  "kernelspec": {
   "display_name": "Python 3",
   "language": "python",
   "name": "python3"
  },
  "language_info": {
   "codemirror_mode": {
    "name": "ipython",
    "version": 3
   },
   "file_extension": ".py",
   "mimetype": "text/x-python",
   "name": "python",
   "nbconvert_exporter": "python",
   "pygments_lexer": "ipython3",
   "version": "3.12.1"
  }
 },
 "nbformat": 4,
 "nbformat_minor": 2
}
