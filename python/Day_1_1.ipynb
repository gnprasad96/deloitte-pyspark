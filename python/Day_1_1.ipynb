{
 "cells": [
  {
   "cell_type": "markdown",
   "metadata": {},
   "source": [
    "## Day 1: Data Structures"
   ]
  },
  {
   "cell_type": "markdown",
   "metadata": {},
   "source": [
    "***\n",
    "## Lists\n",
    "A Python list is a versatile, ordered, and mutable collection of items that can store a variety of data types, including numbers, strings, and even other lists. Lists are widely used because they allow easy access, modification, and manipulation of elements.\n",
    "\n",
    "**Characteristics of a Python List**\n",
    "1. Ordered: Items in a list maintain their order; you can access them using their position (index).\n",
    "1. Mutable: You can modify a list after its creation (e.g., add, remove, or change elements).\n",
    "1. Heterogeneous: Lists can store elements of different data types.\n",
    "1. Dynamic: The size of a list can change dynamically; you can add or remove elements as needed."
   ]
  },
  {
   "cell_type": "markdown",
   "metadata": {},
   "source": [
    "**Example**: Creating and Printing a List"
   ]
  },
  {
   "cell_type": "code",
   "execution_count": 1,
   "metadata": {},
   "outputs": [
    {
     "name": "stdout",
     "output_type": "stream",
     "text": [
      "[[1, 2, 3, 4, 5], ['Ram', 'Rani', 'Yash', 'Lalit', 'Priyadarshini'], 500]\n"
     ]
    }
   ],
   "source": [
    "student_list=[\n",
    "    [1,2,3,4,5],\n",
    "    [\"Ram\",\"Rani\",\"Yash\",\"Lalit\",\"Priyadarshini\"],\n",
    "    500]\n",
    "\n",
    "print(student_list)"
   ]
  },
  {
   "cell_type": "code",
   "execution_count": null,
   "metadata": {},
   "outputs": [
    {
     "name": "stdout",
     "output_type": "stream",
     "text": [
      "['Ram', 'Rani', 'Yash', 'Lalit', 'Priyadarshini']\n",
      "Priyadarshini\n"
     ]
    }
   ],
   "source": [
    "# Accessing the Elements\n",
    "\n",
    "print(student_list[1])\n",
    "print(student_list[1][-1])"
   ]
  },
  {
   "cell_type": "code",
   "execution_count": 5,
   "metadata": {},
   "outputs": [
    {
     "name": "stdout",
     "output_type": "stream",
     "text": [
      "['Suzuki', 'Ford', 'Honda']\n",
      "['Suzuki', 'Tata NEXON EV', 'Honda']\n"
     ]
    }
   ],
   "source": [
    "cars=['Suzuki','Ford','Honda']\n",
    "print(cars)\n",
    "\n",
    "# Modifying Elements\n",
    "cars[-2]='Tata NEXON EV'\n",
    "print(cars)"
   ]
  },
  {
   "cell_type": "code",
   "execution_count": 3,
   "metadata": {},
   "outputs": [
    {
     "ename": "TypeError",
     "evalue": "'str' object does not support item assignment",
     "output_type": "error",
     "traceback": [
      "\u001b[1;31m---------------------------------------------------------------------------\u001b[0m",
      "\u001b[1;31mTypeError\u001b[0m                                 Traceback (most recent call last)",
      "Cell \u001b[1;32mIn[3], line 2\u001b[0m\n\u001b[0;32m      1\u001b[0m cars\u001b[38;5;241m=\u001b[39m\u001b[38;5;124m'\u001b[39m\u001b[38;5;124msuzuki\u001b[39m\u001b[38;5;124m'\u001b[39m\n\u001b[1;32m----> 2\u001b[0m \u001b[43mcars\u001b[49m\u001b[43m[\u001b[49m\u001b[38;5;241;43m0\u001b[39;49m\u001b[43m]\u001b[49m\u001b[38;5;241m=\u001b[39m\u001b[38;5;124m'\u001b[39m\u001b[38;5;124mS\u001b[39m\u001b[38;5;124m'\u001b[39m\n\u001b[0;32m      3\u001b[0m \u001b[38;5;66;03m#print(cars[0])\u001b[39;00m\n",
      "\u001b[1;31mTypeError\u001b[0m: 'str' object does not support item assignment"
     ]
    }
   ],
   "source": [
    "cars='suzuki'\n",
    "cars[0]='S'\n",
    "#print(cars[0])"
   ]
  },
  {
   "cell_type": "code",
   "execution_count": 17,
   "metadata": {},
   "outputs": [
    {
     "name": "stdout",
     "output_type": "stream",
     "text": [
      "<class 'list'>\n"
     ]
    }
   ],
   "source": [
    "print(type(cars))"
   ]
  },
  {
   "cell_type": "markdown",
   "metadata": {},
   "source": [
    "Methods and Functions with list"
   ]
  },
  {
   "cell_type": "code",
   "execution_count": 6,
   "metadata": {},
   "outputs": [
    {
     "data": {
      "text/plain": [
       "[1, 2, 3, 4, 5, 6]"
      ]
     },
     "execution_count": 6,
     "metadata": {},
     "output_type": "execute_result"
    }
   ],
   "source": [
    "# Combining Lists\n",
    "a=[1,2,3]\n",
    "b=[4,5,6]\n",
    "a+b"
   ]
  },
  {
   "cell_type": "code",
   "execution_count": 7,
   "metadata": {},
   "outputs": [
    {
     "name": "stdout",
     "output_type": "stream",
     "text": [
      "[1, 2, 3, 1, 2, 3, 1, 2, 3, 1, 2, 3, 1, 2, 3]\n"
     ]
    }
   ],
   "source": [
    "print(a*5)"
   ]
  },
  {
   "cell_type": "code",
   "execution_count": 8,
   "metadata": {},
   "outputs": [
    {
     "name": "stdout",
     "output_type": "stream",
     "text": [
      "[(1, 4), (2, 5), (3, 6)]\n"
     ]
    },
    {
     "data": {
      "text/plain": [
       "[5, 7, 9]"
      ]
     },
     "execution_count": 8,
     "metadata": {},
     "output_type": "execute_result"
    }
   ],
   "source": [
    "zipped = list(zip(a,b))\n",
    "print(zipped)\n",
    "sumab = [sum(k) for k in zipped]\n",
    "sumab"
   ]
  },
  {
   "cell_type": "markdown",
   "metadata": {},
   "source": [
    "Iterating Through a List"
   ]
  },
  {
   "cell_type": "code",
   "execution_count": 9,
   "metadata": {},
   "outputs": [
    {
     "name": "stdout",
     "output_type": "stream",
     "text": [
      "APPLE\n",
      "BANANA\n",
      "CHERRY\n"
     ]
    }
   ],
   "source": [
    "fruits = [\"apple\", \"banana\", \"cherry\"]\n",
    "for fruit in fruits:\n",
    "    print(fruit.upper()) "
   ]
  },
  {
   "cell_type": "code",
   "execution_count": 10,
   "metadata": {},
   "outputs": [
    {
     "name": "stdout",
     "output_type": "stream",
     "text": [
      "[5, 7, 9]\n"
     ]
    }
   ],
   "source": [
    "c=[]\n",
    "for i in range(0,len(a)):\n",
    "  sum=a[i]+b[i]\n",
    "  c.append(sum)\n",
    "\n",
    "print(c)"
   ]
  },
  {
   "cell_type": "markdown",
   "metadata": {},
   "source": [
    "**Slicing a List**\n",
    "\n",
    "*Syntax*: list_name[start : end : step]\n",
    "\n",
    "_Parameters_:\n",
    "\n",
    "- *start (optional)*: Index to begin the slice (inclusive). Defaults to 0 if omitted.\n",
    "- *end (optional)*: Index to end the slice (exclusive). Defaults to the length of list if omitted.\n",
    "- *step (optional)*: Step size, specifying the interval between elements. Defaults to 1 if omitted"
   ]
  },
  {
   "cell_type": "code",
   "execution_count": 11,
   "metadata": {},
   "outputs": [
    {
     "name": "stdout",
     "output_type": "stream",
     "text": [
      "[0, 1, 2, 3, 4, 5, 6, 7, 8, 9]\n",
      "[9, 8, 7, 6, 5, 4, 3, 2, 1, 0]\n",
      "[7, 9]\n",
      "[7, 8]\n",
      "[9, 7, 5, 3]\n"
     ]
    }
   ],
   "source": [
    "a = [0,1,2,3,4,5,6,7,8,9]\n",
    "print(a[::])\n",
    "print(a[::-1])\n",
    "print(a[-3::2])\n",
    "print(a[-3:-1:])\n",
    "print(a[-1:-8:-2])"
   ]
  },
  {
   "cell_type": "code",
   "execution_count": 12,
   "metadata": {},
   "outputs": [
    {
     "name": "stdout",
     "output_type": "stream",
     "text": [
      "3\n",
      "['apple', 'banana', 'cherry']\n"
     ]
    }
   ],
   "source": [
    "# Lenght of list\n",
    "print(len(fruits))\n",
    "print(fruits)"
   ]
  },
  {
   "cell_type": "code",
   "execution_count": 13,
   "metadata": {},
   "outputs": [
    {
     "name": "stdout",
     "output_type": "stream",
     "text": [
      "False\n"
     ]
    }
   ],
   "source": [
    "# Search in list\n",
    "print('Apple' in fruits)"
   ]
  },
  {
   "cell_type": "code",
   "execution_count": 18,
   "metadata": {},
   "outputs": [
    {
     "name": "stdout",
     "output_type": "stream",
     "text": [
      "['__add__', '__class__', '__class_getitem__', '__contains__', '__delattr__', '__delitem__', '__dir__', '__doc__', '__eq__', '__format__', '__ge__', '__getattribute__', '__getitem__', '__getstate__', '__gt__', '__hash__', '__iadd__', '__imul__', '__init__', '__init_subclass__', '__iter__', '__le__', '__len__', '__lt__', '__mul__', '__ne__', '__new__', '__reduce__', '__reduce_ex__', '__repr__', '__reversed__', '__rmul__', '__setattr__', '__setitem__', '__sizeof__', '__str__', '__subclasshook__', 'append', 'clear', 'copy', 'count', 'extend', 'index', 'insert', 'pop', 'remove', 'reverse', 'sort']\n"
     ]
    }
   ],
   "source": [
    "print(dir(cars))"
   ]
  },
  {
   "cell_type": "code",
   "execution_count": 6,
   "metadata": {},
   "outputs": [
    {
     "data": {
      "text/plain": [
       "['Suzuki', 'Tata NEXON EV', 'Honda', 'Hundai']"
      ]
     },
     "execution_count": 6,
     "metadata": {},
     "output_type": "execute_result"
    }
   ],
   "source": [
    "# Add Element in the list\n",
    "cars.append('Hundai')\n",
    "cars"
   ]
  },
  {
   "cell_type": "code",
   "execution_count": 7,
   "metadata": {},
   "outputs": [
    {
     "data": {
      "text/plain": [
       "['Suzuki', 'Tata NEXON EV', 'Honda', 'Hundai', ['Mahindra', 'XO', '300']]"
      ]
     },
     "execution_count": 7,
     "metadata": {},
     "output_type": "execute_result"
    }
   ],
   "source": [
    "cars.append(['Mahindra', 'XO', '300'])\n",
    "cars"
   ]
  },
  {
   "cell_type": "code",
   "execution_count": 8,
   "metadata": {},
   "outputs": [
    {
     "data": {
      "text/plain": [
       "['Suzuki', 'Tata NEXON EV', 'Honda', 'Hundai']"
      ]
     },
     "execution_count": 8,
     "metadata": {},
     "output_type": "execute_result"
    }
   ],
   "source": [
    "cars.pop()\n",
    "cars"
   ]
  },
  {
   "cell_type": "code",
   "execution_count": 9,
   "metadata": {},
   "outputs": [
    {
     "data": {
      "text/plain": [
       "['Suzuki', 'Tata NEXON EV', 'Honda', 'Hundai', 'Mahindra XO']"
      ]
     },
     "execution_count": 9,
     "metadata": {},
     "output_type": "execute_result"
    }
   ],
   "source": [
    "cars.append('Mahindra XO')\n",
    "cars"
   ]
  },
  {
   "cell_type": "code",
   "execution_count": 10,
   "metadata": {},
   "outputs": [
    {
     "data": {
      "text/plain": [
       "['Suzuki', 'Tata NEXON EV', 'Honda', 'Hundai']"
      ]
     },
     "execution_count": 10,
     "metadata": {},
     "output_type": "execute_result"
    }
   ],
   "source": [
    "cars.pop(4)\n",
    "cars"
   ]
  },
  {
   "cell_type": "code",
   "execution_count": 15,
   "metadata": {},
   "outputs": [
    {
     "data": {
      "text/plain": [
       "5"
      ]
     },
     "execution_count": 15,
     "metadata": {},
     "output_type": "execute_result"
    }
   ],
   "source": [
    "a=[1,2,3,4,5,3,1,4,5,6,2,4,1,3,5,2,3,3,1,2]\n",
    "a.count(3)"
   ]
  },
  {
   "cell_type": "code",
   "execution_count": 16,
   "metadata": {},
   "outputs": [
    {
     "name": "stdout",
     "output_type": "stream",
     "text": [
      "20\n",
      "6\n",
      "1\n"
     ]
    }
   ],
   "source": [
    "print(len(a))\n",
    "print(max(a))\n",
    "print(min(a))"
   ]
  },
  {
   "cell_type": "code",
   "execution_count": 17,
   "metadata": {},
   "outputs": [
    {
     "data": {
      "text/plain": [
       "[1, 2, 3, 4, 5, 3, 1, 4, 5, 6, 2, 4, 1, 3, 5, 2, 3, 3, 1, 2]"
      ]
     },
     "execution_count": 17,
     "metadata": {},
     "output_type": "execute_result"
    }
   ],
   "source": [
    "a"
   ]
  },
  {
   "cell_type": "code",
   "execution_count": 19,
   "metadata": {},
   "outputs": [
    {
     "data": {
      "text/plain": [
       "[1, 1000, 1000, 2, 3, 4, 5, 3, 1, 4, 5, 6, 2, 4, 1, 3, 5, 2, 3, 3, 1, 2]"
      ]
     },
     "execution_count": 19,
     "metadata": {},
     "output_type": "execute_result"
    }
   ],
   "source": [
    "a.insert(1,1000)\n",
    "a"
   ]
  },
  {
   "cell_type": "code",
   "execution_count": 20,
   "metadata": {},
   "outputs": [
    {
     "data": {
      "text/plain": [
       "[1, 1000, 1000, 2, 3, 4, 5, 3, 1, 4, 5, 6, 2, 4, 1, 3, 5, 2, 3, 3, 1, 2, 1000]"
      ]
     },
     "execution_count": 20,
     "metadata": {},
     "output_type": "execute_result"
    }
   ],
   "source": [
    "a.append(1000)\n",
    "a"
   ]
  },
  {
   "cell_type": "code",
   "execution_count": 24,
   "metadata": {},
   "outputs": [
    {
     "ename": "ValueError",
     "evalue": "list.remove(x): x not in list",
     "output_type": "error",
     "traceback": [
      "\u001b[1;31m---------------------------------------------------------------------------\u001b[0m",
      "\u001b[1;31mValueError\u001b[0m                                Traceback (most recent call last)",
      "Cell \u001b[1;32mIn[24], line 1\u001b[0m\n\u001b[1;32m----> 1\u001b[0m \u001b[43ma\u001b[49m\u001b[38;5;241;43m.\u001b[39;49m\u001b[43mremove\u001b[49m\u001b[43m(\u001b[49m\u001b[38;5;241;43m1000\u001b[39;49m\u001b[43m)\u001b[49m\n\u001b[0;32m      2\u001b[0m a\n",
      "\u001b[1;31mValueError\u001b[0m: list.remove(x): x not in list"
     ]
    }
   ],
   "source": [
    "a.remove(1000)\n",
    "a"
   ]
  },
  {
   "cell_type": "code",
   "execution_count": 25,
   "metadata": {},
   "outputs": [
    {
     "data": {
      "text/plain": [
       "['Ferari', 'Lamborgini', 'Audi', 'Tesla']"
      ]
     },
     "execution_count": 25,
     "metadata": {},
     "output_type": "execute_result"
    }
   ],
   "source": [
    "cars2 = ['Ferari', 'Lamborgini', 'Audi', 'Tesla']\n",
    "cars2"
   ]
  },
  {
   "cell_type": "code",
   "execution_count": 26,
   "metadata": {},
   "outputs": [
    {
     "data": {
      "text/plain": [
       "['Suzuki',\n",
       " 'Tata NEXON EV',\n",
       " 'Honda',\n",
       " 'Hundai',\n",
       " 'Ferari',\n",
       " 'Lamborgini',\n",
       " 'Audi',\n",
       " 'Tesla']"
      ]
     },
     "execution_count": 26,
     "metadata": {},
     "output_type": "execute_result"
    }
   ],
   "source": [
    "cars.extend(cars2)\n",
    "cars"
   ]
  },
  {
   "cell_type": "code",
   "execution_count": 27,
   "metadata": {},
   "outputs": [
    {
     "data": {
      "text/plain": [
       "['Audi',\n",
       " 'Ferari',\n",
       " 'Honda',\n",
       " 'Hundai',\n",
       " 'Lamborgini',\n",
       " 'Suzuki',\n",
       " 'Tata NEXON EV',\n",
       " 'Tesla']"
      ]
     },
     "execution_count": 27,
     "metadata": {},
     "output_type": "execute_result"
    }
   ],
   "source": [
    "cars.sort()\n",
    "cars"
   ]
  },
  {
   "cell_type": "code",
   "execution_count": 28,
   "metadata": {},
   "outputs": [
    {
     "data": {
      "text/plain": [
       "['Range Rover', 'Lamborgini', 'Audi', 'Tesla']"
      ]
     },
     "execution_count": 28,
     "metadata": {},
     "output_type": "execute_result"
    }
   ],
   "source": [
    "cars2[0] = 'Range Rover'\n",
    "cars2"
   ]
  },
  {
   "cell_type": "code",
   "execution_count": 29,
   "metadata": {},
   "outputs": [
    {
     "data": {
      "text/plain": [
       "['Audi',\n",
       " 'Ferari',\n",
       " 'Honda',\n",
       " 'Hundai',\n",
       " 'Lamborgini',\n",
       " 'Suzuki',\n",
       " 'Tata NEXON EV',\n",
       " 'Tesla']"
      ]
     },
     "execution_count": 29,
     "metadata": {},
     "output_type": "execute_result"
    }
   ],
   "source": [
    "cars"
   ]
  },
  {
   "cell_type": "code",
   "execution_count": 30,
   "metadata": {},
   "outputs": [
    {
     "data": {
      "text/plain": [
       "[1, 1, 1, 1, 2, 2, 2, 2, 3, 3, 3, 3, 3, 4, 4, 4, 5, 5, 5, 6]"
      ]
     },
     "execution_count": 30,
     "metadata": {},
     "output_type": "execute_result"
    }
   ],
   "source": [
    "a.sort()\n",
    "a"
   ]
  },
  {
   "cell_type": "code",
   "execution_count": 31,
   "metadata": {},
   "outputs": [
    {
     "data": {
      "text/plain": [
       "[6, 5, 5, 5, 4, 4, 4, 3, 3, 3, 3, 3, 2, 2, 2, 2, 1, 1, 1, 1]"
      ]
     },
     "execution_count": 31,
     "metadata": {},
     "output_type": "execute_result"
    }
   ],
   "source": [
    "a.reverse()\n",
    "a"
   ]
  },
  {
   "cell_type": "code",
   "execution_count": 32,
   "metadata": {},
   "outputs": [
    {
     "data": {
      "text/plain": [
       "['KPMG', 2021, 123, 2022, 13.5, 'zara', 'xyz', 123]"
      ]
     },
     "execution_count": 32,
     "metadata": {},
     "output_type": "execute_result"
    }
   ],
   "source": [
    "list1=[123, 'xyz', 'zara', 13.5, 2022, 123, 2021, 'KPMG']\n",
    "list1.reverse()\n",
    "list1"
   ]
  },
  {
   "cell_type": "markdown",
   "metadata": {},
   "source": [
    "### List Copy\n",
    "\n",
    "In Python, copying a list involves creating a new list that contains the same elements as the original list. However, there are different ways to copy a list, and they behave differently based on whether the copy is **shallow** or **deep**"
   ]
  },
  {
   "cell_type": "markdown",
   "metadata": {},
   "source": [
    "**Shallow Copy**\n",
    "\n",
    "-  A shallow copy creates a new list with references to the original list's elements.\n",
    "\n",
    "-  Changes to mutable elements (like lists, dictionaries) inside the original list will affect the shallow copy because both lists share the same references to these elements.\n",
    "\n",
    "-  Methods to create a shallow copy:\n",
    "    - copy() method\n",
    "    - Slicing ([:])\n",
    "    - list() constructor"
   ]
  },
  {
   "cell_type": "code",
   "execution_count": 34,
   "metadata": {},
   "outputs": [
    {
     "name": "stdout",
     "output_type": "stream",
     "text": [
      "[1, 2, [3, 4]]\n"
     ]
    }
   ],
   "source": [
    "import copy\n",
    "\n",
    "# Original list\n",
    "original_list = [1, 2, [3, 4]]\n",
    "\n",
    "# Shallow copy using copy()\n",
    "shallow_copy = original_list.copy()\n",
    "print(original_list)"
   ]
  },
  {
   "cell_type": "code",
   "execution_count": 35,
   "metadata": {},
   "outputs": [
    {
     "name": "stdout",
     "output_type": "stream",
     "text": [
      "Original List: [1, 2, [99, 4]]\n",
      "Shallow Copy: [1, 2, [99, 4]]\n"
     ]
    }
   ],
   "source": [
    "# Modify the nested list\n",
    "shallow_copy[2][0] = 99\n",
    "print(\"Original List:\", original_list)\n",
    "print(\"Shallow Copy:\", shallow_copy)"
   ]
  },
  {
   "cell_type": "code",
   "execution_count": 41,
   "metadata": {},
   "outputs": [
    {
     "name": "stdout",
     "output_type": "stream",
     "text": [
      "Copied List: [1, 2, [3, 4]]\n"
     ]
    }
   ],
   "source": [
    "# Using Slicing\n",
    "numbers = [1, 2, [3, 4]]\n",
    "copied_list = numbers[:]\n",
    "print(\"Copied List:\", copied_list)"
   ]
  },
  {
   "cell_type": "code",
   "execution_count": 42,
   "metadata": {},
   "outputs": [
    {
     "name": "stdout",
     "output_type": "stream",
     "text": [
      "numbers list:  [1, 2, [3, 1000]]\n",
      "Copied List: [1, 2, [3, 1000]]\n"
     ]
    }
   ],
   "source": [
    "copied_list[2][1] = 1000\n",
    "print(\"numbers list: \", numbers)\n",
    "print(\"Copied List:\", copied_list)"
   ]
  },
  {
   "cell_type": "code",
   "execution_count": 40,
   "metadata": {},
   "outputs": [
    {
     "name": "stdout",
     "output_type": "stream",
     "text": [
      "numbers list:  [1, 2, [1000, 4]]\n",
      "Copied List: [1, 2, [1000, 4]]\n"
     ]
    }
   ],
   "source": [
    "numbers[2][0] = 1000\n",
    "print(\"numbers list: \", numbers)\n",
    "print(\"Copied List:\", copied_list)"
   ]
  },
  {
   "cell_type": "markdown",
   "metadata": {},
   "source": [
    "**Deep Copy**\n",
    "- A deep copy creates a completely independent copy of the original list, including copies of any nested objects.\n",
    "- Changes to the original list or its nested objects do not affect the deep copy.\n",
    "- Created using the copy module's deepcopy() function."
   ]
  },
  {
   "cell_type": "code",
   "execution_count": 45,
   "metadata": {},
   "outputs": [
    {
     "data": {
      "text/plain": [
       "[1, 2, [99, 4]]"
      ]
     },
     "execution_count": 45,
     "metadata": {},
     "output_type": "execute_result"
    }
   ],
   "source": [
    "original_list"
   ]
  },
  {
   "cell_type": "code",
   "execution_count": 43,
   "metadata": {},
   "outputs": [],
   "source": [
    "# Deep copy using deepcopy()\n",
    "deep_copy = copy.deepcopy(original_list)\n"
   ]
  },
  {
   "cell_type": "code",
   "execution_count": 44,
   "metadata": {},
   "outputs": [
    {
     "name": "stdout",
     "output_type": "stream",
     "text": [
      "Original List: [1, 2, [99, 4]]\n",
      "Deep Copy: [1, 2, [42, 4]]\n"
     ]
    }
   ],
   "source": [
    "# Modify the nested list in the deep copy\n",
    "deep_copy[2][0] = 42\n",
    "print(\"Original List:\", original_list)\n",
    "print(\"Deep Copy:\", deep_copy)"
   ]
  },
  {
   "cell_type": "code",
   "execution_count": 46,
   "metadata": {},
   "outputs": [
    {
     "name": "stdout",
     "output_type": "stream",
     "text": [
      "[1, 2, 3, 4]\n",
      "[1, 2]\n"
     ]
    }
   ],
   "source": [
    "list1 , list2 = [1,2,3,4], [1,2]\n",
    "print(list1)\n",
    "print(list2)"
   ]
  },
  {
   "cell_type": "markdown",
   "metadata": {},
   "source": [
    "***\n",
    "## Tuples\n",
    "\n",
    "A tuple is an immutable and ordered collection of elements in Python, defined using parentheses (). Since tuples are immutable, their elements cannot be changed once defined. Tuples are often used to store related data that should remain constant throughout the program.\n",
    "\n",
    "**Features of Tuples**\n",
    "1. Immutable: Cannot be modified after creation.\n",
    "1. Ordered: Maintain the insertion order.\n",
    "1. Heterogeneous: Can store elements of different data types.\n",
    "1. Hashable: Can be used as keys in dictionaries if they contain only hashable elements."
   ]
  },
  {
   "cell_type": "markdown",
   "metadata": {},
   "source": [
    "**Example**"
   ]
  },
  {
   "cell_type": "code",
   "execution_count": 47,
   "metadata": {},
   "outputs": [
    {
     "name": "stdout",
     "output_type": "stream",
     "text": [
      "(1, 'Hello', [2, 3], {'key': 'value'})\n",
      "((1, 2), (3, 4), (5, 6))\n"
     ]
    }
   ],
   "source": [
    "# Creating tuples\n",
    "empty_tuple = ()\n",
    "single_element_tuple = (42,)  # Comma is necessary for single-element tuples\n",
    "mixed_tuple = (1, \"Hello\", [2, 3], {\"key\": \"value\"})\n",
    "nested_tuple = ((1, 2), (3, 4), (5, 6))\n",
    "\n",
    "print(mixed_tuple)\n",
    "print(nested_tuple)"
   ]
  },
  {
   "cell_type": "code",
   "execution_count": 48,
   "metadata": {},
   "outputs": [
    {
     "name": "stdout",
     "output_type": "stream",
     "text": [
      "Latitude: 37.7749, Longitude: -122.4194\n"
     ]
    }
   ],
   "source": [
    "# Example: Storing Coordinates\n",
    "# Tuples are often used to represent fixed collections of values, such as geographical coordinates.\n",
    "\n",
    "# Latitude and Longitude\n",
    "coordinates = (37.7749, -122.4194)  # San Francisco\n",
    "print(f\"Latitude: {coordinates[0]}, Longitude: {coordinates[1]}\")"
   ]
  },
  {
   "cell_type": "code",
   "execution_count": 49,
   "metadata": {},
   "outputs": [
    {
     "name": "stdout",
     "output_type": "stream",
     "text": [
      "Minimum: 1, Maximum: 9\n"
     ]
    }
   ],
   "source": [
    "# Returning Multiple Values from Functions\n",
    "# Function returning a tuple\n",
    "\n",
    "def min_max(numbers):\n",
    "    return (min(numbers), max(numbers))\n",
    "\n",
    "nums = [4, 7, 1, 9, 3]\n",
    "result = min_max(nums)\n",
    "print(f\"Minimum: {result[0]}, Maximum: {result[1]}\")"
   ]
  },
  {
   "cell_type": "code",
   "execution_count": 50,
   "metadata": {},
   "outputs": [
    {
     "name": "stdout",
     "output_type": "stream",
     "text": [
      "Distance between New York and Los Angeles: 2445\n"
     ]
    }
   ],
   "source": [
    "# Using Tuples as Dictionary Keys\n",
    "# Since tuples are immutable and hashable, they can be used as dictionary keys.\n",
    "\n",
    "# Storing distances between cities\n",
    "distances = {\n",
    "    (\"New York\", \"Los Angeles\"): 2445,\n",
    "    (\"Chicago\", \"Houston\"): 925,\n",
    "    (\"San Francisco\", \"Seattle\"): 808,\n",
    "}\n",
    "\n",
    "print(\"Distance between New York and Los Angeles:\", distances[(\"New York\", \"Los Angeles\")])"
   ]
  },
  {
   "cell_type": "code",
   "execution_count": 51,
   "metadata": {},
   "outputs": [
    {
     "name": "stdout",
     "output_type": "stream",
     "text": [
      "Server IP: 192.168.1.1, Port: 8080, Protocol: https\n"
     ]
    }
   ],
   "source": [
    "# Immutable Data Records\n",
    "# Tuples are ideal for representing constant data, such as settings or configurations.\n",
    "\n",
    "# Server configuration\n",
    "server_config = (\"192.168.1.1\", 8080, \"https\")\n",
    "print(f\"Server IP: {server_config[0]}, Port: {server_config[1]}, Protocol: {server_config[2]}\")"
   ]
  },
  {
   "cell_type": "code",
   "execution_count": 52,
   "metadata": {},
   "outputs": [
    {
     "name": "stdout",
     "output_type": "stream",
     "text": [
      "After swapping: 10 5\n",
      "Unpacked - Minimum: 1, Maximum: 9\n"
     ]
    }
   ],
   "source": [
    "# Unpacking Tuples\n",
    "# Tuples allow unpacking to assign values to multiple variables in one line.\n",
    "\n",
    "# Swapping variables\n",
    "a, b = 5, 10\n",
    "a, b = b, a\n",
    "print(\"After swapping:\", a, b)\n",
    "\n",
    "# Unpacking function return values\n",
    "min_val, max_val = min_max(nums)\n",
    "print(f\"Unpacked - Minimum: {min_val}, Maximum: {max_val}\")"
   ]
  },
  {
   "cell_type": "code",
   "execution_count": 53,
   "metadata": {},
   "outputs": [
    {
     "name": "stdout",
     "output_type": "stream",
     "text": [
      "Employee: Alice, Age: 25, Department: HR\n",
      "Employee: Bob, Age: 30, Department: Engineering\n",
      "Employee: Charlie, Age: 28, Department: Marketing\n"
     ]
    }
   ],
   "source": [
    "# Iterating Through Tuples\n",
    "# Tuples can be used in loops for efficient data processing.\n",
    "\n",
    "# List of tuples for employee details\n",
    "employees = [(\"Alice\", 25, \"HR\"), (\"Bob\", 30, \"Engineering\"), (\"Charlie\", 28, \"Marketing\")]\n",
    "\n",
    "# Iterating through tuples\n",
    "for name, age, department in employees:\n",
    "    print(f\"Employee: {name}, Age: {age}, Department: {department}\")"
   ]
  },
  {
   "cell_type": "code",
   "execution_count": 54,
   "metadata": {},
   "outputs": [
    {
     "name": "stdout",
     "output_type": "stream",
     "text": [
      "Point: x=3, y=5\n"
     ]
    }
   ],
   "source": [
    "# Using Named Tuples for Readability\n",
    "# namedtuple from the collections module allows creating tuples with named fields.\n",
    "\n",
    "from collections import namedtuple\n",
    "\n",
    "# Define a named tuple for a Point\n",
    "Point = namedtuple(\"Point\", [\"x\", \"y\"])\n",
    "p = Point(3, 5)\n",
    "print(f\"Point: x={p.x}, y={p.y}\")"
   ]
  },
  {
   "cell_type": "markdown",
   "metadata": {},
   "source": [
    "**Tuple Methods**\n",
    "\n",
    "Since tuples are immutable, their methods are limited to operations that don't modify the data:\n",
    "\n",
    "- count(): Returns the count of a specific element.\n",
    "- index(): Returns the index of the first occurrence of a specific element."
   ]
  },
  {
   "cell_type": "markdown",
   "metadata": {},
   "source": [
    "**Example**"
   ]
  },
  {
   "cell_type": "code",
   "execution_count": 56,
   "metadata": {},
   "outputs": [
    {
     "name": "stdout",
     "output_type": "stream",
     "text": [
      "2\n",
      "1\n"
     ]
    }
   ],
   "source": [
    "colors = (\"red\", \"blue\", \"green\", \"red\", \"blue\")\n",
    "print(colors.count(\"red\"))  # Output: 2\n",
    "print(colors.index(\"blue\"))  # Output: 2"
   ]
  },
  {
   "cell_type": "markdown",
   "metadata": {},
   "source": [
    "***\n",
    "# Dictionaries\n",
    "\n",
    "A dictionary is an unordered, mutable collection of key-value pairs in Python. Each key must be unique and hashable, while the values can be of any data type. Dictionaries are defined using curly braces {}.\n",
    "\n",
    "**Features of Dictionaries**\n",
    "1. Key-Value Structure: Maps keys to values.\n",
    "1. Mutable: Can modify, add, or delete key-value pairs.\n",
    "1. Keys Must Be Unique: Duplicate keys are not allowed.\n",
    "1. Efficient Lookup: Access elements by keys in constant time."
   ]
  },
  {
   "cell_type": "markdown",
   "metadata": {},
   "source": [
    "**Example**"
   ]
  },
  {
   "cell_type": "code",
   "execution_count": 57,
   "metadata": {},
   "outputs": [
    {
     "name": "stdout",
     "output_type": "stream",
     "text": [
      "Alice\n",
      "{'name': 'Alice', 'age': 26, 'profession': 'Engineer'}\n"
     ]
    }
   ],
   "source": [
    "# Creating a dictionary\n",
    "person = {\n",
    "    \"name\": \"Alice\",\n",
    "    \"age\": 25,\n",
    "    \"city\": \"New York\"\n",
    "}\n",
    "\n",
    "# Accessing values\n",
    "print(person[\"name\"])  # Output: Alice\n",
    "\n",
    "# Adding a new key-value pair\n",
    "person[\"profession\"] = \"Engineer\"\n",
    "\n",
    "# Updating a value\n",
    "person[\"age\"] = 26\n",
    "\n",
    "# Removing a key-value pair\n",
    "del person[\"city\"]\n",
    "\n",
    "print(person)"
   ]
  },
  {
   "cell_type": "code",
   "execution_count": 58,
   "metadata": {},
   "outputs": [
    {
     "name": "stdout",
     "output_type": "stream",
     "text": [
      "Roles: admin , editor\n"
     ]
    }
   ],
   "source": [
    "# Storing User Information\n",
    "# Dictionaries are ideal for storing data about entities such as users.\n",
    "\n",
    "user = {\n",
    "    \"username\": \"john_doe\",\n",
    "    \"email\": \"john.doe@example.com\",\n",
    "    \"roles\": [\"admin\", \"editor\"]\n",
    "}\n",
    "\n",
    "# Accessing user roles\n",
    "print(f\"Roles: {' , '.join(user['roles'])}\")"
   ]
  },
  {
   "cell_type": "code",
   "execution_count": 120,
   "metadata": {},
   "outputs": [
    {
     "name": "stdout",
     "output_type": "stream",
     "text": [
      "{'hello': 2, 'world': 2, 'python': 1}\n"
     ]
    }
   ],
   "source": [
    "# Counting Frequencies (Word Count)\n",
    "# Dictionaries can be used to count the occurrences of elements in a dataset.\n",
    "\n",
    "text = \"hello world hello python world\"\n",
    "words = text.split()\n",
    "\n",
    "# Count word frequencies\n",
    "word_count = {}\n",
    "for word in words:\n",
    "    word_count[word] = word_count.get(word, 0) + 1\n",
    "\n",
    "print(word_count)  # Output: {'hello': 2, 'world': 2, 'python': 1}"
   ]
  },
  {
   "cell_type": "code",
   "execution_count": 62,
   "metadata": {},
   "outputs": [
    {
     "name": "stdout",
     "output_type": "stream",
     "text": [
      "Bob's number: Not found\n"
     ]
    }
   ],
   "source": [
    "# Phonebook Application\n",
    "# Dictionaries are perfect for building a phonebook.\n",
    "\n",
    "phonebook = {\n",
    "    \"Alice\": \"123-456-7890\",\n",
    "    \"Bob\": \"987-654-3210\",\n",
    "    \"Charlie\": \"555-555-5555\"\n",
    "}\n",
    "\n",
    "# Lookup a number\n",
    "print(f\"Bob's number: {phonebook.get('Bobs', 'Not found')}\")\n",
    "\n",
    "# Adding a new contact\n",
    "phonebook[\"Diana\"] = \"444-444-4444\""
   ]
  },
  {
   "cell_type": "code",
   "execution_count": 63,
   "metadata": {},
   "outputs": [
    {
     "name": "stdout",
     "output_type": "stream",
     "text": [
      "Average grade for Math: 84.33\n",
      "Average grade for Science: 86.67\n",
      "Average grade for English: 85.33\n"
     ]
    }
   ],
   "source": [
    "# Grouping Data by Keys\n",
    "# Group data by a common key, such as student grades by subjects.\n",
    "\n",
    "grades = {\n",
    "    \"Math\": [85, 90, 78],\n",
    "    \"Science\": [88, 92, 80],\n",
    "    \"English\": [82, 89, 85]\n",
    "}\n",
    "\n",
    "# Average grade for each subject\n",
    "for subject, scores in grades.items():\n",
    "    avg_score = round(sum(scores) / len(scores),2)\n",
    "    print(f\"Average grade for {subject}: {avg_score}\")"
   ]
  },
  {
   "cell_type": "code",
   "execution_count": 65,
   "metadata": {},
   "outputs": [
    {
     "name": "stdout",
     "output_type": "stream",
     "text": [
      "Retry count: 3\n"
     ]
    }
   ],
   "source": [
    "# Storing Configuration Settings\n",
    "# Dictionaries are widely used for application configurations.\n",
    "\n",
    "config = {\n",
    "    \"debug\": True,\n",
    "    \"database\": \"MySQL\",\n",
    "    \"max_connections\": 100,\n",
    "    \"retry\": {\"count\": 3, \"delay\": 5}\n",
    "}\n",
    "\n",
    "print(f\"Retry count: {config['retry']['count']}\")"
   ]
  },
  {
   "cell_type": "code",
   "execution_count": 66,
   "metadata": {},
   "outputs": [
    {
     "name": "stdout",
     "output_type": "stream",
     "text": [
      "{'python': [1, 2, 3], 'is': [1], 'great': [1], 'and': [2], 'java': [2], 'are': [2], 'popular': [2], 'i': [3], 'love': [3], 'coding': [3], 'in': [3]}\n"
     ]
    }
   ],
   "source": [
    "# Inverted Index for Search\n",
    "# Dictionaries can be used to implement an inverted index for fast keyword-based search.\n",
    "\n",
    "documents = {\n",
    "    1: \"Python is great\",\n",
    "    2: \"Python and Java are popular\",\n",
    "    3: \"I love coding in Python\"\n",
    "}\n",
    "\n",
    "# Building an inverted index\n",
    "inverted_index = {}\n",
    "for doc_id, content in documents.items():\n",
    "    for word in content.lower().split():\n",
    "        if word not in inverted_index:\n",
    "            inverted_index[word] = []\n",
    "        inverted_index[word].append(doc_id)\n",
    "\n",
    "print(inverted_index)"
   ]
  },
  {
   "cell_type": "code",
   "execution_count": 67,
   "metadata": {},
   "outputs": [
    {
     "name": "stdout",
     "output_type": "stream",
     "text": [
      "Employee Found: {'id': 2, 'name': 'Bob', 'department': 'Engineering'}\n"
     ]
    }
   ],
   "source": [
    "# Database-Like Storage\n",
    "# Dictionaries can represent database-like records for small applications.\n",
    "\n",
    "employees = [\n",
    "    {\"id\": 1, \"name\": \"Alice\", \"department\": \"HR\"},\n",
    "    {\"id\": 2, \"name\": \"Bob\", \"department\": \"Engineering\"},\n",
    "    {\"id\": 3, \"name\": \"Charlie\", \"department\": \"Marketing\"}\n",
    "]\n",
    "\n",
    "# Searching for an employee by ID\n",
    "employee = next((e for e in employees if e[\"id\"] == 2), None)\n",
    "print(f\"Employee Found: {employee}\")"
   ]
  },
  {
   "cell_type": "code",
   "execution_count": 9,
   "metadata": {},
   "outputs": [
    {
     "name": "stdout",
     "output_type": "stream",
     "text": [
      "{'HR': ['Alice', 'Charlie'], 'Engineering': ['Bob'], 'Marketing': ['Diana']}\n"
     ]
    }
   ],
   "source": [
    "# Using Default Dictionaries\n",
    "# The collections.defaultdict can simplify operations with missing keys.\n",
    "\n",
    "from collections import defaultdict\n",
    "\n",
    "# Default dictionary for grouping\n",
    "grouped_data = defaultdict(list)\n",
    "data = [(\"Alice\", \"HR\"), (\"Bob\", \"Engineering\"), (\"Charlie\", \"HR\"), (\"Diana\", \"Marketing\")]\n",
    "\n",
    "for name, department in data:\n",
    "    grouped_data[department].append(name)\n",
    "\n",
    "print(dict(grouped_data))"
   ]
  },
  {
   "cell_type": "markdown",
   "metadata": {},
   "source": [
    "---\n",
    "\n",
    "### Dictionary Methods\n",
    "\n",
    "Here are some common dictionary methods with examples:\n",
    "\n",
    "| **Method**         | **Description**                                   | **Example**                  |\n",
    "|---------------------|---------------------------------------------------|------------------------------|\n",
    "| `.get(key, default)`| Retrieves value for `key`, returns `default` if missing.| `dict.get('key', 'default')` |\n",
    "| `.keys()`          | Returns a view object of all keys.                | `dict.keys()`                |\n",
    "| `.values()`        | Returns a view object of all values.              | `dict.values()`              |\n",
    "| `.items()`         | Returns a view object of key-value pairs.         | `dict.items()`               |\n",
    "| `.pop(key, default)`| Removes key and returns value. Returns `default` if key not found.| `dict.pop('key', 'default')`|\n",
    "| `.update()`        | Updates dictionary with another dictionary.       | `dict.update(other_dict)`    |\n",
    "\n",
    "\n",
    "Dictionaries are extremely versatile and widely used in Python programming for:\n",
    "- Fast lookups and modifications.\n",
    "- Representing structured data.\n",
    "- Implementing algorithms like frequency counting and indexing.\n",
    "- Storing hierarchical data or configurations."
   ]
  },
  {
   "cell_type": "code",
   "execution_count": 68,
   "metadata": {},
   "outputs": [],
   "source": [
    "dictx = { \"A\":1,\n",
    "         \"B\":2,\n",
    "         \"C\":{\"A\":10,\"B\":20}\n",
    "    }"
   ]
  },
  {
   "cell_type": "code",
   "execution_count": 69,
   "metadata": {},
   "outputs": [
    {
     "data": {
      "text/plain": [
       "dict_keys(['A', 'B', 'C'])"
      ]
     },
     "execution_count": 69,
     "metadata": {},
     "output_type": "execute_result"
    }
   ],
   "source": [
    "dictx.keys()"
   ]
  },
  {
   "cell_type": "code",
   "execution_count": 70,
   "metadata": {},
   "outputs": [
    {
     "data": {
      "text/plain": [
       "dict_values([1, 2, {'A': 10, 'B': 20}])"
      ]
     },
     "execution_count": 70,
     "metadata": {},
     "output_type": "execute_result"
    }
   ],
   "source": [
    "dictx.values()"
   ]
  },
  {
   "cell_type": "code",
   "execution_count": 71,
   "metadata": {},
   "outputs": [],
   "source": [
    "dicty={\"A\":1, \"B\":2, \"C\":3, \"D\":4, \"E\":5}"
   ]
  },
  {
   "cell_type": "code",
   "execution_count": 72,
   "metadata": {},
   "outputs": [
    {
     "data": {
      "text/plain": [
       "3"
      ]
     },
     "execution_count": 72,
     "metadata": {},
     "output_type": "execute_result"
    }
   ],
   "source": [
    "dicty.pop(\"C\")"
   ]
  },
  {
   "cell_type": "code",
   "execution_count": 73,
   "metadata": {},
   "outputs": [
    {
     "data": {
      "text/plain": [
       "'Key is not present'"
      ]
     },
     "execution_count": 73,
     "metadata": {},
     "output_type": "execute_result"
    }
   ],
   "source": [
    "dicty.pop(\"Z\",\"Key is not present\")"
   ]
  },
  {
   "cell_type": "code",
   "execution_count": 74,
   "metadata": {},
   "outputs": [
    {
     "data": {
      "text/plain": [
       "1"
      ]
     },
     "execution_count": 74,
     "metadata": {},
     "output_type": "execute_result"
    }
   ],
   "source": [
    "dicty.pop(\"A\",\"Key is not present\")"
   ]
  },
  {
   "cell_type": "code",
   "execution_count": 75,
   "metadata": {},
   "outputs": [
    {
     "data": {
      "text/plain": [
       "{'B': 2, 'D': 4, 'E': 5}"
      ]
     },
     "execution_count": 75,
     "metadata": {},
     "output_type": "execute_result"
    }
   ],
   "source": [
    "dicty"
   ]
  },
  {
   "cell_type": "code",
   "execution_count": 78,
   "metadata": {},
   "outputs": [
    {
     "name": "stdout",
     "output_type": "stream",
     "text": [
      "('B', 2)\n",
      "{}\n"
     ]
    }
   ],
   "source": [
    "print(dicty.popitem())\n",
    "print(dicty)"
   ]
  },
  {
   "cell_type": "code",
   "execution_count": 79,
   "metadata": {},
   "outputs": [],
   "source": [
    "dicty={\"A\":1, \"B\":2, \"C\":3, \"D\":4, \"E\":5}"
   ]
  },
  {
   "cell_type": "code",
   "execution_count": 80,
   "metadata": {},
   "outputs": [
    {
     "data": {
      "text/plain": [
       "{'A': 1, 'B': 2, 'C': 3, 'E': 5}"
      ]
     },
     "execution_count": 80,
     "metadata": {},
     "output_type": "execute_result"
    }
   ],
   "source": [
    "del dicty[\"D\"]\n",
    "dicty"
   ]
  },
  {
   "cell_type": "code",
   "execution_count": null,
   "metadata": {},
   "outputs": [],
   "source": [
    "del dicty[\"D\"]"
   ]
  },
  {
   "cell_type": "code",
   "execution_count": 82,
   "metadata": {},
   "outputs": [
    {
     "name": "stdout",
     "output_type": "stream",
     "text": [
      "7\n"
     ]
    }
   ],
   "source": [
    "dictz ={\"Name\": \"Ram\" ,\"Age\":7 , \"Class\" : \"First\" }\n",
    "print(dictz[\"Age\"])\n"
   ]
  },
  {
   "cell_type": "code",
   "execution_count": 83,
   "metadata": {},
   "outputs": [],
   "source": [
    "dictz[\"Age\"] = 8\n",
    "dictz[\"school\"] = \"Baldwins school\""
   ]
  },
  {
   "cell_type": "code",
   "execution_count": 36,
   "metadata": {},
   "outputs": [
    {
     "data": {
      "text/plain": [
       "{'Name': 'Ram', 'Age': 8, 'Class': 'First', 'school': 'Baldwins school'}"
      ]
     },
     "execution_count": 36,
     "metadata": {},
     "output_type": "execute_result"
    }
   ],
   "source": [
    "dictz"
   ]
  },
  {
   "cell_type": "code",
   "execution_count": 84,
   "metadata": {},
   "outputs": [],
   "source": [
    "del dictz[\"Age\"]"
   ]
  },
  {
   "cell_type": "code",
   "execution_count": 38,
   "metadata": {},
   "outputs": [
    {
     "data": {
      "text/plain": [
       "{'Name': 'Ram', 'Class': 'First', 'school': 'Baldwins school'}"
      ]
     },
     "execution_count": 38,
     "metadata": {},
     "output_type": "execute_result"
    }
   ],
   "source": [
    "dictz"
   ]
  },
  {
   "cell_type": "code",
   "execution_count": 85,
   "metadata": {},
   "outputs": [
    {
     "data": {
      "text/plain": [
       "{'Name': 'Ram', 'Class': 'First', 'school': 'Baldwins school'}"
      ]
     },
     "execution_count": 85,
     "metadata": {},
     "output_type": "execute_result"
    }
   ],
   "source": [
    "dictz"
   ]
  },
  {
   "cell_type": "code",
   "execution_count": 86,
   "metadata": {},
   "outputs": [],
   "source": [
    "dictz.clear()"
   ]
  },
  {
   "cell_type": "code",
   "execution_count": 87,
   "metadata": {},
   "outputs": [
    {
     "data": {
      "text/plain": [
       "{}"
      ]
     },
     "execution_count": 87,
     "metadata": {},
     "output_type": "execute_result"
    }
   ],
   "source": [
    "dictz"
   ]
  },
  {
   "cell_type": "code",
   "execution_count": 88,
   "metadata": {},
   "outputs": [],
   "source": [
    "del dictz"
   ]
  },
  {
   "cell_type": "code",
   "execution_count": 89,
   "metadata": {},
   "outputs": [
    {
     "ename": "NameError",
     "evalue": "name 'dictz' is not defined",
     "output_type": "error",
     "traceback": [
      "\u001b[1;31m---------------------------------------------------------------------------\u001b[0m",
      "\u001b[1;31mNameError\u001b[0m                                 Traceback (most recent call last)",
      "Cell \u001b[1;32mIn[89], line 1\u001b[0m\n\u001b[1;32m----> 1\u001b[0m \u001b[43mdictz\u001b[49m\n",
      "\u001b[1;31mNameError\u001b[0m: name 'dictz' is not defined"
     ]
    }
   ],
   "source": [
    "dictz"
   ]
  },
  {
   "cell_type": "code",
   "execution_count": 90,
   "metadata": {},
   "outputs": [
    {
     "name": "stdout",
     "output_type": "stream",
     "text": [
      "{'brand': 'Ford', 'model': 'mustang', 'year': '1964'}\n"
     ]
    }
   ],
   "source": [
    "mydict = {\n",
    "    \"brand\":\"Ford\",\n",
    "    \"model\": \"mustang\",\n",
    "    \"year\":\"1964\"\n",
    "}\n",
    "print(mydict)"
   ]
  },
  {
   "cell_type": "code",
   "execution_count": 91,
   "metadata": {},
   "outputs": [
    {
     "name": "stdout",
     "output_type": "stream",
     "text": [
      "brand => Ford\n",
      "model => mustang\n",
      "year => 1964\n"
     ]
    }
   ],
   "source": [
    "for x in mydict:\n",
    "  print(x,'=>',mydict[x])"
   ]
  },
  {
   "cell_type": "markdown",
   "metadata": {},
   "source": [
    "**Copy in Python Dictionary**\n",
    "\n",
    "In Python, dictionaries are mutable, meaning they can be changed. When working with dictionary copying, it’s essential to distinguish between shallow copy and deep copy:\n",
    "\n",
    "**Shallow Copy**\n",
    "\n",
    "A shallow copy of a dictionary creates a new dictionary object with references to the original dictionary’s values. If the values themselves are mutable objects (like lists or nested dictionaries), changes to those objects in the copied dictionary will reflect in the original dictionary.\n",
    "\n",
    "**Methods to Create a Shallow Copy:**\n",
    "- dict.copy() Method\n",
    "\n",
    "- copy Module's copy() Function\n",
    "\n",
    "*Example:*"
   ]
  },
  {
   "cell_type": "code",
   "execution_count": 92,
   "metadata": {},
   "outputs": [
    {
     "name": "stdout",
     "output_type": "stream",
     "text": [
      "Original Dictionary: {'name': 'Alice', 'age': 25, 'skills': ['Python', 'SQL', 'Azure']}\n",
      "Shallow Copy: {'name': 'Alice', 'age': 25, 'skills': ['Python', 'SQL', 'Azure']}\n"
     ]
    }
   ],
   "source": [
    "import copy\n",
    "\n",
    "# Original dictionary\n",
    "original_dict = {\n",
    "    \"name\": \"Alice\",\n",
    "    \"age\": 25,\n",
    "    \"skills\": [\"Python\", \"SQL\"]\n",
    "}\n",
    "\n",
    "# Shallow copy\n",
    "shallow_copy = original_dict.copy()\n",
    "\n",
    "# Modify the shallow copy\n",
    "shallow_copy[\"skills\"].append(\"Azure\")\n",
    "\n",
    "print(\"Original Dictionary:\", original_dict) \n",
    "print(\"Shallow Copy:\", shallow_copy)\n"
   ]
  },
  {
   "cell_type": "markdown",
   "metadata": {},
   "source": [
    "**Deep Copy**\n",
    "\n",
    "A deep copy creates a new dictionary and recursively copies all the objects inside it. Changes in the copy do not affect the original dictionary.\n",
    "\n",
    "**Method to Create a Deep Copy:**\n",
    "\n",
    "- copy Module's deepcopy() Function\n",
    "\n",
    "*Example:*"
   ]
  },
  {
   "cell_type": "code",
   "execution_count": 93,
   "metadata": {},
   "outputs": [
    {
     "name": "stdout",
     "output_type": "stream",
     "text": [
      "Original Dictionary: {'name': 'Alice', 'age': 25, 'skills': ['Python', 'SQL']}\n",
      "Deep Copy: {'name': 'Alice', 'age': 25, 'skills': ['Python', 'SQL', 'Azure']}\n"
     ]
    }
   ],
   "source": [
    "import copy\n",
    "\n",
    "# Original dictionary\n",
    "original_dict = {\n",
    "    \"name\": \"Alice\",\n",
    "    \"age\": 25,\n",
    "    \"skills\": [\"Python\", \"SQL\"]\n",
    "}\n",
    "\n",
    "# Deep copy\n",
    "deep_copy = copy.deepcopy(original_dict)\n",
    "\n",
    "# Modify the deep copy\n",
    "deep_copy[\"skills\"].append(\"Azure\")\n",
    "\n",
    "print(\"Original Dictionary:\", original_dict) \n",
    "print(\"Deep Copy:\", deep_copy)"
   ]
  },
  {
   "cell_type": "markdown",
   "metadata": {},
   "source": [
    "**Direct Assignment vs Copy**\n",
    "\n",
    "When you assign a dictionary directly using = (e.g., copy_dict = original_dict), both variables reference the same object. Changes in one reflect in the other.\n",
    "\n",
    "*Example:*"
   ]
  },
  {
   "cell_type": "code",
   "execution_count": 94,
   "metadata": {},
   "outputs": [
    {
     "name": "stdout",
     "output_type": "stream",
     "text": [
      "Original Dictionary: {'key': 'new_value'}\n",
      "Assigned Dictionary: {'key': 'new_value'}\n"
     ]
    }
   ],
   "source": [
    "original_dict = {\"key\": \"value\"}\n",
    "assigned_dict = original_dict\n",
    "\n",
    "assigned_dict[\"key\"] = \"new_value\"\n",
    "\n",
    "print(\"Original Dictionary:\", original_dict) \n",
    "print(\"Assigned Dictionary:\", assigned_dict)"
   ]
  },
  {
   "cell_type": "markdown",
   "metadata": {},
   "source": [
    "**Key Differences Between Shallow and Deep Copy**\n",
    "\n",
    "| **Feature**           | **Shallow Copy**                               | **Deep Copy**                              |\n",
    "|------------------------|-----------------------------------------------|-------------------------------------------|\n",
    "| **Method**             | `dict.copy()` or `copy.copy()`               | `copy.deepcopy()`                         |\n",
    "| **References**         | Copies references to mutable objects.        | Recursively copies all objects.           |\n",
    "| **Shared Nested Data** | Yes                                          | No                                        |\n",
    "| **Performance**        | Faster                                       | Slower (due to recursive copying).        |\n",
    "\n",
    "\n",
    "**Best Practices**\n",
    "- Use **`dict.copy()`** for shallow copies if your data doesn’t contain nested structures.\n",
    "- Use **`copy.deepcopy()`** when working with dictionaries containing nested mutable objects to ensure complete independence of copies."
   ]
  },
  {
   "cell_type": "markdown",
   "metadata": {},
   "source": [
    "***\n",
    "# Python Set\n",
    "\n",
    "A set in Python is an unordered collection of unique elements. Sets are mutable, but they cannot contain mutable elements (e.g., lists or dictionaries). They are commonly used for operations like deduplication, mathematical set operations, and membership testing."
   ]
  },
  {
   "cell_type": "markdown",
   "metadata": {},
   "source": [
    "**Features of Sets**\n",
    "1. Unordered: The elements have no fixed order.\n",
    "1. Unique Elements: No duplicates are allowed.\n",
    "1. Mutable: Can add or remove elements, but elements themselves must be immutable (e.g., strings, numbers, tuples).\n",
    "1. Efficient: Optimized for membership testing and set operations."
   ]
  },
  {
   "cell_type": "markdown",
   "metadata": {},
   "source": [
    "*Example*"
   ]
  },
  {
   "cell_type": "code",
   "execution_count": 95,
   "metadata": {},
   "outputs": [
    {
     "name": "stdout",
     "output_type": "stream",
     "text": [
      "{'orange', 'apple', 'cherry'}\n"
     ]
    }
   ],
   "source": [
    "# Creating sets\n",
    "empty_set = set()  # Empty set\n",
    "fruits = {\"apple\", \"banana\", \"cherry\"}\n",
    "\n",
    "# Adding an element\n",
    "fruits.add(\"orange\")\n",
    "\n",
    "# Removing an element\n",
    "fruits.remove(\"banana\")  # Throws KeyError if not present\n",
    "fruits.discard(\"banana\")  # Safely removes, does nothing if not present\n",
    "\n",
    "print(fruits)"
   ]
  },
  {
   "cell_type": "code",
   "execution_count": 96,
   "metadata": {},
   "outputs": [
    {
     "name": "stdout",
     "output_type": "stream",
     "text": [
      "{1, 2, 3, 4, 5}\n"
     ]
    }
   ],
   "source": [
    "# Removing Duplicates from a List\n",
    "# Sets are commonly used to remove duplicates from a list.\n",
    "\n",
    "# List with duplicates\n",
    "numbers = [1, 2, 2, 3, 4, 4, 5]\n",
    "\n",
    "# Remove duplicates\n",
    "unique_numbers = set(numbers)\n",
    "\n",
    "print(unique_numbers)"
   ]
  },
  {
   "cell_type": "code",
   "execution_count": 97,
   "metadata": {},
   "outputs": [
    {
     "name": "stdout",
     "output_type": "stream",
     "text": [
      "Access granted\n"
     ]
    }
   ],
   "source": [
    "# Membership Testing\n",
    "# Check if an element exists in a collection.\n",
    "\n",
    "allowed_users = {\"alice\", \"bob\", \"charlie\"}\n",
    "\n",
    "if \"alice\" in allowed_users:\n",
    "    print(\"Access granted\")\n",
    "else:\n",
    "    print(\"Access denied\")"
   ]
  },
  {
   "cell_type": "code",
   "execution_count": null,
   "metadata": {},
   "outputs": [
    {
     "name": "stdout",
     "output_type": "stream",
     "text": [
      "{1, 2, 3, 4, 5, 6}\n",
      "{3, 4}\n",
      "{1, 2}\n",
      "{1, 2, 5, 6}\n"
     ]
    }
   ],
   "source": [
    "# Mathematical Set Operations\n",
    "# Perform operations like union, intersection, difference, and symmetric difference.\n",
    "\n",
    "set_a = {1, 2, 3, 4}\n",
    "set_b = {3, 4, 5, 6}\n",
    "\n",
    "# Union\n",
    "print(set_a | set_b)\n",
    "\n",
    "# Intersection\n",
    "print(set_a & set_b)\n",
    "\n",
    "# Difference\n",
    "print(set_a - set_b)\n",
    "\n",
    "# Symmetric Difference\n",
    "print(set_a ^ set_b)"
   ]
  },
  {
   "cell_type": "code",
   "execution_count": 98,
   "metadata": {},
   "outputs": [
    {
     "name": "stdout",
     "output_type": "stream",
     "text": [
      "{'great', 'is', 'easy', 'and', 'python'}\n"
     ]
    }
   ],
   "source": [
    "# Finding Unique Words in a Text\n",
    "# Use a set to extract unique words from a sentence or document.\n",
    "\n",
    "text = \"Python is great and Python is easy\"\n",
    "words = text.lower().split()\n",
    "\n",
    "unique_words = set(words)\n",
    "print(unique_words)"
   ]
  },
  {
   "cell_type": "code",
   "execution_count": 99,
   "metadata": {},
   "outputs": [
    {
     "name": "stdout",
     "output_type": "stream",
     "text": [
      "{4, 5}\n"
     ]
    }
   ],
   "source": [
    "# Identifying Common Elements Between Lists\n",
    "# Sets can efficiently find common elements between two lists.\n",
    "\n",
    "list1 = [1, 2, 3, 4, 5]\n",
    "list2 = [4, 5, 6, 7, 8]\n",
    "\n",
    "common = set(list1) & set(list2)\n",
    "print(common)"
   ]
  },
  {
   "cell_type": "code",
   "execution_count": 100,
   "metadata": {},
   "outputs": [
    {
     "name": "stdout",
     "output_type": "stream",
     "text": [
      "[10, 20, 30, 40]\n"
     ]
    }
   ],
   "source": [
    "# Eliminating Duplicate Items While Preserving Order\n",
    "# While sets themselves don’t preserve order, you can use a helper technique.\n",
    "\n",
    "from collections import OrderedDict\n",
    "\n",
    "# Remove duplicates and preserve order\n",
    "data = [10, 20, 20, 30, 10, 40]\n",
    "unique_data = list(OrderedDict.fromkeys(data))\n",
    "\n",
    "print(unique_data)"
   ]
  },
  {
   "cell_type": "code",
   "execution_count": 64,
   "metadata": {},
   "outputs": [
    {
     "name": "stdout",
     "output_type": "stream",
     "text": [
      "{'Bob'}\n"
     ]
    }
   ],
   "source": [
    "# Finding Elements Not in Another List\n",
    "# Use sets to find items in one list but not the other.\n",
    "\n",
    "employees = {\"Alice\", \"Bob\", \"Charlie\"}\n",
    "attended_meeting = {\"Alice\", \"Charlie\"}\n",
    "\n",
    "absentees = employees - attended_meeting\n",
    "print(absentees) "
   ]
  },
  {
   "cell_type": "code",
   "execution_count": 102,
   "metadata": {},
   "outputs": [
    {
     "name": "stdout",
     "output_type": "stream",
     "text": [
      "{1, 2, 3, 4, 5}\n"
     ]
    }
   ],
   "source": [
    "# Data Cleanup Tasks\n",
    "# Sets are helpful for cleaning and deduplicating data.\n",
    "\n",
    "# Deduplicate and remove invalid values\n",
    "raw_data = [0, 1, 2, 3, 0, 4, 5, -1,2,4,3]\n",
    "cleaned_data = {x for x in raw_data if x > 0}\n",
    "\n",
    "print(cleaned_data)"
   ]
  },
  {
   "cell_type": "code",
   "execution_count": 103,
   "metadata": {},
   "outputs": [
    {
     "name": "stdout",
     "output_type": "stream",
     "text": [
      "ID exists\n"
     ]
    }
   ],
   "source": [
    "# Efficient Lookup of Large Data\n",
    "# Sets are optimized for membership tests, making them useful for large datasets.\n",
    "\n",
    "# Large dataset\n",
    "database_ids = set(range(1, 1000000))  # IDs in a database\n",
    "\n",
    "# Check if an ID exists\n",
    "id_to_check = 999999\n",
    "if id_to_check in database_ids:\n",
    "    print(\"ID exists\")\n",
    "else:\n",
    "    print(\"ID not found\")"
   ]
  },
  {
   "cell_type": "code",
   "execution_count": 104,
   "metadata": {},
   "outputs": [
    {
     "name": "stdout",
     "output_type": "stream",
     "text": [
      "{(2, 4), (3, 4), (1, 5), (1, 4), (2, 3), (3, 3), (2, 5), (1, 3), (3, 5)}\n"
     ]
    }
   ],
   "source": [
    "# Finding All Possible Pair Combinations\n",
    "# Using set comprehension, you can generate all unique pairs.\n",
    "\n",
    "set1 = {1, 2, 3}\n",
    "set2 = {3, 4, 5}\n",
    "\n",
    "pairs = {(x, y) for x in set1 for y in set2}\n",
    "print(pairs)"
   ]
  },
  {
   "cell_type": "markdown",
   "metadata": {},
   "source": [
    "### Set Methods\n",
    "\n",
    "| **Method**             | **Description**                                  |\n",
    "|-------------------------|--------------------------------------------------|\n",
    "| `add(element)`          | Adds an element to the set.                     |\n",
    "| `remove(element)`       | Removes an element, raises `KeyError` if missing.|\n",
    "| `discard(element)`      | Removes an element, does nothing if missing.    |\n",
    "| `clear()`               | Removes all elements.                           |\n",
    "| `pop()`                 | Removes and returns an arbitrary element.       |\n",
    "| `union(other_set)`      | Returns a union of two sets.                    |\n",
    "| `intersection(other_set)`| Returns common elements.                       |\n",
    "| `difference(other_set)` | Returns elements in one set but not the other.  |\n",
    "| `symmetric_difference(other_set)` | Returns elements not in both sets.   |\n",
    "\n",
    "\n",
    "Sets are highly versatile and are particularly useful for:\n",
    "- Deduplication.\n",
    "- Membership testing.\n",
    "- Efficiently handling operations on large datasets.\n",
    "- Simplifying mathematical set operations in real-world applications."
   ]
  },
  {
   "cell_type": "markdown",
   "metadata": {},
   "source": [
    "---\n",
    "\n",
    "# Comprehensions"
   ]
  },
  {
   "cell_type": "markdown",
   "metadata": {},
   "source": [
    "### List Comprehension"
   ]
  },
  {
   "cell_type": "markdown",
   "metadata": {},
   "source": [
    "**Use Case: Filtering and Transforming Data**\n",
    "\n",
    "Suppose you are processing a list of product prices and want to apply a discount to prices over $50 while converting all prices to integers.\n",
    "\n",
    "*Example:*"
   ]
  },
  {
   "cell_type": "code",
   "execution_count": 68,
   "metadata": {},
   "outputs": [
    {
     "name": "stdout",
     "output_type": "stream",
     "text": [
      "[49, 67, 23, 90, 60]\n"
     ]
    }
   ],
   "source": [
    "# Product prices\n",
    "prices = [49.99, 75.50, 23.45, 100.00, 67.25]\n",
    "\n",
    "# Apply a 10% discount to prices over $50\n",
    "discounted_prices = [int(price * 0.9) if price > 50 else int(price) for price in prices]\n",
    "\n",
    "print(discounted_prices) "
   ]
  },
  {
   "cell_type": "markdown",
   "metadata": {},
   "source": [
    "**Use Case: Flattening Nested Lists**\n",
    "\n",
    "Convert a nested list of employee records into a flat list of names.\n",
    "\n",
    "*Example:*"
   ]
  },
  {
   "cell_type": "code",
   "execution_count": 69,
   "metadata": {},
   "outputs": [
    {
     "name": "stdout",
     "output_type": "stream",
     "text": [
      "['Alice', 'Bob', 'Charlie', 'David', 'Eve']\n"
     ]
    }
   ],
   "source": [
    "# Nested list of employee records\n",
    "employees = [[\"Alice\", \"Bob\"], [\"Charlie\", \"David\"], [\"Eve\"]]\n",
    "\n",
    "# Flatten the list\n",
    "flat_employees = [name for group in employees for name in group]\n",
    "\n",
    "print(flat_employees)"
   ]
  },
  {
   "cell_type": "markdown",
   "metadata": {},
   "source": [
    "### Dictionary Comprehension"
   ]
  },
  {
   "cell_type": "markdown",
   "metadata": {},
   "source": [
    "**Use Case: Creating a Lookup Table**\n",
    "\n",
    "Suppose you have a list of employee names and salaries, and you want to create a dictionary mapping employee names to salaries.\n",
    "\n",
    "*Example:*"
   ]
  },
  {
   "cell_type": "code",
   "execution_count": 107,
   "metadata": {},
   "outputs": [
    {
     "name": "stdout",
     "output_type": "stream",
     "text": [
      "{'Alice': 50000, 'Bob': 60000, 'Charlie': 55000}\n"
     ]
    }
   ],
   "source": [
    "# Employee data\n",
    "employees = [\"Alice\", \"Bob\", \"Charlie\",]\n",
    "salaries = [50000, 60000, 55000]\n",
    "\n",
    "# Create a dictionary\n",
    "employee_salary_map = {name: salary for name, salary in zip(employees, salaries)}\n",
    "\n",
    "print(employee_salary_map)  \n"
   ]
  },
  {
   "cell_type": "markdown",
   "metadata": {},
   "source": [
    "**Use Case: Filtering Data in a Dictionary**\n",
    "\n",
    "Filter a dictionary to retain only employees earning more than $55,000.\n",
    "\n",
    "*Example:*"
   ]
  },
  {
   "cell_type": "code",
   "execution_count": 108,
   "metadata": {},
   "outputs": [
    {
     "name": "stdout",
     "output_type": "stream",
     "text": [
      "{'Bob': 60000}\n"
     ]
    }
   ],
   "source": [
    "# Original dictionary\n",
    "employee_salary_map = {'Alice': 50000, 'Bob': 60000, 'Charlie': 55000}\n",
    "\n",
    "# Filter high earners\n",
    "high_earners = {name: salary for name, salary in employee_salary_map.items() if salary > 55000}\n",
    "\n",
    "print(high_earners)  "
   ]
  },
  {
   "cell_type": "markdown",
   "metadata": {},
   "source": [
    "### Set Comprehension"
   ]
  },
  {
   "cell_type": "markdown",
   "metadata": {},
   "source": [
    "**Use Case: Finding Unique Domains in Email Addresses**\n",
    "\n",
    "Extract unique email domains from a list of email addresses.\n",
    "\n",
    "*Example:*"
   ]
  },
  {
   "cell_type": "code",
   "execution_count": 109,
   "metadata": {},
   "outputs": [
    {
     "name": "stdout",
     "output_type": "stream",
     "text": [
      "{'hotmail.com', 'yahoo.com', 'gmail.com'}\n"
     ]
    }
   ],
   "source": [
    "# Email addresses\n",
    "emails = [\"alice@gmail.com\", \"bob@yahoo.com\", \"charlie@gmail.com\", \"david@hotmail.com\"]\n",
    "\n",
    "# Extract unique domains\n",
    "unique_domains = {email.split('@')[1] for email in emails}\n",
    "\n",
    "print(unique_domains)  "
   ]
  },
  {
   "cell_type": "markdown",
   "metadata": {},
   "source": [
    "**Use Case: Identifying Unique Words in a Document**\n",
    "\n",
    "Extract unique words from a text while ignoring case.\n",
    "\n",
    "*Example:*"
   ]
  },
  {
   "cell_type": "code",
   "execution_count": 110,
   "metadata": {},
   "outputs": [
    {
     "name": "stdout",
     "output_type": "stream",
     "text": [
      "{'is', 'fun', 'data', 'important', 'science', 'and', 'analysis'}\n"
     ]
    }
   ],
   "source": [
    "# Sample text\n",
    "text = \"Data science is fun and data analysis is important\"\n",
    "\n",
    "# Extract unique words\n",
    "unique_words = {word.lower() for word in text.split()}\n",
    "\n",
    "print(unique_words)"
   ]
  },
  {
   "cell_type": "markdown",
   "metadata": {},
   "source": [
    "### Advanced Use Cases Combining Comprehensions"
   ]
  },
  {
   "cell_type": "markdown",
   "metadata": {},
   "source": [
    "**Use Case: Generating Reports**\n",
    "\n",
    "Suppose you have a list of student grades and need a summary report of passing students (score >= 50) and their scores.\n",
    "\n",
    "*Example:*"
   ]
  },
  {
   "cell_type": "code",
   "execution_count": 74,
   "metadata": {},
   "outputs": [
    {
     "name": "stdout",
     "output_type": "stream",
     "text": [
      "{'Alice': 85, 'Charlie': 73, 'David': 65}\n"
     ]
    }
   ],
   "source": [
    "# Student grades\n",
    "grades = [(\"Alice\", 85), (\"Bob\", 42), (\"Charlie\", 73), (\"David\", 65)]\n",
    "\n",
    "# Generate a report for passing students\n",
    "passing_students = {name: grade for name, grade in grades if grade >= 50}\n",
    "\n",
    "print(passing_students)"
   ]
  },
  {
   "cell_type": "markdown",
   "metadata": {},
   "source": [
    "**Use Case: Processing Logs**\n",
    "\n",
    "Extract IP addresses that accessed a service more than once from a log file.\n",
    "\n",
    "*Example:*"
   ]
  },
  {
   "cell_type": "code",
   "execution_count": 112,
   "metadata": {},
   "outputs": [
    {
     "name": "stdout",
     "output_type": "stream",
     "text": [
      "{'192.168.1.3', '192.168.1.1'}\n"
     ]
    }
   ],
   "source": [
    "# Log data\n",
    "logs = [\n",
    "    {\"ip\": \"192.168.1.1\", \"endpoint\": \"/api/v1\", \"status\": 200},\n",
    "    {\"ip\": \"192.168.1.2\", \"endpoint\": \"/api/v1\", \"status\": 200},\n",
    "    {\"ip\": \"192.168.1.1\", \"endpoint\": \"/api/v2\", \"status\": 404},\n",
    "    {\"ip\": \"192.168.1.3\", \"endpoint\": \"/api/v1\", \"status\": 200},\n",
    "    {\"ip\": \"192.168.1.1\", \"endpoint\": \"/api/v3\", \"status\": 200},\n",
    "    {\"ip\": \"192.168.1.3\", \"endpoint\": \"/api/v2\", \"status\": 200},\n",
    "]\n",
    "\n",
    "# Count IP accesses\n",
    "access_counts = {log[\"ip\"]: 0 for log in logs}\n",
    "for log in logs:\n",
    "    access_counts[log[\"ip\"]] += 1\n",
    "\n",
    "# Filter IPs with multiple accesses\n",
    "frequent_ips = {ip for ip, count in access_counts.items() if count > 1}\n",
    "\n",
    "print(frequent_ips)"
   ]
  },
  {
   "cell_type": "markdown",
   "metadata": {},
   "source": [
    "---\n",
    "\n",
    "# Lab Activity"
   ]
  },
  {
   "cell_type": "markdown",
   "metadata": {},
   "source": [
    "**Challenge:** Using Comprehensions to Filter and Transform Data.\n",
    "\n",
    "**Objective:**\n",
    "The goal of this assignment is to understand and apply list, dictionary, and set comprehensions in Python to filter and transform data effectively. By completing this assignment, students will learn:\n",
    "\n",
    "- How to create concise and efficient comprehensions.\n",
    "- Real-world use cases of filtering and transforming data.\n",
    "- Best practices for handling data using Python comprehensions."
   ]
  },
  {
   "cell_type": "markdown",
   "metadata": {},
   "source": [
    "**Challenge Details**\n",
    "\n",
    "You are working as a Data Analyst at a retail company. Your manager has provided raw data for customers and their purchases. The dataset contains:\n",
    "\n",
    "- A list of customer names and their respective ages.\n",
    "- A dictionary of product IDs and their prices.\n",
    "- A log of purchases made by customers, represented as tuples (customer name, product ID, quantity).\n",
    "\n",
    "Your task is to process this data using list, dictionary, and set comprehensions to:\n",
    "\n",
    "1. Filter out customers who are under 18 years old.\n",
    "1. Apply a 10% discount to products priced above $50.\n",
    "1. Create a unique set of product IDs purchased by customers aged 18 or older.\n",
    "1. Transform the purchase log into a summary of total spend per customer (considering discounts)."
   ]
  },
  {
   "cell_type": "markdown",
   "metadata": {},
   "source": [
    "**Sample Data:**\n",
    "\n",
    "```\n",
    "# Customer data: (name, age)\n",
    "customers = [(\"Alice\", 25), (\"Bob\", 17), (\"Charlie\", 35), (\"Diana\", 16)]\n",
    "\n",
    "# Product data: {product_id: price}\n",
    "products = {\n",
    "    \"P001\": 45.00,\n",
    "    \"P002\": 60.00,\n",
    "    \"P003\": 120.00,\n",
    "    \"P004\": 30.00\n",
    "}\n",
    "\n",
    "# Purchase log: (customer_name, product_id, quantity)\n",
    "purchases = [\n",
    "    (\"Alice\", \"P001\", 2),\n",
    "    (\"Charlie\", \"P002\", 1),\n",
    "    (\"Bob\", \"P003\", 3),\n",
    "    (\"Alice\", \"P004\", 1),\n",
    "    (\"Charlie\", \"P003\", 2),\n",
    "    (\"Diana\", \"P002\", 1)\n",
    "]\n",
    "```"
   ]
  },
  {
   "cell_type": "markdown",
   "metadata": {},
   "source": [
    "**Steps to Complete the Assignment**\n",
    "1. Filter Adult Customers Use a list comprehension to filter out customers who are 18 years old or older.\n",
    "1. Apply Discount on Products Use a dictionary comprehension to reduce the price of products priced above $50 by 10%.\n",
    "1. Get Unique Product IDs Purchased by Adults Use a set comprehension to identify the unique product IDs purchased by adult customers.\n",
    "1. Calculate Total Spend Per Customer Transform the purchase log into a dictionary that summarizes the total amount spent by each customer."
   ]
  },
  {
   "cell_type": "markdown",
   "metadata": {},
   "source": [
    "**Expected Output**\n",
    "\n",
    "**1. List of adult customers:**\n",
    "\n",
    "```\n",
    "['Alice', 'Charlie']\n",
    "```\n",
    "\n",
    "**2. Discounted product prices:**\n",
    "\n",
    "```\n",
    "{\n",
    "    \"P001\": 45.00,\n",
    "    \"P002\": 54.00,\n",
    "    \"P003\": 108.00,\n",
    "    \"P004\": 30.00\n",
    "}\n",
    "```\n",
    "\n",
    "**2. Unique product IDs purchased by adults:**\n",
    "\n",
    "```\n",
    "{'P001', 'P002', 'P003', 'P004'}\n",
    "```\n",
    "\n",
    "**4. Total spend per customer:**\n",
    "\n",
    "```\n",
    "{\n",
    "    \"Alice\": 120.00,\n",
    "    \"Charlie\": 270.00,\n",
    "    \"Bob\": 324.00\n",
    "}\n",
    "```"
   ]
  }
 ],
 "metadata": {
  "kernelspec": {
   "display_name": "Python 3",
   "language": "python",
   "name": "python3"
  },
  "language_info": {
   "codemirror_mode": {
    "name": "ipython",
    "version": 3
   },
   "file_extension": ".py",
   "mimetype": "text/x-python",
   "name": "python",
   "nbconvert_exporter": "python",
   "pygments_lexer": "ipython3",
   "version": "3.12.1"
  }
 },
 "nbformat": 4,
 "nbformat_minor": 2
}
