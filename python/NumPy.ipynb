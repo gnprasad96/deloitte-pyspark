{
 "cells": [
  {
   "attachments": {},
   "cell_type": "markdown",
   "metadata": {},
   "source": [
    "## NumPy"
   ]
  },
  {
   "cell_type": "markdown",
   "metadata": {},
   "source": [
    "NumPy (short for **Numerical Python**) is a powerful open-source Python library used for numerical computing. It provides tools for creating and manipulating arrays and matrices, which are collections of values organized in rows and columns, similar to spreadsheets or tables. It is widely used in data analysis, machine learning, scientific computing, and engineering."
   ]
  },
  {
   "cell_type": "markdown",
   "metadata": {},
   "source": [
    "**Why Use NumPy?**\n",
    "1. Efficient Numerical Computations:\n",
    "    - NumPy arrays (ndarrays) are faster and more memory-efficient than Python lists because they are implemented in C and optimized for numerical operations.\n",
    "1. Array Operations:\n",
    "    - Supports element-wise operations, such as addition, subtraction, multiplication, and division, directly on arrays.\n",
    "1. Mathematical Functions:\n",
    "    - Provides a wide range of mathematical functions for operations like linear algebra, Fourier transforms, and statistical computations.\n",
    "1. Multidimensional Arrays:\n",
    "    - Allows for creating and manipulating arrays of any dimension (1D, 2D, 3D, etc.), enabling complex computations on large datasets.\n",
    "1. Broadcasting:\n",
    "    - Enables operations between arrays of different shapes, simplifying computations without the need for explicit loops.\n",
    "1. Integration with Other Libraries:\n",
    "    - Serves as a foundation for many other Python libraries, including Pandas, Scikit-learn, TensorFlow, and Matplotlib.\n",
    "\n",
    "**When Should You Use NumPy?**\n",
    "- When working with large datasets that require efficient computations.\n",
    "- For tasks involving matrix operations, linear algebra, or scientific calculations.\n",
    "- As a base for data manipulation in libraries like Pandas or for preprocessing in machine learning pipelines."
   ]
  },
  {
   "cell_type": "code",
   "execution_count": 1,
   "metadata": {},
   "outputs": [],
   "source": [
    "# Import the numpy package as np, so that you can refer to numpy with np.\n",
    "import numpy as np"
   ]
  },
  {
   "cell_type": "code",
   "execution_count": 2,
   "metadata": {},
   "outputs": [
    {
     "name": "stdout",
     "output_type": "stream",
     "text": [
      "[1 2 3 4 5]\n",
      "int32\n"
     ]
    },
    {
     "data": {
      "text/plain": [
       "numpy.ndarray"
      ]
     },
     "execution_count": 2,
     "metadata": {},
     "output_type": "execute_result"
    }
   ],
   "source": [
    "np_arr = np.array([1,2,3,4,5])\n",
    "print(np_arr)\n",
    "print(np_arr.dtype)\n",
    "\n",
    "# Check the type of array\n",
    "type(np_arr)"
   ]
  },
  {
   "attachments": {},
   "cell_type": "markdown",
   "metadata": {},
   "source": [
    "### Comparison of List & NumPy"
   ]
  },
  {
   "cell_type": "code",
   "execution_count": 3,
   "metadata": {},
   "outputs": [
    {
     "name": "stdout",
     "output_type": "stream",
     "text": [
      "[3, 2, 6, 4, 1]\n",
      "<class 'list'>\n"
     ]
    }
   ],
   "source": [
    "# Let create a list\n",
    "arr1 = [3,2,6,4,1]\n",
    "\n",
    "print(arr1)\n",
    "print(type(arr1))"
   ]
  },
  {
   "cell_type": "code",
   "execution_count": 4,
   "metadata": {},
   "outputs": [
    {
     "name": "stdout",
     "output_type": "stream",
     "text": [
      "[3, 2, 6, 4, 1, 4, 3, 2, 3, 6]\n"
     ]
    }
   ],
   "source": [
    "arr2 = [4,3,2,3,6]\n",
    "\n",
    "# Add list\n",
    "print(arr1 + arr2)"
   ]
  },
  {
   "cell_type": "code",
   "execution_count": 5,
   "metadata": {},
   "outputs": [
    {
     "name": "stdout",
     "output_type": "stream",
     "text": [
      "[3, 2, 6, 4, 1, 3, 2, 6, 4, 1]\n"
     ]
    }
   ],
   "source": [
    "# multiple list\n",
    "print(arr1 * 2)"
   ]
  },
  {
   "cell_type": "code",
   "execution_count": 6,
   "metadata": {},
   "outputs": [
    {
     "name": "stdout",
     "output_type": "stream",
     "text": [
      "[3 2 6 4 1]\n",
      "[4 3 2 3 6]\n"
     ]
    }
   ],
   "source": [
    "np_arr1 = np.array(arr1)\n",
    "np_arr2 = np.array(arr2)\n",
    "print(np_arr1)\n",
    "print(np_arr2)"
   ]
  },
  {
   "cell_type": "code",
   "execution_count": 7,
   "metadata": {},
   "outputs": [
    {
     "name": "stdout",
     "output_type": "stream",
     "text": [
      "[7 5 8 7 7]\n"
     ]
    }
   ],
   "source": [
    "# Add to array\n",
    "print(np_arr1 + np_arr2)"
   ]
  },
  {
   "cell_type": "code",
   "execution_count": 8,
   "metadata": {},
   "outputs": [
    {
     "name": "stdout",
     "output_type": "stream",
     "text": [
      "[3 2 6 4 1]\n",
      "[ 6  4 12  8  2]\n"
     ]
    }
   ],
   "source": [
    "# Multiple array\n",
    "print(np_arr1)\n",
    "print(np_arr1 * 2)"
   ]
  },
  {
   "attachments": {},
   "cell_type": "markdown",
   "metadata": {},
   "source": [
    "### Dataype in NumPy"
   ]
  },
  {
   "cell_type": "code",
   "execution_count": 9,
   "metadata": {},
   "outputs": [
    {
     "data": {
      "text/plain": [
       "dtype([('age', 'i1')])"
      ]
     },
     "execution_count": 9,
     "metadata": {},
     "output_type": "execute_result"
    }
   ],
   "source": [
    "dt = np.dtype([('age',np.int8)])\n",
    "dt"
   ]
  },
  {
   "cell_type": "code",
   "execution_count": 10,
   "metadata": {},
   "outputs": [
    {
     "data": {
      "text/plain": [
       "tuple"
      ]
     },
     "execution_count": 10,
     "metadata": {},
     "output_type": "execute_result"
    }
   ],
   "source": [
    "type((10,))"
   ]
  },
  {
   "cell_type": "code",
   "execution_count": 11,
   "metadata": {},
   "outputs": [
    {
     "name": "stdout",
     "output_type": "stream",
     "text": [
      "[(10,) (20,) (30,)]\n"
     ]
    }
   ],
   "source": [
    "a = np.array([(10,),(20,),(30,)], dtype = dt) \n",
    "print(a)"
   ]
  },
  {
   "cell_type": "code",
   "execution_count": 12,
   "metadata": {},
   "outputs": [
    {
     "data": {
      "text/plain": [
       "dtype([('name', 'S10'), ('age', 'i1')])"
      ]
     },
     "execution_count": 12,
     "metadata": {},
     "output_type": "execute_result"
    }
   ],
   "source": [
    "dt = np.dtype([('name','S10'),('age',np.int8)])\n",
    "dt"
   ]
  },
  {
   "cell_type": "code",
   "execution_count": 13,
   "metadata": {},
   "outputs": [
    {
     "name": "stdout",
     "output_type": "stream",
     "text": [
      "[(b'abc', 1) (b'xyz', 2)]\n"
     ]
    }
   ],
   "source": [
    "b = np.array([('abc',1),('xyz',2)], dtype=dt)\n",
    "print(b)"
   ]
  },
  {
   "cell_type": "code",
   "execution_count": 14,
   "metadata": {},
   "outputs": [
    {
     "name": "stdout",
     "output_type": "stream",
     "text": [
      "<U6\n"
     ]
    }
   ],
   "source": [
    "arr = np.array(['apple','banana','orange'])\n",
    "print(arr.dtype)"
   ]
  },
  {
   "attachments": {},
   "cell_type": "markdown",
   "metadata": {},
   "source": [
    "### 2D NumPy Arrays"
   ]
  },
  {
   "cell_type": "code",
   "execution_count": 15,
   "metadata": {},
   "outputs": [
    {
     "name": "stdout",
     "output_type": "stream",
     "text": [
      "[[1 2 3]\n",
      " [4 5 6]]\n",
      "int32\n"
     ]
    }
   ],
   "source": [
    "arr = np.array([[1,2,3],[4,5,6]])\n",
    "print(arr)\n",
    "print(arr.dtype)"
   ]
  },
  {
   "attachments": {},
   "cell_type": "markdown",
   "metadata": {},
   "source": [
    "ndarray.shape"
   ]
  },
  {
   "cell_type": "code",
   "execution_count": 16,
   "metadata": {},
   "outputs": [
    {
     "name": "stdout",
     "output_type": "stream",
     "text": [
      "(2, 3)\n"
     ]
    }
   ],
   "source": [
    "# shape array attribute returns a tuple consisting of array dimensions.\n",
    "# ndarray.shape\n",
    "\n",
    "print(arr.shape)"
   ]
  },
  {
   "cell_type": "code",
   "execution_count": 17,
   "metadata": {},
   "outputs": [
    {
     "name": "stdout",
     "output_type": "stream",
     "text": [
      "[[1 2]\n",
      " [3 4]\n",
      " [5 6]]\n"
     ]
    }
   ],
   "source": [
    "# resize the array\n",
    "\n",
    "arr.shape = (3,2)\n",
    "print(arr)"
   ]
  },
  {
   "attachments": {},
   "cell_type": "markdown",
   "metadata": {},
   "source": [
    "ndarray.ndim"
   ]
  },
  {
   "cell_type": "code",
   "execution_count": 18,
   "metadata": {},
   "outputs": [
    {
     "name": "stdout",
     "output_type": "stream",
     "text": [
      "Arry dimension: 1\n",
      "Array element:  [ 0  1  2  3  4  5  6  7  8  9 10 11]\n",
      "Array Size: 12\n"
     ]
    }
   ],
   "source": [
    "# This array attribute returns the number of array dimensions.\n",
    "arr = np.arange(12) \n",
    "print(f\"Arry dimension:\",arr.ndim)\n",
    "print(\"Array element: \", arr)\n",
    "print(\"Array Size:\", arr.size)"
   ]
  },
  {
   "cell_type": "code",
   "execution_count": 19,
   "metadata": {},
   "outputs": [
    {
     "name": "stdout",
     "output_type": "stream",
     "text": [
      "Arry dimension: 3\n",
      "Array element:  [[[ 0  1]\n",
      "  [ 2  3]]\n",
      "\n",
      " [[ 4  5]\n",
      "  [ 6  7]]\n",
      "\n",
      " [[ 8  9]\n",
      "  [10 11]]]\n",
      "Array Size: 12\n"
     ]
    }
   ],
   "source": [
    "# now reshape it \n",
    "b = arr.reshape(3,2,2) \n",
    "print(f\"Arry dimension:\",b.ndim)\n",
    "print(\"Array element: \", b)\n",
    "print(\"Array Size:\", b.size)\n",
    "# b is having three dimensions"
   ]
  },
  {
   "attachments": {},
   "cell_type": "markdown",
   "metadata": {},
   "source": [
    "numpy.itemsize"
   ]
  },
  {
   "cell_type": "code",
   "execution_count": 20,
   "metadata": {},
   "outputs": [
    {
     "name": "stdout",
     "output_type": "stream",
     "text": [
      "4\n",
      "4\n"
     ]
    }
   ],
   "source": [
    "# This attribute will give the size of element in bytes.\n",
    "print(arr.itemsize)\n",
    "print(b.itemsize)"
   ]
  },
  {
   "attachments": {},
   "cell_type": "markdown",
   "metadata": {},
   "source": [
    "### Array Creation Routines"
   ]
  },
  {
   "attachments": {},
   "cell_type": "markdown",
   "metadata": {},
   "source": [
    "numpy.empty"
   ]
  },
  {
   "cell_type": "code",
   "execution_count": 21,
   "metadata": {},
   "outputs": [
    {
     "data": {
      "text/plain": [
       "array([[6.23042070e-307, 4.67296746e-307],\n",
       "       [1.69121096e-306, 3.33772113e-307],\n",
       "       [2.67018913e-306, 1.21378159e-311]])"
      ]
     },
     "execution_count": 21,
     "metadata": {},
     "output_type": "execute_result"
    }
   ],
   "source": [
    "# It creates an uninitialized array of specified shape and dtype.\n",
    "arr = np.empty((3,2), dtype = float)\n",
    "arr"
   ]
  },
  {
   "attachments": {},
   "cell_type": "markdown",
   "metadata": {},
   "source": [
    "numpy.zero"
   ]
  },
  {
   "cell_type": "code",
   "execution_count": 22,
   "metadata": {},
   "outputs": [
    {
     "data": {
      "text/plain": [
       "array([0., 0., 0., 0., 0.])"
      ]
     },
     "execution_count": 22,
     "metadata": {},
     "output_type": "execute_result"
    }
   ],
   "source": [
    "arr = np.zeros(5) \n",
    "arr"
   ]
  },
  {
   "cell_type": "code",
   "execution_count": 23,
   "metadata": {},
   "outputs": [
    {
     "data": {
      "text/plain": [
       "array([[[0, 0, 0],\n",
       "        [0, 0, 0],\n",
       "        [0, 0, 0]],\n",
       "\n",
       "       [[0, 0, 0],\n",
       "        [0, 0, 0],\n",
       "        [0, 0, 0]]])"
      ]
     },
     "execution_count": 23,
     "metadata": {},
     "output_type": "execute_result"
    }
   ],
   "source": [
    "arr = np.zeros((2,3,3), dtype=int) \n",
    "arr"
   ]
  },
  {
   "attachments": {},
   "cell_type": "markdown",
   "metadata": {},
   "source": [
    "numpy.ones"
   ]
  },
  {
   "cell_type": "code",
   "execution_count": 24,
   "metadata": {},
   "outputs": [
    {
     "data": {
      "text/plain": [
       "array([1., 1., 1., 1., 1.])"
      ]
     },
     "execution_count": 24,
     "metadata": {},
     "output_type": "execute_result"
    }
   ],
   "source": [
    "#  new array of specified size and type, filled with ones.\n",
    "arr = np.ones(5) \n",
    "arr"
   ]
  },
  {
   "cell_type": "code",
   "execution_count": 25,
   "metadata": {},
   "outputs": [
    {
     "data": {
      "text/plain": [
       "array([[1, 1],\n",
       "       [1, 1]])"
      ]
     },
     "execution_count": 25,
     "metadata": {},
     "output_type": "execute_result"
    }
   ],
   "source": [
    "arr = np.ones((2,2), dtype= np.int32) \n",
    "arr"
   ]
  },
  {
   "cell_type": "code",
   "execution_count": 26,
   "metadata": {},
   "outputs": [
    {
     "data": {
      "text/plain": [
       "array([[1., 0., 0.],\n",
       "       [0., 1., 0.],\n",
       "       [0., 0., 1.]])"
      ]
     },
     "execution_count": 26,
     "metadata": {},
     "output_type": "execute_result"
    }
   ],
   "source": [
    "arr = np.identity(3)\n",
    "arr"
   ]
  },
  {
   "cell_type": "code",
   "execution_count": 27,
   "metadata": {},
   "outputs": [
    {
     "data": {
      "text/plain": [
       "array([1., 0., 0., 0., 1., 0., 0., 0., 1.])"
      ]
     },
     "execution_count": 27,
     "metadata": {},
     "output_type": "execute_result"
    }
   ],
   "source": [
    "arr.flatten()"
   ]
  },
  {
   "attachments": {},
   "cell_type": "markdown",
   "metadata": {},
   "source": [
    "### Subsetting"
   ]
  },
  {
   "attachments": {},
   "cell_type": "markdown",
   "metadata": {},
   "source": [
    "Indexing & Slicing"
   ]
  },
  {
   "cell_type": "code",
   "execution_count": 28,
   "metadata": {},
   "outputs": [
    {
     "name": "stdout",
     "output_type": "stream",
     "text": [
      "Array: [0 1 2 3 4 5 6 7 8 9]\n"
     ]
    },
    {
     "data": {
      "text/plain": [
       "array([2, 4, 6])"
      ]
     },
     "execution_count": 28,
     "metadata": {},
     "output_type": "execute_result"
    }
   ],
   "source": [
    "arr = np.arange(10) \n",
    "print(\"Array:\", arr)\n",
    "s = slice(2,8,2) \n",
    "arr[s]"
   ]
  },
  {
   "cell_type": "code",
   "execution_count": 29,
   "metadata": {},
   "outputs": [
    {
     "data": {
      "text/plain": [
       "array([2, 4, 6])"
      ]
     },
     "execution_count": 29,
     "metadata": {},
     "output_type": "execute_result"
    }
   ],
   "source": [
    "arr = np.arange(10) \n",
    "slice_arr = arr[2:8:2]\n",
    "slice_arr"
   ]
  },
  {
   "cell_type": "code",
   "execution_count": 30,
   "metadata": {},
   "outputs": [
    {
     "name": "stdout",
     "output_type": "stream",
     "text": [
      "5\n",
      "[0 1 2 3 4 5 6 7 8 9]\n",
      "[0 1 2 3]\n"
     ]
    }
   ],
   "source": [
    "print(arr[5])\n",
    "print(arr)\n",
    "print(arr[0:4])"
   ]
  },
  {
   "cell_type": "code",
   "execution_count": 31,
   "metadata": {},
   "outputs": [
    {
     "data": {
      "text/plain": [
       "array([[1.2, 1.3, 1.4, 1.5, 1.6],\n",
       "       [5.4, 5.5, 5.6, 5.7, 5.8],\n",
       "       [9.6, 9.7, 9.8, 9.9, 9.1]])"
      ]
     },
     "execution_count": 31,
     "metadata": {},
     "output_type": "execute_result"
    }
   ],
   "source": [
    "arr_2d = np.array(\n",
    "    [\n",
    "        [1.2, 1.3, 1.4, 1.5, 1.6],\n",
    "        [5.4, 5.5, 5.6, 5.7, 5.8],\n",
    "        [9.6, 9.7, 9.8, 9.9, 9.10]\n",
    "    ]\n",
    ")\n",
    "\n",
    "arr_2d"
   ]
  },
  {
   "cell_type": "code",
   "execution_count": 32,
   "metadata": {},
   "outputs": [
    {
     "name": "stdout",
     "output_type": "stream",
     "text": [
      "1.4\n",
      "1.4\n"
     ]
    }
   ],
   "source": [
    "print(arr_2d[0][2])\n",
    "print(arr_2d[0,2])"
   ]
  },
  {
   "cell_type": "code",
   "execution_count": 33,
   "metadata": {},
   "outputs": [
    {
     "name": "stdout",
     "output_type": "stream",
     "text": [
      "First row: [1.2 1.3 1.4 1.5 1.6]\n",
      "First row, all column [1.2 1.3 1.4 1.5 1.6]\n",
      "First & Second row: [[1.2 1.3 1.4 1.5 1.6]\n",
      " [5.4 5.5 5.6 5.7 5.8]]\n"
     ]
    }
   ],
   "source": [
    "print(\"First row:\",arr_2d[0])\n",
    "print(\"First row, all column\", arr_2d[0,...])\n",
    "print(\"First & Second row:\",arr_2d[:2])"
   ]
  },
  {
   "cell_type": "code",
   "execution_count": 34,
   "metadata": {},
   "outputs": [
    {
     "data": {
      "text/plain": [
       "array([[1.2, 1.3, 1.4, 1.5, 1.6],\n",
       "       [5.4, 5.5, 5.6, 5.7, 5.8],\n",
       "       [9.6, 9.7, 9.8, 9.9, 9.1]])"
      ]
     },
     "execution_count": 34,
     "metadata": {},
     "output_type": "execute_result"
    }
   ],
   "source": [
    "arr_2d"
   ]
  },
  {
   "cell_type": "code",
   "execution_count": 35,
   "metadata": {},
   "outputs": [
    {
     "data": {
      "text/plain": [
       "array([[1.2, 5.4, 9.6],\n",
       "       [1.3, 5.5, 9.7],\n",
       "       [1.4, 5.6, 9.8],\n",
       "       [1.5, 5.7, 9.9],\n",
       "       [1.6, 5.8, 9.1]])"
      ]
     },
     "execution_count": 35,
     "metadata": {},
     "output_type": "execute_result"
    }
   ],
   "source": [
    "# Transpos array\n",
    "arr_2d.T"
   ]
  },
  {
   "cell_type": "code",
   "execution_count": 36,
   "metadata": {},
   "outputs": [
    {
     "name": "stdout",
     "output_type": "stream",
     "text": [
      "[1.2 5.4 9.6]\n",
      "[1.2 5.4 9.6]\n",
      "[1.2 5.4 9.6]\n"
     ]
    }
   ],
   "source": [
    "print(arr_2d.T[0])\n",
    "print(arr_2d[...,0])\n",
    "print(arr_2d[:,:1].T[0])"
   ]
  },
  {
   "attachments": {},
   "cell_type": "markdown",
   "metadata": {},
   "source": [
    "Integer Indexing"
   ]
  },
  {
   "cell_type": "code",
   "execution_count": 37,
   "metadata": {},
   "outputs": [
    {
     "name": "stdout",
     "output_type": "stream",
     "text": [
      "[[1 2 3]\n",
      " [4 5 6]\n",
      " [7 8 9]]\n"
     ]
    }
   ],
   "source": [
    "arr = np.array(\n",
    "    [\n",
    "        [1, 2, 3], \n",
    "        [4, 5, 6], \n",
    "        [7, 8, 9]\n",
    "    ]\n",
    ") \n",
    "print(arr)"
   ]
  },
  {
   "cell_type": "code",
   "execution_count": 38,
   "metadata": {},
   "outputs": [
    {
     "data": {
      "text/plain": [
       "array([1, 5, 8])"
      ]
     },
     "execution_count": 38,
     "metadata": {},
     "output_type": "execute_result"
    }
   ],
   "source": [
    "narr = arr[[0,1,2], [0,1,1]] \n",
    "narr"
   ]
  },
  {
   "cell_type": "code",
   "execution_count": 39,
   "metadata": {},
   "outputs": [
    {
     "name": "stdout",
     "output_type": "stream",
     "text": [
      "Array: \n",
      " [[1 2 3]\n",
      " [4 5 6]\n",
      " [7 8 9]]\n",
      "Corner Array: \n",
      " [[1 3]\n",
      " [7 9]]\n"
     ]
    }
   ],
   "source": [
    "r = np.array([[0,0],[2,2]])\n",
    "c = np.array([[0,2],[0,2]]) \n",
    "\n",
    "corner_arr = arr[r,c] \n",
    "\n",
    "print(\"Array: \\n\", arr)\n",
    "print(\"Corner Array: \\n\", corner_arr)"
   ]
  },
  {
   "cell_type": "code",
   "execution_count": 40,
   "metadata": {},
   "outputs": [
    {
     "data": {
      "text/plain": [
       "array([[2, 3],\n",
       "       [5, 6]])"
      ]
     },
     "execution_count": 40,
     "metadata": {},
     "output_type": "execute_result"
    }
   ],
   "source": [
    "sub_arr = arr[0:2, 1:3]\n",
    "sub_arr"
   ]
  },
  {
   "attachments": {},
   "cell_type": "markdown",
   "metadata": {},
   "source": [
    "Boolean Array Indexing"
   ]
  },
  {
   "cell_type": "code",
   "execution_count": 41,
   "metadata": {},
   "outputs": [
    {
     "data": {
      "text/plain": [
       "array([ 2,  4,  6,  8, 10, 12, 14, 16, 18, 20])"
      ]
     },
     "execution_count": 41,
     "metadata": {},
     "output_type": "execute_result"
    }
   ],
   "source": [
    "arr = np.arange(2,21,2)\n",
    "arr"
   ]
  },
  {
   "cell_type": "code",
   "execution_count": 42,
   "metadata": {},
   "outputs": [
    {
     "data": {
      "text/plain": [
       "array([[ 2,  4,  6,  8, 10],\n",
       "       [12, 14, 16, 18, 20]])"
      ]
     },
     "execution_count": 42,
     "metadata": {},
     "output_type": "execute_result"
    }
   ],
   "source": [
    "arr = arr.reshape(2,5)\n",
    "arr"
   ]
  },
  {
   "cell_type": "code",
   "execution_count": 43,
   "metadata": {},
   "outputs": [
    {
     "name": "stdout",
     "output_type": "stream",
     "text": [
      "2 4 6 8 10 12 14 16 18 20 "
     ]
    }
   ],
   "source": [
    "for x in np.nditer(arr):\n",
    "   print(x, end=' '),"
   ]
  },
  {
   "cell_type": "code",
   "execution_count": 44,
   "metadata": {},
   "outputs": [
    {
     "data": {
      "text/plain": [
       "array([[ 2, 12],\n",
       "       [ 4, 14],\n",
       "       [ 6, 16],\n",
       "       [ 8, 18],\n",
       "       [10, 20]])"
      ]
     },
     "execution_count": 44,
     "metadata": {},
     "output_type": "execute_result"
    }
   ],
   "source": [
    "arr = arr.T\n",
    "arr"
   ]
  },
  {
   "cell_type": "code",
   "execution_count": 45,
   "metadata": {},
   "outputs": [
    {
     "name": "stdout",
     "output_type": "stream",
     "text": [
      "2 4 6 8 10 12 14 16 18 20 "
     ]
    }
   ],
   "source": [
    "for x in np.nditer(arr):\n",
    "   print(x, end=' '),"
   ]
  },
  {
   "cell_type": "markdown",
   "metadata": {},
   "source": [
    "In the context of ```np.nditer```, the ```order``` parameter specifies the iteration order over the elements of the array. It controls how the iterator traverses the array elements in memory. The ```order``` parameter can take the following values:\n",
    "\n",
    "**'C' (Row-Major Order)**\n",
    "- Iterates through the array in row-major order, which means it accesses the elements in the same order as they are stored in memory for a C-contiguous array.\n",
    "- This corresponds to the traditional way of traversing a 2D array row by row (left to right, then top to bottom)."
   ]
  },
  {
   "cell_type": "code",
   "execution_count": 46,
   "metadata": {},
   "outputs": [
    {
     "name": "stdout",
     "output_type": "stream",
     "text": [
      "2 12 4 14 6 16 8 18 10 20 "
     ]
    }
   ],
   "source": [
    "for x in np.nditer(arr, order='C'):\n",
    "    print(x, end=' ')"
   ]
  },
  {
   "cell_type": "markdown",
   "metadata": {},
   "source": [
    "**'F' (Column-Major Order)**\n",
    "Iterates through the array in column-major order, meaning it accesses the elements in the same order as they are stored in memory for a Fortran-contiguous array.\n",
    "This corresponds to traversing the array column by column (top to bottom, then left to right)."
   ]
  },
  {
   "cell_type": "code",
   "execution_count": 47,
   "metadata": {},
   "outputs": [
    {
     "name": "stdout",
     "output_type": "stream",
     "text": [
      "2 4 6 8 10 12 14 16 18 20 "
     ]
    }
   ],
   "source": [
    "for x in np.nditer(arr, order='F'):\n",
    "   print(x, end=' '),"
   ]
  },
  {
   "cell_type": "code",
   "execution_count": 48,
   "metadata": {},
   "outputs": [
    {
     "name": "stdout",
     "output_type": "stream",
     "text": [
      "[[ 2  4  6  8 10]\n",
      " [12 14 16 18 20]]\n",
      "\n",
      "[ 2 12]\n",
      "[ 4 14]\n",
      "[ 6 16]\n",
      "[ 8 18]\n",
      "[10 20]\n"
     ]
    }
   ],
   "source": [
    "arr = np.arange(2,21,2)\n",
    "arr = arr.reshape(2,5)\n",
    "\n",
    "print(arr, end='\\n\\n')\n",
    "\n",
    "# one-dimensional arrays corresponding to each column is traversed by the iterator.\n",
    "\n",
    "for x in np.nditer(arr, flags = ['external_loop'], order = 'F'):\n",
    "    print(x)"
   ]
  },
  {
   "attachments": {},
   "cell_type": "markdown",
   "metadata": {},
   "source": [
    "numpy.stack"
   ]
  },
  {
   "cell_type": "code",
   "execution_count": 49,
   "metadata": {},
   "outputs": [
    {
     "name": "stdout",
     "output_type": "stream",
     "text": [
      "arr1:\n",
      " [[1 2]\n",
      " [3 4]]\n",
      "\n",
      "arr2:\n",
      " [[5 6]\n",
      " [7 8]]\n",
      "\n",
      "Stacked array along axis 0:\n",
      " [[[1 2]\n",
      "  [3 4]]\n",
      "\n",
      " [[5 6]\n",
      "  [7 8]]]\n",
      "\n",
      "\n",
      "Stacked array along axis 1:\n",
      " [[[1 2]\n",
      "  [5 6]]\n",
      "\n",
      " [[3 4]\n",
      "  [7 8]]]\n"
     ]
    }
   ],
   "source": [
    "arr1 = np.array([[1,2],[3,4]]) \n",
    "arr2 = np.array([[5,6],[7,8]]) \n",
    "\n",
    "print('arr1:\\n', arr1, end='\\n\\n')\n",
    "print('arr2:\\n', arr2, end='\\n\\n')\n",
    "\n",
    "# Stack the two arrays along axis 0\n",
    "stack_arr = np.stack((arr1,arr2),0) \n",
    "print('Stacked array along axis 0:\\n', stack_arr)\n",
    "\n",
    "# Stack the two arrays along axis 1\n",
    "\n",
    "stack_arr = np.stack((arr1,arr2),1) \n",
    "print('\\n\\nStacked array along axis 1:\\n', stack_arr)"
   ]
  },
  {
   "attachments": {},
   "cell_type": "markdown",
   "metadata": {},
   "source": [
    "Spliting array"
   ]
  },
  {
   "cell_type": "code",
   "execution_count": 50,
   "metadata": {},
   "outputs": [
    {
     "name": "stdout",
     "output_type": "stream",
     "text": [
      "[ 0  1  2  3  4  5  6  7  8  9 10 11 12 13 14 15]\n",
      "[array([0, 1, 2, 3]), array([4, 5, 6, 7]), array([ 8,  9, 10, 11]), array([12, 13, 14, 15])]\n",
      "\n",
      "\n",
      "[array([0, 1, 2]), array([3, 4, 5, 6, 7]), array([ 8,  9, 10, 11]), array([12, 13, 14, 15])]\n"
     ]
    }
   ],
   "source": [
    "arr = np.arange(16) \n",
    "\n",
    "print(arr)\n",
    "\n",
    "# Split the array in 4 equal-sized subarrays\n",
    "arr_size = np.split(arr,4) \n",
    "print(arr_size)\n",
    "print('\\n')  \n",
    "\n",
    "# Split the array at positions indicated in 1-D array\n",
    "arr_pos = np.split(arr,[3,8,12])\n",
    "print(arr_pos)"
   ]
  },
  {
   "attachments": {},
   "cell_type": "markdown",
   "metadata": {},
   "source": [
    "### Broadcasting Iteration"
   ]
  },
  {
   "cell_type": "code",
   "execution_count": 51,
   "metadata": {},
   "outputs": [
    {
     "data": {
      "text/plain": [
       "array([[ 2,  4,  6,  8, 10],\n",
       "       [12, 14, 16, 18, 20],\n",
       "       [22, 24, 26, 28, 30]])"
      ]
     },
     "execution_count": 51,
     "metadata": {},
     "output_type": "execute_result"
    }
   ],
   "source": [
    "arr = np.arange(2,31, 2)\n",
    "arr = arr.reshape(3,5)\n",
    "arr"
   ]
  },
  {
   "cell_type": "code",
   "execution_count": 52,
   "metadata": {},
   "outputs": [
    {
     "data": {
      "text/plain": [
       "array([1, 2, 3, 4, 5])"
      ]
     },
     "execution_count": 52,
     "metadata": {},
     "output_type": "execute_result"
    }
   ],
   "source": [
    "b_arr = np.array([1,2,3,4,5])\n",
    "b_arr"
   ]
  },
  {
   "cell_type": "code",
   "execution_count": 53,
   "metadata": {},
   "outputs": [
    {
     "name": "stdout",
     "output_type": "stream",
     "text": [
      "2\n",
      "12\n",
      "22\n",
      "8\n",
      "28\n",
      "48\n",
      "18\n",
      "48\n",
      "78\n",
      "32\n",
      "72\n",
      "112\n",
      "50\n",
      "100\n",
      "150\n"
     ]
    }
   ],
   "source": [
    "for x,y in np.nditer([arr,b_arr], order='F'): # Column-Major\n",
    "   print(x*y)"
   ]
  },
  {
   "attachments": {},
   "cell_type": "markdown",
   "metadata": {},
   "source": [
    "### Mathematical functions in Numpy"
   ]
  },
  {
   "cell_type": "code",
   "execution_count": 54,
   "metadata": {},
   "outputs": [
    {
     "data": {
      "text/plain": [
       "0.9999999999999999"
      ]
     },
     "execution_count": 54,
     "metadata": {},
     "output_type": "execute_result"
    }
   ],
   "source": [
    "np.tan(np.pi/4)"
   ]
  },
  {
   "cell_type": "code",
   "execution_count": 55,
   "metadata": {},
   "outputs": [
    {
     "data": {
      "text/plain": [
       "0.7071067811865476"
      ]
     },
     "execution_count": 55,
     "metadata": {},
     "output_type": "execute_result"
    }
   ],
   "source": [
    "np.sin(np.pi/4)"
   ]
  },
  {
   "cell_type": "code",
   "execution_count": 56,
   "metadata": {},
   "outputs": [
    {
     "data": {
      "text/plain": [
       "0.0"
      ]
     },
     "execution_count": 56,
     "metadata": {},
     "output_type": "execute_result"
    }
   ],
   "source": [
    "np.sinh(0)"
   ]
  },
  {
   "cell_type": "code",
   "execution_count": 57,
   "metadata": {},
   "outputs": [
    {
     "data": {
      "text/plain": [
       "1.0"
      ]
     },
     "execution_count": 57,
     "metadata": {},
     "output_type": "execute_result"
    }
   ],
   "source": [
    "np.cosh(0)"
   ]
  },
  {
   "attachments": {},
   "cell_type": "markdown",
   "metadata": {},
   "source": [
    "Rounding Functions"
   ]
  },
  {
   "cell_type": "code",
   "execution_count": 58,
   "metadata": {},
   "outputs": [],
   "source": [
    "f_array = np.array ([0.1485, 1.1726, 2.99 , -3.2])"
   ]
  },
  {
   "cell_type": "markdown",
   "metadata": {},
   "source": [
    "In NumPy, np.rint rounds each element of an array to the nearest integer, but it returns the result as a float. If a number is exactly halfway between two integers, it rounds to the nearest even integer."
   ]
  },
  {
   "cell_type": "code",
   "execution_count": 59,
   "metadata": {},
   "outputs": [
    {
     "data": {
      "text/plain": [
       "array([ 0.,  1.,  3., -3.])"
      ]
     },
     "execution_count": 59,
     "metadata": {},
     "output_type": "execute_result"
    }
   ],
   "source": [
    "np.rint(f_array)"
   ]
  },
  {
   "cell_type": "markdown",
   "metadata": {},
   "source": [
    "np.fix in NumPy rounds an array of floating-point numbers toward zero, element-wise. It behaves like truncation, where the fractional part of each number is removed without rounding up or down."
   ]
  },
  {
   "cell_type": "code",
   "execution_count": 60,
   "metadata": {},
   "outputs": [
    {
     "data": {
      "text/plain": [
       "array([ 0.,  1.,  2., -3.])"
      ]
     },
     "execution_count": 60,
     "metadata": {},
     "output_type": "execute_result"
    }
   ],
   "source": [
    "np.fix(f_array)"
   ]
  },
  {
   "cell_type": "code",
   "execution_count": 61,
   "metadata": {},
   "outputs": [
    {
     "data": {
      "text/plain": [
       "array([ 1.,  2.,  3., -3.])"
      ]
     },
     "execution_count": 61,
     "metadata": {},
     "output_type": "execute_result"
    }
   ],
   "source": [
    "np.ceil(f_array)"
   ]
  },
  {
   "cell_type": "code",
   "execution_count": 62,
   "metadata": {},
   "outputs": [
    {
     "data": {
      "text/plain": [
       "array([ 0.,  1.,  2., -4.])"
      ]
     },
     "execution_count": 62,
     "metadata": {},
     "output_type": "execute_result"
    }
   ],
   "source": [
    "np.floor(f_array)"
   ]
  },
  {
   "cell_type": "code",
   "execution_count": 63,
   "metadata": {},
   "outputs": [
    {
     "data": {
      "text/plain": [
       "1.1111000000000004"
      ]
     },
     "execution_count": 63,
     "metadata": {},
     "output_type": "execute_result"
    }
   ],
   "source": [
    "np.sum(f_array)"
   ]
  },
  {
   "cell_type": "code",
   "execution_count": 64,
   "metadata": {},
   "outputs": [
    {
     "data": {
      "text/plain": [
       "5"
      ]
     },
     "execution_count": 64,
     "metadata": {},
     "output_type": "execute_result"
    }
   ],
   "source": [
    "np.sum([2,3])"
   ]
  },
  {
   "cell_type": "code",
   "execution_count": 65,
   "metadata": {},
   "outputs": [
    {
     "data": {
      "text/plain": [
       "[2, 3, nan]"
      ]
     },
     "execution_count": 65,
     "metadata": {},
     "output_type": "execute_result"
    }
   ],
   "source": [
    "[2,3,np.nan]"
   ]
  },
  {
   "cell_type": "code",
   "execution_count": 66,
   "metadata": {},
   "outputs": [
    {
     "data": {
      "text/plain": [
       "5.0"
      ]
     },
     "execution_count": 66,
     "metadata": {},
     "output_type": "execute_result"
    }
   ],
   "source": [
    "np.nansum([2,3,np.nan])"
   ]
  },
  {
   "cell_type": "code",
   "execution_count": 67,
   "metadata": {},
   "outputs": [
    {
     "data": {
      "text/plain": [
       "array([ 7.3890561 , 20.08553692,  4.48168907])"
      ]
     },
     "execution_count": 67,
     "metadata": {},
     "output_type": "execute_result"
    }
   ],
   "source": [
    "a=np.array([2,3,1.5])\n",
    "np.exp(a)"
   ]
  },
  {
   "cell_type": "code",
   "execution_count": 68,
   "metadata": {},
   "outputs": [
    {
     "data": {
      "text/plain": [
       "array([0.69314718, 1.09861229, 0.40546511])"
      ]
     },
     "execution_count": 68,
     "metadata": {},
     "output_type": "execute_result"
    }
   ],
   "source": [
    "np.log(a) #log e"
   ]
  },
  {
   "cell_type": "code",
   "execution_count": 69,
   "metadata": {},
   "outputs": [
    {
     "data": {
      "text/plain": [
       "array([0.30103   , 0.47712125, 0.17609126, 2.        ])"
      ]
     },
     "execution_count": 69,
     "metadata": {},
     "output_type": "execute_result"
    }
   ],
   "source": [
    "a=np.array([2,3,1.5,100])\n",
    "np.log10(a)"
   ]
  },
  {
   "attachments": {},
   "cell_type": "markdown",
   "metadata": {},
   "source": [
    "### Statistical Functions"
   ]
  },
  {
   "attachments": {},
   "cell_type": "markdown",
   "metadata": {},
   "source": [
    "Min & Max"
   ]
  },
  {
   "cell_type": "code",
   "execution_count": 70,
   "metadata": {},
   "outputs": [
    {
     "data": {
      "text/plain": [
       "array([[3, 7, 5],\n",
       "       [8, 4, 3],\n",
       "       [2, 4, 9]])"
      ]
     },
     "execution_count": 70,
     "metadata": {},
     "output_type": "execute_result"
    }
   ],
   "source": [
    "arr = np.array([[3,7,5],[8,4,3],[2,4,9]]) \n",
    "arr"
   ]
  },
  {
   "cell_type": "code",
   "execution_count": 71,
   "metadata": {},
   "outputs": [
    {
     "name": "stdout",
     "output_type": "stream",
     "text": [
      "min:  2\n",
      "max:  9\n"
     ]
    }
   ],
   "source": [
    "print('min: ', np.amin(arr))\n",
    "print('max: ', np.amax(arr))"
   ]
  },
  {
   "cell_type": "code",
   "execution_count": 72,
   "metadata": {},
   "outputs": [
    {
     "data": {
      "text/plain": [
       "array([[3, 7, 5],\n",
       "       [8, 4, 3],\n",
       "       [2, 4, 9]])"
      ]
     },
     "execution_count": 72,
     "metadata": {},
     "output_type": "execute_result"
    }
   ],
   "source": [
    "arr"
   ]
  },
  {
   "cell_type": "code",
   "execution_count": 73,
   "metadata": {},
   "outputs": [
    {
     "name": "stdout",
     "output_type": "stream",
     "text": [
      "[2 4 3]\n",
      "[3 3 2]\n"
     ]
    }
   ],
   "source": [
    "# min function along the axis c-0, r-1\n",
    "print(np.amin(arr, 0))\n",
    "print(np.amin(arr, 1))"
   ]
  },
  {
   "cell_type": "code",
   "execution_count": 74,
   "metadata": {},
   "outputs": [
    {
     "name": "stdout",
     "output_type": "stream",
     "text": [
      "[8 7 9]\n",
      "[7 8 9]\n"
     ]
    }
   ],
   "source": [
    "# max function along the axis c-0, r-1\n",
    "print(np.amax(arr, 0))\n",
    "print(np.amax(arr, 1))"
   ]
  },
  {
   "attachments": {},
   "cell_type": "markdown",
   "metadata": {},
   "source": [
    "median"
   ]
  },
  {
   "cell_type": "code",
   "execution_count": 75,
   "metadata": {},
   "outputs": [
    {
     "data": {
      "text/plain": [
       "array([[3, 7, 5],\n",
       "       [8, 4, 3],\n",
       "       [2, 4, 9]])"
      ]
     },
     "execution_count": 75,
     "metadata": {},
     "output_type": "execute_result"
    }
   ],
   "source": [
    "arr = np.array([[3,7,5],[8,4,3],[2,4,9]]) \n",
    "arr"
   ]
  },
  {
   "cell_type": "code",
   "execution_count": 76,
   "metadata": {},
   "outputs": [
    {
     "name": "stdout",
     "output_type": "stream",
     "text": [
      "4.0\n",
      "[3. 4. 5.]\n",
      "[5. 4. 4.]\n"
     ]
    }
   ],
   "source": [
    "print(np.median(arr))\n",
    "print(np.median(arr, 0))\n",
    "print(np.median(arr, 1))"
   ]
  },
  {
   "attachments": {},
   "cell_type": "markdown",
   "metadata": {},
   "source": [
    "mean"
   ]
  },
  {
   "cell_type": "code",
   "execution_count": 77,
   "metadata": {},
   "outputs": [
    {
     "data": {
      "text/plain": [
       "array([[3, 7, 5],\n",
       "       [8, 4, 3],\n",
       "       [2, 4, 9]])"
      ]
     },
     "execution_count": 77,
     "metadata": {},
     "output_type": "execute_result"
    }
   ],
   "source": [
    "arr = np.array([[3,7,5],[8,4,3],[2,4,9]]) \n",
    "arr"
   ]
  },
  {
   "cell_type": "code",
   "execution_count": 78,
   "metadata": {},
   "outputs": [
    {
     "name": "stdout",
     "output_type": "stream",
     "text": [
      "5.0\n",
      "[4.33333333 5.         5.66666667]\n",
      "[5. 5. 5.]\n"
     ]
    }
   ],
   "source": [
    "print(np.mean(arr))\n",
    "print(np.mean(arr, 0))\n",
    "print(np.mean(arr, 1))"
   ]
  },
  {
   "cell_type": "code",
   "execution_count": 79,
   "metadata": {},
   "outputs": [
    {
     "name": "stdout",
     "output_type": "stream",
     "text": [
      "nan\n",
      "96.0\n"
     ]
    }
   ],
   "source": [
    "arr = np.array([np.nan,221,13,245,0,1])\n",
    "print(np.mean(arr))\n",
    "print(np.nanmean(arr))"
   ]
  },
  {
   "attachments": {},
   "cell_type": "markdown",
   "metadata": {},
   "source": [
    "average"
   ]
  },
  {
   "cell_type": "code",
   "execution_count": 80,
   "metadata": {},
   "outputs": [
    {
     "data": {
      "text/plain": [
       "2.5"
      ]
     },
     "execution_count": 80,
     "metadata": {},
     "output_type": "execute_result"
    }
   ],
   "source": [
    "arr = np.array([1,2,3, 4])\n",
    "np.average(arr)"
   ]
  },
  {
   "cell_type": "code",
   "execution_count": 81,
   "metadata": {},
   "outputs": [
    {
     "data": {
      "text/plain": [
       "2.0"
      ]
     },
     "execution_count": 81,
     "metadata": {},
     "output_type": "execute_result"
    }
   ],
   "source": [
    "np.average(arr, weights=[4,3,2,1])"
   ]
  },
  {
   "cell_type": "code",
   "execution_count": 82,
   "metadata": {},
   "outputs": [
    {
     "data": {
      "text/plain": [
       "array([[3, 7, 5],\n",
       "       [8, 4, 3],\n",
       "       [2, 4, 9]])"
      ]
     },
     "execution_count": 82,
     "metadata": {},
     "output_type": "execute_result"
    }
   ],
   "source": [
    "arr = np.array([[3,7,5],[8,4,3],[2,4,9]]) \n",
    "arr"
   ]
  },
  {
   "cell_type": "code",
   "execution_count": 83,
   "metadata": {},
   "outputs": [
    {
     "data": {
      "text/plain": [
       "5.0"
      ]
     },
     "execution_count": 83,
     "metadata": {},
     "output_type": "execute_result"
    }
   ],
   "source": [
    "np.average(arr)"
   ]
  },
  {
   "cell_type": "code",
   "execution_count": 84,
   "metadata": {},
   "outputs": [
    {
     "data": {
      "text/plain": [
       "array([4.44444444, 5.33333333, 5.22222222])"
      ]
     },
     "execution_count": 84,
     "metadata": {},
     "output_type": "execute_result"
    }
   ],
   "source": [
    "np.average(arr, axis=0, weights=[4,3,2])"
   ]
  },
  {
   "cell_type": "code",
   "execution_count": 85,
   "metadata": {},
   "outputs": [
    {
     "data": {
      "text/plain": [
       "array([4.77777778, 5.55555556, 4.22222222])"
      ]
     },
     "execution_count": 85,
     "metadata": {},
     "output_type": "execute_result"
    }
   ],
   "source": [
    "np.average(arr, axis=1, weights=[4,3,2])"
   ]
  },
  {
   "attachments": {},
   "cell_type": "markdown",
   "metadata": {},
   "source": [
    "Standard Deviation"
   ]
  },
  {
   "cell_type": "code",
   "execution_count": 86,
   "metadata": {},
   "outputs": [
    {
     "data": {
      "text/plain": [
       "104.25076605100907"
      ]
     },
     "execution_count": 86,
     "metadata": {},
     "output_type": "execute_result"
    }
   ],
   "source": [
    "arr = np.array([221,13,44,245,0,1])\n",
    "np.std(arr)"
   ]
  },
  {
   "cell_type": "markdown",
   "metadata": {},
   "source": [
    "Here’s a table summarizing the commonly used NumPy functions, including **syntax** and **examples**:\n",
    "\n",
    "| **Category**         | **Function**       | **Syntax**                                | **Example**                                                                                           |\n",
    "|-----------------------|--------------------|-------------------------------------------|-------------------------------------------------------------------------------------------------------|\n",
    "| **Array Creation**    | `np.array()`       | `np.array(data)`                          | `np.array([1, 2, 3])` → `[1 2 3]`                                                                    |\n",
    "|                       | `np.zeros()`       | `np.zeros(shape)`                         | `np.zeros((2, 3))` → `[[0. 0. 0.] [0. 0. 0.]]`                                                      |\n",
    "|                       | `np.ones()`        | `np.ones(shape)`                          | `np.ones((2, 3))` → `[[1. 1. 1.] [1. 1. 1.]]`                                                       |\n",
    "|                       | `np.empty()`       | `np.empty(shape)`                         | `np.empty((2, 2))` → Random uninitialized values                                                     |\n",
    "|                       | `np.arange()`      | `np.arange(start, stop, step)`            | `np.arange(0, 5, 1)` → `[0 1 2 3 4]`                                                                |\n",
    "|                       | `np.linspace()`    | `np.linspace(start, stop, num)`           | `np.linspace(0, 1, 5)` → `[0.   0.25 0.5  0.75 1.  ]`                                               |\n",
    "|                       | `np.eye()`         | `np.eye(n)`                               | `np.eye(3)` → `[[1. 0. 0.] [0. 1. 0.] [0. 0. 1.]]`                                                  |\n",
    "| **Array Manipulation**| `np.reshape()`     | `np.reshape(array, new_shape)`            | `np.reshape([1, 2, 3, 4], (2, 2))` → `[[1 2] [3 4]]`                                                |\n",
    "|                       | `np.transpose()`   | `np.transpose(array)`                     | `np.transpose([[1, 2], [3, 4]])` → `[[1 3] [2 4]]`                                                  |\n",
    "|                       | `np.flatten()`     | `array.flatten()`                         | `np.array([[1, 2], [3, 4]]).flatten()` → `[1 2 3 4]`                                                |\n",
    "|                       | `np.concatenate()` | `np.concatenate((arr1, arr2), axis)`      | `np.concatenate(([1, 2], [3, 4]))` → `[1 2 3 4]`                                                    |\n",
    "|                       | `np.split()`       | `np.split(array, sections)`               | `np.split([1, 2, 3, 4], 2)` → `[array([1, 2]), array([3, 4])]`                                       |\n",
    "| **Math Operations**   | `np.add()`         | `np.add(arr1, arr2)`                      | `np.add([1, 2], [3, 4])` → `[4 6]`                                                                  |\n",
    "|                       | `np.subtract()`    | `np.subtract(arr1, arr2)`                 | `np.subtract([5, 7], [3, 4])` → `[2 3]`                                                             |\n",
    "|                       | `np.multiply()`    | `np.multiply(arr1, arr2)`                 | `np.multiply([1, 2], [3, 4])` → `[3 8]`                                                             |\n",
    "|                       | `np.divide()`      | `np.divide(arr1, arr2)`                   | `np.divide([6, 8], [3, 4])` → `[2. 2.]`                                                             |\n",
    "|                       | `np.power()`       | `np.power(base, exp)`                     | `np.power([2, 3], 2)` → `[4 9]`                                                                     |\n",
    "|                       | `np.sqrt()`        | `np.sqrt(arr)`                            | `np.sqrt([4, 9])` → `[2. 3.]`                                                                       |\n",
    "|                       | `np.exp()`         | `np.exp(arr)`                             | `np.exp([1, 2])` → `[ 2.71828183  7.3890561 ]`                                                      |\n",
    "|                       | `np.log()`         | `np.log(arr)`                             | `np.log([1, np.e])` → `[0. 1.]`                                                                     |\n",
    "| **Statistics**        | `np.mean()`        | `np.mean(arr)`                            | `np.mean([1, 2, 3])` → `2.0`                                                                        |\n",
    "|                       | `np.median()`      | `np.median(arr)`                          | `np.median([1, 2, 3, 4])` → `2.5`                                                                   |\n",
    "|                       | `np.std()`         | `np.std(arr)`                             | `np.std([1, 2, 3])` → `0.816496580927726`                                                           |\n",
    "|                       | `np.var()`         | `np.var(arr)`                             | `np.var([1, 2, 3])` → `0.6666666666666666`                                                          |\n",
    "|                       | `np.min()`         | `np.min(arr)`                             | `np.min([3, 1, 2])` → `1`                                                                           |\n",
    "| **Logical Operations**| `np.where()`       | `np.where(condition, x, y)`               | `np.where([True, False], 1, 0)` → `[1 0]`                                                           |\n",
    "|                       | `np.all()`         | `np.all(arr)`                             | `np.all([True, True])` → `True`                                                                     |\n",
    "|                       | `np.any()`         | `np.any(arr)`                             | `np.any([False, True])` → `True`                                                                    |\n",
    "| **Random**            | `np.random.rand()` | `np.random.rand(dims)`                    | `np.random.rand(2, 2)` → Random values in [0, 1)                                                   |\n",
    "|                       | `np.random.randint()`| `np.random.randint(low, high, size)`      | `np.random.randint(0, 10, 3)` → Random integers like `[3 8 5]`                                       |\n",
    "|                       | `np.random.choice()`| `np.random.choice(arr, size)`             | `np.random.choice([1, 2, 3], 2)` → Random selection like `[1, 3]`                                   |\n",
    "\n",
    "---\n",
    "\n",
    "This table captures syntax and examples for most of the frequently used NumPy functions, making it a quick reference for common operations."
   ]
  }
 ],
 "metadata": {
  "kernelspec": {
   "display_name": "Python 3",
   "language": "python",
   "name": "python3"
  },
  "language_info": {
   "codemirror_mode": {
    "name": "ipython",
    "version": 3
   },
   "file_extension": ".py",
   "mimetype": "text/x-python",
   "name": "python",
   "nbconvert_exporter": "python",
   "pygments_lexer": "ipython3",
   "version": "3.12.1"
  },
  "orig_nbformat": 4,
  "vscode": {
   "interpreter": {
    "hash": "52634da84371cba311ea128a5ea7cdc41ff074b781779e754b270ff9f8153cee"
   }
  }
 },
 "nbformat": 4,
 "nbformat_minor": 2
}
