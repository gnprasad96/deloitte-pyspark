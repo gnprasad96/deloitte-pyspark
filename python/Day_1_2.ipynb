{
 "cells": [
  {
   "cell_type": "markdown",
   "metadata": {},
   "source": [
    "# Collections"
   ]
  },
  {
   "cell_type": "markdown",
   "metadata": {},
   "source": [
    "***\n",
    "### NamedTuple"
   ]
  },
  {
   "cell_type": "markdown",
   "metadata": {},
   "source": [
    "A namedtuple is a subclass of Python's built-in tuple data type that allows you to define simple classes for storing data. Unlike regular tuples, namedtuple objects have named fields that can be accessed like attributes, which makes the code more readable and self-explanatory.\n",
    "\n",
    "**Key Points:**\n",
    "\n",
    "- Named fields: You can access elements using dot notation (object.field).\n",
    "- Immutability: Like regular tuples, namedtuple is immutable, meaning you can't modify its fields after creation.\n",
    "- Efficiency: It is more memory-efficient than regular classes and provides a lightweight way to store and access data."
   ]
  },
  {
   "cell_type": "markdown",
   "metadata": {},
   "source": [
    "*Example:*"
   ]
  },
  {
   "cell_type": "code",
   "execution_count": 1,
   "metadata": {},
   "outputs": [],
   "source": [
    "from collections import namedtuple\n",
    "\n",
    "# Define a namedtuple class 'Point'\n",
    "Point = namedtuple('Point', ['x', 'y'])\n",
    "\n",
    "# Creating instances of the namedtuple\n",
    "point1 = Point(1, 2)\n",
    "point2 = Point(3, 4)"
   ]
  },
  {
   "cell_type": "code",
   "execution_count": 2,
   "metadata": {},
   "outputs": [
    {
     "name": "stdout",
     "output_type": "stream",
     "text": [
      "Point 1: Point(x=1, y=2)\n",
      "X-coordinate of point1: 1\n",
      "Y-coordinate of point2: 4\n",
      "X coordinate of point1 by index: 1\n",
      "Y coordinate of point1 by index: 2\n",
      "Distance between point1 and point2: 2.8284271247461903\n"
     ]
    }
   ],
   "source": [
    "# Accessing fields\n",
    "print(\"Point 1:\", point1)\n",
    "print(\"X-coordinate of point1:\", point1.x)\n",
    "print(\"Y-coordinate of point2:\", point2.y)\n",
    "\n",
    "# Access by index\n",
    "print(\"X coordinate of point1 by index:\", point1[0])\n",
    "print(\"Y coordinate of point1 by index:\", point1[1])\n",
    "\n",
    "# Using namedtuple in calculations\n",
    "distance = ((point2.x - point1.x)**2 + (point2.y - point1.y)**2)**0.5\n",
    "print(\"Distance between point1 and point2:\", distance)"
   ]
  },
  {
   "cell_type": "code",
   "execution_count": 3,
   "metadata": {},
   "outputs": [
    {
     "name": "stdout",
     "output_type": "stream",
     "text": [
      "1\n",
      "2\n"
     ]
    }
   ],
   "source": [
    "# Iterating Over Fields\n",
    "# You can iterate through the fields of a namedtuple.\n",
    "\n",
    "for value in point1:\n",
    "    print(value)"
   ]
  },
  {
   "cell_type": "code",
   "execution_count": 4,
   "metadata": {},
   "outputs": [
    {
     "name": "stdout",
     "output_type": "stream",
     "text": [
      "Field names: ('x', 'y')\n"
     ]
    }
   ],
   "source": [
    "# _fields Property\n",
    "# This property returns the names of the fields as a tuple.\n",
    "\n",
    "print(\"Field names:\", Point._fields)"
   ]
  },
  {
   "cell_type": "code",
   "execution_count": 5,
   "metadata": {},
   "outputs": [
    {
     "name": "stdout",
     "output_type": "stream",
     "text": [
      "Original Point: Point(x=1, y=2)\n",
      "Modified Point: Point(x=50, y=2)\n"
     ]
    }
   ],
   "source": [
    "# _replace() Method\n",
    "# The _replace() method creates a new namedtuple instance with one or more fields replaced.\n",
    "\n",
    "# Replace the value of x\n",
    "new_point = point1._replace(x=50)\n",
    "print(\"Original Point:\", point1)\n",
    "print(\"Modified Point:\", new_point)"
   ]
  },
  {
   "cell_type": "code",
   "execution_count": 6,
   "metadata": {},
   "outputs": [
    {
     "name": "stdout",
     "output_type": "stream",
     "text": [
      "As dictionary: {'x': 1, 'y': 2}\n"
     ]
    }
   ],
   "source": [
    "# asdict() Method\n",
    "# Converts the namedtuple to an OrderedDict.\n",
    "\n",
    "point_dict = point1._asdict()\n",
    "print(\"As dictionary:\", point_dict)"
   ]
  },
  {
   "cell_type": "code",
   "execution_count": 7,
   "metadata": {},
   "outputs": [
    {
     "name": "stdout",
     "output_type": "stream",
     "text": [
      "New Point from iterable: Point(x=30, y=40)\n"
     ]
    }
   ],
   "source": [
    "# Creating a New Instance with _make()\n",
    "# You can create a namedtuple from an iterable using _make().\n",
    "\n",
    "# Create a Point from a list\n",
    "data = [30, 40]\n",
    "new_point = Point._make(data)\n",
    "print(\"New Point from iterable:\", new_point)"
   ]
  },
  {
   "cell_type": "code",
   "execution_count": 8,
   "metadata": {},
   "outputs": [
    {
     "name": "stdout",
     "output_type": "stream",
     "text": [
      "Student(name='Nandini', age='19', DOB='2541997')\n"
     ]
    }
   ],
   "source": [
    "# Declaring namedtuple()\n",
    "Student = namedtuple('Student', ['name', 'age', 'DOB'])\n",
    "\n",
    "# Adding values\n",
    "S = Student('Nandini', '19', '2541997')\n",
    "\n",
    "print(S)"
   ]
  },
  {
   "cell_type": "code",
   "execution_count": 9,
   "metadata": {},
   "outputs": [
    {
     "name": "stdout",
     "output_type": "stream",
     "text": [
      "The namedtuple instance using iterable is  : \n",
      "Student(name='Manjeet', age='19', DOB='411997')\n"
     ]
    }
   ],
   "source": [
    "# initializing iterable\n",
    "li = ['Manjeet', '19', '411997']\n",
    "\n",
    "# using _make() to return namedtuple()\n",
    "print(\"The namedtuple instance using iterable is  : \")\n",
    "print(Student._make(li))"
   ]
  },
  {
   "cell_type": "code",
   "execution_count": 10,
   "metadata": {},
   "outputs": [
    {
     "name": "stdout",
     "output_type": "stream",
     "text": [
      "The namedtuple instance from dict is  : \n",
      "Student(name='Nikhil', age=19, DOB='1391997')\n"
     ]
    }
   ],
   "source": [
    "# using ** operator to return namedtuple from dictionary\n",
    "\n",
    "di = {'name': \"Nikhil\", 'age': 19, 'DOB': '1391997'}\n",
    "print(\"The namedtuple instance from dict is  : \")\n",
    "print(Student(**di))"
   ]
  },
  {
   "cell_type": "code",
   "execution_count": 18,
   "metadata": {},
   "outputs": [
    {
     "name": "stdout",
     "output_type": "stream",
     "text": [
      "Are p1 and p2 equal? True\n",
      "Is p1 greater than p3? False\n"
     ]
    }
   ],
   "source": [
    "# Equality and Comparison\n",
    "# namedtuple instances are comparable by their fields. They support equality (==) and ordering (<, >) operations.\n",
    "\n",
    "p1 = Point(10, 20)\n",
    "p2 = Point(10, 20)\n",
    "p3 = Point(55, 0)\n",
    "\n",
    "# Equality\n",
    "print(\"Are p1 and p2 equal?\", p1 == p2)\n",
    "\n",
    "# Comparison\n",
    "print(\"Is p1 greater than p3?\", p1 > p3)\n"
   ]
  },
  {
   "cell_type": "code",
   "execution_count": 19,
   "metadata": {},
   "outputs": [
    {
     "name": "stdout",
     "output_type": "stream",
     "text": [
      "Extended Point: ExtendedPoint(x=10, y=20, z=30)\n"
     ]
    }
   ],
   "source": [
    "# Extending NamedTuple Fields\n",
    "# You can dynamically extend a namedtuple using the _fields property and _make().\n",
    "\n",
    "\n",
    "ExtendedPoint = namedtuple('ExtendedPoint', Point._fields + ('z',))\n",
    "extended_point = ExtendedPoint._make(p1 + (30,))\n",
    "print(\"Extended Point:\", extended_point)"
   ]
  },
  {
   "cell_type": "code",
   "execution_count": 20,
   "metadata": {},
   "outputs": [
    {
     "name": "stdout",
     "output_type": "stream",
     "text": [
      "Combined namedtuple: PointColor(x=10, y=20, r=255, g=255, b=0)\n"
     ]
    }
   ],
   "source": [
    "# Combining NamedTuples\n",
    "# You can combine two namedtuple instances using their _fields and _make() methods.\n",
    "\n",
    "Color = namedtuple('Color', ['r', 'g', 'b'])\n",
    "color = Color(255, 255, 0)\n",
    "\n",
    "PointColor = namedtuple('PointColor', Point._fields + Color._fields)\n",
    "point_color = PointColor._make(p1 + color)\n",
    "print(\"Combined namedtuple:\", point_color)"
   ]
  },
  {
   "cell_type": "code",
   "execution_count": 21,
   "metadata": {},
   "outputs": [
    {
     "name": "stdout",
     "output_type": "stream",
     "text": [
      "Default Point: Point(x=0, y=0)\n"
     ]
    }
   ],
   "source": [
    "# Default Values for NamedTuple\n",
    "# You can set default values for fields using NamedTuple._defaults.\n",
    "\n",
    "\n",
    "Point = namedtuple('Point', ['x', 'y'])\n",
    "Point.__new__.__defaults__ = (0, 0)\n",
    "\n",
    "p = Point()  # No arguments passed\n",
    "print(\"Default Point:\", p)"
   ]
  },
  {
   "cell_type": "markdown",
   "metadata": {},
   "source": [
    "**Summary of Operations**\n",
    "\n",
    "| **Operation**     | **Description**                                    | **Example Method**           |\n",
    "|--------------------|----------------------------------------------------|------------------------------|\n",
    "| Access Fields      | Access fields by name or index                    | `p.x`, `p[0]`               |\n",
    "| Iterate Fields     | Iterate over all field values                     | `for val in p`              |\n",
    "| Fields Metadata    | Get names of all fields                           | `p._fields`                 |\n",
    "| Replace Fields     | Create a copy with updated values                 | `p._replace(x=5)`           |\n",
    "| Convert to Dict    | Convert to an `OrderedDict`                       | `p._asdict()`               |\n",
    "| Create from List   | Create `namedtuple` from an iterable              | `Point._make([10, 20])`     |\n",
    "| Comparisons        | Compare two instances                             | `p1 == p2`, `p1 > p3`       |\n",
    "| Combine Instances  | Combine fields from two `namedtuple`s             | `PointColor = Point + Color`|\n",
    "| Set Defaults       | Define default field values                       | `Point.__new__.__defaults__`|\n"
   ]
  },
  {
   "cell_type": "markdown",
   "metadata": {},
   "source": [
    "**Storing Employee Data**\n",
    "\n",
    "In a real-world scenario, a company might use a namedtuple to represent an employee's data, such as their name, age, and job title."
   ]
  },
  {
   "cell_type": "code",
   "execution_count": 22,
   "metadata": {},
   "outputs": [],
   "source": [
    "# Define a namedtuple class 'Employee'\n",
    "Employee = namedtuple('Employee', ['name', 'age', 'job_title'])\n",
    "\n",
    "# Creating employee records\n",
    "emp1 = Employee('Alice', 30, 'Data Scientist')\n",
    "emp2 = Employee('Bob', 25, 'Software Engineer')\n",
    "emp3 = Employee('Charlie', 35, 'Product Manager')"
   ]
  },
  {
   "cell_type": "code",
   "execution_count": 23,
   "metadata": {},
   "outputs": [
    {
     "name": "stdout",
     "output_type": "stream",
     "text": [
      "Employee 1: Employee(name='Alice', age=30, job_title='Data Scientist')\n",
      "Name of employee 2: Bob\n",
      "Age of employee 3: 35\n"
     ]
    }
   ],
   "source": [
    "# Accessing employee details\n",
    "print(\"Employee 1:\", emp1)\n",
    "print(\"Name of employee 2:\", emp2.name)\n",
    "print(\"Age of employee 3:\", emp3.age)"
   ]
  },
  {
   "cell_type": "code",
   "execution_count": 25,
   "metadata": {},
   "outputs": [
    {
     "name": "stdout",
     "output_type": "stream",
     "text": [
      "Employees older than 30: [Employee(name='Alice', age=30, job_title='Data Scientist'), Employee(name='Charlie', age=35, job_title='Product Manager')]\n"
     ]
    }
   ],
   "source": [
    "# Storing employee data in a list\n",
    "employees = [emp1, emp2, emp3]\n",
    "\n",
    "# Finding employees older than 30\n",
    "older_employees = [emp for emp in employees if emp.age > 25]\n",
    "print(\"Employees older than 30:\", older_employees)"
   ]
  },
  {
   "cell_type": "code",
   "execution_count": 26,
   "metadata": {},
   "outputs": [
    {
     "name": "stdout",
     "output_type": "stream",
     "text": [
      "Average grade for Emma: 84.33333333333333\n"
     ]
    }
   ],
   "source": [
    "# Representing a Student Record\n",
    "\n",
    "# Define a namedtuple class 'Student'\n",
    "Student = namedtuple('Student', ['name', 'roll_number', 'grades'])\n",
    "\n",
    "# Create student records\n",
    "student1 = Student(name='Emma', roll_number=101, grades=[85, 90, 78])\n",
    "student2 = Student(name='Liam', roll_number=102, grades=[88, 92, 81])\n",
    "\n",
    "# Calculate average grades\n",
    "average_grade_student1 = sum(student1.grades) / len(student1.grades)\n",
    "print(f\"Average grade for {student1.name}: {average_grade_student1}\")\n"
   ]
  },
  {
   "cell_type": "markdown",
   "metadata": {},
   "source": [
    "**Benefits of Using NamedTuples:**\n",
    "\n",
    "1. Code Readability: Named fields make the code more readable compared to using plain tuples or dictionaries.\n",
    "1. Memory Efficiency: NamedTuples use less memory than regular Python classes, making them more efficient when handling large datasets.\n",
    "1. Immutability: NamedTuples are immutable, so they ensure data integrity."
   ]
  },
  {
   "cell_type": "markdown",
   "metadata": {},
   "source": [
    "***\n",
    "### Deque"
   ]
  },
  {
   "cell_type": "markdown",
   "metadata": {},
   "source": [
    "A deque (short for \"double-ended queue\") is a type of queue that allows you to append and pop elements from both ends efficiently. Unlike lists, which have inefficient operations for popping elements from the front, a deque provides O(1) time complexity for appending and popping from both ends.\n",
    "\n",
    "**Key Features of Deque:**\n",
    "- Efficient appends and pops from both ends (front and rear).\n",
    "- Thread-safe for multi-threaded applications.\n",
    "- Can be used as a queue, stack, or a double-ended queue."
   ]
  },
  {
   "cell_type": "markdown",
   "metadata": {},
   "source": [
    "*Example:*"
   ]
  },
  {
   "cell_type": "code",
   "execution_count": 27,
   "metadata": {},
   "outputs": [
    {
     "name": "stdout",
     "output_type": "stream",
     "text": [
      "deque(['name', 'age', 'DOB'])\n"
     ]
    }
   ],
   "source": [
    "from collections import deque \n",
    "    \n",
    "# Declaring deque \n",
    "queue = deque(['name','age','DOB']) \n",
    "    \n",
    "print(queue)"
   ]
  },
  {
   "cell_type": "code",
   "execution_count": 28,
   "metadata": {},
   "outputs": [
    {
     "name": "stdout",
     "output_type": "stream",
     "text": [
      "deque:  deque([1, 2, 3])\n",
      "\n",
      "The deque after appending at right is : \n",
      "deque([1, 2, 3, 4])\n"
     ]
    }
   ],
   "source": [
    "# initializing deque\n",
    "de = deque([1, 2, 3])\n",
    "print(\"deque: \", de)\n",
    "\n",
    "# using append() to insert element at right end\n",
    "# inserts 4 at the end of deque\n",
    "de.append(4)\n",
    "\n",
    "# printing modified deque\n",
    "print(\"\\nThe deque after appending at right is : \")\n",
    "print(de)"
   ]
  },
  {
   "cell_type": "code",
   "execution_count": 29,
   "metadata": {},
   "outputs": [
    {
     "name": "stdout",
     "output_type": "stream",
     "text": [
      "\n",
      "The deque after appending at left is : \n",
      "deque([6, 1, 2, 3, 4])\n"
     ]
    }
   ],
   "source": [
    "# using appendleft() to insert element at left end\n",
    "# inserts 6 at the beginning of deque\n",
    "de.appendleft(6)\n",
    "\n",
    "# printing modified deque\n",
    "print(\"\\nThe deque after appending at left is : \")\n",
    "print(de)"
   ]
  },
  {
   "cell_type": "markdown",
   "metadata": {},
   "source": [
    "**Popping Items Efficiently**"
   ]
  },
  {
   "cell_type": "code",
   "execution_count": 30,
   "metadata": {},
   "outputs": [
    {
     "name": "stdout",
     "output_type": "stream",
     "text": [
      "\n",
      "The deque after deleting from right is : \n",
      "deque([6, 1, 2, 3])\n"
     ]
    }
   ],
   "source": [
    "# using pop() to delete element from right end\n",
    "# deletes 4 from the right end of deque\n",
    "de.pop()\n",
    "\n",
    "# printing modified deque\n",
    "print(\"\\nThe deque after deleting from right is : \")\n",
    "print(de)"
   ]
  },
  {
   "cell_type": "code",
   "execution_count": 31,
   "metadata": {},
   "outputs": [
    {
     "name": "stdout",
     "output_type": "stream",
     "text": [
      "\n",
      "The deque after deleting from left is : \n",
      "deque([1, 2, 3])\n"
     ]
    }
   ],
   "source": [
    "# using popleft() to delete element from left end\n",
    "# deletes 6 from the left end of deque\n",
    "de.popleft()\n",
    "\n",
    "# printing modified deque\n",
    "print(\"\\nThe deque after deleting from left is : \")\n",
    "print(de)"
   ]
  },
  {
   "cell_type": "markdown",
   "metadata": {},
   "source": [
    "**Accessing Items in a deque**\n",
    "\n",
    "- **index(ele, beg, end)**:- This function returns the first index of the value mentioned in arguments, starting searching from beg till end index.\n",
    "- **insert(i, a)**:- This function inserts the value mentioned in arguments(a) at index(i) specified in arguments.\n",
    "- **remove()**:- This function removes the first occurrence of the value mentioned in arguments.\n",
    "- **count()**:- This function counts the number of occurrences of value mentioned in arguments."
   ]
  },
  {
   "cell_type": "code",
   "execution_count": 36,
   "metadata": {},
   "outputs": [
    {
     "name": "stdout",
     "output_type": "stream",
     "text": [
      "The number 4 first occurs at a position : \n",
      "3\n"
     ]
    }
   ],
   "source": [
    "# initializing deque\n",
    "de = deque([1, 2, 3, 3, 4, 2, 4])\n",
    "\n",
    "# using index() to print the first occurrence of 4\n",
    "print (\"The number 4 first occurs at a position : \")\n",
    "print (de.index(3,3,5))"
   ]
  },
  {
   "cell_type": "code",
   "execution_count": 37,
   "metadata": {},
   "outputs": [
    {
     "name": "stdout",
     "output_type": "stream",
     "text": [
      "The deque after inserting 3 at 5th position is : \n",
      "deque([1, 2, 3, 3, 3, 4, 2, 4])\n"
     ]
    }
   ],
   "source": [
    "# using insert() to insert the value 3 at 5th position\n",
    "de.insert(4,3)\n",
    "\n",
    "# printing modified deque\n",
    "print (\"The deque after inserting 3 at 5th position is : \")\n",
    "print (de)"
   ]
  },
  {
   "cell_type": "code",
   "execution_count": 38,
   "metadata": {},
   "outputs": [
    {
     "name": "stdout",
     "output_type": "stream",
     "text": [
      "The count of 3 in deque is : \n",
      "3\n",
      "The deque after deleting first occurrence of 3 is : \n",
      "deque([1, 2, 3, 3, 4, 2, 4])\n",
      "The size of deque is :  7\n"
     ]
    }
   ],
   "source": [
    "# using count() to count the occurrences of 3\n",
    "print (\"The count of 3 in deque is : \")\n",
    "print (de.count(3))\n",
    "\n",
    "# using remove() to remove the first occurrence of 3\n",
    "de.remove(3)\n",
    "\n",
    "# printing modified deque\n",
    "print (\"The deque after deleting first occurrence of 3 is : \")\n",
    "print (de)\n",
    "\n",
    "print (\"The size of deque is : \", len(de))"
   ]
  },
  {
   "cell_type": "markdown",
   "metadata": {},
   "source": [
    "**Front and Back of a deque**\n",
    "- Deque[0] :- We can access the front element of the deque using indexing with de[0].\n",
    "- Deque[-1] :- We can access the back element of the deque using indexing with de[-1]."
   ]
  },
  {
   "cell_type": "code",
   "execution_count": 39,
   "metadata": {},
   "outputs": [
    {
     "name": "stdout",
     "output_type": "stream",
     "text": [
      "Front element of the deque: 1\n",
      "Back element of the deque: 4\n"
     ]
    }
   ],
   "source": [
    "# Accessing the front element of the deque\n",
    "print(\"Front element of the deque:\", de[0])\n",
    "\n",
    "# Accessing the back element of the deque\n",
    "print(\"Back element of the deque:\", de[-1])"
   ]
  },
  {
   "cell_type": "markdown",
   "metadata": {},
   "source": [
    "**Different operations on deque**\n",
    "- **extend(iterable)**:- This function is used to add multiple values at the right end of the deque. The argument passed is iterable.\n",
    "- **extendleft(iterable)**:- This function is used to add multiple values at the left end of the deque. The argument passed is iterable. Order is reversed as a result of left appends.\n",
    "- **reverse()**:- This function is used to reverse the order of deque elements.\n",
    "- **rotate()**:- This function rotates the deque by the number specified in arguments. If the number specified is negative, rotation occurs to the left. Else rotation is to right."
   ]
  },
  {
   "cell_type": "code",
   "execution_count": 40,
   "metadata": {},
   "outputs": [
    {
     "name": "stdout",
     "output_type": "stream",
     "text": [
      "The deque after extending deque at end is : \n",
      "deque([1, 2, 3, 4, 5, 6])\n"
     ]
    }
   ],
   "source": [
    "# initializing deque\n",
    "de = deque([1, 2, 3,])\n",
    "\n",
    "# using extend() to add numbers to right end \n",
    "# adds 4,5,6 to right end\n",
    "de.extend([4,5,6])\n",
    "\n",
    "# printing modified deque\n",
    "print (\"The deque after extending deque at end is : \")\n",
    "print (de)"
   ]
  },
  {
   "cell_type": "code",
   "execution_count": 41,
   "metadata": {},
   "outputs": [
    {
     "name": "stdout",
     "output_type": "stream",
     "text": [
      "The deque after extending deque at beginning is : \n",
      "deque([9, 8, 7, 1, 2, 3, 4, 5, 6])\n"
     ]
    }
   ],
   "source": [
    "# using extendleft() to add numbers to left end \n",
    "# adds 7,8,9 to left end\n",
    "de.extendleft([7,8,9])\n",
    "\n",
    "# printing modified deque\n",
    "print (\"The deque after extending deque at beginning is : \")\n",
    "print (de)"
   ]
  },
  {
   "cell_type": "code",
   "execution_count": 42,
   "metadata": {},
   "outputs": [
    {
     "name": "stdout",
     "output_type": "stream",
     "text": [
      "The deque after rotating deque is : \n",
      "deque([1, 2, 3, 4, 5, 6, 9, 8, 7])\n"
     ]
    }
   ],
   "source": [
    "# using rotate() to rotate the deque\n",
    "# rotates by 3 to left\n",
    "de.rotate(-3)\n",
    "\n",
    "# printing modified deque\n",
    "print (\"The deque after rotating deque is : \")\n",
    "print (de)"
   ]
  },
  {
   "cell_type": "code",
   "execution_count": 43,
   "metadata": {},
   "outputs": [
    {
     "name": "stdout",
     "output_type": "stream",
     "text": [
      "The deque after rotating deque is : \n",
      "deque([9, 8, 7, 1, 2, 3, 4, 5, 6])\n"
     ]
    }
   ],
   "source": [
    "# using rotate() to rotate the deque\n",
    "# rotates by 3 to right\n",
    "de.rotate(3)\n",
    "\n",
    "# printing modified deque\n",
    "print (\"The deque after rotating deque is : \")\n",
    "print (de)"
   ]
  },
  {
   "cell_type": "code",
   "execution_count": 44,
   "metadata": {},
   "outputs": [
    {
     "name": "stdout",
     "output_type": "stream",
     "text": [
      "The deque after reversing deque is : \n",
      "deque([6, 5, 4, 3, 2, 1, 7, 8, 9])\n"
     ]
    }
   ],
   "source": [
    "# using reverse() to reverse the deque\n",
    "de.reverse()\n",
    "\n",
    "# printing modified deque\n",
    "print (\"The deque after reversing deque is : \")\n",
    "print (de)"
   ]
  },
  {
   "cell_type": "markdown",
   "metadata": {},
   "source": [
    "**Use Case: Implementing a Sliding Window**\n",
    "\n",
    "One common use case for a deque is implementing a sliding window. For example, in a data stream, you may want to find the maximum value in the last n elements of the stream. This can be done efficiently using a deque."
   ]
  },
  {
   "cell_type": "markdown",
   "metadata": {},
   "source": [
    "**Example: Finding the Maximum in a Sliding Window**\n",
    "\n",
    "Let’s say we have a list of integers, and we need to find the maximum value in every sliding window of size k."
   ]
  },
  {
   "cell_type": "code",
   "execution_count": 45,
   "metadata": {},
   "outputs": [],
   "source": [
    "def sliding_window_max(nums, k):\n",
    "    # Initialize deque and result list\n",
    "    deq = deque()\n",
    "    result = []\n",
    "\n",
    "    for i in range(len(nums)):\n",
    "        # Remove indices that are out of the current window\n",
    "        if deq and deq[0] < i - k + 1:\n",
    "            deq.popleft()\n",
    "\n",
    "        # Remove elements smaller than the current element from the back of deque\n",
    "        while deq and nums[deq[-1]] < nums[i]:\n",
    "            deq.pop()\n",
    "\n",
    "        # Add current element's index to the deque\n",
    "        deq.append(i)\n",
    "\n",
    "        # Add the maximum element of the window to the result list\n",
    "        if i >= k - 1:\n",
    "            result.append(nums[deq[0]])\n",
    "\n",
    "    return result"
   ]
  },
  {
   "cell_type": "code",
   "execution_count": 21,
   "metadata": {},
   "outputs": [
    {
     "name": "stdout",
     "output_type": "stream",
     "text": [
      "Sliding window maximums: [3, 3, 5, 5, 6, 7]\n"
     ]
    }
   ],
   "source": [
    "# Sample Data\n",
    "nums = [1, 3, -1, -3, 5, 3, 6, 7]\n",
    "k = 3\n",
    "\n",
    "# Get the sliding window maximums\n",
    "result = sliding_window_max(nums, k)\n",
    "print(\"Sliding window maximums:\", result)"
   ]
  },
  {
   "cell_type": "markdown",
   "metadata": {},
   "source": [
    "**Request Processing with Deque**\n",
    "\n",
    "Imagine a customer service queue where requests arrive in real-time. You need to implement the following:\n",
    "\n",
    "- Add new requests at the rear of the queue.\n",
    "- Serve the request at the front of the queue.\n",
    "- Occasionally, you may need to prioritize certain requests, adding them to the front."
   ]
  },
  {
   "cell_type": "code",
   "execution_count": 46,
   "metadata": {},
   "outputs": [
    {
     "name": "stdout",
     "output_type": "stream",
     "text": [
      "Queue after adding requests: ['Request 1', 'Request 2', 'Request 3']\n"
     ]
    }
   ],
   "source": [
    "# Initialize the deque as the customer service queue\n",
    "queue = deque()\n",
    "\n",
    "# Adding requests to the queue (simulating real-time)\n",
    "queue.append(\"Request 1\")\n",
    "queue.append(\"Request 2\")\n",
    "queue.append(\"Request 3\")\n",
    "print(\"Queue after adding requests:\", list(queue))"
   ]
  },
  {
   "cell_type": "code",
   "execution_count": 47,
   "metadata": {},
   "outputs": [
    {
     "name": "stdout",
     "output_type": "stream",
     "text": [
      "Served: Request 1\n",
      "Queue after serving a request: ['Request 2', 'Request 3']\n"
     ]
    }
   ],
   "source": [
    "# Serving (removing) a request from the front\n",
    "served_request = queue.popleft()\n",
    "print(f\"Served: {served_request}\")\n",
    "print(\"Queue after serving a request:\", list(queue))"
   ]
  },
  {
   "cell_type": "code",
   "execution_count": 48,
   "metadata": {},
   "outputs": [
    {
     "name": "stdout",
     "output_type": "stream",
     "text": [
      "Queue after adding a priority request: ['Priority Request', 'Request 2', 'Request 3']\n"
     ]
    }
   ],
   "source": [
    "# Adding a high-priority request to the front of the queue\n",
    "queue.appendleft(\"Priority Request\")\n",
    "print(\"Queue after adding a priority request:\", list(queue))"
   ]
  },
  {
   "cell_type": "code",
   "execution_count": 49,
   "metadata": {},
   "outputs": [
    {
     "name": "stdout",
     "output_type": "stream",
     "text": [
      "Served: Priority Request\n",
      "Queue after serving another request: ['Request 2', 'Request 3']\n"
     ]
    }
   ],
   "source": [
    "# Serving the next request\n",
    "served_request = queue.popleft()\n",
    "print(f\"Served: {served_request}\")\n",
    "print(\"Queue after serving another request:\", list(queue))"
   ]
  },
  {
   "cell_type": "markdown",
   "metadata": {},
   "source": [
    "**Benefits of Using Deque in This Scenario:**\n",
    "\n",
    "- Efficient Operations: Deque allows both appending and popping operations from both ends in constant time, making it an efficient choice for a queue.\n",
    "- Dynamic Resizing: The deque automatically resizes as elements are added or removed, which is useful in real-time systems like request handling.\n",
    "- Prioritization: The ability to add elements to the front of the deque (appendleft()) makes it easy to handle priority requests."
   ]
  },
  {
   "cell_type": "markdown",
   "metadata": {},
   "source": [
    "***\n",
    "### Counter\n",
    "Counter is a subclass of the dict class in Python's collections module. It is used for counting hashable objects, providing a dictionary-like structure where the keys are items and the values are their counts. It's particularly useful for frequency analysis and histogram-like data."
   ]
  },
  {
   "cell_type": "markdown",
   "metadata": {},
   "source": [
    "Parameters : Doesn’t take any parameters\n",
    "\n",
    "Return type : Returns an itertool for all the elements with positive count in the Counter object"
   ]
  },
  {
   "cell_type": "markdown",
   "metadata": {},
   "source": [
    "*Example:*"
   ]
  },
  {
   "cell_type": "code",
   "execution_count": 50,
   "metadata": {},
   "outputs": [
    {
     "name": "stdout",
     "output_type": "stream",
     "text": [
      "Counter({12: 2, 3: 2, 4: 1, 5: 1, 11: 1, 6: 1, 7: 1})\n"
     ]
    }
   ],
   "source": [
    "# import counter class from collections module\n",
    "from collections import Counter\n",
    "\n",
    "#Creating a Counter class object using list as an iterable data container\n",
    "a = [12, 3, 4, 3, 5, 11, 12, 6, 7]\n",
    "\n",
    "x = Counter(a)\n",
    "\n",
    "#directly printing whole x\n",
    "print(x)"
   ]
  },
  {
   "cell_type": "code",
   "execution_count": 51,
   "metadata": {},
   "outputs": [
    {
     "name": "stdout",
     "output_type": "stream",
     "text": [
      "12 : 2\n",
      "3 : 2\n",
      "4 : 1\n",
      "5 : 1\n",
      "11 : 1\n",
      "6 : 1\n",
      "7 : 1\n"
     ]
    }
   ],
   "source": [
    "#We can also use .keys() and .values() methods to access Counter class object\n",
    "for i in x.keys():\n",
    "      print(i, \":\", x[i])"
   ]
  },
  {
   "cell_type": "code",
   "execution_count": 52,
   "metadata": {},
   "outputs": [
    {
     "name": "stdout",
     "output_type": "stream",
     "text": [
      "[12, 3, 4, 5, 11, 6, 7]\n",
      "[2, 2, 1, 1, 1, 1, 1]\n"
     ]
    }
   ],
   "source": [
    "#We can also make a list of keys and values of x\n",
    "x_keys = list(x.keys())\n",
    "x_values = list(x.values())\n",
    "\n",
    "print(x_keys)\n",
    "print(x_values)"
   ]
  },
  {
   "cell_type": "markdown",
   "metadata": {},
   "source": [
    "Counting Word Frequency in a Sentence"
   ]
  },
  {
   "cell_type": "code",
   "execution_count": 56,
   "metadata": {},
   "outputs": [
    {
     "name": "stdout",
     "output_type": "stream",
     "text": [
      "Word Counts: Counter({'the': 3, 'quick': 3, 'fox': 2, 'brown': 1, 'jumps': 1, 'over': 1, 'lazy': 1, 'dog': 1, 'was': 1})\n",
      "Most Common Words: [('the', 3), ('quick', 3)]\n"
     ]
    }
   ],
   "source": [
    "# Count word frequency\n",
    "sentence = \"the quick brown fox jumps over the lazy dog the fox was quick quick\"\n",
    "word_counts = Counter(sentence.split())\n",
    "\n",
    "print(\"Word Counts:\", word_counts)\n",
    "\n",
    "# Most common words\n",
    "most_common = word_counts.most_common(2)\n",
    "print(\"Most Common Words:\", most_common)"
   ]
  },
  {
   "cell_type": "markdown",
   "metadata": {},
   "source": [
    "Counting Characters in a String"
   ]
  },
  {
   "cell_type": "code",
   "execution_count": 57,
   "metadata": {},
   "outputs": [
    {
     "name": "stdout",
     "output_type": "stream",
     "text": [
      "Character Counts: Counter({'a': 3, 'n': 2, 'b': 1})\n",
      "Frequency of 'a': 3\n"
     ]
    }
   ],
   "source": [
    "# Count character frequency\n",
    "text = \"banana\"\n",
    "char_counts = Counter(text)\n",
    "\n",
    "print(\"Character Counts:\", char_counts)\n",
    "\n",
    "# Check the frequency of a specific character\n",
    "print(\"Frequency of 'a':\", char_counts['a'])"
   ]
  },
  {
   "cell_type": "markdown",
   "metadata": {},
   "source": [
    " Inventory Management"
   ]
  },
  {
   "cell_type": "code",
   "execution_count": 58,
   "metadata": {},
   "outputs": [
    {
     "name": "stdout",
     "output_type": "stream",
     "text": [
      "Updated Inventory: Counter({'apples': 13, 'bananas': 12, 'oranges': 8, 'grapes': 4})\n"
     ]
    }
   ],
   "source": [
    "# Initial inventory\n",
    "inventory = Counter(apples=10, bananas=5, oranges=8)\n",
    "\n",
    "# Add items\n",
    "new_shipment = {'apples': 3, 'bananas': 7, 'grapes': 4}\n",
    "inventory.update(new_shipment)\n",
    "\n",
    "print(\"Updated Inventory:\", inventory)"
   ]
  },
  {
   "cell_type": "code",
   "execution_count": 59,
   "metadata": {},
   "outputs": [
    {
     "name": "stdout",
     "output_type": "stream",
     "text": [
      "Inventory after sales: Counter({'apples': 9, 'bananas': 7, 'oranges': 6, 'grapes': 4})\n"
     ]
    }
   ],
   "source": [
    "# Remove items\n",
    "sales = {'apples': 4, 'bananas': 5, 'oranges': 2}\n",
    "inventory.subtract(sales)\n",
    "\n",
    "print(\"Inventory after sales:\", inventory)"
   ]
  },
  {
   "cell_type": "markdown",
   "metadata": {},
   "source": [
    "Finding Intersection of Two Counters"
   ]
  },
  {
   "cell_type": "code",
   "execution_count": 56,
   "metadata": {},
   "outputs": [
    {
     "name": "stdout",
     "output_type": "stream",
     "text": [
      "Intersection: Counter({'b': 2, 'a': 1, 'c': 1})\n"
     ]
    }
   ],
   "source": [
    "# Create two counters\n",
    "counter1 = Counter(a=3, b=2, c=1)\n",
    "counter2 = Counter(a=1, b=4, c=2, d=3)\n",
    "\n",
    "# Intersection (minimum counts)\n",
    "intersection = counter1 & counter2\n",
    "print(\"Intersection:\", intersection)"
   ]
  },
  {
   "cell_type": "markdown",
   "metadata": {},
   "source": [
    "Tracking Votes in an Election"
   ]
  },
  {
   "cell_type": "code",
   "execution_count": 60,
   "metadata": {},
   "outputs": [
    {
     "name": "stdout",
     "output_type": "stream",
     "text": [
      "Vote Counts: Counter({'Bob': 4, 'Alice': 3, 'Charlie': 2})\n",
      "Winner: [('Bob', 4)]\n"
     ]
    }
   ],
   "source": [
    "# Votes received by candidates\n",
    "votes = ['Alice', 'Bob', 'Alice', 'Charlie', 'Alice', 'Bob', 'Charlie', 'Bob', 'Bob']\n",
    "\n",
    "# Count votes\n",
    "vote_counts = Counter(votes)\n",
    "\n",
    "print(\"Vote Counts:\", vote_counts)\n",
    "\n",
    "# Find the winner\n",
    "winner = vote_counts.most_common(1)\n",
    "print(\"Winner:\", winner)\n"
   ]
  },
  {
   "cell_type": "markdown",
   "metadata": {},
   "source": [
    "Detecting Anagrams"
   ]
  },
  {
   "cell_type": "code",
   "execution_count": 61,
   "metadata": {},
   "outputs": [
    {
     "name": "stdout",
     "output_type": "stream",
     "text": [
      "True\n",
      "True\n"
     ]
    }
   ],
   "source": [
    "# Check if two words are anagrams\n",
    "def are_anagrams(word1, word2):\n",
    "    return Counter(word1) == Counter(word2)\n",
    "\n",
    "print(are_anagrams(\"listen\", \"silent\"))\n",
    "print(are_anagrams(\"nitin\", \"iitnn\"))"
   ]
  },
  {
   "cell_type": "markdown",
   "metadata": {},
   "source": [
    "### OrderedDict"
   ]
  },
  {
   "cell_type": "markdown",
   "metadata": {},
   "source": [
    "OrderedDict is a subclass of the dict class in Python, part of the collections module. It remembers the order in which the keys are inserted, which is useful in situations where the order of elements is critical.\n",
    "\n",
    "**Key Features of OrderedDict**\n",
    "1. **Maintains Order of Insertion** - The elements retain their insertion order, unlike older versions of dict.\n",
    "\n",
    "2. **Equality Based on Order** - Two OrderedDict instances are equal only if they have the same key-value pairs in the same order."
   ]
  },
  {
   "cell_type": "markdown",
   "metadata": {},
   "source": [
    "*Example:*"
   ]
  },
  {
   "cell_type": "code",
   "execution_count": 62,
   "metadata": {},
   "outputs": [
    {
     "name": "stdout",
     "output_type": "stream",
     "text": [
      "OrderedDict: OrderedDict({'a': 1, 'b': 2, 'c': 3})\n"
     ]
    }
   ],
   "source": [
    "from collections import OrderedDict\n",
    "\n",
    "# Create an OrderedDict\n",
    "ordered_dict = OrderedDict()\n",
    "ordered_dict['a'] = 1\n",
    "ordered_dict['b'] = 2\n",
    "ordered_dict['c'] = 3\n",
    "\n",
    "print(\"OrderedDict:\", ordered_dict)"
   ]
  },
  {
   "cell_type": "code",
   "execution_count": 63,
   "metadata": {},
   "outputs": [
    {
     "name": "stdout",
     "output_type": "stream",
     "text": [
      "False\n"
     ]
    }
   ],
   "source": [
    "od1 = OrderedDict([('a', 1), ('b', 2)])\n",
    "od2 = OrderedDict([('b', 2), ('a', 1)])\n",
    "\n",
    "print(od1 == od2)"
   ]
  },
  {
   "cell_type": "code",
   "execution_count": 64,
   "metadata": {},
   "outputs": [
    {
     "name": "stdout",
     "output_type": "stream",
     "text": [
      "After move_to_end: OrderedDict({'b': 2, 'c': 3, 'a': 1})\n"
     ]
    }
   ],
   "source": [
    "# Reordering with move_to_end\n",
    "# You can reorder elements using the move_to_end method.\n",
    "\n",
    "od = OrderedDict([('a', 1), ('b', 2), ('c', 3)])\n",
    "\n",
    "# Move 'a' to the end\n",
    "od.move_to_end('a')\n",
    "print(\"After move_to_end:\", od)\n"
   ]
  },
  {
   "cell_type": "markdown",
   "metadata": {},
   "source": [
    "**Keeping Track of Operations**\n",
    "\n",
    "OrderedDict can be used to maintain a log of operations in the order they occurred."
   ]
  },
  {
   "cell_type": "code",
   "execution_count": 65,
   "metadata": {},
   "outputs": [
    {
     "name": "stdout",
     "output_type": "stream",
     "text": [
      "initialize: Start application\n",
      "load_data: Load dataset\n",
      "train_model: Train the ML model\n",
      "save_model: Save the trained model\n"
     ]
    }
   ],
   "source": [
    "operation_log = OrderedDict()\n",
    "\n",
    "# Simulate operations\n",
    "operation_log['initialize'] = 'Start application'\n",
    "operation_log['load_data'] = 'Load dataset'\n",
    "operation_log['train_model'] = 'Train the ML model'\n",
    "operation_log['save_model'] = 'Save the trained model'\n",
    "\n",
    "# Display log\n",
    "for step, action in operation_log.items():\n",
    "    print(f\"{step}: {action}\")"
   ]
  },
  {
   "cell_type": "markdown",
   "metadata": {},
   "source": [
    "OrderedDict is commonly used in implementing LRU (Least Recently Used) caches."
   ]
  },
  {
   "cell_type": "code",
   "execution_count": 66,
   "metadata": {},
   "outputs": [],
   "source": [
    "class LRUCache:\n",
    "    def __init__(self, capacity):\n",
    "        self.cache = OrderedDict()\n",
    "        self.capacity = capacity\n",
    "\n",
    "    def get(self, key):\n",
    "        if key in self.cache:\n",
    "            self.cache.move_to_end(key)\n",
    "            return self.cache[key]\n",
    "        return -1\n",
    "\n",
    "    def put(self, key, value):\n",
    "        if key in self.cache:\n",
    "            self.cache.move_to_end(key)\n",
    "        self.cache[key] = value\n",
    "        if len(self.cache) > self.capacity:\n",
    "            self.cache.popitem(last=False)  # Remove the least recently used item\n"
   ]
  },
  {
   "cell_type": "code",
   "execution_count": 68,
   "metadata": {},
   "outputs": [
    {
     "name": "stdout",
     "output_type": "stream",
     "text": [
      "1\n",
      "-1\n"
     ]
    }
   ],
   "source": [
    "# Example usage\n",
    "cache = LRUCache(2)\n",
    "cache.put(1, 1)\n",
    "cache.put(2, 2)\n",
    "print(cache.get(1)) \n",
    "cache.put(3, 3) \n",
    "print(cache.get(2)) "
   ]
  },
  {
   "cell_type": "markdown",
   "metadata": {},
   "source": [
    "**Grouping Data by Keys**\n",
    "\n",
    "OrderedDict is helpful when grouping and processing data sequentially."
   ]
  },
  {
   "cell_type": "code",
   "execution_count": 69,
   "metadata": {},
   "outputs": [
    {
     "name": "stdout",
     "output_type": "stream",
     "text": [
      "Grouped Data: OrderedDict({'fruit': ['apple', 'banana'], 'vegetable': ['carrot', 'spinach']})\n"
     ]
    }
   ],
   "source": [
    "# Group data by category\n",
    "data = [('fruit', 'apple'), ('vegetable', 'carrot'), ('fruit', 'banana'), ('vegetable', 'spinach')]\n",
    "\n",
    "grouped_data = OrderedDict()\n",
    "for category, item in data:\n",
    "    grouped_data.setdefault(category, []).append(item)\n",
    "\n",
    "print(\"Grouped Data:\", grouped_data)"
   ]
  },
  {
   "cell_type": "markdown",
   "metadata": {},
   "source": [
    "***\n",
    "\n",
    "### defaultdict"
   ]
  },
  {
   "cell_type": "markdown",
   "metadata": {},
   "source": [
    "The *defaultdict* is a subclass of Python's dict in the collections module. It allows you to provide a default value for keys that don't exist. This avoids the need for explicit checks for missing keys when accessing or updating the dictionary."
   ]
  },
  {
   "cell_type": "markdown",
   "metadata": {},
   "source": [
    "**Key Features**\n",
    "- Automatically initializes a default value for missing keys.\n",
    "- Avoids KeyError exceptions when a non-existent key is accessed.\n",
    "- Ideal for scenarios like grouping, counting, or maintaining lists of values."
   ]
  },
  {
   "cell_type": "markdown",
   "metadata": {},
   "source": [
    "*Example:*"
   ]
  },
  {
   "cell_type": "code",
   "execution_count": 70,
   "metadata": {},
   "outputs": [
    {
     "name": "stdout",
     "output_type": "stream",
     "text": [
      "Word Counts: {'apple': 3, 'banana': 2, 'orange': 1}\n"
     ]
    }
   ],
   "source": [
    "# Counting Word Frequency\n",
    "from collections import defaultdict\n",
    "\n",
    "# Create a defaultdict with int as the default factory\n",
    "word_counts = defaultdict(int)\n",
    "\n",
    "# Count word frequency\n",
    "sentence = \"apple banana apple orange banana apple\"\n",
    "for word in sentence.split():\n",
    "    word_counts[word] += 1\n",
    "\n",
    "print(\"Word Counts:\", dict(word_counts))\n"
   ]
  },
  {
   "cell_type": "markdown",
   "metadata": {},
   "source": [
    "Grouping Items by Category"
   ]
  },
  {
   "cell_type": "code",
   "execution_count": 78,
   "metadata": {},
   "outputs": [
    {
     "name": "stdout",
     "output_type": "stream",
     "text": [
      "Grouped Data: {'fruit': ['apple', 'banana'], 'vegetable': ['carrot', 'spinach']}\n"
     ]
    }
   ],
   "source": [
    "# Data to group\n",
    "data = [('fruit', 'apple'), ('vegetable', 'carrot'), ('fruit', 'banana'), ('vegetable', 'spinach')]\n",
    "\n",
    "# Create a defaultdict with list as the default factory\n",
    "grouped_data = defaultdict(list)\n",
    "\n",
    "for category, item in data:\n",
    "    grouped_data[category].append(item)\n",
    "\n",
    "print(\"Grouped Data:\", dict(grouped_data))\n"
   ]
  },
  {
   "cell_type": "markdown",
   "metadata": {},
   "source": [
    "Tracking Occurrences in a Multi-Level Dictionary"
   ]
  },
  {
   "cell_type": "code",
   "execution_count": 71,
   "metadata": {},
   "outputs": [
    {
     "name": "stdout",
     "output_type": "stream",
     "text": [
      "Nested Scores: {'Alice': defaultdict(<class 'int'>, {'Game1': 10, 'Game2': 20}), 'Bob': defaultdict(<class 'int'>, {'Game1': 15, 'Game2': 25})}\n"
     ]
    }
   ],
   "source": [
    "# Nested defaultdict\n",
    "nested_dict = defaultdict(lambda: defaultdict(int))\n",
    "\n",
    "# Record scores of players in games\n",
    "games = [\n",
    "    ('Alice', 'Game1', 10),\n",
    "    ('Bob', 'Game1', 15),\n",
    "    ('Alice', 'Game2', 20),\n",
    "    ('Bob', 'Game2', 25),\n",
    "]\n",
    "\n",
    "for player, game, score in games:\n",
    "    nested_dict[player][game] += score\n",
    "\n",
    "print(\"Nested Scores:\", dict(nested_dict))\n"
   ]
  },
  {
   "cell_type": "markdown",
   "metadata": {},
   "source": [
    "Handling Missing Keys in Data Processing"
   ]
  },
  {
   "cell_type": "code",
   "execution_count": 75,
   "metadata": {},
   "outputs": [
    {
     "name": "stdout",
     "output_type": "stream",
     "text": [
      "Missing Key: []\n",
      "Updated Data: {'missing': [], 'existing': ['value1', 'value2']}\n"
     ]
    }
   ],
   "source": [
    "# Create a defaultdict with str as the default factory\n",
    "data = defaultdict(list)\n",
    "\n",
    "# Accessing a missing key\n",
    "print(\"Missing Key:\", data['missing'])\n",
    "\n",
    "# Updating values\n",
    "data['existing'] = ['value1','value2']\n",
    "print(\"Updated Data:\", dict(data))\n"
   ]
  },
  {
   "cell_type": "markdown",
   "metadata": {},
   "source": [
    "Storing Multiple Values for Each Key"
   ]
  },
  {
   "cell_type": "code",
   "execution_count": 76,
   "metadata": {},
   "outputs": [
    {
     "name": "stdout",
     "output_type": "stream",
     "text": [
      "Student Scores: {'Alice': [85, 95], 'Bob': [75, 65]}\n"
     ]
    }
   ],
   "source": [
    "# Students and their scores\n",
    "scores = [\n",
    "    ('Alice', 85),\n",
    "    ('Bob', 75),\n",
    "    ('Alice', 95),\n",
    "    ('Bob', 65),\n",
    "]\n",
    "\n",
    "# defaultdict with list as the default factory\n",
    "student_scores = defaultdict(list)\n",
    "\n",
    "for student, score in scores:\n",
    "    student_scores[student].append(score)\n",
    "\n",
    "print(\"Student Scores:\", dict(student_scores))"
   ]
  },
  {
   "cell_type": "markdown",
   "metadata": {},
   "source": [
    "Counting Characters in a String"
   ]
  },
  {
   "cell_type": "code",
   "execution_count": 77,
   "metadata": {},
   "outputs": [
    {
     "name": "stdout",
     "output_type": "stream",
     "text": [
      "Character Counts: {'m': 1, 'i': 4, 's': 4, 'p': 2}\n"
     ]
    }
   ],
   "source": [
    "# Create a defaultdict with int as the default factory\n",
    "char_counts = defaultdict(int)\n",
    "\n",
    "# Count character frequency\n",
    "text = \"mississippi\"\n",
    "for char in text:\n",
    "    char_counts[char] += 1\n",
    "\n",
    "print(\"Character Counts:\", dict(char_counts))"
   ]
  },
  {
   "cell_type": "markdown",
   "metadata": {},
   "source": [
    "**Advantages of defaultdict**\n",
    "1. No KeyError: Automatically initializes a default value for missing keys.\n",
    "1. Cleaner Code: Removes the need for explicit checks using if-else or get().\n",
    "1. Flexible Initialization: Supports any callable as the default factory, such as list, int, or a custom function."
   ]
  },
  {
   "cell_type": "markdown",
   "metadata": {},
   "source": [
    "***\n",
    "# Lab Exercise"
   ]
  },
  {
   "cell_type": "markdown",
   "metadata": {},
   "source": [
    "**Challenge: Analyze Word Frequency and Perform Queue Operations**\n",
    "\n",
    "**Objective**\n",
    "\n",
    "The goal of this challenge is to apply advanced Python data structures, including **Counter** from the `collections` module for word frequency analysis and **deque** for efficient queue operations. By completing this challenge, you will gain hands-on experience in:\n",
    "- Analyzing and interpreting textual data.\n",
    "- Using `Counter` for frequency analysis.\n",
    "- Implementing queue operations with `deque`.\n",
    "\n",
    "---\n",
    "\n",
    "**Scenario**\n",
    "\n",
    "You are tasked with analyzing customer reviews for a product and implementing a queuing system to manage real-time requests. The dataset includes:\n",
    "1. A paragraph of customer reviews for word frequency analysis.\n",
    "2. A sequence of customer service requests to be managed in a queue.\n",
    "\n",
    "---\n",
    "\n",
    "**Task Details**\n",
    "\n",
    "1. **Word Frequency Analysis**\n",
    "   - Use `Counter` to calculate the frequency of each word in the customer reviews.\n",
    "   - Ignore case and remove punctuation for accurate word counts.\n",
    "   - Identify and display:\n",
    "     - The top 3 most frequent words.\n",
    "     - Words that appear only once.\n",
    "\n",
    "2. **Queue Operations with deque**\n",
    "   - Simulate a real-time queue of customer service requests using `deque`.\n",
    "   - Perform the following operations:\n",
    "     1. Add 5 requests to the queue.\n",
    "     2. Serve (remove) 2 requests from the queue.\n",
    "     3. Add 3 more requests to the queue.\n",
    "     4. Display the current state of the queue.\n",
    "\n",
    "---\n",
    "\n",
    "**Sample Data**\n",
    "\n",
    "**Customer Reviews:**\n",
    "```\n",
    "\"The product is great! Great value for money. I absolutely love the product, and the quality is outstanding.\"\n",
    "```\n",
    "\n",
    "**Customer Service Requests:**\n",
    "```\n",
    "requests = [\"Request A\", \"Request B\", \"Request C\", \"Request D\", \"Request E\"]\n",
    "```\n",
    "\n",
    "---\n",
    "\n",
    "**Expected Output**\n",
    "\n",
    "1. **Word Frequency Analysis**\n",
    "   ```plaintext\n",
    "   Top 3 Words: [('great', 2), ('the', 2), ('product', 2)]\n",
    "   Words Appearing Once: ['is', 'value', 'for', 'money', 'i', 'absolutely', 'love', 'and', 'quality', 'outstanding']\n",
    "   ```\n",
    "\n",
    "2. **Queue Operations**\n",
    "   ```plaintext\n",
    "   Initial Queue: ['Request A', 'Request B', 'Request C', 'Request D', 'Request E']\n",
    "   After Serving 2 Requests: ['Request C', 'Request D', 'Request E']\n",
    "   After Adding 3 Requests: ['Request C', 'Request D', 'Request E', 'Request F', 'Request G', 'Request H']\n",
    "   ```\n",
    "\n",
    "---"
   ]
  },
  {
   "cell_type": "markdown",
   "metadata": {},
   "source": []
  }
 ],
 "metadata": {
  "kernelspec": {
   "display_name": "Python 3",
   "language": "python",
   "name": "python3"
  },
  "language_info": {
   "codemirror_mode": {
    "name": "ipython",
    "version": 3
   },
   "file_extension": ".py",
   "mimetype": "text/x-python",
   "name": "python",
   "nbconvert_exporter": "python",
   "pygments_lexer": "ipython3",
   "version": "3.12.1"
  }
 },
 "nbformat": 4,
 "nbformat_minor": 2
}
