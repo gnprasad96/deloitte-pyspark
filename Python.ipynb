{
 "cells": [
  {
   "cell_type": "markdown",
   "metadata": {
    "id": "cDsRT6xM2gT_"
   },
   "source": [
    "# Variables"
   ]
  },
  {
   "cell_type": "code",
   "execution_count": 1,
   "metadata": {
    "id": "cF2oxIaLpIcG"
   },
   "outputs": [],
   "source": [
    "X=1\n",
    "Y=2.2\n",
    "Z=\"KPMG\"\n",
    "A='2'"
   ]
  },
  {
   "cell_type": "code",
   "execution_count": 2,
   "metadata": {
    "colab": {
     "base_uri": "https://localhost:8080/"
    },
    "id": "FWEi7-zmpP3z",
    "outputId": "78f52c0c-b1ba-472e-b79e-7982088dd845"
   },
   "outputs": [
    {
     "name": "stdout",
     "output_type": "stream",
     "text": [
      "Datatype of X <class 'int'>\n",
      "Datatype of Y <class 'float'>\n",
      "Datatype of Z <class 'str'>\n",
      "Datatype of A <class 'str'>\n"
     ]
    }
   ],
   "source": [
    "print(\"Datatype of X\",type(X))\n",
    "print(\"Datatype of Y\",type(Y))\n",
    "print(\"Datatype of Z\",type(Z))\n",
    "print(\"Datatype of A\",type(A))"
   ]
  },
  {
   "cell_type": "code",
   "execution_count": 3,
   "metadata": {
    "colab": {
     "base_uri": "https://localhost:8080/"
    },
    "id": "kKfyT8Tzp3fl",
    "outputId": "fd6a1e81-7a26-412f-a18d-ea74a229837a"
   },
   "outputs": [
    {
     "data": {
      "text/plain": [
       "-2"
      ]
     },
     "execution_count": 3,
     "metadata": {},
     "output_type": "execute_result"
    }
   ],
   "source": [
    "X=2\n",
    "Y=4\n",
    "X+Y\n",
    "X-Y"
   ]
  },
  {
   "cell_type": "code",
   "execution_count": 4,
   "metadata": {
    "colab": {
     "base_uri": "https://localhost:8080/",
     "height": 35
    },
    "id": "iY8LYCxCp8h6",
    "outputId": "e94f13f7-e9b2-4acf-b894-b369d9f0d0b7"
   },
   "outputs": [
    {
     "data": {
      "text/plain": [
       "'KPMGTraining'"
      ]
     },
     "execution_count": 4,
     "metadata": {},
     "output_type": "execute_result"
    }
   ],
   "source": [
    "X=\"KPMG\"\n",
    "Y=\"Training\"\n",
    "X+Y"
   ]
  },
  {
   "cell_type": "code",
   "execution_count": 5,
   "metadata": {
    "colab": {
     "base_uri": "https://localhost:8080/"
    },
    "id": "jtUACBgEq5uK",
    "outputId": "877a6ec2-17d5-42b0-f935-905a29fd43e6"
   },
   "outputs": [
    {
     "name": "stdout",
     "output_type": "stream",
     "text": [
      "<class 'int'>\n",
      "<class 'float'>\n"
     ]
    }
   ],
   "source": [
    "X=1\n",
    "Y=2.2\n",
    "Z=\"KPMG\"\n",
    "A='2'\n",
    "print(type(X))\n",
    "print(type(Y))"
   ]
  },
  {
   "cell_type": "code",
   "execution_count": 6,
   "metadata": {
    "colab": {
     "base_uri": "https://localhost:8080/"
    },
    "id": "BgjWISKBthZE",
    "outputId": "12ffa024-d2e6-4a89-ac39-c9c81e97f7da"
   },
   "outputs": [
    {
     "name": "stdout",
     "output_type": "stream",
     "text": [
      "a: 1\n",
      "Dtype of b <class 'str'>\n",
      "india\n"
     ]
    }
   ],
   "source": [
    "a,b,c=1,\"india\",1.5\n",
    "print (\"a:\",a)\n",
    "print(\"Dtype of b\", type(b))\n",
    "print(b)"
   ]
  },
  {
   "cell_type": "code",
   "execution_count": 7,
   "metadata": {
    "colab": {
     "base_uri": "https://localhost:8080/",
     "height": 35
    },
    "id": "x-moRSpGt-AL",
    "outputId": "c7ae1590-829b-4d60-d501-c283106a5511"
   },
   "outputs": [
    {
     "data": {
      "text/plain": [
       "'WelcomeWelcomeWelcome'"
      ]
     },
     "execution_count": 7,
     "metadata": {},
     "output_type": "execute_result"
    }
   ],
   "source": [
    "X='Welcome'\n",
    "Y=3\n",
    "X*Y"
   ]
  },
  {
   "cell_type": "code",
   "execution_count": 9,
   "metadata": {
    "colab": {
     "base_uri": "https://localhost:8080/"
    },
    "id": "YExry0VWu0Yk",
    "outputId": "e0dba56c-120a-490c-f881-84ff8244e0c5"
   },
   "outputs": [
    {
     "name": "stdout",
     "output_type": "stream",
     "text": [
      "Cloud\n"
     ]
    }
   ],
   "source": [
    "X=\"CloudThat\"\n",
    "print(X[:5])"
   ]
  },
  {
   "cell_type": "code",
   "execution_count": 10,
   "metadata": {
    "colab": {
     "base_uri": "https://localhost:8080/"
    },
    "id": "5vNZsjiD1tTD",
    "outputId": "3404267c-c203-49d2-f9a7-ed4c7b1de33d"
   },
   "outputs": [
    {
     "name": "stdout",
     "output_type": "stream",
     "text": [
      "Dataype of X <class 'float'>\n",
      "Dataype of X <class 'int'>\n",
      "Dataype of X <class 'float'>\n"
     ]
    }
   ],
   "source": [
    "X=1.1\n",
    "Y=2\n",
    "Z=-23.2\n",
    "print(\"Dataype of X\",type(X))\n",
    "print(\"Dataype of X\",type(Y))\n",
    "print(\"Dataype of X\",type(Z))"
   ]
  },
  {
   "cell_type": "code",
   "execution_count": 11,
   "metadata": {
    "colab": {
     "base_uri": "https://localhost:8080/"
    },
    "id": "qKRplgLS2RDm",
    "outputId": "4648f217-93de-424b-cdef-97258f3a1efd"
   },
   "outputs": [
    {
     "name": "stdout",
     "output_type": "stream",
     "text": [
      "CloudthatKPMG\n",
      "Cloudthat & KPMG\n"
     ]
    }
   ],
   "source": [
    "X=\"Cloudthat\"\n",
    "Y=\"KPMG\"\n",
    "print(X+Y)\n",
    "print(X + ' & ' + Y)"
   ]
  },
  {
   "cell_type": "code",
   "execution_count": 12,
   "metadata": {
    "colab": {
     "base_uri": "https://localhost:8080/"
    },
    "id": "X5abayxk2tNs",
    "outputId": "04af6ff4-f397-4465-ef04-898525c37b81"
   },
   "outputs": [
    {
     "name": "stdout",
     "output_type": "stream",
     "text": [
      "KPMGKPMG\n"
     ]
    }
   ],
   "source": [
    "print(Y*2)"
   ]
  },
  {
   "cell_type": "code",
   "execution_count": 13,
   "metadata": {
    "id": "mny_uGiw24JY"
   },
   "outputs": [
    {
     "name": "stdout",
     "output_type": "stream",
     "text": [
      "PG\n"
     ]
    }
   ],
   "source": [
    "Z=Y[1]+Y[3]\n",
    "print(Z)"
   ]
  },
  {
   "cell_type": "code",
   "execution_count": 14,
   "metadata": {
    "colab": {
     "base_uri": "https://localhost:8080/",
     "height": 35
    },
    "id": "w4S1t9IH3SzD",
    "outputId": "25b2bf8b-9bf7-43dc-98e3-2a1e9610019d"
   },
   "outputs": [
    {
     "data": {
      "text/plain": [
       "'Cloudthat'"
      ]
     },
     "execution_count": 14,
     "metadata": {},
     "output_type": "execute_result"
    }
   ],
   "source": [
    "X.capitalize()"
   ]
  },
  {
   "cell_type": "code",
   "execution_count": 15,
   "metadata": {
    "colab": {
     "base_uri": "https://localhost:8080/"
    },
    "id": "uKDvMS964Ss-",
    "outputId": "c73849ab-a8a0-4828-bc9a-a4541a52b45c"
   },
   "outputs": [
    {
     "name": "stdout",
     "output_type": "stream",
     "text": [
      "False\n"
     ]
    }
   ],
   "source": [
    "X=5\n",
    "Y=10\n",
    "print(X==Y)"
   ]
  },
  {
   "cell_type": "code",
   "execution_count": null,
   "metadata": {
    "colab": {
     "base_uri": "https://localhost:8080/"
    },
    "id": "Lfc2fl5D5AnW",
    "outputId": "d119bd7b-afe3-4769-f785-e7a17a2522c6"
   },
   "outputs": [],
   "source": [
    "print(X<Y)"
   ]
  },
  {
   "cell_type": "code",
   "execution_count": 16,
   "metadata": {
    "colab": {
     "base_uri": "https://localhost:8080/"
    },
    "id": "w-_XuqW25UAr",
    "outputId": "98dd7a5e-aa08-4487-f2ae-ef1456459cf9"
   },
   "outputs": [
    {
     "name": "stdout",
     "output_type": "stream",
     "text": [
      "X is greater than Y\n"
     ]
    }
   ],
   "source": [
    "X=5\n",
    "Y=2\n",
    "Z=(X>Y)\n",
    "if Z:\n",
    "  print(\"X is greater than Y\")\n",
    "else:\n",
    "  print(\"X is not greater than Y\")  "
   ]
  },
  {
   "attachments": {},
   "cell_type": "markdown",
   "metadata": {
    "id": "v93N9-yh6mf4"
   },
   "source": [
    "***\n",
    "# Operators"
   ]
  },
  {
   "attachments": {},
   "cell_type": "markdown",
   "metadata": {
    "id": "-tSIA8cQ6wxZ"
   },
   "source": [
    "### Arithmetic Operator"
   ]
  },
  {
   "cell_type": "code",
   "execution_count": 17,
   "metadata": {
    "colab": {
     "base_uri": "https://localhost:8080/"
    },
    "id": "Eh7ZOqUr62JP",
    "outputId": "f978bca6-fbaa-42f4-ce01-6a1746afda4e"
   },
   "outputs": [
    {
     "name": "stdout",
     "output_type": "stream",
     "text": [
      "Addtion 7\n",
      "Multiplication 10\n",
      "Modulus 1\n",
      "Division 2.5\n",
      "Floor Division  2\n",
      "Exponent 25\n"
     ]
    }
   ],
   "source": [
    "X=5\n",
    "Y=2\n",
    "print(\"Addtion\",X+Y)\n",
    "print(\"Multiplication\",X*Y)\n",
    "print(\"Modulus\",X%Y) #Remainder\n",
    "print(\"Division\",X/Y)\n",
    "print(\"Floor Division \",X//Y) #quotient\n",
    "print(\"Exponent\",X**Y)"
   ]
  },
  {
   "cell_type": "code",
   "execution_count": 18,
   "metadata": {
    "colab": {
     "base_uri": "https://localhost:8080/"
    },
    "id": "SIz59Yad8bny",
    "outputId": "83dea98d-018b-4779-d135-df5a4d6c9311"
   },
   "outputs": [
    {
     "name": "stdout",
     "output_type": "stream",
     "text": [
      "52\n"
     ]
    }
   ],
   "source": [
    "X='5'\n",
    "Y='2'\n",
    "print(X+Y)"
   ]
  },
  {
   "cell_type": "code",
   "execution_count": 19,
   "metadata": {
    "colab": {
     "base_uri": "https://localhost:8080/"
    },
    "id": "k1R-Bv9P8lfc",
    "outputId": "42ee2388-3eb9-4b60-f0d7-6888ba1a587d"
   },
   "outputs": [
    {
     "name": "stdout",
     "output_type": "stream",
     "text": [
      "--------------------------------------------------\n"
     ]
    }
   ],
   "source": [
    "X=50\n",
    "Y='-'\n",
    "print(X*Y)"
   ]
  },
  {
   "cell_type": "code",
   "execution_count": 20,
   "metadata": {
    "id": "lqLlCeFJ8xXc"
   },
   "outputs": [
    {
     "name": "stdout",
     "output_type": "stream",
     "text": [
      "40\n"
     ]
    }
   ],
   "source": [
    "X=25\n",
    "Y=15\n",
    "X += Y\n",
    "print(X)"
   ]
  },
  {
   "cell_type": "code",
   "execution_count": 21,
   "metadata": {
    "colab": {
     "base_uri": "https://localhost:8080/"
    },
    "id": "I8seeSvo-hFP",
    "outputId": "09d4d80c-33e0-46e6-dc52-9b050065348d"
   },
   "outputs": [
    {
     "name": "stdout",
     "output_type": "stream",
     "text": [
      "True\n",
      "False\n",
      "False\n",
      "False\n",
      "True\n",
      "True\n"
     ]
    }
   ],
   "source": [
    "X=20\n",
    "Y=20\n",
    "print(X==Y)\n",
    "print(X!=Y)\n",
    "print(X>Y)\n",
    "print(X<Y)\n",
    "print(X>=Y)\n",
    "print(X<=Y)"
   ]
  },
  {
   "attachments": {},
   "cell_type": "markdown",
   "metadata": {
    "id": "ycXooEHKAAit"
   },
   "source": [
    "### Identity Operator"
   ]
  },
  {
   "cell_type": "code",
   "execution_count": 24,
   "metadata": {
    "colab": {
     "base_uri": "https://localhost:8080/"
    },
    "id": "8wTh6ta9__QP",
    "outputId": "a3189a60-8d9e-41ab-ec0c-8c1dca2c04fb"
   },
   "outputs": [
    {
     "name": "stdout",
     "output_type": "stream",
     "text": [
      "False\n",
      "True\n",
      "True\n",
      "140733097196568\n",
      "140733097196888\n",
      "140733097196568\n"
     ]
    }
   ],
   "source": [
    "a=20\n",
    "b=30\n",
    "c=a\n",
    "print(a is b)\n",
    "print(a is not b)\n",
    "print(c is a)\n",
    "print(id(a))\n",
    "print(id(b))\n",
    "print(id(c))"
   ]
  },
  {
   "cell_type": "code",
   "execution_count": 25,
   "metadata": {},
   "outputs": [
    {
     "name": "stdout",
     "output_type": "stream",
     "text": [
      "20\n",
      "140733097196568\n"
     ]
    }
   ],
   "source": [
    "a = 100\n",
    "print(c)\n",
    "print(id(c))"
   ]
  },
  {
   "attachments": {},
   "cell_type": "markdown",
   "metadata": {
    "id": "NpNWzQHUBQMg"
   },
   "source": [
    "### Logical operator"
   ]
  },
  {
   "cell_type": "code",
   "execution_count": 26,
   "metadata": {
    "colab": {
     "base_uri": "https://localhost:8080/"
    },
    "id": "4hafzJbUBOX9",
    "outputId": "9795af52-5ae4-43f7-d418-6be077eaad55"
   },
   "outputs": [
    {
     "name": "stdout",
     "output_type": "stream",
     "text": [
      "False\n",
      "True\n",
      "True\n"
     ]
    }
   ],
   "source": [
    "a=10\n",
    "print(a>2 and a>15)\n",
    "print(a>2 and a<15)\n",
    "print(a>2 or a>15)"
   ]
  },
  {
   "attachments": {},
   "cell_type": "markdown",
   "metadata": {
    "id": "B-2-i1GNDHas"
   },
   "source": [
    "### Bitwise operator"
   ]
  },
  {
   "cell_type": "code",
   "execution_count": 27,
   "metadata": {
    "colab": {
     "base_uri": "https://localhost:8080/"
    },
    "id": "0GiH846XDGCS",
    "outputId": "c0492b61-50dc-4f83-d745-8ab883d2f2b1"
   },
   "outputs": [
    {
     "name": "stdout",
     "output_type": "stream",
     "text": [
      "21\n"
     ]
    }
   ],
   "source": [
    "a=5\n",
    "b=21\n",
    "c=a | b\n",
    "print(c)"
   ]
  },
  {
   "attachments": {},
   "cell_type": "markdown",
   "metadata": {
    "id": "wEoMjRXVFYSD"
   },
   "source": [
    "### Membership operator"
   ]
  },
  {
   "cell_type": "code",
   "execution_count": 28,
   "metadata": {
    "colab": {
     "base_uri": "https://localhost:8080/"
    },
    "id": "rXENBaVxFdXE",
    "outputId": "20e26750-a711-46ab-b3ce-290b1a4ec5eb"
   },
   "outputs": [
    {
     "name": "stdout",
     "output_type": "stream",
     "text": [
      "False\n",
      "True\n",
      "False\n"
     ]
    }
   ],
   "source": [
    "a=[1,2,3,4,5]\n",
    "print(20 in a)\n",
    "print(20 not in a)\n",
    "print(2 not in a)"
   ]
  },
  {
   "cell_type": "code",
   "execution_count": 29,
   "metadata": {},
   "outputs": [
    {
     "data": {
      "text/plain": [
       "True"
      ]
     },
     "execution_count": 29,
     "metadata": {},
     "output_type": "execute_result"
    }
   ],
   "source": [
    "x = \"print\"\n",
    "'n' in x"
   ]
  },
  {
   "cell_type": "code",
   "execution_count": 33,
   "metadata": {
    "colab": {
     "base_uri": "https://localhost:8080/"
    },
    "id": "EQ9PV9NkGN-9",
    "outputId": "23c3fd9d-c331-4d4c-d211-42015308a095"
   },
   "outputs": [
    {
     "name": "stdout",
     "output_type": "stream",
     "text": [
      "True\n",
      "False\n",
      "True\n",
      "True\n"
     ]
    }
   ],
   "source": [
    "str=\"hello world\"\n",
    "print('w' in str)\n",
    "print(\"W\" in str)\n",
    "print(\"O\" not in str)\n",
    "print(\"hello \" in str)"
   ]
  },
  {
   "cell_type": "code",
   "execution_count": 34,
   "metadata": {},
   "outputs": [
    {
     "name": "stdout",
     "output_type": "stream",
     "text": [
      "False\n",
      "True\n",
      "True\n",
      "False\n"
     ]
    }
   ],
   "source": [
    "#String Comparison Operator \n",
    "string_comp1=\"hello\" \n",
    "string_comp2=\"hello,world\" \n",
    "string_comp3=\"hello,world\" \n",
    "string_comp4=\"world\" \n",
    "print(string_comp1==string_comp4) \n",
    "print(string_comp2==string_comp3) \n",
    "print(string_comp1!=string_comp4) \n",
    "print(string_comp2!=string_comp3) "
   ]
  },
  {
   "cell_type": "code",
   "execution_count": 35,
   "metadata": {},
   "outputs": [
    {
     "name": "stdout",
     "output_type": "stream",
     "text": [
      "True\n",
      "False\n",
      "False\n",
      "True\n",
      "True\n",
      "False\n",
      "False\n"
     ]
    }
   ],
   "source": [
    "#Membership Operator “in” & “not in” \n",
    "string_mem=\"helloworld\" \n",
    "print(\"w\" in string_mem) \n",
    "print(\"W\" in string_mem) \n",
    "print(\"t\" in string_mem) \n",
    "print(\"t\" not in string_mem) \n",
    "print(\"hello\" in string_mem) \n",
    "print(\"Hello\" in string_mem) \n",
    "print(\"hello\" not in string_mem) "
   ]
  },
  {
   "cell_type": "code",
   "execution_count": 36,
   "metadata": {
    "id": "FQrCiyXbIgPm"
   },
   "outputs": [
    {
     "name": "stdout",
     "output_type": "stream",
     "text": [
      "Hello world I am from \"India\"\n",
      "Hey india\n",
      "my age is 19\n",
      "Hey india, my age is 19\n",
      "Hey india, my subject mark is 20.560000\n"
     ]
    }
   ],
   "source": [
    "#Escape Sequence Operator \n",
    "string = \"Hello world I am from \\\"India\\\"\" \n",
    "print(string) \n",
    " \n",
    "#String Formatting Operator “%.” \n",
    "name = \"india\" \n",
    "age = 19 \n",
    "marks = 20.56 \n",
    "string_for1 = 'Hey %s' % (name) \n",
    "print(string_for1) \n",
    "string_for2 = 'my age is %d' % (age) \n",
    "print(string_for2) \n",
    "string_for3= 'Hey %s, my age is %d' % (name, age) \n",
    "print(string_for3) \n",
    "\n",
    "\n",
    "\n",
    "string_for3= 'Hey %s, my subject mark is %f' % (name, marks) \n",
    "print(string_for3) \n"
   ]
  },
  {
   "cell_type": "code",
   "execution_count": 16,
   "metadata": {},
   "outputs": [
    {
     "name": "stdout",
     "output_type": "stream",
     "text": [
      "Hey india, my subject mark is 20.56\n"
     ]
    }
   ],
   "source": [
    "string_for3= 'Hey {}, my subject mark is {}'.format(name, marks) \n",
    "print(string_for3)"
   ]
  },
  {
   "cell_type": "code",
   "execution_count": 38,
   "metadata": {
    "colab": {
     "base_uri": "https://localhost:8080/"
    },
    "id": "qAd3f9xrKSgz",
    "outputId": "1e02b4ca-0b44-4ff0-92ff-5294aafd1647"
   },
   "outputs": [
    {
     "name": "stdout",
     "output_type": "stream",
     "text": [
      "Hello world I am from \"India\" and \n",
      "I can speak hindi\n"
     ]
    }
   ],
   "source": [
    "string=\"Hello world I am from \\\"India\\\" and \\nI can speak hindi\" \n",
    "print(string) "
   ]
  },
  {
   "attachments": {},
   "cell_type": "markdown",
   "metadata": {
    "id": "yGbmhSgdbu_h"
   },
   "source": [
    "# Decision making"
   ]
  },
  {
   "attachments": {},
   "cell_type": "markdown",
   "metadata": {},
   "source": [
    "### If Condition"
   ]
  },
  {
   "cell_type": "code",
   "execution_count": 40,
   "metadata": {
    "colab": {
     "base_uri": "https://localhost:8080/"
    },
    "id": "ahH0GNI_bzR9",
    "outputId": "7635f42e-c09a-412d-9936-999817dc4654"
   },
   "outputs": [
    {
     "name": "stdout",
     "output_type": "stream",
     "text": [
      "a is greater than b\n",
      "Value of a is:  330\n",
      "outside of the if statement \n"
     ]
    }
   ],
   "source": [
    "a = 330\n",
    "b = 150\n",
    "c = 2000\n",
    "\n",
    "if b > a:\n",
    "  print(\"b is greater than a\")\n",
    "  print(\"Value of b is: \", b)\n",
    "elif c > a:\n",
    "  print(\"a is greater than b\")  \n",
    "  print(\"Value of a is: \", a)\n",
    "\n",
    "print(\"outside of the if statement \")\n"
   ]
  },
  {
   "cell_type": "code",
   "execution_count": 41,
   "metadata": {
    "id": "r3ZRrS7Fck61"
   },
   "outputs": [],
   "source": [
    "a=330\n",
    "b=150\n",
    "if b>a:\n",
    "  print(\"b is greater than a\")"
   ]
  },
  {
   "cell_type": "code",
   "execution_count": null,
   "metadata": {
    "colab": {
     "base_uri": "https://localhost:8080/"
    },
    "id": "cy_8OgzVc5e8",
    "outputId": "c6c45f7c-5ef8-460f-bb2d-009e4410ba85"
   },
   "outputs": [
    {
     "name": "stdout",
     "output_type": "stream",
     "text": [
      "b is equal to a\n"
     ]
    }
   ],
   "source": [
    "a=150\n",
    "b=150\n",
    "if (b>a):\n",
    "  print(\"b is greater than a\")\n",
    "elif (b==a):\n",
    "  print(\"b is equal to a\")\n",
    "else:\n",
    "  print(\"b is less than a\")  "
   ]
  },
  {
   "cell_type": "code",
   "execution_count": 43,
   "metadata": {
    "colab": {
     "base_uri": "https://localhost:8080/"
    },
    "id": "-e4TpAiRduag",
    "outputId": "013eeea4-5438-44db-a1ad-8f5577f8842e"
   },
   "outputs": [
    {
     "name": "stdout",
     "output_type": "stream",
     "text": [
      "X is greater than 10\n",
      "X is greater than 20 also\n"
     ]
    }
   ],
   "source": [
    "X=21\n",
    "if (X>10):\n",
    "  print(\"X is greater than 10\")\n",
    "  if (X>20):\n",
    "    print(\"X is greater than 20 also\")\n",
    "  else:\n",
    "    print(\"X is in between 10 and 20\")\n",
    "else:\n",
    "  print(\"X is less than/equal to 10\")      "
   ]
  },
  {
   "cell_type": "code",
   "execution_count": 47,
   "metadata": {
    "colab": {
     "base_uri": "https://localhost:8080/"
    },
    "id": "9meFBED_ghn0",
    "outputId": "94588c8b-ab69-4bd1-c982-7db64388ecf9"
   },
   "outputs": [
    {
     "name": "stdout",
     "output_type": "stream",
     "text": [
      "b: 100\n",
      "100\n"
     ]
    }
   ],
   "source": [
    "# (cond)?True:False\n",
    "\n",
    "a=20\n",
    "b=100\n",
    "\n",
    "print(\"a:\",a) if a > b else print(\"b:\", b)\n",
    "\n",
    "res = a if a > b else b\n",
    "print(res)"
   ]
  },
  {
   "cell_type": "code",
   "execution_count": 48,
   "metadata": {},
   "outputs": [
    {
     "data": {
      "text/plain": [
       "0"
      ]
     },
     "execution_count": 48,
     "metadata": {},
     "output_type": "execute_result"
    }
   ],
   "source": [
    "x = 20\n",
    "x%2"
   ]
  },
  {
   "cell_type": "code",
   "execution_count": 49,
   "metadata": {
    "colab": {
     "base_uri": "https://localhost:8080/"
    },
    "id": "N28UYMqDhTv_",
    "outputId": "401f00dc-bb9d-4909-a668-16ee8f817cb8"
   },
   "outputs": [
    {
     "name": "stdout",
     "output_type": "stream",
     "text": [
      "even\n"
     ]
    }
   ],
   "source": [
    "X=20\n",
    "print(\"odd\") if (X%2) else print(\"even\")"
   ]
  },
  {
   "attachments": {},
   "cell_type": "markdown",
   "metadata": {},
   "source": [
    "### Loops"
   ]
  },
  {
   "cell_type": "code",
   "execution_count": 55,
   "metadata": {
    "colab": {
     "base_uri": "https://localhost:8080/"
    },
    "id": "59km6Cv5h9Ql",
    "outputId": "d4876bbe-9f63-4e35-a1e1-d73dce17fd96"
   },
   "outputs": [
    {
     "name": "stdout",
     "output_type": "stream",
     "text": [
      "printing the numbers from 1 to 10\n",
      "0\n",
      "1\n",
      "2\n",
      "3\n",
      "4\n",
      "5\n",
      "6\n",
      "7\n",
      "8\n",
      "9\n"
     ]
    }
   ],
   "source": [
    "print(\"printing the numbers from 1 to 10\")\n",
    "a=0\n",
    "while (a<10):\n",
    "  print(a)\n",
    "  a += 1"
   ]
  },
  {
   "cell_type": "code",
   "execution_count": null,
   "metadata": {
    "colab": {
     "base_uri": "https://localhost:8080/"
    },
    "id": "Czo8p9sXllUR",
    "outputId": "facfc4fb-c2b7-45e0-d530-7caed6925ac5"
   },
   "outputs": [
    {
     "name": "stdout",
     "output_type": "stream",
     "text": [
      "1\n",
      "doing some operation\n",
      "2\n",
      "Out of loop\n"
     ]
    }
   ],
   "source": [
    "i=1\n",
    "while (i<6):\n",
    "  print(i)\n",
    "  i=i+1\n",
    "  if (i==3):\n",
    "    break\n",
    "  print(\"doing some operation\")\n",
    "\n",
    "print(\"Out of loop\")"
   ]
  },
  {
   "cell_type": "code",
   "execution_count": 57,
   "metadata": {},
   "outputs": [
    {
     "name": "stdout",
     "output_type": "stream",
     "text": [
      "No, it is a little lower than that.\n",
      "No, it is a little lower than that.\n",
      "No, it is a little lower than that.\n",
      "No, it is a little higher than that.\n",
      "Congratulations, you guessed it.\n",
      "The while loop is over.\n"
     ]
    }
   ],
   "source": [
    "number = 23\n",
    "running = True\n",
    "\n",
    "while running:\n",
    "    guess = int(input('Enter an integer : '))\n",
    "\n",
    "    if guess == number:\n",
    "        print('Congratulations, you guessed it.')\n",
    "        # this causes the while loop to stop\n",
    "        running = False\n",
    "    elif guess < number:\n",
    "        print('No, it is a little higher than that.')\n",
    "    else:\n",
    "        print('No, it is a little lower than that.')\n",
    "else:\n",
    "    print('The while loop is over.')\n",
    "    # Do anything else you want to do here"
   ]
  },
  {
   "cell_type": "code",
   "execution_count": 59,
   "metadata": {
    "colab": {
     "base_uri": "https://localhost:8080/"
    },
    "id": "D2YMmHqKojS3",
    "outputId": "975a4b5f-f224-4a30-ab04-f4d58e30e067"
   },
   "outputs": [
    {
     "name": "stdout",
     "output_type": "stream",
     "text": [
      "current letter  P\n",
      "current letter  Y\n",
      "current letter  T\n",
      " This block is pass block\n",
      "current letter  O\n",
      "current letter  N\n",
      "Out of loop\n"
     ]
    }
   ],
   "source": [
    "for letter in 'python':\n",
    "  if letter == 'h':\n",
    "    pass\n",
    "    print(\" This block is pass block\")\n",
    "  else:\n",
    "    print(\"current letter \", letter.capitalize())\n",
    "\n",
    "print(\"Out of loop\")    "
   ]
  },
  {
   "cell_type": "code",
   "execution_count": 60,
   "metadata": {
    "colab": {
     "base_uri": "https://localhost:8080/"
    },
    "id": "mlyiC5RmtbXP",
    "outputId": "f92634f6-4bf5-443b-ac30-8509b48dbce9"
   },
   "outputs": [
    {
     "name": "stdout",
     "output_type": "stream",
     "text": [
      "P\n",
      "\n",
      "\n",
      "Y\n",
      "\n",
      "\n",
      "T\n",
      "\n",
      "\n"
     ]
    }
   ],
   "source": [
    "string=\"PYTHON\"\n",
    "for char in string:\n",
    "  if char !='H':\n",
    "    print(char, end='\\n\\n\\n')\n",
    "  else:\n",
    "    break  "
   ]
  },
  {
   "cell_type": "code",
   "execution_count": 61,
   "metadata": {
    "colab": {
     "base_uri": "https://localhost:8080/"
    },
    "id": "qXt7i_XauJ4f",
    "outputId": "d5fec9d2-6022-44b5-e550-b8fddeef2933"
   },
   "outputs": [
    {
     "name": "stdout",
     "output_type": "stream",
     "text": [
      "banana\n",
      "BANANA\n",
      "orange\n",
      "ORANGE\n",
      "apple\n",
      "APPLE\n"
     ]
    }
   ],
   "source": [
    "fruits=[\"banana\", \"orange\",\"apple\"]\n",
    "for i in fruits:\n",
    "  print(i)\n",
    "  print(i.upper())"
   ]
  },
  {
   "cell_type": "code",
   "execution_count": 62,
   "metadata": {
    "colab": {
     "base_uri": "https://localhost:8080/"
    },
    "id": "7DY-qyyXtY-X",
    "outputId": "06057e65-9b94-4aa6-c909-7848c73985ab"
   },
   "outputs": [
    {
     "name": "stdout",
     "output_type": "stream",
     "text": [
      "red apple\n",
      "red banana\n",
      "red cherry\n",
      "red orange\n",
      "big apple\n",
      "big banana\n",
      "big cherry\n",
      "big orange\n",
      "tasty apple\n",
      "tasty banana\n",
      "tasty cherry\n",
      "tasty orange\n"
     ]
    }
   ],
   "source": [
    "adjectives=[\"red\",\"big\",\"tasty\"]\n",
    "fruits=[\"apple\",\"banana\",\"cherry\",\"orange\"]\n",
    "for i in adjectives:\n",
    "  for y in fruits:\n",
    "    print(i,y)"
   ]
  },
  {
   "cell_type": "code",
   "execution_count": 70,
   "metadata": {},
   "outputs": [
    {
     "data": {
      "text/plain": [
       "range(10, 43, 4)"
      ]
     },
     "execution_count": 70,
     "metadata": {},
     "output_type": "execute_result"
    }
   ],
   "source": [
    "x = range(10,43,4)\n",
    "x"
   ]
  },
  {
   "cell_type": "code",
   "execution_count": 71,
   "metadata": {
    "colab": {
     "base_uri": "https://localhost:8080/"
    },
    "id": "GYPRDycrv5Aj",
    "outputId": "76838810-4f1a-44bd-8aaf-930d823cbc20"
   },
   "outputs": [
    {
     "name": "stdout",
     "output_type": "stream",
     "text": [
      "printing the numbers less than 10\n",
      "10\n",
      "14\n",
      "18\n",
      "22\n",
      "26\n",
      "30\n",
      "34\n",
      "38\n",
      "42\n"
     ]
    }
   ],
   "source": [
    "print(\"printing the numbers less than 10\")\n",
    "for i in x:\n",
    "  print(i)"
   ]
  },
  {
   "cell_type": "code",
   "execution_count": 72,
   "metadata": {
    "colab": {
     "base_uri": "https://localhost:8080/"
    },
    "id": "spR_p2srwOT4",
    "outputId": "9efc8c77-812d-46de-cf0d-c8a473441161"
   },
   "outputs": [
    {
     "name": "stdout",
     "output_type": "stream",
     "text": [
      "2\n",
      "3\n",
      "4\n",
      "5\n",
      "6\n",
      "7\n",
      "8\n",
      "9\n"
     ]
    }
   ],
   "source": [
    "for i in range(2,10):\n",
    "  print(i)"
   ]
  },
  {
   "cell_type": "code",
   "execution_count": 73,
   "metadata": {
    "colab": {
     "base_uri": "https://localhost:8080/"
    },
    "id": "nsZ6mVNtwpbY",
    "outputId": "5d4d191f-b4da-4dee-e24b-103a9efc229f"
   },
   "outputs": [
    {
     "name": "stdout",
     "output_type": "stream",
     "text": [
      "1\n",
      "4\n",
      "7\n",
      "10\n",
      "13\n",
      "16\n",
      "19\n"
     ]
    }
   ],
   "source": [
    "for i in range(1,20,3):\n",
    "  print(i)"
   ]
  },
  {
   "cell_type": "code",
   "execution_count": 74,
   "metadata": {
    "id": "TJiS8Uv7w6g1"
   },
   "outputs": [
    {
     "name": "stdout",
     "output_type": "stream",
     "text": [
      "2\n",
      "3\n",
      "4\n",
      "5\n",
      "6\n",
      "7\n",
      "8\n",
      "9\n",
      "10\n",
      "11\n",
      "12\n",
      "13\n",
      "14\n",
      "15\n",
      "16\n",
      "17\n",
      "18\n",
      "19\n"
     ]
    }
   ],
   "source": [
    "for i in range(2,20):\n",
    "  print(i)"
   ]
  },
  {
   "cell_type": "code",
   "execution_count": null,
   "metadata": {
    "colab": {
     "base_uri": "https://localhost:8080/"
    },
    "id": "3lSXZL5Vw8jb",
    "outputId": "4e55ec0b-55ec-43c4-9c80-902769d540c2"
   },
   "outputs": [],
   "source": [
    "for i in range(2,20,4):\n",
    "  print(i)"
   ]
  },
  {
   "attachments": {},
   "cell_type": "markdown",
   "metadata": {
    "id": "-xvi9IpTy_Ss"
   },
   "source": [
    "# Function"
   ]
  },
  {
   "attachments": {},
   "cell_type": "markdown",
   "metadata": {},
   "source": [
    "### Mathemtical functions"
   ]
  },
  {
   "cell_type": "code",
   "execution_count": 75,
   "metadata": {
    "colab": {
     "base_uri": "https://localhost:8080/"
    },
    "id": "YFSdXx1KzCri",
    "outputId": "797fb320-09ff-479c-c55b-379af3b8bb74"
   },
   "outputs": [
    {
     "name": "stdout",
     "output_type": "stream",
     "text": [
      "abs(-45): 45\n",
      "abs(100.12) 100.12\n"
     ]
    }
   ],
   "source": [
    "import math\n",
    "\n",
    "print(\"abs(-45):\", abs(-45))\n",
    "print(\"abs(100.12)\",abs(100.12))"
   ]
  },
  {
   "cell_type": "code",
   "execution_count": 76,
   "metadata": {
    "colab": {
     "base_uri": "https://localhost:8080/"
    },
    "id": "v4_wpeF0z1vp",
    "outputId": "83bf343b-4599-4fc9-f88b-14b2cca37f11"
   },
   "outputs": [
    {
     "name": "stdout",
     "output_type": "stream",
     "text": [
      "ceil(-45.17)) -45\n",
      "ceil(45.17)) 46\n",
      "ceil(pi) 4\n"
     ]
    }
   ],
   "source": [
    "print(\"ceil(-45.17))\",math.ceil(-45.17))\n",
    "print(\"ceil(45.17))\",math.ceil(45.17))\n",
    "print(\"ceil(pi)\",math.ceil(math.pi))"
   ]
  },
  {
   "cell_type": "code",
   "execution_count": 77,
   "metadata": {
    "colab": {
     "base_uri": "https://localhost:8080/"
    },
    "id": "Jeu1S1ii1IPN",
    "outputId": "4dd9fe67-fd17-4ba1-b72e-f59ee5652711"
   },
   "outputs": [
    {
     "data": {
      "text/plain": [
       "7.38905609893065"
      ]
     },
     "execution_count": 77,
     "metadata": {},
     "output_type": "execute_result"
    }
   ],
   "source": [
    "math.exp(2)"
   ]
  },
  {
   "cell_type": "code",
   "execution_count": 78,
   "metadata": {
    "colab": {
     "base_uri": "https://localhost:8080/"
    },
    "id": "j34vamtO1iBP",
    "outputId": "2dc2c2d3-36bb-45e7-d3a5-bcd3307b5223"
   },
   "outputs": [
    {
     "data": {
      "text/plain": [
       "0.1353352832366127"
      ]
     },
     "execution_count": 78,
     "metadata": {},
     "output_type": "execute_result"
    }
   ],
   "source": [
    "math.exp(-2)"
   ]
  },
  {
   "cell_type": "code",
   "execution_count": 79,
   "metadata": {
    "colab": {
     "base_uri": "https://localhost:8080/"
    },
    "id": "8uqqKkqw1t1a",
    "outputId": "4e1d95de-f69b-4ab2-fdcb-337f7cb95ffd"
   },
   "outputs": [
    {
     "data": {
      "text/plain": [
       "100.2"
      ]
     },
     "execution_count": 79,
     "metadata": {},
     "output_type": "execute_result"
    }
   ],
   "source": [
    "math.fabs(100.2)"
   ]
  },
  {
   "cell_type": "code",
   "execution_count": 80,
   "metadata": {
    "colab": {
     "base_uri": "https://localhost:8080/"
    },
    "id": "_rfotrlB141q",
    "outputId": "e9d688ab-84b9-4036-b1c7-caa29625b989"
   },
   "outputs": [
    {
     "name": "stdout",
     "output_type": "stream",
     "text": [
      "max(80,100,1000): 1000\n",
      "max(-80,-100,-1000): -1000\n"
     ]
    }
   ],
   "source": [
    "print(\"max(80,100,1000):\", max(80,100,1000))\n",
    "print(\"max(-80,-100,-1000):\", min(-80,-100,-1000))"
   ]
  },
  {
   "cell_type": "code",
   "execution_count": 82,
   "metadata": {
    "colab": {
     "base_uri": "https://localhost:8080/"
    },
    "id": "OgKBCwh52aiq",
    "outputId": "4d1a1fe8-b137-41c8-a644-5f7485214fd3"
   },
   "outputs": [
    {
     "name": "stdout",
     "output_type": "stream",
     "text": [
      "4\n",
      "5\n"
     ]
    }
   ],
   "source": [
    "print(math.floor(4.9))\n",
    "print(math.ceil(4.2))"
   ]
  },
  {
   "cell_type": "code",
   "execution_count": 83,
   "metadata": {
    "colab": {
     "base_uri": "https://localhost:8080/"
    },
    "id": "qrVR64342qlt",
    "outputId": "536016c2-a1e2-4c33-c236-d08ab82de1d9"
   },
   "outputs": [
    {
     "name": "stdout",
     "output_type": "stream",
     "text": [
      "10000.0\n",
      "0.0001\n"
     ]
    }
   ],
   "source": [
    "print(math.pow(100,2))\n",
    "print(math.pow(100,-2))"
   ]
  },
  {
   "attachments": {},
   "cell_type": "markdown",
   "metadata": {
    "id": "e_sG9b_P4qih"
   },
   "source": [
    "### Random Number functions"
   ]
  },
  {
   "cell_type": "code",
   "execution_count": 89,
   "metadata": {
    "colab": {
     "base_uri": "https://localhost:8080/"
    },
    "id": "AH5jac9E4svT",
    "outputId": "97bd17cf-54d3-498b-8187-47b2437d40bb"
   },
   "outputs": [
    {
     "name": "stdout",
     "output_type": "stream",
     "text": [
      "choice[1,2,3,5,9] 9\n",
      "ngptc\n"
     ]
    }
   ],
   "source": [
    "import random\n",
    "print(\"choice[1,2,3,5,9]\", random.choice([1,2,3,5,9]))\n",
    "\n",
    "id = ''\n",
    "\n",
    "for i in range(5):\n",
    "    c = random.choice(\"abcdefghijklmnopqrstuvwxyz123456789\")\n",
    "    id += c\n",
    "\n",
    "print(id)"
   ]
  },
  {
   "cell_type": "code",
   "execution_count": 100,
   "metadata": {
    "colab": {
     "base_uri": "https://localhost:8080/"
    },
    "id": "NnoBpr_m5iDe",
    "outputId": "00cbea4a-6257-4bd2-95b6-6b96f5e0a495"
   },
   "outputs": [
    {
     "name": "stdout",
     "output_type": "stream",
     "text": [
      "rnadom range (100,1000,2) 367\n"
     ]
    }
   ],
   "source": [
    "print(\"rnadom range (100,1000,2)\", random.randrange(101,1000,2))"
   ]
  },
  {
   "cell_type": "code",
   "execution_count": null,
   "metadata": {
    "id": "ecczDrIi6CxO"
   },
   "outputs": [],
   "source": [
    "#create a random number between 100 and 1000 which are divsible by 6"
   ]
  },
  {
   "cell_type": "code",
   "execution_count": 97,
   "metadata": {
    "colab": {
     "base_uri": "https://localhost:8080/"
    },
    "id": "nxxvL1We7I9n",
    "outputId": "69b6dfe9-e989-4756-a36f-57edc9a0a6dc"
   },
   "outputs": [
    {
     "name": "stdout",
     "output_type": "stream",
     "text": [
      "First random Number  0.9056396761745207\n",
      "Second random Number  0.6862541570267026\n"
     ]
    }
   ],
   "source": [
    "random.seed(20)\n",
    "print(\"First random Number \", random.random())\n",
    "print(\"Second random Number \", random.random())"
   ]
  },
  {
   "cell_type": "code",
   "execution_count": 104,
   "metadata": {
    "colab": {
     "base_uri": "https://localhost:8080/"
    },
    "id": "i7svtPS_8tjC",
    "outputId": "68ffebed-f8d0-4a56-b14e-72e9863aa3b5"
   },
   "outputs": [
    {
     "name": "stdout",
     "output_type": "stream",
     "text": [
      "[20, 16, 10, 23, 5]\n",
      "[10, 20, 16, 23, 5]\n"
     ]
    }
   ],
   "source": [
    "list= [20,16,10,23,5]\n",
    "print(list)\n",
    "random.shuffle(list)\n",
    "print(list)"
   ]
  },
  {
   "cell_type": "code",
   "execution_count": 108,
   "metadata": {
    "colab": {
     "base_uri": "https://localhost:8080/"
    },
    "id": "ueGxSBhF9Mqa",
    "outputId": "6e081940-d652-4434-be99-bbd962577db2"
   },
   "outputs": [
    {
     "name": "stdout",
     "output_type": "stream",
     "text": [
      "9.931117716510421\n"
     ]
    }
   ],
   "source": [
    "print(random.uniform(5,20))"
   ]
  },
  {
   "attachments": {},
   "cell_type": "markdown",
   "metadata": {
    "id": "0pCdmsaz-2_3"
   },
   "source": [
    "### Trignometric Functions"
   ]
  },
  {
   "cell_type": "code",
   "execution_count": 109,
   "metadata": {
    "colab": {
     "base_uri": "https://localhost:8080/"
    },
    "id": "0aYDValt-6LP",
    "outputId": "b50aa8bf-4701-404e-93e9-5630504c91a3"
   },
   "outputs": [
    {
     "name": "stdout",
     "output_type": "stream",
     "text": [
      "acos(-1) 3.141592653589793\n",
      "cos(0) 1.0\n",
      "hypotenuse(3,4) 5.0\n",
      "degrees(pi/4) 45.0\n",
      "radian(45) 0.7853981633974483\n"
     ]
    }
   ],
   "source": [
    "import math\n",
    "print(\"acos(-1)\",math.acos(-1))\n",
    "print(\"cos(0)\",math.cos(0))\n",
    "print(\"hypotenuse(3,4)\",math.hypot(3,4))\n",
    "print(\"degrees(pi/4)\",math.degrees(math.pi/4))\n",
    "print(\"radian(45)\",math.radians(45))"
   ]
  },
  {
   "cell_type": "code",
   "execution_count": 110,
   "metadata": {
    "colab": {
     "base_uri": "https://localhost:8080/"
    },
    "id": "XD4fIneyg_c9",
    "outputId": "63f8bb57-292d-426e-ef47-199373a06780"
   },
   "outputs": [
    {
     "name": "stdout",
     "output_type": "stream",
     "text": [
      "30\n"
     ]
    }
   ],
   "source": [
    "sum_even = sum([k for k in range(11) if k%2==0])\n",
    "print(sum_even)"
   ]
  },
  {
   "attachments": {},
   "cell_type": "markdown",
   "metadata": {
    "id": "uHD89Np5hwLy"
   },
   "source": [
    "### Python Strings"
   ]
  },
  {
   "cell_type": "code",
   "execution_count": 112,
   "metadata": {
    "colab": {
     "base_uri": "https://localhost:8080/"
    },
    "id": "_U70mwHzjcJo",
    "outputId": "b66e1822-bf08-406c-deb9-5dae2ff67171"
   },
   "outputs": [
    {
     "name": "stdout",
     "output_type": "stream",
     "text": [
      "var1[0]: H\n",
      "var2[3:12] : hon Progr\n",
      "rammiing\n",
      "rgor\n"
     ]
    }
   ],
   "source": [
    "var1 =\"Hello World\"\n",
    "var2 = \"python Programmiing\"\n",
    "print(\"var1[0]:\", var1[0])\n",
    "print(\"var2[3:12] :\",var2[3:12])\n",
    "print(var2[-8:])\n",
    "print(var2[-8:-12:-1])"
   ]
  },
  {
   "cell_type": "code",
   "execution_count": 113,
   "metadata": {
    "colab": {
     "base_uri": "https://localhost:8080/"
    },
    "id": "9iAPtbn1k49D",
    "outputId": "552a84b6-6d57-4a73-ee67-5385d970300f"
   },
   "outputs": [
    {
     "name": "stdout",
     "output_type": "stream",
     "text": [
      "Updating string Hello students\n"
     ]
    }
   ],
   "source": [
    "print(\"Updating string\",var1[:6]+'students')"
   ]
  },
  {
   "cell_type": "code",
   "execution_count": 114,
   "metadata": {
    "colab": {
     "base_uri": "https://localhost:8080/"
    },
    "id": "Q7rEMcNklWya",
    "outputId": "ad9752b4-0a63-47c2-ce73-9041e48603ff"
   },
   "outputs": [
    {
     "name": "stdout",
     "output_type": "stream",
     "text": [
      "This is a string example\n"
     ]
    }
   ],
   "source": [
    "str = \"this is a string example\"\n",
    "print(str.capitalize())"
   ]
  },
  {
   "cell_type": "code",
   "execution_count": 116,
   "metadata": {
    "colab": {
     "base_uri": "https://localhost:8080/"
    },
    "id": "k9WFJGjUl3Df",
    "outputId": "6f15c68b-c92e-4724-875b-988b99832952"
   },
   "outputs": [
    {
     "name": "stdout",
     "output_type": "stream",
     "text": [
      "3\n"
     ]
    }
   ],
   "source": [
    "str = \"this is a string example\"\n",
    "sub = 'i'\n",
    "print(str.count(sub))"
   ]
  },
  {
   "cell_type": "code",
   "execution_count": 117,
   "metadata": {
    "colab": {
     "base_uri": "https://localhost:8080/"
    },
    "id": "jwO4nPFznPQa",
    "outputId": "8314ebc9-f51b-43e5-bd31-e9acdf2e4ffb"
   },
   "outputs": [
    {
     "name": "stdout",
     "output_type": "stream",
     "text": [
      "True\n",
      "False\n"
     ]
    }
   ],
   "source": [
    "suffix=\"is\"\n",
    "print(str.endswith(suffix,2,4))\n",
    "print(str.endswith(suffix,2,9))"
   ]
  },
  {
   "cell_type": "code",
   "execution_count": 118,
   "metadata": {
    "colab": {
     "base_uri": "https://localhost:8080/"
    },
    "id": "ChGSEWZRouwG",
    "outputId": "76adfd8e-ede8-481e-d4dc-c52b9efddee4"
   },
   "outputs": [
    {
     "name": "stdout",
     "output_type": "stream",
     "text": [
      "2\n",
      "2\n"
     ]
    }
   ],
   "source": [
    "str1=\"this is string example\"\n",
    "str2=\"is\"\n",
    "print(str1.find(str2))\n",
    "print(str1.index(str2))\n",
    "\n",
    "#print(str1.find(str2,40))\n",
    "#print(str1.index(str2,40))"
   ]
  },
  {
   "cell_type": "code",
   "execution_count": 122,
   "metadata": {
    "colab": {
     "base_uri": "https://localhost:8080/"
    },
    "id": "W7P_uoOgrPQb",
    "outputId": "eb53c853-ba6f-42bd-fc70-3270d4a8e164"
   },
   "outputs": [
    {
     "name": "stdout",
     "output_type": "stream",
     "text": [
      "True\n",
      "False\n"
     ]
    }
   ],
   "source": [
    "str1=\"thisis2022\"\n",
    "print(str1.isalnum())\n",
    "str2=\"This is 2022\"\n",
    "print(str2.isalnum())"
   ]
  },
  {
   "cell_type": "code",
   "execution_count": 123,
   "metadata": {
    "colab": {
     "base_uri": "https://localhost:8080/"
    },
    "id": "vb_yvgHsr-Rf",
    "outputId": "1202b225-4541-4649-b8c8-64e2a671724f"
   },
   "outputs": [
    {
     "name": "stdout",
     "output_type": "stream",
     "text": [
      "False\n",
      "True\n"
     ]
    }
   ],
   "source": [
    "str1=\"thisis2022\"\n",
    "print(str1.isalpha())\n",
    "str2=\"Thisis\"\n",
    "print(str2.isalpha())\n"
   ]
  },
  {
   "cell_type": "code",
   "execution_count": 124,
   "metadata": {
    "colab": {
     "base_uri": "https://localhost:8080/"
    },
    "id": "fPUdDKAztqag",
    "outputId": "bffcacb3-4c72-41b7-e67a-64e69a43231a"
   },
   "outputs": [
    {
     "name": "stdout",
     "output_type": "stream",
     "text": [
      "True\n",
      "False\n",
      "False\n",
      "True\n",
      "True\n",
      "False\n"
     ]
    }
   ],
   "source": [
    "str = \"123456\";  # Only digit in this string\n",
    "print (str.isdigit())\n",
    "str = \"this is string example....wow!!!\"\n",
    "print (str.isdigit())\n",
    "\n",
    "str = \"THIS is string example....wow!!!\"\n",
    "print (str.islower())\n",
    "str = \"this is string example....wow!!!\"\n",
    "print (str.islower())\n",
    "\n",
    "str = \"       \"; \n",
    "print (str.isspace())\n",
    "str = \"This is string example....wow!!!\"\n",
    "print (str.isspace())"
   ]
  },
  {
   "cell_type": "code",
   "execution_count": 127,
   "metadata": {
    "colab": {
     "base_uri": "https://localhost:8080/"
    },
    "id": "mYiIUCgkuuRA",
    "outputId": "327d8cc0-f64d-43e1-f2cd-85b3f6b48228"
   },
   "outputs": [
    {
     "name": "stdout",
     "output_type": "stream",
     "text": [
      "Length of the string:  32\n",
      "this is string example....wow!!!\n",
      "this is string example....wow!!!\n",
      "this is string example....wow!!!8888888\n"
     ]
    }
   ],
   "source": [
    "str = \"this is string example....wow!!!\"\n",
    "print (\"Length of the string: \", len(str))\n",
    "\n",
    "str = \"THIS IS STRING EXAMPLE....WOW!!!\"\n",
    "print (str.lower())\n",
    "\n",
    "\n",
    "str = \"     this is string example....wow!!!     \"\n",
    "print (str.strip())\n",
    "str = \"88888888this is string example....wow!!!8888888\"\n",
    "print (str.lstrip('8'))"
   ]
  },
  {
   "attachments": {},
   "cell_type": "markdown",
   "metadata": {
    "id": "I7mayY2Ivy2h"
   },
   "source": [
    "***\n",
    "# Lists"
   ]
  },
  {
   "cell_type": "code",
   "execution_count": null,
   "metadata": {
    "colab": {
     "base_uri": "https://localhost:8080/"
    },
    "id": "JvW6pHatv6nS",
    "outputId": "d750c34a-303c-413b-bbeb-e528c5ad5bfe"
   },
   "outputs": [],
   "source": [
    "student_list=[[1,2,3,4,5],[\"Ram\",\"Rani\",\"Yash\",\"Lalit\",\"Priyadarshini\"],5]\n",
    "print(student_list[1])\n",
    "print(student_list[-2][-1])\n"
   ]
  },
  {
   "cell_type": "code",
   "execution_count": 128,
   "metadata": {
    "colab": {
     "base_uri": "https://localhost:8080/"
    },
    "id": "gktMGSVB1Lg4",
    "outputId": "43896699-37e3-4af9-a594-1967e5799fc9"
   },
   "outputs": [
    {
     "name": "stdout",
     "output_type": "stream",
     "text": [
      "['Suzuki', 'Ford', 'Honda']\n",
      "['Suzuki', 'Tata NEXON EV', 'Honda']\n"
     ]
    }
   ],
   "source": [
    "cars=['Suzuki','Ford','Honda']\n",
    "print(cars)\n",
    "cars[-2]='Tata NEXON EV'\n",
    "print(cars)"
   ]
  },
  {
   "cell_type": "code",
   "execution_count": 129,
   "metadata": {
    "colab": {
     "base_uri": "https://localhost:8080/"
    },
    "id": "TTK8Rtl310ql",
    "outputId": "bb10ffd2-5356-4f51-dcc5-615276277da2"
   },
   "outputs": [
    {
     "ename": "TypeError",
     "evalue": "'str' object does not support item assignment",
     "output_type": "error",
     "traceback": [
      "\u001b[1;31m---------------------------------------------------------------------------\u001b[0m",
      "\u001b[1;31mTypeError\u001b[0m                                 Traceback (most recent call last)",
      "Cell \u001b[1;32mIn[129], line 2\u001b[0m\n\u001b[0;32m      1\u001b[0m cars\u001b[38;5;241m=\u001b[39m\u001b[38;5;124m'\u001b[39m\u001b[38;5;124msuzuki\u001b[39m\u001b[38;5;124m'\u001b[39m\n\u001b[1;32m----> 2\u001b[0m \u001b[43mcars\u001b[49m\u001b[43m[\u001b[49m\u001b[38;5;241;43m0\u001b[39;49m\u001b[43m]\u001b[49m\u001b[38;5;241m=\u001b[39m\u001b[38;5;124m'\u001b[39m\u001b[38;5;124mS\u001b[39m\u001b[38;5;124m'\u001b[39m\n\u001b[0;32m      3\u001b[0m \u001b[38;5;66;03m#print(cars[0])\u001b[39;00m\n",
      "\u001b[1;31mTypeError\u001b[0m: 'str' object does not support item assignment"
     ]
    }
   ],
   "source": [
    "cars='suzuki'\n",
    "cars[0]='S'\n",
    "#print(cars[0])"
   ]
  },
  {
   "cell_type": "code",
   "execution_count": 130,
   "metadata": {
    "colab": {
     "base_uri": "https://localhost:8080/"
    },
    "id": "v0guMIMq2PK-",
    "outputId": "2d41d795-4e51-4053-b6fa-1ef3a42f979a"
   },
   "outputs": [
    {
     "name": "stdout",
     "output_type": "stream",
     "text": [
      "[3, 4, 5, 6, 7, 8]\n"
     ]
    }
   ],
   "source": [
    "a=[1,2,3,4,5,6,7,8,9]\n",
    "print(a[2:8])"
   ]
  },
  {
   "cell_type": "code",
   "execution_count": 131,
   "metadata": {
    "colab": {
     "base_uri": "https://localhost:8080/"
    },
    "id": "v8utk_5E2wwU",
    "outputId": "554a8d9d-569f-4f43-cf9f-7c676f99bf1e"
   },
   "outputs": [
    {
     "name": "stdout",
     "output_type": "stream",
     "text": [
      "<class 'list'>\n"
     ]
    }
   ],
   "source": [
    "a=[]\n",
    "print(type(a))"
   ]
  },
  {
   "cell_type": "markdown",
   "metadata": {
    "id": "05sFQIHX3DDQ"
   },
   "source": [
    "Methods and Functions with list"
   ]
  },
  {
   "cell_type": "code",
   "execution_count": 1,
   "metadata": {
    "colab": {
     "base_uri": "https://localhost:8080/"
    },
    "id": "nhxOkLwy3MHK",
    "outputId": "3fa6a110-4b9f-482b-cf98-e7d80d6d2d6c"
   },
   "outputs": [
    {
     "data": {
      "text/plain": [
       "[1, 2, 3, 4, 5, 6]"
      ]
     },
     "execution_count": 1,
     "metadata": {},
     "output_type": "execute_result"
    }
   ],
   "source": [
    "#Concatenation\n",
    "a=[1,2,3]\n",
    "b=[4,5,6]\n",
    "a+b"
   ]
  },
  {
   "cell_type": "code",
   "execution_count": 133,
   "metadata": {
    "colab": {
     "base_uri": "https://localhost:8080/"
    },
    "id": "24ORmyGu3cRh",
    "outputId": "2cffb2a5-73f3-4fd4-81d2-ef75668a16ef"
   },
   "outputs": [
    {
     "name": "stdout",
     "output_type": "stream",
     "text": [
      "[1, 2, 3, 1, 2, 3, 1, 2, 3, 1, 2, 3, 1, 2, 3]\n"
     ]
    }
   ],
   "source": [
    "print(a*5)"
   ]
  },
  {
   "cell_type": "code",
   "execution_count": 2,
   "metadata": {
    "colab": {
     "base_uri": "https://localhost:8080/"
    },
    "id": "Inhz4qVg3KZ_",
    "outputId": "8d3694c7-be6b-4325-8e66-2e216ba465c7"
   },
   "outputs": [
    {
     "name": "stdout",
     "output_type": "stream",
     "text": [
      "[(1, 4), (2, 5), (3, 6)]\n"
     ]
    },
    {
     "data": {
      "text/plain": [
       "[5, 7, 9]"
      ]
     },
     "execution_count": 2,
     "metadata": {},
     "output_type": "execute_result"
    }
   ],
   "source": [
    "zipped = list(zip(a,b))\n",
    "print(zipped)\n",
    "sumab = [sum(k) for k in zipped]\n",
    "sumab"
   ]
  },
  {
   "cell_type": "code",
   "execution_count": 3,
   "metadata": {
    "colab": {
     "base_uri": "https://localhost:8080/"
    },
    "id": "3ZfVK9rD4t7v",
    "outputId": "6e62e4bd-66db-4124-b3d7-602b11ebf3ce"
   },
   "outputs": [
    {
     "name": "stdout",
     "output_type": "stream",
     "text": [
      "[5, 7, 9]\n"
     ]
    }
   ],
   "source": [
    "c=[]\n",
    "for i in range(0,len(a)):\n",
    "  sum=a[i]+b[i]\n",
    "  c.append(sum)\n",
    "\n",
    "print(c)"
   ]
  },
  {
   "cell_type": "code",
   "execution_count": 4,
   "metadata": {
    "colab": {
     "base_uri": "https://localhost:8080/"
    },
    "id": "PCP_Zkyr5w24",
    "outputId": "d5abf8c2-e510-4cff-ccab-05a57dd99169"
   },
   "outputs": [
    {
     "name": "stdout",
     "output_type": "stream",
     "text": [
      "[0, 1, 2, 3, 4, 5, 6, 7, 8, 9]\n",
      "[9, 8, 7, 6, 5, 4, 3, 2, 1, 0]\n",
      "[7, 9]\n",
      "[7, 8]\n",
      "[9, 7, 5, 3]\n"
     ]
    }
   ],
   "source": [
    "a = [0,1,2,3,4,5,6,7,8,9]\n",
    "print(a[::])\n",
    "print(a[::-1])\n",
    "print(a[-3::2])\n",
    "print(a[-3:-1:])\n",
    "print(a[-1:-8:-2])"
   ]
  },
  {
   "cell_type": "code",
   "execution_count": 5,
   "metadata": {
    "colab": {
     "base_uri": "https://localhost:8080/"
    },
    "id": "xgw3Zs40-mXn",
    "outputId": "6804bd9b-2c20-4304-a41a-b4f2621c47a1"
   },
   "outputs": [
    {
     "name": "stdout",
     "output_type": "stream",
     "text": [
      "6\n",
      "['Hello', 'Hello', 'Hello']\n"
     ]
    }
   ],
   "source": [
    "print(len([1,2,3,4,8,9]))\n",
    "print(['Hello']*3)"
   ]
  },
  {
   "cell_type": "code",
   "execution_count": 6,
   "metadata": {
    "colab": {
     "base_uri": "https://localhost:8080/"
    },
    "id": "jmmBPN8_-7A8",
    "outputId": "d31f10a6-45d5-4b83-c39c-7f75f0a05317"
   },
   "outputs": [
    {
     "name": "stdout",
     "output_type": "stream",
     "text": [
      "False\n",
      "1\n",
      "2\n",
      "3\n"
     ]
    }
   ],
   "source": [
    "print(13 in [1,2,3])\n",
    "for x in [1,2,3]:\n",
    "  print(x)"
   ]
  },
  {
   "cell_type": "code",
   "execution_count": 7,
   "metadata": {
    "id": "YlDEv5mS_ZkW"
   },
   "outputs": [],
   "source": [
    "a=[0,1,2,3]"
   ]
  },
  {
   "cell_type": "code",
   "execution_count": 9,
   "metadata": {},
   "outputs": [
    {
     "data": {
      "text/plain": [
       "'Built-in mutable sequence.\\n\\nIf no argument is given, the constructor creates a new empty list.\\nThe argument must be an iterable if specified.'"
      ]
     },
     "execution_count": 9,
     "metadata": {},
     "output_type": "execute_result"
    }
   ],
   "source": [
    "a.__doc__"
   ]
  },
  {
   "cell_type": "code",
   "execution_count": 8,
   "metadata": {
    "colab": {
     "base_uri": "https://localhost:8080/"
    },
    "id": "tYg88fmi_cnZ",
    "outputId": "38025da8-d211-48ca-ff49-f946b0d358ff"
   },
   "outputs": [
    {
     "data": {
      "text/plain": [
       "['__add__',\n",
       " '__class__',\n",
       " '__class_getitem__',\n",
       " '__contains__',\n",
       " '__delattr__',\n",
       " '__delitem__',\n",
       " '__dir__',\n",
       " '__doc__',\n",
       " '__eq__',\n",
       " '__format__',\n",
       " '__ge__',\n",
       " '__getattribute__',\n",
       " '__getitem__',\n",
       " '__getstate__',\n",
       " '__gt__',\n",
       " '__hash__',\n",
       " '__iadd__',\n",
       " '__imul__',\n",
       " '__init__',\n",
       " '__init_subclass__',\n",
       " '__iter__',\n",
       " '__le__',\n",
       " '__len__',\n",
       " '__lt__',\n",
       " '__mul__',\n",
       " '__ne__',\n",
       " '__new__',\n",
       " '__reduce__',\n",
       " '__reduce_ex__',\n",
       " '__repr__',\n",
       " '__reversed__',\n",
       " '__rmul__',\n",
       " '__setattr__',\n",
       " '__setitem__',\n",
       " '__sizeof__',\n",
       " '__str__',\n",
       " '__subclasshook__',\n",
       " 'append',\n",
       " 'clear',\n",
       " 'copy',\n",
       " 'count',\n",
       " 'extend',\n",
       " 'index',\n",
       " 'insert',\n",
       " 'pop',\n",
       " 'remove',\n",
       " 'reverse',\n",
       " 'sort']"
      ]
     },
     "execution_count": 8,
     "metadata": {},
     "output_type": "execute_result"
    }
   ],
   "source": [
    "dir(a)"
   ]
  },
  {
   "cell_type": "code",
   "execution_count": 10,
   "metadata": {
    "colab": {
     "base_uri": "https://localhost:8080/"
    },
    "id": "7RhdG2-p_nLj",
    "outputId": "e06180a6-d5c3-4d98-d9c4-41db8359993b"
   },
   "outputs": [
    {
     "data": {
      "text/plain": [
       "[0, 1, 2, 3, 5]"
      ]
     },
     "execution_count": 10,
     "metadata": {},
     "output_type": "execute_result"
    }
   ],
   "source": [
    "a.append(5)\n",
    "a"
   ]
  },
  {
   "cell_type": "code",
   "execution_count": 11,
   "metadata": {
    "colab": {
     "base_uri": "https://localhost:8080/"
    },
    "id": "R7O4wE9I_2dX",
    "outputId": "993314c3-8cb5-424f-fe23-77091414eb99"
   },
   "outputs": [
    {
     "data": {
      "text/plain": [
       "[0, 1, 2, 3, 5, [10, 20, 30]]"
      ]
     },
     "execution_count": 11,
     "metadata": {},
     "output_type": "execute_result"
    }
   ],
   "source": [
    "a.append([10,20,30])\n",
    "a"
   ]
  },
  {
   "cell_type": "code",
   "execution_count": 12,
   "metadata": {
    "colab": {
     "base_uri": "https://localhost:8080/"
    },
    "id": "G9CUKBk7AD7a",
    "outputId": "f927f56a-260a-4a40-d61c-05bd7a13158c"
   },
   "outputs": [
    {
     "data": {
      "text/plain": [
       "[10, 20, 30]"
      ]
     },
     "execution_count": 12,
     "metadata": {},
     "output_type": "execute_result"
    }
   ],
   "source": [
    "a.pop()"
   ]
  },
  {
   "cell_type": "code",
   "execution_count": null,
   "metadata": {
    "colab": {
     "base_uri": "https://localhost:8080/"
    },
    "id": "qPl6cLlTAKwz",
    "outputId": "663860bc-2253-4884-a0ac-c2cbc2f7f825"
   },
   "outputs": [],
   "source": [
    "a"
   ]
  },
  {
   "cell_type": "code",
   "execution_count": 13,
   "metadata": {
    "id": "yAWMmuZJAPzK"
   },
   "outputs": [],
   "source": [
    "a.append(6)\n"
   ]
  },
  {
   "cell_type": "code",
   "execution_count": 14,
   "metadata": {
    "colab": {
     "base_uri": "https://localhost:8080/"
    },
    "id": "8RPKYWcGAW4h",
    "outputId": "05ab030e-3ece-4048-da96-be675713227e"
   },
   "outputs": [
    {
     "data": {
      "text/plain": [
       "[0, 1, 2, 3, 5, 6]"
      ]
     },
     "execution_count": 14,
     "metadata": {},
     "output_type": "execute_result"
    }
   ],
   "source": [
    "a"
   ]
  },
  {
   "cell_type": "code",
   "execution_count": 15,
   "metadata": {
    "colab": {
     "base_uri": "https://localhost:8080/"
    },
    "id": "4N8OgpSQAaa1",
    "outputId": "d0acdedd-1505-424b-8003-446d5b2bc29a"
   },
   "outputs": [
    {
     "data": {
      "text/plain": [
       "[0, 1, 2, 3, 6]"
      ]
     },
     "execution_count": 15,
     "metadata": {},
     "output_type": "execute_result"
    }
   ],
   "source": [
    "a.pop(4)\n",
    "a"
   ]
  },
  {
   "cell_type": "code",
   "execution_count": 16,
   "metadata": {
    "colab": {
     "base_uri": "https://localhost:8080/"
    },
    "id": "pMZXn44pBICG",
    "outputId": "555c39e2-15b6-4f74-982a-f5a52bed7d16"
   },
   "outputs": [
    {
     "data": {
      "text/plain": [
       "2"
      ]
     },
     "execution_count": 16,
     "metadata": {},
     "output_type": "execute_result"
    }
   ],
   "source": [
    "a=[1,2,3,4,5,3]\n",
    "a.count(3)"
   ]
  },
  {
   "cell_type": "code",
   "execution_count": 17,
   "metadata": {
    "colab": {
     "base_uri": "https://localhost:8080/"
    },
    "id": "FzG4HQWrBQf6",
    "outputId": "df3f36e1-e073-4d0f-9e99-e98f68e706d8"
   },
   "outputs": [
    {
     "name": "stdout",
     "output_type": "stream",
     "text": [
      "6\n",
      "5\n",
      "1\n"
     ]
    }
   ],
   "source": [
    "print(len(a))\n",
    "print(max(a))\n",
    "print(min(a))"
   ]
  },
  {
   "cell_type": "code",
   "execution_count": null,
   "metadata": {
    "colab": {
     "base_uri": "https://localhost:8080/"
    },
    "id": "KaDCU-vRBkAc",
    "outputId": "5460aa9b-e57b-498b-995b-687d45fda8b3"
   },
   "outputs": [],
   "source": [
    "a"
   ]
  },
  {
   "cell_type": "code",
   "execution_count": 18,
   "metadata": {
    "id": "bp8RsO7MBm1I"
   },
   "outputs": [],
   "source": [
    "a.insert(1,1000)"
   ]
  },
  {
   "cell_type": "code",
   "execution_count": 19,
   "metadata": {
    "colab": {
     "base_uri": "https://localhost:8080/"
    },
    "id": "F_uclUpcBwJ3",
    "outputId": "2832dac1-c602-40cc-b340-f59a33033b60"
   },
   "outputs": [
    {
     "data": {
      "text/plain": [
       "[1, 1000, 2, 3, 4, 5, 3]"
      ]
     },
     "execution_count": 19,
     "metadata": {},
     "output_type": "execute_result"
    }
   ],
   "source": [
    "a"
   ]
  },
  {
   "cell_type": "code",
   "execution_count": 20,
   "metadata": {
    "id": "7HbcBEPiB0YD"
   },
   "outputs": [],
   "source": [
    "a.append(1000)"
   ]
  },
  {
   "cell_type": "code",
   "execution_count": 21,
   "metadata": {
    "colab": {
     "base_uri": "https://localhost:8080/"
    },
    "id": "vrktTbNyB29a",
    "outputId": "f54ef903-2955-45c4-9ca0-5741f16008fe"
   },
   "outputs": [
    {
     "data": {
      "text/plain": [
       "[1, 1000, 2, 3, 4, 5, 3, 1000]"
      ]
     },
     "execution_count": 21,
     "metadata": {},
     "output_type": "execute_result"
    }
   ],
   "source": [
    "a"
   ]
  },
  {
   "cell_type": "code",
   "execution_count": 24,
   "metadata": {
    "id": "xRUMV01bCA_g"
   },
   "outputs": [],
   "source": [
    "a.remove(1000)"
   ]
  },
  {
   "cell_type": "code",
   "execution_count": 25,
   "metadata": {
    "colab": {
     "base_uri": "https://localhost:8080/"
    },
    "id": "xBZWZC_YCEjF",
    "outputId": "72a241d5-87b2-4471-994a-ec2867792241"
   },
   "outputs": [
    {
     "data": {
      "text/plain": [
       "[1, 2, 3, 4, 5, 3]"
      ]
     },
     "execution_count": 25,
     "metadata": {},
     "output_type": "execute_result"
    }
   ],
   "source": [
    "a"
   ]
  },
  {
   "cell_type": "code",
   "execution_count": 26,
   "metadata": {
    "id": "VXNgzekXCu9X"
   },
   "outputs": [],
   "source": [
    "list1=[123,'xyz',\"zara\",13.5]\n",
    "list1.append(2022)"
   ]
  },
  {
   "cell_type": "code",
   "execution_count": 27,
   "metadata": {
    "id": "nBSUNuxtC8Mf"
   },
   "outputs": [],
   "source": [
    "list1.append(123)"
   ]
  },
  {
   "cell_type": "code",
   "execution_count": 28,
   "metadata": {
    "colab": {
     "base_uri": "https://localhost:8080/"
    },
    "id": "Js7vyEk0DBs6",
    "outputId": "a0ab8817-3e54-4ce7-ba81-80ae0e11194b"
   },
   "outputs": [
    {
     "data": {
      "text/plain": [
       "2"
      ]
     },
     "execution_count": 28,
     "metadata": {},
     "output_type": "execute_result"
    }
   ],
   "source": [
    "list1.count(123)"
   ]
  },
  {
   "cell_type": "code",
   "execution_count": 29,
   "metadata": {
    "colab": {
     "base_uri": "https://localhost:8080/"
    },
    "id": "jLJYoB_1DHrX",
    "outputId": "d9e1d4c5-0ba3-4ed4-8ceb-6cc94fdcecbd"
   },
   "outputs": [
    {
     "data": {
      "text/plain": [
       "[123, 'xyz', 'zara', 13.5, 2022, 123, 2021, 'KPMG']"
      ]
     },
     "execution_count": 29,
     "metadata": {},
     "output_type": "execute_result"
    }
   ],
   "source": [
    "list2=[2021,\"KPMG\"]\n",
    "list1.extend(list2)\n",
    "list1"
   ]
  },
  {
   "cell_type": "code",
   "execution_count": 30,
   "metadata": {
    "colab": {
     "base_uri": "https://localhost:8080/"
    },
    "id": "c5HlKA3fDkCJ",
    "outputId": "8bd949fb-fc53-45a6-9e30-11caea023481"
   },
   "outputs": [
    {
     "ename": "TypeError",
     "evalue": "'<' not supported between instances of 'str' and 'int'",
     "output_type": "error",
     "traceback": [
      "\u001b[1;31m---------------------------------------------------------------------------\u001b[0m",
      "\u001b[1;31mTypeError\u001b[0m                                 Traceback (most recent call last)",
      "Cell \u001b[1;32mIn[30], line 1\u001b[0m\n\u001b[1;32m----> 1\u001b[0m \u001b[43mlist1\u001b[49m\u001b[38;5;241;43m.\u001b[39;49m\u001b[43msort\u001b[49m\u001b[43m(\u001b[49m\u001b[43m)\u001b[49m\n",
      "\u001b[1;31mTypeError\u001b[0m: '<' not supported between instances of 'str' and 'int'"
     ]
    }
   ],
   "source": [
    "list1.sort()"
   ]
  },
  {
   "cell_type": "code",
   "execution_count": 31,
   "metadata": {
    "colab": {
     "base_uri": "https://localhost:8080/"
    },
    "id": "zig_onPADs2W",
    "outputId": "d3cec2b4-4b22-43e5-c439-28dcbc86df0c"
   },
   "outputs": [
    {
     "data": {
      "text/plain": [
       "[9, 10, 11, 22]"
      ]
     },
     "execution_count": 31,
     "metadata": {},
     "output_type": "execute_result"
    }
   ],
   "source": [
    "list1=[10, 11,9,22]\n",
    "list1.sort()\n",
    "list1"
   ]
  },
  {
   "cell_type": "code",
   "execution_count": 33,
   "metadata": {
    "colab": {
     "base_uri": "https://localhost:8080/"
    },
    "id": "2ywQuYUTEBX9",
    "outputId": "92b7182c-a6b3-49db-dc7e-f6cf01192aa6"
   },
   "outputs": [
    {
     "data": {
      "text/plain": [
       "'apple'"
      ]
     },
     "execution_count": 33,
     "metadata": {},
     "output_type": "execute_result"
    }
   ],
   "source": [
    "fruits =[\"banana\",\"apple\",\"kiwi\"]\n",
    "fruits.sort()\n",
    "fruits[0]"
   ]
  },
  {
   "cell_type": "code",
   "execution_count": 34,
   "metadata": {
    "id": "_p9XjseyFA1s"
   },
   "outputs": [],
   "source": [
    "fruits[1]=\"orange\""
   ]
  },
  {
   "cell_type": "code",
   "execution_count": 35,
   "metadata": {
    "colab": {
     "base_uri": "https://localhost:8080/"
    },
    "id": "yafjEgyeFGA6",
    "outputId": "7b8b013b-09aa-4d53-b01b-d9a3f060c8a6"
   },
   "outputs": [
    {
     "data": {
      "text/plain": [
       "['apple', 'orange', 'kiwi']"
      ]
     },
     "execution_count": 35,
     "metadata": {},
     "output_type": "execute_result"
    }
   ],
   "source": [
    "fruits"
   ]
  },
  {
   "cell_type": "code",
   "execution_count": 36,
   "metadata": {
    "colab": {
     "base_uri": "https://localhost:8080/"
    },
    "id": "9XFh8M1sEWHa",
    "outputId": "61dc6781-cdbd-4209-83e4-9baf2d1fe92f"
   },
   "outputs": [
    {
     "data": {
      "text/plain": [
       "['KPMG', 2021, 123, 2022, 13.5, 'zara', 'xyz', 123]"
      ]
     },
     "execution_count": 36,
     "metadata": {},
     "output_type": "execute_result"
    }
   ],
   "source": [
    "list1=[123, 'xyz', 'zara', 13.5, 2022, 123, 2021, 'KPMG']\n",
    "list1.reverse()\n",
    "list1"
   ]
  },
  {
   "cell_type": "code",
   "execution_count": 37,
   "metadata": {
    "colab": {
     "base_uri": "https://localhost:8080/"
    },
    "id": "Vcsmu1FWEs7b",
    "outputId": "d099ca9c-e855-4d0d-8049-c363f4c981ab"
   },
   "outputs": [
    {
     "name": "stdout",
     "output_type": "stream",
     "text": [
      "[1, 2, 3, 4]\n",
      "[1, 2]\n"
     ]
    }
   ],
   "source": [
    "list1 , list2 = [1,2,3,4], [1,2]\n",
    "print(list1)\n",
    "print(list2)"
   ]
  },
  {
   "attachments": {},
   "cell_type": "markdown",
   "metadata": {
    "id": "F55QVsMBHXjW"
   },
   "source": [
    "***\n",
    "# Tuples"
   ]
  },
  {
   "cell_type": "code",
   "execution_count": null,
   "metadata": {
    "colab": {
     "base_uri": "https://localhost:8080/"
    },
    "id": "42PrwyCqHcr6",
    "outputId": "c38a086f-ff72-40c3-c96f-323be2835bd7"
   },
   "outputs": [],
   "source": [
    "a=()\n",
    "print(type(a))"
   ]
  },
  {
   "cell_type": "code",
   "execution_count": null,
   "metadata": {
    "id": "ZwfPgynxHppP"
   },
   "outputs": [],
   "source": [
    "a=(1,2,3,\"abc\",12.4,12+3j)"
   ]
  },
  {
   "cell_type": "code",
   "execution_count": null,
   "metadata": {
    "colab": {
     "base_uri": "https://localhost:8080/",
     "height": 165
    },
    "id": "jony2EnWHz-f",
    "outputId": "9a335ed8-e6e1-4d98-9b7d-bb46c8e684c7"
   },
   "outputs": [],
   "source": [
    "a[1]=5"
   ]
  },
  {
   "cell_type": "code",
   "execution_count": null,
   "metadata": {
    "id": "voRwGtkGH8Ig"
   },
   "outputs": [],
   "source": [
    "print(a[1])"
   ]
  },
  {
   "cell_type": "code",
   "execution_count": null,
   "metadata": {
    "id": "z_E3wHZGIDs7"
   },
   "outputs": [],
   "source": [
    "a"
   ]
  },
  {
   "cell_type": "code",
   "execution_count": null,
   "metadata": {
    "id": "B5tPGQ2GIFOb"
   },
   "outputs": [],
   "source": [
    "print(a[::])"
   ]
  },
  {
   "cell_type": "code",
   "execution_count": null,
   "metadata": {
    "id": "qVNhT3doILwc"
   },
   "outputs": [],
   "source": [
    "print(a[::-1])"
   ]
  },
  {
   "cell_type": "code",
   "execution_count": null,
   "metadata": {
    "id": "IlirMBinIbr4"
   },
   "outputs": [],
   "source": [
    "a.append(5)"
   ]
  },
  {
   "cell_type": "code",
   "execution_count": null,
   "metadata": {
    "id": "JZQz8w8fIv1N"
   },
   "outputs": [],
   "source": [
    "dir(a)"
   ]
  },
  {
   "cell_type": "code",
   "execution_count": null,
   "metadata": {
    "id": "M9EqchWrJFGY"
   },
   "outputs": [],
   "source": [
    "a=(1,2,3,4,[10,20,30],8,9)\n",
    "a[4][2]=25\n",
    "print(a)"
   ]
  },
  {
   "cell_type": "code",
   "execution_count": null,
   "metadata": {
    "id": "HMkDR4GhJadi"
   },
   "outputs": [],
   "source": [
    "a[1]=30"
   ]
  },
  {
   "cell_type": "code",
   "execution_count": null,
   "metadata": {
    "id": "IHLtMqJOJmPQ"
   },
   "outputs": [],
   "source": [
    "a[4].append(40)\n",
    "a"
   ]
  },
  {
   "cell_type": "code",
   "execution_count": null,
   "metadata": {
    "id": "b4BiYsLZJw5V"
   },
   "outputs": [],
   "source": [
    "a[4].pop()\n",
    "a"
   ]
  },
  {
   "cell_type": "code",
   "execution_count": null,
   "metadata": {
    "id": "UkraBQRPJ9qh"
   },
   "outputs": [],
   "source": [
    "tup1=(1,2,3,4,6,7)\n",
    "print(len(tup1))\n",
    "print(max(tup1))\n",
    "print(min(tup1))"
   ]
  },
  {
   "cell_type": "code",
   "execution_count": null,
   "metadata": {
    "id": "utR9cKmlKg_B"
   },
   "outputs": [],
   "source": [
    "X,Y=(4,8)\n",
    "print(Y)"
   ]
  },
  {
   "attachments": {},
   "cell_type": "markdown",
   "metadata": {
    "id": "xBT3fiGaLZ7p"
   },
   "source": [
    "***\n",
    "# Dictionaries"
   ]
  },
  {
   "cell_type": "code",
   "execution_count": null,
   "metadata": {
    "id": "apMjaCbXLgmG"
   },
   "outputs": [],
   "source": [
    "a={}\n",
    "print(type(a))"
   ]
  },
  {
   "cell_type": "code",
   "execution_count": null,
   "metadata": {
    "id": "SWfEp-YsOMgo"
   },
   "outputs": [],
   "source": [
    "dict1={\"A\":1,\"B\":2}\n",
    "print(dict1)"
   ]
  },
  {
   "cell_type": "code",
   "execution_count": null,
   "metadata": {
    "id": "G5eiHyP0Oa7P"
   },
   "outputs": [],
   "source": [
    "dict2={\"A\":1,\"B\":2,\"A\":10}    # will take the last value, if you have duplcate keys\n",
    "print(dict2)"
   ]
  },
  {
   "cell_type": "code",
   "execution_count": null,
   "metadata": {
    "id": "Y9z-kAqVOv2s"
   },
   "outputs": [],
   "source": [
    "dict2={\"A\":1,\"B\":2,\"a\":10}     #keys are case sensitive, A and a are considered as different keys\n",
    "print(dict2)"
   ]
  },
  {
   "cell_type": "code",
   "execution_count": null,
   "metadata": {
    "id": "cqPDUCi5PIC9"
   },
   "outputs": [],
   "source": [
    "dict3 ={(1,2):1,\"abc\":20, 12.6:\"A\"}\n",
    "print(dict3)"
   ]
  },
  {
   "cell_type": "code",
   "execution_count": null,
   "metadata": {
    "id": "3DqVhKo5PYlZ"
   },
   "outputs": [],
   "source": [
    "dict3[12.6]"
   ]
  },
  {
   "cell_type": "code",
   "execution_count": null,
   "metadata": {
    "id": "4Hv4s_HNPjnJ"
   },
   "outputs": [],
   "source": [
    "dict4 = { \"A\":1,\n",
    "         \"B\":2,\n",
    "         \"C\":{\"A\":10,\"B\":20}\n",
    "    }"
   ]
  },
  {
   "cell_type": "code",
   "execution_count": null,
   "metadata": {
    "id": "knAMkvPGP3up"
   },
   "outputs": [],
   "source": [
    "dict4[\"C\"][\"B\"]"
   ]
  },
  {
   "cell_type": "code",
   "execution_count": null,
   "metadata": {
    "id": "kT_Rl_A0Qntz"
   },
   "outputs": [],
   "source": [
    "dict4.keys()"
   ]
  },
  {
   "cell_type": "code",
   "execution_count": null,
   "metadata": {
    "id": "mJKQhcBkQxGw"
   },
   "outputs": [],
   "source": [
    "dict4.values()"
   ]
  },
  {
   "cell_type": "code",
   "execution_count": null,
   "metadata": {
    "id": "RctSm-4FRmEr"
   },
   "outputs": [],
   "source": [
    "dict5={\"A\":1, \"B\":2, \"C\":3, \"D\":4, \"E\":5}"
   ]
  },
  {
   "cell_type": "code",
   "execution_count": null,
   "metadata": {
    "id": "VeHJU5hBR2od"
   },
   "outputs": [],
   "source": [
    "print(dir(dict5))"
   ]
  },
  {
   "cell_type": "code",
   "execution_count": null,
   "metadata": {
    "id": "zLcmGF0qR7kr"
   },
   "outputs": [],
   "source": [
    "dict5.pop(\"C\")"
   ]
  },
  {
   "cell_type": "code",
   "execution_count": null,
   "metadata": {
    "id": "tkKBsKBOSRVk"
   },
   "outputs": [],
   "source": [
    "dict5"
   ]
  },
  {
   "cell_type": "code",
   "execution_count": null,
   "metadata": {
    "id": "s_sx2_GWSWzt"
   },
   "outputs": [],
   "source": [
    "dict5.pop(\"Z\",\"Key is not present\")"
   ]
  },
  {
   "cell_type": "code",
   "execution_count": null,
   "metadata": {
    "id": "P3lZu-SPSjr6"
   },
   "outputs": [],
   "source": [
    "dict5.pop(\"A\",\"Key is not present\")"
   ]
  },
  {
   "cell_type": "code",
   "execution_count": null,
   "metadata": {
    "id": "RCWs8KlRSmGI"
   },
   "outputs": [],
   "source": [
    "dict5"
   ]
  },
  {
   "cell_type": "code",
   "execution_count": null,
   "metadata": {
    "id": "B99oWCDFS8J_"
   },
   "outputs": [],
   "source": [
    "print(dict5.popitem())\n",
    "print(dict5)"
   ]
  },
  {
   "cell_type": "code",
   "execution_count": null,
   "metadata": {
    "id": "uaUpgDdjTVKS"
   },
   "outputs": [],
   "source": [
    "dict5={\"A\":1, \"B\":2, \"C\":3, \"D\":4, \"E\":5}"
   ]
  },
  {
   "cell_type": "code",
   "execution_count": null,
   "metadata": {
    "id": "B62Oxm1YTdDy"
   },
   "outputs": [],
   "source": [
    "del dict5[\"D\"]\n",
    "dict5"
   ]
  },
  {
   "cell_type": "code",
   "execution_count": null,
   "metadata": {
    "id": "fwxgZvvKTqgG"
   },
   "outputs": [],
   "source": [
    "del dict5[\"D\"]"
   ]
  },
  {
   "cell_type": "code",
   "execution_count": null,
   "metadata": {
    "id": "MOhcN-BITzE7"
   },
   "outputs": [],
   "source": [
    "dict6 ={\"Name\": \"Ram\" ,\"Age\":7 , \"Class\" : \"First\" }\n",
    "print(dict6[\"Age\"])\n"
   ]
  },
  {
   "cell_type": "code",
   "execution_count": null,
   "metadata": {
    "id": "tOOI6b_LUIdy"
   },
   "outputs": [],
   "source": [
    "dict6[\"Age\"] =8\n",
    "dict6[\"school\"] = \"Baldwins school\""
   ]
  },
  {
   "cell_type": "code",
   "execution_count": null,
   "metadata": {
    "id": "AuX4osvnUTxD"
   },
   "outputs": [],
   "source": [
    "dict6"
   ]
  },
  {
   "cell_type": "code",
   "execution_count": null,
   "metadata": {
    "id": "7KHw7B30Ubkf"
   },
   "outputs": [],
   "source": [
    "del dict6[\"Age\"]"
   ]
  },
  {
   "cell_type": "code",
   "execution_count": null,
   "metadata": {
    "id": "TZsM5j74Ty6O"
   },
   "outputs": [],
   "source": [
    "dict6"
   ]
  },
  {
   "cell_type": "code",
   "execution_count": null,
   "metadata": {
    "id": "a8oS704iUiiw"
   },
   "outputs": [],
   "source": [
    "print(dict6[\"Age\"])"
   ]
  },
  {
   "cell_type": "code",
   "execution_count": null,
   "metadata": {
    "id": "11O5b7QIUoAu"
   },
   "outputs": [],
   "source": [
    "dict6"
   ]
  },
  {
   "cell_type": "code",
   "execution_count": null,
   "metadata": {
    "id": "Ajy94SGOUqRd"
   },
   "outputs": [],
   "source": [
    "dict6.clear()"
   ]
  },
  {
   "cell_type": "code",
   "execution_count": null,
   "metadata": {
    "id": "OjSWMdqdUteq"
   },
   "outputs": [],
   "source": [
    "dict6"
   ]
  },
  {
   "cell_type": "code",
   "execution_count": null,
   "metadata": {
    "id": "buzZtIWtUwVN"
   },
   "outputs": [],
   "source": [
    "del dict6"
   ]
  },
  {
   "cell_type": "code",
   "execution_count": null,
   "metadata": {
    "id": "I4wCo_TbUy-s"
   },
   "outputs": [],
   "source": [
    "dict6"
   ]
  },
  {
   "cell_type": "code",
   "execution_count": null,
   "metadata": {
    "colab": {
     "base_uri": "https://localhost:8080/"
    },
    "id": "cLrr1xUYk8Tz",
    "outputId": "b2e17945-410a-4579-de91-b0abdcf41061"
   },
   "outputs": [],
   "source": [
    "mydict = {\n",
    "    \"brand\":\"Ford\",\n",
    "    \"model\": \"mustang\",\n",
    "    \"year\":\"1964\"\n",
    "}\n",
    "print(mydict)"
   ]
  },
  {
   "cell_type": "code",
   "execution_count": null,
   "metadata": {
    "colab": {
     "base_uri": "https://localhost:8080/"
    },
    "id": "nh43JX0albyx",
    "outputId": "71f12fef-c175-46cb-a5c4-e9e86ed618e0"
   },
   "outputs": [],
   "source": [
    "for x in mydict:\n",
    "  print(x,'=>',mydict[x])"
   ]
  },
  {
   "cell_type": "code",
   "execution_count": null,
   "metadata": {
    "colab": {
     "base_uri": "https://localhost:8080/"
    },
    "id": "OughFkTQl7Xv",
    "outputId": "672f4550-475a-408f-fc95-f42c04ee8bc3"
   },
   "outputs": [],
   "source": [
    "dict1=mydict.copy()\n",
    "dict1"
   ]
  },
  {
   "cell_type": "code",
   "execution_count": null,
   "metadata": {
    "colab": {
     "base_uri": "https://localhost:8080/"
    },
    "id": "tAduuZAOmEeN",
    "outputId": "d9939bca-6f61-4fe5-b965-f05d5eeb357d"
   },
   "outputs": [],
   "source": [
    "child1 = {\n",
    "    \"Name\":\"Puspendra\",\n",
    "    \"doy\" :2000\n",
    "    }\n",
    "child2 = {\n",
    "    \"Name\":\"Karthik\",\n",
    "    \"doy\" :1990\n",
    "}\n",
    "child3 = {\n",
    "    \"Name\":\"Sonal\",\n",
    "    \"doy\" :2001\n",
    "}\n",
    "cousins={\n",
    "    \"child1_K\":child1,\n",
    "    \"child2_K\":child2,\n",
    "    \"child3_K\":child3\n",
    "\n",
    "}\n",
    "\n",
    "print(cousins)"
   ]
  },
  {
   "attachments": {},
   "cell_type": "markdown",
   "metadata": {
    "id": "NYfk-T0_nMwx"
   },
   "source": [
    "***\n",
    "# Sets"
   ]
  },
  {
   "cell_type": "code",
   "execution_count": null,
   "metadata": {
    "colab": {
     "base_uri": "https://localhost:8080/"
    },
    "id": "dypee10knVwl",
    "outputId": "36240689-082d-4ddb-bd8b-e1ec331fc30d"
   },
   "outputs": [],
   "source": [
    "fruits1={\"Orange\",\"mango\",\"grapes\"}\n",
    "fruits2 = set((\"apple\",\"banana\",\"Cherry\",\"apple\"))\n",
    "print(fruits2)"
   ]
  },
  {
   "cell_type": "code",
   "execution_count": null,
   "metadata": {
    "colab": {
     "base_uri": "https://localhost:8080/"
    },
    "id": "nkgRlO1On5Lp",
    "outputId": "69a54ef9-a81c-4432-8b2c-b5d9ddfde18e"
   },
   "outputs": [],
   "source": [
    "a=(\"apple\",\"banana\",\"Cherry\",\"apple\")\n",
    "type(a)"
   ]
  },
  {
   "cell_type": "code",
   "execution_count": null,
   "metadata": {
    "colab": {
     "base_uri": "https://localhost:8080/"
    },
    "id": "Idy8Ch-2oIBR",
    "outputId": "5c6925a5-3d0f-4ce5-9e3f-870eaf21edf9"
   },
   "outputs": [],
   "source": [
    "for x in fruits2:\n",
    "  print(x)"
   ]
  },
  {
   "cell_type": "code",
   "execution_count": null,
   "metadata": {
    "colab": {
     "base_uri": "https://localhost:8080/"
    },
    "id": "72ST8SeroZSR",
    "outputId": "a2db46c9-11fc-4751-d6ab-3e4f33e3bbb1"
   },
   "outputs": [],
   "source": [
    "print(\"banana\" in fruits2)"
   ]
  },
  {
   "cell_type": "code",
   "execution_count": null,
   "metadata": {
    "colab": {
     "base_uri": "https://localhost:8080/"
    },
    "id": "WJ7W1Z7QohyX",
    "outputId": "f36709f0-18da-4f9b-fc4f-1d77b55a2d0d"
   },
   "outputs": [],
   "source": [
    "print(\"Orange\" not in fruits2)"
   ]
  },
  {
   "cell_type": "code",
   "execution_count": null,
   "metadata": {
    "id": "UYgH8ou1o8aT"
   },
   "outputs": [],
   "source": [
    "fruits2 = {'Cherry', 'apple', 'banana',\"grapes\"}"
   ]
  },
  {
   "cell_type": "code",
   "execution_count": null,
   "metadata": {
    "colab": {
     "base_uri": "https://localhost:8080/"
    },
    "id": "JaBg_YUfopoG",
    "outputId": "e7d5afb6-ad8d-402f-b311-8ff1abe061ec"
   },
   "outputs": [],
   "source": [
    "print(fruits1)\n",
    "print(fruits2)\n",
    "union_set = fruits1.union(fruits2)\n",
    "union_set"
   ]
  },
  {
   "cell_type": "code",
   "execution_count": null,
   "metadata": {
    "colab": {
     "base_uri": "https://localhost:8080/"
    },
    "id": "NeOegZMIpaxD",
    "outputId": "289e81bb-534b-410c-bc5d-9557ecede218"
   },
   "outputs": [],
   "source": [
    "intersection_set = fruits1.intersection(fruits2)\n",
    "intersection_set"
   ]
  },
  {
   "cell_type": "code",
   "execution_count": null,
   "metadata": {
    "colab": {
     "base_uri": "https://localhost:8080/"
    },
    "id": "hREjbOmzpzDj",
    "outputId": "5b8dde5f-832d-4eef-948a-088b4126bebb"
   },
   "outputs": [],
   "source": [
    "fruits2"
   ]
  },
  {
   "cell_type": "code",
   "execution_count": null,
   "metadata": {
    "colab": {
     "base_uri": "https://localhost:8080/",
     "height": 165
    },
    "id": "1a5RnVqap3js",
    "outputId": "4c096f38-20ea-41cc-c33f-6e397e98153e"
   },
   "outputs": [],
   "source": [
    "fruits2[1]=\"oranges\""
   ]
  },
  {
   "cell_type": "code",
   "execution_count": null,
   "metadata": {
    "colab": {
     "base_uri": "https://localhost:8080/"
    },
    "id": "Ad6U4LvjqD7k",
    "outputId": "eda9d3fd-82ea-4052-f176-0d22304028f3"
   },
   "outputs": [],
   "source": [
    "type(fruits2)"
   ]
  },
  {
   "attachments": {},
   "cell_type": "markdown",
   "metadata": {
    "id": "Q-RrK4-WvPjp"
   },
   "source": [
    "# Date & Time"
   ]
  },
  {
   "cell_type": "code",
   "execution_count": 40,
   "metadata": {
    "colab": {
     "base_uri": "https://localhost:8080/"
    },
    "id": "kykT8xHevO6D",
    "outputId": "1fe05aea-e793-452c-a2cd-8d0bd9e88504"
   },
   "outputs": [
    {
     "name": "stdout",
     "output_type": "stream",
     "text": [
      "Number of ticks since Jan 1 1970, 12AM 1733379927.2605376\n"
     ]
    }
   ],
   "source": [
    "import time\n",
    "ticks = time.time()\n",
    "print(\"Number of ticks since Jan 1 1970, 12AM\", ticks)"
   ]
  },
  {
   "cell_type": "code",
   "execution_count": null,
   "metadata": {
    "colab": {
     "base_uri": "https://localhost:8080/"
    },
    "id": "CM7pKnLov1Ta",
    "outputId": "f9b972e6-d5ad-460b-e8a8-813466440fcd"
   },
   "outputs": [],
   "source": [
    "import time\n",
    "ticks = time.time()\n",
    "print(\"Number of ticks since Jan 1 1970, 12AM\", ticks)"
   ]
  },
  {
   "cell_type": "code",
   "execution_count": 41,
   "metadata": {
    "colab": {
     "base_uri": "https://localhost:8080/"
    },
    "id": "sB7Yua4OwABs",
    "outputId": "983d360b-882e-47e5-aa58-6b98e286366f"
   },
   "outputs": [
    {
     "name": "stdout",
     "output_type": "stream",
     "text": [
      "Local Current time time.struct_time(tm_year=2024, tm_mon=12, tm_mday=5, tm_hour=11, tm_min=55, tm_sec=42, tm_wday=3, tm_yday=340, tm_isdst=0)\n"
     ]
    }
   ],
   "source": [
    "localtime = time.localtime(time.time())\n",
    "print(\"Local Current time\",localtime)"
   ]
  },
  {
   "cell_type": "code",
   "execution_count": 42,
   "metadata": {
    "colab": {
     "base_uri": "https://localhost:8080/"
    },
    "id": "KTnDJa8twfAw",
    "outputId": "a1ae3e24-7550-4c1b-9401-e088b2174a5f"
   },
   "outputs": [
    {
     "name": "stdout",
     "output_type": "stream",
     "text": [
      "Local Current time Thu Dec  5 11:56:23 2024\n"
     ]
    }
   ],
   "source": [
    "localtime = time.asctime(time.localtime(time.time()))\n",
    "print(\"Local Current time\",localtime)"
   ]
  },
  {
   "cell_type": "code",
   "execution_count": 43,
   "metadata": {
    "colab": {
     "base_uri": "https://localhost:8080/"
    },
    "id": "0Xvn6agpw24z",
    "outputId": "75eb4143-0be8-4612-9d4c-d62988c88790"
   },
   "outputs": [
    {
     "name": "stdout",
     "output_type": "stream",
     "text": [
      "Seconds 1644314242.0\n",
      "Formatted time Tue Feb  8 15:27:22 2022\n"
     ]
    }
   ],
   "source": [
    "t=(2022,2,8,15,27,22,4,39,1)\n",
    "secs=time.mktime(t)\n",
    "print(\"Seconds\",secs)\n",
    "print(\"Formatted time\",time.asctime(time.localtime(secs)))"
   ]
  },
  {
   "cell_type": "code",
   "execution_count": 44,
   "metadata": {
    "colab": {
     "base_uri": "https://localhost:8080/"
    },
    "id": "40SjbYsD1u-s",
    "outputId": "492d0fa3-8e97-4287-b521-0b02dca972b2"
   },
   "outputs": [
    {
     "name": "stdout",
     "output_type": "stream",
     "text": [
      "   February 2022\n",
      "Mo Tu We Th Fr Sa Su\n",
      "    1  2  3  4  5  6\n",
      " 7  8  9 10 11 12 13\n",
      "14 15 16 17 18 19 20\n",
      "21 22 23 24 25 26 27\n",
      "28\n",
      "\n"
     ]
    }
   ],
   "source": [
    "import calendar\n",
    "cal = calendar.month(2022,2)\n",
    "print(cal)"
   ]
  },
  {
   "cell_type": "code",
   "execution_count": 45,
   "metadata": {
    "colab": {
     "base_uri": "https://localhost:8080/"
    },
    "id": "9Ishj4NJ3Rhj",
    "outputId": "a8f1c6f4-57a8-4fa4-cae1-41128f199dda"
   },
   "outputs": [
    {
     "name": "stdout",
     "output_type": "stream",
     "text": [
      "                                  2022\n",
      "\n",
      "      January                   February                   March\n",
      "Mo Tu We Th Fr Sa Su      Mo Tu We Th Fr Sa Su      Mo Tu We Th Fr Sa Su\n",
      "                1  2          1  2  3  4  5  6          1  2  3  4  5  6\n",
      " 3  4  5  6  7  8  9       7  8  9 10 11 12 13       7  8  9 10 11 12 13\n",
      "10 11 12 13 14 15 16      14 15 16 17 18 19 20      14 15 16 17 18 19 20\n",
      "17 18 19 20 21 22 23      21 22 23 24 25 26 27      21 22 23 24 25 26 27\n",
      "24 25 26 27 28 29 30      28                        28 29 30 31\n",
      "31\n",
      "\n",
      "       April                      May                       June\n",
      "Mo Tu We Th Fr Sa Su      Mo Tu We Th Fr Sa Su      Mo Tu We Th Fr Sa Su\n",
      "             1  2  3                         1             1  2  3  4  5\n",
      " 4  5  6  7  8  9 10       2  3  4  5  6  7  8       6  7  8  9 10 11 12\n",
      "11 12 13 14 15 16 17       9 10 11 12 13 14 15      13 14 15 16 17 18 19\n",
      "18 19 20 21 22 23 24      16 17 18 19 20 21 22      20 21 22 23 24 25 26\n",
      "25 26 27 28 29 30         23 24 25 26 27 28 29      27 28 29 30\n",
      "                          30 31\n",
      "\n",
      "        July                     August                  September\n",
      "Mo Tu We Th Fr Sa Su      Mo Tu We Th Fr Sa Su      Mo Tu We Th Fr Sa Su\n",
      "             1  2  3       1  2  3  4  5  6  7                1  2  3  4\n",
      " 4  5  6  7  8  9 10       8  9 10 11 12 13 14       5  6  7  8  9 10 11\n",
      "11 12 13 14 15 16 17      15 16 17 18 19 20 21      12 13 14 15 16 17 18\n",
      "18 19 20 21 22 23 24      22 23 24 25 26 27 28      19 20 21 22 23 24 25\n",
      "25 26 27 28 29 30 31      29 30 31                  26 27 28 29 30\n",
      "\n",
      "      October                   November                  December\n",
      "Mo Tu We Th Fr Sa Su      Mo Tu We Th Fr Sa Su      Mo Tu We Th Fr Sa Su\n",
      "                1  2          1  2  3  4  5  6                1  2  3  4\n",
      " 3  4  5  6  7  8  9       7  8  9 10 11 12 13       5  6  7  8  9 10 11\n",
      "10 11 12 13 14 15 16      14 15 16 17 18 19 20      12 13 14 15 16 17 18\n",
      "17 18 19 20 21 22 23      21 22 23 24 25 26 27      19 20 21 22 23 24 25\n",
      "24 25 26 27 28 29 30      28 29 30                  26 27 28 29 30 31\n",
      "31\n",
      "\n"
     ]
    }
   ],
   "source": [
    "print(calendar.calendar(2022))"
   ]
  },
  {
   "cell_type": "code",
   "execution_count": 49,
   "metadata": {
    "colab": {
     "base_uri": "https://localhost:8080/"
    },
    "id": "1DbZCtU43cxX",
    "outputId": "7d11631d-9496-49af-9937-61ee49c5b00e"
   },
   "outputs": [
    {
     "data": {
      "text/plain": [
       "6"
      ]
     },
     "execution_count": 49,
     "metadata": {},
     "output_type": "execute_result"
    }
   ],
   "source": [
    "calendar.firstweekday()"
   ]
  },
  {
   "cell_type": "code",
   "execution_count": 47,
   "metadata": {
    "id": "OxgkQLCE38qT"
   },
   "outputs": [],
   "source": [
    "calendar.setfirstweekday(6)"
   ]
  },
  {
   "cell_type": "code",
   "execution_count": 48,
   "metadata": {
    "colab": {
     "base_uri": "https://localhost:8080/"
    },
    "id": "rZBEZoUj4els",
    "outputId": "f1367423-e647-4253-b88d-1309095c035a"
   },
   "outputs": [
    {
     "data": {
      "text/plain": [
       "False"
      ]
     },
     "execution_count": 48,
     "metadata": {},
     "output_type": "execute_result"
    }
   ],
   "source": [
    "calendar.isleap(2022)"
   ]
  },
  {
   "attachments": {},
   "cell_type": "markdown",
   "metadata": {
    "id": "2CO4N7I19LX5"
   },
   "source": [
    "# Functions"
   ]
  },
  {
   "cell_type": "code",
   "execution_count": null,
   "metadata": {
    "id": "ipM3pgfL9OkR"
   },
   "outputs": [],
   "source": [
    "#Function Defnition\n",
    "\n",
    "def printstr(str):\n",
    "  \"This function prints the string the passed into the function\"\n",
    "  \n",
    "  print(str)\n",
    "  \n",
    "  return None"
   ]
  },
  {
   "cell_type": "code",
   "execution_count": 64,
   "metadata": {
    "colab": {
     "base_uri": "https://localhost:8080/"
    },
    "id": "ShWet4qO9oSR",
    "outputId": "59740851-1ae9-4f06-8556-80948e1355dd"
   },
   "outputs": [
    {
     "name": "stdout",
     "output_type": "stream",
     "text": [
      "Welcome to the Concept of Functions\n"
     ]
    }
   ],
   "source": [
    "#Function call\n",
    "printstr(\"Welcome to the Concept of Functions\")"
   ]
  },
  {
   "cell_type": "code",
   "execution_count": 65,
   "metadata": {
    "colab": {
     "base_uri": "https://localhost:8080/"
    },
    "id": "itNpSDle-AaU",
    "outputId": "7691fc92-365c-4f6f-843d-dda23c1c0810"
   },
   "outputs": [
    {
     "name": "stdout",
     "output_type": "stream",
     "text": [
      "This function prints the string the passed into the function\n"
     ]
    }
   ],
   "source": [
    "print(printstr.__doc__)"
   ]
  },
  {
   "cell_type": "code",
   "execution_count": 66,
   "metadata": {
    "colab": {
     "base_uri": "https://localhost:8080/"
    },
    "id": "xLh0xX_P-Zo-",
    "outputId": "8568c62c-acd7-424d-f03c-e6316a9f5696"
   },
   "outputs": [
    {
     "name": "stdout",
     "output_type": "stream",
     "text": [
      "This module provides access to the mathematical functions\n",
      "defined by the C standard.\n",
      "Return the square root of x.\n"
     ]
    }
   ],
   "source": [
    "import math\n",
    "print(math.__doc__)\n",
    "print(math.sqrt.__doc__)"
   ]
  },
  {
   "cell_type": "code",
   "execution_count": 76,
   "metadata": {
    "colab": {
     "base_uri": "https://localhost:8080/"
    },
    "id": "1wRBQHN9_2OC",
    "outputId": "10b7a291-bea8-490e-e753-2c31b5a011e5"
   },
   "outputs": [
    {
     "name": "stdout",
     "output_type": "stream",
     "text": [
      "Numbers inside the fun 150 and 250\n",
      "400\n",
      "150\n",
      "250\n"
     ]
    }
   ],
   "source": [
    "number1 =15\n",
    "number2 =25\n",
    "\n",
    "def multiply_and_add():\n",
    "  global number1,number2\n",
    "  number1 = number1*10\n",
    "  number2 = number2*10\n",
    "  print(f\"Numbers inside the fun {number1} and {number2}\")\n",
    "  return number1+number2\n",
    "\n",
    "sum=multiply_and_add()\n",
    "print(sum)\n",
    "print(number1)\n",
    "print(number2)  "
   ]
  },
  {
   "cell_type": "code",
   "execution_count": 72,
   "metadata": {
    "colab": {
     "base_uri": "https://localhost:8080/"
    },
    "id": "Ongxz1eaA4ht",
    "outputId": "9316188f-efb0-43b5-a618-06c1242ba4eb"
   },
   "outputs": [
    {
     "name": "stdout",
     "output_type": "stream",
     "text": [
      "values Before passing to  the function [10, 20, 30]\n",
      "values inside the function [10, 20, 30, [40, 50]]\n",
      "values After passing to  the function [10, 20, 30, [40, 50]]\n"
     ]
    }
   ],
   "source": [
    "def changelist(mylist):\n",
    "  \n",
    "  # mylist[0]=100\n",
    "  mylist.append([40,50])\n",
    "  print(\"values inside the function\",mylist)\n",
    "  return\n",
    "\n",
    "\n",
    "mylist=[10,20,30]\n",
    "print(\"values Before passing to  the function\",mylist)\n",
    "changelist(mylist)\n",
    "print(\"values After passing to  the function\",mylist)\n"
   ]
  },
  {
   "cell_type": "markdown",
   "metadata": {
    "id": "b7AMDxYxD4i_"
   },
   "source": [
    "Arguments\n",
    "\n",
    "\n",
    "*   Required Argument\n",
    "*   List item\n",
    "\n"
   ]
  },
  {
   "cell_type": "code",
   "execution_count": 80,
   "metadata": {
    "colab": {
     "base_uri": "https://localhost:8080/"
    },
    "id": "NdwYVIgeD-C0",
    "outputId": "a1bbcc20-9494-4d0d-fd95-fce5e28ff2ac"
   },
   "outputs": [
    {
     "name": "stdout",
     "output_type": "stream",
     "text": [
      "Hello Python\n"
     ]
    }
   ],
   "source": [
    "#Required Argument\n",
    "def printstr(str=\"Hello\"):\n",
    "  print(str)\n",
    "  return\n",
    "\n",
    "printstr(\"Hello Python\")"
   ]
  },
  {
   "cell_type": "code",
   "execution_count": 82,
   "metadata": {
    "colab": {
     "base_uri": "https://localhost:8080/",
     "height": 200
    },
    "id": "ULgVsBejEcB1",
    "outputId": "1a5dcb19-0f66-4cd6-c7a5-26eef737dc68"
   },
   "outputs": [
    {
     "name": "stdout",
     "output_type": "stream",
     "text": [
      "Name Raju\n",
      "age 20\n"
     ]
    }
   ],
   "source": [
    "def info(name,age=20):\n",
    "  print(\"Name\",name)\n",
    "  print(\"age\",age)\n",
    "  return\n",
    "\n",
    "info(name=\"Raju\")\n"
   ]
  },
  {
   "cell_type": "code",
   "execution_count": 83,
   "metadata": {
    "colab": {
     "base_uri": "https://localhost:8080/"
    },
    "id": "iwBHgTqvE7R2",
    "outputId": "75e32202-56a6-40be-c0f5-82ef63063ccc"
   },
   "outputs": [
    {
     "name": "stdout",
     "output_type": "stream",
     "text": [
      "Name 35\n",
      "age raju\n"
     ]
    }
   ],
   "source": [
    "info(35,\"raju\")"
   ]
  },
  {
   "cell_type": "markdown",
   "metadata": {
    "id": "mZ8SDOyQFNxF"
   },
   "source": [
    "Default Argument"
   ]
  },
  {
   "cell_type": "code",
   "execution_count": 85,
   "metadata": {
    "colab": {
     "base_uri": "https://localhost:8080/"
    },
    "id": "S6qIN4adFQcN",
    "outputId": "8036fffe-44f3-42d7-a7d7-419f8381c825"
   },
   "outputs": [
    {
     "name": "stdout",
     "output_type": "stream",
     "text": [
      "Name Kumar\n",
      "Age 25\n"
     ]
    }
   ],
   "source": [
    "def info1(name,age=35):\n",
    "  print(\"Name\",name)\n",
    "  print(\"Age\",age)\n",
    "  return\n",
    "\n",
    "info1(\"Kumar\",25)"
   ]
  },
  {
   "cell_type": "code",
   "execution_count": null,
   "metadata": {
    "colab": {
     "base_uri": "https://localhost:8080/"
    },
    "id": "GLJJS-FfFlCM",
    "outputId": "ed194f3f-6d4e-40b3-d7f3-84c89c1bb075"
   },
   "outputs": [],
   "source": [
    "info1(name=\"Kruthi\")"
   ]
  },
  {
   "cell_type": "markdown",
   "metadata": {
    "id": "2vlXapWqF8HZ"
   },
   "source": [
    "Variable length Argument"
   ]
  },
  {
   "cell_type": "code",
   "execution_count": 87,
   "metadata": {
    "colab": {
     "base_uri": "https://localhost:8080/"
    },
    "id": "mLbP71B3F_G3",
    "outputId": "ef485855-882b-4c93-a997-88c6c3a41d9c"
   },
   "outputs": [
    {
     "name": "stdout",
     "output_type": "stream",
     "text": [
      "3\n",
      "Sum is:  12\n"
     ]
    }
   ],
   "source": [
    "def mysum(*args):\n",
    "  result=0\n",
    "  for x in args:\n",
    "    result += x\n",
    "  return result\n",
    "\n",
    "\n",
    "print(mysum(1,2))\n",
    "print(\"Sum is: \", mysum(1,2,4,5))"
   ]
  },
  {
   "cell_type": "code",
   "execution_count": 89,
   "metadata": {},
   "outputs": [
    {
     "name": "stdout",
     "output_type": "stream",
     "text": [
      "a 10\n",
      "single_item 1\n",
      "single_item a\n",
      "single_item 3\n",
      "Jack 1123\n",
      "John 2231\n",
      "Inge 1560\n"
     ]
    }
   ],
   "source": [
    "def total(a=5, *numbers, **phonebook):\n",
    "    print('a', a)\n",
    "\n",
    "    #iterate through all the items in tuple\n",
    "    for single_item in numbers:\n",
    "        print('single_item', single_item)\n",
    "\n",
    "    #iterate through all the items in dictionary    \n",
    "    for first_part, second_part in phonebook.items():\n",
    "        print(first_part,second_part)\n",
    "\n",
    "total(10,1,'a',3,Jack=1123,John=2231,Inge=1560)"
   ]
  },
  {
   "cell_type": "code",
   "execution_count": 90,
   "metadata": {
    "colab": {
     "base_uri": "https://localhost:8080/"
    },
    "id": "xKY1iEHuHiio",
    "outputId": "f4e463eb-82e8-4929-fcf2-182ea1124072"
   },
   "outputs": [
    {
     "name": "stdout",
     "output_type": "stream",
     "text": [
      "125\n",
      "125\n"
     ]
    }
   ],
   "source": [
    "def cube(y):\n",
    "  return y*y*y\n",
    "\n",
    "lambda_cube = lambda y: y*y*y\n",
    "\n",
    "print(cube(5))\n",
    "print(lambda_cube(5))"
   ]
  },
  {
   "cell_type": "code",
   "execution_count": 96,
   "metadata": {},
   "outputs": [
    {
     "data": {
      "text/plain": [
       "[0, 1, 2, 3, 4, 5]"
      ]
     },
     "execution_count": 96,
     "metadata": {},
     "output_type": "execute_result"
    }
   ],
   "source": [
    "lmax = lambda x: [i for i in range(x)]\n",
    "lmax(6)"
   ]
  },
  {
   "attachments": {},
   "cell_type": "markdown",
   "metadata": {},
   "source": [
    "Retrun Statement"
   ]
  },
  {
   "cell_type": "code",
   "execution_count": 100,
   "metadata": {},
   "outputs": [
    {
     "name": "stdout",
     "output_type": "stream",
     "text": [
      "9\n"
     ]
    }
   ],
   "source": [
    "def maximum(x, y):\n",
    "    if x > y:\n",
    "        return x\n",
    "    elif x == y:\n",
    "        return 'The numbers are equal'\n",
    "    else:\n",
    "        return y\n",
    "\n",
    "print(maximum(3, 9))"
   ]
  },
  {
   "attachments": {},
   "cell_type": "markdown",
   "metadata": {
    "id": "m6NhlJ7ttmax"
   },
   "source": [
    "# Input Output"
   ]
  },
  {
   "cell_type": "code",
   "execution_count": 101,
   "metadata": {
    "colab": {
     "base_uri": "https://localhost:8080/"
    },
    "id": "heaNNz5-tpSv",
    "outputId": "0edc1a82-5ff3-445b-e7da-909b28c000d4"
   },
   "outputs": [],
   "source": [
    "str=input(\"enter your Name\")"
   ]
  },
  {
   "cell_type": "code",
   "execution_count": 102,
   "metadata": {
    "colab": {
     "base_uri": "https://localhost:8080/",
     "height": 35
    },
    "id": "FpM9rhott0sd",
    "outputId": "d693776c-cf42-4012-c6b3-2672617beacf"
   },
   "outputs": [
    {
     "data": {
      "text/plain": [
       "'8'"
      ]
     },
     "execution_count": 102,
     "metadata": {},
     "output_type": "execute_result"
    }
   ],
   "source": [
    "str"
   ]
  },
  {
   "cell_type": "code",
   "execution_count": 103,
   "metadata": {
    "colab": {
     "base_uri": "https://localhost:8080/"
    },
    "id": "O4k38om9t493",
    "outputId": "235373d0-288d-443b-9f51-0eab81b8ddb3"
   },
   "outputs": [
    {
     "name": "stdout",
     "output_type": "stream",
     "text": [
      "Number of boys 4\n",
      "Number of girls 5\n"
     ]
    },
    {
     "data": {
      "text/plain": [
       "str"
      ]
     },
     "execution_count": 103,
     "metadata": {},
     "output_type": "execute_result"
    }
   ],
   "source": [
    "x,y=input(\"Enter the num of boys and girls in the class\").split()\n",
    "print(\"Number of boys\",x)\n",
    "print(\"Number of girls\",y)\n",
    "type(x)\n",
    "type(y)"
   ]
  },
  {
   "cell_type": "code",
   "execution_count": 104,
   "metadata": {
    "colab": {
     "base_uri": "https://localhost:8080/"
    },
    "id": "XhejdpQiuVeH",
    "outputId": "b483ecde-6539-4549-df80-956712304a58"
   },
   "outputs": [
    {
     "data": {
      "text/plain": [
       "250.0"
      ]
     },
     "execution_count": 104,
     "metadata": {},
     "output_type": "execute_result"
    }
   ],
   "source": [
    "X_int=int(x)\n",
    "marks = 1000\n",
    "avg = marks/X_int\n",
    "avg\n"
   ]
  },
  {
   "cell_type": "code",
   "execution_count": 105,
   "metadata": {
    "colab": {
     "base_uri": "https://localhost:8080/",
     "height": 35
    },
    "id": "_K-3AZ_-uxDG",
    "outputId": "80420cd9-0894-43bc-e6a5-50775a41313d"
   },
   "outputs": [
    {
     "data": {
      "text/plain": [
       "'4'"
      ]
     },
     "execution_count": 105,
     "metadata": {},
     "output_type": "execute_result"
    }
   ],
   "source": [
    "x"
   ]
  },
  {
   "cell_type": "code",
   "execution_count": null,
   "metadata": {
    "colab": {
     "base_uri": "https://localhost:8080/"
    },
    "id": "kPoWeBGKvp26",
    "outputId": "6a28e0e8-41fb-423a-d5d0-dece4f0f5e6d"
   },
   "outputs": [],
   "source": [
    "a=7\n",
    "b=10\n",
    "print(a,b)"
   ]
  },
  {
   "cell_type": "code",
   "execution_count": 107,
   "metadata": {
    "colab": {
     "base_uri": "https://localhost:8080/"
    },
    "id": "mYpLg2devwd2",
    "outputId": "037d6030-064d-44bb-d7f1-1c77c12423e7"
   },
   "outputs": [
    {
     "name": "stdout",
     "output_type": "stream",
     "text": [
      "Male--Female\n"
     ]
    }
   ],
   "source": [
    "print(\"Male\",\"Female\",sep='--')"
   ]
  },
  {
   "cell_type": "code",
   "execution_count": 109,
   "metadata": {
    "colab": {
     "base_uri": "https://localhost:8080/"
    },
    "id": "s6uNGNvfwEcv",
    "outputId": "33bb19d2-3302-4ce1-b701-d1aad7510442"
   },
   "outputs": [
    {
     "name": "stdout",
     "output_type": "stream",
     "text": [
      "09/02/2022\n"
     ]
    }
   ],
   "source": [
    "print(\"09\",\"02\",\"2022\",sep='/')"
   ]
  },
  {
   "cell_type": "code",
   "execution_count": null,
   "metadata": {
    "colab": {
     "base_uri": "https://localhost:8080/"
    },
    "id": "cR3cmIW6we67",
    "outputId": "8345ac9c-31c1-4bbe-d7ff-3ce52ad645b0"
   },
   "outputs": [],
   "source": [
    "print('{0} {2} {1}'.format('python','course','programming'))"
   ]
  },
  {
   "cell_type": "code",
   "execution_count": null,
   "metadata": {
    "colab": {
     "base_uri": "https://localhost:8080/",
     "height": 182
    },
    "id": "4bkljXqfw8kx",
    "outputId": "cf2f8a03-0b51-467f-cec6-12fa7eba1758"
   },
   "outputs": [],
   "source": [
    "number = '45.2365'\n",
    "print('%d %s %f' %(number,number,number))"
   ]
  },
  {
   "attachments": {},
   "cell_type": "markdown",
   "metadata": {
    "id": "Iw7fxuIl0Cne"
   },
   "source": [
    "# File Handling"
   ]
  },
  {
   "cell_type": "code",
   "execution_count": null,
   "metadata": {
    "id": "PRAyB2yR0MWI"
   },
   "outputs": [],
   "source": [
    "#Write to the file\n",
    "file =open(\"Test.txt\",\"w\")\n",
    "file.write(\"Welcome to KPMG on behalf of cloudthat\")\n",
    "file.close()"
   ]
  },
  {
   "cell_type": "code",
   "execution_count": null,
   "metadata": {
    "colab": {
     "base_uri": "https://localhost:8080/",
     "height": 217
    },
    "id": "l4SCoDwK00ES",
    "outputId": "6a8eb563-030a-433d-dcee-a17369729805"
   },
   "outputs": [],
   "source": [
    "#Read to the file\n",
    "file=open(\"Test.txt\",'r')\n",
    "print(file.read())\n",
    "file.close()"
   ]
  },
  {
   "cell_type": "code",
   "execution_count": null,
   "metadata": {
    "id": "3PcnMPHA1ZVD"
   },
   "outputs": [],
   "source": [
    "file =open(\"Test.txt\",\"a\")\n",
    "file.write(\"\\n Append the next line to the file\")\n",
    "file.close()"
   ]
  },
  {
   "cell_type": "code",
   "execution_count": null,
   "metadata": {
    "id": "oE5vp5_L12gt"
   },
   "outputs": [],
   "source": [
    "import os\n",
    "os.rename(\"Test.txt\", \"Test2.txt\")"
   ]
  },
  {
   "cell_type": "code",
   "execution_count": null,
   "metadata": {
    "id": "wOPKJTa42F-7"
   },
   "outputs": [],
   "source": [
    "os.remove(\"Test2.txt\")"
   ]
  },
  {
   "cell_type": "code",
   "execution_count": null,
   "metadata": {
    "id": "-HPx9d9w2UHF"
   },
   "outputs": [],
   "source": [
    "os.mkdir(\"test_folder\")"
   ]
  },
  {
   "cell_type": "code",
   "execution_count": null,
   "metadata": {
    "colab": {
     "base_uri": "https://localhost:8080/",
     "height": 35
    },
    "id": "gFvtCBzq2bIn",
    "outputId": "a8461143-994b-4432-facb-2e810b4c3b22"
   },
   "outputs": [],
   "source": [
    "os.getcwd()"
   ]
  },
  {
   "cell_type": "code",
   "execution_count": null,
   "metadata": {
    "id": "dpT11M_e2e6i"
   },
   "outputs": [],
   "source": [
    "os.chdir(\"test_folder\")"
   ]
  },
  {
   "cell_type": "code",
   "execution_count": null,
   "metadata": {
    "colab": {
     "base_uri": "https://localhost:8080/",
     "height": 35
    },
    "id": "vTaaAPIf2jpB",
    "outputId": "ab455675-ffc0-4500-fff5-ddbe3457263c"
   },
   "outputs": [],
   "source": [
    "os.getcwd()"
   ]
  },
  {
   "cell_type": "code",
   "execution_count": null,
   "metadata": {
    "id": "IN_GEMbY2owa"
   },
   "outputs": [],
   "source": [
    "os.chdir(\"../\")"
   ]
  },
  {
   "cell_type": "code",
   "execution_count": null,
   "metadata": {
    "colab": {
     "base_uri": "https://localhost:8080/",
     "height": 35
    },
    "id": "3v79jtCA2tL0",
    "outputId": "434ae99c-af86-4ed2-bd9d-b802d117114f"
   },
   "outputs": [],
   "source": [
    "os.getcwd()"
   ]
  },
  {
   "cell_type": "code",
   "execution_count": null,
   "metadata": {
    "id": "V9LSVXgp3TRc"
   },
   "outputs": [],
   "source": [
    "os.rmdir(\"test_folder\")"
   ]
  },
  {
   "attachments": {},
   "cell_type": "markdown",
   "metadata": {
    "id": "pTpAdets6W-A"
   },
   "source": [
    "# Modules"
   ]
  },
  {
   "cell_type": "code",
   "execution_count": 111,
   "metadata": {
    "colab": {
     "base_uri": "https://localhost:8080/"
    },
    "id": "xggH16sh6Y1v",
    "outputId": "10b8e816-39c2-4b14-f290-42bf4af453d9"
   },
   "outputs": [
    {
     "name": "stdout",
     "output_type": "stream",
     "text": [
      "Hello Nikhil\n",
      "Hello Vyshnavi\n"
     ]
    }
   ],
   "source": [
    "def print_func(par):\n",
    "  print (\"Hello\", par)\n",
    "  return\n",
    "\n",
    "print_func(\"Nikhil\")\n",
    "print_func(\"Vyshnavi\")  "
   ]
  },
  {
   "cell_type": "code",
   "execution_count": 1,
   "metadata": {},
   "outputs": [],
   "source": [
    "fun = \"\"\"\n",
    "def sum(a, b):\n",
    "  return a+b\n",
    "  \n",
    "def print_func(par):\n",
    "  print (\"Hello \", par)\n",
    "  return\n",
    "\"\"\""
   ]
  },
  {
   "cell_type": "code",
   "execution_count": 2,
   "metadata": {
    "id": "7Sh7Trpd7ADB"
   },
   "outputs": [],
   "source": [
    "file =open(\"name_print.py\",\"w\")\n",
    "file.write(fun)\n",
    "file.close()"
   ]
  },
  {
   "cell_type": "code",
   "execution_count": 3,
   "metadata": {
    "id": "5Tk0ybMg7wBg"
   },
   "outputs": [],
   "source": [
    "import name_print"
   ]
  },
  {
   "cell_type": "code",
   "execution_count": 4,
   "metadata": {
    "colab": {
     "base_uri": "https://localhost:8080/"
    },
    "id": "we2r0uqV73Ah",
    "outputId": "ed9ec308-8aea-49f7-dd10-2b8d668a162f"
   },
   "outputs": [
    {
     "name": "stdout",
     "output_type": "stream",
     "text": [
      "Hello  Anchal\n"
     ]
    }
   ],
   "source": [
    "name_print.print_func(\"Anchal\")"
   ]
  },
  {
   "cell_type": "code",
   "execution_count": 5,
   "metadata": {},
   "outputs": [
    {
     "data": {
      "text/plain": [
       "30"
      ]
     },
     "execution_count": 5,
     "metadata": {},
     "output_type": "execute_result"
    }
   ],
   "source": [
    "name_print.sum(10,20)"
   ]
  },
  {
   "cell_type": "code",
   "execution_count": null,
   "metadata": {
    "id": "w2z-IDpW8Fgg"
   },
   "outputs": [],
   "source": [
    "file =open(\"fibo.py\",\"w\")\n",
    "file.write(\"def fib(n):\")\n",
    "file.close()"
   ]
  },
  {
   "cell_type": "code",
   "execution_count": 118,
   "metadata": {
    "id": "ChXfJGqZ_dqK"
   },
   "outputs": [
    {
     "ename": "SyntaxError",
     "evalue": "expected ':' (fibo.py, line 1)",
     "output_type": "error",
     "traceback": [
      "Traceback \u001b[1;36m(most recent call last)\u001b[0m:\n",
      "\u001b[0m  File \u001b[0;32m~\\AppData\\Roaming\\Python\\Python312\\site-packages\\IPython\\core\\interactiveshell.py:3553\u001b[0m in \u001b[0;35mrun_code\u001b[0m\n    exec(code_obj, self.user_global_ns, self.user_ns)\u001b[0m\n",
      "\u001b[1;36m  Cell \u001b[1;32mIn[118], line 1\u001b[1;36m\n\u001b[1;33m    import fibo\u001b[1;36m\n",
      "\u001b[1;36m  File \u001b[1;32mc:\\Users\\PankajChoudhary\\OneDrive - CloudThat\\Databricks\\Python\\Python-Basics\\fibo.py:1\u001b[1;36m\u001b[0m\n\u001b[1;33m    def fib(n)\u001b[0m\n\u001b[1;37m              ^\u001b[0m\n\u001b[1;31mSyntaxError\u001b[0m\u001b[1;31m:\u001b[0m expected ':'\n"
     ]
    }
   ],
   "source": [
    "import fibo"
   ]
  },
  {
   "cell_type": "code",
   "execution_count": null,
   "metadata": {
    "colab": {
     "base_uri": "https://localhost:8080/"
    },
    "id": "VwzlYSXaAyZK",
    "outputId": "3a4f950a-bcab-4750-e752-724212692561"
   },
   "outputs": [],
   "source": [
    "fibo.fib(100)"
   ]
  },
  {
   "cell_type": "code",
   "execution_count": null,
   "metadata": {
    "colab": {
     "base_uri": "https://localhost:8080/"
    },
    "id": "5LjH5on5A7EX",
    "outputId": "820ae712-7f2b-4f22-cf86-8de74235a657"
   },
   "outputs": [],
   "source": [
    "fibo.fib2(100)"
   ]
  },
  {
   "cell_type": "code",
   "execution_count": null,
   "metadata": {
    "id": "fqQR6FbeBSKr"
   },
   "outputs": [],
   "source": [
    "from fibo import fib, fib2"
   ]
  },
  {
   "cell_type": "code",
   "execution_count": null,
   "metadata": {
    "colab": {
     "base_uri": "https://localhost:8080/"
    },
    "id": "Vcpo13kCBXGJ",
    "outputId": "ab1f1292-46d8-4b4f-988a-88cddc6c6d82"
   },
   "outputs": [],
   "source": [
    "fib(100)"
   ]
  },
  {
   "cell_type": "code",
   "execution_count": null,
   "metadata": {
    "id": "2Z5n1WXRBiGb"
   },
   "outputs": [],
   "source": [
    "from fibo import *"
   ]
  },
  {
   "cell_type": "code",
   "execution_count": null,
   "metadata": {
    "colab": {
     "base_uri": "https://localhost:8080/"
    },
    "id": "VFhbJWqhCSx1",
    "outputId": "b741d903-d0c8-4df0-f6ee-511f2f916044"
   },
   "outputs": [],
   "source": [
    "import math\n",
    "print(dir(math))"
   ]
  },
  {
   "cell_type": "code",
   "execution_count": null,
   "metadata": {
    "colab": {
     "base_uri": "https://localhost:8080/"
    },
    "id": "JYHON5FbCjiA",
    "outputId": "0f5f18e7-6a6b-46ea-aca4-5cef69de17ba"
   },
   "outputs": [],
   "source": [
    "print(dir(fibo))"
   ]
  },
  {
   "attachments": {},
   "cell_type": "markdown",
   "metadata": {
    "id": "VTkYQej5JDyf"
   },
   "source": [
    "# Exception Handling"
   ]
  },
  {
   "cell_type": "code",
   "execution_count": null,
   "metadata": {
    "colab": {
     "base_uri": "https://localhost:8080/"
    },
    "id": "VqXyg8QBJF5M",
    "outputId": "e77ab70a-a7b4-4011-c884-de755a89e27d"
   },
   "outputs": [],
   "source": [
    "i=0\n",
    "while True:\n",
    "  print(\"Hello world\")\n",
    "  if (i==10):\n",
    "    break\n",
    "  i +=1  "
   ]
  },
  {
   "cell_type": "markdown",
   "metadata": {
    "id": "6qjReqDyLsh4"
   },
   "source": [
    "#Exception Handling"
   ]
  },
  {
   "cell_type": "code",
   "execution_count": null,
   "metadata": {
    "colab": {
     "base_uri": "https://localhost:8080/",
     "height": 165
    },
    "id": "Ttg7_H1hLxI5",
    "outputId": "a893671f-83f6-44e5-99f7-68d0936d6608"
   },
   "outputs": [],
   "source": [
    "4 + demo*3"
   ]
  },
  {
   "cell_type": "code",
   "execution_count": null,
   "metadata": {
    "colab": {
     "base_uri": "https://localhost:8080/",
     "height": 165
    },
    "id": "rrSLImfBL9Op",
    "outputId": "2e67777c-7c1c-49e6-ab29-6c1ec5c8a188"
   },
   "outputs": [],
   "source": [
    "10/0"
   ]
  },
  {
   "cell_type": "code",
   "execution_count": null,
   "metadata": {
    "colab": {
     "base_uri": "https://localhost:8080/",
     "height": 35
    },
    "id": "wauakUBGMCVo",
    "outputId": "914f8005-391e-4e34-ac6a-beeac1af3996"
   },
   "outputs": [],
   "source": [
    "'2' + '3' "
   ]
  },
  {
   "cell_type": "code",
   "execution_count": null,
   "metadata": {
    "colab": {
     "base_uri": "https://localhost:8080/"
    },
    "id": "gneRd6u9MeN5",
    "outputId": "d909c3e4-d1ea-46c1-c22e-7e95ae2f5381"
   },
   "outputs": [],
   "source": [
    "while True:\n",
    "  try:\n",
    "    x=int(input(\"enter the number:\"))\n",
    "    y=10/x\n",
    "    print(y)\n",
    "    break\n",
    "  except ZeroDivisionError:\n",
    "    print(\"enter a valid number greater than 0\")   "
   ]
  },
  {
   "cell_type": "code",
   "execution_count": null,
   "metadata": {
    "colab": {
     "base_uri": "https://localhost:8080/",
     "height": 217
    },
    "id": "V5KsQuWWNPTC",
    "outputId": "77aa1d4a-ed70-4e4d-f566-bb54493df86d"
   },
   "outputs": [],
   "source": [
    "x=int(input(\"enter the number:\"))\n",
    "y=10/x\n",
    "print(y)"
   ]
  },
  {
   "cell_type": "code",
   "execution_count": null,
   "metadata": {
    "colab": {
     "base_uri": "https://localhost:8080/",
     "height": 165
    },
    "id": "i20KRvu8OIpo",
    "outputId": "827d66af-8257-4b00-83c6-fcc8d7de0c8e"
   },
   "outputs": [],
   "source": [
    "aa=bb"
   ]
  },
  {
   "cell_type": "code",
   "execution_count": null,
   "metadata": {
    "id": "hqD1PsrpOly6"
   },
   "outputs": [],
   "source": [
    "bb=10"
   ]
  },
  {
   "cell_type": "code",
   "execution_count": null,
   "metadata": {
    "id": "oUeWTn1hOQZc"
   },
   "outputs": [],
   "source": [
    "try:\n",
    "  aa=bb\n",
    "except NameError:\n",
    "  print(\"the user has not defined the variable bb\")  "
   ]
  },
  {
   "cell_type": "code",
   "execution_count": null,
   "metadata": {
    "colab": {
     "base_uri": "https://localhost:8080/"
    },
    "id": "37rSNlbGOtYp",
    "outputId": "6435b6ff-54c2-408a-82ac-e14981f43673"
   },
   "outputs": [],
   "source": [
    "aa"
   ]
  },
  {
   "cell_type": "code",
   "execution_count": null,
   "metadata": {
    "colab": {
     "base_uri": "https://localhost:8080/",
     "height": 200
    },
    "id": "U8B-6SldO0E8",
    "outputId": "fc2fabef-bc3d-4e27-f4bc-46763c18bdf4"
   },
   "outputs": [],
   "source": [
    "x=1\n",
    "y='2'\n",
    "z=x+y"
   ]
  },
  {
   "cell_type": "code",
   "execution_count": null,
   "metadata": {
    "colab": {
     "base_uri": "https://localhost:8080/"
    },
    "id": "NuyRpZDgO89D",
    "outputId": "ec367d15-adca-458b-a7c6-b57fef6d34de"
   },
   "outputs": [],
   "source": [
    "try:\n",
    "  x=1\n",
    "  y='2'\n",
    "  z=x+y\n",
    "except TypeError:\n",
    "  print(\"Enter a valid integer\")\n"
   ]
  },
  {
   "cell_type": "code",
   "execution_count": null,
   "metadata": {
    "colab": {
     "base_uri": "https://localhost:8080/"
    },
    "id": "UHqzXa4XPTfN",
    "outputId": "b367331b-1956-4c58-ade6-401bde8bdccc"
   },
   "outputs": [],
   "source": [
    "try:\n",
    "  x=int(input(\"enter the number \"))\n",
    "  y=20/x\n",
    "except ZeroDivisionError:\n",
    "  print(\"Enter number greater than 0\")\n",
    "else:\n",
    "  print(\"quotient is\",y)\n",
    "finally:\n",
    "  print(\"the execution is done\")      "
   ]
  },
  {
   "cell_type": "code",
   "execution_count": null,
   "metadata": {
    "colab": {
     "base_uri": "https://localhost:8080/",
     "height": 200
    },
    "id": "20enlxsfRePz",
    "outputId": "c0e0d06a-be70-40f2-d9cc-a4d334b1c1d6"
   },
   "outputs": [],
   "source": [
    "x=int(input(\"enter the number \"))\n",
    "y=20/x"
   ]
  },
  {
   "cell_type": "code",
   "execution_count": null,
   "metadata": {
    "colab": {
     "base_uri": "https://localhost:8080/"
    },
    "id": "8YQO05fGRwXk",
    "outputId": "e2f5e19b-554a-41d7-bc03-c0a742c59666"
   },
   "outputs": [],
   "source": [
    "try:\n",
    "  x=int(input(\"Enter the number\"))\n",
    "  y=20/x\n",
    "except TypeError:\n",
    "  print(\"Enter a valid Integer in TypeError\")\n",
    "except ValueError:\n",
    "  print(\"Enter a valid Integer in ValueError\")\n",
    "except ZeroDivisionError:\n",
    "  print(\"Enter a valid integer greater than 0\")  \n"
   ]
  },
  {
   "cell_type": "code",
   "execution_count": null,
   "metadata": {
    "id": "-DnHdoTaTlk7"
   },
   "outputs": [],
   "source": [
    "try:\n",
    "    print('Try Block')\n",
    "    x=int(input('Enter a number: '))\n",
    "    y=int(input('Enter another number: '))\n",
    "    z=x/y\n",
    "except ZeroDivisionError:\n",
    "    print(\"except ZeroDivisionError block\")\n",
    "    print(\"Division by 0 not accepted\")\n",
    "else:\n",
    "    print(\"Else Block\")\n",
    "    print(\"Division = \", z)\n",
    "finally:\n",
    "    print(\"Finally Block\")\n",
    "    x=0\n",
    "    y=0\n",
    "print (\"Out of try, except, else and finally blocks.\" )"
   ]
  },
  {
   "cell_type": "code",
   "execution_count": null,
   "metadata": {
    "colab": {
     "base_uri": "https://localhost:8080/"
    },
    "id": "MCKWNrneXZ5v",
    "outputId": "56ab0f19-5ae6-49ff-86e4-accf7ac7792b"
   },
   "outputs": [],
   "source": [
    "try:\n",
    "  x=1/0\n",
    "except Exception as ex:\n",
    "  print(ex)  "
   ]
  },
  {
   "cell_type": "code",
   "execution_count": null,
   "metadata": {
    "colab": {
     "base_uri": "https://localhost:8080/",
     "height": 165
    },
    "id": "P5FrwoVKX-xW",
    "outputId": "c879da69-3273-4d44-a861-7fabe9b97a3f"
   },
   "outputs": [],
   "source": [
    "x=1/0"
   ]
  },
  {
   "attachments": {},
   "cell_type": "markdown",
   "metadata": {
    "id": "QP1dm0O9a5oc"
   },
   "source": [
    "# NUMPY"
   ]
  },
  {
   "cell_type": "code",
   "execution_count": null,
   "metadata": {},
   "outputs": [],
   "source": [
    "# install numpy\n",
    "# open cmd\n",
    "# pip install numpy"
   ]
  },
  {
   "cell_type": "code",
   "execution_count": null,
   "metadata": {
    "id": "JLAZHP3UvaCP"
   },
   "outputs": [],
   "source": [
    "import numpy as np"
   ]
  },
  {
   "cell_type": "code",
   "execution_count": null,
   "metadata": {
    "id": "mfMqciM4vjqO"
   },
   "outputs": [],
   "source": [
    "array1=np.array([12,3,-7])    # 1-dimensional array"
   ]
  },
  {
   "cell_type": "code",
   "execution_count": null,
   "metadata": {
    "colab": {
     "base_uri": "https://localhost:8080/"
    },
    "id": "l_ZYUJxFv05a",
    "outputId": "080843ec-5250-4634-b7de-5ec68fca7f70"
   },
   "outputs": [],
   "source": [
    "array1"
   ]
  },
  {
   "cell_type": "code",
   "execution_count": null,
   "metadata": {
    "colab": {
     "base_uri": "https://localhost:8080/"
    },
    "id": "wT0heqnKv5Tl",
    "outputId": "4bac6448-29a4-4c6f-ad56-bf8083599789"
   },
   "outputs": [],
   "source": [
    "type(array1)"
   ]
  },
  {
   "cell_type": "code",
   "execution_count": null,
   "metadata": {
    "id": "l1PXuuWUwEU8"
   },
   "outputs": [],
   "source": [
    "array2=np.zeros(2,dtype=int)"
   ]
  },
  {
   "cell_type": "code",
   "execution_count": null,
   "metadata": {
    "colab": {
     "base_uri": "https://localhost:8080/"
    },
    "id": "bP0tOko3wMGH",
    "outputId": "289e26d3-2927-4c0a-a34c-f20eafcef084"
   },
   "outputs": [],
   "source": [
    "array2"
   ]
  },
  {
   "cell_type": "code",
   "execution_count": null,
   "metadata": {
    "id": "p2xpvvA0xL6P"
   },
   "outputs": [],
   "source": [
    "array3=np.ones((3,4),dtype=int)"
   ]
  },
  {
   "cell_type": "code",
   "execution_count": null,
   "metadata": {
    "colab": {
     "base_uri": "https://localhost:8080/"
    },
    "id": "PizLqhYPxUUA",
    "outputId": "ec7d799a-caff-41ec-f0ae-a366d815aa07"
   },
   "outputs": [],
   "source": [
    "array3"
   ]
  },
  {
   "cell_type": "code",
   "execution_count": null,
   "metadata": {
    "id": "hqfazDagxaEX"
   },
   "outputs": [],
   "source": [
    "array2=np.zeros((2,3))"
   ]
  },
  {
   "cell_type": "code",
   "execution_count": null,
   "metadata": {
    "colab": {
     "base_uri": "https://localhost:8080/"
    },
    "id": "XaG8omXLyA4P",
    "outputId": "31d96e3f-ccc1-4846-e9c9-973ac1b2f63b"
   },
   "outputs": [],
   "source": [
    "array2"
   ]
  },
  {
   "cell_type": "code",
   "execution_count": null,
   "metadata": {
    "colab": {
     "base_uri": "https://localhost:8080/"
    },
    "id": "zUqvZpBayE2T",
    "outputId": "6c276b11-affb-4a60-c2a4-bcac8339d6ae"
   },
   "outputs": [],
   "source": [
    "array3=np.empty((2,4))\n",
    "array3"
   ]
  },
  {
   "cell_type": "code",
   "execution_count": null,
   "metadata": {
    "colab": {
     "base_uri": "https://localhost:8080/"
    },
    "id": "khPWTxlAypFM",
    "outputId": "bcea6d3c-69b8-4167-da32-d9e83f5812b8"
   },
   "outputs": [],
   "source": [
    "array4= np.array([[21,4,5],[-13,1,54]])\n",
    "array4"
   ]
  },
  {
   "cell_type": "code",
   "execution_count": null,
   "metadata": {
    "colab": {
     "base_uri": "https://localhost:8080/"
    },
    "id": "OiZJ2yZFy9EE",
    "outputId": "3b8bd8d5-e186-4735-b895-7369e3bf2926"
   },
   "outputs": [],
   "source": [
    "array4.flatten()"
   ]
  },
  {
   "cell_type": "code",
   "execution_count": null,
   "metadata": {
    "colab": {
     "base_uri": "https://localhost:8080/"
    },
    "id": "E4ZqSxLezawR",
    "outputId": "485b9283-52ed-45aa-c771-f82124abba67"
   },
   "outputs": [],
   "source": [
    "array4= np.array([[[21,4,5],[-13,1,54]],\n",
    "                  [[21,4,5],[-13,1,54]]])\n",
    "array4"
   ]
  },
  {
   "cell_type": "code",
   "execution_count": null,
   "metadata": {
    "id": "rwvT59nTzy5E"
   },
   "outputs": [],
   "source": [
    "array5=np.identity(3)"
   ]
  },
  {
   "cell_type": "code",
   "execution_count": null,
   "metadata": {
    "colab": {
     "base_uri": "https://localhost:8080/"
    },
    "id": "2Mugqp-y08Ze",
    "outputId": "92b987ac-871d-4def-b5d1-3ab25701e503"
   },
   "outputs": [],
   "source": [
    "array5"
   ]
  },
  {
   "cell_type": "code",
   "execution_count": null,
   "metadata": {
    "colab": {
     "base_uri": "https://localhost:8080/"
    },
    "id": "-SRVT5wB1FHS",
    "outputId": "13b67e8d-ad0a-4265-fe96-d46afce4b86c"
   },
   "outputs": [],
   "source": [
    "array2"
   ]
  },
  {
   "cell_type": "code",
   "execution_count": null,
   "metadata": {
    "colab": {
     "base_uri": "https://localhost:8080/"
    },
    "id": "sHh3MHUp1HyO",
    "outputId": "b3729595-33eb-44e9-afb0-033aac6380dd"
   },
   "outputs": [],
   "source": [
    "array2.shape"
   ]
  },
  {
   "cell_type": "code",
   "execution_count": null,
   "metadata": {
    "colab": {
     "base_uri": "https://localhost:8080/"
    },
    "id": "ypq3Xe-y1S11",
    "outputId": "f153d007-50a1-4592-a0b9-e04ad3a3beb6"
   },
   "outputs": [],
   "source": [
    "array4.shape"
   ]
  },
  {
   "cell_type": "code",
   "execution_count": null,
   "metadata": {
    "colab": {
     "base_uri": "https://localhost:8080/"
    },
    "id": "CgEEryW21kAU",
    "outputId": "7b5c2e5f-a711-4aad-f5a0-4edab7fe3214"
   },
   "outputs": [],
   "source": [
    "array3.dtype"
   ]
  },
  {
   "cell_type": "code",
   "execution_count": null,
   "metadata": {
    "colab": {
     "base_uri": "https://localhost:8080/"
    },
    "id": "IS-sAUSS1uMs",
    "outputId": "e35a900d-61e2-4a64-9da0-b4dc9708b8df"
   },
   "outputs": [],
   "source": [
    "array3"
   ]
  },
  {
   "cell_type": "code",
   "execution_count": null,
   "metadata": {
    "id": "rZyIG_dA1xHk"
   },
   "outputs": [],
   "source": [
    "array6=np.ones((2,3),int)"
   ]
  },
  {
   "cell_type": "code",
   "execution_count": null,
   "metadata": {
    "colab": {
     "base_uri": "https://localhost:8080/"
    },
    "id": "Yoyl4cI_14Wm",
    "outputId": "450ecc6d-4e6f-4da9-a95d-a5a1e16c4c44"
   },
   "outputs": [],
   "source": [
    "array6"
   ]
  },
  {
   "cell_type": "code",
   "execution_count": null,
   "metadata": {
    "colab": {
     "base_uri": "https://localhost:8080/"
    },
    "id": "rdtNlphT16Pj",
    "outputId": "9be23fa8-0ecc-4b6e-e9f3-31e14fca93d5"
   },
   "outputs": [],
   "source": [
    "array6.dtype"
   ]
  },
  {
   "cell_type": "code",
   "execution_count": null,
   "metadata": {
    "colab": {
     "base_uri": "https://localhost:8080/"
    },
    "id": "a0M56L3y1_Eu",
    "outputId": "430b5bfc-8de7-4fef-a2c2-42be2cc6fa5b"
   },
   "outputs": [],
   "source": [
    "array2=np.array([1,1.2])\n",
    "array2.dtype"
   ]
  },
  {
   "cell_type": "code",
   "execution_count": null,
   "metadata": {
    "colab": {
     "base_uri": "https://localhost:8080/"
    },
    "id": "JLULXybv2k3k",
    "outputId": "ba334abf-348c-4fcb-be46-89b9352ee774"
   },
   "outputs": [],
   "source": [
    "array2.data"
   ]
  },
  {
   "cell_type": "code",
   "execution_count": null,
   "metadata": {
    "id": "AFh7HRTY3IaX"
   },
   "outputs": [],
   "source": [
    "array2d=np.array([[23,4,5],[-13,55,7]])"
   ]
  },
  {
   "cell_type": "code",
   "execution_count": null,
   "metadata": {
    "colab": {
     "base_uri": "https://localhost:8080/"
    },
    "id": "ZEqbtw3k3GpP",
    "outputId": "b41b752e-f2a0-4483-f7be-244815ef747d"
   },
   "outputs": [],
   "source": [
    "array2d.ndim"
   ]
  },
  {
   "cell_type": "code",
   "execution_count": null,
   "metadata": {
    "colab": {
     "base_uri": "https://localhost:8080/"
    },
    "id": "dICJW7pQ3a-C",
    "outputId": "61a83f95-c88d-4e44-b213-46bee35ce8d7"
   },
   "outputs": [],
   "source": [
    "array2d.T.ndim"
   ]
  },
  {
   "cell_type": "code",
   "execution_count": null,
   "metadata": {
    "colab": {
     "base_uri": "https://localhost:8080/"
    },
    "id": "NpUu_eX44Cbx",
    "outputId": "1ebd4a44-70b8-4115-d037-d96c4616cb4d"
   },
   "outputs": [],
   "source": [
    "array3.size"
   ]
  },
  {
   "cell_type": "code",
   "execution_count": null,
   "metadata": {
    "colab": {
     "base_uri": "https://localhost:8080/"
    },
    "id": "LPDRx7Lt5AAj",
    "outputId": "989d781a-5f5e-45bd-d371-ae6b7509eb2e"
   },
   "outputs": [],
   "source": [
    "array2d"
   ]
  },
  {
   "cell_type": "code",
   "execution_count": null,
   "metadata": {
    "colab": {
     "base_uri": "https://localhost:8080/"
    },
    "id": "11yT2KPk5GkM",
    "outputId": "9eefdd41-055a-462f-e6d6-8dbebe2ee497"
   },
   "outputs": [],
   "source": [
    "array2d[1,0]  #array[row_index,col_index]"
   ]
  },
  {
   "cell_type": "code",
   "execution_count": null,
   "metadata": {
    "colab": {
     "base_uri": "https://localhost:8080/"
    },
    "id": "MDfyMaNC5izg",
    "outputId": "dd49b6e0-68bd-4df0-a25b-795319f1b0b9"
   },
   "outputs": [],
   "source": [
    "array2d[:,:2]"
   ]
  },
  {
   "cell_type": "code",
   "execution_count": null,
   "metadata": {
    "colab": {
     "base_uri": "https://localhost:8080/"
    },
    "id": "QeGvL69j64DS",
    "outputId": "e729ffe4-69fd-4ec7-f498-18c71781d0a6"
   },
   "outputs": [],
   "source": [
    "array_3d =np.arange(1,7)\n",
    "array_3d"
   ]
  },
  {
   "cell_type": "code",
   "execution_count": null,
   "metadata": {
    "colab": {
     "base_uri": "https://localhost:8080/",
     "height": 183
    },
    "id": "LQzuSNEs7Klp",
    "outputId": "fa7641f4-9f9e-47a2-c9f0-1d57cf3e18bd"
   },
   "outputs": [],
   "source": [
    "array_3drs1 = array_3d.reshape(2,4)\n",
    "array_3drs1"
   ]
  },
  {
   "cell_type": "code",
   "execution_count": null,
   "metadata": {
    "colab": {
     "base_uri": "https://localhost:8080/"
    },
    "id": "EcecxDSq7oIb",
    "outputId": "a960af6a-d9d2-4dd7-8d0a-4089fdbf3856"
   },
   "outputs": [],
   "source": [
    "array_3drs2= array_3d.reshape(1,2,3)\n",
    "array_3drs2"
   ]
  },
  {
   "cell_type": "code",
   "execution_count": null,
   "metadata": {
    "colab": {
     "base_uri": "https://localhost:8080/"
    },
    "id": "yjXUtp738Bcv",
    "outputId": "157ae9f2-d087-43f3-c531-f4753edb9a45"
   },
   "outputs": [],
   "source": [
    "array_3drs2.ndim"
   ]
  },
  {
   "cell_type": "code",
   "execution_count": null,
   "metadata": {
    "colab": {
     "base_uri": "https://localhost:8080/"
    },
    "id": "HBWwXKrDBqgm",
    "outputId": "fe048978-8b0d-45c5-ea05-367d928d1e17"
   },
   "outputs": [],
   "source": [
    "array1"
   ]
  },
  {
   "cell_type": "code",
   "execution_count": null,
   "metadata": {
    "colab": {
     "base_uri": "https://localhost:8080/"
    },
    "id": "sDA8Ix5qBvcg",
    "outputId": "8f3f3c04-504a-46d3-9cc7-24139e548072"
   },
   "outputs": [],
   "source": [
    "array1[:4]"
   ]
  },
  {
   "cell_type": "code",
   "execution_count": null,
   "metadata": {
    "id": "5SrWhmRCCGjG"
   },
   "outputs": [],
   "source": [
    "a=[12,  3, -7]"
   ]
  },
  {
   "cell_type": "code",
   "execution_count": null,
   "metadata": {
    "colab": {
     "base_uri": "https://localhost:8080/"
    },
    "id": "GZsaKenMCKDw",
    "outputId": "7e5eafba-3457-42e8-98d6-681dbfd0974b"
   },
   "outputs": [],
   "source": [
    "a[:4]"
   ]
  },
  {
   "cell_type": "code",
   "execution_count": null,
   "metadata": {
    "colab": {
     "base_uri": "https://localhost:8080/"
    },
    "id": "vCvbyTrlCnDI",
    "outputId": "8c6c3700-a1a3-4ffe-f5ef-2b10459fef12"
   },
   "outputs": [],
   "source": [
    "array2d =array2d.T\n",
    "array2d"
   ]
  },
  {
   "cell_type": "code",
   "execution_count": null,
   "metadata": {
    "colab": {
     "base_uri": "https://localhost:8080/"
    },
    "id": "NWPPYrjGCvQn",
    "outputId": "7d506366-f65e-4275-e506-b1f94e73d6c3"
   },
   "outputs": [],
   "source": [
    "array2d[2,0:1]"
   ]
  },
  {
   "cell_type": "markdown",
   "metadata": {
    "id": "zRJ4SyjGDpeR"
   },
   "source": [
    "Difference between the numpy array and list"
   ]
  },
  {
   "cell_type": "code",
   "execution_count": null,
   "metadata": {
    "colab": {
     "base_uri": "https://localhost:8080/"
    },
    "id": "FurNN3MDDnsZ",
    "outputId": "f75e6645-4e9d-49f4-b126-a3942f754280"
   },
   "outputs": [],
   "source": [
    "height=[163,160,155,170]\n",
    "weight =[65,70,60,72]\n",
    "\n",
    "height + weight"
   ]
  },
  {
   "cell_type": "code",
   "execution_count": null,
   "metadata": {
    "colab": {
     "base_uri": "https://localhost:8080/"
    },
    "id": "4JAIvk2EFjgK",
    "outputId": "7af35ab5-7140-4e58-e870-a8f713318b2b"
   },
   "outputs": [],
   "source": [
    "height_arr = np.array(height)\n",
    "weight_arr = np.array(weight)\n",
    "\n",
    "height_arr + weight_arr"
   ]
  },
  {
   "cell_type": "code",
   "execution_count": null,
   "metadata": {
    "colab": {
     "base_uri": "https://localhost:8080/"
    },
    "id": "QccuCtNCGGRz",
    "outputId": "3688947a-cd0a-4115-9d6c-f0bf56d77b41"
   },
   "outputs": [],
   "source": [
    "height_arr < weight_arr"
   ]
  },
  {
   "cell_type": "code",
   "execution_count": null,
   "metadata": {
    "colab": {
     "base_uri": "https://localhost:8080/"
    },
    "id": "7StYDSYOG0ye",
    "outputId": "f5c50fd5-e1de-4986-c0b2-15d866c29761"
   },
   "outputs": [],
   "source": [
    "array2d"
   ]
  },
  {
   "cell_type": "code",
   "execution_count": null,
   "metadata": {
    "colab": {
     "base_uri": "https://localhost:8080/"
    },
    "id": "SfdhaEoYJAcC",
    "outputId": "43332a5c-e680-4f0d-a712-ccbdfbf03f62"
   },
   "outputs": [],
   "source": [
    "array2d=array2d.T\n",
    "array2d"
   ]
  },
  {
   "cell_type": "code",
   "execution_count": null,
   "metadata": {
    "colab": {
     "base_uri": "https://localhost:8080/"
    },
    "id": "TqMrR8V7G9LB",
    "outputId": "58a6e909-e70e-45d5-e2da-7b1c204d25f3"
   },
   "outputs": [],
   "source": [
    "for i in np.nditer(array2d):\n",
    "  print(i)"
   ]
  },
  {
   "cell_type": "code",
   "execution_count": null,
   "metadata": {
    "colab": {
     "base_uri": "https://localhost:8080/"
    },
    "id": "hR_cksDDHZuQ",
    "outputId": "25ed92b8-451b-4183-b209-01f30e4c1919"
   },
   "outputs": [],
   "source": [
    "array3"
   ]
  },
  {
   "cell_type": "code",
   "execution_count": null,
   "metadata": {
    "colab": {
     "base_uri": "https://localhost:8080/"
    },
    "id": "PWsXORytHkbi",
    "outputId": "d872f484-245c-42d5-dc4b-525b8a3778d3"
   },
   "outputs": [],
   "source": [
    "array4"
   ]
  },
  {
   "cell_type": "code",
   "execution_count": null,
   "metadata": {
    "colab": {
     "base_uri": "https://localhost:8080/"
    },
    "id": "y2bqpOo9Hmu5",
    "outputId": "9320ddc4-23ea-47b2-d4a4-19eee3874565"
   },
   "outputs": [],
   "source": [
    "for i in np.nditer(array4):\n",
    "  print(i)"
   ]
  },
  {
   "cell_type": "code",
   "execution_count": null,
   "metadata": {
    "colab": {
     "base_uri": "https://localhost:8080/"
    },
    "id": "YHiumgl9H_AZ",
    "outputId": "f8424b34-7c0d-482a-c78f-46af660711f1"
   },
   "outputs": [],
   "source": [
    "#stride\n",
    "array2d"
   ]
  },
  {
   "cell_type": "code",
   "execution_count": null,
   "metadata": {
    "colab": {
     "base_uri": "https://localhost:8080/"
    },
    "id": "DUsvDJM3Ji42",
    "outputId": "e172261e-fa63-4232-c131-eeff6fa7f06f"
   },
   "outputs": [],
   "source": [
    "array2d.strides"
   ]
  },
  {
   "cell_type": "code",
   "execution_count": null,
   "metadata": {
    "id": "vBI8qZHlJtLJ"
   },
   "outputs": [],
   "source": [
    "array2d=array2d.T"
   ]
  },
  {
   "cell_type": "code",
   "execution_count": null,
   "metadata": {
    "colab": {
     "base_uri": "https://localhost:8080/"
    },
    "id": "mRrVd78DJwpW",
    "outputId": "b816219a-a52d-460b-e13d-8446e5d2fdc1"
   },
   "outputs": [],
   "source": [
    "array2d"
   ]
  },
  {
   "cell_type": "code",
   "execution_count": null,
   "metadata": {
    "id": "3h9LVbe0Qnuh"
   },
   "outputs": [],
   "source": [
    "array2d=np.array()"
   ]
  },
  {
   "cell_type": "code",
   "execution_count": null,
   "metadata": {
    "colab": {
     "base_uri": "https://localhost:8080/"
    },
    "id": "KKPoOZgRJ0YU",
    "outputId": "56247d3d-6d73-4b5d-c525-9d4627bbc564"
   },
   "outputs": [],
   "source": [
    "array2d.strides"
   ]
  },
  {
   "cell_type": "code",
   "execution_count": null,
   "metadata": {
    "id": "bv8vtiqmNtON"
   },
   "outputs": [],
   "source": [
    "x = np.array([[0, 1, 2, 3, 4],\n",
    "              [5, 6, 7, 8, 9]], dtype=np.int32)"
   ]
  },
  {
   "cell_type": "code",
   "execution_count": null,
   "metadata": {
    "colab": {
     "base_uri": "https://localhost:8080/"
    },
    "id": "CqRQ_TIANvp-",
    "outputId": "5cec80fa-bf76-4b0e-c0d4-cd5dc1fd3190"
   },
   "outputs": [],
   "source": [
    "x.strides"
   ]
  },
  {
   "cell_type": "code",
   "execution_count": null,
   "metadata": {
    "id": "HPNctw9tNy_m"
   },
   "outputs": [],
   "source": [
    "y=x.T"
   ]
  },
  {
   "cell_type": "code",
   "execution_count": null,
   "metadata": {
    "colab": {
     "base_uri": "https://localhost:8080/"
    },
    "id": "5Rib-kdpN5xD",
    "outputId": "d5b981f8-6c07-4fdc-c0cb-df90c77c1f53"
   },
   "outputs": [],
   "source": [
    "y"
   ]
  },
  {
   "cell_type": "code",
   "execution_count": null,
   "metadata": {
    "colab": {
     "base_uri": "https://localhost:8080/"
    },
    "id": "aIl1LaxON1st",
    "outputId": "b68f1ac5-9952-4e17-a004-83437fb5d9a1"
   },
   "outputs": [],
   "source": [
    "y.strides"
   ]
  },
  {
   "cell_type": "code",
   "execution_count": null,
   "metadata": {
    "colab": {
     "base_uri": "https://localhost:8080/"
    },
    "id": "594crLhoQ4mq",
    "outputId": "bc0e4fb4-6a23-41f3-c73f-db26159f654a"
   },
   "outputs": [],
   "source": [
    "#stride\n",
    "array2d.strides"
   ]
  },
  {
   "cell_type": "code",
   "execution_count": null,
   "metadata": {
    "id": "u4GeqSvDQ6oJ"
   },
   "outputs": [],
   "source": [
    "array2d_C = np.array([[ 23, -13],\n",
    "       [  4,  55],\n",
    "       [  5,   7]], order='C' )"
   ]
  },
  {
   "cell_type": "code",
   "execution_count": null,
   "metadata": {
    "id": "35EAz4FyRuv6"
   },
   "outputs": [],
   "source": [
    "array2d_R = np.array([[ 23, -13],\n",
    "       [  4,  55],\n",
    "       [  5,   7]], order='F' )"
   ]
  },
  {
   "cell_type": "code",
   "execution_count": null,
   "metadata": {
    "colab": {
     "base_uri": "https://localhost:8080/"
    },
    "id": "N3fNYHwgSHEG",
    "outputId": "2e95402b-4526-42b8-a869-0b5f9cd1ad45"
   },
   "outputs": [],
   "source": [
    "array2d_R"
   ]
  },
  {
   "cell_type": "code",
   "execution_count": null,
   "metadata": {
    "colab": {
     "base_uri": "https://localhost:8080/"
    },
    "id": "E6wkL9VVRMnu",
    "outputId": "1b606bc6-eaf1-4037-a434-f575d1f79ca3"
   },
   "outputs": [],
   "source": [
    "array2d_R.strides"
   ]
  },
  {
   "cell_type": "code",
   "execution_count": null,
   "metadata": {
    "colab": {
     "base_uri": "https://localhost:8080/"
    },
    "id": "4kEtIvyER3Dl",
    "outputId": "61a348df-bd79-449c-94d0-ebd29adfb22a"
   },
   "outputs": [],
   "source": [
    "array2d_C.strides"
   ]
  },
  {
   "attachments": {},
   "cell_type": "markdown",
   "metadata": {
    "id": "kg_PEUU_0_zb"
   },
   "source": [
    "### Mathematical functions in Numpy\n"
   ]
  },
  {
   "cell_type": "code",
   "execution_count": null,
   "metadata": {
    "id": "_5J6cirv1Kps"
   },
   "outputs": [],
   "source": [
    "import numpy as np"
   ]
  },
  {
   "cell_type": "markdown",
   "metadata": {
    "id": "Fn5QPi4W1Vip"
   },
   "source": [
    "Trignometric functions"
   ]
  },
  {
   "cell_type": "code",
   "execution_count": null,
   "metadata": {
    "colab": {
     "base_uri": "https://localhost:8080/"
    },
    "id": "xGha0hBY1ZMx",
    "outputId": "7af1fe6c-dcae-4f8c-bc50-0e9493761ff9"
   },
   "outputs": [],
   "source": [
    "np.tan(np.pi/4)"
   ]
  },
  {
   "cell_type": "code",
   "execution_count": null,
   "metadata": {
    "colab": {
     "base_uri": "https://localhost:8080/"
    },
    "id": "EOamDJSc1nAW",
    "outputId": "c15fd75d-50a4-4b32-84b8-46f051116243"
   },
   "outputs": [],
   "source": [
    "np.sin(np.pi/4)"
   ]
  },
  {
   "cell_type": "code",
   "execution_count": null,
   "metadata": {
    "colab": {
     "base_uri": "https://localhost:8080/"
    },
    "id": "7LrEb9oe2FFH",
    "outputId": "8c642df0-04c2-42ec-feee-be9ff5666247"
   },
   "outputs": [],
   "source": [
    "np.degrees(np.arcsin(0.7071067811865475))"
   ]
  },
  {
   "cell_type": "code",
   "execution_count": null,
   "metadata": {
    "colab": {
     "base_uri": "https://localhost:8080/"
    },
    "id": "6kivucrB2VWE",
    "outputId": "70d09e51-0af8-4e2d-f744-439289360a78"
   },
   "outputs": [],
   "source": [
    "np.degrees(np.arccos(0.866))"
   ]
  },
  {
   "cell_type": "code",
   "execution_count": null,
   "metadata": {
    "colab": {
     "base_uri": "https://localhost:8080/"
    },
    "id": "HHX4ujHU2qvU",
    "outputId": "4f6a4261-7bdd-42be-c001-655c15202811"
   },
   "outputs": [],
   "source": [
    "np.sinh(0)"
   ]
  },
  {
   "cell_type": "code",
   "execution_count": null,
   "metadata": {
    "colab": {
     "base_uri": "https://localhost:8080/"
    },
    "id": "_s9eyZyy2uYZ",
    "outputId": "81393502-6c3a-46af-e3ae-7280fc4535d8"
   },
   "outputs": [],
   "source": [
    "np.cosh(0)"
   ]
  },
  {
   "cell_type": "code",
   "execution_count": null,
   "metadata": {
    "colab": {
     "base_uri": "https://localhost:8080/"
    },
    "id": "dDjyXIhO226g",
    "outputId": "11f22108-6284-41d3-fd3e-1824dc1ea36d"
   },
   "outputs": [],
   "source": [
    "np.degrees(np.arccosh(1))"
   ]
  },
  {
   "cell_type": "markdown",
   "metadata": {
    "id": "2zAk2KCC309p"
   },
   "source": [
    "Rounding Functions"
   ]
  },
  {
   "cell_type": "code",
   "execution_count": null,
   "metadata": {
    "id": "KryW2dhO35ZG"
   },
   "outputs": [],
   "source": [
    "f_array = np.array ([0.1485, 1.1726, 2.99 , -3.2])"
   ]
  },
  {
   "cell_type": "code",
   "execution_count": null,
   "metadata": {
    "colab": {
     "base_uri": "https://localhost:8080/"
    },
    "id": "O45tRG3A4GwL",
    "outputId": "3b32132d-c030-4441-e393-64cc070cdfad"
   },
   "outputs": [],
   "source": [
    "np.around(f_array,2)"
   ]
  },
  {
   "cell_type": "code",
   "execution_count": null,
   "metadata": {
    "colab": {
     "base_uri": "https://localhost:8080/"
    },
    "id": "aMLYwgEB4Wen",
    "outputId": "0d7f752d-f056-4db7-9ace-d8927606b421"
   },
   "outputs": [],
   "source": [
    "np.rint(f_array)"
   ]
  },
  {
   "cell_type": "code",
   "execution_count": null,
   "metadata": {
    "colab": {
     "base_uri": "https://localhost:8080/"
    },
    "id": "eUUS-Vki4jDO",
    "outputId": "0bc49be7-1897-4e7e-df56-75fae414310e"
   },
   "outputs": [],
   "source": [
    "np.fix(f_array)    #Integer near to zero"
   ]
  },
  {
   "cell_type": "code",
   "execution_count": null,
   "metadata": {
    "colab": {
     "base_uri": "https://localhost:8080/"
    },
    "id": "9Onmrxk64rL1",
    "outputId": "0990b20e-3486-4292-c825-c7159a26b67a"
   },
   "outputs": [],
   "source": [
    "np.ceil(f_array)"
   ]
  },
  {
   "cell_type": "code",
   "execution_count": null,
   "metadata": {
    "colab": {
     "base_uri": "https://localhost:8080/"
    },
    "id": "v6pxsIKK6MTZ",
    "outputId": "9474df42-dfea-43ad-f9b6-c640c293f447"
   },
   "outputs": [],
   "source": [
    "np.floor(f_array)"
   ]
  },
  {
   "cell_type": "code",
   "execution_count": null,
   "metadata": {
    "colab": {
     "base_uri": "https://localhost:8080/"
    },
    "id": "HWBgD9_E6cuB",
    "outputId": "a8d42cb5-8e5d-425f-bcec-e980e008c903"
   },
   "outputs": [],
   "source": [
    "f_array"
   ]
  },
  {
   "cell_type": "code",
   "execution_count": null,
   "metadata": {
    "colab": {
     "base_uri": "https://localhost:8080/"
    },
    "id": "0LOLo4MF6g2C",
    "outputId": "4ae5744b-c06a-4c56-a116-9d246513c603"
   },
   "outputs": [],
   "source": [
    "np.sum(f_array)"
   ]
  },
  {
   "cell_type": "code",
   "execution_count": null,
   "metadata": {
    "colab": {
     "base_uri": "https://localhost:8080/"
    },
    "id": "uSfXMUxs6q68",
    "outputId": "e3f46afc-fe85-486c-9c5e-7e7d7db5c6e6"
   },
   "outputs": [],
   "source": [
    "np.sum([2,3])"
   ]
  },
  {
   "cell_type": "code",
   "execution_count": null,
   "metadata": {
    "colab": {
     "base_uri": "https://localhost:8080/"
    },
    "id": "MXeKASgG7uyH",
    "outputId": "1fee24cd-206b-4105-f0bb-955c23a45e87"
   },
   "outputs": [],
   "source": [
    "np.nansum([2,3,np.nan])\n",
    "#nan = not a number"
   ]
  },
  {
   "cell_type": "code",
   "execution_count": null,
   "metadata": {
    "colab": {
     "base_uri": "https://localhost:8080/"
    },
    "id": "xZwEnGzk8j90",
    "outputId": "383e760f-c14d-4020-b284-ed1d52e6289b"
   },
   "outputs": [],
   "source": [
    "a=np.array([2,3,1.5])\n",
    "np.exp(a)"
   ]
  },
  {
   "cell_type": "code",
   "execution_count": null,
   "metadata": {
    "colab": {
     "base_uri": "https://localhost:8080/"
    },
    "id": "uzcXmqkC9YzD",
    "outputId": "50f84288-3b12-4a68-cc6f-79dc463508bb"
   },
   "outputs": [],
   "source": [
    "np.log(a) #ln loge"
   ]
  },
  {
   "cell_type": "code",
   "execution_count": null,
   "metadata": {
    "colab": {
     "base_uri": "https://localhost:8080/"
    },
    "id": "i4oSnQKb915X",
    "outputId": "0f33a530-00c9-4183-fa8e-9b7146370ff3"
   },
   "outputs": [],
   "source": [
    "a=np.array([2,3,1.5,100])\n",
    "np.log10(a)"
   ]
  },
  {
   "cell_type": "markdown",
   "metadata": {
    "id": "X_rEKrKO-eSy"
   },
   "source": [
    "Statistical Functions"
   ]
  },
  {
   "cell_type": "code",
   "execution_count": null,
   "metadata": {
    "colab": {
     "base_uri": "https://localhost:8080/"
    },
    "id": "xo88yviV-M-h",
    "outputId": "40c1d841-8ba7-4736-e493-ae99ff00ec69"
   },
   "outputs": [],
   "source": [
    "b=np.array([221,13,44,245,0,1])\n",
    "b.mean()"
   ]
  },
  {
   "cell_type": "code",
   "execution_count": null,
   "metadata": {
    "colab": {
     "base_uri": "https://localhost:8080/"
    },
    "id": "D6-XIPX8_Ky5",
    "outputId": "9fa24542-fbe6-44f0-d405-3a89f99a5ff6"
   },
   "outputs": [],
   "source": [
    "c=np.array([np.nan,221,13,245,0,1])\n",
    "np.nanmean(c)"
   ]
  },
  {
   "cell_type": "code",
   "execution_count": null,
   "metadata": {
    "colab": {
     "base_uri": "https://localhost:8080/"
    },
    "id": "2Mv1-GcWA0-Q",
    "outputId": "604f2760-b71d-45c6-ddf5-1f64f9d9fd40"
   },
   "outputs": [],
   "source": [
    "np.median(b)"
   ]
  },
  {
   "cell_type": "code",
   "execution_count": null,
   "metadata": {
    "colab": {
     "base_uri": "https://localhost:8080/"
    },
    "id": "zpub32XWBQmU",
    "outputId": "d92a4cbc-69a1-44a4-b6d2-ea451da6f248"
   },
   "outputs": [],
   "source": [
    "np.std(b)"
   ]
  },
  {
   "cell_type": "code",
   "execution_count": null,
   "metadata": {
    "colab": {
     "base_uri": "https://localhost:8080/"
    },
    "id": "1uSAjhA_CrR0",
    "outputId": "493bde06-3a5a-455d-d084-0be73fad4757"
   },
   "outputs": [],
   "source": [
    "q1 =np.array([12,32,56])\n",
    "q2 =np.array([34,56,99])\n",
    "np.cov(q1,q2)"
   ]
  },
  {
   "attachments": {},
   "cell_type": "markdown",
   "metadata": {
    "id": "k42csbToIW0B"
   },
   "source": [
    "# PANDAS"
   ]
  },
  {
   "cell_type": "code",
   "execution_count": null,
   "metadata": {
    "id": "brsLAO3VJWht"
   },
   "outputs": [],
   "source": [
    "import pandas as pd"
   ]
  },
  {
   "cell_type": "code",
   "execution_count": null,
   "metadata": {
    "colab": {
     "base_uri": "https://localhost:8080/"
    },
    "id": "Pa4PD-eDJq5F",
    "outputId": "8c5b49e9-316c-4628-f574-5b93fd9d4c14"
   },
   "outputs": [],
   "source": [
    "#Series -  labelled 1D array\n",
    "series1= pd.Series(np.array([13,4,2]))\n",
    "series1"
   ]
  },
  {
   "cell_type": "code",
   "execution_count": null,
   "metadata": {
    "colab": {
     "base_uri": "https://localhost:8080/"
    },
    "id": "JrXzyaBiKBlh",
    "outputId": "60e39216-0651-420c-c33d-f49100b30415"
   },
   "outputs": [],
   "source": [
    "type(series1)"
   ]
  },
  {
   "cell_type": "code",
   "execution_count": null,
   "metadata": {
    "id": "2puy2KyYKLRs"
   },
   "outputs": [],
   "source": [
    "series2 = pd.Series([13,4,2],index=['a','b','c'])"
   ]
  },
  {
   "cell_type": "code",
   "execution_count": null,
   "metadata": {
    "colab": {
     "base_uri": "https://localhost:8080/"
    },
    "id": "hhpa9i9MKcs5",
    "outputId": "c26a10b0-46c7-417a-e5cf-d5f7f3360ea0"
   },
   "outputs": [],
   "source": [
    "series2"
   ]
  },
  {
   "cell_type": "code",
   "execution_count": null,
   "metadata": {
    "id": "QUgsFB_zKpEa"
   },
   "outputs": [],
   "source": [
    "#Dataframe - 2D labelled array, row and col index, tabular, structured data\n",
    "\n",
    "df1=pd.DataFrame([[1,\"Karthik\"],[2,\"Nikhil\"],[3,\"Anurabh\"]])"
   ]
  },
  {
   "cell_type": "code",
   "execution_count": null,
   "metadata": {
    "colab": {
     "base_uri": "https://localhost:8080/",
     "height": 143
    },
    "id": "uTmRVZgzLI7a",
    "outputId": "1ad96f1b-8730-49d0-de2e-da9c12024286"
   },
   "outputs": [],
   "source": [
    "df1"
   ]
  },
  {
   "cell_type": "code",
   "execution_count": null,
   "metadata": {
    "colab": {
     "base_uri": "https://localhost:8080/"
    },
    "id": "LcVugccILPUo",
    "outputId": "524bbbb5-df11-4d95-cd41-f5e3eb3049df"
   },
   "outputs": [],
   "source": [
    "type(df1)"
   ]
  },
  {
   "cell_type": "code",
   "execution_count": null,
   "metadata": {
    "id": "Dem7SH9tw_f6"
   },
   "outputs": [],
   "source": [
    "import pandas as pd"
   ]
  },
  {
   "cell_type": "code",
   "execution_count": null,
   "metadata": {
    "id": "lsRj-g6xwlkU"
   },
   "outputs": [],
   "source": [
    "df1=pd.DataFrame([[1,\"Karthik\"],[2,\"Nikhil\"],[3,\"Anurabh\"],[4,\"Juhi\"]],index=['a','b','c','d'],columns=[\"Roll No\", \"Name\"] )"
   ]
  },
  {
   "cell_type": "code",
   "execution_count": null,
   "metadata": {
    "colab": {
     "base_uri": "https://localhost:8080/",
     "height": 175
    },
    "id": "7d8m1GYTxE0-",
    "outputId": "4b0b310f-03e6-4078-8677-09fce87d41d6"
   },
   "outputs": [],
   "source": [
    "df1"
   ]
  },
  {
   "cell_type": "code",
   "execution_count": null,
   "metadata": {
    "id": "sv26pK_Uyz39"
   },
   "outputs": [],
   "source": [
    "diabetes_df = pd.read_csv(r\"/content/drive/MyDrive/Cloudthat/KPMG/diabetes.csv\")"
   ]
  },
  {
   "cell_type": "code",
   "execution_count": null,
   "metadata": {
    "colab": {
     "base_uri": "https://localhost:8080/",
     "height": 424
    },
    "id": "6TF40Ikdy79-",
    "outputId": "911fe0aa-efaa-470f-e2c7-04bb87c93ba2"
   },
   "outputs": [],
   "source": [
    "diabetes_df"
   ]
  },
  {
   "cell_type": "code",
   "execution_count": null,
   "metadata": {
    "colab": {
     "base_uri": "https://localhost:8080/",
     "height": 206
    },
    "id": "qmEelCwfzyn0",
    "outputId": "7d1a7bca-7287-457c-9731-27cf0e57fbf8"
   },
   "outputs": [],
   "source": [
    "diabetes_df.head()"
   ]
  },
  {
   "cell_type": "code",
   "execution_count": null,
   "metadata": {
    "colab": {
     "base_uri": "https://localhost:8080/",
     "height": 363
    },
    "id": "HrkL7NwJ0T_6",
    "outputId": "7db7766b-10ad-4d42-e55f-c4ecc9d1a0bb"
   },
   "outputs": [],
   "source": [
    "diabetes_df.head(10)"
   ]
  },
  {
   "cell_type": "code",
   "execution_count": null,
   "metadata": {
    "colab": {
     "base_uri": "https://localhost:8080/"
    },
    "id": "_uNWYaqb0SH-",
    "outputId": "e3926e0a-a9a6-4996-d8e0-106f8c835bb4"
   },
   "outputs": [],
   "source": [
    "diabetes_df.info()"
   ]
  },
  {
   "cell_type": "code",
   "execution_count": null,
   "metadata": {
    "colab": {
     "base_uri": "https://localhost:8080/"
    },
    "id": "FJAACeRq2JJ7",
    "outputId": "728a43bf-54e7-4763-8e4b-e0883fa2a54d"
   },
   "outputs": [],
   "source": [
    "diabetes_df.shape"
   ]
  },
  {
   "cell_type": "code",
   "execution_count": null,
   "metadata": {
    "colab": {
     "base_uri": "https://localhost:8080/",
     "height": 300
    },
    "id": "NesoqF4x2QYM",
    "outputId": "c1c940db-47e9-4714-975d-edf7e9ff9a6f"
   },
   "outputs": [],
   "source": [
    "diabetes_df.describe()"
   ]
  },
  {
   "cell_type": "code",
   "execution_count": null,
   "metadata": {
    "id": "ZSFvzhiT3Mkm"
   },
   "outputs": [],
   "source": [
    "covid_data = pd.read_csv('https://covid.ourworldindata.org/data/owid-covid-data.csv')\n"
   ]
  },
  {
   "cell_type": "code",
   "execution_count": null,
   "metadata": {
    "colab": {
     "base_uri": "https://localhost:8080/"
    },
    "id": "_5INqxg134Jk",
    "outputId": "c415dda1-377d-400f-ef70-fa43780202a1"
   },
   "outputs": [],
   "source": [
    "covid_data.info()"
   ]
  },
  {
   "cell_type": "code",
   "execution_count": null,
   "metadata": {
    "colab": {
     "base_uri": "https://localhost:8080/",
     "height": 356
    },
    "id": "YsRSGapb4Lbz",
    "outputId": "340199d4-2d35-428a-e7ed-6e9ccadbe2ed"
   },
   "outputs": [],
   "source": [
    "covid_data.head()"
   ]
  },
  {
   "cell_type": "code",
   "execution_count": null,
   "metadata": {
    "id": "Jw2WfqT-4bTK"
   },
   "outputs": [],
   "source": [
    "covid_data_sorted = covid_data.sort_values('new_cases',ascending=True)"
   ]
  },
  {
   "cell_type": "code",
   "execution_count": null,
   "metadata": {
    "colab": {
     "base_uri": "https://localhost:8080/",
     "height": 356
    },
    "id": "NEBvEQT84wBu",
    "outputId": "d1a6aaa1-c323-4d0c-8166-ef6622551f7f"
   },
   "outputs": [],
   "source": [
    "covid_data_sorted.head()"
   ]
  },
  {
   "cell_type": "code",
   "execution_count": null,
   "metadata": {
    "colab": {
     "base_uri": "https://localhost:8080/",
     "height": 206
    },
    "id": "spCvcD0Y45p0",
    "outputId": "0e9c281d-7933-46bd-b53b-7dc84a2ed888"
   },
   "outputs": [],
   "source": [
    "diabetes_df.head()"
   ]
  },
  {
   "cell_type": "code",
   "execution_count": null,
   "metadata": {
    "colab": {
     "base_uri": "https://localhost:8080/",
     "height": 424
    },
    "id": "JZ2ndQXs4_RV",
    "outputId": "92ed4a52-a9b8-4a26-dd25-4d4b9d7efa1f"
   },
   "outputs": [],
   "source": [
    "diabetes_df.sort_values(\"Age\",ascending = True)"
   ]
  },
  {
   "cell_type": "code",
   "execution_count": null,
   "metadata": {
    "colab": {
     "base_uri": "https://localhost:8080/",
     "height": 300
    },
    "id": "tNfZKZO55ekk",
    "outputId": "9af86ac6-efab-49a7-ef64-a0a668f96b0b"
   },
   "outputs": [],
   "source": [
    "diabetes_df.describe()"
   ]
  },
  {
   "cell_type": "code",
   "execution_count": null,
   "metadata": {
    "colab": {
     "base_uri": "https://localhost:8080/"
    },
    "id": "bUbrL53W5ozS",
    "outputId": "4afb3cb4-691f-4b99-feb8-415e4a3c6f6b"
   },
   "outputs": [],
   "source": [
    "unique_age_values =pd.unique(diabetes_df[\"Age\"]) \n",
    "agelt33 = unique_age_values[unique_age_values < 33]\n",
    "agelt33"
   ]
  },
  {
   "cell_type": "code",
   "execution_count": null,
   "metadata": {
    "colab": {
     "base_uri": "https://localhost:8080/",
     "height": 424
    },
    "id": "sUUElyN7-qVU",
    "outputId": "a3e33d16-ba0e-423a-cfd5-abecd2905232"
   },
   "outputs": [],
   "source": [
    "sub_df = diabetes_df[['Pregnancies', 'Glucose']]\n",
    "sub_df"
   ]
  },
  {
   "cell_type": "code",
   "execution_count": null,
   "metadata": {
    "colab": {
     "base_uri": "https://localhost:8080/",
     "height": 300
    },
    "id": "hh2KEj4U8FiT",
    "outputId": "09cf6278-90b9-4fc2-9e84-5ef26c583dfb"
   },
   "outputs": [],
   "source": [
    "diabetes_df.describe()"
   ]
  },
  {
   "cell_type": "code",
   "execution_count": null,
   "metadata": {
    "colab": {
     "base_uri": "https://localhost:8080/"
    },
    "id": "gXaduaD5_fjd",
    "outputId": "51fb162e-cbe4-473d-ce38-ddbc5a5788d9"
   },
   "outputs": [],
   "source": [
    "import numpy as np\n",
    "diabetes_df[['Insulin','BMI']].apply(np.mean)"
   ]
  },
  {
   "cell_type": "code",
   "execution_count": null,
   "metadata": {
    "colab": {
     "base_uri": "https://localhost:8080/",
     "height": 300
    },
    "id": "El1b9Y_h_wwL",
    "outputId": "3f4e208a-3b2b-4a58-d299-dc9f65a8ecdd"
   },
   "outputs": [],
   "source": [
    "diabetes_df.describe()"
   ]
  },
  {
   "cell_type": "markdown",
   "metadata": {
    "id": "2wyanuEVAEi6"
   },
   "source": [
    "loc and iloc"
   ]
  },
  {
   "cell_type": "code",
   "execution_count": null,
   "metadata": {
    "colab": {
     "base_uri": "https://localhost:8080/"
    },
    "id": "9Yrfpl5RAhqb",
    "outputId": "155ec79f-3d27-4d69-b125-0e1d4ef4c897"
   },
   "outputs": [],
   "source": [
    "diabetes_df.loc[8,[\"Insulin\",\"BMI\"]]"
   ]
  },
  {
   "cell_type": "code",
   "execution_count": null,
   "metadata": {
    "colab": {
     "base_uri": "https://localhost:8080/"
    },
    "id": "B2tTdbAvB4tF",
    "outputId": "5b59e109-5539-43f7-c2ce-841b31316619"
   },
   "outputs": [],
   "source": [
    "#Preprocessing\n",
    "diabetes_df.isna().sum()"
   ]
  },
  {
   "cell_type": "code",
   "execution_count": null,
   "metadata": {
    "colab": {
     "base_uri": "https://localhost:8080/"
    },
    "id": "1_qLmi5vCMp6",
    "outputId": "2b8ba74b-83e2-4506-95b9-df3528392c8d"
   },
   "outputs": [],
   "source": [
    "covid_data['total_deaths'].isna().sum()"
   ]
  },
  {
   "cell_type": "code",
   "execution_count": null,
   "metadata": {
    "id": "O93J-deoEZLg"
   },
   "outputs": [],
   "source": [
    "covid_data['total_deaths'].fillna(0,inplace=True)"
   ]
  },
  {
   "cell_type": "code",
   "execution_count": null,
   "metadata": {
    "colab": {
     "base_uri": "https://localhost:8080/"
    },
    "id": "wop2r2_mCzhV",
    "outputId": "eee13697-7d05-4fdf-b6fc-9aa8f01e9ba7"
   },
   "outputs": [],
   "source": [
    "covid_new = covid_data['total_deaths'].fillna(0)\n",
    "covid_new"
   ]
  },
  {
   "cell_type": "code",
   "execution_count": null,
   "metadata": {
    "colab": {
     "base_uri": "https://localhost:8080/"
    },
    "id": "GF0b2j7lDFEh",
    "outputId": "a402ce2d-175b-4875-a853-8988decbe775"
   },
   "outputs": [],
   "source": [
    "covid_new.isna().sum()"
   ]
  },
  {
   "cell_type": "code",
   "execution_count": null,
   "metadata": {
    "colab": {
     "base_uri": "https://localhost:8080/",
     "height": 356
    },
    "id": "S3jkNrLPGYUX",
    "outputId": "f1b2f345-d6d0-4022-807a-63fec41dc7ca"
   },
   "outputs": [],
   "source": [
    "covid_data.head()"
   ]
  },
  {
   "cell_type": "markdown",
   "metadata": {
    "id": "p9Vofz2QI2uU"
   },
   "source": [
    "groupby"
   ]
  },
  {
   "cell_type": "code",
   "execution_count": null,
   "metadata": {
    "colab": {
     "base_uri": "https://localhost:8080/",
     "height": 162
    },
    "id": "q_3VMWeWI6hD",
    "outputId": "b379d79c-9ac3-44d2-899b-0b582280494f"
   },
   "outputs": [],
   "source": [
    "covid_data.head(1)"
   ]
  },
  {
   "cell_type": "code",
   "execution_count": null,
   "metadata": {
    "colab": {
     "base_uri": "https://localhost:8080/"
    },
    "id": "hxVaRNE-Fs63",
    "outputId": "19c00336-0ed6-4d7d-a218-6cd8cd8b5cfb"
   },
   "outputs": [],
   "source": [
    "covid_data.groupby('continent')['new_cases'].mean()"
   ]
  },
  {
   "cell_type": "code",
   "execution_count": null,
   "metadata": {
    "colab": {
     "base_uri": "https://localhost:8080/",
     "height": 325
    },
    "id": "89UMGh_9G49s",
    "outputId": "e593fbc2-cfd9-4948-8378-ec95ce1db3ac"
   },
   "outputs": [],
   "source": [
    "covid_data.groupby('continent')['new_cases','total_cases_per_million'].max()"
   ]
  },
  {
   "cell_type": "code",
   "execution_count": null,
   "metadata": {
    "colab": {
     "base_uri": "https://localhost:8080/",
     "height": 356
    },
    "id": "fapCxyysHX4K",
    "outputId": "d7325f57-001b-4cc5-88ac-e7ac3757e7bf"
   },
   "outputs": [],
   "source": [
    "covid_data.groupby('continent')['new_cases','total_cases_per_million'].agg([max,min,np.mean])"
   ]
  },
  {
   "cell_type": "code",
   "execution_count": null,
   "metadata": {
    "colab": {
     "base_uri": "https://localhost:8080/"
    },
    "id": "8ElYFTX2Hyeo",
    "outputId": "ac136d0a-c214-42bc-ed84-b61b866f16f6"
   },
   "outputs": [],
   "source": [
    "new_data = covid_data.groupby('continent')['new_cases'].mean()\n",
    "new_data"
   ]
  },
  {
   "cell_type": "code",
   "execution_count": null,
   "metadata": {
    "colab": {
     "base_uri": "https://localhost:8080/",
     "height": 265
    },
    "id": "zmc8n4DVH2Zx",
    "outputId": "d03b53cd-9ea4-4cc7-fce2-af3ef5a9e4cf"
   },
   "outputs": [],
   "source": [
    "import matplotlib.pyplot as plt\n",
    "new_data.plot(kind='barh')\n",
    "plt.show()"
   ]
  },
  {
   "attachments": {},
   "cell_type": "markdown",
   "metadata": {
    "id": "2J-0wv6zMFdL"
   },
   "source": [
    "# Object Oriented Programming"
   ]
  },
  {
   "cell_type": "code",
   "execution_count": null,
   "metadata": {
    "id": "JOOqQw0MNh9G"
   },
   "outputs": [],
   "source": [
    "class Employee:\n",
    "  'Common base class for all employees'\n",
    "  empCount = 0\n",
    "\n",
    "  def __init__(self, name, salary):\n",
    "    self.name =name\n",
    "    self.salary = salary\n",
    "    Employee.empCount +=1\n",
    "\n",
    "  def displayCount(self):\n",
    "    print(\" total Number of Employees %d\", Employee.empCount )\n",
    "\n",
    "  def displayEmployee(self):\n",
    "    print(\"Name of Employee:\" ,self.name, \"\\n salary: \", self.salary)  "
   ]
  },
  {
   "cell_type": "code",
   "execution_count": null,
   "metadata": {
    "id": "UVrbijglO1uY"
   },
   "outputs": [],
   "source": [
    "emp1 =Employee(\"Nikhil\", 35000)"
   ]
  },
  {
   "cell_type": "code",
   "execution_count": null,
   "metadata": {
    "colab": {
     "base_uri": "https://localhost:8080/"
    },
    "id": "PiBtm_-ePAMq",
    "outputId": "c58cd747-a875-487e-e3b8-a219a6750592"
   },
   "outputs": [],
   "source": [
    "emp1.displayEmployee()"
   ]
  },
  {
   "cell_type": "code",
   "execution_count": null,
   "metadata": {
    "colab": {
     "base_uri": "https://localhost:8080/"
    },
    "id": "y0_-mYg-PM61",
    "outputId": "e4e5333f-cf1a-4170-df9a-a8f540a61cda"
   },
   "outputs": [],
   "source": [
    "emp1.salary"
   ]
  },
  {
   "cell_type": "code",
   "execution_count": null,
   "metadata": {
    "id": "i0NVpyN6PymU"
   },
   "outputs": [],
   "source": [
    "emp2= Employee(\"Vyshnavi\",\"50000\")"
   ]
  },
  {
   "cell_type": "code",
   "execution_count": null,
   "metadata": {
    "colab": {
     "base_uri": "https://localhost:8080/"
    },
    "id": "yrvEBmK6P-2e",
    "outputId": "9590f200-5753-451f-d630-6483a31ce3c9"
   },
   "outputs": [],
   "source": [
    "emp2.displayCount()"
   ]
  },
  {
   "cell_type": "code",
   "execution_count": null,
   "metadata": {
    "id": "YpFXU5_-QJ1r"
   },
   "outputs": [],
   "source": [
    "dir(emp2)"
   ]
  },
  {
   "cell_type": "code",
   "execution_count": null,
   "metadata": {
    "id": "H8jxDGDVQo2a"
   },
   "outputs": [],
   "source": [
    "emp1.age =20"
   ]
  },
  {
   "cell_type": "code",
   "execution_count": null,
   "metadata": {
    "id": "n9Fbku4BQsHW"
   },
   "outputs": [],
   "source": [
    "dir(emp1)"
   ]
  },
  {
   "cell_type": "code",
   "execution_count": null,
   "metadata": {
    "id": "2DGpKyhwQzGi"
   },
   "outputs": [],
   "source": [
    "dir(emp2)"
   ]
  },
  {
   "cell_type": "code",
   "execution_count": null,
   "metadata": {
    "colab": {
     "base_uri": "https://localhost:8080/"
    },
    "id": "i6roAxU1REQr",
    "outputId": "37cf2784-58e2-40d7-f3b3-ee1790922bc6"
   },
   "outputs": [],
   "source": [
    "emp1.age"
   ]
  },
  {
   "cell_type": "code",
   "execution_count": null,
   "metadata": {
    "colab": {
     "base_uri": "https://localhost:8080/"
    },
    "id": "wrY7lfD9R3xF",
    "outputId": "439ecdfb-7691-420c-aac8-20e951b10af7"
   },
   "outputs": [],
   "source": [
    "hasattr(emp1,'age')"
   ]
  },
  {
   "cell_type": "code",
   "execution_count": null,
   "metadata": {
    "colab": {
     "base_uri": "https://localhost:8080/"
    },
    "id": "HXy2aN2ZSArG",
    "outputId": "89a23ef4-a695-4569-eb37-0f4af84931bb"
   },
   "outputs": [],
   "source": [
    "hasattr(emp2,'age')"
   ]
  },
  {
   "cell_type": "code",
   "execution_count": null,
   "metadata": {
    "colab": {
     "base_uri": "https://localhost:8080/"
    },
    "id": "-UOVmDPySHYz",
    "outputId": "5200fbb8-e245-4508-93c0-f48b4a807a80"
   },
   "outputs": [],
   "source": [
    "getattr(emp1,'age')"
   ]
  },
  {
   "cell_type": "code",
   "execution_count": null,
   "metadata": {
    "colab": {
     "base_uri": "https://localhost:8080/",
     "height": 171
    },
    "id": "fvbDRTSeSPSI",
    "outputId": "d5976ca8-c751-49cd-9d43-d80b5d2f0cb3"
   },
   "outputs": [],
   "source": [
    "getattr(emp2,'age')"
   ]
  },
  {
   "cell_type": "code",
   "execution_count": null,
   "metadata": {
    "id": "zo-9RR7dSljg"
   },
   "outputs": [],
   "source": [
    "setattr(emp1,'age',22)"
   ]
  },
  {
   "cell_type": "code",
   "execution_count": null,
   "metadata": {
    "colab": {
     "base_uri": "https://localhost:8080/"
    },
    "id": "SiJ5BubASsNq",
    "outputId": "6db149dc-ecbc-4f00-f123-3e216546d128"
   },
   "outputs": [],
   "source": [
    "getattr(emp1,'age')"
   ]
  },
  {
   "cell_type": "code",
   "execution_count": null,
   "metadata": {
    "id": "1LR5Fx-XSxiR"
   },
   "outputs": [],
   "source": [
    "setattr(emp2,'age',21)"
   ]
  },
  {
   "cell_type": "code",
   "execution_count": null,
   "metadata": {
    "colab": {
     "base_uri": "https://localhost:8080/"
    },
    "id": "h3Os2WaPTNa-",
    "outputId": "19d954f1-6378-4d1e-f51d-2ae3a4acfdb7"
   },
   "outputs": [],
   "source": [
    "hasattr(emp2,'age')"
   ]
  },
  {
   "cell_type": "code",
   "execution_count": null,
   "metadata": {
    "id": "s7KboQADTTi-"
   },
   "outputs": [],
   "source": [
    "delattr(emp1,'age')"
   ]
  },
  {
   "cell_type": "code",
   "execution_count": null,
   "metadata": {
    "colab": {
     "base_uri": "https://localhost:8080/"
    },
    "id": "vQMUVWoATYV6",
    "outputId": "1db1f1cf-ef68-4d41-bfc8-0a8f4b77da3f"
   },
   "outputs": [],
   "source": [
    "hasattr(emp1,'age')"
   ]
  },
  {
   "cell_type": "code",
   "execution_count": null,
   "metadata": {
    "colab": {
     "base_uri": "https://localhost:8080/"
    },
    "id": "dA2ChEghTkpN",
    "outputId": "0310bac8-7e4e-48bc-f19a-8b3572302b8d"
   },
   "outputs": [],
   "source": [
    "print(Employee.__doc__)"
   ]
  },
  {
   "cell_type": "code",
   "execution_count": null,
   "metadata": {
    "colab": {
     "base_uri": "https://localhost:8080/"
    },
    "id": "GIh-dVs1Too2",
    "outputId": "9665e6f0-1cd8-42fd-bb44-eedf7ce94878"
   },
   "outputs": [],
   "source": [
    "print(Employee.__name__)"
   ]
  },
  {
   "cell_type": "markdown",
   "metadata": {
    "id": "ULO3cT_lUE8_"
   },
   "source": [
    "Garbage Collection / Destroying object allocated memory"
   ]
  },
  {
   "cell_type": "code",
   "execution_count": null,
   "metadata": {
    "colab": {
     "base_uri": "https://localhost:8080/"
    },
    "id": "MlyVLL_MUPHD",
    "outputId": "2636ab08-bfcc-4f48-9620-523095ee10c5"
   },
   "outputs": [],
   "source": [
    "class point:\n",
    "  def __init__(self,X=0,Y=0):\n",
    "    self.X = X\n",
    "    self.Y = Y\n",
    "\n",
    "  def __del__(self):\n",
    "    class_name = self.__class__\n",
    "    print(class_name, \"destroyed\")\n",
    "\n",
    "\n",
    "pt1 =point()\n",
    "pt2 =pt1\n",
    "pt3 =pt1\n",
    "print(id(pt1), id(pt2),id(pt3))\n",
    "del pt1"
   ]
  },
  {
   "cell_type": "markdown",
   "metadata": {
    "id": "czfQ3SdjVw6B"
   },
   "source": [
    "Inheritance"
   ]
  },
  {
   "cell_type": "code",
   "execution_count": null,
   "metadata": {
    "id": "5q1VwKDyUYek"
   },
   "outputs": [],
   "source": [
    "class Parent:  # Defnition of parent Class\n",
    "  ParentAttr=100\n",
    "  def __init__(self):\n",
    "    print(\"Calling Parent Constructor\")\n",
    "  def parentMethod(self):\n",
    "    print(\"parent method is called\")  \n",
    "  def setAttr(self, attr):\n",
    "    Parent.ParentAttr = attr\n",
    "  def getAttr(self):\n",
    "    print(\"Parent Attribute is : \", Parent.ParentAttr)\n",
    "\n",
    "class Child(Parent): #Defnition of child Class\n",
    "  def __init__(self):\n",
    "    print(\"Calling Child Constructor\")\n",
    "  def childMethod(self):\n",
    "    print(\"calling the child method\")  "
   ]
  },
  {
   "cell_type": "code",
   "execution_count": null,
   "metadata": {
    "id": "QCwakQ8BXxWk"
   },
   "outputs": [],
   "source": [
    "c.setAttr(200)"
   ]
  },
  {
   "cell_type": "code",
   "execution_count": null,
   "metadata": {
    "colab": {
     "base_uri": "https://localhost:8080/"
    },
    "id": "QATf8rgMXtM5",
    "outputId": "df6a0bdb-c6c9-4acb-ab2d-c9fc06c9118a"
   },
   "outputs": [],
   "source": [
    "c.getAttr()"
   ]
  },
  {
   "cell_type": "code",
   "execution_count": null,
   "metadata": {
    "colab": {
     "base_uri": "https://localhost:8080/"
    },
    "id": "2YmNqnkCXmJ0",
    "outputId": "9909064a-1877-470f-fb95-680e0aa30866"
   },
   "outputs": [],
   "source": [
    "c.parentMethod()"
   ]
  },
  {
   "cell_type": "code",
   "execution_count": null,
   "metadata": {
    "colab": {
     "base_uri": "https://localhost:8080/"
    },
    "id": "2GLm-BFjXVkf",
    "outputId": "8a9e444c-4acd-47ff-c5c9-a77552317496"
   },
   "outputs": [],
   "source": [
    "c=Child()\n",
    "c.childMethod()"
   ]
  },
  {
   "cell_type": "markdown",
   "metadata": {
    "id": "E5RmKVjQY_TV"
   },
   "source": [
    "Private Members"
   ]
  },
  {
   "cell_type": "code",
   "execution_count": null,
   "metadata": {
    "colab": {
     "base_uri": "https://localhost:8080/"
    },
    "id": "6ZrknASrY-4A",
    "outputId": "d297a486-db4a-4729-f65b-f76c35adeb09"
   },
   "outputs": [],
   "source": [
    "class JustCounter:\n",
    "  _secretCount = 0\n",
    "\n",
    "  def count(self):\n",
    "    self._secretCount += 1\n",
    "    print(self._secretCount)\n",
    "\n",
    "counter = JustCounter()\n",
    "counter.count()\n",
    "counter.count()\n",
    "print(\"SecretCount value is\", counter._secretCount)"
   ]
  },
  {
   "cell_type": "code",
   "execution_count": null,
   "metadata": {
    "colab": {
     "base_uri": "https://localhost:8080/"
    },
    "id": "goSclK6ba4Y6",
    "outputId": "ce539bb7-c1db-448a-eb85-5a02dceeae0b"
   },
   "outputs": [],
   "source": [
    "dir(counter)"
   ]
  },
  {
   "cell_type": "code",
   "execution_count": null,
   "metadata": {
    "colab": {
     "base_uri": "https://localhost:8080/"
    },
    "id": "cecZz2wqZ1HU",
    "outputId": "6aa345af-e887-41f0-d30f-564147729db3"
   },
   "outputs": [],
   "source": [
    "class JustCounter:\n",
    "  __secretCount = 0\n",
    "\n",
    "  def count(self):\n",
    "    self.__secretCount += 1\n",
    "    print(self.__secretCount)\n",
    "\n",
    "counter = JustCounter()\n",
    "counter.count()\n",
    "counter.count()\n",
    "print(\"SecretCount value is\", counter._JustCounter__secretCount)"
   ]
  },
  {
   "cell_type": "code",
   "execution_count": null,
   "metadata": {
    "colab": {
     "base_uri": "https://localhost:8080/"
    },
    "id": "8P_HjsDGaVp9",
    "outputId": "b012d8bc-ed10-4924-a193-0f00204ae7aa"
   },
   "outputs": [],
   "source": [
    "dir(counter)"
   ]
  },
  {
   "cell_type": "markdown",
   "metadata": {
    "id": "iSsGPBGrcpRf"
   },
   "source": [
    "Polymorphism"
   ]
  },
  {
   "cell_type": "code",
   "execution_count": null,
   "metadata": {
    "id": "sbwmAWv4crIm"
   },
   "outputs": [],
   "source": [
    "import math\n",
    "class Rectangle:\n",
    "  def __init__(self,length,breadth):\n",
    "    self.l =length\n",
    "    self.b = breadth\n",
    "  def area(self):\n",
    "    return self.l * self.b\n",
    "  def __perimeter__(self):\n",
    "    return 2 * self.l * self.b  \n",
    "\n",
    "class circle:\n",
    "  def __init__(self,radius):\n",
    "    self.r =radius\n",
    "  def area(self):\n",
    "    return math.pi * self.r * self.r\n",
    "\n"
   ]
  },
  {
   "cell_type": "code",
   "execution_count": null,
   "metadata": {
    "id": "FtB5bOmHejlO"
   },
   "outputs": [],
   "source": [
    "dir(rec)"
   ]
  },
  {
   "cell_type": "code",
   "execution_count": null,
   "metadata": {
    "colab": {
     "base_uri": "https://localhost:8080/"
    },
    "id": "itG_ibJVdd25",
    "outputId": "b2a68142-9b1f-48ae-c06b-c4d49c10bb24"
   },
   "outputs": [],
   "source": [
    "rec =Rectangle(5,3)\n",
    "cr = circle(4)\n",
    "rec.__perimeter__()"
   ]
  },
  {
   "attachments": {},
   "cell_type": "markdown",
   "metadata": {
    "id": "XMEG5plrCosM"
   },
   "source": [
    "# Regular Expression"
   ]
  },
  {
   "cell_type": "code",
   "execution_count": null,
   "metadata": {
    "colab": {
     "base_uri": "https://localhost:8080/"
    },
    "id": "r9WPVJzECvAk",
    "outputId": "af46db7d-dc45-446c-8b00-fca865eaed7f"
   },
   "outputs": [],
   "source": [
    "import re\n",
    "txt = \"There is a rain in spain\"\n",
    "#re.search(\"search string\",\"Main string\", flag)\n",
    "x=re.search(\"^the.*spain$\",txt,re.I)\n",
    "\n",
    "if x:\n",
    "  print(\"There is a match\")\n",
    "else:\n",
    "  print(\"No match\")\n",
    "\n"
   ]
  },
  {
   "cell_type": "markdown",
   "metadata": {
    "id": "2wQIcVcfGVKp"
   },
   "source": [
    "Metacharacters"
   ]
  },
  {
   "cell_type": "code",
   "execution_count": null,
   "metadata": {
    "colab": {
     "base_uri": "https://localhost:8080/"
    },
    "id": "OpXpgPPxGZZN",
    "outputId": "dc603b22-89c5-460b-ed16-813ed4feb70c"
   },
   "outputs": [],
   "source": [
    "txt = \"The rain is Spain\"\n",
    "\n",
    "#find all the lower case characters between a to m\n",
    "x=re.findall(\"[a-m]\",txt)\n",
    "print(x)"
   ]
  },
  {
   "cell_type": "code",
   "execution_count": null,
   "metadata": {
    "colab": {
     "base_uri": "https://localhost:8080/"
    },
    "id": "ULiI6QYsHGo_",
    "outputId": "44f2ea23-de41-4df0-d2bd-2642fdb75609"
   },
   "outputs": [],
   "source": [
    "txt = \"the cost will be 100 rupees and 50 paisa\"\n",
    "\n",
    "#find all digit characters\n",
    "x=re.findall(\"\\d\",txt)\n",
    "print(x)"
   ]
  },
  {
   "cell_type": "code",
   "execution_count": null,
   "metadata": {
    "colab": {
     "base_uri": "https://localhost:8080/"
    },
    "id": "-GsSvHk_IDJC",
    "outputId": "1a3b46b0-8e1b-401c-b378-5f04bb237310"
   },
   "outputs": [],
   "source": [
    "txt=\"hello hero heroine helio\"\n",
    "\n",
    "#searxh for a sequence with \"he\" followed by 2 other characters and then \"o\"\n",
    "x=re.findall(\"he..o\", txt)\n",
    "print(x)"
   ]
  },
  {
   "cell_type": "code",
   "execution_count": null,
   "metadata": {
    "colab": {
     "base_uri": "https://localhost:8080/"
    },
    "id": "Csjv0QgQJSkM",
    "outputId": "ef671194-f2f3-4bc0-aa60-dd3e50dde1fc"
   },
   "outputs": [],
   "source": [
    "txt=\"helio hero heroine hello\"\n",
    "\n",
    "x=re.findall(\"hello$\", txt)\n",
    "if x:\n",
    "  print(\"begins with hello\")\n",
    "else:\n",
    "  print(\"No match\")  "
   ]
  },
  {
   "cell_type": "code",
   "execution_count": null,
   "metadata": {
    "colab": {
     "base_uri": "https://localhost:8080/"
    },
    "id": "22MXoz4gKFd1",
    "outputId": "df71b2af-5361-4010-d1f4-af97b2011f21"
   },
   "outputs": [],
   "source": [
    "txt=\"heo\"\n",
    "\n",
    "#searxh for a sequence with \"he\" followed by 0 or more characters and then \"o\"\n",
    "x=re.findall(\"he.*o\", txt)\n",
    "print(x)"
   ]
  },
  {
   "cell_type": "code",
   "execution_count": null,
   "metadata": {
    "colab": {
     "base_uri": "https://localhost:8080/"
    },
    "id": "UIy6I5ULKquM",
    "outputId": "79e5c6dd-d73f-4824-e047-6e96aa7ccc62"
   },
   "outputs": [],
   "source": [
    "txt=\"heo\"\n",
    "\n",
    "#searxh for a sequence with \"he\" followed by 1 or more characters and then \"o\"\n",
    "x=re.findall(\"he.+o\", txt)\n",
    "print(x)"
   ]
  },
  {
   "cell_type": "code",
   "execution_count": null,
   "metadata": {
    "colab": {
     "base_uri": "https://localhost:8080/"
    },
    "id": "Ib3MNJG4L1LI",
    "outputId": "f69f2774-5a1c-4742-e3b0-feb9af06fcd6"
   },
   "outputs": [],
   "source": [
    "txt=\"helio hero heroine hellos\"\n",
    "x=re.findall(\"he.+o\", txt)\n",
    "print(x)"
   ]
  },
  {
   "cell_type": "code",
   "execution_count": null,
   "metadata": {
    "colab": {
     "base_uri": "https://localhost:8080/"
    },
    "id": "0oUEoetFMIHq",
    "outputId": "a7259861-0841-48b0-8ef5-2b3df605813e"
   },
   "outputs": [],
   "source": [
    "txt=\"heo\"\n",
    "\n",
    "#searxh for a sequence with \"he\" followed by 1 or 0 characters and then \"o\"\n",
    "x=re.findall(\"he.?o\", txt)\n",
    "print(x)"
   ]
  },
  {
   "cell_type": "code",
   "execution_count": null,
   "metadata": {
    "colab": {
     "base_uri": "https://localhost:8080/"
    },
    "id": "98J-42i2NKh_",
    "outputId": "923fbd9c-1b65-41f8-a856-3062048ffde4"
   },
   "outputs": [],
   "source": [
    "txt = \"the rain in spain falls in the plain\"\n",
    "\n",
    "x=re.findall(\"falls|stays\",txt)\n",
    "if x:\n",
    "  print(\"Pattern matched\")\n",
    "else:\n",
    "  print(\"No match\")  "
   ]
  },
  {
   "attachments": {},
   "cell_type": "markdown",
   "metadata": {
    "id": "yE3ZgkggOn6g"
   },
   "source": [
    "speical Sequences"
   ]
  },
  {
   "cell_type": "code",
   "execution_count": null,
   "metadata": {
    "colab": {
     "base_uri": "https://localhost:8080/"
    },
    "id": "54vc18uUOq33",
    "outputId": "701a0b78-8fb8-40ee-bacc-fdf0f4e1da8e"
   },
   "outputs": [],
   "source": [
    "txt = \"Tha rain The in spain\"\n",
    "\n",
    "x=re.findall(\"\\AThe\",txt)\n",
    "print(x)\n",
    "if x:\n",
    "  print(\"pattern matched\")\n",
    "else:\n",
    "  print(\"No match\")  "
   ]
  },
  {
   "cell_type": "code",
   "execution_count": null,
   "metadata": {
    "colab": {
     "base_uri": "https://localhost:8080/"
    },
    "id": "oEIt8iQ6QAHa",
    "outputId": "17efbac5-ed1b-4714-fe10-012cba1aba42"
   },
   "outputs": [],
   "source": [
    "txt = \"STharainTheSinspain\"\n",
    "\n",
    "#\\b character , it will check for that particular character at the start of each word\n",
    "x=re.findall(r\"\\bS\",txt)\n",
    "print(x)\n",
    "if x:\n",
    "  print(\"pattern matched\")\n",
    "else:\n",
    "  print(\"No match\")  "
   ]
  },
  {
   "cell_type": "code",
   "execution_count": null,
   "metadata": {
    "colab": {
     "base_uri": "https://localhost:8080/"
    },
    "id": "al2nsiEnRAEp",
    "outputId": "8699b5bd-9d35-4c6b-da00-01e4eaa8fd37"
   },
   "outputs": [],
   "source": [
    "txt = \"Tha rain The Sin spain\"\n",
    "\n",
    "#\\b character , it will check for that particular character at the end of each word\n",
    "x=re.findall(r\"in\\b\",txt)\n",
    "print(x)\n",
    "if x:\n",
    "  print(\"pattern matched\")\n",
    "else:\n",
    "  print(\"No match\") "
   ]
  },
  {
   "cell_type": "code",
   "execution_count": null,
   "metadata": {
    "colab": {
     "base_uri": "https://localhost:8080/"
    },
    "id": "XqfStwV4RbBM",
    "outputId": "a0eb6cb4-3356-4a62-82bd-3559b6b16d02"
   },
   "outputs": [],
   "source": [
    "txt = \"Tha raining The Sin spain aining\"\n",
    "\n",
    "#\\b character , it will check for that particular character/sequence apart from the start of each word\n",
    "x=re.findall(\"\\Bain\",txt)\n",
    "print(x)\n",
    "if x:\n",
    "  print(\"pattern matched\")\n",
    "else:\n",
    "  print(\"No match\") "
   ]
  },
  {
   "cell_type": "code",
   "execution_count": null,
   "metadata": {
    "id": "fvSvvcjzSkD0"
   },
   "outputs": [],
   "source": [
    "txt = \"Tha raining The Sin spain aining\"\n",
    "\n",
    "#\\b character , it will check for that particular character/sequence apart from the start of each word\n",
    "x=re.findall(\"\\B\" txt)\n",
    "print(x)\n",
    "if x:\n",
    "  print(\"pattern matched\")\n",
    "else:\n",
    "  print(\"No match\") "
   ]
  },
  {
   "cell_type": "code",
   "execution_count": null,
   "metadata": {
    "colab": {
     "base_uri": "https://localhost:8080/"
    },
    "id": "ZZJUzZThdnuT",
    "outputId": "bef882cb-0bfc-4cef-a101-622dcdd050f6"
   },
   "outputs": [],
   "source": [
    "text = \"the rain in spain\"\n",
    "x= re.findall(r\"\\s\",txt)\n",
    "print(x)\n",
    "if x:\n",
    "  print (\"there is a space in the given text\")\n",
    "else:\n",
    "  print(\"there is no space\")  "
   ]
  },
  {
   "cell_type": "code",
   "execution_count": null,
   "metadata": {
    "colab": {
     "base_uri": "https://localhost:8080/"
    },
    "id": "YvsIz73BeWIO",
    "outputId": "70454c09-a6f2-49e1-fa7b-5ffa39ded028"
   },
   "outputs": [],
   "source": [
    "text = \"the rain in Spain\"\n",
    "x= re.findall(r\"\\S\",text)\n",
    "print(x)"
   ]
  },
  {
   "cell_type": "markdown",
   "metadata": {
    "id": "0F0z6FJtfPNs"
   },
   "source": [
    "SETS"
   ]
  },
  {
   "cell_type": "code",
   "execution_count": null,
   "metadata": {
    "colab": {
     "base_uri": "https://localhost:8080/"
    },
    "id": "0DvQQasffQpQ",
    "outputId": "aebf71e9-1527-4bd6-df36-90019b58f401"
   },
   "outputs": [],
   "source": [
    "text = \"the rain in spain\"\n",
    "x= re.findall(r\"[arn]\",text)\n",
    "Y= re.findall(r\"[^arn]\",text)\n",
    "print(x)\n",
    "print(Y)"
   ]
  },
  {
   "cell_type": "code",
   "execution_count": null,
   "metadata": {
    "colab": {
     "base_uri": "https://localhost:8080/"
    },
    "id": "7JSFcon5hEP2",
    "outputId": "d1d25277-462d-49ea-c745-10d13884950f"
   },
   "outputs": [],
   "source": [
    "text = \"the rain in spain will be for 02 months and 18 days\"\n",
    "x= re.findall(r\"[0-5][0-9]\",text)\n",
    "print(x)"
   ]
  },
  {
   "cell_type": "code",
   "execution_count": null,
   "metadata": {
    "colab": {
     "base_uri": "https://localhost:8080/"
    },
    "id": "9ZhRMfaohwCc",
    "outputId": "40997daa-77d5-4d11-e5d2-564273d66017"
   },
   "outputs": [],
   "source": [
    "text = \"I have called 8 times before 12:15PM\"\n",
    "x= re.findall(r\"[0-9][0-9]\",text)\n",
    "print(x)"
   ]
  },
  {
   "cell_type": "code",
   "execution_count": null,
   "metadata": {
    "colab": {
     "base_uri": "https://localhost:8080/"
    },
    "id": "n8qqc6rQioNV",
    "outputId": "e76b8fa2-ea1d-43f2-f08f-2464a55ce868"
   },
   "outputs": [],
   "source": [
    "text = \"I have called 8 times before 12:15PM\"\n",
    "x= re.findall(r\"[a-zA-Z0-9]\",text)\n",
    "print(x)"
   ]
  },
  {
   "cell_type": "markdown",
   "metadata": {
    "id": "zVqoiZuQjgk0"
   },
   "source": [
    "findall function"
   ]
  },
  {
   "cell_type": "code",
   "execution_count": null,
   "metadata": {
    "colab": {
     "base_uri": "https://localhost:8080/"
    },
    "id": "rnHeJBHBjj_w",
    "outputId": "7448f87d-252e-42ee-cb57-7a07a69ce6f9"
   },
   "outputs": [],
   "source": [
    "text = \"The rain in spain\"\n",
    "x=re.findall(\"ai\",text)\n",
    "print(x)"
   ]
  },
  {
   "cell_type": "code",
   "execution_count": null,
   "metadata": {
    "colab": {
     "base_uri": "https://localhost:8080/"
    },
    "id": "Te6t5H3dj5WM",
    "outputId": "1a67c3c6-c77f-4230-e640-340981d3bc0d"
   },
   "outputs": [],
   "source": [
    "text = \"The rain in spain\"\n",
    "x=re.search(\"ai\",text)\n",
    "print(x)\n",
    "print(\"first detected location\",x.start())"
   ]
  },
  {
   "cell_type": "code",
   "execution_count": null,
   "metadata": {
    "colab": {
     "base_uri": "https://localhost:8080/"
    },
    "id": "MozVnICIkZwq",
    "outputId": "dd42e427-9ce5-4482-e1b5-93aa3707c25d"
   },
   "outputs": [],
   "source": [
    "text = \"The rain in spain\"\n",
    "x=re.search(\"\\s\",text)\n",
    "print(x)\n",
    "print(\"first detected location\",x.start())"
   ]
  },
  {
   "cell_type": "code",
   "execution_count": null,
   "metadata": {
    "colab": {
     "base_uri": "https://localhost:8080/",
     "height": 217
    },
    "id": "3WJNnx7skoy_",
    "outputId": "69ba06be-33ec-4b00-c904-3cd16349f19f"
   },
   "outputs": [],
   "source": [
    "text = \"The rain in spain\"\n",
    "x=re.search(\"india\",text)\n",
    "print(x)\n",
    "print(\"first detected location\",x.start())"
   ]
  },
  {
   "cell_type": "code",
   "execution_count": null,
   "metadata": {
    "colab": {
     "base_uri": "https://localhost:8080/"
    },
    "id": "Mr117yDpk9vR",
    "outputId": "e22d2d90-4c5e-4f29-8101-6ef1a67d38df"
   },
   "outputs": [],
   "source": [
    "text = \"The rain in spain\"\n",
    "x=re.split(\"i\",text)\n",
    "print(x)"
   ]
  },
  {
   "cell_type": "code",
   "execution_count": null,
   "metadata": {
    "colab": {
     "base_uri": "https://localhost:8080/"
    },
    "id": "oIFPD6L_lN6w",
    "outputId": "5df30c0f-0872-40b6-ee63-720577be8eb0"
   },
   "outputs": [],
   "source": [
    "text = \"The rain in spain\"\n",
    "x=re.split(\"\\s\",text,1)\n",
    "print(x)"
   ]
  },
  {
   "cell_type": "code",
   "execution_count": null,
   "metadata": {
    "colab": {
     "base_uri": "https://localhost:8080/"
    },
    "id": "fOUmGA8UmB2G",
    "outputId": "0c1c6648-7bbd-4178-9014-bca4cf8b30d1"
   },
   "outputs": [],
   "source": [
    "text = \"The rain in spain\"\n",
    "x=re.sub(\"\\s\",\"9\",text,1)\n",
    "print(x)"
   ]
  },
  {
   "cell_type": "code",
   "execution_count": null,
   "metadata": {
    "colab": {
     "base_uri": "https://localhost:8080/"
    },
    "id": "hLHYkVSzmbf6",
    "outputId": "5d619523-4336-43c7-b348-689cb506abd8"
   },
   "outputs": [],
   "source": [
    "text = \"The rain in spain\"\n",
    "x=re.search(\"ai\",text)\n",
    "print(x)\n",
    "print(x.span())\n",
    "print(x.string)"
   ]
  },
  {
   "cell_type": "code",
   "execution_count": null,
   "metadata": {
    "colab": {
     "base_uri": "https://localhost:8080/"
    },
    "id": "nQM8Ai0AnKrP",
    "outputId": "a85710d1-9d6f-4581-f401-4a6286d9d2cd"
   },
   "outputs": [],
   "source": [
    "text = \"The rain in Spain\"\n",
    "x=re.search(r\"\\bS\",text)\n",
    "print(x)\n",
    "print(x.group())"
   ]
  },
  {
   "cell_type": "code",
   "execution_count": null,
   "metadata": {
    "colab": {
     "base_uri": "https://localhost:8080/"
    },
    "id": "whOZYrr8nn7-",
    "outputId": "df03a4ae-eb90-46c2-8100-22e1446e8104"
   },
   "outputs": [],
   "source": [
    "text = \"The rain in Spain\"\n",
    "x=re.search(r\"\\bS\\w+\",text)\n",
    "print(x)\n",
    "print(x.group())"
   ]
  },
  {
   "attachments": {},
   "cell_type": "markdown",
   "metadata": {
    "id": "ziYGk9ZQpqOJ"
   },
   "source": [
    "# MultiThreading"
   ]
  },
  {
   "cell_type": "code",
   "execution_count": null,
   "metadata": {
    "colab": {
     "base_uri": "https://localhost:8080/"
    },
    "id": "MSnel3_TtEUp",
    "outputId": "e535b8b4-abb9-4169-b160-8b00968b1c66"
   },
   "outputs": [],
   "source": [
    "import time\n",
    "\n",
    "\n",
    "def calc_square(Numbers):\n",
    "  print(\"calculate the square of the numbers\")\n",
    "  for i in Numbers:\n",
    "    time.sleep(0.2)\n",
    "    print(\"square\",i*i)\n",
    "\n",
    "\n",
    "def calc_cube(Numbers):\n",
    "  print(\"calculate the cube of the numbers\")\n",
    "  for i in Numbers:\n",
    "    time.sleep(0.2)\n",
    "    print(\"cube\",i*i*i)\n",
    "\n",
    "arr = [2,3,4,5,6,7]\n",
    "\n",
    "t=time.time()\n",
    "calc_square(arr)\n",
    "calc_cube(arr)\n",
    "\n",
    "print(\"Total time taken for serial execution\",time.time() - t )\n",
    "print(\" I am done with the calculation\")"
   ]
  },
  {
   "cell_type": "code",
   "execution_count": null,
   "metadata": {
    "colab": {
     "base_uri": "https://localhost:8080/"
    },
    "id": "VbWOgMONxZaM",
    "outputId": "0c481916-de5d-4b3f-e421-c2bd1a295ec4"
   },
   "outputs": [],
   "source": [
    "import time\n",
    "import threading\n",
    "\n",
    "\n",
    "def calc_square(Numbers):\n",
    "  print(\"calculate the square of the numbers\")\n",
    "  for i in Numbers:\n",
    "    time.sleep(0.2)\n",
    "    print(\"square\",i*i)\n",
    "\n",
    "\n",
    "def calc_cube(Numbers):\n",
    "  print(\"calculate the cube of the numbers\")\n",
    "  for i in Numbers:\n",
    "    time.sleep(0.2)\n",
    "    print(\"cube\",i*i*i)\n",
    "\n",
    "arr = [2,3,4,5,6,7]\n",
    "\n",
    "t=time.time()\n",
    "\n",
    "t1=threading.Thread(target=calc_square,args=(arr,))\n",
    "t2=threading.Thread(target=calc_cube,args=(arr,))\n",
    "\n",
    "t1.start()\n",
    "t2.start()\n",
    "\n",
    "t1.join()\n",
    "t2.join()\n",
    "\n",
    "print(\"Total time taken for Parallel execution\",time.time() - t )\n",
    "print(\" I am done with the calculation\")"
   ]
  }
 ],
 "metadata": {
  "colab": {
   "collapsed_sections": [
    "v93N9-yh6mf4",
    "yGbmhSgdbu_h",
    "-xvi9IpTy_Ss",
    "I7mayY2Ivy2h"
   ],
   "provenance": []
  },
  "kernelspec": {
   "display_name": "Python 3",
   "language": "python",
   "name": "python3"
  },
  "language_info": {
   "codemirror_mode": {
    "name": "ipython",
    "version": 3
   },
   "file_extension": ".py",
   "mimetype": "text/x-python",
   "name": "python",
   "nbconvert_exporter": "python",
   "pygments_lexer": "ipython3",
   "version": "3.12.1"
  },
  "vscode": {
   "interpreter": {
    "hash": "52634da84371cba311ea128a5ea7cdc41ff074b781779e754b270ff9f8153cee"
   }
  }
 },
 "nbformat": 4,
 "nbformat_minor": 0
}
