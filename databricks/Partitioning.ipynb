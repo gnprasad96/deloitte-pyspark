{
 "cells": [
  {
   "cell_type": "markdown",
   "metadata": {
    "application/vnd.databricks.v1+cell": {
     "cellMetadata": {},
     "inputWidgets": {},
     "nuid": "6aa6b8cd-53c7-4a9c-a208-b76be57b59f8",
     "showTitle": false,
     "tableResultSettingsMap": {},
     "title": ""
    }
   },
   "source": [
    "# Partitioning"
   ]
  },
  {
   "cell_type": "code",
   "execution_count": 0,
   "metadata": {
    "application/vnd.databricks.v1+cell": {
     "cellMetadata": {
      "byteLimit": 2048000,
      "rowLimit": 10000
     },
     "inputWidgets": {},
     "nuid": "e02171b5-8b8d-4b81-8826-2fb3ee1a8a24",
     "showTitle": false,
     "tableResultSettingsMap": {},
     "title": ""
    }
   },
   "outputs": [],
   "source": [
    "from pyspark.storagelevel import StorageLevel\n",
    "from pyspark.sql.types import *\n",
    "import pyspark.sql.functions as F\n",
    "from pyspark.sql import SparkSession"
   ]
  },
  {
   "cell_type": "code",
   "execution_count": 0,
   "metadata": {
    "application/vnd.databricks.v1+cell": {
     "cellMetadata": {
      "byteLimit": 2048000,
      "rowLimit": 10000
     },
     "inputWidgets": {},
     "nuid": "2750057c-8e1c-49d0-bbfc-871a866bdfb6",
     "showTitle": false,
     "tableResultSettingsMap": {},
     "title": ""
    }
   },
   "outputs": [],
   "source": [
    "spark = (\n",
    "    SparkSession\n",
    "    .builder\n",
    "    .config(\"spark.driver.memory\", \"10g\")\n",
    "    .master(\"local[*]\")\n",
    "    .appName(\"Data Partitioning\")\n",
    "    .getOrCreate()\n",
    ")\n",
    "sc = spark.sparkContext"
   ]
  },
  {
   "cell_type": "code",
   "execution_count": 0,
   "metadata": {
    "application/vnd.databricks.v1+cell": {
     "cellMetadata": {
      "byteLimit": 2048000,
      "rowLimit": 10000
     },
     "inputWidgets": {},
     "nuid": "6022a40b-5e37-4cd2-ba66-12710c400eab",
     "showTitle": false,
     "tableResultSettingsMap": {},
     "title": ""
    }
   },
   "outputs": [
    {
     "output_type": "stream",
     "name": "stdout",
     "output_type": "stream",
     "text": [
      "+-----------+-------+--------------------------+---------------+\n|activity_id|song_id|listen_date               |listen_duration|\n+-----------+-------+--------------------------+---------------+\n|1          |12     |2023-06-27 10:15:47.008867|69             |\n|2          |44     |2023-06-27 10:15:47.008867|300            |\n|3          |75     |2023-06-27 10:15:47.008867|73             |\n|4          |48     |2023-06-27 10:15:47.008867|105            |\n|5          |10     |2023-06-27 10:15:47.008867|229            |\n+-----------+-------+--------------------------+---------------+\nonly showing top 5 rows\n\n"
     ]
    }
   ],
   "source": [
    "listening_activity_file = \"/mnt/data/data/partitioning/raw/Spotify_Listening_Activity.csv\"\n",
    "df_listening_actv = spark.read.csv(listening_activity_file, header=True, inferSchema=True)\n",
    "df_listening_actv.show(5, False)"
   ]
  },
  {
   "cell_type": "code",
   "execution_count": 0,
   "metadata": {
    "application/vnd.databricks.v1+cell": {
     "cellMetadata": {
      "byteLimit": 2048000,
      "rowLimit": 10000
     },
     "inputWidgets": {},
     "nuid": "4b7ab688-7d5a-4b2b-86de-962501e20c66",
     "showTitle": false,
     "tableResultSettingsMap": {},
     "title": ""
    }
   },
   "outputs": [
    {
     "output_type": "stream",
     "name": "stdout",
     "output_type": "stream",
     "text": [
      "+-----------+-------+--------------------------+---------------+-----------+-----------+\n|activity_id|song_id|listen_time               |listen_duration|listen_date|listen_hour|\n+-----------+-------+--------------------------+---------------+-----------+-----------+\n|1          |12     |2023-06-27 10:15:47.008867|69             |2023-06-27 |10         |\n|2          |44     |2023-06-27 10:15:47.008867|300            |2023-06-27 |10         |\n|3          |75     |2023-06-27 10:15:47.008867|73             |2023-06-27 |10         |\n|4          |48     |2023-06-27 10:15:47.008867|105            |2023-06-27 |10         |\n|5          |10     |2023-06-27 10:15:47.008867|229            |2023-06-27 |10         |\n+-----------+-------+--------------------------+---------------+-----------+-----------+\nonly showing top 5 rows\n\nroot\n |-- activity_id: integer (nullable = true)\n |-- song_id: integer (nullable = true)\n |-- listen_time: timestamp (nullable = true)\n |-- listen_duration: integer (nullable = true)\n |-- listen_date: date (nullable = true)\n |-- listen_hour: integer (nullable = true)\n\nOut[5]: 11779"
     ]
    }
   ],
   "source": [
    "df_listening_actv = (\n",
    "    df_listening_actv\n",
    "    .withColumnRenamed(\"listen_date\", \"listen_time\")\n",
    "    .withColumn(\"listen_date\", F.to_date(\"listen_time\", \"yyyy-MM-dd HH:mm:ss.SSSSSS\"))\n",
    "    .withColumn(\"listen_hour\", F.hour(\"listen_time\"))\n",
    ")\n",
    "\n",
    "df_listening_actv.show(5, False)\n",
    "df_listening_actv.printSchema()\n",
    "df_listening_actv.count()"
   ]
  },
  {
   "cell_type": "markdown",
   "metadata": {
    "application/vnd.databricks.v1+cell": {
     "cellMetadata": {},
     "inputWidgets": {},
     "nuid": "f31933ac-7028-468e-9211-335d0de06aa7",
     "showTitle": false,
     "tableResultSettingsMap": {},
     "title": ""
    }
   },
   "source": [
    "## Partitioning By `listen_date`\n",
    "\n",
    "Let's say we want to **analyse the listening behaviours of user over time**. If we're given the complete dataset (with no partitions), Spark would scan the whole dataset for finding a particular date (similar to the bookshelf analogy where you would scan the entire bookself for finding a book if it is not organized). Given that our usecase needs analysis by date, partitioning (creating folders) on date would help Spark pin point to the exact folder. This makes searching very easy and Spark doesn't scan the entire dataset.  "
   ]
  },
  {
   "cell_type": "code",
   "execution_count": 0,
   "metadata": {
    "application/vnd.databricks.v1+cell": {
     "cellMetadata": {
      "byteLimit": 2048000,
      "rowLimit": 10000
     },
     "inputWidgets": {},
     "nuid": "20c2c6b5-4dc4-4394-8226-ca4872d6dbfb",
     "showTitle": false,
     "tableResultSettingsMap": {},
     "title": ""
    }
   },
   "outputs": [],
   "source": [
    "# Partitioning listening activity by the listen date\n",
    "(\n",
    "    df_listening_actv\n",
    "    .write\n",
    "    .partitionBy(\"listen_date\")\n",
    "    .mode(\"overwrite\")\n",
    "    .parquet(\"/dbfs/data/data/partitioning/partitioned/listening_activity_pt\")\n",
    ")"
   ]
  },
  {
   "cell_type": "markdown",
   "metadata": {
    "application/vnd.databricks.v1+cell": {
     "cellMetadata": {},
     "inputWidgets": {},
     "nuid": "d0260b3b-240a-4f94-bd63-94df7c87b549",
     "showTitle": false,
     "tableResultSettingsMap": {},
     "title": ""
    }
   },
   "source": [
    "## Partition Pruning"
   ]
  },
  {
   "cell_type": "code",
   "execution_count": 0,
   "metadata": {
    "application/vnd.databricks.v1+cell": {
     "cellMetadata": {
      "byteLimit": 2048000,
      "rowLimit": 10000
     },
     "inputWidgets": {},
     "nuid": "0758f056-3193-4060-8979-d49682247e40",
     "showTitle": false,
     "tableResultSettingsMap": {},
     "title": ""
    }
   },
   "outputs": [
    {
     "output_type": "stream",
     "name": "stdout",
     "output_type": "stream",
     "text": [
      "== Physical Plan ==\n*(1) ColumnarToRow\n+- FileScan parquet [activity_id#1247,song_id#1248,listen_time#1249,listen_duration#1250,listen_hour#1251,listen_date#1252] Batched: true, DataFilters: [], Format: Parquet, Location: InMemoryFileIndex(1 paths)[dbfs:/dbfs/data/data/partitioning/partitioned/listening_activity_pt], PartitionFilters: [isnotnull(listen_date#1252), (listen_date#1252 = 2019-01-01)], PushedFilters: [], ReadSchema: struct<activity_id:int,song_id:int,listen_time:timestamp,listen_duration:int,listen_hour:int>\n\n\n"
     ]
    }
   ],
   "source": [
    "df_listening_actv_pt_pruned = spark.read.parquet(\"/dbfs/data/data/partitioning/partitioned/listening_activity_pt\")\n",
    "df_listening_actv_pt_pruned.filter(\"listen_date = '2019-01-01'\").explain()"
   ]
  },
  {
   "cell_type": "markdown",
   "metadata": {
    "application/vnd.databricks.v1+cell": {
     "cellMetadata": {},
     "inputWidgets": {},
     "nuid": "7d7174aa-1daa-4d62-af78-f053f4c715d8",
     "showTitle": false,
     "tableResultSettingsMap": {},
     "title": ""
    }
   },
   "source": [
    "## What Problems Does Partitioning Solve? \n",
    "1. `Fast Search (Query Performance)`: Spark will only process the relevant partition instead of the entire dataset (example above). This greatly reduces I/O and query execution time. \n",
    "2. `Parallelism / Resource Utilization`: Each core processes 1 partition; More number of partitions, more is the parallelism; again this does not mean we forcefully increase the number of partitions. Each partition should be `128MB` in size. \n"
   ]
  },
  {
   "cell_type": "markdown",
   "metadata": {
    "application/vnd.databricks.v1+cell": {
     "cellMetadata": {},
     "inputWidgets": {},
     "nuid": "8cf12696-9261-44a4-897b-1f33b278d9a4",
     "showTitle": false,
     "tableResultSettingsMap": {},
     "title": ""
    }
   },
   "source": [
    "# Partitioning Examples\n",
    "1. Single/multi level partitioning\n",
    "2. Using `repartition`/`coalesce` with `partitionBy` (controlling number of files inside each partition): \n",
    "    - `parititionBy` affects how data is laid out in the storage and is going to ensure that the output directory is organized into subdirectories based on the `value` given in `partitionBy`.  \n",
    "    - Number of files in each `value` directory of `partitionBy` depends on the number supplied in the `repartition`/`coalesce`."
   ]
  },
  {
   "cell_type": "markdown",
   "metadata": {
    "application/vnd.databricks.v1+cell": {
     "cellMetadata": {},
     "inputWidgets": {},
     "nuid": "48654f03-17a5-44d7-9d40-c5ae3f466396",
     "showTitle": false,
     "tableResultSettingsMap": {},
     "title": ""
    }
   },
   "source": [
    "#### 1. Single/multi level partitioning"
   ]
  },
  {
   "cell_type": "code",
   "execution_count": 0,
   "metadata": {
    "application/vnd.databricks.v1+cell": {
     "cellMetadata": {
      "byteLimit": 2048000,
      "rowLimit": 10000
     },
     "inputWidgets": {},
     "nuid": "fb12a779-9994-4e5d-aed1-01353390dfa2",
     "showTitle": false,
     "tableResultSettingsMap": {},
     "title": ""
    }
   },
   "outputs": [],
   "source": [
    "(\n",
    "    df_listening_actv\n",
    "    .write\n",
    "    .mode(\"overwrite\")\n",
    "    .partitionBy(\"listen_date\", \"listen_hour\")\n",
    "    .parquet(\"/dbfs/data/data/partitioning/partitioned/listening_activity_pt_2\")\n",
    ")"
   ]
  },
  {
   "cell_type": "code",
   "execution_count": 0,
   "metadata": {
    "application/vnd.databricks.v1+cell": {
     "cellMetadata": {},
     "inputWidgets": {},
     "nuid": "648575f3-8031-4a19-9de8-7cbc82a4689b",
     "showTitle": false,
     "tableResultSettingsMap": {},
     "title": ""
    }
   },
   "outputs": [],
   "source": [
    "(\n",
    "    df_listening_actv\n",
    "    .write\n",
    "    .mode(\"overwrite\")\n",
    "    .partitionBy(\"listen_hour\", \"listen_date\")\n",
    "    .parquet(\"/dbfs/data/data/partitioning/partitioned/listening_activity_pt_3\")\n",
    ")"
   ]
  },
  {
   "cell_type": "markdown",
   "metadata": {
    "application/vnd.databricks.v1+cell": {
     "cellMetadata": {},
     "inputWidgets": {},
     "nuid": "e9c78905-893e-4e5a-a570-f24bb462df33",
     "showTitle": false,
     "tableResultSettingsMap": {},
     "title": ""
    }
   },
   "source": [
    "#### 2. Using `repartition`/`coalesce` with `partitionBy`"
   ]
  },
  {
   "cell_type": "code",
   "execution_count": 0,
   "metadata": {
    "application/vnd.databricks.v1+cell": {
     "cellMetadata": {},
     "inputWidgets": {},
     "nuid": "ce3e4dfe-d3c5-49da-9c3b-1d9a44ca3191",
     "showTitle": false,
     "tableResultSettingsMap": {},
     "title": ""
    }
   },
   "outputs": [],
   "source": [
    "(\n",
    "    df_listening_actv\n",
    "    .repartition(3)\n",
    "    .write\n",
    "    .mode(\"overwrite\")\n",
    "    .partitionBy(\"listen_date\")\n",
    "    .parquet(\"/dbfs/data/data/partitioning/partitioned/listening_activity_pt_4\")\n",
    ")"
   ]
  },
  {
   "cell_type": "code",
   "execution_count": 0,
   "metadata": {
    "application/vnd.databricks.v1+cell": {
     "cellMetadata": {},
     "inputWidgets": {},
     "nuid": "b0f2852a-451f-482b-a0ef-e098fb5a831a",
     "showTitle": false,
     "tableResultSettingsMap": {},
     "title": ""
    }
   },
   "outputs": [],
   "source": [
    "# The coalesce method reduces the number of partitions in a DataFrame. \n",
    "# It avoids full shuffle, instead of creating new partitions, it shuffles the data using default Hash Partitioner, \n",
    "# and adjusts into existing partitions, this means it can only decrease the number of partitions.\n",
    "\n",
    "(\n",
    "    df_listening_actv\n",
    "    .coalesce(3)\n",
    "    .write\n",
    "    .mode(\"overwrite\")\n",
    "    .partitionBy(\"listen_date\")\n",
    "    .parquet(\"/dbfs/data/data/partitioning/partitioned/listening_activity_pt_5\")\n",
    ")"
   ]
  },
  {
   "cell_type": "markdown",
   "metadata": {
    "application/vnd.databricks.v1+cell": {
     "cellMetadata": {},
     "inputWidgets": {},
     "nuid": "24f21d08-fe5d-4702-bece-1c12289a6b23",
     "showTitle": false,
     "tableResultSettingsMap": {},
     "title": ""
    }
   },
   "source": [
    "## Experimenting With `spark.sql.files.maxPartitionBytes`"
   ]
  },
  {
   "cell_type": "code",
   "execution_count": 0,
   "metadata": {
    "application/vnd.databricks.v1+cell": {
     "cellMetadata": {
      "byteLimit": 2048000,
      "rowLimit": 10000
     },
     "inputWidgets": {},
     "nuid": "ff7bbfba-94f2-4367-a7fc-ac518921c3e9",
     "showTitle": false,
     "tableResultSettingsMap": {},
     "title": ""
    }
   },
   "outputs": [
    {
     "output_type": "stream",
     "name": "stdout",
     "output_type": "stream",
     "text": [
      "Number of partitions with default maxPartitionBytes: 1\n"
     ]
    }
   ],
   "source": [
    "df_default = spark.read.csv(\"/mnt/data/data/partitioning/raw/Spotify_Listening_Activity.csv\", header=True, inferSchema=True)\n",
    "default_partitions = df_default.rdd.getNumPartitions()\n",
    "print(f\"Number of partitions with default maxPartitionBytes: {default_partitions}\")\n"
   ]
  },
  {
   "cell_type": "code",
   "execution_count": 0,
   "metadata": {
    "application/vnd.databricks.v1+cell": {
     "cellMetadata": {
      "byteLimit": 2048000,
      "rowLimit": 10000
     },
     "inputWidgets": {},
     "nuid": "833da71e-dc7f-468e-aea9-0fcf4e123c5d",
     "showTitle": false,
     "tableResultSettingsMap": {},
     "title": ""
    }
   },
   "outputs": [
    {
     "output_type": "stream",
     "name": "stdout",
     "output_type": "stream",
     "text": [
      "Number of partitions with modified maxPartitionBytes: 457\n"
     ]
    }
   ],
   "source": [
    "spark.conf.set(\"spark.sql.files.maxPartitionBytes\", \"1000\")\n",
    "\n",
    "df_modified = spark.read.csv(\"/mnt/data/data/partitioning/raw/Spotify_Listening_Activity.csv\", header=True, inferSchema=True)\n",
    "modified_partitions = df_modified.rdd.getNumPartitions()\n",
    "print(f\"Number of partitions with modified maxPartitionBytes: {modified_partitions}\")"
   ]
  },
  {
   "cell_type": "code",
   "execution_count": 0,
   "metadata": {
    "application/vnd.databricks.v1+cell": {
     "cellMetadata": {},
     "inputWidgets": {},
     "nuid": "964d1b2a-9395-43b7-b928-44ae23b5295f",
     "showTitle": false,
     "tableResultSettingsMap": {},
     "title": ""
    }
   },
   "outputs": [],
   "source": [
    "spark.stop()"
   ]
  }
 ],
 "metadata": {
  "application/vnd.databricks.v1+notebook": {
   "computePreferences": null,
   "dashboards": [],
   "environmentMetadata": null,
   "language": "python",
   "notebookMetadata": {
    "pythonIndentUnit": 4
   },
   "notebookName": "Partitioning",
   "widgets": {}
  },
  "kernelspec": {
   "display_name": "Python 3 (ipykernel)",
   "language": "python",
   "name": "python3"
  },
  "language_info": {
   "name": "python"
  }
 },
 "nbformat": 4,
 "nbformat_minor": 0
}