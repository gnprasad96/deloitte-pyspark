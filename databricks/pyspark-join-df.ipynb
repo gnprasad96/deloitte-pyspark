{
 "cells": [
  {
   "cell_type": "markdown",
   "metadata": {},
   "source": [
    "# Joins in DataFrame"
   ]
  },
  {
   "cell_type": "markdown",
   "metadata": {},
   "source": [
    "In PySpark, joins are a fundamental operation used to combine rows from two or more DataFrames based on a common column or key. This allows you to integrate data from different sources and perform complex analyses."
   ]
  },
  {
   "cell_type": "markdown",
   "metadata": {},
   "source": [
    "### Syntax\n",
    "```join(self, other, on=None, how=None)```\n",
    "\n",
    "**join()** operation takes parameters as below and returns DataFrame.\n",
    "\n",
    "- param **other**: Right side of the join\n",
    "- param **on**: a string for the join column name\n",
    "- param **how**: default *inner*. Must be one of *inner, cross, outer,full, full_outer, left, left_outer, right, right_outer,left_semi, and left_anti*."
   ]
  },
  {
   "cell_type": "markdown",
   "metadata": {},
   "source": [
    "**Let understand the type of Join with example**"
   ]
  },
  {
   "cell_type": "code",
   "execution_count": 1,
   "metadata": {},
   "outputs": [
    {
     "data": {
      "text/html": [
       "\n",
       "            <div>\n",
       "                <p><b>SparkSession - in-memory</b></p>\n",
       "                \n",
       "        <div>\n",
       "            <p><b>SparkContext</b></p>\n",
       "\n",
       "            <p><a href=\"http://LP-CND1243S00:4040\">Spark UI</a></p>\n",
       "\n",
       "            <dl>\n",
       "              <dt>Version</dt>\n",
       "                <dd><code>v3.5.0</code></dd>\n",
       "              <dt>Master</dt>\n",
       "                <dd><code>local[*]</code></dd>\n",
       "              <dt>AppName</dt>\n",
       "                <dd><code>Join Example</code></dd>\n",
       "            </dl>\n",
       "        </div>\n",
       "        \n",
       "            </div>\n",
       "        "
      ],
      "text/plain": [
       "<pyspark.sql.session.SparkSession at 0x18dc57dbb80>"
      ]
     },
     "execution_count": 1,
     "metadata": {},
     "output_type": "execute_result"
    }
   ],
   "source": [
    "# Prapare data \n",
    "from pyspark.sql import SparkSession\n",
    "\n",
    "spark = (SparkSession.builder\n",
    "         .appName('Join Example')\n",
    "         .getOrCreate())\n",
    "\n",
    "spark"
   ]
  },
  {
   "cell_type": "code",
   "execution_count": 5,
   "metadata": {},
   "outputs": [],
   "source": [
    "emp = [\n",
    "  (1,\"Smith\",-1,\"2018\",\"10\",\"M\",3000),\n",
    "  (2,\"Rose\",1,\"2010\",\"20\",\"M\",4000),\n",
    "  (3,\"Williams\",1,\"2010\",\"10\",\"M\",1000),\n",
    "  (4,\"Jones\",2,\"2005\",\"10\",\"F\",2000),\n",
    "  (5,\"Brown\",2,\"2010\",\"40\",\"\",-1),\n",
    "  (6,\"Brown\",2,\"2010\",\"50\",\"\",-1)\n",
    "]\n",
    "\n",
    "empColumns = [\"emp_id\",\"name\",\"manager_id\",\"doj\",\"dept_id\",\"gender\",\"salary\"]\n",
    "\n",
    "dept = [(\"Finance\",10),(\"Marketing\",20),(\"Sales\",30),(\"IT\",40)]\n",
    "\n",
    "deptColumns = [\"dept_name\",\"dept_id\"]"
   ]
  },
  {
   "cell_type": "code",
   "execution_count": 4,
   "metadata": {},
   "outputs": [
    {
     "name": "stdout",
     "output_type": "stream",
     "text": [
      "root\n",
      " |-- emp_id: long (nullable = true)\n",
      " |-- name: string (nullable = true)\n",
      " |-- manager_id: long (nullable = true)\n",
      " |-- doj: string (nullable = true)\n",
      " |-- dept_id: string (nullable = true)\n",
      " |-- gender: string (nullable = true)\n",
      " |-- salary: long (nullable = true)\n",
      "\n",
      "+------+--------+----------+----+-------+------+------+\n",
      "|emp_id|    name|manager_id| doj|dept_id|gender|salary|\n",
      "+------+--------+----------+----+-------+------+------+\n",
      "|     1|   Smith|        -1|2018|     10|     M|  3000|\n",
      "|     2|    Rose|         1|2010|     20|     M|  4000|\n",
      "|     3|Williams|         1|2010|     10|     M|  1000|\n",
      "|     4|   Jones|         2|2005|     10|     F|  2000|\n",
      "|     5|   Brown|         2|2010|     40|      |    -1|\n",
      "|     6|   Brown|         2|2010|     50|      |    -1|\n",
      "+------+--------+----------+----+-------+------+------+\n",
      "\n"
     ]
    }
   ],
   "source": [
    "emp_df = spark.createDataFrame(emp, schema=empColumns)\n",
    "emp_df.printSchema()\n",
    "emp_df.show()"
   ]
  },
  {
   "cell_type": "code",
   "execution_count": 7,
   "metadata": {},
   "outputs": [
    {
     "name": "stdout",
     "output_type": "stream",
     "text": [
      "root\n",
      " |-- dept_name: string (nullable = true)\n",
      " |-- dept_id: long (nullable = true)\n",
      "\n",
      "+---------+-------+\n",
      "|dept_name|dept_id|\n",
      "+---------+-------+\n",
      "|  Finance|     10|\n",
      "|Marketing|     20|\n",
      "|    Sales|     30|\n",
      "|       IT|     40|\n",
      "+---------+-------+\n",
      "\n"
     ]
    }
   ],
   "source": [
    "dept_df = spark.createDataFrame(data=dept, schema = deptColumns)\n",
    "dept_df.printSchema()\n",
    "dept_df.show()"
   ]
  },
  {
   "cell_type": "markdown",
   "metadata": {},
   "source": [
    "### Inner Join:\n",
    "- Returns rows that have matching values in both DataFrames.\n",
    "- **Syntax**: ```df1.join(df2, on='common_column', how='inner')```\n",
    "\n",
    "**Example**"
   ]
  },
  {
   "cell_type": "code",
   "execution_count": 12,
   "metadata": {},
   "outputs": [],
   "source": [
    "from pyspark.sql.functions import *"
   ]
  },
  {
   "cell_type": "code",
   "execution_count": 15,
   "metadata": {},
   "outputs": [
    {
     "name": "stdout",
     "output_type": "stream",
     "text": [
      "+------+--------+-------+---------+\n",
      "|emp_id|    name|dept_id|dept_name|\n",
      "+------+--------+-------+---------+\n",
      "|     1|   Smith|     10|  Finance|\n",
      "|     3|Williams|     10|  Finance|\n",
      "|     4|   Jones|     10|  Finance|\n",
      "|     2|    Rose|     20|Marketing|\n",
      "|     5|   Brown|     40|       IT|\n",
      "+------+--------+-------+---------+\n",
      "\n"
     ]
    }
   ],
   "source": [
    "(emp_df.join(\n",
    "    dept_df,\n",
    "    on = \"dept_id\",\n",
    "    how = \"inner\")\n",
    " .select('emp_id', 'name', dept_df.dept_id, 'dept_name')\n",
    " .show())"
   ]
  },
  {
   "cell_type": "markdown",
   "metadata": {},
   "source": [
    "\n",
    "### Left Outer Join:\n",
    "- Returns all rows from the left DataFrame and the matched rows from the right DataFrame.\n",
    "- **Syntax**: ```df1.join(df2, on='common_column', how='left')```\n",
    "\n",
    "**Example**"
   ]
  },
  {
   "cell_type": "code",
   "execution_count": 25,
   "metadata": {},
   "outputs": [
    {
     "name": "stdout",
     "output_type": "stream",
     "text": [
      "+------+--------+-------+---------+\n",
      "|emp_id|    name|dept_id|dept_name|\n",
      "+------+--------+-------+---------+\n",
      "|     1|   Smith|     10|  Finance|\n",
      "|     2|    Rose|     20|Marketing|\n",
      "|     3|Williams|     10|  Finance|\n",
      "|     4|   Jones|     10|  Finance|\n",
      "|     5|   Brown|     40|       IT|\n",
      "|     6|   Brown|   NULL|     NULL|\n",
      "+------+--------+-------+---------+\n",
      "\n"
     ]
    }
   ],
   "source": [
    "(emp_df.alias('e').join(\n",
    "    dept_df.alias('d'),\n",
    "    on = 'dept_id',\n",
    "    how = 'left')\n",
    " .select(\"e.emp_id\",'e.name','d.dept_id', 'd.dept_name')\n",
    " .show()\n",
    ")"
   ]
  },
  {
   "cell_type": "code",
   "execution_count": null,
   "metadata": {},
   "outputs": [
    {
     "name": "stdout",
     "output_type": "stream",
     "text": [
      "+--------+----------+-----------+------+-------------+\n",
      "|sales_id|      date|customer_id|amount|customer_name|\n",
      "+--------+----------+-----------+------+-------------+\n",
      "|       1|2024-12-01|        101|   500|        Alice|\n",
      "|       2|2024-12-02|        102|   300|          Bob|\n",
      "|       3|2024-12-03|        103|   700|         NULL|\n",
      "+--------+----------+-----------+------+-------------+\n",
      "\n"
     ]
    }
   ],
   "source": [
    "# Sample DataFrames\n",
    "sales_data = [(1, \"2024-12-01\", 101, 500),\n",
    "              (2, \"2024-12-02\", 102, 300),\n",
    "              (3, \"2024-12-03\", 103, 700)]\n",
    "\n",
    "customer_data = [(101, \"Alice\"),\n",
    "                 (102, \"Bob\"),\n",
    "                 (104, \"Charlie\")]\n",
    "\n",
    "sales_columns = [\"sales_id\", \"date\", \"customer_id\", \"amount\"]\n",
    "customer_columns = [\"customer_id\", \"customer_name\"]\n",
    "\n",
    "# Create DataFrames\n",
    "sales_df = spark.createDataFrame(sales_data, sales_columns)\n",
    "customer_df = spark.createDataFrame(customer_data, customer_columns)\n",
    "\n",
    "# Perform Left Outer Join\n",
    "joined_df = (\n",
    "    sales_df.alias(\"s\")\n",
    "    .join(\n",
    "        customer_df.alias(\"c\"),\n",
    "        sales_df[\"customer_id\"] == customer_df[\"customer_id\"],\n",
    "        \"leftouter\"\n",
    "    )\n",
    "    .select(\"s.sales_id\", \"s.date\", \"c.customer_id\", \"s.amount\", \"c.customer_name\")\n",
    ")\n",
    "\n",
    "# Show the Result\n",
    "joined_df.show()"
   ]
  },
  {
   "cell_type": "markdown",
   "metadata": {},
   "source": [
    "\n",
    "### Right Outer Join:\n",
    "- Returns all rows from the right DataFrame and the matched rows from the left DataFrame.\n",
    "- **Syntax**: ```df1.join(df2, on='common_column', how='right')```\n",
    "\n",
    "**Example**"
   ]
  },
  {
   "cell_type": "code",
   "execution_count": 28,
   "metadata": {},
   "outputs": [
    {
     "name": "stdout",
     "output_type": "stream",
     "text": [
      "+------+--------+----------+----+-------+------+------+---------+-------+\n",
      "|emp_id|    name|manager_id| doj|dept_id|gender|salary|dept_name|dept_id|\n",
      "+------+--------+----------+----+-------+------+------+---------+-------+\n",
      "|     4|   Jones|         2|2005|     10|     F|  2000|  Finance|     10|\n",
      "|     3|Williams|         1|2010|     10|     M|  1000|  Finance|     10|\n",
      "|     1|   Smith|        -1|2018|     10|     M|  3000|  Finance|     10|\n",
      "|     2|    Rose|         1|2010|     20|     M|  4000|Marketing|     20|\n",
      "|  NULL|    NULL|      NULL|NULL|   NULL|  NULL|  NULL|    Sales|     30|\n",
      "|     5|   Brown|         2|2010|     40|      |    -1|       IT|     40|\n",
      "+------+--------+----------+----+-------+------+------+---------+-------+\n",
      "\n"
     ]
    }
   ],
   "source": [
    "(emp_df.join(\n",
    "    dept_df,\n",
    "    emp_df.dept_id ==  dept_df.dept_id,\n",
    "    \"right\")\n",
    "   .show())"
   ]
  },
  {
   "cell_type": "markdown",
   "metadata": {},
   "source": [
    "### Full Outer Join:\n",
    "- Returns all rows from both DataFrames, joining them based on the common column.\n",
    "- **Syntax**: ```df1.join(df2, on='common_column', how='full')```\n",
    "\n",
    "**Example**"
   ]
  },
  {
   "cell_type": "code",
   "execution_count": 29,
   "metadata": {},
   "outputs": [
    {
     "name": "stdout",
     "output_type": "stream",
     "text": [
      "+------+--------+----------+----+-------+------+------+---------+-------+\n",
      "|emp_id|    name|manager_id| doj|dept_id|gender|salary|dept_name|dept_id|\n",
      "+------+--------+----------+----+-------+------+------+---------+-------+\n",
      "|     1|   Smith|        -1|2018|     10|     M|  3000|  Finance|     10|\n",
      "|     3|Williams|         1|2010|     10|     M|  1000|  Finance|     10|\n",
      "|     4|   Jones|         2|2005|     10|     F|  2000|  Finance|     10|\n",
      "|     2|    Rose|         1|2010|     20|     M|  4000|Marketing|     20|\n",
      "|  NULL|    NULL|      NULL|NULL|   NULL|  NULL|  NULL|    Sales|     30|\n",
      "|     5|   Brown|         2|2010|     40|      |    -1|       IT|     40|\n",
      "|     6|   Brown|         2|2010|     50|      |    -1|     NULL|   NULL|\n",
      "+------+--------+----------+----+-------+------+------+---------+-------+\n",
      "\n"
     ]
    }
   ],
   "source": [
    "emp_df.join(\n",
    "    dept_df,\n",
    "    emp_df.dept_id ==  dept_df.dept_id,\n",
    "    how = \"outer\") \\\n",
    "    .show()"
   ]
  },
  {
   "cell_type": "markdown",
   "metadata": {},
   "source": [
    "### Left Semi Join:\n",
    "- Returns all rows only from the left DataFrame that have a match in the right DataFrame.\n",
    "- **Syntax**: ```df1.join(df2, on='common_column', how='leftsemi')```\n",
    "\n",
    "**Example**"
   ]
  },
  {
   "cell_type": "code",
   "execution_count": null,
   "metadata": {},
   "outputs": [
    {
     "name": "stdout",
     "output_type": "stream",
     "text": [
      "+-------+------+--------+----------+----+------+------+\n",
      "|dept_id|emp_id|    name|manager_id| doj|gender|salary|\n",
      "+-------+------+--------+----------+----+------+------+\n",
      "|     10|     1|   Smith|        -1|2018|     M|  3000|\n",
      "|     10|     3|Williams|         1|2010|     M|  1000|\n",
      "|     10|     4|   Jones|         2|2005|     F|  2000|\n",
      "|     20|     2|    Rose|         1|2010|     M|  4000|\n",
      "|     40|     5|   Brown|         2|2010|      |    -1|\n",
      "+-------+------+--------+----------+----+------+------+\n",
      "\n"
     ]
    }
   ],
   "source": [
    "emp_df.join(\n",
    "    dept_df,\n",
    "    on = 'dept_id',\n",
    "    how = 'leftsemi') \\\n",
    "        .show()"
   ]
  },
  {
   "cell_type": "markdown",
   "metadata": {},
   "source": [
    "### Left Anti Join:\n",
    "- Returns all rows only from the left DataFrame that **do not** have a match in the right DataFrame.\n",
    "- **Syntax**: ```df1.join(df2, on='common_column', how='leftanti')```\n",
    "\n",
    "**Example**"
   ]
  },
  {
   "cell_type": "code",
   "execution_count": 34,
   "metadata": {},
   "outputs": [
    {
     "name": "stdout",
     "output_type": "stream",
     "text": [
      "+-------+------+-----+----------+----+------+------+\n",
      "|dept_id|emp_id| name|manager_id| doj|gender|salary|\n",
      "+-------+------+-----+----------+----+------+------+\n",
      "|     50|     6|Brown|         2|2010|      |    -1|\n",
      "+-------+------+-----+----------+----+------+------+\n",
      "\n"
     ]
    }
   ],
   "source": [
    "emp_df.join(\n",
    "   dept_df,\n",
    "   on = 'dept_id',\n",
    "   how = 'leftanti') \\\n",
    "   .show()"
   ]
  },
  {
   "cell_type": "markdown",
   "metadata": {},
   "source": [
    "### Self Join:\n",
    "- Join a dataframe to itself\n",
    "\n",
    "**Example**"
   ]
  },
  {
   "cell_type": "code",
   "execution_count": 35,
   "metadata": {},
   "outputs": [
    {
     "name": "stdout",
     "output_type": "stream",
     "text": [
      "+------+--------+----------+-----------------+\n",
      "|emp_id|name    |manager_id|superior_emp_name|\n",
      "+------+--------+----------+-----------------+\n",
      "|2     |Rose    |1         |Smith            |\n",
      "|3     |Williams|1         |Smith            |\n",
      "|4     |Jones   |2         |Rose             |\n",
      "|5     |Brown   |2         |Rose             |\n",
      "|6     |Brown   |2         |Rose             |\n",
      "+------+--------+----------+-----------------+\n",
      "\n"
     ]
    }
   ],
   "source": [
    "emp_df.alias(\"emp1\").join(\n",
    "    emp_df.alias(\"emp2\"),\n",
    "    on = col(\"emp1.manager_id\") == col(\"emp2.emp_id\"),\n",
    "    how = \"inner\") \\\n",
    "    .select(\n",
    "        col(\"emp1.emp_id\"),\n",
    "        col(\"emp1.name\"),\n",
    "        col(\"emp2.emp_id\").alias(\"manager_id\"),\n",
    "        col(\"emp2.name\").alias(\"superior_emp_name\")) \\\n",
    "   .show(truncate=False)"
   ]
  }
 ],
 "metadata": {
  "kernelspec": {
   "display_name": "Python 3",
   "language": "python",
   "name": "python3"
  },
  "language_info": {
   "codemirror_mode": {
    "name": "ipython",
    "version": 3
   },
   "file_extension": ".py",
   "mimetype": "text/x-python",
   "name": "python",
   "nbconvert_exporter": "python",
   "pygments_lexer": "ipython3",
   "version": "3.10.0"
  }
 },
 "nbformat": 4,
 "nbformat_minor": 2
}
