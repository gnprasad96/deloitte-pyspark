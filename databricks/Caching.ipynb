{
 "cells": [
  {
   "cell_type": "markdown",
   "metadata": {
    "application/vnd.databricks.v1+cell": {
     "cellMetadata": {},
     "inputWidgets": {},
     "nuid": "e5482dc5-be31-4d36-b1d3-2eb28596d80c",
     "showTitle": false,
     "tableResultSettingsMap": {},
     "title": ""
    }
   },
   "source": [
    "# Caching"
   ]
  },
  {
   "cell_type": "code",
   "execution_count": 0,
   "metadata": {
    "application/vnd.databricks.v1+cell": {
     "cellMetadata": {
      "byteLimit": 2048000,
      "rowLimit": 10000
     },
     "inputWidgets": {},
     "nuid": "e02171b5-8b8d-4b81-8826-2fb3ee1a8a24",
     "showTitle": false,
     "tableResultSettingsMap": {},
     "title": ""
    }
   },
   "outputs": [],
   "source": [
    "from pyspark.storagelevel import StorageLevel\n",
    "from pyspark.sql.types import *\n",
    "import pyspark.sql.functions as F\n",
    "from pyspark.sql import SparkSession"
   ]
  },
  {
   "cell_type": "code",
   "execution_count": 0,
   "metadata": {
    "application/vnd.databricks.v1+cell": {
     "cellMetadata": {
      "byteLimit": 2048000,
      "rowLimit": 10000
     },
     "inputWidgets": {},
     "nuid": "95db71b0-83a6-4cd3-b2b5-6a55e6df6c98",
     "showTitle": false,
     "tableResultSettingsMap": {},
     "title": ""
    }
   },
   "outputs": [],
   "source": [
    "spark = (\n",
    "    SparkSession\n",
    "    .builder\n",
    "    .config(\"spark.driver.memory\", \"10g\")\n",
    "    .config(\"spark.sql.files.maxPartitionBytes\", \"268435456\")\n",
    "    .config(\"spark.serializer\", \"org.apache.spark.serializer.KryoSerializer\")\n",
    "    .master(\"local[*]\")\n",
    "    .getOrCreate()\n",
    ")\n",
    "sc = spark.sparkContext"
   ]
  },
  {
   "cell_type": "code",
   "execution_count": 0,
   "metadata": {
    "application/vnd.databricks.v1+cell": {
     "cellMetadata": {
      "byteLimit": 2048000,
      "rowLimit": 10000
     },
     "inputWidgets": {},
     "nuid": "e2b70b2f-8468-40cb-9038-cbcae457986b",
     "showTitle": false,
     "tableResultSettingsMap": {},
     "title": ""
    }
   },
   "outputs": [],
   "source": [
    "customers_file = \"/mnt/data/data/data_skew/customers.parquet\"\n",
    "df_customers = spark.read.parquet(customers_file)"
   ]
  },
  {
   "cell_type": "code",
   "execution_count": 0,
   "metadata": {
    "application/vnd.databricks.v1+cell": {
     "cellMetadata": {
      "byteLimit": 2048000,
      "rowLimit": 10000
     },
     "inputWidgets": {},
     "nuid": "32253612-b6c0-4a9e-b32b-ec8519930ff3",
     "showTitle": false,
     "tableResultSettingsMap": {},
     "title": ""
    }
   },
   "outputs": [
    {
     "output_type": "stream",
     "name": "stdout",
     "output_type": "stream",
     "text": [
      "+----------+-------------+---+------+----------+-----+-----------+\n|cust_id   |name         |age|gender|birthday  |zip  |city       |\n+----------+-------------+---+------+----------+-----+-----------+\n|C007YEYTX9|Aaron Abbott |34 |Female|7/13/1991 |97823|boston     |\n|C00B971T1J|Aaron Austin |37 |Female|12/16/2004|30332|chicago    |\n|C00WRSJF1Q|Aaron Barnes |29 |Female|3/11/1977 |23451|denver     |\n|C01AZWQMF3|Aaron Barrett|31 |Male  |7/9/1998  |46613|los_angeles|\n|C01BKUFRHA|Aaron Becker |54 |Male  |11/24/1979|40284|san_diego  |\n+----------+-------------+---+------+----------+-----+-----------+\nonly showing top 5 rows\n\n"
     ]
    }
   ],
   "source": [
    "df_customers.show(5, False)"
   ]
  },
  {
   "cell_type": "code",
   "execution_count": 0,
   "metadata": {
    "application/vnd.databricks.v1+cell": {
     "cellMetadata": {
      "byteLimit": 2048000,
      "rowLimit": 10000
     },
     "inputWidgets": {},
     "nuid": "8232115b-d087-4884-a602-704ed55b19b4",
     "showTitle": false,
     "tableResultSettingsMap": {},
     "title": ""
    }
   },
   "outputs": [
    {
     "output_type": "stream",
     "name": "stdout",
     "output_type": "stream",
     "text": [
      "+----------+--------------+---+------+---------+-----+------+--------------+\n|cust_id   |name          |age|gender|birthday |zip  |city  |customer_group|\n+----------+--------------+---+------+---------+-----+------+--------------+\n|C007YEYTX9|Aaron Abbott  |34 |Female|7/13/1991|97823|boston|mid           |\n|C08XAQUY73|Aaron Lambert |54 |Female|11/5/1966|75218|boston|old           |\n|C094P1VXF9|Aaron Lindsey |24 |Male  |9/21/1990|29399|boston|young         |\n|C097SHE1EF|Aaron Lopez   |22 |Female|4/18/2001|82129|boston|young         |\n|C0DTC6436T|Aaron Schwartz|52 |Female|7/9/1962 |57192|boston|old           |\n+----------+--------------+---+------+---------+-----+------+--------------+\nonly showing top 5 rows\n\n"
     ]
    }
   ],
   "source": [
    "df_base = (\n",
    "    df_customers\n",
    "    .filter(F.col(\"city\") == \"boston\")\n",
    "    .withColumn(\n",
    "        \"customer_group\", \n",
    "        F.when(\n",
    "            F.col(\"age\").between(20, 30), \n",
    "            F.lit(\"young\") \n",
    "        )\n",
    "        .when(\n",
    "            F.col(\"age\").between(31, 50), \n",
    "            F.lit(\"mid\") \n",
    "        )\n",
    "        .when(\n",
    "            F.col(\"age\") > 51, \n",
    "            F.lit(\"old\") \n",
    "        )\n",
    "        .otherwise(F.lit(\"kid\"))\n",
    "     )\n",
    "    .select(\"cust_id\", \"name\", \"age\", \"gender\", \"birthday\", \"zip\", \"city\", \"customer_group\")\n",
    ")\n",
    "\n",
    "df_base.cache() \n",
    "df_base.show(5, False)"
   ]
  },
  {
   "cell_type": "code",
   "execution_count": 0,
   "metadata": {
    "application/vnd.databricks.v1+cell": {
     "cellMetadata": {
      "byteLimit": 2048000,
      "rowLimit": 10000
     },
     "inputWidgets": {},
     "nuid": "b3fac2f6-1733-4afe-8406-cd0623c93ea7",
     "showTitle": false,
     "tableResultSettingsMap": {},
     "title": ""
    }
   },
   "outputs": [
    {
     "output_type": "stream",
     "name": "stdout",
     "output_type": "stream",
     "text": [
      "== Parsed Logical Plan ==\n'Project [cust_id#2, name#3, age#4, gender#5, birthday#6, zip#7, city#8, customer_group#220, test_column_1#470, split('birthday, /, -1)[2] AS birth_year#480]\n+- Project [cust_id#2, name#3, age#4, gender#5, birthday#6, zip#7, city#8, customer_group#220, test_column_1 AS test_column_1#470]\n   +- Project [cust_id#2, name#3, age#4, gender#5, birthday#6, zip#7, city#8, customer_group#220]\n      +- Project [cust_id#2, name#3, age#4, gender#5, birthday#6, zip#7, city#8, CASE WHEN ((cast(age#4 as int) >= 20) AND (cast(age#4 as int) <= 30)) THEN young WHEN ((cast(age#4 as int) >= 31) AND (cast(age#4 as int) <= 50)) THEN mid WHEN (cast(age#4 as int) > 51) THEN old ELSE kid END AS customer_group#220]\n         +- Filter (city#8 = boston)\n            +- Relation [cust_id#2,name#3,age#4,gender#5,birthday#6,zip#7,city#8] parquet\n\n== Analyzed Logical Plan ==\ncust_id: string, name: string, age: string, gender: string, birthday: string, zip: string, city: string, customer_group: string, test_column_1: string, birth_year: string\nProject [cust_id#2, name#3, age#4, gender#5, birthday#6, zip#7, city#8, customer_group#220, test_column_1#470, split(birthday#6, /, -1)[2] AS birth_year#480]\n+- Project [cust_id#2, name#3, age#4, gender#5, birthday#6, zip#7, city#8, customer_group#220, test_column_1 AS test_column_1#470]\n   +- Project [cust_id#2, name#3, age#4, gender#5, birthday#6, zip#7, city#8, customer_group#220]\n      +- Project [cust_id#2, name#3, age#4, gender#5, birthday#6, zip#7, city#8, CASE WHEN ((cast(age#4 as int) >= 20) AND (cast(age#4 as int) <= 30)) THEN young WHEN ((cast(age#4 as int) >= 31) AND (cast(age#4 as int) <= 50)) THEN mid WHEN (cast(age#4 as int) > 51) THEN old ELSE kid END AS customer_group#220]\n         +- Filter (city#8 = boston)\n            +- Relation [cust_id#2,name#3,age#4,gender#5,birthday#6,zip#7,city#8] parquet\n\n== Optimized Logical Plan ==\nProject [cust_id#2, name#3, age#4, gender#5, birthday#6, zip#7, city#8, customer_group#220, test_column_1 AS test_column_1#470, split(birthday#6, /, 4)[2] AS birth_year#480]\n+- InMemoryRelation [cust_id#2, name#3, age#4, gender#5, birthday#6, zip#7, city#8, customer_group#220], StorageLevel(disk, memory, deserialized, 1 replicas)\n      +- *(1) Project [cust_id#2, name#3, age#4, gender#5, birthday#6, zip#7, city#8, CASE WHEN ((cast(age#4 as int) >= 20) AND (cast(age#4 as int) <= 30)) THEN young WHEN ((cast(age#4 as int) >= 31) AND (cast(age#4 as int) <= 50)) THEN mid WHEN (cast(age#4 as int) > 51) THEN old ELSE kid END AS customer_group#220]\n         +- *(1) Filter (isnotnull(city#8) AND (city#8 = boston))\n            +- *(1) ColumnarToRow\n               +- FileScan parquet [cust_id#2,name#3,age#4,gender#5,birthday#6,zip#7,city#8] Batched: true, DataFilters: [isnotnull(city#8), (city#8 = boston)], Format: Parquet, Location: InMemoryFileIndex(1 paths)[dbfs:/mnt/data/data/data_skew/customers.parquet], PartitionFilters: [], PushedFilters: [IsNotNull(city), EqualTo(city,boston)], ReadSchema: struct<cust_id:string,name:string,age:string,gender:string,birthday:string,zip:string,city:string>\n\n== Physical Plan ==\n*(1) Project [cust_id#2, name#3, age#4, gender#5, birthday#6, zip#7, city#8, customer_group#220, test_column_1 AS test_column_1#470, split(birthday#6, /, 4)[2] AS birth_year#480]\n+- InMemoryTableScan [age#4, birthday#6, city#8, cust_id#2, customer_group#220, gender#5, name#3, zip#7], false\n      +- InMemoryRelation [cust_id#2, name#3, age#4, gender#5, birthday#6, zip#7, city#8, customer_group#220], StorageLevel(disk, memory, deserialized, 1 replicas)\n            +- *(1) Project [cust_id#2, name#3, age#4, gender#5, birthday#6, zip#7, city#8, CASE WHEN ((cast(age#4 as int) >= 20) AND (cast(age#4 as int) <= 30)) THEN young WHEN ((cast(age#4 as int) >= 31) AND (cast(age#4 as int) <= 50)) THEN mid WHEN (cast(age#4 as int) > 51) THEN old ELSE kid END AS customer_group#220]\n               +- *(1) Filter (isnotnull(city#8) AND (city#8 = boston))\n                  +- *(1) ColumnarToRow\n                     +- FileScan parquet [cust_id#2,name#3,age#4,gender#5,birthday#6,zip#7,city#8] Batched: true, DataFilters: [isnotnull(city#8), (city#8 = boston)], Format: Parquet, Location: InMemoryFileIndex(1 paths)[dbfs:/mnt/data/data/data_skew/customers.parquet], PartitionFilters: [], PushedFilters: [IsNotNull(city), EqualTo(city,boston)], ReadSchema: struct<cust_id:string,name:string,age:string,gender:string,birthday:string,zip:string,city:string>\n\n+----------+--------------+---+------+---------+-----+------+--------------+-------------+----------+\n|cust_id   |name          |age|gender|birthday |zip  |city  |customer_group|test_column_1|birth_year|\n+----------+--------------+---+------+---------+-----+------+--------------+-------------+----------+\n|C007YEYTX9|Aaron Abbott  |34 |Female|7/13/1991|97823|boston|mid           |test_column_1|1991      |\n|C08XAQUY73|Aaron Lambert |54 |Female|11/5/1966|75218|boston|old           |test_column_1|1966      |\n|C094P1VXF9|Aaron Lindsey |24 |Male  |9/21/1990|29399|boston|young         |test_column_1|1990      |\n|C097SHE1EF|Aaron Lopez   |22 |Female|4/18/2001|82129|boston|young         |test_column_1|2001      |\n|C0DTC6436T|Aaron Schwartz|52 |Female|7/9/1962 |57192|boston|old           |test_column_1|1962      |\n+----------+--------------+---+------+---------+-----+------+--------------+-------------+----------+\nonly showing top 5 rows\n\n"
     ]
    }
   ],
   "source": [
    "df1 = (\n",
    "    df_base\n",
    "    .withColumn(\"test_column_1\", F.lit(\"test_column_1\"))\n",
    "    .withColumn(\"birth_year\", F.split(\"birthday\", \"/\").getItem(2))\n",
    ")\n",
    "\n",
    "df1.explain(True)\n",
    "df1.show(5, False)"
   ]
  },
  {
   "cell_type": "code",
   "execution_count": 0,
   "metadata": {
    "application/vnd.databricks.v1+cell": {
     "cellMetadata": {
      "byteLimit": 2048000,
      "rowLimit": 10000
     },
     "inputWidgets": {},
     "nuid": "4209a092-c03b-4025-bd5b-aa30cacef31d",
     "showTitle": false,
     "tableResultSettingsMap": {},
     "title": ""
    }
   },
   "outputs": [
    {
     "output_type": "stream",
     "name": "stdout",
     "output_type": "stream",
     "text": [
      "== Parsed Logical Plan ==\n'Project [cust_id#2, name#3, age#4, gender#5, birthday#6, zip#7, city#8, customer_group#220, test_column_2#812, split('birthday, /, -1)[1] AS birth_month#822]\n+- Project [cust_id#2, name#3, age#4, gender#5, birthday#6, zip#7, city#8, customer_group#220, test_column_2 AS test_column_2#812]\n   +- Project [cust_id#2, name#3, age#4, gender#5, birthday#6, zip#7, city#8, customer_group#220]\n      +- Project [cust_id#2, name#3, age#4, gender#5, birthday#6, zip#7, city#8, CASE WHEN ((cast(age#4 as int) >= 20) AND (cast(age#4 as int) <= 30)) THEN young WHEN ((cast(age#4 as int) >= 31) AND (cast(age#4 as int) <= 50)) THEN mid WHEN (cast(age#4 as int) > 51) THEN old ELSE kid END AS customer_group#220]\n         +- Filter (city#8 = boston)\n            +- Relation [cust_id#2,name#3,age#4,gender#5,birthday#6,zip#7,city#8] parquet\n\n== Analyzed Logical Plan ==\ncust_id: string, name: string, age: string, gender: string, birthday: string, zip: string, city: string, customer_group: string, test_column_2: string, birth_month: string\nProject [cust_id#2, name#3, age#4, gender#5, birthday#6, zip#7, city#8, customer_group#220, test_column_2#812, split(birthday#6, /, -1)[1] AS birth_month#822]\n+- Project [cust_id#2, name#3, age#4, gender#5, birthday#6, zip#7, city#8, customer_group#220, test_column_2 AS test_column_2#812]\n   +- Project [cust_id#2, name#3, age#4, gender#5, birthday#6, zip#7, city#8, customer_group#220]\n      +- Project [cust_id#2, name#3, age#4, gender#5, birthday#6, zip#7, city#8, CASE WHEN ((cast(age#4 as int) >= 20) AND (cast(age#4 as int) <= 30)) THEN young WHEN ((cast(age#4 as int) >= 31) AND (cast(age#4 as int) <= 50)) THEN mid WHEN (cast(age#4 as int) > 51) THEN old ELSE kid END AS customer_group#220]\n         +- Filter (city#8 = boston)\n            +- Relation [cust_id#2,name#3,age#4,gender#5,birthday#6,zip#7,city#8] parquet\n\n== Optimized Logical Plan ==\nProject [cust_id#2, name#3, age#4, gender#5, birthday#6, zip#7, city#8, customer_group#220, test_column_2 AS test_column_2#812, split(birthday#6, /, 3)[1] AS birth_month#822]\n+- InMemoryRelation [cust_id#2, name#3, age#4, gender#5, birthday#6, zip#7, city#8, customer_group#220], StorageLevel(disk, memory, deserialized, 1 replicas)\n      +- *(1) Project [cust_id#2, name#3, age#4, gender#5, birthday#6, zip#7, city#8, CASE WHEN ((cast(age#4 as int) >= 20) AND (cast(age#4 as int) <= 30)) THEN young WHEN ((cast(age#4 as int) >= 31) AND (cast(age#4 as int) <= 50)) THEN mid WHEN (cast(age#4 as int) > 51) THEN old ELSE kid END AS customer_group#220]\n         +- *(1) Filter (isnotnull(city#8) AND (city#8 = boston))\n            +- *(1) ColumnarToRow\n               +- FileScan parquet [cust_id#2,name#3,age#4,gender#5,birthday#6,zip#7,city#8] Batched: true, DataFilters: [isnotnull(city#8), (city#8 = boston)], Format: Parquet, Location: InMemoryFileIndex(1 paths)[dbfs:/mnt/data/data/data_skew/customers.parquet], PartitionFilters: [], PushedFilters: [IsNotNull(city), EqualTo(city,boston)], ReadSchema: struct<cust_id:string,name:string,age:string,gender:string,birthday:string,zip:string,city:string>\n\n== Physical Plan ==\n*(1) Project [cust_id#2, name#3, age#4, gender#5, birthday#6, zip#7, city#8, customer_group#220, test_column_2 AS test_column_2#812, split(birthday#6, /, 3)[1] AS birth_month#822]\n+- InMemoryTableScan [age#4, birthday#6, city#8, cust_id#2, customer_group#220, gender#5, name#3, zip#7], false\n      +- InMemoryRelation [cust_id#2, name#3, age#4, gender#5, birthday#6, zip#7, city#8, customer_group#220], StorageLevel(disk, memory, deserialized, 1 replicas)\n            +- *(1) Project [cust_id#2, name#3, age#4, gender#5, birthday#6, zip#7, city#8, CASE WHEN ((cast(age#4 as int) >= 20) AND (cast(age#4 as int) <= 30)) THEN young WHEN ((cast(age#4 as int) >= 31) AND (cast(age#4 as int) <= 50)) THEN mid WHEN (cast(age#4 as int) > 51) THEN old ELSE kid END AS customer_group#220]\n               +- *(1) Filter (isnotnull(city#8) AND (city#8 = boston))\n                  +- *(1) ColumnarToRow\n                     +- FileScan parquet [cust_id#2,name#3,age#4,gender#5,birthday#6,zip#7,city#8] Batched: true, DataFilters: [isnotnull(city#8), (city#8 = boston)], Format: Parquet, Location: InMemoryFileIndex(1 paths)[dbfs:/mnt/data/data/data_skew/customers.parquet], PartitionFilters: [], PushedFilters: [IsNotNull(city), EqualTo(city,boston)], ReadSchema: struct<cust_id:string,name:string,age:string,gender:string,birthday:string,zip:string,city:string>\n\n+----------+--------------+---+------+---------+-----+------+--------------+-------------+-----------+\n|cust_id   |name          |age|gender|birthday |zip  |city  |customer_group|test_column_2|birth_month|\n+----------+--------------+---+------+---------+-----+------+--------------+-------------+-----------+\n|C007YEYTX9|Aaron Abbott  |34 |Female|7/13/1991|97823|boston|mid           |test_column_2|13         |\n|C08XAQUY73|Aaron Lambert |54 |Female|11/5/1966|75218|boston|old           |test_column_2|5          |\n|C094P1VXF9|Aaron Lindsey |24 |Male  |9/21/1990|29399|boston|young         |test_column_2|21         |\n|C097SHE1EF|Aaron Lopez   |22 |Female|4/18/2001|82129|boston|young         |test_column_2|18         |\n|C0DTC6436T|Aaron Schwartz|52 |Female|7/9/1962 |57192|boston|old           |test_column_2|9          |\n+----------+--------------+---+------+---------+-----+------+--------------+-------------+-----------+\nonly showing top 5 rows\n\n"
     ]
    }
   ],
   "source": [
    "df2 = (\n",
    "    df_base\n",
    "    .withColumn(\"test_column_2\", F.lit(\"test_column_2\"))\n",
    "    .withColumn(\"birth_month\", F.split(\"birthday\", \"/\").getItem(1))\n",
    ")\n",
    "\n",
    "df2.explain(True)\n",
    "df2.show(5, False)"
   ]
  },
  {
   "cell_type": "markdown",
   "metadata": {
    "application/vnd.databricks.v1+cell": {
     "cellMetadata": {},
     "inputWidgets": {},
     "nuid": "cb7f962d-2d14-4745-b5bb-e0431881a0f3",
     "showTitle": false,
     "tableResultSettingsMap": {},
     "title": ""
    }
   },
   "source": [
    "## `StorageLevel` Types:\n",
    "\n",
    "(As of Spark `3.4`)\n",
    "\n",
    "- `DISK_ONLY`: CPU efficient, memory efficient, slow to access, data is serialized when stored on disk\n",
    "- `DISK_ONLY_2`: disk only, replicated 2x\n",
    "- `DISK_ONLY_3`: disk only, replicated 3x\n",
    "\n",
    "- `MEMORY_AND_DISK`: spills to disk if there's no space in memory\n",
    "- `MEMORY_AND_DISK_2`: memory and disk, replicated 2x\n",
    "- `MEMORY_AND_DISK_DESER`(default): same as `MEMORY_AND_DISK`, deserialized in both for fast access\n",
    "\n",
    "- `MEMORY_ONLY`: CPU efficient, memory intensive\n",
    "- `MEMORY_ONLY_2`: memory only, replicated 2x - for resilience, if one executor fails\n",
    "\n",
    "**Note**: \n",
    "- `SER` is CPU intensive, memory saving as data is compact while `DESER` is CPU efficient, memory intensive\n",
    "- Size of data on disk is lesser as data is in serialized format, while deserialized in memory as JVM objects for faster access\n",
    "\n",
    "### When to use what?\n",
    "```\n",
    "Storage Level    Space used  CPU time  In memory  On-disk  Serialized\n",
    "---------------------------------------------------------------------\n",
    "MEMORY_ONLY          High        Low       Y          N        N         \n",
    "MEMORY_ONLY_SER      Low         High      Y          N        Y     \n",
    "MEMORY_AND_DISK      High        Medium    Some       Some     Some  \n",
    "MEMORY_AND_DISK_SER  Low         High      Some       Some     Y     \n",
    "DISK_ONLY            Low         High      N          Y        Y     \n",
    "```"
   ]
  },
  {
   "cell_type": "code",
   "execution_count": 0,
   "metadata": {
    "application/vnd.databricks.v1+cell": {
     "cellMetadata": {
      "byteLimit": 2048000,
      "rowLimit": 10000
     },
     "inputWidgets": {},
     "nuid": "e204235a-3f3d-40d4-80ad-f6e8baa6e2fb",
     "showTitle": false,
     "tableResultSettingsMap": {},
     "title": ""
    }
   },
   "outputs": [
    {
     "output_type": "stream",
     "name": "stdout",
     "output_type": "stream",
     "text": [
      "+----------+--------------+---+------+---------+-----+------+--------------+-------------+----------+\n|cust_id   |name          |age|gender|birthday |zip  |city  |customer_group|test_column_1|birth_year|\n+----------+--------------+---+------+---------+-----+------+--------------+-------------+----------+\n|C007YEYTX9|Aaron Abbott  |34 |Female|7/13/1991|97823|boston|mid           |test_column_1|1991      |\n|C08XAQUY73|Aaron Lambert |54 |Female|11/5/1966|75218|boston|old           |test_column_1|1966      |\n|C094P1VXF9|Aaron Lindsey |24 |Male  |9/21/1990|29399|boston|young         |test_column_1|1990      |\n|C097SHE1EF|Aaron Lopez   |22 |Female|4/18/2001|82129|boston|young         |test_column_1|2001      |\n|C0DTC6436T|Aaron Schwartz|52 |Female|7/9/1962 |57192|boston|old           |test_column_1|1962      |\n+----------+--------------+---+------+---------+-----+------+--------------+-------------+----------+\nonly showing top 5 rows\n\n"
     ]
    }
   ],
   "source": [
    "df_base.unpersist()\n",
    "df_base.persist(StorageLevel.DISK_ONLY_2)\n",
    "\n",
    "df2 = (\n",
    "    df_base\n",
    "    .withColumn(\"test_column_1\", F.lit(\"test_column_1\"))\n",
    "    .withColumn(\"birth_year\", F.split(\"birthday\", \"/\").getItem(2))\n",
    ")\n",
    "\n",
    "df1.show(5, False)"
   ]
  },
  {
   "cell_type": "code",
   "execution_count": 0,
   "metadata": {
    "application/vnd.databricks.v1+cell": {
     "cellMetadata": {},
     "inputWidgets": {},
     "nuid": "483cd129-2462-4c3a-8321-075d896c6bec",
     "showTitle": false,
     "tableResultSettingsMap": {},
     "title": ""
    }
   },
   "outputs": [],
   "source": [
    "spark.stop()"
   ]
  }
 ],
 "metadata": {
  "application/vnd.databricks.v1+notebook": {
   "computePreferences": null,
   "dashboards": [],
   "environmentMetadata": null,
   "language": "python",
   "notebookMetadata": {
    "pythonIndentUnit": 4
   },
   "notebookName": "Caching",
   "widgets": {}
  },
  "kernelspec": {
   "display_name": "Python 3 (ipykernel)",
   "language": "python",
   "name": "python3"
  },
  "language_info": {
   "name": "python"
  }
 },
 "nbformat": 4,
 "nbformat_minor": 0
}