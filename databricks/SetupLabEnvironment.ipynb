{
 "cells": [
  {
   "cell_type": "code",
   "execution_count": 0,
   "metadata": {
    "application/vnd.databricks.v1+cell": {
     "cellMetadata": {},
     "inputWidgets": {},
     "nuid": "9da73c48-4aaf-4319-9ecf-89a620f12434",
     "showTitle": false,
     "tableResultSettingsMap": {},
     "title": ""
    }
   },
   "outputs": [],
   "source": [
    "## Setup Lab Environment\n",
    "\n",
    "## Setup Variables for configuration\n",
    "mountPoint = \"/mnt/data\"\n",
    "source = f\"wasbs://{containerName}@{storageAccountName}.blob.core.windows.net/ecommerce\"\n",
    "configs = { f\"fs.azure.account.key.{storageAccountName}.blob.core.windows.net\":storageKey}\n",
    "\n",
    "## Create database\n",
    "databaseName = \"ecommerce\"\n",
    "spark.sql(\"CREATE DATABASE IF NOT EXISTS {}\".format(databaseName))\n",
    "spark.sql(\"USE {}\".format(databaseName))\n",
    "\n",
    "## Create a mount point if not exists\n",
    "if not any(mnt.mountPoint == mountPoint for mnt in dbutils.fs.mounts()):\n",
    "  dbutils.fs.mount(source = source, mount_point = mountPoint, extra_configs = configs)\n",
    "\n",
    "## Set dataset path variables\n",
    "salesPath = \"/mnt/data/sales/sales.parquet\"\n",
    "usersPath = \"/mnt/data/users/users.parquet\"\n",
    "eventsPath = \"/mnt/data/events/events.parquet\"\n",
    "productsPath = \"/mnt/data/products/products.parquet\"\n",
    "\n",
    "outputDir = \"/mnt/data\"\n",
    "\n",
    "print(\"Environment setup Completed.\")"
   ]
  }
 ],
 "metadata": {
  "application/vnd.databricks.v1+notebook": {
   "computePreferences": null,
   "dashboards": [],
   "environmentMetadata": null,
   "language": "python",
   "notebookMetadata": {
    "pythonIndentUnit": 4
   },
   "notebookName": "SetupLabEnvironment",
   "widgets": {}
  },
  "language_info": {
   "name": "python"
  }
 },
 "nbformat": 4,
 "nbformat_minor": 0
}