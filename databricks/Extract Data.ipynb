{
 "cells": [
  {
   "cell_type": "code",
   "execution_count": 0,
   "metadata": {
    "application/vnd.databricks.v1+cell": {
     "cellMetadata": {
      "byteLimit": 2048000,
      "rowLimit": 10000
     },
     "inputWidgets": {},
     "nuid": "66780ac9-9583-429a-8e97-a11dbb80b06d",
     "showTitle": false,
     "tableResultSettingsMap": {},
     "title": ""
    }
   },
   "outputs": [],
   "source": [
    "dbutils.widgets.text(\"jdbcUsername\", \"\", \"JDBC Username\")\n",
    "dbutils.widgets.text(\"jdbcPassword\", \"\", \"JDBC Password\")\n"
   ]
  },
  {
   "cell_type": "code",
   "execution_count": 0,
   "metadata": {
    "application/vnd.databricks.v1+cell": {
     "cellMetadata": {
      "byteLimit": 2048000,
      "rowLimit": 10000
     },
     "inputWidgets": {},
     "nuid": "035ce63c-f90a-4c15-bbc2-af0322b35503",
     "showTitle": false,
     "tableResultSettingsMap": {},
     "title": ""
    }
   },
   "outputs": [],
   "source": [
    "# Define the connection properties\n",
    "jdbcHostname = \"server34x.database.windows.net\"\n",
    "jdbcPort = 1433\n",
    "jdbcDatabase = \"sqldb\"\n",
    "jdbcUsername = dbutils.widgets.get(\"jdbcUsername\")\n",
    "jdbcPassword = dbutils.widgets.get(\"jdbcPassword\")\n",
    "\n",
    "# Create the JDBC URL\n",
    "jdbcUrl = f\"jdbc:sqlserver://{jdbcHostname}:{jdbcPort};database={jdbcDatabase}\"\n",
    "\n",
    "# Set the connection properties\n",
    "connectionProperties = {\n",
    "  \"user\" : jdbcUsername,\n",
    "  \"password\" : jdbcPassword,\n",
    "  \"driver\" : \"com.microsoft.sqlserver.jdbc.SQLServerDriver\"\n",
    "}"
   ]
  },
  {
   "cell_type": "code",
   "execution_count": 0,
   "metadata": {
    "application/vnd.databricks.v1+cell": {
     "cellMetadata": {
      "byteLimit": 2048000,
      "rowLimit": 10000
     },
     "inputWidgets": {},
     "nuid": "b9c46d6d-3314-467b-8586-553b5c096470",
     "showTitle": false,
     "tableResultSettingsMap": {},
     "title": ""
    }
   },
   "outputs": [
    {
     "output_type": "display_data",
     "data": {
      "text/html": [
       "<style scoped>\n",
       "  .table-result-container {\n",
       "    max-height: 300px;\n",
       "    overflow: auto;\n",
       "  }\n",
       "  table, th, td {\n",
       "    border: 1px solid black;\n",
       "    border-collapse: collapse;\n",
       "  }\n",
       "  th, td {\n",
       "    padding: 5px;\n",
       "  }\n",
       "  th {\n",
       "    text-align: left;\n",
       "  }\n",
       "</style><div class='table-result-container'><table class='table-result'><thead style='background-color: white'><tr><th>Category</th><th>Product</th><th>Region</th><th>Date</th><th>Sales</th><th>Quantity</th></tr></thead><tbody><tr><td>Home Decor</td><td>Cushion</td><td>East</td><td>2022-04-13</td><td>388.1</td><td>8.0</td></tr><tr><td>Clothing</td><td>Jacket</td><td>east</td><td>2023-12-02</td><td>278.27</td><td>3.0</td></tr><tr><td>Books</td><td>Fiction</td><td>South</td><td>2022-08-03</td><td>-18.05</td><td>8.0</td></tr><tr><td>Clothing</td><td>Jeans</td><td>West</td><td>2023-01-08</td><td>280.61</td><td>8.0</td></tr><tr><td>Home Decor</td><td>Lamp</td><td>North</td><td>2022-05-11</td><td>-38.68</td><td>2.0</td></tr><tr><td>Sports</td><td>Football</td><td>South</td><td>2022-12-10</td><td>407.84</td><td>6.0</td></tr><tr><td>Home Decor</td><td>Cushion</td><td>South</td><td>2023-01-21</td><td>50.0</td><td>5.0</td></tr><tr><td>null</td><td>null</td><td>east</td><td>2022-06-10</td><td>null</td><td>6.0</td></tr><tr><td>null</td><td>null</td><td>West</td><td>2022-09-10</td><td>187.57</td><td>1.0</td></tr><tr><td>Home Decor</td><td>Curtain</td><td>West</td><td>2023-04-20</td><td>286.52</td><td>3.0</td></tr></tbody></table></div>"
      ]
     },
     "metadata": {
      "application/vnd.databricks.v1+output": {
       "addedWidgets": {},
       "aggData": [],
       "aggError": "",
       "aggOverflow": false,
       "aggSchema": [],
       "aggSeriesLimitReached": false,
       "aggType": "",
       "arguments": {},
       "columnCustomDisplayInfos": {},
       "data": [
        [
         "Home Decor",
         "Cushion",
         "East",
         "2022-04-13",
         388.1,
         8.0
        ],
        [
         "Clothing",
         "Jacket",
         "east",
         "2023-12-02",
         278.27,
         3.0
        ],
        [
         "Books",
         "Fiction",
         "South",
         "2022-08-03",
         -18.05,
         8.0
        ],
        [
         "Clothing",
         "Jeans",
         "West",
         "2023-01-08",
         280.61,
         8.0
        ],
        [
         "Home Decor",
         "Lamp",
         "North",
         "2022-05-11",
         -38.68,
         2.0
        ],
        [
         "Sports",
         "Football",
         "South",
         "2022-12-10",
         407.84,
         6.0
        ],
        [
         "Home Decor",
         "Cushion",
         "South",
         "2023-01-21",
         50.0,
         5.0
        ],
        [
         null,
         null,
         "east",
         "2022-06-10",
         null,
         6.0
        ],
        [
         null,
         null,
         "West",
         "2022-09-10",
         187.57,
         1.0
        ],
        [
         "Home Decor",
         "Curtain",
         "West",
         "2023-04-20",
         286.52,
         3.0
        ]
       ],
       "datasetInfos": [],
       "dbfsResultPath": null,
       "isJsonSchema": true,
       "metadata": {},
       "overflow": false,
       "plotOptions": {
        "customPlotOptions": {},
        "displayType": "table",
        "pivotAggregation": null,
        "pivotColumns": null,
        "xColumns": null,
        "yColumns": null
       },
       "removedWidgets": [],
       "schema": [
        {
         "metadata": "{\"scale\":0}",
         "name": "Category",
         "type": "\"string\""
        },
        {
         "metadata": "{\"scale\":0}",
         "name": "Product",
         "type": "\"string\""
        },
        {
         "metadata": "{\"scale\":0}",
         "name": "Region",
         "type": "\"string\""
        },
        {
         "metadata": "{\"scale\":0}",
         "name": "Date",
         "type": "\"date\""
        },
        {
         "metadata": "{\"scale\":0}",
         "name": "Sales",
         "type": "\"double\""
        },
        {
         "metadata": "{\"scale\":0}",
         "name": "Quantity",
         "type": "\"double\""
        }
       ],
       "type": "table"
      }
     },
     "output_type": "display_data"
    }
   ],
   "source": [
    "# Read data from the SQL database\n",
    "salesdf = spark.read.jdbc(url=jdbcUrl, table=\"sales_orders\", properties=connectionProperties)\n",
    "\n",
    "# Display the DataFrame\n",
    "display(salesdf.limit(10))"
   ]
  },
  {
   "cell_type": "code",
   "execution_count": 0,
   "metadata": {
    "application/vnd.databricks.v1+cell": {
     "cellMetadata": {
      "byteLimit": 2048000,
      "rowLimit": 10000
     },
     "inputWidgets": {},
     "nuid": "7fbefdc7-c28f-429b-9d4d-58ea18391026",
     "showTitle": false,
     "tableResultSettingsMap": {},
     "title": ""
    }
   },
   "outputs": [
    {
     "output_type": "display_data",
     "data": {
      "text/html": [
       "<style scoped>\n",
       "  .table-result-container {\n",
       "    max-height: 300px;\n",
       "    overflow: auto;\n",
       "  }\n",
       "  table, th, td {\n",
       "    border: 1px solid black;\n",
       "    border-collapse: collapse;\n",
       "  }\n",
       "  th, td {\n",
       "    padding: 5px;\n",
       "  }\n",
       "  th {\n",
       "    text-align: left;\n",
       "  }\n",
       "</style><div class='table-result-container'><table class='table-result'><thead style='background-color: white'><tr><th>Category</th><th>Product</th><th>Region</th><th>Date</th><th>Sales</th><th>Quantity</th></tr></thead><tbody><tr><td>160</td><td>210</td><td>0</td><td>46</td><td>94</td><td>45</td></tr></tbody></table></div>"
      ]
     },
     "metadata": {
      "application/vnd.databricks.v1+output": {
       "addedWidgets": {},
       "aggData": [],
       "aggError": "",
       "aggOverflow": false,
       "aggSchema": [],
       "aggSeriesLimitReached": false,
       "aggType": "",
       "arguments": {},
       "columnCustomDisplayInfos": {},
       "data": [
        [
         160,
         210,
         0,
         46,
         94,
         45
        ]
       ],
       "datasetInfos": [],
       "dbfsResultPath": null,
       "isJsonSchema": true,
       "metadata": {},
       "overflow": false,
       "plotOptions": {
        "customPlotOptions": {},
        "displayType": "table",
        "pivotAggregation": null,
        "pivotColumns": null,
        "xColumns": null,
        "yColumns": null
       },
       "removedWidgets": [],
       "schema": [
        {
         "metadata": "{}",
         "name": "Category",
         "type": "\"long\""
        },
        {
         "metadata": "{}",
         "name": "Product",
         "type": "\"long\""
        },
        {
         "metadata": "{}",
         "name": "Region",
         "type": "\"long\""
        },
        {
         "metadata": "{}",
         "name": "Date",
         "type": "\"long\""
        },
        {
         "metadata": "{}",
         "name": "Sales",
         "type": "\"long\""
        },
        {
         "metadata": "{}",
         "name": "Quantity",
         "type": "\"long\""
        }
       ],
       "type": "table"
      }
     },
     "output_type": "display_data"
    }
   ],
   "source": [
    "from pyspark.sql.functions import col, sum\n",
    "\n",
    "# Find all the missing values in salesdf\n",
    "missing_values = salesdf.select([sum(col(c).isNull().cast(\"int\")).alias(c) for c in salesdf.columns])\n",
    "\n",
    "# Display the DataFrame with missing values count\n",
    "display(missing_values)"
   ]
  },
  {
   "cell_type": "code",
   "execution_count": 0,
   "metadata": {
    "application/vnd.databricks.v1+cell": {
     "cellMetadata": {
      "byteLimit": 2048000,
      "rowLimit": 10000
     },
     "inputWidgets": {},
     "nuid": "3e340120-fe86-497d-95b2-b00c8433abc7",
     "showTitle": false,
     "tableResultSettingsMap": {},
     "title": ""
    }
   },
   "outputs": [
    {
     "output_type": "display_data",
     "data": {
      "text/html": [
       "<style scoped>\n",
       "  .table-result-container {\n",
       "    max-height: 300px;\n",
       "    overflow: auto;\n",
       "  }\n",
       "  table, th, td {\n",
       "    border: 1px solid black;\n",
       "    border-collapse: collapse;\n",
       "  }\n",
       "  th, td {\n",
       "    padding: 5px;\n",
       "  }\n",
       "  th {\n",
       "    text-align: left;\n",
       "  }\n",
       "</style><div class='table-result-container'><table class='table-result'><thead style='background-color: white'><tr><th>Column</th><th>MissingCount</th></tr></thead><tbody><tr><td>Category</td><td>160</td></tr><tr><td>Product</td><td>210</td></tr><tr><td>Region</td><td>0</td></tr><tr><td>Date</td><td>46</td></tr><tr><td>Sales</td><td>94</td></tr><tr><td>Quantity</td><td>45</td></tr></tbody></table></div>"
      ]
     },
     "metadata": {
      "application/vnd.databricks.v1+output": {
       "addedWidgets": {},
       "aggData": [],
       "aggError": "",
       "aggOverflow": false,
       "aggSchema": [],
       "aggSeriesLimitReached": false,
       "aggType": "",
       "arguments": {},
       "columnCustomDisplayInfos": {},
       "data": [
        [
         "Category",
         160
        ],
        [
         "Product",
         210
        ],
        [
         "Region",
         0
        ],
        [
         "Date",
         46
        ],
        [
         "Sales",
         94
        ],
        [
         "Quantity",
         45
        ]
       ],
       "datasetInfos": [],
       "dbfsResultPath": null,
       "isJsonSchema": true,
       "metadata": {},
       "overflow": false,
       "plotOptions": {
        "customPlotOptions": {},
        "displayType": "table",
        "pivotAggregation": null,
        "pivotColumns": null,
        "xColumns": null,
        "yColumns": null
       },
       "removedWidgets": [],
       "schema": [
        {
         "metadata": "{}",
         "name": "Column",
         "type": "\"string\""
        },
        {
         "metadata": "{}",
         "name": "MissingCount",
         "type": "\"long\""
        }
       ],
       "type": "table"
      }
     },
     "output_type": "display_data"
    },
    {
     "output_type": "display_data",
     "data": {
      "text/plain": [
       "Databricks visualization. Run in Databricks to view."
      ]
     },
     "metadata": {
      "application/vnd.databricks.v1.subcommand+json": {
       "baseErrorDetails": null,
       "bindings": {},
       "collapsed": false,
       "command": "%python\n__backend_agg_display_orig = display\n__backend_agg_dfs = []\ndef __backend_agg_display_new(df):\n    __backend_agg_df_modules = [\"pandas.core.frame\", \"databricks.koalas.frame\", \"pyspark.sql.dataframe\", \"pyspark.pandas.frame\", \"pyspark.sql.connect.dataframe\"]\n    if (type(df).__module__ in __backend_agg_df_modules and type(df).__name__ == 'DataFrame') or isinstance(df, list):\n        __backend_agg_dfs.append(df)\n\ndisplay = __backend_agg_display_new\n\ndef __backend_agg_user_code_fn():\n    import base64\n    exec(base64.standard_b64decode(\"IyBUcmFuc3Bvc2UgdGhlIG1pc3NpbmdfdmFsdWVzIERhdGFGcmFtZQp0cmFuc3Bvc2VkX21pc3NpbmdfdmFsdWVzID0gbWlzc2luZ192YWx1ZXMuc2VsZWN0RXhwcigic3RhY2soIiArIHN0cihsZW4obWlzc2luZ192YWx1ZXMuY29sdW1ucykpICsgIiwgIiArIAogICAgICAgICAgICAgICAgICAgICAgICAgICAgICAgICAgICAgICAgICAgICAgICAgICAgICAiLCAiLmpvaW4oW2YiJ3tjfScsIHtjfSIgZm9yIGMgaW4gbWlzc2luZ192YWx1ZXMuY29sdW1uc10pICsgCiAgICAgICAgICAgICAgICAgICAgICAgICAgICAgICAgICAgICAgICAgICAgICAgICAgICAgICIpIGFzIChDb2x1bW4sIE1pc3NpbmdDb3VudCkiKQoKIyBEaXNwbGF5IHRoZSB0cmFuc3Bvc2VkIERhdGFGcmFtZQpkaXNwbGF5KHRyYW5zcG9zZWRfbWlzc2luZ192YWx1ZXMp\").decode())\n\ntry:\n    # run user code\n    __backend_agg_user_code_fn()\n\n    #reset display function\n    display = __backend_agg_display_orig\n\n    if len(__backend_agg_dfs) > 0:\n        # create a temp view\n        if type(__backend_agg_dfs[0]).__module__ == \"databricks.koalas.frame\":\n            # koalas dataframe\n            __backend_agg_dfs[0].to_spark().createOrReplaceTempView(\"DatabricksView0318b71\")\n        elif type(__backend_agg_dfs[0]).__module__ == \"pandas.core.frame\" or isinstance(__backend_agg_dfs[0], list):\n            # pandas dataframe\n            spark.createDataFrame(__backend_agg_dfs[0]).createOrReplaceTempView(\"DatabricksView0318b71\")\n        else:\n            __backend_agg_dfs[0].createOrReplaceTempView(\"DatabricksView0318b71\")\n        #run backend agg\n        display(spark.sql(\"\"\"WITH q AS (select * from DatabricksView0318b71) SELECT `Column`,SUM(`MissingCount`) `column_6edb9eb8293` FROM q GROUP BY `Column`\"\"\"))\n    else:\n        displayHTML(\"dataframe no longer exists. If you're using dataframe.display(), use display(dataframe) instead.\")\n\n\nfinally:\n    spark.sql(\"drop view if exists DatabricksView0318b71\")\n    display = __backend_agg_display_orig\n    del __backend_agg_display_new\n    del __backend_agg_display_orig\n    del __backend_agg_dfs\n    del __backend_agg_user_code_fn\n\n",
       "commandTitle": "Visualization 1",
       "commandType": "auto",
       "commandVersion": 0,
       "commentThread": [],
       "commentsVisible": false,
       "contentSha256Hex": null,
       "customPlotOptions": {
        "redashChart": [
         {
          "key": "type",
          "value": "CHART"
         },
         {
          "key": "options",
          "value": {
           "alignYAxesAtZero": true,
           "coefficient": 1,
           "columnConfigurationMap": {
            "x": {
             "column": "Column",
             "id": "column_6edb9eb8292"
            },
            "y": [
             {
              "column": "MissingCount",
              "id": "column_6edb9eb8293",
              "transform": "SUM"
             }
            ]
           },
           "dateTimeFormat": "DD/MM/YYYY HH:mm",
           "direction": {
            "type": "counterclockwise"
           },
           "error_y": {
            "type": "data",
            "visible": true
           },
           "globalSeriesType": "column",
           "isAggregationOn": true,
           "legend": {
            "traceorder": "normal"
           },
           "missingValuesAsZero": true,
           "numberFormat": "0,0.[00000]",
           "percentFormat": "0[.]00%",
           "series": {
            "error_y": {
             "type": "data",
             "visible": true
            },
            "stacking": null
           },
           "seriesOptions": {
            "column_6edb9eb8293": {
             "name": "MissingCount",
             "yAxis": 0
            }
           },
           "showDataLabels": false,
           "sizemode": "diameter",
           "sortX": true,
           "sortY": true,
           "swappedAxes": true,
           "textFormat": "",
           "useAggregationsUi": true,
           "valuesOptions": {},
           "version": 2,
           "xAxis": {
            "labels": {
             "enabled": true
            },
            "type": "-"
           },
           "yAxis": [
            {
             "type": "-"
            },
            {
             "opposite": true,
             "type": "-"
            }
           ]
          }
         }
        ]
       },
       "datasetPreviewNameToCmdIdMap": {},
       "diffDeletes": [],
       "diffInserts": [],
       "displayType": "redashChart",
       "error": null,
       "errorDetails": null,
       "errorSummary": null,
       "errorTraceType": null,
       "finishTime": 0,
       "globalVars": {},
       "guid": "",
       "height": "auto",
       "hideCommandCode": false,
       "hideCommandResult": false,
       "iPythonMetadata": null,
       "inputWidgets": {},
       "isLockedInExamMode": false,
       "latestUser": "a user",
       "latestUserId": null,
       "listResultMetadata": null,
       "metadata": {},
       "nuid": "57d36863-030c-4022-81a6-737619cb69da",
       "origId": 0,
       "parentHierarchy": [],
       "pivotAggregation": null,
       "pivotColumns": null,
       "position": 5.0,
       "resultDbfsErrorMessage": null,
       "resultDbfsStatus": "INLINED_IN_TREE",
       "results": null,
       "showCommandTitle": false,
       "startTime": 0,
       "state": "input",
       "streamStates": {},
       "subcommandOptions": {
        "queryPlan": {
         "groups": [
          {
           "column": "Column",
           "type": "column"
          }
         ],
         "selects": [
          {
           "column": "Column",
           "type": "column"
          },
          {
           "alias": "column_6edb9eb8293",
           "args": [
            {
             "column": "MissingCount",
             "type": "column"
            }
           ],
           "function": "SUM",
           "type": "function"
          }
         ]
        }
       },
       "submitTime": 0,
       "subtype": "tableResultSubCmd.visualization",
       "tableResultIndex": 0,
       "tableResultSettingsMap": {},
       "useConsistentColors": false,
       "version": "CommandV1",
       "width": "auto",
       "workflows": [],
       "xColumns": null,
       "yColumns": null
      }
     },
     "output_type": "display_data"
    }
   ],
   "source": [
    "# Transpose the missing_values DataFrame\n",
    "transposed_missing_values = missing_values.selectExpr(\"stack(\" + str(len(missing_values.columns)) + \", \" + \n",
    "                                                      \", \".join([f\"'{c}', {c}\" for c in missing_values.columns]) + \n",
    "                                                      \") as (Column, MissingCount)\")\n",
    "\n",
    "# Display the transposed DataFrame\n",
    "display(transposed_missing_values)"
   ]
  },
  {
   "cell_type": "code",
   "execution_count": 0,
   "metadata": {
    "application/vnd.databricks.v1+cell": {
     "cellMetadata": {
      "byteLimit": 2048000,
      "rowLimit": 10000
     },
     "inputWidgets": {},
     "nuid": "8819c488-1689-4a3f-88e5-de9fb386d212",
     "showTitle": false,
     "tableResultSettingsMap": {},
     "title": ""
    }
   },
   "outputs": [
    {
     "output_type": "display_data",
     "data": {
      "text/html": [
       "<style scoped>\n",
       "  .table-result-container {\n",
       "    max-height: 300px;\n",
       "    overflow: auto;\n",
       "  }\n",
       "  table, th, td {\n",
       "    border: 1px solid black;\n",
       "    border-collapse: collapse;\n",
       "  }\n",
       "  th, td {\n",
       "    padding: 5px;\n",
       "  }\n",
       "  th {\n",
       "    text-align: left;\n",
       "  }\n",
       "</style><div class='table-result-container'><table class='table-result'><thead style='background-color: white'><tr><th>Category</th><th>Product</th><th>Region</th><th>Date</th><th>Sales</th><th>Quantity</th></tr></thead><tbody><tr><td>Home Decor</td><td>Cushion</td><td>East</td><td>2022-04-13</td><td>388.1</td><td>8.0</td></tr><tr><td>Clothing</td><td>Jacket</td><td>east</td><td>2023-12-02</td><td>278.27</td><td>3.0</td></tr><tr><td>Books</td><td>Fiction</td><td>South</td><td>2022-08-03</td><td>-18.05</td><td>8.0</td></tr><tr><td>Clothing</td><td>Jeans</td><td>West</td><td>2023-01-08</td><td>280.61</td><td>8.0</td></tr><tr><td>Home Decor</td><td>Lamp</td><td>North</td><td>2022-05-11</td><td>-38.68</td><td>2.0</td></tr><tr><td>Sports</td><td>Football</td><td>South</td><td>2022-12-10</td><td>407.84</td><td>6.0</td></tr><tr><td>Home Decor</td><td>Cushion</td><td>South</td><td>2023-01-21</td><td>50.0</td><td>5.0</td></tr><tr><td>Unknown</td><td>Unknown product</td><td>east</td><td>2022-06-10</td><td>null</td><td>6.0</td></tr><tr><td>Unknown</td><td>Unknown product</td><td>West</td><td>2022-09-10</td><td>187.57</td><td>1.0</td></tr><tr><td>Home Decor</td><td>Curtain</td><td>West</td><td>2023-04-20</td><td>286.52</td><td>3.0</td></tr><tr><td>Electronics</td><td>Mobile</td><td>East</td><td>2023-07-21</td><td>490.78</td><td>9.0</td></tr><tr><td>Sports</td><td>Yoga Mat</td><td>east</td><td>2023-10-09</td><td>43.79</td><td>7.0</td></tr><tr><td>Electronics</td><td>Mobile</td><td>South</td><td>2022-10-01</td><td>471.89</td><td>2.0</td></tr><tr><td>Electronics</td><td>Laptop</td><td>east</td><td>2022-12-12</td><td>3.72</td><td>4.0</td></tr><tr><td>Unknown</td><td>Unknown product</td><td>East</td><td>2022-04-02</td><td>192.08</td><td>7.0</td></tr><tr><td>Unknown</td><td>Unknown product</td><td>West</td><td>2023-03-04</td><td>222.35</td><td>3.0</td></tr><tr><td>Home Decor</td><td>Lamp</td><td>East</td><td>2022-07-25</td><td>165.08</td><td>5.0</td></tr><tr><td>Sports</td><td>Yoga Mat</td><td>east</td><td>2023-07-16</td><td>null</td><td>8.0</td></tr><tr><td>Books</td><td>Non-Fiction</td><td>West</td><td>2023-01-23</td><td>121.44</td><td>6.0</td></tr><tr><td>Books</td><td>Comics</td><td>east</td><td>2023-07-20</td><td>250.69</td><td>6.0</td></tr><tr><td>Unknown</td><td>Unknown product</td><td>North</td><td>2023-04-22</td><td>483.27</td><td>2.0</td></tr><tr><td>Electronics</td><td>Unknown product</td><td>North</td><td>2022-07-21</td><td>442.16</td><td>8.0</td></tr><tr><td>Home Decor</td><td>Curtain</td><td>East</td><td>2023-04-07</td><td>57.79</td><td>9.0</td></tr><tr><td>Home Decor</td><td>Lamp</td><td>east</td><td>2023-12-03</td><td>128.93</td><td>2.0</td></tr><tr><td>Home Decor</td><td>Curtain</td><td>east</td><td>2022-02-22</td><td>272.71</td><td>9.0</td></tr><tr><td>Home Decor</td><td>Curtain</td><td>South</td><td>2022-07-07</td><td>248.48</td><td>9.0</td></tr><tr><td>Unknown</td><td>Unknown product</td><td>east</td><td>2022-06-06</td><td>391.21</td><td>1.0</td></tr><tr><td>Unknown</td><td>Unknown product</td><td>Central</td><td>2023-06-05</td><td>374.73</td><td>5.0</td></tr><tr><td>Unknown</td><td>Unknown product</td><td>Central</td><td>2023-10-10</td><td>-46.96</td><td>3.0</td></tr><tr><td>Sports</td><td>Tennis Racket</td><td>South</td><td>2023-08-16</td><td>341.24</td><td>3.0</td></tr><tr><td>Sports</td><td>Yoga Mat</td><td>East</td><td>2022-10-16</td><td>283.28</td><td>7.0</td></tr><tr><td>Clothing</td><td>Jeans</td><td>Central</td><td>2022-02-10</td><td>453.23</td><td>9.0</td></tr><tr><td>Home Decor</td><td>Lamp</td><td>South</td><td>2022-02-02</td><td>-15.04</td><td>7.0</td></tr><tr><td>Books</td><td>Fiction</td><td>Central</td><td>2023-07-28</td><td>128.85</td><td>3.0</td></tr><tr><td>Home Decor</td><td>Lamp</td><td>east</td><td>2023-11-15</td><td>300.66</td><td>3.0</td></tr><tr><td>Unknown</td><td>Unknown product</td><td>Central</td><td>2023-09-05</td><td>484.44</td><td>3.0</td></tr><tr><td>Unknown</td><td>Unknown product</td><td>North</td><td>2022-01-05</td><td>258.7</td><td>7.0</td></tr><tr><td>Sports</td><td>Yoga Mat</td><td>West</td><td>2023-01-28</td><td>340.86</td><td>3.0</td></tr><tr><td>Books</td><td>Comics</td><td>East</td><td>2023-07-29</td><td>442.67</td><td>1.0</td></tr><tr><td>Books</td><td>Fiction</td><td>east</td><td>2023-07-18</td><td>259.8</td><td>4.0</td></tr><tr><td>Electronics</td><td>Unknown product</td><td>East</td><td>2023-04-30</td><td>87.11</td><td>4.0</td></tr><tr><td>Books</td><td>Comics</td><td>east</td><td>2023-11-30</td><td>332.13</td><td>2.0</td></tr><tr><td>Unknown</td><td>Unknown product</td><td>east</td><td>2023-11-13</td><td>394.47</td><td>9.0</td></tr><tr><td>Books</td><td>Non-Fiction</td><td>East</td><td>2023-10-08</td><td>201.09</td><td>4.0</td></tr><tr><td>Electronics</td><td>Laptop</td><td>east</td><td>2022-11-27</td><td>null</td><td>7.0</td></tr><tr><td>Books</td><td>Comics</td><td>North</td><td>2022-07-09</td><td>10.53</td><td>9.0</td></tr><tr><td>Home Decor</td><td>Lamp</td><td>North</td><td>2022-10-10</td><td>184.91</td><td>5.0</td></tr><tr><td>Sports</td><td>Yoga Mat</td><td>east</td><td>2023-09-20</td><td>143.91</td><td>3.0</td></tr><tr><td>Unknown</td><td>Unknown product</td><td>North</td><td>2022-12-25</td><td>null</td><td>6.0</td></tr><tr><td>Home Decor</td><td>Curtain</td><td>Central</td><td>2023-04-01</td><td>243.75</td><td>5.0</td></tr><tr><td>Home Decor</td><td>Lamp</td><td>East</td><td>2022-08-13</td><td>15.93</td><td>8.0</td></tr><tr><td>Sports</td><td>Football</td><td>east</td><td>2023-01-09</td><td>70.32</td><td>8.0</td></tr><tr><td>Books</td><td>Fiction</td><td>North</td><td>2022-08-21</td><td>172.11</td><td>1.0</td></tr><tr><td>Unknown</td><td>Unknown product</td><td>Central</td><td>2023-03-18</td><td>479.35</td><td>7.0</td></tr><tr><td>Books</td><td>Comics</td><td>East</td><td>2023-01-21</td><td>341.75</td><td>5.0</td></tr><tr><td>Home Decor</td><td>Curtain</td><td>North</td><td>2023-09-17</td><td>498.76</td><td>1.0</td></tr><tr><td>Sports</td><td>Tennis Racket</td><td>North</td><td>2022-01-02</td><td>null</td><td>2.0</td></tr><tr><td>Clothing</td><td>Jacket</td><td>South</td><td>2022-08-08</td><td>-21.69</td><td>5.0</td></tr><tr><td>Unknown</td><td>Unknown product</td><td>east</td><td>2022-08-13</td><td>298.89</td><td>2.0</td></tr><tr><td>Home Decor</td><td>Cushion</td><td>east</td><td>2022-02-22</td><td>219.2</td><td>6.0</td></tr><tr><td>Clothing</td><td>Shirt</td><td>Central</td><td>2023-02-20</td><td>275.98</td><td>7.0</td></tr><tr><td>Home Decor</td><td>Cushion</td><td>East</td><td>2022-07-22</td><td>153.31</td><td>5.0</td></tr><tr><td>Home Decor</td><td>Lamp</td><td>east</td><td>2023-02-05</td><td>350.52</td><td>8.0</td></tr><tr><td>Unknown</td><td>Unknown product</td><td>east</td><td>2023-09-02</td><td>298.44</td><td>1.0</td></tr><tr><td>Clothing</td><td>Shirt</td><td>east</td><td>2022-07-20</td><td>126.43</td><td>6.0</td></tr><tr><td>Books</td><td>Non-Fiction</td><td>South</td><td>2023-04-09</td><td>null</td><td>3.0</td></tr><tr><td>Unknown</td><td>Unknown product</td><td>East</td><td>2023-10-22</td><td>129.28</td><td>4.0</td></tr><tr><td>Electronics</td><td>Mobile</td><td>Central</td><td>2023-02-07</td><td>341.13</td><td>3.0</td></tr><tr><td>Home Decor</td><td>Curtain</td><td>east</td><td>2023-05-04</td><td>null</td><td>1.0</td></tr><tr><td>Electronics</td><td>Laptop</td><td>South</td><td>2023-10-02</td><td>234.76</td><td>8.0</td></tr><tr><td>Books</td><td>Comics</td><td>Central</td><td>2023-10-03</td><td>321.63</td><td>9.0</td></tr><tr><td>Sports</td><td>Tennis Racket</td><td>east</td><td>2023-02-19</td><td>432.54</td><td>3.0</td></tr><tr><td>Sports</td><td>Tennis Racket</td><td>North</td><td>2022-09-20</td><td>312.99</td><td>9.0</td></tr><tr><td>Home Decor</td><td>Curtain</td><td>South</td><td>2023-07-26</td><td>93.46</td><td>1.0</td></tr><tr><td>Unknown</td><td>Unknown product</td><td>east</td><td>2022-10-31</td><td>480.98</td><td>5.0</td></tr><tr><td>Clothing</td><td>Jeans</td><td>West</td><td>2022-02-06</td><td>435.45</td><td>7.0</td></tr><tr><td>Home Decor</td><td>Curtain</td><td>Central</td><td>2022-01-09</td><td>103.38</td><td>3.0</td></tr><tr><td>Clothing</td><td>Jeans</td><td>North</td><td>2022-07-27</td><td>443.41</td><td>8.0</td></tr><tr><td>Home Decor</td><td>Lamp</td><td>South</td><td>2022-02-23</td><td>378.93</td><td>8.0</td></tr><tr><td>Unknown</td><td>Unknown product</td><td>West</td><td>2023-09-20</td><td>-3.72</td><td>5.0</td></tr><tr><td>Books</td><td>Comics</td><td>Central</td><td>2023-02-24</td><td>444.2</td><td>4.0</td></tr><tr><td>Electronics</td><td>Unknown product</td><td>Central</td><td>2022-09-11</td><td>-44.94</td><td>9.0</td></tr><tr><td>Home Decor</td><td>Lamp</td><td>East</td><td>2022-04-09</td><td>485.52</td><td>2.0</td></tr><tr><td>Electronics</td><td>Mobile</td><td>South</td><td>2022-12-04</td><td>217.09</td><td>3.0</td></tr><tr><td>Sports</td><td>Tennis Racket</td><td>West</td><td>2023-12-21</td><td>496.95</td><td>4.0</td></tr><tr><td>Electronics</td><td>Laptop</td><td>West</td><td>2022-06-10</td><td>-40.06</td><td>5.0</td></tr><tr><td>Home Decor</td><td>Curtain</td><td>East</td><td>2023-05-19</td><td>null</td><td>8.0</td></tr><tr><td>Books</td><td>Non-Fiction</td><td>South</td><td>2022-05-15</td><td>346.52</td><td>1.0</td></tr><tr><td>Clothing</td><td>Jeans</td><td>North</td><td>2023-11-19</td><td>null</td><td>3.0</td></tr><tr><td>Sports</td><td>Tennis Racket</td><td>South</td><td>2023-04-15</td><td>95.86</td><td>6.0</td></tr><tr><td>Unknown</td><td>Unknown product</td><td>East</td><td>2022-08-18</td><td>166.2</td><td>6.0</td></tr><tr><td>Unknown</td><td>Unknown product</td><td>South</td><td>2022-10-10</td><td>188.92</td><td>5.0</td></tr><tr><td>Books</td><td>Non-Fiction</td><td>West</td><td>2023-09-01</td><td>267.3</td><td>5.0</td></tr><tr><td>Books</td><td>Comics</td><td>South</td><td>2023-10-21</td><td>264.6</td><td>1.0</td></tr><tr><td>Electronics</td><td>Headphones</td><td>South</td><td>2023-05-27</td><td>47.41</td><td>5.0</td></tr><tr><td>Clothing</td><td>Jacket</td><td>West</td><td>2023-06-02</td><td>153.59</td><td>9.0</td></tr><tr><td>Unknown</td><td>Unknown product</td><td>North</td><td>2022-02-06</td><td>460.58</td><td>1.0</td></tr><tr><td>Sports</td><td>Football</td><td>West</td><td>2022-10-29</td><td>481.66</td><td>3.0</td></tr><tr><td>Sports</td><td>Football</td><td>South</td><td>2023-12-01</td><td>419.16</td><td>5.0</td></tr><tr><td>Books</td><td>Fiction</td><td>east</td><td>2022-06-10</td><td>124.31</td><td>2.0</td></tr><tr><td>Sports</td><td>Tennis Racket</td><td>Central</td><td>2023-07-20</td><td>332.82</td><td>8.0</td></tr><tr><td>Sports</td><td>Yoga Mat</td><td>East</td><td>2023-11-17</td><td>3.45</td><td>6.0</td></tr><tr><td>Clothing</td><td>Shirt</td><td>East</td><td>2023-10-25</td><td>27.05</td><td>2.0</td></tr><tr><td>Sports</td><td>Football</td><td>South</td><td>2022-04-14</td><td>333.36</td><td>6.0</td></tr><tr><td>Sports</td><td>Tennis Racket</td><td>east</td><td>2022-06-25</td><td>254.05</td><td>7.0</td></tr><tr><td>Sports</td><td>Tennis Racket</td><td>east</td><td>2023-06-22</td><td>395.56</td><td>9.0</td></tr><tr><td>Sports</td><td>Yoga Mat</td><td>North</td><td>2023-02-12</td><td>452.28</td><td>7.0</td></tr><tr><td>Sports</td><td>Football</td><td>East</td><td>2022-02-05</td><td>389.06</td><td>1.0</td></tr><tr><td>Clothing</td><td>Shirt</td><td>South</td><td>2023-05-27</td><td>168.23</td><td>3.0</td></tr><tr><td>Electronics</td><td>Mobile</td><td>East</td><td>2023-04-16</td><td>-34.81</td><td>2.0</td></tr><tr><td>Clothing</td><td>Jeans</td><td>West</td><td>2023-12-28</td><td>319.61</td><td>3.0</td></tr><tr><td>Home Decor</td><td>Curtain</td><td>East</td><td>2022-11-10</td><td>423.22</td><td>1.0</td></tr><tr><td>Sports</td><td>Tennis Racket</td><td>South</td><td>2023-11-23</td><td>-28.64</td><td>6.0</td></tr><tr><td>Books</td><td>Comics</td><td>North</td><td>2023-03-20</td><td>129.66</td><td>8.0</td></tr><tr><td>Books</td><td>Non-Fiction</td><td>East</td><td>2022-02-22</td><td>99.35</td><td>5.0</td></tr><tr><td>Books</td><td>Fiction</td><td>South</td><td>2022-04-13</td><td>-3.06</td><td>4.0</td></tr><tr><td>Clothing</td><td>Jeans</td><td>East</td><td>2022-12-16</td><td>247.35</td><td>7.0</td></tr><tr><td>Electronics</td><td>Unknown product</td><td>West</td><td>2023-10-18</td><td>486.72</td><td>3.0</td></tr><tr><td>Unknown</td><td>Unknown product</td><td>Central</td><td>2023-10-19</td><td>169.35</td><td>3.0</td></tr><tr><td>Sports</td><td>Yoga Mat</td><td>East</td><td>2023-08-27</td><td>359.22</td><td>5.0</td></tr><tr><td>Home Decor</td><td>Cushion</td><td>North</td><td>2022-12-12</td><td>-36.06</td><td>5.0</td></tr><tr><td>Sports</td><td>Football</td><td>West</td><td>2022-05-07</td><td>332.79</td><td>5.0</td></tr><tr><td>Clothing</td><td>Jacket</td><td>East</td><td>2023-10-03</td><td>45.31</td><td>1.0</td></tr><tr><td>Books</td><td>Comics</td><td>Central</td><td>2022-04-06</td><td>252.07</td><td>9.0</td></tr><tr><td>Electronics</td><td>Unknown product</td><td>east</td><td>2023-05-03</td><td>464.04</td><td>1.0</td></tr><tr><td>Sports</td><td>Tennis Racket</td><td>North</td><td>2022-09-29</td><td>234.18</td><td>5.0</td></tr><tr><td>Clothing</td><td>Jeans</td><td>South</td><td>2022-09-04</td><td>-23.76</td><td>3.0</td></tr><tr><td>Books</td><td>Non-Fiction</td><td>South</td><td>2022-03-27</td><td>-42.08</td><td>5.0</td></tr><tr><td>Electronics</td><td>Unknown product</td><td>Central</td><td>2022-02-16</td><td>-27.6</td><td>4.0</td></tr><tr><td>Clothing</td><td>Jeans</td><td>East</td><td>2023-03-29</td><td>210.8</td><td>5.0</td></tr><tr><td>Books</td><td>Fiction</td><td>Central</td><td>2023-07-05</td><td>140.47</td><td>5.0</td></tr><tr><td>Electronics</td><td>Laptop</td><td>east</td><td>2022-01-23</td><td>-23.57</td><td>5.0</td></tr><tr><td>Clothing</td><td>Shirt</td><td>East</td><td>2022-04-10</td><td>-25.08</td><td>3.0</td></tr><tr><td>Clothing</td><td>Jacket</td><td>West</td><td>2023-03-18</td><td>225.57</td><td>8.0</td></tr><tr><td>Books</td><td>Non-Fiction</td><td>East</td><td>2022-11-21</td><td>326.18</td><td>8.0</td></tr><tr><td>Electronics</td><td>Unknown product</td><td>Central</td><td>2022-12-02</td><td>303.33</td><td>1.0</td></tr><tr><td>Clothing</td><td>Shirt</td><td>east</td><td>2022-06-09</td><td>467.13</td><td>8.0</td></tr><tr><td>Sports</td><td>Yoga Mat</td><td>east</td><td>2023-11-21</td><td>265.35</td><td>1.0</td></tr><tr><td>Electronics</td><td>Laptop</td><td>South</td><td>2023-11-22</td><td>401.35</td><td>3.0</td></tr><tr><td>Sports</td><td>Football</td><td>North</td><td>2023-07-31</td><td>478.65</td><td>2.0</td></tr><tr><td>Sports</td><td>Tennis Racket</td><td>West</td><td>2022-09-10</td><td>1.94</td><td>3.0</td></tr><tr><td>Clothing</td><td>Jacket</td><td>West</td><td>2023-12-28</td><td>-10.85</td><td>8.0</td></tr><tr><td>Clothing</td><td>Shirt</td><td>South</td><td>2023-08-28</td><td>414.68</td><td>2.0</td></tr><tr><td>Books</td><td>Comics</td><td>North</td><td>2022-04-25</td><td>105.02</td><td>4.0</td></tr><tr><td>Electronics</td><td>Headphones</td><td>West</td><td>2023-05-16</td><td>141.59</td><td>8.0</td></tr><tr><td>Electronics</td><td>Mobile</td><td>West</td><td>2023-02-24</td><td>179.87</td><td>9.0</td></tr><tr><td>Clothing</td><td>Jeans</td><td>East</td><td>2023-11-07</td><td>47.59</td><td>9.0</td></tr><tr><td>Electronics</td><td>Laptop</td><td>North</td><td>2022-07-11</td><td>266.76</td><td>3.0</td></tr><tr><td>Home Decor</td><td>Lamp</td><td>East</td><td>2023-07-02</td><td>154.61</td><td>7.0</td></tr><tr><td>Home Decor</td><td>Cushion</td><td>North</td><td>2022-04-06</td><td>137.44</td><td>5.0</td></tr><tr><td>Electronics</td><td>Laptop</td><td>east</td><td>2023-01-04</td><td>323.91</td><td>7.0</td></tr><tr><td>Clothing</td><td>Jeans</td><td>East</td><td>2022-08-05</td><td>81.03</td><td>1.0</td></tr><tr><td>Unknown</td><td>Unknown product</td><td>Central</td><td>2022-03-03</td><td>223.11</td><td>9.0</td></tr><tr><td>Electronics</td><td>Headphones</td><td>West</td><td>2022-12-08</td><td>113.7</td><td>3.0</td></tr><tr><td>Unknown</td><td>Unknown product</td><td>North</td><td>2022-06-26</td><td>-20.58</td><td>9.0</td></tr><tr><td>Books</td><td>Comics</td><td>Central</td><td>2022-03-17</td><td>null</td><td>9.0</td></tr><tr><td>Books</td><td>Comics</td><td>West</td><td>2023-03-31</td><td>476.24</td><td>4.0</td></tr><tr><td>Home Decor</td><td>Curtain</td><td>North</td><td>2023-05-21</td><td>297.51</td><td>5.0</td></tr><tr><td>Clothing</td><td>Jeans</td><td>West</td><td>2022-03-10</td><td>111.27</td><td>9.0</td></tr><tr><td>Sports</td><td>Tennis Racket</td><td>Central</td><td>2023-04-14</td><td>363.81</td><td>7.0</td></tr><tr><td>Sports</td><td>Yoga Mat</td><td>east</td><td>2022-05-24</td><td>384.29</td><td>5.0</td></tr><tr><td>Unknown</td><td>Unknown product</td><td>North</td><td>2022-02-11</td><td>485.84</td><td>5.0</td></tr><tr><td>Clothing</td><td>Jacket</td><td>South</td><td>2022-06-12</td><td>438.24</td><td>2.0</td></tr><tr><td>Electronics</td><td>Unknown product</td><td>North</td><td>2022-03-15</td><td>410.33</td><td>1.0</td></tr><tr><td>Clothing</td><td>Jacket</td><td>East</td><td>2022-09-10</td><td>411.16</td><td>8.0</td></tr><tr><td>Unknown</td><td>Unknown product</td><td>East</td><td>2022-06-19</td><td>168.16</td><td>2.0</td></tr><tr><td>Unknown</td><td>Unknown product</td><td>North</td><td>2023-06-01</td><td>232.33</td><td>6.0</td></tr><tr><td>Books</td><td>Non-Fiction</td><td>Central</td><td>2022-12-05</td><td>null</td><td>8.0</td></tr><tr><td>Home Decor</td><td>Curtain</td><td>Central</td><td>2023-05-11</td><td>424.73</td><td>6.0</td></tr><tr><td>Home Decor</td><td>Curtain</td><td>east</td><td>2023-05-15</td><td>80.18</td><td>7.0</td></tr><tr><td>Electronics</td><td>Laptop</td><td>East</td><td>2022-10-28</td><td>364.36</td><td>6.0</td></tr><tr><td>Sports</td><td>Football</td><td>East</td><td>2022-09-09</td><td>-4.07</td><td>6.0</td></tr><tr><td>Clothing</td><td>Jeans</td><td>East</td><td>2022-06-16</td><td>183.32</td><td>3.0</td></tr><tr><td>Sports</td><td>Tennis Racket</td><td>east</td><td>2022-02-08</td><td>188.95</td><td>2.0</td></tr><tr><td>Unknown</td><td>Unknown product</td><td>Central</td><td>2022-08-08</td><td>264.31</td><td>4.0</td></tr><tr><td>Unknown</td><td>Unknown product</td><td>North</td><td>2023-04-21</td><td>371.96</td><td>9.0</td></tr><tr><td>Unknown</td><td>Unknown product</td><td>Central</td><td>2022-01-01</td><td>324.57</td><td>9.0</td></tr><tr><td>Books</td><td>Comics</td><td>Central</td><td>2022-07-10</td><td>212.74</td><td>9.0</td></tr><tr><td>Electronics</td><td>Unknown product</td><td>South</td><td>2022-04-27</td><td>479.77</td><td>5.0</td></tr><tr><td>Sports</td><td>Football</td><td>East</td><td>2022-03-21</td><td>240.24</td><td>5.0</td></tr><tr><td>Books</td><td>Fiction</td><td>Central</td><td>2023-11-07</td><td>254.62</td><td>4.0</td></tr><tr><td>Home Decor</td><td>Cushion</td><td>Central</td><td>2023-03-17</td><td>null</td><td>2.0</td></tr><tr><td>Sports</td><td>Football</td><td>east</td><td>2022-02-16</td><td>296.17</td><td>1.0</td></tr><tr><td>Clothing</td><td>Shirt</td><td>South</td><td>2023-01-08</td><td>null</td><td>6.0</td></tr><tr><td>Clothing</td><td>Jacket</td><td>Central</td><td>2022-09-16</td><td>445.64</td><td>9.0</td></tr><tr><td>Sports</td><td>Football</td><td>east</td><td>2022-01-12</td><td>477.29</td><td>8.0</td></tr><tr><td>Unknown</td><td>Unknown product</td><td>East</td><td>2022-12-24</td><td>200.61</td><td>5.0</td></tr><tr><td>Sports</td><td>Yoga Mat</td><td>West</td><td>2022-01-08</td><td>null</td><td>4.0</td></tr><tr><td>Electronics</td><td>Mobile</td><td>West</td><td>2022-03-31</td><td>163.55</td><td>2.0</td></tr><tr><td>Clothing</td><td>Shirt</td><td>Central</td><td>2023-06-24</td><td>null</td><td>5.0</td></tr><tr><td>Unknown</td><td>Unknown product</td><td>South</td><td>2022-02-10</td><td>92.97</td><td>6.0</td></tr><tr><td>Electronics</td><td>Laptop</td><td>South</td><td>2022-05-25</td><td>103.87</td><td>5.0</td></tr><tr><td>Electronics</td><td>Mobile</td><td>Central</td><td>2023-12-25</td><td>281.53</td><td>3.0</td></tr><tr><td>Electronics</td><td>Laptop</td><td>East</td><td>2022-09-10</td><td>467.29</td><td>3.0</td></tr><tr><td>Electronics</td><td>Laptop</td><td>North</td><td>2022-09-13</td><td>269.64</td><td>9.0</td></tr><tr><td>Home Decor</td><td>Cushion</td><td>East</td><td>2023-03-26</td><td>-4.49</td><td>2.0</td></tr><tr><td>Electronics</td><td>Unknown product</td><td>North</td><td>2022-09-08</td><td>-25.13</td><td>7.0</td></tr><tr><td>Clothing</td><td>Jeans</td><td>East</td><td>2023-01-09</td><td>395.8</td><td>1.0</td></tr><tr><td>Electronics</td><td>Headphones</td><td>east</td><td>2022-10-09</td><td>159.49</td><td>6.0</td></tr><tr><td>Clothing</td><td>Shirt</td><td>South</td><td>2023-11-20</td><td>411.08</td><td>2.0</td></tr><tr><td>Clothing</td><td>Jacket</td><td>east</td><td>2022-04-15</td><td>178.15</td><td>1.0</td></tr><tr><td>Clothing</td><td>Jacket</td><td>East</td><td>2023-02-09</td><td>-18.99</td><td>6.0</td></tr><tr><td>Home Decor</td><td>Curtain</td><td>east</td><td>2023-04-21</td><td>397.1</td><td>5.0</td></tr><tr><td>Unknown</td><td>Unknown product</td><td>East</td><td>2023-03-13</td><td>271.83</td><td>5.0</td></tr><tr><td>Books</td><td>Non-Fiction</td><td>North</td><td>2023-11-08</td><td>366.39</td><td>3.0</td></tr><tr><td>Books</td><td>Non-Fiction</td><td>east</td><td>2022-05-25</td><td>82.6</td><td>9.0</td></tr><tr><td>Books</td><td>Comics</td><td>North</td><td>2022-01-01</td><td>474.73</td><td>4.0</td></tr><tr><td>Clothing</td><td>Jacket</td><td>East</td><td>2023-03-22</td><td>433.02</td><td>8.0</td></tr><tr><td>Books</td><td>Fiction</td><td>North</td><td>2022-02-03</td><td>146.99</td><td>8.0</td></tr><tr><td>Unknown</td><td>Unknown product</td><td>North</td><td>2023-07-05</td><td>319.37</td><td>2.0</td></tr><tr><td>Home Decor</td><td>Curtain</td><td>South</td><td>2023-03-14</td><td>374.78</td><td>2.0</td></tr><tr><td>Sports</td><td>Yoga Mat</td><td>East</td><td>2022-09-25</td><td>399.01</td><td>5.0</td></tr><tr><td>Home Decor</td><td>Cushion</td><td>Central</td><td>2023-02-05</td><td>23.71</td><td>7.0</td></tr><tr><td>Clothing</td><td>Shirt</td><td>West</td><td>2022-07-26</td><td>381.57</td><td>2.0</td></tr><tr><td>Sports</td><td>Yoga Mat</td><td>North</td><td>2022-03-16</td><td>67.13</td><td>6.0</td></tr><tr><td>Unknown</td><td>Unknown product</td><td>North</td><td>2023-12-05</td><td>-42.0</td><td>6.0</td></tr><tr><td>Home Decor</td><td>Cushion</td><td>east</td><td>2022-11-02</td><td>274.45</td><td>3.0</td></tr><tr><td>Clothing</td><td>Jacket</td><td>South</td><td>2023-03-23</td><td>349.52</td><td>9.0</td></tr><tr><td>Electronics</td><td>Mobile</td><td>Central</td><td>2022-06-15</td><td>198.0</td><td>7.0</td></tr><tr><td>Sports</td><td>Yoga Mat</td><td>South</td><td>2022-04-16</td><td>424.3</td><td>5.0</td></tr><tr><td>Sports</td><td>Tennis Racket</td><td>East</td><td>2022-05-18</td><td>459.62</td><td>1.0</td></tr><tr><td>Clothing</td><td>Shirt</td><td>South</td><td>2023-05-23</td><td>null</td><td>4.0</td></tr><tr><td>Sports</td><td>Football</td><td>Central</td><td>2022-03-10</td><td>489.02</td><td>5.0</td></tr><tr><td>Home Decor</td><td>Cushion</td><td>West</td><td>2023-03-26</td><td>130.81</td><td>3.0</td></tr><tr><td>Clothing</td><td>Jacket</td><td>Central</td><td>2022-04-21</td><td>20.88</td><td>7.0</td></tr><tr><td>Sports</td><td>Tennis Racket</td><td>South</td><td>2022-04-05</td><td>170.17</td><td>8.0</td></tr><tr><td>Electronics</td><td>Mobile</td><td>East</td><td>2022-12-26</td><td>333.08</td><td>9.0</td></tr><tr><td>Sports</td><td>Football</td><td>East</td><td>2022-07-14</td><td>430.87</td><td>2.0</td></tr><tr><td>Sports</td><td>Yoga Mat</td><td>West</td><td>2022-03-02</td><td>55.76</td><td>3.0</td></tr><tr><td>Electronics</td><td>Unknown product</td><td>Central</td><td>2022-01-05</td><td>139.8</td><td>5.0</td></tr><tr><td>Unknown</td><td>Unknown product</td><td>East</td><td>2023-11-13</td><td>47.36</td><td>5.0</td></tr><tr><td>Unknown</td><td>Unknown product</td><td>east</td><td>2023-05-28</td><td>243.93</td><td>2.0</td></tr><tr><td>Electronics</td><td>Headphones</td><td>East</td><td>2022-03-19</td><td>131.55</td><td>9.0</td></tr><tr><td>Home Decor</td><td>Curtain</td><td>South</td><td>2022-09-06</td><td>214.63</td><td>6.0</td></tr><tr><td>Unknown</td><td>Unknown product</td><td>Central</td><td>2022-08-27</td><td>231.41</td><td>1.0</td></tr><tr><td>Books</td><td>Non-Fiction</td><td>east</td><td>2022-01-26</td><td>427.57</td><td>8.0</td></tr><tr><td>Clothing</td><td>Jeans</td><td>east</td><td>2023-09-17</td><td>278.5</td><td>4.0</td></tr><tr><td>Books</td><td>Comics</td><td>South</td><td>2023-12-20</td><td>245.12</td><td>8.0</td></tr><tr><td>Books</td><td>Comics</td><td>West</td><td>2023-12-27</td><td>79.86</td><td>7.0</td></tr><tr><td>Home Decor</td><td>Cushion</td><td>South</td><td>2022-03-19</td><td>null</td><td>8.0</td></tr><tr><td>Books</td><td>Comics</td><td>West</td><td>2023-01-21</td><td>361.11</td><td>8.0</td></tr><tr><td>Sports</td><td>Football</td><td>West</td><td>2022-01-07</td><td>327.94</td><td>7.0</td></tr><tr><td>Sports</td><td>Football</td><td>North</td><td>2022-12-29</td><td>null</td><td>2.0</td></tr><tr><td>Home Decor</td><td>Curtain</td><td>South</td><td>2023-05-21</td><td>144.78</td><td>3.0</td></tr><tr><td>Sports</td><td>Yoga Mat</td><td>West</td><td>2022-01-15</td><td>7.68</td><td>7.0</td></tr><tr><td>Sports</td><td>Football</td><td>Central</td><td>2023-04-30</td><td>null</td><td>7.0</td></tr><tr><td>Electronics</td><td>Mobile</td><td>North</td><td>2022-09-30</td><td>66.3</td><td>9.0</td></tr><tr><td>Books</td><td>Fiction</td><td>East</td><td>2022-05-25</td><td>138.61</td><td>9.0</td></tr><tr><td>Home Decor</td><td>Cushion</td><td>Central</td><td>2023-08-03</td><td>145.31</td><td>9.0</td></tr><tr><td>Electronics</td><td>Laptop</td><td>North</td><td>2022-04-19</td><td>213.77</td><td>4.0</td></tr><tr><td>Unknown</td><td>Unknown product</td><td>North</td><td>2022-04-21</td><td>355.25</td><td>8.0</td></tr><tr><td>Electronics</td><td>Unknown product</td><td>East</td><td>2023-01-04</td><td>260.45</td><td>9.0</td></tr><tr><td>Unknown</td><td>Unknown product</td><td>West</td><td>2023-09-05</td><td>149.7</td><td>2.0</td></tr><tr><td>Unknown</td><td>Unknown product</td><td>East</td><td>2023-01-12</td><td>80.47</td><td>6.0</td></tr><tr><td>Electronics</td><td>Unknown product</td><td>East</td><td>2022-10-04</td><td>34.07</td><td>7.0</td></tr><tr><td>Books</td><td>Non-Fiction</td><td>South</td><td>2023-09-16</td><td>null</td><td>4.0</td></tr><tr><td>Sports</td><td>Yoga Mat</td><td>east</td><td>2022-12-16</td><td>52.61</td><td>8.0</td></tr><tr><td>Electronics</td><td>Unknown product</td><td>South</td><td>2022-05-17</td><td>-5.87</td><td>3.0</td></tr><tr><td>Sports</td><td>Tennis Racket</td><td>South</td><td>2023-06-27</td><td>175.72</td><td>4.0</td></tr><tr><td>Unknown</td><td>Unknown product</td><td>East</td><td>2022-08-11</td><td>443.14</td><td>4.0</td></tr><tr><td>Books</td><td>Fiction</td><td>North</td><td>2022-03-16</td><td>426.03</td><td>6.0</td></tr><tr><td>Books</td><td>Comics</td><td>East</td><td>2023-07-28</td><td>461.16</td><td>8.0</td></tr><tr><td>Home Decor</td><td>Curtain</td><td>Central</td><td>2022-01-26</td><td>103.99</td><td>5.0</td></tr><tr><td>Clothing</td><td>Jacket</td><td>West</td><td>2022-11-22</td><td>482.4</td><td>4.0</td></tr><tr><td>Electronics</td><td>Unknown product</td><td>East</td><td>2023-12-25</td><td>229.19</td><td>1.0</td></tr><tr><td>Unknown</td><td>Unknown product</td><td>South</td><td>2022-05-20</td><td>null</td><td>1.0</td></tr><tr><td>Books</td><td>Non-Fiction</td><td>West</td><td>2022-03-31</td><td>372.28</td><td>6.0</td></tr><tr><td>Unknown</td><td>Unknown product</td><td>West</td><td>2022-05-19</td><td>462.61</td><td>3.0</td></tr><tr><td>Home Decor</td><td>Curtain</td><td>North</td><td>2023-11-04</td><td>153.08</td><td>5.0</td></tr><tr><td>Unknown</td><td>Unknown product</td><td>North</td><td>2022-01-10</td><td>251.73</td><td>2.0</td></tr><tr><td>Electronics</td><td>Headphones</td><td>east</td><td>2022-01-13</td><td>326.51</td><td>4.0</td></tr><tr><td>Sports</td><td>Tennis Racket</td><td>West</td><td>2022-11-17</td><td>26.35</td><td>5.0</td></tr><tr><td>Sports</td><td>Tennis Racket</td><td>West</td><td>2022-11-25</td><td>368.13</td><td>8.0</td></tr><tr><td>Home Decor</td><td>Cushion</td><td>North</td><td>2023-07-04</td><td>null</td><td>7.0</td></tr><tr><td>Clothing</td><td>Shirt</td><td>North</td><td>2023-02-23</td><td>141.88</td><td>1.0</td></tr><tr><td>Electronics</td><td>Unknown product</td><td>east</td><td>2023-08-04</td><td>406.84</td><td>2.0</td></tr><tr><td>Clothing</td><td>Shirt</td><td>Central</td><td>2022-11-30</td><td>null</td><td>5.0</td></tr><tr><td>Home Decor</td><td>Lamp</td><td>East</td><td>2023-01-11</td><td>495.01</td><td>5.0</td></tr><tr><td>Books</td><td>Non-Fiction</td><td>Central</td><td>2023-08-11</td><td>158.58</td><td>1.0</td></tr><tr><td>Sports</td><td>Tennis Racket</td><td>east</td><td>2022-10-23</td><td>346.88</td><td>8.0</td></tr><tr><td>Home Decor</td><td>Curtain</td><td>east</td><td>2022-08-17</td><td>60.9</td><td>3.0</td></tr><tr><td>Clothing</td><td>Shirt</td><td>South</td><td>2023-12-26</td><td>52.52</td><td>3.0</td></tr><tr><td>Unknown</td><td>Unknown product</td><td>east</td><td>2023-08-24</td><td>432.46</td><td>9.0</td></tr><tr><td>Home Decor</td><td>Curtain</td><td>South</td><td>2023-02-06</td><td>399.13</td><td>7.0</td></tr><tr><td>Electronics</td><td>Laptop</td><td>West</td><td>2023-09-08</td><td>157.32</td><td>3.0</td></tr><tr><td>Unknown</td><td>Unknown product</td><td>East</td><td>2023-09-29</td><td>115.76</td><td>7.0</td></tr><tr><td>Sports</td><td>Tennis Racket</td><td>east</td><td>2023-07-29</td><td>226.5</td><td>5.0</td></tr><tr><td>Unknown</td><td>Unknown product</td><td>West</td><td>2023-10-27</td><td>null</td><td>1.0</td></tr><tr><td>Clothing</td><td>Jacket</td><td>West</td><td>2022-08-13</td><td>165.32</td><td>2.0</td></tr><tr><td>Electronics</td><td>Laptop</td><td>Central</td><td>2023-09-08</td><td>75.96</td><td>7.0</td></tr><tr><td>Clothing</td><td>Jeans</td><td>east</td><td>2022-07-17</td><td>466.91</td><td>7.0</td></tr><tr><td>Clothing</td><td>Jeans</td><td>East</td><td>2022-01-15</td><td>433.25</td><td>1.0</td></tr><tr><td>Electronics</td><td>Unknown product</td><td>South</td><td>2023-04-23</td><td>441.64</td><td>4.0</td></tr><tr><td>Electronics</td><td>Mobile</td><td>East</td><td>2022-06-06</td><td>33.42</td><td>1.0</td></tr><tr><td>Home Decor</td><td>Lamp</td><td>North</td><td>2023-02-15</td><td>359.17</td><td>5.0</td></tr><tr><td>Electronics</td><td>Unknown product</td><td>West</td><td>2022-09-11</td><td>62.5</td><td>2.0</td></tr><tr><td>Home Decor</td><td>Curtain</td><td>Central</td><td>2023-06-06</td><td>221.69</td><td>1.0</td></tr><tr><td>Books</td><td>Fiction</td><td>South</td><td>2022-04-28</td><td>401.69</td><td>4.0</td></tr><tr><td>Home Decor</td><td>Curtain</td><td>West</td><td>2023-11-27</td><td>226.26</td><td>8.0</td></tr><tr><td>Clothing</td><td>Shirt</td><td>South</td><td>2022-09-18</td><td>217.5</td><td>4.0</td></tr><tr><td>Clothing</td><td>Shirt</td><td>Central</td><td>2023-11-16</td><td>346.02</td><td>3.0</td></tr><tr><td>Clothing</td><td>Jacket</td><td>Central</td><td>2022-10-19</td><td>null</td><td>5.0</td></tr><tr><td>Electronics</td><td>Mobile</td><td>east</td><td>2023-10-22</td><td>49.88</td><td>8.0</td></tr><tr><td>Unknown</td><td>Unknown product</td><td>east</td><td>2023-07-04</td><td>75.04</td><td>7.0</td></tr><tr><td>Books</td><td>Non-Fiction</td><td>West</td><td>2022-12-12</td><td>471.01</td><td>8.0</td></tr><tr><td>Sports</td><td>Football</td><td>North</td><td>2022-07-29</td><td>286.3</td><td>8.0</td></tr><tr><td>Electronics</td><td>Unknown product</td><td>east</td><td>2023-11-14</td><td>462.67</td><td>4.0</td></tr><tr><td>Clothing</td><td>Jeans</td><td>South</td><td>2022-11-20</td><td>384.55</td><td>5.0</td></tr><tr><td>Home Decor</td><td>Cushion</td><td>east</td><td>2022-05-07</td><td>33.9</td><td>5.0</td></tr><tr><td>Unknown</td><td>Unknown product</td><td>North</td><td>2023-08-27</td><td>155.94</td><td>9.0</td></tr><tr><td>Sports</td><td>Tennis Racket</td><td>South</td><td>2022-02-20</td><td>355.04</td><td>8.0</td></tr><tr><td>Electronics</td><td>Headphones</td><td>North</td><td>2022-10-24</td><td>459.06</td><td>7.0</td></tr><tr><td>Sports</td><td>Tennis Racket</td><td>East</td><td>2023-09-05</td><td>491.66</td><td>4.0</td></tr><tr><td>Unknown</td><td>Unknown product</td><td>West</td><td>2022-07-01</td><td>null</td><td>7.0</td></tr><tr><td>Unknown</td><td>Unknown product</td><td>East</td><td>2022-01-01</td><td>428.44</td><td>7.0</td></tr><tr><td>Sports</td><td>Yoga Mat</td><td>east</td><td>2023-01-06</td><td>275.2</td><td>5.0</td></tr><tr><td>Unknown</td><td>Unknown product</td><td>east</td><td>2023-03-07</td><td>-19.88</td><td>9.0</td></tr><tr><td>Books</td><td>Non-Fiction</td><td>East</td><td>2022-07-21</td><td>391.57</td><td>5.0</td></tr><tr><td>Books</td><td>Comics</td><td>South</td><td>2023-10-28</td><td>133.42</td><td>4.0</td></tr><tr><td>Unknown</td><td>Unknown product</td><td>South</td><td>2023-06-21</td><td>424.93</td><td>6.0</td></tr><tr><td>Clothing</td><td>Jacket</td><td>East</td><td>2023-04-20</td><td>355.63</td><td>1.0</td></tr><tr><td>Clothing</td><td>Shirt</td><td>South</td><td>2023-10-02</td><td>73.53</td><td>3.0</td></tr><tr><td>Unknown</td><td>Unknown product</td><td>South</td><td>2022-07-01</td><td>47.01</td><td>7.0</td></tr><tr><td>Clothing</td><td>Jeans</td><td>east</td><td>2022-06-29</td><td>180.41</td><td>8.0</td></tr><tr><td>Clothing</td><td>Jacket</td><td>East</td><td>2022-06-10</td><td>149.32</td><td>6.0</td></tr><tr><td>Books</td><td>Non-Fiction</td><td>West</td><td>2023-10-28</td><td>-42.8</td><td>5.0</td></tr><tr><td>Clothing</td><td>Shirt</td><td>east</td><td>2022-02-18</td><td>47.92</td><td>4.0</td></tr><tr><td>Clothing</td><td>Shirt</td><td>East</td><td>2022-12-27</td><td>31.76</td><td>5.0</td></tr><tr><td>Books</td><td>Non-Fiction</td><td>Central</td><td>2023-09-22</td><td>423.35</td><td>8.0</td></tr><tr><td>Electronics</td><td>Laptop</td><td>West</td><td>2023-07-15</td><td>114.78</td><td>7.0</td></tr><tr><td>Books</td><td>Non-Fiction</td><td>Central</td><td>2023-03-11</td><td>null</td><td>8.0</td></tr><tr><td>Home Decor</td><td>Lamp</td><td>Central</td><td>2023-12-24</td><td>142.16</td><td>1.0</td></tr><tr><td>Books</td><td>Non-Fiction</td><td>east</td><td>2023-03-05</td><td>157.75</td><td>5.0</td></tr><tr><td>Sports</td><td>Football</td><td>Central</td><td>2022-05-24</td><td>260.66</td><td>2.0</td></tr><tr><td>Sports</td><td>Yoga Mat</td><td>North</td><td>2023-08-13</td><td>342.73</td><td>2.0</td></tr><tr><td>Unknown</td><td>Unknown product</td><td>North</td><td>2022-07-13</td><td>243.95</td><td>1.0</td></tr><tr><td>Clothing</td><td>Shirt</td><td>Central</td><td>2022-04-24</td><td>223.36</td><td>3.0</td></tr><tr><td>Clothing</td><td>Shirt</td><td>Central</td><td>2022-09-21</td><td>423.98</td><td>7.0</td></tr><tr><td>Unknown</td><td>Unknown product</td><td>Central</td><td>2023-10-05</td><td>155.32</td><td>3.0</td></tr><tr><td>Unknown</td><td>Unknown product</td><td>South</td><td>2022-06-11</td><td>174.8</td><td>7.0</td></tr><tr><td>Clothing</td><td>Shirt</td><td>east</td><td>2022-02-24</td><td>35.88</td><td>2.0</td></tr><tr><td>Home Decor</td><td>Curtain</td><td>Central</td><td>2023-01-26</td><td>312.41</td><td>1.0</td></tr><tr><td>Sports</td><td>Football</td><td>East</td><td>2022-11-09</td><td>72.08</td><td>8.0</td></tr><tr><td>Books</td><td>Comics</td><td>North</td><td>2023-03-19</td><td>228.03</td><td>8.0</td></tr><tr><td>Sports</td><td>Yoga Mat</td><td>Central</td><td>2022-02-23</td><td>136.6</td><td>5.0</td></tr><tr><td>Electronics</td><td>Headphones</td><td>Central</td><td>2023-08-02</td><td>null</td><td>3.0</td></tr><tr><td>Clothing</td><td>Jacket</td><td>South</td><td>2023-09-01</td><td>256.2</td><td>8.0</td></tr><tr><td>Unknown</td><td>Unknown product</td><td>east</td><td>2023-02-22</td><td>392.92</td><td>8.0</td></tr><tr><td>Clothing</td><td>Jeans</td><td>North</td><td>2022-03-19</td><td>281.76</td><td>4.0</td></tr><tr><td>Home Decor</td><td>Cushion</td><td>East</td><td>2023-05-15</td><td>317.45</td><td>5.0</td></tr><tr><td>Sports</td><td>Yoga Mat</td><td>West</td><td>2022-01-07</td><td>298.28</td><td>1.0</td></tr><tr><td>Books</td><td>Non-Fiction</td><td>east</td><td>2022-05-31</td><td>416.47</td><td>3.0</td></tr><tr><td>Clothing</td><td>Jacket</td><td>North</td><td>2023-07-02</td><td>null</td><td>2.0</td></tr><tr><td>Books</td><td>Fiction</td><td>South</td><td>2023-05-29</td><td>450.84</td><td>5.0</td></tr><tr><td>Clothing</td><td>Jacket</td><td>east</td><td>2023-06-07</td><td>92.68</td><td>2.0</td></tr><tr><td>Clothing</td><td>Shirt</td><td>North</td><td>2023-12-08</td><td>274.66</td><td>4.0</td></tr><tr><td>Sports</td><td>Yoga Mat</td><td>West</td><td>2022-09-18</td><td>139.86</td><td>9.0</td></tr><tr><td>Unknown</td><td>Unknown product</td><td>West</td><td>2022-08-14</td><td>423.59</td><td>3.0</td></tr><tr><td>Clothing</td><td>Jeans</td><td>Central</td><td>2023-05-15</td><td>486.0</td><td>8.0</td></tr><tr><td>Home Decor</td><td>Lamp</td><td>east</td><td>2023-08-16</td><td>427.66</td><td>8.0</td></tr><tr><td>Electronics</td><td>Unknown product</td><td>West</td><td>2022-02-28</td><td>442.0</td><td>1.0</td></tr><tr><td>Sports</td><td>Football</td><td>South</td><td>2022-04-25</td><td>231.85</td><td>9.0</td></tr><tr><td>Clothing</td><td>Shirt</td><td>Central</td><td>2023-07-06</td><td>334.37</td><td>9.0</td></tr><tr><td>Books</td><td>Non-Fiction</td><td>South</td><td>2022-12-25</td><td>69.91</td><td>6.0</td></tr><tr><td>Electronics</td><td>Laptop</td><td>South</td><td>2022-08-23</td><td>181.94</td><td>2.0</td></tr><tr><td>Sports</td><td>Tennis Racket</td><td>east</td><td>2023-12-28</td><td>null</td><td>5.0</td></tr><tr><td>Clothing</td><td>Jeans</td><td>North</td><td>2022-03-16</td><td>402.42</td><td>5.0</td></tr><tr><td>Electronics</td><td>Laptop</td><td>South</td><td>2022-02-11</td><td>267.08</td><td>6.0</td></tr><tr><td>Electronics</td><td>Unknown product</td><td>North</td><td>2022-02-03</td><td>254.8</td><td>9.0</td></tr><tr><td>Electronics</td><td>Mobile</td><td>Central</td><td>2023-01-13</td><td>346.11</td><td>5.0</td></tr><tr><td>Home Decor</td><td>Curtain</td><td>Central</td><td>2022-12-08</td><td>null</td><td>5.0</td></tr><tr><td>Sports</td><td>Football</td><td>East</td><td>2022-01-27</td><td>445.01</td><td>6.0</td></tr><tr><td>Clothing</td><td>Jacket</td><td>North</td><td>2022-06-17</td><td>87.9</td><td>9.0</td></tr><tr><td>Sports</td><td>Football</td><td>West</td><td>2023-03-31</td><td>265.31</td><td>1.0</td></tr><tr><td>Home Decor</td><td>Lamp</td><td>South</td><td>2023-04-21</td><td>374.0</td><td>2.0</td></tr><tr><td>Sports</td><td>Football</td><td>North</td><td>2022-12-29</td><td>51.4</td><td>5.0</td></tr><tr><td>Clothing</td><td>Shirt</td><td>East</td><td>2022-10-19</td><td>374.04</td><td>5.0</td></tr><tr><td>Home Decor</td><td>Curtain</td><td>Central</td><td>2022-10-23</td><td>190.46</td><td>4.0</td></tr><tr><td>Electronics</td><td>Unknown product</td><td>West</td><td>2022-04-23</td><td>346.84</td><td>8.0</td></tr><tr><td>Electronics</td><td>Mobile</td><td>east</td><td>2022-08-15</td><td>472.12</td><td>7.0</td></tr><tr><td>Clothing</td><td>Shirt</td><td>East</td><td>2023-09-15</td><td>474.75</td><td>6.0</td></tr><tr><td>Books</td><td>Fiction</td><td>Central</td><td>2022-03-10</td><td>216.07</td><td>4.0</td></tr><tr><td>Unknown</td><td>Unknown product</td><td>South</td><td>2022-05-28</td><td>39.11</td><td>4.0</td></tr><tr><td>Books</td><td>Fiction</td><td>South</td><td>2023-05-06</td><td>415.52</td><td>2.0</td></tr><tr><td>Home Decor</td><td>Cushion</td><td>Central</td><td>2022-07-20</td><td>374.0</td><td>5.0</td></tr><tr><td>Electronics</td><td>Laptop</td><td>east</td><td>2023-05-16</td><td>139.41</td><td>8.0</td></tr><tr><td>Clothing</td><td>Shirt</td><td>West</td><td>2022-01-17</td><td>177.04</td><td>8.0</td></tr><tr><td>Unknown</td><td>Unknown product</td><td>North</td><td>2022-02-11</td><td>null</td><td>9.0</td></tr><tr><td>Clothing</td><td>Jeans</td><td>North</td><td>2023-04-23</td><td>-47.11</td><td>3.0</td></tr><tr><td>Sports</td><td>Tennis Racket</td><td>West</td><td>2023-09-05</td><td>0.37</td><td>1.0</td></tr><tr><td>Sports</td><td>Yoga Mat</td><td>East</td><td>2022-01-17</td><td>472.63</td><td>7.0</td></tr><tr><td>Electronics</td><td>Laptop</td><td>east</td><td>2023-05-12</td><td>51.82</td><td>8.0</td></tr><tr><td>Books</td><td>Comics</td><td>South</td><td>2022-12-05</td><td>352.72</td><td>5.0</td></tr><tr><td>Home Decor</td><td>Curtain</td><td>East</td><td>2022-03-22</td><td>312.33</td><td>5.0</td></tr><tr><td>Electronics</td><td>Laptop</td><td>South</td><td>2023-01-09</td><td>300.48</td><td>8.0</td></tr><tr><td>Unknown</td><td>Unknown product</td><td>east</td><td>2023-06-21</td><td>446.85</td><td>5.0</td></tr><tr><td>Clothing</td><td>Jacket</td><td>North</td><td>2022-09-25</td><td>71.67</td><td>9.0</td></tr><tr><td>Books</td><td>Comics</td><td>South</td><td>2023-06-22</td><td>-28.32</td><td>7.0</td></tr><tr><td>Books</td><td>Comics</td><td>North</td><td>2023-02-05</td><td>49.32</td><td>5.0</td></tr><tr><td>Home Decor</td><td>Curtain</td><td>West</td><td>2022-12-01</td><td>333.58</td><td>9.0</td></tr><tr><td>Clothing</td><td>Jeans</td><td>South</td><td>2023-11-19</td><td>13.41</td><td>7.0</td></tr><tr><td>Unknown</td><td>Unknown product</td><td>South</td><td>2023-04-22</td><td>210.82</td><td>4.0</td></tr><tr><td>Books</td><td>Fiction</td><td>North</td><td>2023-02-06</td><td>237.34</td><td>7.0</td></tr><tr><td>Clothing</td><td>Jacket</td><td>East</td><td>2022-09-30</td><td>307.59</td><td>8.0</td></tr><tr><td>Electronics</td><td>Laptop</td><td>East</td><td>2023-09-12</td><td>16.31</td><td>2.0</td></tr><tr><td>Home Decor</td><td>Curtain</td><td>East</td><td>2022-05-11</td><td>332.96</td><td>8.0</td></tr><tr><td>Sports</td><td>Yoga Mat</td><td>South</td><td>2022-07-02</td><td>172.47</td><td>7.0</td></tr><tr><td>Clothing</td><td>Jacket</td><td>West</td><td>2023-06-11</td><td>392.19</td><td>4.0</td></tr><tr><td>Books</td><td>Non-Fiction</td><td>West</td><td>2022-12-15</td><td>313.91</td><td>2.0</td></tr><tr><td>Home Decor</td><td>Curtain</td><td>Central</td><td>2022-06-10</td><td>437.29</td><td>2.0</td></tr><tr><td>Electronics</td><td>Unknown product</td><td>Central</td><td>2022-11-07</td><td>204.07</td><td>2.0</td></tr><tr><td>Books</td><td>Non-Fiction</td><td>east</td><td>2023-02-18</td><td>-49.87</td><td>2.0</td></tr><tr><td>Books</td><td>Comics</td><td>South</td><td>2023-02-20</td><td>null</td><td>3.0</td></tr><tr><td>Unknown</td><td>Unknown product</td><td>Central</td><td>2022-02-08</td><td>-44.78</td><td>1.0</td></tr><tr><td>Clothing</td><td>Jacket</td><td>North</td><td>2023-04-22</td><td>-29.32</td><td>9.0</td></tr><tr><td>Unknown</td><td>Unknown product</td><td>West</td><td>2022-09-29</td><td>null</td><td>8.0</td></tr><tr><td>Clothing</td><td>Jeans</td><td>North</td><td>2022-08-27</td><td>169.06</td><td>9.0</td></tr><tr><td>Clothing</td><td>Jacket</td><td>South</td><td>2022-12-25</td><td>237.39</td><td>1.0</td></tr><tr><td>Electronics</td><td>Laptop</td><td>South</td><td>2023-11-20</td><td>10.76</td><td>8.0</td></tr><tr><td>Unknown</td><td>Unknown product</td><td>South</td><td>2023-11-01</td><td>419.05</td><td>2.0</td></tr><tr><td>Sports</td><td>Tennis Racket</td><td>South</td><td>2022-10-20</td><td>-26.85</td><td>1.0</td></tr><tr><td>Books</td><td>Non-Fiction</td><td>West</td><td>2023-08-08</td><td>10.21</td><td>9.0</td></tr><tr><td>Unknown</td><td>Unknown product</td><td>East</td><td>2022-12-10</td><td>18.44</td><td>5.0</td></tr><tr><td>Unknown</td><td>Unknown product</td><td>North</td><td>2022-03-02</td><td>92.44</td><td>6.0</td></tr><tr><td>Electronics</td><td>Headphones</td><td>east</td><td>2023-03-16</td><td>436.31</td><td>8.0</td></tr><tr><td>Sports</td><td>Yoga Mat</td><td>West</td><td>2022-01-11</td><td>447.05</td><td>2.0</td></tr><tr><td>Clothing</td><td>Shirt</td><td>East</td><td>2022-06-02</td><td>358.84</td><td>4.0</td></tr><tr><td>Unknown</td><td>Unknown product</td><td>North</td><td>2023-07-25</td><td>170.87</td><td>6.0</td></tr><tr><td>Electronics</td><td>Unknown product</td><td>South</td><td>2022-08-31</td><td>null</td><td>2.0</td></tr><tr><td>Sports</td><td>Yoga Mat</td><td>North</td><td>2022-08-06</td><td>-29.8</td><td>3.0</td></tr><tr><td>Books</td><td>Fiction</td><td>east</td><td>2023-06-01</td><td>-18.19</td><td>7.0</td></tr><tr><td>Electronics</td><td>Mobile</td><td>Central</td><td>2023-11-20</td><td>235.04</td><td>4.0</td></tr><tr><td>Electronics</td><td>Unknown product</td><td>East</td><td>2023-07-27</td><td>93.13</td><td>3.0</td></tr><tr><td>Sports</td><td>Tennis Racket</td><td>Central</td><td>2023-11-21</td><td>220.15</td><td>1.0</td></tr><tr><td>Books</td><td>Fiction</td><td>Central</td><td>2022-08-04</td><td>443.59</td><td>3.0</td></tr><tr><td>Unknown</td><td>Unknown product</td><td>east</td><td>2022-04-30</td><td>361.33</td><td>9.0</td></tr><tr><td>Sports</td><td>Tennis Racket</td><td>east</td><td>2022-11-25</td><td>442.21</td><td>5.0</td></tr><tr><td>Unknown</td><td>Unknown product</td><td>Central</td><td>2023-09-02</td><td>201.59</td><td>8.0</td></tr><tr><td>Sports</td><td>Tennis Racket</td><td>east</td><td>2022-11-19</td><td>100.13</td><td>9.0</td></tr><tr><td>Books</td><td>Non-Fiction</td><td>West</td><td>2022-07-14</td><td>475.61</td><td>9.0</td></tr><tr><td>Books</td><td>Comics</td><td>South</td><td>2023-04-08</td><td>310.38</td><td>5.0</td></tr><tr><td>Unknown</td><td>Unknown product</td><td>South</td><td>2023-01-30</td><td>-2.16</td><td>8.0</td></tr><tr><td>Clothing</td><td>Shirt</td><td>east</td><td>2022-05-04</td><td>154.98</td><td>8.0</td></tr><tr><td>Unknown</td><td>Unknown product</td><td>South</td><td>2022-09-08</td><td>347.88</td><td>2.0</td></tr><tr><td>Home Decor</td><td>Curtain</td><td>South</td><td>2023-03-30</td><td>479.17</td><td>5.0</td></tr><tr><td>Home Decor</td><td>Curtain</td><td>East</td><td>2023-08-16</td><td>-16.17</td><td>3.0</td></tr><tr><td>Unknown</td><td>Unknown product</td><td>North</td><td>2023-11-29</td><td>264.23</td><td>8.0</td></tr><tr><td>Clothing</td><td>Jacket</td><td>Central</td><td>2022-02-09</td><td>261.15</td><td>1.0</td></tr><tr><td>Home Decor</td><td>Curtain</td><td>Central</td><td>2022-09-19</td><td>236.69</td><td>8.0</td></tr><tr><td>Clothing</td><td>Jacket</td><td>West</td><td>2022-04-02</td><td>417.82</td><td>9.0</td></tr><tr><td>Books</td><td>Comics</td><td>West</td><td>2022-12-29</td><td>81.28</td><td>5.0</td></tr><tr><td>Clothing</td><td>Shirt</td><td>North</td><td>2022-06-19</td><td>8.21</td><td>6.0</td></tr><tr><td>Books</td><td>Comics</td><td>North</td><td>2023-12-01</td><td>37.23</td><td>9.0</td></tr><tr><td>Sports</td><td>Tennis Racket</td><td>North</td><td>2022-01-31</td><td>404.2</td><td>5.0</td></tr><tr><td>Unknown</td><td>Unknown product</td><td>South</td><td>2023-11-01</td><td>449.79</td><td>2.0</td></tr><tr><td>Sports</td><td>Yoga Mat</td><td>South</td><td>2022-12-22</td><td>null</td><td>2.0</td></tr><tr><td>Clothing</td><td>Shirt</td><td>South</td><td>2023-12-19</td><td>366.15</td><td>7.0</td></tr><tr><td>Books</td><td>Fiction</td><td>east</td><td>2022-08-12</td><td>-3.75</td><td>1.0</td></tr><tr><td>Unknown</td><td>Unknown product</td><td>West</td><td>2022-08-21</td><td>297.5</td><td>2.0</td></tr><tr><td>Clothing</td><td>Shirt</td><td>East</td><td>2023-12-01</td><td>-45.01</td><td>3.0</td></tr><tr><td>Books</td><td>Comics</td><td>North</td><td>2022-11-22</td><td>105.84</td><td>7.0</td></tr><tr><td>Clothing</td><td>Shirt</td><td>South</td><td>2023-08-09</td><td>187.73</td><td>2.0</td></tr><tr><td>Electronics</td><td>Unknown product</td><td>West</td><td>2023-02-16</td><td>297.94</td><td>5.0</td></tr><tr><td>Books</td><td>Non-Fiction</td><td>West</td><td>2022-10-05</td><td>465.48</td><td>4.0</td></tr><tr><td>Books</td><td>Fiction</td><td>North</td><td>2022-08-30</td><td>471.01</td><td>1.0</td></tr><tr><td>Books</td><td>Fiction</td><td>Central</td><td>2023-06-08</td><td>-12.96</td><td>6.0</td></tr><tr><td>Books</td><td>Non-Fiction</td><td>South</td><td>2023-12-06</td><td>-18.14</td><td>8.0</td></tr><tr><td>Sports</td><td>Football</td><td>South</td><td>2022-07-29</td><td>429.35</td><td>4.0</td></tr><tr><td>Clothing</td><td>Jacket</td><td>North</td><td>2022-08-15</td><td>276.92</td><td>7.0</td></tr><tr><td>Clothing</td><td>Shirt</td><td>East</td><td>2022-01-29</td><td>-37.83</td><td>6.0</td></tr><tr><td>Electronics</td><td>Laptop</td><td>Central</td><td>2022-03-20</td><td>400.33</td><td>7.0</td></tr><tr><td>Clothing</td><td>Jeans</td><td>West</td><td>2023-06-22</td><td>37.42</td><td>2.0</td></tr><tr><td>Electronics</td><td>Mobile</td><td>West</td><td>2022-10-12</td><td>469.37</td><td>3.0</td></tr><tr><td>Unknown</td><td>Unknown product</td><td>east</td><td>2022-09-28</td><td>387.15</td><td>4.0</td></tr><tr><td>Unknown</td><td>Unknown product</td><td>Central</td><td>2022-05-10</td><td>375.05</td><td>4.0</td></tr><tr><td>Sports</td><td>Football</td><td>North</td><td>2022-01-22</td><td>22.23</td><td>3.0</td></tr><tr><td>Electronics</td><td>Unknown product</td><td>East</td><td>2023-01-17</td><td>33.08</td><td>5.0</td></tr><tr><td>Books</td><td>Non-Fiction</td><td>East</td><td>2022-10-30</td><td>null</td><td>5.0</td></tr><tr><td>Home Decor</td><td>Curtain</td><td>West</td><td>2022-03-25</td><td>null</td><td>6.0</td></tr><tr><td>Home Decor</td><td>Cushion</td><td>West</td><td>2023-10-21</td><td>100.82</td><td>3.0</td></tr><tr><td>Unknown</td><td>Unknown product</td><td>Central</td><td>2023-05-22</td><td>175.13</td><td>6.0</td></tr><tr><td>Unknown</td><td>Unknown product</td><td>Central</td><td>2023-06-11</td><td>360.21</td><td>3.0</td></tr><tr><td>Unknown</td><td>Unknown product</td><td>east</td><td>2023-06-08</td><td>259.51</td><td>8.0</td></tr><tr><td>Sports</td><td>Football</td><td>West</td><td>2022-03-01</td><td>52.04</td><td>1.0</td></tr><tr><td>Books</td><td>Non-Fiction</td><td>Central</td><td>2023-08-14</td><td>199.53</td><td>2.0</td></tr><tr><td>Home Decor</td><td>Cushion</td><td>east</td><td>2022-07-18</td><td>294.42</td><td>5.0</td></tr><tr><td>Unknown</td><td>Unknown product</td><td>east</td><td>2023-06-20</td><td>null</td><td>3.0</td></tr><tr><td>Books</td><td>Non-Fiction</td><td>Central</td><td>2023-07-12</td><td>204.15</td><td>7.0</td></tr><tr><td>Unknown</td><td>Unknown product</td><td>east</td><td>2022-09-30</td><td>284.02</td><td>4.0</td></tr><tr><td>Unknown</td><td>Unknown product</td><td>North</td><td>2023-06-05</td><td>60.29</td><td>9.0</td></tr><tr><td>Clothing</td><td>Jeans</td><td>east</td><td>2023-12-27</td><td>270.08</td><td>5.0</td></tr><tr><td>Unknown</td><td>Unknown product</td><td>east</td><td>2023-01-21</td><td>388.66</td><td>1.0</td></tr><tr><td>Home Decor</td><td>Curtain</td><td>East</td><td>2022-03-13</td><td>205.53</td><td>2.0</td></tr><tr><td>Sports</td><td>Tennis Racket</td><td>East</td><td>2023-01-01</td><td>486.08</td><td>6.0</td></tr><tr><td>Clothing</td><td>Jacket</td><td>South</td><td>2023-06-28</td><td>311.34</td><td>9.0</td></tr><tr><td>Clothing</td><td>Shirt</td><td>South</td><td>2022-04-12</td><td>449.3</td><td>6.0</td></tr><tr><td>Electronics</td><td>Headphones</td><td>east</td><td>2023-11-22</td><td>7.71</td><td>1.0</td></tr><tr><td>Electronics</td><td>Unknown product</td><td>east</td><td>2023-08-11</td><td>null</td><td>9.0</td></tr><tr><td>Unknown</td><td>Unknown product</td><td>East</td><td>2022-02-15</td><td>28.37</td><td>5.0</td></tr><tr><td>Clothing</td><td>Jeans</td><td>West</td><td>2023-08-15</td><td>215.3</td><td>4.0</td></tr><tr><td>Sports</td><td>Football</td><td>North</td><td>2023-11-04</td><td>257.81</td><td>5.0</td></tr><tr><td>Home Decor</td><td>Cushion</td><td>east</td><td>2022-08-30</td><td>129.55</td><td>2.0</td></tr><tr><td>Books</td><td>Comics</td><td>East</td><td>2022-08-13</td><td>-1.67</td><td>1.0</td></tr><tr><td>Unknown</td><td>Unknown product</td><td>West</td><td>2023-08-12</td><td>-6.78</td><td>6.0</td></tr><tr><td>Sports</td><td>Tennis Racket</td><td>West</td><td>2022-04-13</td><td>22.99</td><td>7.0</td></tr><tr><td>Unknown</td><td>Unknown product</td><td>east</td><td>2022-03-31</td><td>null</td><td>2.0</td></tr><tr><td>Clothing</td><td>Shirt</td><td>east</td><td>2022-05-23</td><td>60.08</td><td>7.0</td></tr><tr><td>Electronics</td><td>Headphones</td><td>Central</td><td>2023-03-04</td><td>7.51</td><td>3.0</td></tr><tr><td>Home Decor</td><td>Lamp</td><td>North</td><td>2023-09-27</td><td>-32.63</td><td>6.0</td></tr><tr><td>Home Decor</td><td>Lamp</td><td>Central</td><td>2022-03-14</td><td>-21.42</td><td>9.0</td></tr><tr><td>Home Decor</td><td>Lamp</td><td>South</td><td>2023-01-05</td><td>464.36</td><td>8.0</td></tr><tr><td>Unknown</td><td>Unknown product</td><td>east</td><td>2023-11-21</td><td>293.92</td><td>4.0</td></tr><tr><td>Sports</td><td>Yoga Mat</td><td>East</td><td>2022-11-14</td><td>null</td><td>7.0</td></tr><tr><td>Electronics</td><td>Laptop</td><td>North</td><td>2023-01-25</td><td>399.51</td><td>3.0</td></tr><tr><td>Electronics</td><td>Unknown product</td><td>West</td><td>2022-01-12</td><td>85.91</td><td>9.0</td></tr><tr><td>Home Decor</td><td>Lamp</td><td>South</td><td>2022-10-28</td><td>288.66</td><td>3.0</td></tr><tr><td>Electronics</td><td>Mobile</td><td>east</td><td>2023-11-16</td><td>50.16</td><td>7.0</td></tr><tr><td>Sports</td><td>Football</td><td>Central</td><td>2022-11-05</td><td>312.29</td><td>3.0</td></tr><tr><td>Home Decor</td><td>Cushion</td><td>Central</td><td>2023-08-17</td><td>-38.53</td><td>3.0</td></tr><tr><td>Sports</td><td>Yoga Mat</td><td>South</td><td>2023-10-24</td><td>132.77</td><td>8.0</td></tr><tr><td>Unknown</td><td>Unknown product</td><td>North</td><td>2022-02-28</td><td>307.68</td><td>3.0</td></tr><tr><td>Books</td><td>Fiction</td><td>Central</td><td>2022-02-04</td><td>71.31</td><td>6.0</td></tr><tr><td>Electronics</td><td>Headphones</td><td>South</td><td>2022-07-26</td><td>91.73</td><td>1.0</td></tr><tr><td>Books</td><td>Non-Fiction</td><td>east</td><td>2023-12-26</td><td>349.94</td><td>8.0</td></tr><tr><td>Clothing</td><td>Shirt</td><td>South</td><td>2023-02-08</td><td>295.82</td><td>4.0</td></tr><tr><td>Unknown</td><td>Unknown product</td><td>east</td><td>2022-06-01</td><td>248.82</td><td>3.0</td></tr><tr><td>Books</td><td>Fiction</td><td>West</td><td>2023-08-31</td><td>273.43</td><td>5.0</td></tr><tr><td>Books</td><td>Non-Fiction</td><td>Central</td><td>2023-05-27</td><td>283.4</td><td>2.0</td></tr><tr><td>Books</td><td>Non-Fiction</td><td>East</td><td>2022-10-22</td><td>102.26</td><td>3.0</td></tr><tr><td>Clothing</td><td>Jeans</td><td>South</td><td>2022-07-05</td><td>451.8</td><td>3.0</td></tr><tr><td>Home Decor</td><td>Curtain</td><td>Central</td><td>2023-07-06</td><td>409.8</td><td>1.0</td></tr><tr><td>Sports</td><td>Tennis Racket</td><td>East</td><td>2023-06-04</td><td>172.92</td><td>7.0</td></tr><tr><td>Books</td><td>Non-Fiction</td><td>Central</td><td>2022-10-25</td><td>80.65</td><td>2.0</td></tr><tr><td>Sports</td><td>Yoga Mat</td><td>east</td><td>2023-01-10</td><td>177.17</td><td>6.0</td></tr><tr><td>Electronics</td><td>Laptop</td><td>Central</td><td>2023-07-07</td><td>85.98</td><td>8.0</td></tr><tr><td>Electronics</td><td>Headphones</td><td>South</td><td>2022-08-19</td><td>147.58</td><td>2.0</td></tr><tr><td>Home Decor</td><td>Curtain</td><td>East</td><td>2022-05-25</td><td>165.09</td><td>9.0</td></tr><tr><td>Clothing</td><td>Jacket</td><td>West</td><td>2022-01-28</td><td>91.97</td><td>5.0</td></tr><tr><td>Unknown</td><td>Unknown product</td><td>North</td><td>2022-09-18</td><td>128.85</td><td>8.0</td></tr><tr><td>Books</td><td>Comics</td><td>Central</td><td>2023-04-05</td><td>21.98</td><td>5.0</td></tr><tr><td>Clothing</td><td>Jeans</td><td>East</td><td>2022-10-28</td><td>80.37</td><td>3.0</td></tr><tr><td>Sports</td><td>Football</td><td>West</td><td>2023-09-22</td><td>43.37</td><td>9.0</td></tr><tr><td>Home Decor</td><td>Curtain</td><td>East</td><td>2022-09-14</td><td>197.19</td><td>8.0</td></tr><tr><td>Unknown</td><td>Unknown product</td><td>North</td><td>2023-11-14</td><td>471.72</td><td>9.0</td></tr><tr><td>Electronics</td><td>Headphones</td><td>North</td><td>2023-07-30</td><td>null</td><td>6.0</td></tr><tr><td>Electronics</td><td>Mobile</td><td>North</td><td>2022-10-11</td><td>-29.83</td><td>5.0</td></tr><tr><td>Sports</td><td>Football</td><td>West</td><td>2023-11-18</td><td>315.09</td><td>5.0</td></tr><tr><td>Sports</td><td>Tennis Racket</td><td>North</td><td>2022-11-01</td><td>414.29</td><td>8.0</td></tr><tr><td>Home Decor</td><td>Curtain</td><td>east</td><td>2022-06-05</td><td>425.32</td><td>6.0</td></tr><tr><td>Unknown</td><td>Unknown product</td><td>Central</td><td>2023-09-12</td><td>246.95</td><td>4.0</td></tr><tr><td>Sports</td><td>Tennis Racket</td><td>east</td><td>2022-11-30</td><td>null</td><td>2.0</td></tr><tr><td>Books</td><td>Non-Fiction</td><td>North</td><td>2023-05-26</td><td>77.12</td><td>1.0</td></tr><tr><td>Home Decor</td><td>Curtain</td><td>North</td><td>2022-04-29</td><td>73.59</td><td>5.0</td></tr><tr><td>Sports</td><td>Football</td><td>South</td><td>2022-02-28</td><td>123.89</td><td>1.0</td></tr><tr><td>Clothing</td><td>Shirt</td><td>east</td><td>2023-11-22</td><td>-27.13</td><td>4.0</td></tr><tr><td>Electronics</td><td>Mobile</td><td>east</td><td>2023-11-24</td><td>213.94</td><td>2.0</td></tr><tr><td>Clothing</td><td>Shirt</td><td>South</td><td>2022-08-05</td><td>301.52</td><td>9.0</td></tr><tr><td>Sports</td><td>Tennis Racket</td><td>West</td><td>2022-02-08</td><td>200.11</td><td>2.0</td></tr><tr><td>Books</td><td>Non-Fiction</td><td>West</td><td>2023-03-04</td><td>242.73</td><td>7.0</td></tr><tr><td>Electronics</td><td>Mobile</td><td>North</td><td>2023-01-19</td><td>22.99</td><td>4.0</td></tr><tr><td>Unknown</td><td>Unknown product</td><td>South</td><td>2022-12-02</td><td>466.9</td><td>7.0</td></tr><tr><td>Electronics</td><td>Mobile</td><td>North</td><td>2022-01-08</td><td>483.45</td><td>1.0</td></tr><tr><td>Clothing</td><td>Jeans</td><td>South</td><td>2023-10-31</td><td>194.06</td><td>5.0</td></tr><tr><td>Sports</td><td>Yoga Mat</td><td>east</td><td>2023-05-10</td><td>47.43</td><td>2.0</td></tr><tr><td>Electronics</td><td>Laptop</td><td>east</td><td>2022-07-12</td><td>410.96</td><td>2.0</td></tr><tr><td>Sports</td><td>Tennis Racket</td><td>West</td><td>2022-05-25</td><td>406.98</td><td>8.0</td></tr><tr><td>Electronics</td><td>Laptop</td><td>east</td><td>2023-08-11</td><td>12.21</td><td>9.0</td></tr><tr><td>Sports</td><td>Tennis Racket</td><td>Central</td><td>2022-01-01</td><td>68.62</td><td>5.0</td></tr><tr><td>Unknown</td><td>Unknown product</td><td>West</td><td>2022-10-31</td><td>308.18</td><td>2.0</td></tr><tr><td>Books</td><td>Non-Fiction</td><td>West</td><td>2023-12-05</td><td>-23.48</td><td>9.0</td></tr><tr><td>Home Decor</td><td>Curtain</td><td>North</td><td>2022-06-10</td><td>173.8</td><td>9.0</td></tr><tr><td>Clothing</td><td>Jacket</td><td>North</td><td>2023-08-12</td><td>108.78</td><td>4.0</td></tr><tr><td>Unknown</td><td>Unknown product</td><td>Central</td><td>2022-04-12</td><td>129.87</td><td>6.0</td></tr><tr><td>Books</td><td>Fiction</td><td>South</td><td>2022-01-19</td><td>394.32</td><td>2.0</td></tr><tr><td>Home Decor</td><td>Lamp</td><td>South</td><td>2023-02-01</td><td>388.8</td><td>3.0</td></tr><tr><td>Home Decor</td><td>Cushion</td><td>Central</td><td>2022-12-31</td><td>399.81</td><td>8.0</td></tr><tr><td>Sports</td><td>Football</td><td>South</td><td>2023-03-31</td><td>null</td><td>9.0</td></tr><tr><td>Clothing</td><td>Jeans</td><td>North</td><td>2023-12-26</td><td>128.52</td><td>7.0</td></tr><tr><td>Books</td><td>Fiction</td><td>Central</td><td>2022-05-23</td><td>332.51</td><td>9.0</td></tr><tr><td>Books</td><td>Non-Fiction</td><td>East</td><td>2023-02-21</td><td>null</td><td>1.0</td></tr><tr><td>Clothing</td><td>Jacket</td><td>North</td><td>2023-05-12</td><td>null</td><td>3.0</td></tr><tr><td>Electronics</td><td>Mobile</td><td>Central</td><td>2022-04-12</td><td>null</td><td>3.0</td></tr><tr><td>Sports</td><td>Yoga Mat</td><td>West</td><td>2023-09-14</td><td>303.42</td><td>2.0</td></tr><tr><td>Unknown</td><td>Unknown product</td><td>east</td><td>2022-03-26</td><td>424.83</td><td>2.0</td></tr><tr><td>Electronics</td><td>Unknown product</td><td>South</td><td>2023-03-30</td><td>null</td><td>5.0</td></tr><tr><td>Electronics</td><td>Unknown product</td><td>Central</td><td>2022-08-09</td><td>137.69</td><td>5.0</td></tr><tr><td>Unknown</td><td>Unknown product</td><td>North</td><td>2022-10-31</td><td>269.09</td><td>4.0</td></tr><tr><td>Home Decor</td><td>Curtain</td><td>South</td><td>2022-02-12</td><td>370.69</td><td>6.0</td></tr><tr><td>Electronics</td><td>Unknown product</td><td>North</td><td>2023-05-13</td><td>343.52</td><td>5.0</td></tr><tr><td>Unknown</td><td>Unknown product</td><td>South</td><td>2023-02-11</td><td>186.97</td><td>5.0</td></tr><tr><td>Sports</td><td>Tennis Racket</td><td>east</td><td>2022-12-02</td><td>306.11</td><td>9.0</td></tr><tr><td>Sports</td><td>Tennis Racket</td><td>South</td><td>2023-12-16</td><td>159.04</td><td>4.0</td></tr><tr><td>Books</td><td>Fiction</td><td>east</td><td>2022-05-21</td><td>143.39</td><td>2.0</td></tr><tr><td>Unknown</td><td>Unknown product</td><td>East</td><td>2022-11-30</td><td>217.23</td><td>5.0</td></tr><tr><td>Unknown</td><td>Unknown product</td><td>east</td><td>2023-07-18</td><td>318.55</td><td>3.0</td></tr><tr><td>Sports</td><td>Yoga Mat</td><td>east</td><td>2023-10-10</td><td>121.22</td><td>4.0</td></tr><tr><td>Sports</td><td>Football</td><td>South</td><td>2023-11-01</td><td>343.88</td><td>1.0</td></tr><tr><td>Home Decor</td><td>Curtain</td><td>South</td><td>2023-08-12</td><td>177.45</td><td>9.0</td></tr><tr><td>Home Decor</td><td>Lamp</td><td>East</td><td>2022-12-16</td><td>null</td><td>7.0</td></tr><tr><td>Electronics</td><td>Headphones</td><td>Central</td><td>2022-12-17</td><td>422.68</td><td>7.0</td></tr><tr><td>Home Decor</td><td>Cushion</td><td>Central</td><td>2022-06-08</td><td>339.98</td><td>8.0</td></tr><tr><td>Unknown</td><td>Unknown product</td><td>South</td><td>2022-08-29</td><td>null</td><td>8.0</td></tr><tr><td>Electronics</td><td>Mobile</td><td>Central</td><td>2022-02-05</td><td>183.49</td><td>6.0</td></tr><tr><td>Clothing</td><td>Jeans</td><td>North</td><td>2023-01-20</td><td>155.43</td><td>7.0</td></tr><tr><td>Books</td><td>Comics</td><td>east</td><td>2022-04-28</td><td>233.35</td><td>9.0</td></tr><tr><td>Sports</td><td>Football</td><td>West</td><td>2022-01-26</td><td>66.62</td><td>8.0</td></tr><tr><td>Books</td><td>Comics</td><td>West</td><td>2023-01-13</td><td>148.42</td><td>5.0</td></tr><tr><td>Books</td><td>Comics</td><td>South</td><td>2023-11-13</td><td>445.01</td><td>1.0</td></tr><tr><td>Books</td><td>Non-Fiction</td><td>east</td><td>2022-06-03</td><td>null</td><td>5.0</td></tr><tr><td>Clothing</td><td>Shirt</td><td>West</td><td>2023-08-03</td><td>101.14</td><td>3.0</td></tr><tr><td>Electronics</td><td>Headphones</td><td>East</td><td>2023-09-04</td><td>183.06</td><td>9.0</td></tr><tr><td>Electronics</td><td>Headphones</td><td>Central</td><td>2022-05-26</td><td>371.66</td><td>1.0</td></tr><tr><td>Home Decor</td><td>Lamp</td><td>Central</td><td>2023-03-15</td><td>272.63</td><td>1.0</td></tr><tr><td>Sports</td><td>Football</td><td>South</td><td>2023-04-28</td><td>428.09</td><td>1.0</td></tr><tr><td>Electronics</td><td>Laptop</td><td>east</td><td>2023-09-23</td><td>244.45</td><td>6.0</td></tr><tr><td>Books</td><td>Non-Fiction</td><td>West</td><td>2023-03-08</td><td>121.75</td><td>3.0</td></tr><tr><td>Electronics</td><td>Headphones</td><td>South</td><td>2023-03-31</td><td>250.68</td><td>5.0</td></tr><tr><td>Home Decor</td><td>Curtain</td><td>Central</td><td>2023-10-12</td><td>91.29</td><td>9.0</td></tr><tr><td>Clothing</td><td>Jacket</td><td>Central</td><td>2022-09-11</td><td>27.98</td><td>3.0</td></tr><tr><td>Home Decor</td><td>Lamp</td><td>east</td><td>2022-09-20</td><td>332.33</td><td>3.0</td></tr><tr><td>Electronics</td><td>Mobile</td><td>east</td><td>2023-07-08</td><td>185.51</td><td>7.0</td></tr><tr><td>Unknown</td><td>Unknown product</td><td>North</td><td>2023-04-04</td><td>495.19</td><td>3.0</td></tr><tr><td>Home Decor</td><td>Curtain</td><td>South</td><td>2023-08-03</td><td>348.39</td><td>7.0</td></tr><tr><td>Home Decor</td><td>Lamp</td><td>East</td><td>2023-09-13</td><td>null</td><td>4.0</td></tr><tr><td>Sports</td><td>Yoga Mat</td><td>east</td><td>2022-12-19</td><td>277.66</td><td>9.0</td></tr><tr><td>Books</td><td>Comics</td><td>South</td><td>2023-10-10</td><td>151.83</td><td>6.0</td></tr><tr><td>Unknown</td><td>Unknown product</td><td>Central</td><td>2023-03-01</td><td>null</td><td>7.0</td></tr><tr><td>Books</td><td>Comics</td><td>West</td><td>2023-12-09</td><td>193.33</td><td>2.0</td></tr><tr><td>Electronics</td><td>Mobile</td><td>West</td><td>2023-06-01</td><td>-11.54</td><td>5.0</td></tr><tr><td>Books</td><td>Fiction</td><td>east</td><td>2022-08-18</td><td>276.05</td><td>3.0</td></tr><tr><td>Home Decor</td><td>Cushion</td><td>South</td><td>2023-01-16</td><td>201.27</td><td>6.0</td></tr><tr><td>Home Decor</td><td>Curtain</td><td>North</td><td>2022-05-10</td><td>496.78</td><td>2.0</td></tr><tr><td>Electronics</td><td>Mobile</td><td>East</td><td>2023-09-06</td><td>256.78</td><td>2.0</td></tr><tr><td>Home Decor</td><td>Curtain</td><td>South</td><td>2023-04-16</td><td>205.86</td><td>8.0</td></tr><tr><td>Electronics</td><td>Unknown product</td><td>North</td><td>2023-10-24</td><td>259.26</td><td>4.0</td></tr><tr><td>Sports</td><td>Yoga Mat</td><td>West</td><td>2023-03-29</td><td>null</td><td>9.0</td></tr><tr><td>Clothing</td><td>Jeans</td><td>east</td><td>2022-11-07</td><td>244.71</td><td>9.0</td></tr><tr><td>Sports</td><td>Football</td><td>North</td><td>2022-02-24</td><td>null</td><td>1.0</td></tr><tr><td>Electronics</td><td>Unknown product</td><td>West</td><td>2023-02-04</td><td>315.7</td><td>4.0</td></tr><tr><td>Electronics</td><td>Unknown product</td><td>East</td><td>2023-05-30</td><td>459.95</td><td>7.0</td></tr><tr><td>Sports</td><td>Yoga Mat</td><td>east</td><td>2022-12-14</td><td>485.79</td><td>6.0</td></tr><tr><td>Clothing</td><td>Shirt</td><td>Central</td><td>2023-06-01</td><td>355.45</td><td>8.0</td></tr><tr><td>Books</td><td>Comics</td><td>West</td><td>2022-10-13</td><td>236.53</td><td>6.0</td></tr><tr><td>Clothing</td><td>Shirt</td><td>east</td><td>2023-02-10</td><td>-0.98</td><td>7.0</td></tr><tr><td>Home Decor</td><td>Curtain</td><td>East</td><td>2022-06-10</td><td>284.67</td><td>6.0</td></tr><tr><td>Sports</td><td>Tennis Racket</td><td>South</td><td>2023-05-15</td><td>339.81</td><td>4.0</td></tr><tr><td>Unknown</td><td>Unknown product</td><td>East</td><td>2023-04-26</td><td>75.05</td><td>2.0</td></tr><tr><td>Home Decor</td><td>Curtain</td><td>East</td><td>2022-12-27</td><td>-1.8</td><td>9.0</td></tr><tr><td>Books</td><td>Comics</td><td>east</td><td>2023-03-25</td><td>118.04</td><td>4.0</td></tr><tr><td>Books</td><td>Fiction</td><td>east</td><td>2023-12-03</td><td>195.96</td><td>4.0</td></tr><tr><td>Books</td><td>Fiction</td><td>West</td><td>2023-04-11</td><td>233.62</td><td>3.0</td></tr><tr><td>Sports</td><td>Tennis Racket</td><td>South</td><td>2023-02-10</td><td>223.33</td><td>6.0</td></tr><tr><td>Clothing</td><td>Shirt</td><td>West</td><td>2022-11-12</td><td>418.28</td><td>1.0</td></tr><tr><td>Sports</td><td>Football</td><td>North</td><td>2022-02-11</td><td>246.85</td><td>3.0</td></tr><tr><td>Books</td><td>Non-Fiction</td><td>east</td><td>2022-03-08</td><td>null</td><td>7.0</td></tr><tr><td>Home Decor</td><td>Curtain</td><td>Central</td><td>2023-06-10</td><td>-5.49</td><td>5.0</td></tr><tr><td>Home Decor</td><td>Cushion</td><td>East</td><td>2023-11-06</td><td>45.44</td><td>2.0</td></tr><tr><td>Unknown</td><td>Unknown product</td><td>South</td><td>2023-04-11</td><td>476.53</td><td>2.0</td></tr><tr><td>Sports</td><td>Tennis Racket</td><td>North</td><td>2022-09-23</td><td>402.36</td><td>9.0</td></tr><tr><td>Books</td><td>Fiction</td><td>North</td><td>2022-09-10</td><td>424.11</td><td>4.0</td></tr><tr><td>Unknown</td><td>Unknown product</td><td>east</td><td>2022-04-20</td><td>444.04</td><td>4.0</td></tr><tr><td>Unknown</td><td>Unknown product</td><td>South</td><td>2023-04-28</td><td>169.26</td><td>9.0</td></tr><tr><td>Books</td><td>Comics</td><td>South</td><td>2023-10-15</td><td>null</td><td>5.0</td></tr><tr><td>Unknown</td><td>Unknown product</td><td>east</td><td>2023-04-27</td><td>-12.51</td><td>2.0</td></tr><tr><td>Unknown</td><td>Unknown product</td><td>East</td><td>2023-06-21</td><td>77.9</td><td>4.0</td></tr><tr><td>Books</td><td>Fiction</td><td>South</td><td>2023-10-20</td><td>102.76</td><td>6.0</td></tr><tr><td>Sports</td><td>Yoga Mat</td><td>West</td><td>2022-03-01</td><td>150.64</td><td>3.0</td></tr><tr><td>Clothing</td><td>Jeans</td><td>East</td><td>2023-06-01</td><td>379.42</td><td>9.0</td></tr><tr><td>Home Decor</td><td>Cushion</td><td>Central</td><td>2023-10-04</td><td>216.53</td><td>2.0</td></tr><tr><td>Electronics</td><td>Headphones</td><td>West</td><td>2022-09-10</td><td>290.72</td><td>9.0</td></tr><tr><td>Home Decor</td><td>Curtain</td><td>North</td><td>2022-03-24</td><td>43.87</td><td>5.0</td></tr><tr><td>Electronics</td><td>Mobile</td><td>West</td><td>2022-11-25</td><td>380.48</td><td>3.0</td></tr><tr><td>Electronics</td><td>Mobile</td><td>South</td><td>2022-09-20</td><td>330.69</td><td>1.0</td></tr><tr><td>Electronics</td><td>Unknown product</td><td>South</td><td>2022-09-17</td><td>null</td><td>4.0</td></tr><tr><td>Unknown</td><td>Unknown product</td><td>Central</td><td>2023-09-07</td><td>null</td><td>8.0</td></tr><tr><td>Books</td><td>Fiction</td><td>Central</td><td>2022-04-11</td><td>288.37</td><td>4.0</td></tr><tr><td>Unknown</td><td>Unknown product</td><td>Central</td><td>2022-08-09</td><td>293.14</td><td>6.0</td></tr><tr><td>Clothing</td><td>Jeans</td><td>east</td><td>2022-08-19</td><td>348.37</td><td>5.0</td></tr><tr><td>Electronics</td><td>Laptop</td><td>East</td><td>2023-09-20</td><td>172.64</td><td>3.0</td></tr><tr><td>Clothing</td><td>Shirt</td><td>Central</td><td>2023-06-03</td><td>239.03</td><td>6.0</td></tr><tr><td>Electronics</td><td>Laptop</td><td>east</td><td>2023-08-21</td><td>480.1</td><td>7.0</td></tr><tr><td>Sports</td><td>Yoga Mat</td><td>South</td><td>2023-01-21</td><td>null</td><td>5.0</td></tr><tr><td>Home Decor</td><td>Lamp</td><td>Central</td><td>2022-09-03</td><td>384.69</td><td>5.0</td></tr><tr><td>Sports</td><td>Tennis Racket</td><td>east</td><td>2023-10-12</td><td>324.54</td><td>8.0</td></tr><tr><td>Electronics</td><td>Mobile</td><td>east</td><td>2023-02-27</td><td>290.42</td><td>5.0</td></tr><tr><td>Unknown</td><td>Unknown product</td><td>east</td><td>2022-08-30</td><td>296.11</td><td>5.0</td></tr><tr><td>Clothing</td><td>Shirt</td><td>South</td><td>2022-12-04</td><td>-14.46</td><td>4.0</td></tr><tr><td>Electronics</td><td>Unknown product</td><td>West</td><td>2023-04-10</td><td>10.35</td><td>5.0</td></tr><tr><td>Electronics</td><td>Laptop</td><td>East</td><td>2023-12-01</td><td>305.35</td><td>5.0</td></tr><tr><td>Home Decor</td><td>Cushion</td><td>East</td><td>2022-11-04</td><td>96.31</td><td>5.0</td></tr><tr><td>Unknown</td><td>Unknown product</td><td>East</td><td>2023-05-25</td><td>32.53</td><td>5.0</td></tr><tr><td>Books</td><td>Comics</td><td>East</td><td>2023-07-18</td><td>83.91</td><td>2.0</td></tr><tr><td>Clothing</td><td>Jacket</td><td>South</td><td>2022-08-15</td><td>156.74</td><td>4.0</td></tr><tr><td>Electronics</td><td>Unknown product</td><td>West</td><td>2023-02-26</td><td>165.82</td><td>1.0</td></tr><tr><td>Clothing</td><td>Shirt</td><td>North</td><td>2022-04-15</td><td>6.18</td><td>8.0</td></tr><tr><td>Sports</td><td>Yoga Mat</td><td>East</td><td>2023-01-28</td><td>468.56</td><td>2.0</td></tr><tr><td>Electronics</td><td>Mobile</td><td>North</td><td>2023-07-26</td><td>-7.97</td><td>1.0</td></tr><tr><td>Electronics</td><td>Unknown product</td><td>East</td><td>2022-01-10</td><td>461.68</td><td>8.0</td></tr><tr><td>Books</td><td>Fiction</td><td>South</td><td>2022-10-11</td><td>300.46</td><td>2.0</td></tr><tr><td>Sports</td><td>Tennis Racket</td><td>North</td><td>2023-12-27</td><td>300.17</td><td>1.0</td></tr><tr><td>Home Decor</td><td>Cushion</td><td>East</td><td>2022-06-22</td><td>null</td><td>3.0</td></tr><tr><td>Sports</td><td>Football</td><td>West</td><td>2023-08-04</td><td>355.59</td><td>1.0</td></tr><tr><td>Sports</td><td>Tennis Racket</td><td>West</td><td>2022-03-28</td><td>324.13</td><td>8.0</td></tr><tr><td>Clothing</td><td>Jeans</td><td>Central</td><td>2023-05-20</td><td>null</td><td>7.0</td></tr><tr><td>Books</td><td>Fiction</td><td>West</td><td>2022-02-12</td><td>312.47</td><td>3.0</td></tr><tr><td>Sports</td><td>Football</td><td>East</td><td>2023-02-12</td><td>7.95</td><td>1.0</td></tr><tr><td>Home Decor</td><td>Curtain</td><td>West</td><td>2023-10-07</td><td>229.72</td><td>8.0</td></tr><tr><td>Sports</td><td>Yoga Mat</td><td>South</td><td>2023-01-01</td><td>495.37</td><td>4.0</td></tr><tr><td>Books</td><td>Non-Fiction</td><td>West</td><td>2023-02-03</td><td>468.27</td><td>3.0</td></tr><tr><td>Sports</td><td>Yoga Mat</td><td>east</td><td>2023-06-24</td><td>145.16</td><td>5.0</td></tr><tr><td>Electronics</td><td>Laptop</td><td>West</td><td>2022-12-16</td><td>406.79</td><td>8.0</td></tr><tr><td>Home Decor</td><td>Curtain</td><td>West</td><td>2022-11-16</td><td>183.36</td><td>1.0</td></tr><tr><td>Home Decor</td><td>Curtain</td><td>Central</td><td>2022-08-11</td><td>380.37</td><td>8.0</td></tr><tr><td>Home Decor</td><td>Lamp</td><td>West</td><td>2022-11-25</td><td>160.07</td><td>2.0</td></tr><tr><td>Electronics</td><td>Unknown product</td><td>West</td><td>2023-07-15</td><td>90.48</td><td>4.0</td></tr><tr><td>Books</td><td>Fiction</td><td>North</td><td>2022-08-05</td><td>241.67</td><td>2.0</td></tr><tr><td>Sports</td><td>Tennis Racket</td><td>South</td><td>2022-05-29</td><td>18.88</td><td>8.0</td></tr><tr><td>Books</td><td>Fiction</td><td>East</td><td>2023-01-09</td><td>217.31</td><td>2.0</td></tr><tr><td>Home Decor</td><td>Curtain</td><td>South</td><td>2023-02-06</td><td>73.54</td><td>9.0</td></tr><tr><td>Clothing</td><td>Shirt</td><td>East</td><td>2023-05-03</td><td>187.64</td><td>9.0</td></tr><tr><td>Unknown</td><td>Unknown product</td><td>east</td><td>2023-09-18</td><td>468.69</td><td>4.0</td></tr><tr><td>Electronics</td><td>Mobile</td><td>North</td><td>2023-12-26</td><td>321.79</td><td>3.0</td></tr><tr><td>Sports</td><td>Yoga Mat</td><td>South</td><td>2023-11-17</td><td>-43.01</td><td>5.0</td></tr><tr><td>Sports</td><td>Tennis Racket</td><td>West</td><td>2022-05-02</td><td>398.77</td><td>7.0</td></tr><tr><td>Clothing</td><td>Shirt</td><td>North</td><td>2022-02-08</td><td>415.58</td><td>9.0</td></tr><tr><td>Sports</td><td>Tennis Racket</td><td>North</td><td>2023-06-14</td><td>299.84</td><td>5.0</td></tr><tr><td>Clothing</td><td>Jeans</td><td>East</td><td>2023-09-30</td><td>413.1</td><td>8.0</td></tr><tr><td>Home Decor</td><td>Cushion</td><td>North</td><td>2022-08-26</td><td>377.05</td><td>6.0</td></tr><tr><td>Books</td><td>Non-Fiction</td><td>Central</td><td>2023-10-24</td><td>491.57</td><td>6.0</td></tr><tr><td>Home Decor</td><td>Cushion</td><td>East</td><td>2023-04-11</td><td>9.37</td><td>5.0</td></tr><tr><td>Unknown</td><td>Unknown product</td><td>West</td><td>2023-04-08</td><td>0.53</td><td>2.0</td></tr><tr><td>Books</td><td>Fiction</td><td>South</td><td>2023-08-30</td><td>218.62</td><td>7.0</td></tr><tr><td>Home Decor</td><td>Lamp</td><td>East</td><td>2022-03-29</td><td>138.31</td><td>6.0</td></tr><tr><td>Unknown</td><td>Unknown product</td><td>West</td><td>2023-11-14</td><td>367.0</td><td>1.0</td></tr><tr><td>Books</td><td>Fiction</td><td>East</td><td>2023-11-27</td><td>286.57</td><td>6.0</td></tr><tr><td>Sports</td><td>Tennis Racket</td><td>Central</td><td>2022-01-19</td><td>33.36</td><td>7.0</td></tr><tr><td>Home Decor</td><td>Lamp</td><td>West</td><td>2022-04-18</td><td>299.96</td><td>5.0</td></tr><tr><td>Home Decor</td><td>Lamp</td><td>east</td><td>2022-04-21</td><td>38.47</td><td>8.0</td></tr><tr><td>Electronics</td><td>Headphones</td><td>West</td><td>2022-05-09</td><td>357.94</td><td>3.0</td></tr><tr><td>Home Decor</td><td>Lamp</td><td>West</td><td>2023-03-25</td><td>102.85</td><td>3.0</td></tr><tr><td>Electronics</td><td>Mobile</td><td>Central</td><td>2022-08-12</td><td>null</td><td>2.0</td></tr><tr><td>Clothing</td><td>Jacket</td><td>West</td><td>2023-05-06</td><td>121.01</td><td>5.0</td></tr><tr><td>Electronics</td><td>Mobile</td><td>east</td><td>2022-03-07</td><td>145.46</td><td>9.0</td></tr><tr><td>Sports</td><td>Football</td><td>North</td><td>2023-05-15</td><td>238.29</td><td>6.0</td></tr><tr><td>Clothing</td><td>Jacket</td><td>east</td><td>2022-01-12</td><td>360.15</td><td>9.0</td></tr><tr><td>Clothing</td><td>Jeans</td><td>North</td><td>2023-02-22</td><td>367.27</td><td>4.0</td></tr><tr><td>Books</td><td>Comics</td><td>east</td><td>2023-08-10</td><td>365.95</td><td>7.0</td></tr><tr><td>Books</td><td>Fiction</td><td>Central</td><td>2022-03-11</td><td>432.16</td><td>5.0</td></tr><tr><td>Electronics</td><td>Mobile</td><td>North</td><td>2023-11-29</td><td>152.57</td><td>4.0</td></tr><tr><td>Electronics</td><td>Unknown product</td><td>east</td><td>2022-01-20</td><td>379.22</td><td>6.0</td></tr><tr><td>Electronics</td><td>Unknown product</td><td>North</td><td>2022-08-15</td><td>25.8</td><td>6.0</td></tr><tr><td>Clothing</td><td>Jacket</td><td>East</td><td>2023-02-09</td><td>-34.01</td><td>4.0</td></tr><tr><td>Sports</td><td>Yoga Mat</td><td>east</td><td>2022-07-07</td><td>386.81</td><td>4.0</td></tr><tr><td>Unknown</td><td>Unknown product</td><td>East</td><td>2023-05-31</td><td>230.56</td><td>3.0</td></tr><tr><td>Clothing</td><td>Jeans</td><td>east</td><td>2023-12-29</td><td>7.28</td><td>7.0</td></tr><tr><td>Unknown</td><td>Unknown product</td><td>North</td><td>2023-05-15</td><td>258.36</td><td>8.0</td></tr><tr><td>Unknown</td><td>Unknown product</td><td>North</td><td>2022-06-11</td><td>279.65</td><td>3.0</td></tr><tr><td>Books</td><td>Comics</td><td>Central</td><td>2022-06-08</td><td>-37.39</td><td>3.0</td></tr><tr><td>Home Decor</td><td>Curtain</td><td>Central</td><td>2022-11-15</td><td>-7.62</td><td>6.0</td></tr><tr><td>Sports</td><td>Yoga Mat</td><td>North</td><td>2023-10-26</td><td>null</td><td>6.0</td></tr><tr><td>Home Decor</td><td>Curtain</td><td>Central</td><td>2022-04-27</td><td>383.74</td><td>3.0</td></tr><tr><td>Sports</td><td>Tennis Racket</td><td>East</td><td>2023-03-08</td><td>155.4</td><td>7.0</td></tr><tr><td>Sports</td><td>Football</td><td>South</td><td>2022-05-26</td><td>154.28</td><td>1.0</td></tr><tr><td>Unknown</td><td>Unknown product</td><td>east</td><td>2023-04-21</td><td>354.61</td><td>9.0</td></tr><tr><td>Clothing</td><td>Jacket</td><td>South</td><td>2022-04-28</td><td>303.41</td><td>1.0</td></tr><tr><td>Unknown</td><td>Unknown product</td><td>east</td><td>2022-07-17</td><td>299.9</td><td>6.0</td></tr><tr><td>Home Decor</td><td>Cushion</td><td>West</td><td>2023-07-13</td><td>411.89</td><td>7.0</td></tr><tr><td>Sports</td><td>Tennis Racket</td><td>east</td><td>2022-05-17</td><td>472.67</td><td>5.0</td></tr><tr><td>Electronics</td><td>Unknown product</td><td>Central</td><td>2023-05-20</td><td>261.05</td><td>2.0</td></tr><tr><td>Clothing</td><td>Shirt</td><td>West</td><td>2023-09-11</td><td>null</td><td>1.0</td></tr><tr><td>Books</td><td>Comics</td><td>Central</td><td>2022-09-11</td><td>272.56</td><td>6.0</td></tr><tr><td>Books</td><td>Non-Fiction</td><td>east</td><td>2023-07-17</td><td>467.37</td><td>5.0</td></tr><tr><td>Electronics</td><td>Headphones</td><td>east</td><td>2023-03-02</td><td>419.0</td><td>3.0</td></tr><tr><td>Sports</td><td>Tennis Racket</td><td>east</td><td>2023-08-04</td><td>413.06</td><td>5.0</td></tr><tr><td>Home Decor</td><td>Cushion</td><td>East</td><td>2022-02-18</td><td>189.35</td><td>5.0</td></tr><tr><td>Books</td><td>Non-Fiction</td><td>West</td><td>2022-12-22</td><td>23.41</td><td>4.0</td></tr><tr><td>Books</td><td>Fiction</td><td>North</td><td>2023-09-30</td><td>350.37</td><td>2.0</td></tr><tr><td>Electronics</td><td>Mobile</td><td>east</td><td>2022-11-09</td><td>null</td><td>4.0</td></tr><tr><td>Unknown</td><td>Unknown product</td><td>Central</td><td>2022-07-01</td><td>73.87</td><td>9.0</td></tr><tr><td>Books</td><td>Comics</td><td>east</td><td>2023-06-27</td><td>457.44</td><td>9.0</td></tr><tr><td>Clothing</td><td>Jacket</td><td>East</td><td>2023-07-02</td><td>-42.63</td><td>8.0</td></tr><tr><td>Unknown</td><td>Unknown product</td><td>Central</td><td>2023-09-10</td><td>105.2</td><td>5.0</td></tr><tr><td>Clothing</td><td>Shirt</td><td>North</td><td>2022-08-08</td><td>101.65</td><td>5.0</td></tr><tr><td>Electronics</td><td>Mobile</td><td>North</td><td>2022-08-08</td><td>382.92</td><td>6.0</td></tr><tr><td>Books</td><td>Non-Fiction</td><td>Central</td><td>2023-09-10</td><td>null</td><td>9.0</td></tr><tr><td>Clothing</td><td>Jacket</td><td>Central</td><td>2022-07-24</td><td>97.48</td><td>9.0</td></tr><tr><td>Clothing</td><td>Shirt</td><td>North</td><td>2022-08-16</td><td>-31.51</td><td>4.0</td></tr><tr><td>Clothing</td><td>Shirt</td><td>West</td><td>2022-09-07</td><td>null</td><td>9.0</td></tr><tr><td>Home Decor</td><td>Cushion</td><td>East</td><td>2023-06-17</td><td>242.83</td><td>1.0</td></tr><tr><td>Sports</td><td>Football</td><td>North</td><td>2023-06-03</td><td>null</td><td>6.0</td></tr><tr><td>Home Decor</td><td>Curtain</td><td>South</td><td>2023-10-01</td><td>80.23</td><td>8.0</td></tr><tr><td>Sports</td><td>Football</td><td>East</td><td>2022-07-22</td><td>479.87</td><td>7.0</td></tr><tr><td>Unknown</td><td>Unknown product</td><td>east</td><td>2023-03-02</td><td>405.33</td><td>8.0</td></tr><tr><td>Books</td><td>Fiction</td><td>South</td><td>2022-05-22</td><td>351.95</td><td>5.0</td></tr><tr><td>Clothing</td><td>Shirt</td><td>West</td><td>2022-03-23</td><td>29.73</td><td>7.0</td></tr><tr><td>Electronics</td><td>Unknown product</td><td>Central</td><td>2023-12-31</td><td>55.15</td><td>1.0</td></tr><tr><td>Home Decor</td><td>Curtain</td><td>East</td><td>2023-01-06</td><td>484.6</td><td>5.0</td></tr><tr><td>Sports</td><td>Yoga Mat</td><td>East</td><td>2023-01-19</td><td>null</td><td>9.0</td></tr><tr><td>Electronics</td><td>Mobile</td><td>east</td><td>2023-03-21</td><td>12.75</td><td>2.0</td></tr><tr><td>Unknown</td><td>Unknown product</td><td>Central</td><td>2023-09-21</td><td>73.92</td><td>9.0</td></tr><tr><td>Clothing</td><td>Shirt</td><td>West</td><td>2022-11-23</td><td>326.06</td><td>1.0</td></tr><tr><td>Unknown</td><td>Unknown product</td><td>South</td><td>2023-08-16</td><td>489.28</td><td>2.0</td></tr><tr><td>Electronics</td><td>Mobile</td><td>South</td><td>2022-01-28</td><td>347.55</td><td>9.0</td></tr><tr><td>Unknown</td><td>Unknown product</td><td>East</td><td>2023-02-27</td><td>339.31</td><td>1.0</td></tr><tr><td>Books</td><td>Comics</td><td>North</td><td>2023-09-02</td><td>-5.05</td><td>6.0</td></tr><tr><td>Electronics</td><td>Mobile</td><td>Central</td><td>2023-09-02</td><td>null</td><td>5.0</td></tr><tr><td>Unknown</td><td>Unknown product</td><td>North</td><td>2023-07-31</td><td>185.75</td><td>5.0</td></tr><tr><td>Books</td><td>Comics</td><td>east</td><td>2023-05-29</td><td>315.3</td><td>5.0</td></tr><tr><td>Unknown</td><td>Unknown product</td><td>North</td><td>2022-02-26</td><td>317.96</td><td>2.0</td></tr><tr><td>Sports</td><td>Football</td><td>east</td><td>2022-05-24</td><td>176.47</td><td>7.0</td></tr><tr><td>Sports</td><td>Football</td><td>Central</td><td>2022-03-27</td><td>109.82</td><td>8.0</td></tr><tr><td>Unknown</td><td>Unknown product</td><td>West</td><td>2022-10-21</td><td>393.52</td><td>3.0</td></tr><tr><td>Clothing</td><td>Shirt</td><td>South</td><td>2023-12-05</td><td>386.69</td><td>5.0</td></tr><tr><td>Home Decor</td><td>Cushion</td><td>North</td><td>2023-07-15</td><td>60.75</td><td>7.0</td></tr><tr><td>Clothing</td><td>Shirt</td><td>east</td><td>2022-10-04</td><td>40.59</td><td>4.0</td></tr><tr><td>Books</td><td>Non-Fiction</td><td>East</td><td>2023-10-17</td><td>null</td><td>8.0</td></tr><tr><td>Electronics</td><td>Mobile</td><td>Central</td><td>2022-08-01</td><td>null</td><td>6.0</td></tr><tr><td>Clothing</td><td>Shirt</td><td>east</td><td>2023-09-20</td><td>428.82</td><td>9.0</td></tr><tr><td>Home Decor</td><td>Lamp</td><td>North</td><td>2023-11-11</td><td>491.74</td><td>1.0</td></tr><tr><td>Unknown</td><td>Unknown product</td><td>East</td><td>2023-03-23</td><td>253.88</td><td>8.0</td></tr><tr><td>Sports</td><td>Football</td><td>Central</td><td>2022-02-13</td><td>246.29</td><td>4.0</td></tr><tr><td>Home Decor</td><td>Cushion</td><td>Central</td><td>2022-08-15</td><td>8.01</td><td>4.0</td></tr><tr><td>Electronics</td><td>Unknown product</td><td>North</td><td>2023-08-24</td><td>168.56</td><td>3.0</td></tr><tr><td>Sports</td><td>Tennis Racket</td><td>east</td><td>2023-12-10</td><td>480.46</td><td>8.0</td></tr><tr><td>Electronics</td><td>Headphones</td><td>West</td><td>2022-09-25</td><td>237.83</td><td>8.0</td></tr><tr><td>Home Decor</td><td>Lamp</td><td>Central</td><td>2023-05-23</td><td>null</td><td>9.0</td></tr><tr><td>Home Decor</td><td>Curtain</td><td>South</td><td>2022-06-13</td><td>102.04</td><td>8.0</td></tr><tr><td>Sports</td><td>Tennis Racket</td><td>South</td><td>2023-07-21</td><td>null</td><td>9.0</td></tr><tr><td>Books</td><td>Comics</td><td>East</td><td>2023-07-13</td><td>57.71</td><td>8.0</td></tr><tr><td>Unknown</td><td>Unknown product</td><td>East</td><td>2022-07-29</td><td>36.88</td><td>4.0</td></tr><tr><td>Sports</td><td>Football</td><td>east</td><td>2023-01-22</td><td>149.71</td><td>2.0</td></tr><tr><td>Clothing</td><td>Jacket</td><td>South</td><td>2022-02-09</td><td>228.88</td><td>1.0</td></tr><tr><td>Sports</td><td>Yoga Mat</td><td>West</td><td>2023-06-04</td><td>441.69</td><td>5.0</td></tr><tr><td>Unknown</td><td>Unknown product</td><td>West</td><td>2022-09-17</td><td>null</td><td>6.0</td></tr><tr><td>Clothing</td><td>Shirt</td><td>east</td><td>2023-01-01</td><td>null</td><td>6.0</td></tr><tr><td>Sports</td><td>Tennis Racket</td><td>North</td><td>2023-06-28</td><td>14.7</td><td>7.0</td></tr><tr><td>Unknown</td><td>Unknown product</td><td>Central</td><td>2022-01-16</td><td>null</td><td>1.0</td></tr><tr><td>Electronics</td><td>Laptop</td><td>West</td><td>2023-07-29</td><td>216.95</td><td>5.0</td></tr><tr><td>Books</td><td>Comics</td><td>East</td><td>2023-06-17</td><td>348.85</td><td>2.0</td></tr><tr><td>Clothing</td><td>Jeans</td><td>east</td><td>2022-09-17</td><td>498.39</td><td>7.0</td></tr><tr><td>Unknown</td><td>Unknown product</td><td>West</td><td>2023-10-02</td><td>-43.07</td><td>9.0</td></tr><tr><td>Electronics</td><td>Headphones</td><td>North</td><td>2022-05-11</td><td>240.07</td><td>9.0</td></tr><tr><td>Books</td><td>Non-Fiction</td><td>East</td><td>2023-10-28</td><td>-6.33</td><td>5.0</td></tr><tr><td>Books</td><td>Non-Fiction</td><td>West</td><td>2022-08-15</td><td>53.08</td><td>9.0</td></tr><tr><td>Books</td><td>Fiction</td><td>Central</td><td>2023-01-07</td><td>455.01</td><td>6.0</td></tr><tr><td>Home Decor</td><td>Cushion</td><td>South</td><td>2022-07-30</td><td>367.77</td><td>9.0</td></tr><tr><td>Clothing</td><td>Jeans</td><td>East</td><td>2023-01-30</td><td>445.71</td><td>9.0</td></tr><tr><td>Unknown</td><td>Unknown product</td><td>east</td><td>2023-12-26</td><td>89.88</td><td>6.0</td></tr><tr><td>Clothing</td><td>Shirt</td><td>North</td><td>2022-05-11</td><td>433.9</td><td>5.0</td></tr><tr><td>Electronics</td><td>Unknown product</td><td>Central</td><td>2022-06-05</td><td>404.29</td><td>1.0</td></tr><tr><td>Electronics</td><td>Laptop</td><td>Central</td><td>2023-11-06</td><td>28.08</td><td>9.0</td></tr><tr><td>Clothing</td><td>Jacket</td><td>East</td><td>2022-11-03</td><td>197.69</td><td>9.0</td></tr><tr><td>Home Decor</td><td>Lamp</td><td>West</td><td>2022-10-06</td><td>null</td><td>6.0</td></tr><tr><td>Unknown</td><td>Unknown product</td><td>east</td><td>2022-09-30</td><td>412.8</td><td>3.0</td></tr><tr><td>Clothing</td><td>Shirt</td><td>South</td><td>2022-10-16</td><td>null</td><td>4.0</td></tr><tr><td>Sports</td><td>Tennis Racket</td><td>east</td><td>2022-09-29</td><td>8.49</td><td>3.0</td></tr><tr><td>Sports</td><td>Yoga Mat</td><td>Central</td><td>2022-09-05</td><td>-11.7</td><td>7.0</td></tr><tr><td>Clothing</td><td>Jacket</td><td>West</td><td>2023-03-30</td><td>420.66</td><td>1.0</td></tr><tr><td>Electronics</td><td>Laptop</td><td>East</td><td>2023-10-02</td><td>303.59</td><td>4.0</td></tr><tr><td>Electronics</td><td>Unknown product</td><td>South</td><td>2023-03-18</td><td>231.96</td><td>6.0</td></tr><tr><td>Clothing</td><td>Jeans</td><td>South</td><td>2022-05-23</td><td>null</td><td>5.0</td></tr><tr><td>Sports</td><td>Tennis Racket</td><td>Central</td><td>2022-08-15</td><td>369.74</td><td>5.0</td></tr><tr><td>Books</td><td>Comics</td><td>West</td><td>2022-10-29</td><td>367.59</td><td>4.0</td></tr><tr><td>Sports</td><td>Tennis Racket</td><td>east</td><td>2023-04-05</td><td>78.02</td><td>9.0</td></tr><tr><td>Electronics</td><td>Headphones</td><td>West</td><td>2022-07-26</td><td>93.16</td><td>1.0</td></tr><tr><td>Books</td><td>Fiction</td><td>Central</td><td>2023-10-08</td><td>318.9</td><td>7.0</td></tr><tr><td>Unknown</td><td>Unknown product</td><td>North</td><td>2023-03-19</td><td>11.04</td><td>8.0</td></tr><tr><td>Sports</td><td>Football</td><td>east</td><td>2023-07-12</td><td>203.2</td><td>4.0</td></tr><tr><td>Clothing</td><td>Jacket</td><td>West</td><td>2023-05-16</td><td>250.66</td><td>3.0</td></tr><tr><td>Unknown</td><td>Unknown product</td><td>North</td><td>2023-05-22</td><td>182.4</td><td>9.0</td></tr><tr><td>Books</td><td>Comics</td><td>East</td><td>2023-02-28</td><td>null</td><td>8.0</td></tr><tr><td>Clothing</td><td>Jacket</td><td>North</td><td>2022-09-27</td><td>454.94</td><td>5.0</td></tr><tr><td>Books</td><td>Non-Fiction</td><td>east</td><td>2023-12-28</td><td>20.1</td><td>9.0</td></tr><tr><td>Sports</td><td>Yoga Mat</td><td>West</td><td>2022-03-24</td><td>485.03</td><td>3.0</td></tr><tr><td>Home Decor</td><td>Lamp</td><td>East</td><td>2023-03-02</td><td>334.62</td><td>4.0</td></tr><tr><td>Electronics</td><td>Mobile</td><td>East</td><td>2022-06-22</td><td>479.55</td><td>9.0</td></tr><tr><td>Clothing</td><td>Jeans</td><td>East</td><td>2023-09-28</td><td>406.17</td><td>3.0</td></tr><tr><td>Books</td><td>Non-Fiction</td><td>East</td><td>2023-02-02</td><td>70.14</td><td>5.0</td></tr><tr><td>Books</td><td>Fiction</td><td>east</td><td>2023-11-07</td><td>3.09</td><td>9.0</td></tr><tr><td>Unknown</td><td>Unknown product</td><td>South</td><td>2022-11-16</td><td>261.94</td><td>4.0</td></tr><tr><td>Clothing</td><td>Jacket</td><td>East</td><td>2022-03-30</td><td>403.49</td><td>5.0</td></tr><tr><td>Sports</td><td>Yoga Mat</td><td>east</td><td>2022-11-30</td><td>358.76</td><td>4.0</td></tr><tr><td>Electronics</td><td>Unknown product</td><td>east</td><td>2022-03-09</td><td>432.48</td><td>5.0</td></tr><tr><td>Unknown</td><td>Unknown product</td><td>East</td><td>2023-05-29</td><td>317.29</td><td>5.0</td></tr><tr><td>Clothing</td><td>Jeans</td><td>Central</td><td>2023-09-14</td><td>137.22</td><td>8.0</td></tr><tr><td>Home Decor</td><td>Lamp</td><td>east</td><td>2022-05-07</td><td>294.4</td><td>1.0</td></tr><tr><td>Home Decor</td><td>Cushion</td><td>east</td><td>2023-03-08</td><td>-30.93</td><td>3.0</td></tr><tr><td>Clothing</td><td>Shirt</td><td>North</td><td>2023-07-30</td><td>384.04</td><td>5.0</td></tr><tr><td>Clothing</td><td>Jeans</td><td>West</td><td>2023-10-23</td><td>-15.0</td><td>4.0</td></tr><tr><td>Books</td><td>Non-Fiction</td><td>North</td><td>2023-11-15</td><td>13.21</td><td>9.0</td></tr><tr><td>Sports</td><td>Yoga Mat</td><td>Central</td><td>2023-03-21</td><td>-32.04</td><td>3.0</td></tr><tr><td>Home Decor</td><td>Lamp</td><td>West</td><td>2023-04-27</td><td>433.44</td><td>1.0</td></tr><tr><td>Unknown</td><td>Unknown product</td><td>Central</td><td>2023-03-07</td><td>-4.79</td><td>5.0</td></tr><tr><td>Books</td><td>Fiction</td><td>East</td><td>2023-03-14</td><td>189.03</td><td>9.0</td></tr><tr><td>Unknown</td><td>Unknown product</td><td>North</td><td>2023-10-21</td><td>440.89</td><td>6.0</td></tr><tr><td>Electronics</td><td>Mobile</td><td>East</td><td>2022-08-20</td><td>471.46</td><td>6.0</td></tr><tr><td>Books</td><td>Non-Fiction</td><td>South</td><td>2023-05-20</td><td>336.45</td><td>4.0</td></tr><tr><td>Home Decor</td><td>Cushion</td><td>east</td><td>2023-03-31</td><td>22.43</td><td>4.0</td></tr><tr><td>Sports</td><td>Yoga Mat</td><td>East</td><td>2023-02-10</td><td>382.71</td><td>3.0</td></tr><tr><td>Unknown</td><td>Unknown product</td><td>Central</td><td>2023-05-07</td><td>472.79</td><td>2.0</td></tr><tr><td>Books</td><td>Comics</td><td>East</td><td>2022-12-13</td><td>358.98</td><td>1.0</td></tr><tr><td>Sports</td><td>Football</td><td>east</td><td>2023-08-07</td><td>null</td><td>7.0</td></tr><tr><td>Unknown</td><td>Unknown product</td><td>east</td><td>2022-09-19</td><td>440.31</td><td>2.0</td></tr><tr><td>Sports</td><td>Football</td><td>South</td><td>2023-07-27</td><td>209.87</td><td>8.0</td></tr><tr><td>Books</td><td>Non-Fiction</td><td>West</td><td>2023-04-12</td><td>102.25</td><td>1.0</td></tr><tr><td>Home Decor</td><td>Lamp</td><td>East</td><td>2023-03-17</td><td>132.24</td><td>1.0</td></tr><tr><td>Books</td><td>Comics</td><td>South</td><td>2023-02-28</td><td>208.36</td><td>4.0</td></tr><tr><td>Unknown</td><td>Unknown product</td><td>Central</td><td>2023-11-20</td><td>234.11</td><td>6.0</td></tr><tr><td>Clothing</td><td>Shirt</td><td>Central</td><td>2022-02-18</td><td>-45.78</td><td>8.0</td></tr><tr><td>Electronics</td><td>Mobile</td><td>North</td><td>2023-07-09</td><td>414.16</td><td>1.0</td></tr><tr><td>Home Decor</td><td>Lamp</td><td>east</td><td>2023-08-25</td><td>204.57</td><td>5.0</td></tr><tr><td>Unknown</td><td>Unknown product</td><td>South</td><td>2023-12-05</td><td>231.97</td><td>6.0</td></tr><tr><td>Electronics</td><td>Headphones</td><td>east</td><td>2023-01-17</td><td>102.8</td><td>8.0</td></tr><tr><td>Electronics</td><td>Unknown product</td><td>South</td><td>2023-07-03</td><td>106.51</td><td>1.0</td></tr><tr><td>Books</td><td>Non-Fiction</td><td>North</td><td>2023-07-25</td><td>229.08</td><td>9.0</td></tr><tr><td>Books</td><td>Comics</td><td>East</td><td>2023-07-05</td><td>221.45</td><td>3.0</td></tr><tr><td>Electronics</td><td>Headphones</td><td>West</td><td>2022-11-29</td><td>461.18</td><td>1.0</td></tr><tr><td>Home Decor</td><td>Lamp</td><td>West</td><td>2022-06-17</td><td>182.01</td><td>8.0</td></tr><tr><td>Electronics</td><td>Laptop</td><td>Central</td><td>2023-04-01</td><td>319.02</td><td>5.0</td></tr><tr><td>Sports</td><td>Football</td><td>North</td><td>2022-04-19</td><td>284.35</td><td>1.0</td></tr><tr><td>Electronics</td><td>Mobile</td><td>Central</td><td>2022-10-28</td><td>345.14</td><td>5.0</td></tr><tr><td>Electronics</td><td>Laptop</td><td>South</td><td>2023-06-04</td><td>424.58</td><td>7.0</td></tr><tr><td>Home Decor</td><td>Curtain</td><td>North</td><td>2023-11-01</td><td>91.68</td><td>7.0</td></tr><tr><td>Clothing</td><td>Shirt</td><td>West</td><td>2023-11-20</td><td>282.09</td><td>2.0</td></tr><tr><td>Unknown</td><td>Unknown product</td><td>Central</td><td>2023-10-20</td><td>12.97</td><td>1.0</td></tr><tr><td>Unknown</td><td>Unknown product</td><td>North</td><td>2023-10-01</td><td>314.47</td><td>5.0</td></tr><tr><td>Home Decor</td><td>Curtain</td><td>Central</td><td>2023-10-21</td><td>277.98</td><td>5.0</td></tr><tr><td>Books</td><td>Non-Fiction</td><td>east</td><td>2022-03-25</td><td>445.18</td><td>3.0</td></tr><tr><td>Sports</td><td>Tennis Racket</td><td>Central</td><td>2023-10-17</td><td>362.42</td><td>2.0</td></tr><tr><td>Clothing</td><td>Shirt</td><td>East</td><td>2022-04-15</td><td>305.55</td><td>3.0</td></tr><tr><td>Sports</td><td>Tennis Racket</td><td>North</td><td>2022-09-23</td><td>226.18</td><td>3.0</td></tr><tr><td>Electronics</td><td>Laptop</td><td>West</td><td>2022-04-28</td><td>13.66</td><td>7.0</td></tr><tr><td>Sports</td><td>Tennis Racket</td><td>Central</td><td>2023-06-24</td><td>null</td><td>3.0</td></tr><tr><td>Electronics</td><td>Mobile</td><td>North</td><td>2022-03-25</td><td>300.83</td><td>5.0</td></tr><tr><td>Home Decor</td><td>Cushion</td><td>east</td><td>2023-05-29</td><td>241.5</td><td>3.0</td></tr><tr><td>Unknown</td><td>Unknown product</td><td>North</td><td>2022-12-16</td><td>28.18</td><td>1.0</td></tr><tr><td>Unknown</td><td>Unknown product</td><td>East</td><td>2022-09-25</td><td>112.27</td><td>1.0</td></tr><tr><td>Clothing</td><td>Shirt</td><td>East</td><td>2022-11-07</td><td>267.46</td><td>5.0</td></tr><tr><td>Unknown</td><td>Unknown product</td><td>East</td><td>2022-08-01</td><td>null</td><td>1.0</td></tr><tr><td>Sports</td><td>Yoga Mat</td><td>Central</td><td>2022-05-07</td><td>138.74</td><td>7.0</td></tr><tr><td>Books</td><td>Comics</td><td>east</td><td>2023-02-12</td><td>null</td><td>9.0</td></tr><tr><td>Sports</td><td>Yoga Mat</td><td>east</td><td>2022-10-21</td><td>null</td><td>5.0</td></tr><tr><td>Sports</td><td>Tennis Racket</td><td>east</td><td>2023-03-14</td><td>418.51</td><td>4.0</td></tr><tr><td>Electronics</td><td>Mobile</td><td>North</td><td>2023-09-03</td><td>-7.31</td><td>9.0</td></tr><tr><td>Books</td><td>Non-Fiction</td><td>North</td><td>2023-09-26</td><td>274.66</td><td>2.0</td></tr><tr><td>Sports</td><td>Football</td><td>West</td><td>2023-03-27</td><td>197.57</td><td>9.0</td></tr><tr><td>Books</td><td>Comics</td><td>West</td><td>2022-03-04</td><td>4.38</td><td>9.0</td></tr><tr><td>Home Decor</td><td>Cushion</td><td>east</td><td>2022-04-28</td><td>null</td><td>4.0</td></tr><tr><td>Electronics</td><td>Laptop</td><td>South</td><td>2023-01-15</td><td>328.62</td><td>7.0</td></tr><tr><td>Electronics</td><td>Mobile</td><td>east</td><td>2022-10-17</td><td>41.77</td><td>5.0</td></tr><tr><td>Books</td><td>Non-Fiction</td><td>east</td><td>2022-01-07</td><td>null</td><td>4.0</td></tr><tr><td>Books</td><td>Fiction</td><td>South</td><td>2023-02-25</td><td>439.55</td><td>1.0</td></tr><tr><td>Clothing</td><td>Jeans</td><td>South</td><td>2023-07-13</td><td>34.95</td><td>2.0</td></tr><tr><td>Unknown</td><td>Unknown product</td><td>East</td><td>2023-02-23</td><td>137.33</td><td>1.0</td></tr></tbody></table></div>"
      ]
     },
     "metadata": {
      "application/vnd.databricks.v1+output": {
       "addedWidgets": {},
       "aggData": [],
       "aggError": "",
       "aggOverflow": false,
       "aggSchema": [],
       "aggSeriesLimitReached": false,
       "aggType": "",
       "arguments": {},
       "columnCustomDisplayInfos": {},
       "data": [
        [
         "Home Decor",
         "Cushion",
         "East",
         "2022-04-13",
         388.1,
         8.0
        ],
        [
         "Clothing",
         "Jacket",
         "east",
         "2023-12-02",
         278.27,
         3.0
        ],
        [
         "Books",
         "Fiction",
         "South",
         "2022-08-03",
         -18.05,
         8.0
        ],
        [
         "Clothing",
         "Jeans",
         "West",
         "2023-01-08",
         280.61,
         8.0
        ],
        [
         "Home Decor",
         "Lamp",
         "North",
         "2022-05-11",
         -38.68,
         2.0
        ],
        [
         "Sports",
         "Football",
         "South",
         "2022-12-10",
         407.84,
         6.0
        ],
        [
         "Home Decor",
         "Cushion",
         "South",
         "2023-01-21",
         50.0,
         5.0
        ],
        [
         "Unknown",
         "Unknown product",
         "east",
         "2022-06-10",
         null,
         6.0
        ],
        [
         "Unknown",
         "Unknown product",
         "West",
         "2022-09-10",
         187.57,
         1.0
        ],
        [
         "Home Decor",
         "Curtain",
         "West",
         "2023-04-20",
         286.52,
         3.0
        ],
        [
         "Electronics",
         "Mobile",
         "East",
         "2023-07-21",
         490.78,
         9.0
        ],
        [
         "Sports",
         "Yoga Mat",
         "east",
         "2023-10-09",
         43.79,
         7.0
        ],
        [
         "Electronics",
         "Mobile",
         "South",
         "2022-10-01",
         471.89,
         2.0
        ],
        [
         "Electronics",
         "Laptop",
         "east",
         "2022-12-12",
         3.72,
         4.0
        ],
        [
         "Unknown",
         "Unknown product",
         "East",
         "2022-04-02",
         192.08,
         7.0
        ],
        [
         "Unknown",
         "Unknown product",
         "West",
         "2023-03-04",
         222.35,
         3.0
        ],
        [
         "Home Decor",
         "Lamp",
         "East",
         "2022-07-25",
         165.08,
         5.0
        ],
        [
         "Sports",
         "Yoga Mat",
         "east",
         "2023-07-16",
         null,
         8.0
        ],
        [
         "Books",
         "Non-Fiction",
         "West",
         "2023-01-23",
         121.44,
         6.0
        ],
        [
         "Books",
         "Comics",
         "east",
         "2023-07-20",
         250.69,
         6.0
        ],
        [
         "Unknown",
         "Unknown product",
         "North",
         "2023-04-22",
         483.27,
         2.0
        ],
        [
         "Electronics",
         "Unknown product",
         "North",
         "2022-07-21",
         442.16,
         8.0
        ],
        [
         "Home Decor",
         "Curtain",
         "East",
         "2023-04-07",
         57.79,
         9.0
        ],
        [
         "Home Decor",
         "Lamp",
         "east",
         "2023-12-03",
         128.93,
         2.0
        ],
        [
         "Home Decor",
         "Curtain",
         "east",
         "2022-02-22",
         272.71,
         9.0
        ],
        [
         "Home Decor",
         "Curtain",
         "South",
         "2022-07-07",
         248.48,
         9.0
        ],
        [
         "Unknown",
         "Unknown product",
         "east",
         "2022-06-06",
         391.21,
         1.0
        ],
        [
         "Unknown",
         "Unknown product",
         "Central",
         "2023-06-05",
         374.73,
         5.0
        ],
        [
         "Unknown",
         "Unknown product",
         "Central",
         "2023-10-10",
         -46.96,
         3.0
        ],
        [
         "Sports",
         "Tennis Racket",
         "South",
         "2023-08-16",
         341.24,
         3.0
        ],
        [
         "Sports",
         "Yoga Mat",
         "East",
         "2022-10-16",
         283.28,
         7.0
        ],
        [
         "Clothing",
         "Jeans",
         "Central",
         "2022-02-10",
         453.23,
         9.0
        ],
        [
         "Home Decor",
         "Lamp",
         "South",
         "2022-02-02",
         -15.04,
         7.0
        ],
        [
         "Books",
         "Fiction",
         "Central",
         "2023-07-28",
         128.85,
         3.0
        ],
        [
         "Home Decor",
         "Lamp",
         "east",
         "2023-11-15",
         300.66,
         3.0
        ],
        [
         "Unknown",
         "Unknown product",
         "Central",
         "2023-09-05",
         484.44,
         3.0
        ],
        [
         "Unknown",
         "Unknown product",
         "North",
         "2022-01-05",
         258.7,
         7.0
        ],
        [
         "Sports",
         "Yoga Mat",
         "West",
         "2023-01-28",
         340.86,
         3.0
        ],
        [
         "Books",
         "Comics",
         "East",
         "2023-07-29",
         442.67,
         1.0
        ],
        [
         "Books",
         "Fiction",
         "east",
         "2023-07-18",
         259.8,
         4.0
        ],
        [
         "Electronics",
         "Unknown product",
         "East",
         "2023-04-30",
         87.11,
         4.0
        ],
        [
         "Books",
         "Comics",
         "east",
         "2023-11-30",
         332.13,
         2.0
        ],
        [
         "Unknown",
         "Unknown product",
         "east",
         "2023-11-13",
         394.47,
         9.0
        ],
        [
         "Books",
         "Non-Fiction",
         "East",
         "2023-10-08",
         201.09,
         4.0
        ],
        [
         "Electronics",
         "Laptop",
         "east",
         "2022-11-27",
         null,
         7.0
        ],
        [
         "Books",
         "Comics",
         "North",
         "2022-07-09",
         10.53,
         9.0
        ],
        [
         "Home Decor",
         "Lamp",
         "North",
         "2022-10-10",
         184.91,
         5.0
        ],
        [
         "Sports",
         "Yoga Mat",
         "east",
         "2023-09-20",
         143.91,
         3.0
        ],
        [
         "Unknown",
         "Unknown product",
         "North",
         "2022-12-25",
         null,
         6.0
        ],
        [
         "Home Decor",
         "Curtain",
         "Central",
         "2023-04-01",
         243.75,
         5.0
        ],
        [
         "Home Decor",
         "Lamp",
         "East",
         "2022-08-13",
         15.93,
         8.0
        ],
        [
         "Sports",
         "Football",
         "east",
         "2023-01-09",
         70.32,
         8.0
        ],
        [
         "Books",
         "Fiction",
         "North",
         "2022-08-21",
         172.11,
         1.0
        ],
        [
         "Unknown",
         "Unknown product",
         "Central",
         "2023-03-18",
         479.35,
         7.0
        ],
        [
         "Books",
         "Comics",
         "East",
         "2023-01-21",
         341.75,
         5.0
        ],
        [
         "Home Decor",
         "Curtain",
         "North",
         "2023-09-17",
         498.76,
         1.0
        ],
        [
         "Sports",
         "Tennis Racket",
         "North",
         "2022-01-02",
         null,
         2.0
        ],
        [
         "Clothing",
         "Jacket",
         "South",
         "2022-08-08",
         -21.69,
         5.0
        ],
        [
         "Unknown",
         "Unknown product",
         "east",
         "2022-08-13",
         298.89,
         2.0
        ],
        [
         "Home Decor",
         "Cushion",
         "east",
         "2022-02-22",
         219.2,
         6.0
        ],
        [
         "Clothing",
         "Shirt",
         "Central",
         "2023-02-20",
         275.98,
         7.0
        ],
        [
         "Home Decor",
         "Cushion",
         "East",
         "2022-07-22",
         153.31,
         5.0
        ],
        [
         "Home Decor",
         "Lamp",
         "east",
         "2023-02-05",
         350.52,
         8.0
        ],
        [
         "Unknown",
         "Unknown product",
         "east",
         "2023-09-02",
         298.44,
         1.0
        ],
        [
         "Clothing",
         "Shirt",
         "east",
         "2022-07-20",
         126.43,
         6.0
        ],
        [
         "Books",
         "Non-Fiction",
         "South",
         "2023-04-09",
         null,
         3.0
        ],
        [
         "Unknown",
         "Unknown product",
         "East",
         "2023-10-22",
         129.28,
         4.0
        ],
        [
         "Electronics",
         "Mobile",
         "Central",
         "2023-02-07",
         341.13,
         3.0
        ],
        [
         "Home Decor",
         "Curtain",
         "east",
         "2023-05-04",
         null,
         1.0
        ],
        [
         "Electronics",
         "Laptop",
         "South",
         "2023-10-02",
         234.76,
         8.0
        ],
        [
         "Books",
         "Comics",
         "Central",
         "2023-10-03",
         321.63,
         9.0
        ],
        [
         "Sports",
         "Tennis Racket",
         "east",
         "2023-02-19",
         432.54,
         3.0
        ],
        [
         "Sports",
         "Tennis Racket",
         "North",
         "2022-09-20",
         312.99,
         9.0
        ],
        [
         "Home Decor",
         "Curtain",
         "South",
         "2023-07-26",
         93.46,
         1.0
        ],
        [
         "Unknown",
         "Unknown product",
         "east",
         "2022-10-31",
         480.98,
         5.0
        ],
        [
         "Clothing",
         "Jeans",
         "West",
         "2022-02-06",
         435.45,
         7.0
        ],
        [
         "Home Decor",
         "Curtain",
         "Central",
         "2022-01-09",
         103.38,
         3.0
        ],
        [
         "Clothing",
         "Jeans",
         "North",
         "2022-07-27",
         443.41,
         8.0
        ],
        [
         "Home Decor",
         "Lamp",
         "South",
         "2022-02-23",
         378.93,
         8.0
        ],
        [
         "Unknown",
         "Unknown product",
         "West",
         "2023-09-20",
         -3.72,
         5.0
        ],
        [
         "Books",
         "Comics",
         "Central",
         "2023-02-24",
         444.2,
         4.0
        ],
        [
         "Electronics",
         "Unknown product",
         "Central",
         "2022-09-11",
         -44.94,
         9.0
        ],
        [
         "Home Decor",
         "Lamp",
         "East",
         "2022-04-09",
         485.52,
         2.0
        ],
        [
         "Electronics",
         "Mobile",
         "South",
         "2022-12-04",
         217.09,
         3.0
        ],
        [
         "Sports",
         "Tennis Racket",
         "West",
         "2023-12-21",
         496.95,
         4.0
        ],
        [
         "Electronics",
         "Laptop",
         "West",
         "2022-06-10",
         -40.06,
         5.0
        ],
        [
         "Home Decor",
         "Curtain",
         "East",
         "2023-05-19",
         null,
         8.0
        ],
        [
         "Books",
         "Non-Fiction",
         "South",
         "2022-05-15",
         346.52,
         1.0
        ],
        [
         "Clothing",
         "Jeans",
         "North",
         "2023-11-19",
         null,
         3.0
        ],
        [
         "Sports",
         "Tennis Racket",
         "South",
         "2023-04-15",
         95.86,
         6.0
        ],
        [
         "Unknown",
         "Unknown product",
         "East",
         "2022-08-18",
         166.2,
         6.0
        ],
        [
         "Unknown",
         "Unknown product",
         "South",
         "2022-10-10",
         188.92,
         5.0
        ],
        [
         "Books",
         "Non-Fiction",
         "West",
         "2023-09-01",
         267.3,
         5.0
        ],
        [
         "Books",
         "Comics",
         "South",
         "2023-10-21",
         264.6,
         1.0
        ],
        [
         "Electronics",
         "Headphones",
         "South",
         "2023-05-27",
         47.41,
         5.0
        ],
        [
         "Clothing",
         "Jacket",
         "West",
         "2023-06-02",
         153.59,
         9.0
        ],
        [
         "Unknown",
         "Unknown product",
         "North",
         "2022-02-06",
         460.58,
         1.0
        ],
        [
         "Sports",
         "Football",
         "West",
         "2022-10-29",
         481.66,
         3.0
        ],
        [
         "Sports",
         "Football",
         "South",
         "2023-12-01",
         419.16,
         5.0
        ],
        [
         "Books",
         "Fiction",
         "east",
         "2022-06-10",
         124.31,
         2.0
        ],
        [
         "Sports",
         "Tennis Racket",
         "Central",
         "2023-07-20",
         332.82,
         8.0
        ],
        [
         "Sports",
         "Yoga Mat",
         "East",
         "2023-11-17",
         3.45,
         6.0
        ],
        [
         "Clothing",
         "Shirt",
         "East",
         "2023-10-25",
         27.05,
         2.0
        ],
        [
         "Sports",
         "Football",
         "South",
         "2022-04-14",
         333.36,
         6.0
        ],
        [
         "Sports",
         "Tennis Racket",
         "east",
         "2022-06-25",
         254.05,
         7.0
        ],
        [
         "Sports",
         "Tennis Racket",
         "east",
         "2023-06-22",
         395.56,
         9.0
        ],
        [
         "Sports",
         "Yoga Mat",
         "North",
         "2023-02-12",
         452.28,
         7.0
        ],
        [
         "Sports",
         "Football",
         "East",
         "2022-02-05",
         389.06,
         1.0
        ],
        [
         "Clothing",
         "Shirt",
         "South",
         "2023-05-27",
         168.23,
         3.0
        ],
        [
         "Electronics",
         "Mobile",
         "East",
         "2023-04-16",
         -34.81,
         2.0
        ],
        [
         "Clothing",
         "Jeans",
         "West",
         "2023-12-28",
         319.61,
         3.0
        ],
        [
         "Home Decor",
         "Curtain",
         "East",
         "2022-11-10",
         423.22,
         1.0
        ],
        [
         "Sports",
         "Tennis Racket",
         "South",
         "2023-11-23",
         -28.64,
         6.0
        ],
        [
         "Books",
         "Comics",
         "North",
         "2023-03-20",
         129.66,
         8.0
        ],
        [
         "Books",
         "Non-Fiction",
         "East",
         "2022-02-22",
         99.35,
         5.0
        ],
        [
         "Books",
         "Fiction",
         "South",
         "2022-04-13",
         -3.06,
         4.0
        ],
        [
         "Clothing",
         "Jeans",
         "East",
         "2022-12-16",
         247.35,
         7.0
        ],
        [
         "Electronics",
         "Unknown product",
         "West",
         "2023-10-18",
         486.72,
         3.0
        ],
        [
         "Unknown",
         "Unknown product",
         "Central",
         "2023-10-19",
         169.35,
         3.0
        ],
        [
         "Sports",
         "Yoga Mat",
         "East",
         "2023-08-27",
         359.22,
         5.0
        ],
        [
         "Home Decor",
         "Cushion",
         "North",
         "2022-12-12",
         -36.06,
         5.0
        ],
        [
         "Sports",
         "Football",
         "West",
         "2022-05-07",
         332.79,
         5.0
        ],
        [
         "Clothing",
         "Jacket",
         "East",
         "2023-10-03",
         45.31,
         1.0
        ],
        [
         "Books",
         "Comics",
         "Central",
         "2022-04-06",
         252.07,
         9.0
        ],
        [
         "Electronics",
         "Unknown product",
         "east",
         "2023-05-03",
         464.04,
         1.0
        ],
        [
         "Sports",
         "Tennis Racket",
         "North",
         "2022-09-29",
         234.18,
         5.0
        ],
        [
         "Clothing",
         "Jeans",
         "South",
         "2022-09-04",
         -23.76,
         3.0
        ],
        [
         "Books",
         "Non-Fiction",
         "South",
         "2022-03-27",
         -42.08,
         5.0
        ],
        [
         "Electronics",
         "Unknown product",
         "Central",
         "2022-02-16",
         -27.6,
         4.0
        ],
        [
         "Clothing",
         "Jeans",
         "East",
         "2023-03-29",
         210.8,
         5.0
        ],
        [
         "Books",
         "Fiction",
         "Central",
         "2023-07-05",
         140.47,
         5.0
        ],
        [
         "Electronics",
         "Laptop",
         "east",
         "2022-01-23",
         -23.57,
         5.0
        ],
        [
         "Clothing",
         "Shirt",
         "East",
         "2022-04-10",
         -25.08,
         3.0
        ],
        [
         "Clothing",
         "Jacket",
         "West",
         "2023-03-18",
         225.57,
         8.0
        ],
        [
         "Books",
         "Non-Fiction",
         "East",
         "2022-11-21",
         326.18,
         8.0
        ],
        [
         "Electronics",
         "Unknown product",
         "Central",
         "2022-12-02",
         303.33,
         1.0
        ],
        [
         "Clothing",
         "Shirt",
         "east",
         "2022-06-09",
         467.13,
         8.0
        ],
        [
         "Sports",
         "Yoga Mat",
         "east",
         "2023-11-21",
         265.35,
         1.0
        ],
        [
         "Electronics",
         "Laptop",
         "South",
         "2023-11-22",
         401.35,
         3.0
        ],
        [
         "Sports",
         "Football",
         "North",
         "2023-07-31",
         478.65,
         2.0
        ],
        [
         "Sports",
         "Tennis Racket",
         "West",
         "2022-09-10",
         1.94,
         3.0
        ],
        [
         "Clothing",
         "Jacket",
         "West",
         "2023-12-28",
         -10.85,
         8.0
        ],
        [
         "Clothing",
         "Shirt",
         "South",
         "2023-08-28",
         414.68,
         2.0
        ],
        [
         "Books",
         "Comics",
         "North",
         "2022-04-25",
         105.02,
         4.0
        ],
        [
         "Electronics",
         "Headphones",
         "West",
         "2023-05-16",
         141.59,
         8.0
        ],
        [
         "Electronics",
         "Mobile",
         "West",
         "2023-02-24",
         179.87,
         9.0
        ],
        [
         "Clothing",
         "Jeans",
         "East",
         "2023-11-07",
         47.59,
         9.0
        ],
        [
         "Electronics",
         "Laptop",
         "North",
         "2022-07-11",
         266.76,
         3.0
        ],
        [
         "Home Decor",
         "Lamp",
         "East",
         "2023-07-02",
         154.61,
         7.0
        ],
        [
         "Home Decor",
         "Cushion",
         "North",
         "2022-04-06",
         137.44,
         5.0
        ],
        [
         "Electronics",
         "Laptop",
         "east",
         "2023-01-04",
         323.91,
         7.0
        ],
        [
         "Clothing",
         "Jeans",
         "East",
         "2022-08-05",
         81.03,
         1.0
        ],
        [
         "Unknown",
         "Unknown product",
         "Central",
         "2022-03-03",
         223.11,
         9.0
        ],
        [
         "Electronics",
         "Headphones",
         "West",
         "2022-12-08",
         113.7,
         3.0
        ],
        [
         "Unknown",
         "Unknown product",
         "North",
         "2022-06-26",
         -20.58,
         9.0
        ],
        [
         "Books",
         "Comics",
         "Central",
         "2022-03-17",
         null,
         9.0
        ],
        [
         "Books",
         "Comics",
         "West",
         "2023-03-31",
         476.24,
         4.0
        ],
        [
         "Home Decor",
         "Curtain",
         "North",
         "2023-05-21",
         297.51,
         5.0
        ],
        [
         "Clothing",
         "Jeans",
         "West",
         "2022-03-10",
         111.27,
         9.0
        ],
        [
         "Sports",
         "Tennis Racket",
         "Central",
         "2023-04-14",
         363.81,
         7.0
        ],
        [
         "Sports",
         "Yoga Mat",
         "east",
         "2022-05-24",
         384.29,
         5.0
        ],
        [
         "Unknown",
         "Unknown product",
         "North",
         "2022-02-11",
         485.84,
         5.0
        ],
        [
         "Clothing",
         "Jacket",
         "South",
         "2022-06-12",
         438.24,
         2.0
        ],
        [
         "Electronics",
         "Unknown product",
         "North",
         "2022-03-15",
         410.33,
         1.0
        ],
        [
         "Clothing",
         "Jacket",
         "East",
         "2022-09-10",
         411.16,
         8.0
        ],
        [
         "Unknown",
         "Unknown product",
         "East",
         "2022-06-19",
         168.16,
         2.0
        ],
        [
         "Unknown",
         "Unknown product",
         "North",
         "2023-06-01",
         232.33,
         6.0
        ],
        [
         "Books",
         "Non-Fiction",
         "Central",
         "2022-12-05",
         null,
         8.0
        ],
        [
         "Home Decor",
         "Curtain",
         "Central",
         "2023-05-11",
         424.73,
         6.0
        ],
        [
         "Home Decor",
         "Curtain",
         "east",
         "2023-05-15",
         80.18,
         7.0
        ],
        [
         "Electronics",
         "Laptop",
         "East",
         "2022-10-28",
         364.36,
         6.0
        ],
        [
         "Sports",
         "Football",
         "East",
         "2022-09-09",
         -4.07,
         6.0
        ],
        [
         "Clothing",
         "Jeans",
         "East",
         "2022-06-16",
         183.32,
         3.0
        ],
        [
         "Sports",
         "Tennis Racket",
         "east",
         "2022-02-08",
         188.95,
         2.0
        ],
        [
         "Unknown",
         "Unknown product",
         "Central",
         "2022-08-08",
         264.31,
         4.0
        ],
        [
         "Unknown",
         "Unknown product",
         "North",
         "2023-04-21",
         371.96,
         9.0
        ],
        [
         "Unknown",
         "Unknown product",
         "Central",
         "2022-01-01",
         324.57,
         9.0
        ],
        [
         "Books",
         "Comics",
         "Central",
         "2022-07-10",
         212.74,
         9.0
        ],
        [
         "Electronics",
         "Unknown product",
         "South",
         "2022-04-27",
         479.77,
         5.0
        ],
        [
         "Sports",
         "Football",
         "East",
         "2022-03-21",
         240.24,
         5.0
        ],
        [
         "Books",
         "Fiction",
         "Central",
         "2023-11-07",
         254.62,
         4.0
        ],
        [
         "Home Decor",
         "Cushion",
         "Central",
         "2023-03-17",
         null,
         2.0
        ],
        [
         "Sports",
         "Football",
         "east",
         "2022-02-16",
         296.17,
         1.0
        ],
        [
         "Clothing",
         "Shirt",
         "South",
         "2023-01-08",
         null,
         6.0
        ],
        [
         "Clothing",
         "Jacket",
         "Central",
         "2022-09-16",
         445.64,
         9.0
        ],
        [
         "Sports",
         "Football",
         "east",
         "2022-01-12",
         477.29,
         8.0
        ],
        [
         "Unknown",
         "Unknown product",
         "East",
         "2022-12-24",
         200.61,
         5.0
        ],
        [
         "Sports",
         "Yoga Mat",
         "West",
         "2022-01-08",
         null,
         4.0
        ],
        [
         "Electronics",
         "Mobile",
         "West",
         "2022-03-31",
         163.55,
         2.0
        ],
        [
         "Clothing",
         "Shirt",
         "Central",
         "2023-06-24",
         null,
         5.0
        ],
        [
         "Unknown",
         "Unknown product",
         "South",
         "2022-02-10",
         92.97,
         6.0
        ],
        [
         "Electronics",
         "Laptop",
         "South",
         "2022-05-25",
         103.87,
         5.0
        ],
        [
         "Electronics",
         "Mobile",
         "Central",
         "2023-12-25",
         281.53,
         3.0
        ],
        [
         "Electronics",
         "Laptop",
         "East",
         "2022-09-10",
         467.29,
         3.0
        ],
        [
         "Electronics",
         "Laptop",
         "North",
         "2022-09-13",
         269.64,
         9.0
        ],
        [
         "Home Decor",
         "Cushion",
         "East",
         "2023-03-26",
         -4.49,
         2.0
        ],
        [
         "Electronics",
         "Unknown product",
         "North",
         "2022-09-08",
         -25.13,
         7.0
        ],
        [
         "Clothing",
         "Jeans",
         "East",
         "2023-01-09",
         395.8,
         1.0
        ],
        [
         "Electronics",
         "Headphones",
         "east",
         "2022-10-09",
         159.49,
         6.0
        ],
        [
         "Clothing",
         "Shirt",
         "South",
         "2023-11-20",
         411.08,
         2.0
        ],
        [
         "Clothing",
         "Jacket",
         "east",
         "2022-04-15",
         178.15,
         1.0
        ],
        [
         "Clothing",
         "Jacket",
         "East",
         "2023-02-09",
         -18.99,
         6.0
        ],
        [
         "Home Decor",
         "Curtain",
         "east",
         "2023-04-21",
         397.1,
         5.0
        ],
        [
         "Unknown",
         "Unknown product",
         "East",
         "2023-03-13",
         271.83,
         5.0
        ],
        [
         "Books",
         "Non-Fiction",
         "North",
         "2023-11-08",
         366.39,
         3.0
        ],
        [
         "Books",
         "Non-Fiction",
         "east",
         "2022-05-25",
         82.6,
         9.0
        ],
        [
         "Books",
         "Comics",
         "North",
         "2022-01-01",
         474.73,
         4.0
        ],
        [
         "Clothing",
         "Jacket",
         "East",
         "2023-03-22",
         433.02,
         8.0
        ],
        [
         "Books",
         "Fiction",
         "North",
         "2022-02-03",
         146.99,
         8.0
        ],
        [
         "Unknown",
         "Unknown product",
         "North",
         "2023-07-05",
         319.37,
         2.0
        ],
        [
         "Home Decor",
         "Curtain",
         "South",
         "2023-03-14",
         374.78,
         2.0
        ],
        [
         "Sports",
         "Yoga Mat",
         "East",
         "2022-09-25",
         399.01,
         5.0
        ],
        [
         "Home Decor",
         "Cushion",
         "Central",
         "2023-02-05",
         23.71,
         7.0
        ],
        [
         "Clothing",
         "Shirt",
         "West",
         "2022-07-26",
         381.57,
         2.0
        ],
        [
         "Sports",
         "Yoga Mat",
         "North",
         "2022-03-16",
         67.13,
         6.0
        ],
        [
         "Unknown",
         "Unknown product",
         "North",
         "2023-12-05",
         -42.0,
         6.0
        ],
        [
         "Home Decor",
         "Cushion",
         "east",
         "2022-11-02",
         274.45,
         3.0
        ],
        [
         "Clothing",
         "Jacket",
         "South",
         "2023-03-23",
         349.52,
         9.0
        ],
        [
         "Electronics",
         "Mobile",
         "Central",
         "2022-06-15",
         198.0,
         7.0
        ],
        [
         "Sports",
         "Yoga Mat",
         "South",
         "2022-04-16",
         424.3,
         5.0
        ],
        [
         "Sports",
         "Tennis Racket",
         "East",
         "2022-05-18",
         459.62,
         1.0
        ],
        [
         "Clothing",
         "Shirt",
         "South",
         "2023-05-23",
         null,
         4.0
        ],
        [
         "Sports",
         "Football",
         "Central",
         "2022-03-10",
         489.02,
         5.0
        ],
        [
         "Home Decor",
         "Cushion",
         "West",
         "2023-03-26",
         130.81,
         3.0
        ],
        [
         "Clothing",
         "Jacket",
         "Central",
         "2022-04-21",
         20.88,
         7.0
        ],
        [
         "Sports",
         "Tennis Racket",
         "South",
         "2022-04-05",
         170.17,
         8.0
        ],
        [
         "Electronics",
         "Mobile",
         "East",
         "2022-12-26",
         333.08,
         9.0
        ],
        [
         "Sports",
         "Football",
         "East",
         "2022-07-14",
         430.87,
         2.0
        ],
        [
         "Sports",
         "Yoga Mat",
         "West",
         "2022-03-02",
         55.76,
         3.0
        ],
        [
         "Electronics",
         "Unknown product",
         "Central",
         "2022-01-05",
         139.8,
         5.0
        ],
        [
         "Unknown",
         "Unknown product",
         "East",
         "2023-11-13",
         47.36,
         5.0
        ],
        [
         "Unknown",
         "Unknown product",
         "east",
         "2023-05-28",
         243.93,
         2.0
        ],
        [
         "Electronics",
         "Headphones",
         "East",
         "2022-03-19",
         131.55,
         9.0
        ],
        [
         "Home Decor",
         "Curtain",
         "South",
         "2022-09-06",
         214.63,
         6.0
        ],
        [
         "Unknown",
         "Unknown product",
         "Central",
         "2022-08-27",
         231.41,
         1.0
        ],
        [
         "Books",
         "Non-Fiction",
         "east",
         "2022-01-26",
         427.57,
         8.0
        ],
        [
         "Clothing",
         "Jeans",
         "east",
         "2023-09-17",
         278.5,
         4.0
        ],
        [
         "Books",
         "Comics",
         "South",
         "2023-12-20",
         245.12,
         8.0
        ],
        [
         "Books",
         "Comics",
         "West",
         "2023-12-27",
         79.86,
         7.0
        ],
        [
         "Home Decor",
         "Cushion",
         "South",
         "2022-03-19",
         null,
         8.0
        ],
        [
         "Books",
         "Comics",
         "West",
         "2023-01-21",
         361.11,
         8.0
        ],
        [
         "Sports",
         "Football",
         "West",
         "2022-01-07",
         327.94,
         7.0
        ],
        [
         "Sports",
         "Football",
         "North",
         "2022-12-29",
         null,
         2.0
        ],
        [
         "Home Decor",
         "Curtain",
         "South",
         "2023-05-21",
         144.78,
         3.0
        ],
        [
         "Sports",
         "Yoga Mat",
         "West",
         "2022-01-15",
         7.68,
         7.0
        ],
        [
         "Sports",
         "Football",
         "Central",
         "2023-04-30",
         null,
         7.0
        ],
        [
         "Electronics",
         "Mobile",
         "North",
         "2022-09-30",
         66.3,
         9.0
        ],
        [
         "Books",
         "Fiction",
         "East",
         "2022-05-25",
         138.61,
         9.0
        ],
        [
         "Home Decor",
         "Cushion",
         "Central",
         "2023-08-03",
         145.31,
         9.0
        ],
        [
         "Electronics",
         "Laptop",
         "North",
         "2022-04-19",
         213.77,
         4.0
        ],
        [
         "Unknown",
         "Unknown product",
         "North",
         "2022-04-21",
         355.25,
         8.0
        ],
        [
         "Electronics",
         "Unknown product",
         "East",
         "2023-01-04",
         260.45,
         9.0
        ],
        [
         "Unknown",
         "Unknown product",
         "West",
         "2023-09-05",
         149.7,
         2.0
        ],
        [
         "Unknown",
         "Unknown product",
         "East",
         "2023-01-12",
         80.47,
         6.0
        ],
        [
         "Electronics",
         "Unknown product",
         "East",
         "2022-10-04",
         34.07,
         7.0
        ],
        [
         "Books",
         "Non-Fiction",
         "South",
         "2023-09-16",
         null,
         4.0
        ],
        [
         "Sports",
         "Yoga Mat",
         "east",
         "2022-12-16",
         52.61,
         8.0
        ],
        [
         "Electronics",
         "Unknown product",
         "South",
         "2022-05-17",
         -5.87,
         3.0
        ],
        [
         "Sports",
         "Tennis Racket",
         "South",
         "2023-06-27",
         175.72,
         4.0
        ],
        [
         "Unknown",
         "Unknown product",
         "East",
         "2022-08-11",
         443.14,
         4.0
        ],
        [
         "Books",
         "Fiction",
         "North",
         "2022-03-16",
         426.03,
         6.0
        ],
        [
         "Books",
         "Comics",
         "East",
         "2023-07-28",
         461.16,
         8.0
        ],
        [
         "Home Decor",
         "Curtain",
         "Central",
         "2022-01-26",
         103.99,
         5.0
        ],
        [
         "Clothing",
         "Jacket",
         "West",
         "2022-11-22",
         482.4,
         4.0
        ],
        [
         "Electronics",
         "Unknown product",
         "East",
         "2023-12-25",
         229.19,
         1.0
        ],
        [
         "Unknown",
         "Unknown product",
         "South",
         "2022-05-20",
         null,
         1.0
        ],
        [
         "Books",
         "Non-Fiction",
         "West",
         "2022-03-31",
         372.28,
         6.0
        ],
        [
         "Unknown",
         "Unknown product",
         "West",
         "2022-05-19",
         462.61,
         3.0
        ],
        [
         "Home Decor",
         "Curtain",
         "North",
         "2023-11-04",
         153.08,
         5.0
        ],
        [
         "Unknown",
         "Unknown product",
         "North",
         "2022-01-10",
         251.73,
         2.0
        ],
        [
         "Electronics",
         "Headphones",
         "east",
         "2022-01-13",
         326.51,
         4.0
        ],
        [
         "Sports",
         "Tennis Racket",
         "West",
         "2022-11-17",
         26.35,
         5.0
        ],
        [
         "Sports",
         "Tennis Racket",
         "West",
         "2022-11-25",
         368.13,
         8.0
        ],
        [
         "Home Decor",
         "Cushion",
         "North",
         "2023-07-04",
         null,
         7.0
        ],
        [
         "Clothing",
         "Shirt",
         "North",
         "2023-02-23",
         141.88,
         1.0
        ],
        [
         "Electronics",
         "Unknown product",
         "east",
         "2023-08-04",
         406.84,
         2.0
        ],
        [
         "Clothing",
         "Shirt",
         "Central",
         "2022-11-30",
         null,
         5.0
        ],
        [
         "Home Decor",
         "Lamp",
         "East",
         "2023-01-11",
         495.01,
         5.0
        ],
        [
         "Books",
         "Non-Fiction",
         "Central",
         "2023-08-11",
         158.58,
         1.0
        ],
        [
         "Sports",
         "Tennis Racket",
         "east",
         "2022-10-23",
         346.88,
         8.0
        ],
        [
         "Home Decor",
         "Curtain",
         "east",
         "2022-08-17",
         60.9,
         3.0
        ],
        [
         "Clothing",
         "Shirt",
         "South",
         "2023-12-26",
         52.52,
         3.0
        ],
        [
         "Unknown",
         "Unknown product",
         "east",
         "2023-08-24",
         432.46,
         9.0
        ],
        [
         "Home Decor",
         "Curtain",
         "South",
         "2023-02-06",
         399.13,
         7.0
        ],
        [
         "Electronics",
         "Laptop",
         "West",
         "2023-09-08",
         157.32,
         3.0
        ],
        [
         "Unknown",
         "Unknown product",
         "East",
         "2023-09-29",
         115.76,
         7.0
        ],
        [
         "Sports",
         "Tennis Racket",
         "east",
         "2023-07-29",
         226.5,
         5.0
        ],
        [
         "Unknown",
         "Unknown product",
         "West",
         "2023-10-27",
         null,
         1.0
        ],
        [
         "Clothing",
         "Jacket",
         "West",
         "2022-08-13",
         165.32,
         2.0
        ],
        [
         "Electronics",
         "Laptop",
         "Central",
         "2023-09-08",
         75.96,
         7.0
        ],
        [
         "Clothing",
         "Jeans",
         "east",
         "2022-07-17",
         466.91,
         7.0
        ],
        [
         "Clothing",
         "Jeans",
         "East",
         "2022-01-15",
         433.25,
         1.0
        ],
        [
         "Electronics",
         "Unknown product",
         "South",
         "2023-04-23",
         441.64,
         4.0
        ],
        [
         "Electronics",
         "Mobile",
         "East",
         "2022-06-06",
         33.42,
         1.0
        ],
        [
         "Home Decor",
         "Lamp",
         "North",
         "2023-02-15",
         359.17,
         5.0
        ],
        [
         "Electronics",
         "Unknown product",
         "West",
         "2022-09-11",
         62.5,
         2.0
        ],
        [
         "Home Decor",
         "Curtain",
         "Central",
         "2023-06-06",
         221.69,
         1.0
        ],
        [
         "Books",
         "Fiction",
         "South",
         "2022-04-28",
         401.69,
         4.0
        ],
        [
         "Home Decor",
         "Curtain",
         "West",
         "2023-11-27",
         226.26,
         8.0
        ],
        [
         "Clothing",
         "Shirt",
         "South",
         "2022-09-18",
         217.5,
         4.0
        ],
        [
         "Clothing",
         "Shirt",
         "Central",
         "2023-11-16",
         346.02,
         3.0
        ],
        [
         "Clothing",
         "Jacket",
         "Central",
         "2022-10-19",
         null,
         5.0
        ],
        [
         "Electronics",
         "Mobile",
         "east",
         "2023-10-22",
         49.88,
         8.0
        ],
        [
         "Unknown",
         "Unknown product",
         "east",
         "2023-07-04",
         75.04,
         7.0
        ],
        [
         "Books",
         "Non-Fiction",
         "West",
         "2022-12-12",
         471.01,
         8.0
        ],
        [
         "Sports",
         "Football",
         "North",
         "2022-07-29",
         286.3,
         8.0
        ],
        [
         "Electronics",
         "Unknown product",
         "east",
         "2023-11-14",
         462.67,
         4.0
        ],
        [
         "Clothing",
         "Jeans",
         "South",
         "2022-11-20",
         384.55,
         5.0
        ],
        [
         "Home Decor",
         "Cushion",
         "east",
         "2022-05-07",
         33.9,
         5.0
        ],
        [
         "Unknown",
         "Unknown product",
         "North",
         "2023-08-27",
         155.94,
         9.0
        ],
        [
         "Sports",
         "Tennis Racket",
         "South",
         "2022-02-20",
         355.04,
         8.0
        ],
        [
         "Electronics",
         "Headphones",
         "North",
         "2022-10-24",
         459.06,
         7.0
        ],
        [
         "Sports",
         "Tennis Racket",
         "East",
         "2023-09-05",
         491.66,
         4.0
        ],
        [
         "Unknown",
         "Unknown product",
         "West",
         "2022-07-01",
         null,
         7.0
        ],
        [
         "Unknown",
         "Unknown product",
         "East",
         "2022-01-01",
         428.44,
         7.0
        ],
        [
         "Sports",
         "Yoga Mat",
         "east",
         "2023-01-06",
         275.2,
         5.0
        ],
        [
         "Unknown",
         "Unknown product",
         "east",
         "2023-03-07",
         -19.88,
         9.0
        ],
        [
         "Books",
         "Non-Fiction",
         "East",
         "2022-07-21",
         391.57,
         5.0
        ],
        [
         "Books",
         "Comics",
         "South",
         "2023-10-28",
         133.42,
         4.0
        ],
        [
         "Unknown",
         "Unknown product",
         "South",
         "2023-06-21",
         424.93,
         6.0
        ],
        [
         "Clothing",
         "Jacket",
         "East",
         "2023-04-20",
         355.63,
         1.0
        ],
        [
         "Clothing",
         "Shirt",
         "South",
         "2023-10-02",
         73.53,
         3.0
        ],
        [
         "Unknown",
         "Unknown product",
         "South",
         "2022-07-01",
         47.01,
         7.0
        ],
        [
         "Clothing",
         "Jeans",
         "east",
         "2022-06-29",
         180.41,
         8.0
        ],
        [
         "Clothing",
         "Jacket",
         "East",
         "2022-06-10",
         149.32,
         6.0
        ],
        [
         "Books",
         "Non-Fiction",
         "West",
         "2023-10-28",
         -42.8,
         5.0
        ],
        [
         "Clothing",
         "Shirt",
         "east",
         "2022-02-18",
         47.92,
         4.0
        ],
        [
         "Clothing",
         "Shirt",
         "East",
         "2022-12-27",
         31.76,
         5.0
        ],
        [
         "Books",
         "Non-Fiction",
         "Central",
         "2023-09-22",
         423.35,
         8.0
        ],
        [
         "Electronics",
         "Laptop",
         "West",
         "2023-07-15",
         114.78,
         7.0
        ],
        [
         "Books",
         "Non-Fiction",
         "Central",
         "2023-03-11",
         null,
         8.0
        ],
        [
         "Home Decor",
         "Lamp",
         "Central",
         "2023-12-24",
         142.16,
         1.0
        ],
        [
         "Books",
         "Non-Fiction",
         "east",
         "2023-03-05",
         157.75,
         5.0
        ],
        [
         "Sports",
         "Football",
         "Central",
         "2022-05-24",
         260.66,
         2.0
        ],
        [
         "Sports",
         "Yoga Mat",
         "North",
         "2023-08-13",
         342.73,
         2.0
        ],
        [
         "Unknown",
         "Unknown product",
         "North",
         "2022-07-13",
         243.95,
         1.0
        ],
        [
         "Clothing",
         "Shirt",
         "Central",
         "2022-04-24",
         223.36,
         3.0
        ],
        [
         "Clothing",
         "Shirt",
         "Central",
         "2022-09-21",
         423.98,
         7.0
        ],
        [
         "Unknown",
         "Unknown product",
         "Central",
         "2023-10-05",
         155.32,
         3.0
        ],
        [
         "Unknown",
         "Unknown product",
         "South",
         "2022-06-11",
         174.8,
         7.0
        ],
        [
         "Clothing",
         "Shirt",
         "east",
         "2022-02-24",
         35.88,
         2.0
        ],
        [
         "Home Decor",
         "Curtain",
         "Central",
         "2023-01-26",
         312.41,
         1.0
        ],
        [
         "Sports",
         "Football",
         "East",
         "2022-11-09",
         72.08,
         8.0
        ],
        [
         "Books",
         "Comics",
         "North",
         "2023-03-19",
         228.03,
         8.0
        ],
        [
         "Sports",
         "Yoga Mat",
         "Central",
         "2022-02-23",
         136.6,
         5.0
        ],
        [
         "Electronics",
         "Headphones",
         "Central",
         "2023-08-02",
         null,
         3.0
        ],
        [
         "Clothing",
         "Jacket",
         "South",
         "2023-09-01",
         256.2,
         8.0
        ],
        [
         "Unknown",
         "Unknown product",
         "east",
         "2023-02-22",
         392.92,
         8.0
        ],
        [
         "Clothing",
         "Jeans",
         "North",
         "2022-03-19",
         281.76,
         4.0
        ],
        [
         "Home Decor",
         "Cushion",
         "East",
         "2023-05-15",
         317.45,
         5.0
        ],
        [
         "Sports",
         "Yoga Mat",
         "West",
         "2022-01-07",
         298.28,
         1.0
        ],
        [
         "Books",
         "Non-Fiction",
         "east",
         "2022-05-31",
         416.47,
         3.0
        ],
        [
         "Clothing",
         "Jacket",
         "North",
         "2023-07-02",
         null,
         2.0
        ],
        [
         "Books",
         "Fiction",
         "South",
         "2023-05-29",
         450.84,
         5.0
        ],
        [
         "Clothing",
         "Jacket",
         "east",
         "2023-06-07",
         92.68,
         2.0
        ],
        [
         "Clothing",
         "Shirt",
         "North",
         "2023-12-08",
         274.66,
         4.0
        ],
        [
         "Sports",
         "Yoga Mat",
         "West",
         "2022-09-18",
         139.86,
         9.0
        ],
        [
         "Unknown",
         "Unknown product",
         "West",
         "2022-08-14",
         423.59,
         3.0
        ],
        [
         "Clothing",
         "Jeans",
         "Central",
         "2023-05-15",
         486.0,
         8.0
        ],
        [
         "Home Decor",
         "Lamp",
         "east",
         "2023-08-16",
         427.66,
         8.0
        ],
        [
         "Electronics",
         "Unknown product",
         "West",
         "2022-02-28",
         442.0,
         1.0
        ],
        [
         "Sports",
         "Football",
         "South",
         "2022-04-25",
         231.85,
         9.0
        ],
        [
         "Clothing",
         "Shirt",
         "Central",
         "2023-07-06",
         334.37,
         9.0
        ],
        [
         "Books",
         "Non-Fiction",
         "South",
         "2022-12-25",
         69.91,
         6.0
        ],
        [
         "Electronics",
         "Laptop",
         "South",
         "2022-08-23",
         181.94,
         2.0
        ],
        [
         "Sports",
         "Tennis Racket",
         "east",
         "2023-12-28",
         null,
         5.0
        ],
        [
         "Clothing",
         "Jeans",
         "North",
         "2022-03-16",
         402.42,
         5.0
        ],
        [
         "Electronics",
         "Laptop",
         "South",
         "2022-02-11",
         267.08,
         6.0
        ],
        [
         "Electronics",
         "Unknown product",
         "North",
         "2022-02-03",
         254.8,
         9.0
        ],
        [
         "Electronics",
         "Mobile",
         "Central",
         "2023-01-13",
         346.11,
         5.0
        ],
        [
         "Home Decor",
         "Curtain",
         "Central",
         "2022-12-08",
         null,
         5.0
        ],
        [
         "Sports",
         "Football",
         "East",
         "2022-01-27",
         445.01,
         6.0
        ],
        [
         "Clothing",
         "Jacket",
         "North",
         "2022-06-17",
         87.9,
         9.0
        ],
        [
         "Sports",
         "Football",
         "West",
         "2023-03-31",
         265.31,
         1.0
        ],
        [
         "Home Decor",
         "Lamp",
         "South",
         "2023-04-21",
         374.0,
         2.0
        ],
        [
         "Sports",
         "Football",
         "North",
         "2022-12-29",
         51.4,
         5.0
        ],
        [
         "Clothing",
         "Shirt",
         "East",
         "2022-10-19",
         374.04,
         5.0
        ],
        [
         "Home Decor",
         "Curtain",
         "Central",
         "2022-10-23",
         190.46,
         4.0
        ],
        [
         "Electronics",
         "Unknown product",
         "West",
         "2022-04-23",
         346.84,
         8.0
        ],
        [
         "Electronics",
         "Mobile",
         "east",
         "2022-08-15",
         472.12,
         7.0
        ],
        [
         "Clothing",
         "Shirt",
         "East",
         "2023-09-15",
         474.75,
         6.0
        ],
        [
         "Books",
         "Fiction",
         "Central",
         "2022-03-10",
         216.07,
         4.0
        ],
        [
         "Unknown",
         "Unknown product",
         "South",
         "2022-05-28",
         39.11,
         4.0
        ],
        [
         "Books",
         "Fiction",
         "South",
         "2023-05-06",
         415.52,
         2.0
        ],
        [
         "Home Decor",
         "Cushion",
         "Central",
         "2022-07-20",
         374.0,
         5.0
        ],
        [
         "Electronics",
         "Laptop",
         "east",
         "2023-05-16",
         139.41,
         8.0
        ],
        [
         "Clothing",
         "Shirt",
         "West",
         "2022-01-17",
         177.04,
         8.0
        ],
        [
         "Unknown",
         "Unknown product",
         "North",
         "2022-02-11",
         null,
         9.0
        ],
        [
         "Clothing",
         "Jeans",
         "North",
         "2023-04-23",
         -47.11,
         3.0
        ],
        [
         "Sports",
         "Tennis Racket",
         "West",
         "2023-09-05",
         0.37,
         1.0
        ],
        [
         "Sports",
         "Yoga Mat",
         "East",
         "2022-01-17",
         472.63,
         7.0
        ],
        [
         "Electronics",
         "Laptop",
         "east",
         "2023-05-12",
         51.82,
         8.0
        ],
        [
         "Books",
         "Comics",
         "South",
         "2022-12-05",
         352.72,
         5.0
        ],
        [
         "Home Decor",
         "Curtain",
         "East",
         "2022-03-22",
         312.33,
         5.0
        ],
        [
         "Electronics",
         "Laptop",
         "South",
         "2023-01-09",
         300.48,
         8.0
        ],
        [
         "Unknown",
         "Unknown product",
         "east",
         "2023-06-21",
         446.85,
         5.0
        ],
        [
         "Clothing",
         "Jacket",
         "North",
         "2022-09-25",
         71.67,
         9.0
        ],
        [
         "Books",
         "Comics",
         "South",
         "2023-06-22",
         -28.32,
         7.0
        ],
        [
         "Books",
         "Comics",
         "North",
         "2023-02-05",
         49.32,
         5.0
        ],
        [
         "Home Decor",
         "Curtain",
         "West",
         "2022-12-01",
         333.58,
         9.0
        ],
        [
         "Clothing",
         "Jeans",
         "South",
         "2023-11-19",
         13.41,
         7.0
        ],
        [
         "Unknown",
         "Unknown product",
         "South",
         "2023-04-22",
         210.82,
         4.0
        ],
        [
         "Books",
         "Fiction",
         "North",
         "2023-02-06",
         237.34,
         7.0
        ],
        [
         "Clothing",
         "Jacket",
         "East",
         "2022-09-30",
         307.59,
         8.0
        ],
        [
         "Electronics",
         "Laptop",
         "East",
         "2023-09-12",
         16.31,
         2.0
        ],
        [
         "Home Decor",
         "Curtain",
         "East",
         "2022-05-11",
         332.96,
         8.0
        ],
        [
         "Sports",
         "Yoga Mat",
         "South",
         "2022-07-02",
         172.47,
         7.0
        ],
        [
         "Clothing",
         "Jacket",
         "West",
         "2023-06-11",
         392.19,
         4.0
        ],
        [
         "Books",
         "Non-Fiction",
         "West",
         "2022-12-15",
         313.91,
         2.0
        ],
        [
         "Home Decor",
         "Curtain",
         "Central",
         "2022-06-10",
         437.29,
         2.0
        ],
        [
         "Electronics",
         "Unknown product",
         "Central",
         "2022-11-07",
         204.07,
         2.0
        ],
        [
         "Books",
         "Non-Fiction",
         "east",
         "2023-02-18",
         -49.87,
         2.0
        ],
        [
         "Books",
         "Comics",
         "South",
         "2023-02-20",
         null,
         3.0
        ],
        [
         "Unknown",
         "Unknown product",
         "Central",
         "2022-02-08",
         -44.78,
         1.0
        ],
        [
         "Clothing",
         "Jacket",
         "North",
         "2023-04-22",
         -29.32,
         9.0
        ],
        [
         "Unknown",
         "Unknown product",
         "West",
         "2022-09-29",
         null,
         8.0
        ],
        [
         "Clothing",
         "Jeans",
         "North",
         "2022-08-27",
         169.06,
         9.0
        ],
        [
         "Clothing",
         "Jacket",
         "South",
         "2022-12-25",
         237.39,
         1.0
        ],
        [
         "Electronics",
         "Laptop",
         "South",
         "2023-11-20",
         10.76,
         8.0
        ],
        [
         "Unknown",
         "Unknown product",
         "South",
         "2023-11-01",
         419.05,
         2.0
        ],
        [
         "Sports",
         "Tennis Racket",
         "South",
         "2022-10-20",
         -26.85,
         1.0
        ],
        [
         "Books",
         "Non-Fiction",
         "West",
         "2023-08-08",
         10.21,
         9.0
        ],
        [
         "Unknown",
         "Unknown product",
         "East",
         "2022-12-10",
         18.44,
         5.0
        ],
        [
         "Unknown",
         "Unknown product",
         "North",
         "2022-03-02",
         92.44,
         6.0
        ],
        [
         "Electronics",
         "Headphones",
         "east",
         "2023-03-16",
         436.31,
         8.0
        ],
        [
         "Sports",
         "Yoga Mat",
         "West",
         "2022-01-11",
         447.05,
         2.0
        ],
        [
         "Clothing",
         "Shirt",
         "East",
         "2022-06-02",
         358.84,
         4.0
        ],
        [
         "Unknown",
         "Unknown product",
         "North",
         "2023-07-25",
         170.87,
         6.0
        ],
        [
         "Electronics",
         "Unknown product",
         "South",
         "2022-08-31",
         null,
         2.0
        ],
        [
         "Sports",
         "Yoga Mat",
         "North",
         "2022-08-06",
         -29.8,
         3.0
        ],
        [
         "Books",
         "Fiction",
         "east",
         "2023-06-01",
         -18.19,
         7.0
        ],
        [
         "Electronics",
         "Mobile",
         "Central",
         "2023-11-20",
         235.04,
         4.0
        ],
        [
         "Electronics",
         "Unknown product",
         "East",
         "2023-07-27",
         93.13,
         3.0
        ],
        [
         "Sports",
         "Tennis Racket",
         "Central",
         "2023-11-21",
         220.15,
         1.0
        ],
        [
         "Books",
         "Fiction",
         "Central",
         "2022-08-04",
         443.59,
         3.0
        ],
        [
         "Unknown",
         "Unknown product",
         "east",
         "2022-04-30",
         361.33,
         9.0
        ],
        [
         "Sports",
         "Tennis Racket",
         "east",
         "2022-11-25",
         442.21,
         5.0
        ],
        [
         "Unknown",
         "Unknown product",
         "Central",
         "2023-09-02",
         201.59,
         8.0
        ],
        [
         "Sports",
         "Tennis Racket",
         "east",
         "2022-11-19",
         100.13,
         9.0
        ],
        [
         "Books",
         "Non-Fiction",
         "West",
         "2022-07-14",
         475.61,
         9.0
        ],
        [
         "Books",
         "Comics",
         "South",
         "2023-04-08",
         310.38,
         5.0
        ],
        [
         "Unknown",
         "Unknown product",
         "South",
         "2023-01-30",
         -2.16,
         8.0
        ],
        [
         "Clothing",
         "Shirt",
         "east",
         "2022-05-04",
         154.98,
         8.0
        ],
        [
         "Unknown",
         "Unknown product",
         "South",
         "2022-09-08",
         347.88,
         2.0
        ],
        [
         "Home Decor",
         "Curtain",
         "South",
         "2023-03-30",
         479.17,
         5.0
        ],
        [
         "Home Decor",
         "Curtain",
         "East",
         "2023-08-16",
         -16.17,
         3.0
        ],
        [
         "Unknown",
         "Unknown product",
         "North",
         "2023-11-29",
         264.23,
         8.0
        ],
        [
         "Clothing",
         "Jacket",
         "Central",
         "2022-02-09",
         261.15,
         1.0
        ],
        [
         "Home Decor",
         "Curtain",
         "Central",
         "2022-09-19",
         236.69,
         8.0
        ],
        [
         "Clothing",
         "Jacket",
         "West",
         "2022-04-02",
         417.82,
         9.0
        ],
        [
         "Books",
         "Comics",
         "West",
         "2022-12-29",
         81.28,
         5.0
        ],
        [
         "Clothing",
         "Shirt",
         "North",
         "2022-06-19",
         8.21,
         6.0
        ],
        [
         "Books",
         "Comics",
         "North",
         "2023-12-01",
         37.23,
         9.0
        ],
        [
         "Sports",
         "Tennis Racket",
         "North",
         "2022-01-31",
         404.2,
         5.0
        ],
        [
         "Unknown",
         "Unknown product",
         "South",
         "2023-11-01",
         449.79,
         2.0
        ],
        [
         "Sports",
         "Yoga Mat",
         "South",
         "2022-12-22",
         null,
         2.0
        ],
        [
         "Clothing",
         "Shirt",
         "South",
         "2023-12-19",
         366.15,
         7.0
        ],
        [
         "Books",
         "Fiction",
         "east",
         "2022-08-12",
         -3.75,
         1.0
        ],
        [
         "Unknown",
         "Unknown product",
         "West",
         "2022-08-21",
         297.5,
         2.0
        ],
        [
         "Clothing",
         "Shirt",
         "East",
         "2023-12-01",
         -45.01,
         3.0
        ],
        [
         "Books",
         "Comics",
         "North",
         "2022-11-22",
         105.84,
         7.0
        ],
        [
         "Clothing",
         "Shirt",
         "South",
         "2023-08-09",
         187.73,
         2.0
        ],
        [
         "Electronics",
         "Unknown product",
         "West",
         "2023-02-16",
         297.94,
         5.0
        ],
        [
         "Books",
         "Non-Fiction",
         "West",
         "2022-10-05",
         465.48,
         4.0
        ],
        [
         "Books",
         "Fiction",
         "North",
         "2022-08-30",
         471.01,
         1.0
        ],
        [
         "Books",
         "Fiction",
         "Central",
         "2023-06-08",
         -12.96,
         6.0
        ],
        [
         "Books",
         "Non-Fiction",
         "South",
         "2023-12-06",
         -18.14,
         8.0
        ],
        [
         "Sports",
         "Football",
         "South",
         "2022-07-29",
         429.35,
         4.0
        ],
        [
         "Clothing",
         "Jacket",
         "North",
         "2022-08-15",
         276.92,
         7.0
        ],
        [
         "Clothing",
         "Shirt",
         "East",
         "2022-01-29",
         -37.83,
         6.0
        ],
        [
         "Electronics",
         "Laptop",
         "Central",
         "2022-03-20",
         400.33,
         7.0
        ],
        [
         "Clothing",
         "Jeans",
         "West",
         "2023-06-22",
         37.42,
         2.0
        ],
        [
         "Electronics",
         "Mobile",
         "West",
         "2022-10-12",
         469.37,
         3.0
        ],
        [
         "Unknown",
         "Unknown product",
         "east",
         "2022-09-28",
         387.15,
         4.0
        ],
        [
         "Unknown",
         "Unknown product",
         "Central",
         "2022-05-10",
         375.05,
         4.0
        ],
        [
         "Sports",
         "Football",
         "North",
         "2022-01-22",
         22.23,
         3.0
        ],
        [
         "Electronics",
         "Unknown product",
         "East",
         "2023-01-17",
         33.08,
         5.0
        ],
        [
         "Books",
         "Non-Fiction",
         "East",
         "2022-10-30",
         null,
         5.0
        ],
        [
         "Home Decor",
         "Curtain",
         "West",
         "2022-03-25",
         null,
         6.0
        ],
        [
         "Home Decor",
         "Cushion",
         "West",
         "2023-10-21",
         100.82,
         3.0
        ],
        [
         "Unknown",
         "Unknown product",
         "Central",
         "2023-05-22",
         175.13,
         6.0
        ],
        [
         "Unknown",
         "Unknown product",
         "Central",
         "2023-06-11",
         360.21,
         3.0
        ],
        [
         "Unknown",
         "Unknown product",
         "east",
         "2023-06-08",
         259.51,
         8.0
        ],
        [
         "Sports",
         "Football",
         "West",
         "2022-03-01",
         52.04,
         1.0
        ],
        [
         "Books",
         "Non-Fiction",
         "Central",
         "2023-08-14",
         199.53,
         2.0
        ],
        [
         "Home Decor",
         "Cushion",
         "east",
         "2022-07-18",
         294.42,
         5.0
        ],
        [
         "Unknown",
         "Unknown product",
         "east",
         "2023-06-20",
         null,
         3.0
        ],
        [
         "Books",
         "Non-Fiction",
         "Central",
         "2023-07-12",
         204.15,
         7.0
        ],
        [
         "Unknown",
         "Unknown product",
         "east",
         "2022-09-30",
         284.02,
         4.0
        ],
        [
         "Unknown",
         "Unknown product",
         "North",
         "2023-06-05",
         60.29,
         9.0
        ],
        [
         "Clothing",
         "Jeans",
         "east",
         "2023-12-27",
         270.08,
         5.0
        ],
        [
         "Unknown",
         "Unknown product",
         "east",
         "2023-01-21",
         388.66,
         1.0
        ],
        [
         "Home Decor",
         "Curtain",
         "East",
         "2022-03-13",
         205.53,
         2.0
        ],
        [
         "Sports",
         "Tennis Racket",
         "East",
         "2023-01-01",
         486.08,
         6.0
        ],
        [
         "Clothing",
         "Jacket",
         "South",
         "2023-06-28",
         311.34,
         9.0
        ],
        [
         "Clothing",
         "Shirt",
         "South",
         "2022-04-12",
         449.3,
         6.0
        ],
        [
         "Electronics",
         "Headphones",
         "east",
         "2023-11-22",
         7.71,
         1.0
        ],
        [
         "Electronics",
         "Unknown product",
         "east",
         "2023-08-11",
         null,
         9.0
        ],
        [
         "Unknown",
         "Unknown product",
         "East",
         "2022-02-15",
         28.37,
         5.0
        ],
        [
         "Clothing",
         "Jeans",
         "West",
         "2023-08-15",
         215.3,
         4.0
        ],
        [
         "Sports",
         "Football",
         "North",
         "2023-11-04",
         257.81,
         5.0
        ],
        [
         "Home Decor",
         "Cushion",
         "east",
         "2022-08-30",
         129.55,
         2.0
        ],
        [
         "Books",
         "Comics",
         "East",
         "2022-08-13",
         -1.67,
         1.0
        ],
        [
         "Unknown",
         "Unknown product",
         "West",
         "2023-08-12",
         -6.78,
         6.0
        ],
        [
         "Sports",
         "Tennis Racket",
         "West",
         "2022-04-13",
         22.99,
         7.0
        ],
        [
         "Unknown",
         "Unknown product",
         "east",
         "2022-03-31",
         null,
         2.0
        ],
        [
         "Clothing",
         "Shirt",
         "east",
         "2022-05-23",
         60.08,
         7.0
        ],
        [
         "Electronics",
         "Headphones",
         "Central",
         "2023-03-04",
         7.51,
         3.0
        ],
        [
         "Home Decor",
         "Lamp",
         "North",
         "2023-09-27",
         -32.63,
         6.0
        ],
        [
         "Home Decor",
         "Lamp",
         "Central",
         "2022-03-14",
         -21.42,
         9.0
        ],
        [
         "Home Decor",
         "Lamp",
         "South",
         "2023-01-05",
         464.36,
         8.0
        ],
        [
         "Unknown",
         "Unknown product",
         "east",
         "2023-11-21",
         293.92,
         4.0
        ],
        [
         "Sports",
         "Yoga Mat",
         "East",
         "2022-11-14",
         null,
         7.0
        ],
        [
         "Electronics",
         "Laptop",
         "North",
         "2023-01-25",
         399.51,
         3.0
        ],
        [
         "Electronics",
         "Unknown product",
         "West",
         "2022-01-12",
         85.91,
         9.0
        ],
        [
         "Home Decor",
         "Lamp",
         "South",
         "2022-10-28",
         288.66,
         3.0
        ],
        [
         "Electronics",
         "Mobile",
         "east",
         "2023-11-16",
         50.16,
         7.0
        ],
        [
         "Sports",
         "Football",
         "Central",
         "2022-11-05",
         312.29,
         3.0
        ],
        [
         "Home Decor",
         "Cushion",
         "Central",
         "2023-08-17",
         -38.53,
         3.0
        ],
        [
         "Sports",
         "Yoga Mat",
         "South",
         "2023-10-24",
         132.77,
         8.0
        ],
        [
         "Unknown",
         "Unknown product",
         "North",
         "2022-02-28",
         307.68,
         3.0
        ],
        [
         "Books",
         "Fiction",
         "Central",
         "2022-02-04",
         71.31,
         6.0
        ],
        [
         "Electronics",
         "Headphones",
         "South",
         "2022-07-26",
         91.73,
         1.0
        ],
        [
         "Books",
         "Non-Fiction",
         "east",
         "2023-12-26",
         349.94,
         8.0
        ],
        [
         "Clothing",
         "Shirt",
         "South",
         "2023-02-08",
         295.82,
         4.0
        ],
        [
         "Unknown",
         "Unknown product",
         "east",
         "2022-06-01",
         248.82,
         3.0
        ],
        [
         "Books",
         "Fiction",
         "West",
         "2023-08-31",
         273.43,
         5.0
        ],
        [
         "Books",
         "Non-Fiction",
         "Central",
         "2023-05-27",
         283.4,
         2.0
        ],
        [
         "Books",
         "Non-Fiction",
         "East",
         "2022-10-22",
         102.26,
         3.0
        ],
        [
         "Clothing",
         "Jeans",
         "South",
         "2022-07-05",
         451.8,
         3.0
        ],
        [
         "Home Decor",
         "Curtain",
         "Central",
         "2023-07-06",
         409.8,
         1.0
        ],
        [
         "Sports",
         "Tennis Racket",
         "East",
         "2023-06-04",
         172.92,
         7.0
        ],
        [
         "Books",
         "Non-Fiction",
         "Central",
         "2022-10-25",
         80.65,
         2.0
        ],
        [
         "Sports",
         "Yoga Mat",
         "east",
         "2023-01-10",
         177.17,
         6.0
        ],
        [
         "Electronics",
         "Laptop",
         "Central",
         "2023-07-07",
         85.98,
         8.0
        ],
        [
         "Electronics",
         "Headphones",
         "South",
         "2022-08-19",
         147.58,
         2.0
        ],
        [
         "Home Decor",
         "Curtain",
         "East",
         "2022-05-25",
         165.09,
         9.0
        ],
        [
         "Clothing",
         "Jacket",
         "West",
         "2022-01-28",
         91.97,
         5.0
        ],
        [
         "Unknown",
         "Unknown product",
         "North",
         "2022-09-18",
         128.85,
         8.0
        ],
        [
         "Books",
         "Comics",
         "Central",
         "2023-04-05",
         21.98,
         5.0
        ],
        [
         "Clothing",
         "Jeans",
         "East",
         "2022-10-28",
         80.37,
         3.0
        ],
        [
         "Sports",
         "Football",
         "West",
         "2023-09-22",
         43.37,
         9.0
        ],
        [
         "Home Decor",
         "Curtain",
         "East",
         "2022-09-14",
         197.19,
         8.0
        ],
        [
         "Unknown",
         "Unknown product",
         "North",
         "2023-11-14",
         471.72,
         9.0
        ],
        [
         "Electronics",
         "Headphones",
         "North",
         "2023-07-30",
         null,
         6.0
        ],
        [
         "Electronics",
         "Mobile",
         "North",
         "2022-10-11",
         -29.83,
         5.0
        ],
        [
         "Sports",
         "Football",
         "West",
         "2023-11-18",
         315.09,
         5.0
        ],
        [
         "Sports",
         "Tennis Racket",
         "North",
         "2022-11-01",
         414.29,
         8.0
        ],
        [
         "Home Decor",
         "Curtain",
         "east",
         "2022-06-05",
         425.32,
         6.0
        ],
        [
         "Unknown",
         "Unknown product",
         "Central",
         "2023-09-12",
         246.95,
         4.0
        ],
        [
         "Sports",
         "Tennis Racket",
         "east",
         "2022-11-30",
         null,
         2.0
        ],
        [
         "Books",
         "Non-Fiction",
         "North",
         "2023-05-26",
         77.12,
         1.0
        ],
        [
         "Home Decor",
         "Curtain",
         "North",
         "2022-04-29",
         73.59,
         5.0
        ],
        [
         "Sports",
         "Football",
         "South",
         "2022-02-28",
         123.89,
         1.0
        ],
        [
         "Clothing",
         "Shirt",
         "east",
         "2023-11-22",
         -27.13,
         4.0
        ],
        [
         "Electronics",
         "Mobile",
         "east",
         "2023-11-24",
         213.94,
         2.0
        ],
        [
         "Clothing",
         "Shirt",
         "South",
         "2022-08-05",
         301.52,
         9.0
        ],
        [
         "Sports",
         "Tennis Racket",
         "West",
         "2022-02-08",
         200.11,
         2.0
        ],
        [
         "Books",
         "Non-Fiction",
         "West",
         "2023-03-04",
         242.73,
         7.0
        ],
        [
         "Electronics",
         "Mobile",
         "North",
         "2023-01-19",
         22.99,
         4.0
        ],
        [
         "Unknown",
         "Unknown product",
         "South",
         "2022-12-02",
         466.9,
         7.0
        ],
        [
         "Electronics",
         "Mobile",
         "North",
         "2022-01-08",
         483.45,
         1.0
        ],
        [
         "Clothing",
         "Jeans",
         "South",
         "2023-10-31",
         194.06,
         5.0
        ],
        [
         "Sports",
         "Yoga Mat",
         "east",
         "2023-05-10",
         47.43,
         2.0
        ],
        [
         "Electronics",
         "Laptop",
         "east",
         "2022-07-12",
         410.96,
         2.0
        ],
        [
         "Sports",
         "Tennis Racket",
         "West",
         "2022-05-25",
         406.98,
         8.0
        ],
        [
         "Electronics",
         "Laptop",
         "east",
         "2023-08-11",
         12.21,
         9.0
        ],
        [
         "Sports",
         "Tennis Racket",
         "Central",
         "2022-01-01",
         68.62,
         5.0
        ],
        [
         "Unknown",
         "Unknown product",
         "West",
         "2022-10-31",
         308.18,
         2.0
        ],
        [
         "Books",
         "Non-Fiction",
         "West",
         "2023-12-05",
         -23.48,
         9.0
        ],
        [
         "Home Decor",
         "Curtain",
         "North",
         "2022-06-10",
         173.8,
         9.0
        ],
        [
         "Clothing",
         "Jacket",
         "North",
         "2023-08-12",
         108.78,
         4.0
        ],
        [
         "Unknown",
         "Unknown product",
         "Central",
         "2022-04-12",
         129.87,
         6.0
        ],
        [
         "Books",
         "Fiction",
         "South",
         "2022-01-19",
         394.32,
         2.0
        ],
        [
         "Home Decor",
         "Lamp",
         "South",
         "2023-02-01",
         388.8,
         3.0
        ],
        [
         "Home Decor",
         "Cushion",
         "Central",
         "2022-12-31",
         399.81,
         8.0
        ],
        [
         "Sports",
         "Football",
         "South",
         "2023-03-31",
         null,
         9.0
        ],
        [
         "Clothing",
         "Jeans",
         "North",
         "2023-12-26",
         128.52,
         7.0
        ],
        [
         "Books",
         "Fiction",
         "Central",
         "2022-05-23",
         332.51,
         9.0
        ],
        [
         "Books",
         "Non-Fiction",
         "East",
         "2023-02-21",
         null,
         1.0
        ],
        [
         "Clothing",
         "Jacket",
         "North",
         "2023-05-12",
         null,
         3.0
        ],
        [
         "Electronics",
         "Mobile",
         "Central",
         "2022-04-12",
         null,
         3.0
        ],
        [
         "Sports",
         "Yoga Mat",
         "West",
         "2023-09-14",
         303.42,
         2.0
        ],
        [
         "Unknown",
         "Unknown product",
         "east",
         "2022-03-26",
         424.83,
         2.0
        ],
        [
         "Electronics",
         "Unknown product",
         "South",
         "2023-03-30",
         null,
         5.0
        ],
        [
         "Electronics",
         "Unknown product",
         "Central",
         "2022-08-09",
         137.69,
         5.0
        ],
        [
         "Unknown",
         "Unknown product",
         "North",
         "2022-10-31",
         269.09,
         4.0
        ],
        [
         "Home Decor",
         "Curtain",
         "South",
         "2022-02-12",
         370.69,
         6.0
        ],
        [
         "Electronics",
         "Unknown product",
         "North",
         "2023-05-13",
         343.52,
         5.0
        ],
        [
         "Unknown",
         "Unknown product",
         "South",
         "2023-02-11",
         186.97,
         5.0
        ],
        [
         "Sports",
         "Tennis Racket",
         "east",
         "2022-12-02",
         306.11,
         9.0
        ],
        [
         "Sports",
         "Tennis Racket",
         "South",
         "2023-12-16",
         159.04,
         4.0
        ],
        [
         "Books",
         "Fiction",
         "east",
         "2022-05-21",
         143.39,
         2.0
        ],
        [
         "Unknown",
         "Unknown product",
         "East",
         "2022-11-30",
         217.23,
         5.0
        ],
        [
         "Unknown",
         "Unknown product",
         "east",
         "2023-07-18",
         318.55,
         3.0
        ],
        [
         "Sports",
         "Yoga Mat",
         "east",
         "2023-10-10",
         121.22,
         4.0
        ],
        [
         "Sports",
         "Football",
         "South",
         "2023-11-01",
         343.88,
         1.0
        ],
        [
         "Home Decor",
         "Curtain",
         "South",
         "2023-08-12",
         177.45,
         9.0
        ],
        [
         "Home Decor",
         "Lamp",
         "East",
         "2022-12-16",
         null,
         7.0
        ],
        [
         "Electronics",
         "Headphones",
         "Central",
         "2022-12-17",
         422.68,
         7.0
        ],
        [
         "Home Decor",
         "Cushion",
         "Central",
         "2022-06-08",
         339.98,
         8.0
        ],
        [
         "Unknown",
         "Unknown product",
         "South",
         "2022-08-29",
         null,
         8.0
        ],
        [
         "Electronics",
         "Mobile",
         "Central",
         "2022-02-05",
         183.49,
         6.0
        ],
        [
         "Clothing",
         "Jeans",
         "North",
         "2023-01-20",
         155.43,
         7.0
        ],
        [
         "Books",
         "Comics",
         "east",
         "2022-04-28",
         233.35,
         9.0
        ],
        [
         "Sports",
         "Football",
         "West",
         "2022-01-26",
         66.62,
         8.0
        ],
        [
         "Books",
         "Comics",
         "West",
         "2023-01-13",
         148.42,
         5.0
        ],
        [
         "Books",
         "Comics",
         "South",
         "2023-11-13",
         445.01,
         1.0
        ],
        [
         "Books",
         "Non-Fiction",
         "east",
         "2022-06-03",
         null,
         5.0
        ],
        [
         "Clothing",
         "Shirt",
         "West",
         "2023-08-03",
         101.14,
         3.0
        ],
        [
         "Electronics",
         "Headphones",
         "East",
         "2023-09-04",
         183.06,
         9.0
        ],
        [
         "Electronics",
         "Headphones",
         "Central",
         "2022-05-26",
         371.66,
         1.0
        ],
        [
         "Home Decor",
         "Lamp",
         "Central",
         "2023-03-15",
         272.63,
         1.0
        ],
        [
         "Sports",
         "Football",
         "South",
         "2023-04-28",
         428.09,
         1.0
        ],
        [
         "Electronics",
         "Laptop",
         "east",
         "2023-09-23",
         244.45,
         6.0
        ],
        [
         "Books",
         "Non-Fiction",
         "West",
         "2023-03-08",
         121.75,
         3.0
        ],
        [
         "Electronics",
         "Headphones",
         "South",
         "2023-03-31",
         250.68,
         5.0
        ],
        [
         "Home Decor",
         "Curtain",
         "Central",
         "2023-10-12",
         91.29,
         9.0
        ],
        [
         "Clothing",
         "Jacket",
         "Central",
         "2022-09-11",
         27.98,
         3.0
        ],
        [
         "Home Decor",
         "Lamp",
         "east",
         "2022-09-20",
         332.33,
         3.0
        ],
        [
         "Electronics",
         "Mobile",
         "east",
         "2023-07-08",
         185.51,
         7.0
        ],
        [
         "Unknown",
         "Unknown product",
         "North",
         "2023-04-04",
         495.19,
         3.0
        ],
        [
         "Home Decor",
         "Curtain",
         "South",
         "2023-08-03",
         348.39,
         7.0
        ],
        [
         "Home Decor",
         "Lamp",
         "East",
         "2023-09-13",
         null,
         4.0
        ],
        [
         "Sports",
         "Yoga Mat",
         "east",
         "2022-12-19",
         277.66,
         9.0
        ],
        [
         "Books",
         "Comics",
         "South",
         "2023-10-10",
         151.83,
         6.0
        ],
        [
         "Unknown",
         "Unknown product",
         "Central",
         "2023-03-01",
         null,
         7.0
        ],
        [
         "Books",
         "Comics",
         "West",
         "2023-12-09",
         193.33,
         2.0
        ],
        [
         "Electronics",
         "Mobile",
         "West",
         "2023-06-01",
         -11.54,
         5.0
        ],
        [
         "Books",
         "Fiction",
         "east",
         "2022-08-18",
         276.05,
         3.0
        ],
        [
         "Home Decor",
         "Cushion",
         "South",
         "2023-01-16",
         201.27,
         6.0
        ],
        [
         "Home Decor",
         "Curtain",
         "North",
         "2022-05-10",
         496.78,
         2.0
        ],
        [
         "Electronics",
         "Mobile",
         "East",
         "2023-09-06",
         256.78,
         2.0
        ],
        [
         "Home Decor",
         "Curtain",
         "South",
         "2023-04-16",
         205.86,
         8.0
        ],
        [
         "Electronics",
         "Unknown product",
         "North",
         "2023-10-24",
         259.26,
         4.0
        ],
        [
         "Sports",
         "Yoga Mat",
         "West",
         "2023-03-29",
         null,
         9.0
        ],
        [
         "Clothing",
         "Jeans",
         "east",
         "2022-11-07",
         244.71,
         9.0
        ],
        [
         "Sports",
         "Football",
         "North",
         "2022-02-24",
         null,
         1.0
        ],
        [
         "Electronics",
         "Unknown product",
         "West",
         "2023-02-04",
         315.7,
         4.0
        ],
        [
         "Electronics",
         "Unknown product",
         "East",
         "2023-05-30",
         459.95,
         7.0
        ],
        [
         "Sports",
         "Yoga Mat",
         "east",
         "2022-12-14",
         485.79,
         6.0
        ],
        [
         "Clothing",
         "Shirt",
         "Central",
         "2023-06-01",
         355.45,
         8.0
        ],
        [
         "Books",
         "Comics",
         "West",
         "2022-10-13",
         236.53,
         6.0
        ],
        [
         "Clothing",
         "Shirt",
         "east",
         "2023-02-10",
         -0.98,
         7.0
        ],
        [
         "Home Decor",
         "Curtain",
         "East",
         "2022-06-10",
         284.67,
         6.0
        ],
        [
         "Sports",
         "Tennis Racket",
         "South",
         "2023-05-15",
         339.81,
         4.0
        ],
        [
         "Unknown",
         "Unknown product",
         "East",
         "2023-04-26",
         75.05,
         2.0
        ],
        [
         "Home Decor",
         "Curtain",
         "East",
         "2022-12-27",
         -1.8,
         9.0
        ],
        [
         "Books",
         "Comics",
         "east",
         "2023-03-25",
         118.04,
         4.0
        ],
        [
         "Books",
         "Fiction",
         "east",
         "2023-12-03",
         195.96,
         4.0
        ],
        [
         "Books",
         "Fiction",
         "West",
         "2023-04-11",
         233.62,
         3.0
        ],
        [
         "Sports",
         "Tennis Racket",
         "South",
         "2023-02-10",
         223.33,
         6.0
        ],
        [
         "Clothing",
         "Shirt",
         "West",
         "2022-11-12",
         418.28,
         1.0
        ],
        [
         "Sports",
         "Football",
         "North",
         "2022-02-11",
         246.85,
         3.0
        ],
        [
         "Books",
         "Non-Fiction",
         "east",
         "2022-03-08",
         null,
         7.0
        ],
        [
         "Home Decor",
         "Curtain",
         "Central",
         "2023-06-10",
         -5.49,
         5.0
        ],
        [
         "Home Decor",
         "Cushion",
         "East",
         "2023-11-06",
         45.44,
         2.0
        ],
        [
         "Unknown",
         "Unknown product",
         "South",
         "2023-04-11",
         476.53,
         2.0
        ],
        [
         "Sports",
         "Tennis Racket",
         "North",
         "2022-09-23",
         402.36,
         9.0
        ],
        [
         "Books",
         "Fiction",
         "North",
         "2022-09-10",
         424.11,
         4.0
        ],
        [
         "Unknown",
         "Unknown product",
         "east",
         "2022-04-20",
         444.04,
         4.0
        ],
        [
         "Unknown",
         "Unknown product",
         "South",
         "2023-04-28",
         169.26,
         9.0
        ],
        [
         "Books",
         "Comics",
         "South",
         "2023-10-15",
         null,
         5.0
        ],
        [
         "Unknown",
         "Unknown product",
         "east",
         "2023-04-27",
         -12.51,
         2.0
        ],
        [
         "Unknown",
         "Unknown product",
         "East",
         "2023-06-21",
         77.9,
         4.0
        ],
        [
         "Books",
         "Fiction",
         "South",
         "2023-10-20",
         102.76,
         6.0
        ],
        [
         "Sports",
         "Yoga Mat",
         "West",
         "2022-03-01",
         150.64,
         3.0
        ],
        [
         "Clothing",
         "Jeans",
         "East",
         "2023-06-01",
         379.42,
         9.0
        ],
        [
         "Home Decor",
         "Cushion",
         "Central",
         "2023-10-04",
         216.53,
         2.0
        ],
        [
         "Electronics",
         "Headphones",
         "West",
         "2022-09-10",
         290.72,
         9.0
        ],
        [
         "Home Decor",
         "Curtain",
         "North",
         "2022-03-24",
         43.87,
         5.0
        ],
        [
         "Electronics",
         "Mobile",
         "West",
         "2022-11-25",
         380.48,
         3.0
        ],
        [
         "Electronics",
         "Mobile",
         "South",
         "2022-09-20",
         330.69,
         1.0
        ],
        [
         "Electronics",
         "Unknown product",
         "South",
         "2022-09-17",
         null,
         4.0
        ],
        [
         "Unknown",
         "Unknown product",
         "Central",
         "2023-09-07",
         null,
         8.0
        ],
        [
         "Books",
         "Fiction",
         "Central",
         "2022-04-11",
         288.37,
         4.0
        ],
        [
         "Unknown",
         "Unknown product",
         "Central",
         "2022-08-09",
         293.14,
         6.0
        ],
        [
         "Clothing",
         "Jeans",
         "east",
         "2022-08-19",
         348.37,
         5.0
        ],
        [
         "Electronics",
         "Laptop",
         "East",
         "2023-09-20",
         172.64,
         3.0
        ],
        [
         "Clothing",
         "Shirt",
         "Central",
         "2023-06-03",
         239.03,
         6.0
        ],
        [
         "Electronics",
         "Laptop",
         "east",
         "2023-08-21",
         480.1,
         7.0
        ],
        [
         "Sports",
         "Yoga Mat",
         "South",
         "2023-01-21",
         null,
         5.0
        ],
        [
         "Home Decor",
         "Lamp",
         "Central",
         "2022-09-03",
         384.69,
         5.0
        ],
        [
         "Sports",
         "Tennis Racket",
         "east",
         "2023-10-12",
         324.54,
         8.0
        ],
        [
         "Electronics",
         "Mobile",
         "east",
         "2023-02-27",
         290.42,
         5.0
        ],
        [
         "Unknown",
         "Unknown product",
         "east",
         "2022-08-30",
         296.11,
         5.0
        ],
        [
         "Clothing",
         "Shirt",
         "South",
         "2022-12-04",
         -14.46,
         4.0
        ],
        [
         "Electronics",
         "Unknown product",
         "West",
         "2023-04-10",
         10.35,
         5.0
        ],
        [
         "Electronics",
         "Laptop",
         "East",
         "2023-12-01",
         305.35,
         5.0
        ],
        [
         "Home Decor",
         "Cushion",
         "East",
         "2022-11-04",
         96.31,
         5.0
        ],
        [
         "Unknown",
         "Unknown product",
         "East",
         "2023-05-25",
         32.53,
         5.0
        ],
        [
         "Books",
         "Comics",
         "East",
         "2023-07-18",
         83.91,
         2.0
        ],
        [
         "Clothing",
         "Jacket",
         "South",
         "2022-08-15",
         156.74,
         4.0
        ],
        [
         "Electronics",
         "Unknown product",
         "West",
         "2023-02-26",
         165.82,
         1.0
        ],
        [
         "Clothing",
         "Shirt",
         "North",
         "2022-04-15",
         6.18,
         8.0
        ],
        [
         "Sports",
         "Yoga Mat",
         "East",
         "2023-01-28",
         468.56,
         2.0
        ],
        [
         "Electronics",
         "Mobile",
         "North",
         "2023-07-26",
         -7.97,
         1.0
        ],
        [
         "Electronics",
         "Unknown product",
         "East",
         "2022-01-10",
         461.68,
         8.0
        ],
        [
         "Books",
         "Fiction",
         "South",
         "2022-10-11",
         300.46,
         2.0
        ],
        [
         "Sports",
         "Tennis Racket",
         "North",
         "2023-12-27",
         300.17,
         1.0
        ],
        [
         "Home Decor",
         "Cushion",
         "East",
         "2022-06-22",
         null,
         3.0
        ],
        [
         "Sports",
         "Football",
         "West",
         "2023-08-04",
         355.59,
         1.0
        ],
        [
         "Sports",
         "Tennis Racket",
         "West",
         "2022-03-28",
         324.13,
         8.0
        ],
        [
         "Clothing",
         "Jeans",
         "Central",
         "2023-05-20",
         null,
         7.0
        ],
        [
         "Books",
         "Fiction",
         "West",
         "2022-02-12",
         312.47,
         3.0
        ],
        [
         "Sports",
         "Football",
         "East",
         "2023-02-12",
         7.95,
         1.0
        ],
        [
         "Home Decor",
         "Curtain",
         "West",
         "2023-10-07",
         229.72,
         8.0
        ],
        [
         "Sports",
         "Yoga Mat",
         "South",
         "2023-01-01",
         495.37,
         4.0
        ],
        [
         "Books",
         "Non-Fiction",
         "West",
         "2023-02-03",
         468.27,
         3.0
        ],
        [
         "Sports",
         "Yoga Mat",
         "east",
         "2023-06-24",
         145.16,
         5.0
        ],
        [
         "Electronics",
         "Laptop",
         "West",
         "2022-12-16",
         406.79,
         8.0
        ],
        [
         "Home Decor",
         "Curtain",
         "West",
         "2022-11-16",
         183.36,
         1.0
        ],
        [
         "Home Decor",
         "Curtain",
         "Central",
         "2022-08-11",
         380.37,
         8.0
        ],
        [
         "Home Decor",
         "Lamp",
         "West",
         "2022-11-25",
         160.07,
         2.0
        ],
        [
         "Electronics",
         "Unknown product",
         "West",
         "2023-07-15",
         90.48,
         4.0
        ],
        [
         "Books",
         "Fiction",
         "North",
         "2022-08-05",
         241.67,
         2.0
        ],
        [
         "Sports",
         "Tennis Racket",
         "South",
         "2022-05-29",
         18.88,
         8.0
        ],
        [
         "Books",
         "Fiction",
         "East",
         "2023-01-09",
         217.31,
         2.0
        ],
        [
         "Home Decor",
         "Curtain",
         "South",
         "2023-02-06",
         73.54,
         9.0
        ],
        [
         "Clothing",
         "Shirt",
         "East",
         "2023-05-03",
         187.64,
         9.0
        ],
        [
         "Unknown",
         "Unknown product",
         "east",
         "2023-09-18",
         468.69,
         4.0
        ],
        [
         "Electronics",
         "Mobile",
         "North",
         "2023-12-26",
         321.79,
         3.0
        ],
        [
         "Sports",
         "Yoga Mat",
         "South",
         "2023-11-17",
         -43.01,
         5.0
        ],
        [
         "Sports",
         "Tennis Racket",
         "West",
         "2022-05-02",
         398.77,
         7.0
        ],
        [
         "Clothing",
         "Shirt",
         "North",
         "2022-02-08",
         415.58,
         9.0
        ],
        [
         "Sports",
         "Tennis Racket",
         "North",
         "2023-06-14",
         299.84,
         5.0
        ],
        [
         "Clothing",
         "Jeans",
         "East",
         "2023-09-30",
         413.1,
         8.0
        ],
        [
         "Home Decor",
         "Cushion",
         "North",
         "2022-08-26",
         377.05,
         6.0
        ],
        [
         "Books",
         "Non-Fiction",
         "Central",
         "2023-10-24",
         491.57,
         6.0
        ],
        [
         "Home Decor",
         "Cushion",
         "East",
         "2023-04-11",
         9.37,
         5.0
        ],
        [
         "Unknown",
         "Unknown product",
         "West",
         "2023-04-08",
         0.53,
         2.0
        ],
        [
         "Books",
         "Fiction",
         "South",
         "2023-08-30",
         218.62,
         7.0
        ],
        [
         "Home Decor",
         "Lamp",
         "East",
         "2022-03-29",
         138.31,
         6.0
        ],
        [
         "Unknown",
         "Unknown product",
         "West",
         "2023-11-14",
         367.0,
         1.0
        ],
        [
         "Books",
         "Fiction",
         "East",
         "2023-11-27",
         286.57,
         6.0
        ],
        [
         "Sports",
         "Tennis Racket",
         "Central",
         "2022-01-19",
         33.36,
         7.0
        ],
        [
         "Home Decor",
         "Lamp",
         "West",
         "2022-04-18",
         299.96,
         5.0
        ],
        [
         "Home Decor",
         "Lamp",
         "east",
         "2022-04-21",
         38.47,
         8.0
        ],
        [
         "Electronics",
         "Headphones",
         "West",
         "2022-05-09",
         357.94,
         3.0
        ],
        [
         "Home Decor",
         "Lamp",
         "West",
         "2023-03-25",
         102.85,
         3.0
        ],
        [
         "Electronics",
         "Mobile",
         "Central",
         "2022-08-12",
         null,
         2.0
        ],
        [
         "Clothing",
         "Jacket",
         "West",
         "2023-05-06",
         121.01,
         5.0
        ],
        [
         "Electronics",
         "Mobile",
         "east",
         "2022-03-07",
         145.46,
         9.0
        ],
        [
         "Sports",
         "Football",
         "North",
         "2023-05-15",
         238.29,
         6.0
        ],
        [
         "Clothing",
         "Jacket",
         "east",
         "2022-01-12",
         360.15,
         9.0
        ],
        [
         "Clothing",
         "Jeans",
         "North",
         "2023-02-22",
         367.27,
         4.0
        ],
        [
         "Books",
         "Comics",
         "east",
         "2023-08-10",
         365.95,
         7.0
        ],
        [
         "Books",
         "Fiction",
         "Central",
         "2022-03-11",
         432.16,
         5.0
        ],
        [
         "Electronics",
         "Mobile",
         "North",
         "2023-11-29",
         152.57,
         4.0
        ],
        [
         "Electronics",
         "Unknown product",
         "east",
         "2022-01-20",
         379.22,
         6.0
        ],
        [
         "Electronics",
         "Unknown product",
         "North",
         "2022-08-15",
         25.8,
         6.0
        ],
        [
         "Clothing",
         "Jacket",
         "East",
         "2023-02-09",
         -34.01,
         4.0
        ],
        [
         "Sports",
         "Yoga Mat",
         "east",
         "2022-07-07",
         386.81,
         4.0
        ],
        [
         "Unknown",
         "Unknown product",
         "East",
         "2023-05-31",
         230.56,
         3.0
        ],
        [
         "Clothing",
         "Jeans",
         "east",
         "2023-12-29",
         7.28,
         7.0
        ],
        [
         "Unknown",
         "Unknown product",
         "North",
         "2023-05-15",
         258.36,
         8.0
        ],
        [
         "Unknown",
         "Unknown product",
         "North",
         "2022-06-11",
         279.65,
         3.0
        ],
        [
         "Books",
         "Comics",
         "Central",
         "2022-06-08",
         -37.39,
         3.0
        ],
        [
         "Home Decor",
         "Curtain",
         "Central",
         "2022-11-15",
         -7.62,
         6.0
        ],
        [
         "Sports",
         "Yoga Mat",
         "North",
         "2023-10-26",
         null,
         6.0
        ],
        [
         "Home Decor",
         "Curtain",
         "Central",
         "2022-04-27",
         383.74,
         3.0
        ],
        [
         "Sports",
         "Tennis Racket",
         "East",
         "2023-03-08",
         155.4,
         7.0
        ],
        [
         "Sports",
         "Football",
         "South",
         "2022-05-26",
         154.28,
         1.0
        ],
        [
         "Unknown",
         "Unknown product",
         "east",
         "2023-04-21",
         354.61,
         9.0
        ],
        [
         "Clothing",
         "Jacket",
         "South",
         "2022-04-28",
         303.41,
         1.0
        ],
        [
         "Unknown",
         "Unknown product",
         "east",
         "2022-07-17",
         299.9,
         6.0
        ],
        [
         "Home Decor",
         "Cushion",
         "West",
         "2023-07-13",
         411.89,
         7.0
        ],
        [
         "Sports",
         "Tennis Racket",
         "east",
         "2022-05-17",
         472.67,
         5.0
        ],
        [
         "Electronics",
         "Unknown product",
         "Central",
         "2023-05-20",
         261.05,
         2.0
        ],
        [
         "Clothing",
         "Shirt",
         "West",
         "2023-09-11",
         null,
         1.0
        ],
        [
         "Books",
         "Comics",
         "Central",
         "2022-09-11",
         272.56,
         6.0
        ],
        [
         "Books",
         "Non-Fiction",
         "east",
         "2023-07-17",
         467.37,
         5.0
        ],
        [
         "Electronics",
         "Headphones",
         "east",
         "2023-03-02",
         419.0,
         3.0
        ],
        [
         "Sports",
         "Tennis Racket",
         "east",
         "2023-08-04",
         413.06,
         5.0
        ],
        [
         "Home Decor",
         "Cushion",
         "East",
         "2022-02-18",
         189.35,
         5.0
        ],
        [
         "Books",
         "Non-Fiction",
         "West",
         "2022-12-22",
         23.41,
         4.0
        ],
        [
         "Books",
         "Fiction",
         "North",
         "2023-09-30",
         350.37,
         2.0
        ],
        [
         "Electronics",
         "Mobile",
         "east",
         "2022-11-09",
         null,
         4.0
        ],
        [
         "Unknown",
         "Unknown product",
         "Central",
         "2022-07-01",
         73.87,
         9.0
        ],
        [
         "Books",
         "Comics",
         "east",
         "2023-06-27",
         457.44,
         9.0
        ],
        [
         "Clothing",
         "Jacket",
         "East",
         "2023-07-02",
         -42.63,
         8.0
        ],
        [
         "Unknown",
         "Unknown product",
         "Central",
         "2023-09-10",
         105.2,
         5.0
        ],
        [
         "Clothing",
         "Shirt",
         "North",
         "2022-08-08",
         101.65,
         5.0
        ],
        [
         "Electronics",
         "Mobile",
         "North",
         "2022-08-08",
         382.92,
         6.0
        ],
        [
         "Books",
         "Non-Fiction",
         "Central",
         "2023-09-10",
         null,
         9.0
        ],
        [
         "Clothing",
         "Jacket",
         "Central",
         "2022-07-24",
         97.48,
         9.0
        ],
        [
         "Clothing",
         "Shirt",
         "North",
         "2022-08-16",
         -31.51,
         4.0
        ],
        [
         "Clothing",
         "Shirt",
         "West",
         "2022-09-07",
         null,
         9.0
        ],
        [
         "Home Decor",
         "Cushion",
         "East",
         "2023-06-17",
         242.83,
         1.0
        ],
        [
         "Sports",
         "Football",
         "North",
         "2023-06-03",
         null,
         6.0
        ],
        [
         "Home Decor",
         "Curtain",
         "South",
         "2023-10-01",
         80.23,
         8.0
        ],
        [
         "Sports",
         "Football",
         "East",
         "2022-07-22",
         479.87,
         7.0
        ],
        [
         "Unknown",
         "Unknown product",
         "east",
         "2023-03-02",
         405.33,
         8.0
        ],
        [
         "Books",
         "Fiction",
         "South",
         "2022-05-22",
         351.95,
         5.0
        ],
        [
         "Clothing",
         "Shirt",
         "West",
         "2022-03-23",
         29.73,
         7.0
        ],
        [
         "Electronics",
         "Unknown product",
         "Central",
         "2023-12-31",
         55.15,
         1.0
        ],
        [
         "Home Decor",
         "Curtain",
         "East",
         "2023-01-06",
         484.6,
         5.0
        ],
        [
         "Sports",
         "Yoga Mat",
         "East",
         "2023-01-19",
         null,
         9.0
        ],
        [
         "Electronics",
         "Mobile",
         "east",
         "2023-03-21",
         12.75,
         2.0
        ],
        [
         "Unknown",
         "Unknown product",
         "Central",
         "2023-09-21",
         73.92,
         9.0
        ],
        [
         "Clothing",
         "Shirt",
         "West",
         "2022-11-23",
         326.06,
         1.0
        ],
        [
         "Unknown",
         "Unknown product",
         "South",
         "2023-08-16",
         489.28,
         2.0
        ],
        [
         "Electronics",
         "Mobile",
         "South",
         "2022-01-28",
         347.55,
         9.0
        ],
        [
         "Unknown",
         "Unknown product",
         "East",
         "2023-02-27",
         339.31,
         1.0
        ],
        [
         "Books",
         "Comics",
         "North",
         "2023-09-02",
         -5.05,
         6.0
        ],
        [
         "Electronics",
         "Mobile",
         "Central",
         "2023-09-02",
         null,
         5.0
        ],
        [
         "Unknown",
         "Unknown product",
         "North",
         "2023-07-31",
         185.75,
         5.0
        ],
        [
         "Books",
         "Comics",
         "east",
         "2023-05-29",
         315.3,
         5.0
        ],
        [
         "Unknown",
         "Unknown product",
         "North",
         "2022-02-26",
         317.96,
         2.0
        ],
        [
         "Sports",
         "Football",
         "east",
         "2022-05-24",
         176.47,
         7.0
        ],
        [
         "Sports",
         "Football",
         "Central",
         "2022-03-27",
         109.82,
         8.0
        ],
        [
         "Unknown",
         "Unknown product",
         "West",
         "2022-10-21",
         393.52,
         3.0
        ],
        [
         "Clothing",
         "Shirt",
         "South",
         "2023-12-05",
         386.69,
         5.0
        ],
        [
         "Home Decor",
         "Cushion",
         "North",
         "2023-07-15",
         60.75,
         7.0
        ],
        [
         "Clothing",
         "Shirt",
         "east",
         "2022-10-04",
         40.59,
         4.0
        ],
        [
         "Books",
         "Non-Fiction",
         "East",
         "2023-10-17",
         null,
         8.0
        ],
        [
         "Electronics",
         "Mobile",
         "Central",
         "2022-08-01",
         null,
         6.0
        ],
        [
         "Clothing",
         "Shirt",
         "east",
         "2023-09-20",
         428.82,
         9.0
        ],
        [
         "Home Decor",
         "Lamp",
         "North",
         "2023-11-11",
         491.74,
         1.0
        ],
        [
         "Unknown",
         "Unknown product",
         "East",
         "2023-03-23",
         253.88,
         8.0
        ],
        [
         "Sports",
         "Football",
         "Central",
         "2022-02-13",
         246.29,
         4.0
        ],
        [
         "Home Decor",
         "Cushion",
         "Central",
         "2022-08-15",
         8.01,
         4.0
        ],
        [
         "Electronics",
         "Unknown product",
         "North",
         "2023-08-24",
         168.56,
         3.0
        ],
        [
         "Sports",
         "Tennis Racket",
         "east",
         "2023-12-10",
         480.46,
         8.0
        ],
        [
         "Electronics",
         "Headphones",
         "West",
         "2022-09-25",
         237.83,
         8.0
        ],
        [
         "Home Decor",
         "Lamp",
         "Central",
         "2023-05-23",
         null,
         9.0
        ],
        [
         "Home Decor",
         "Curtain",
         "South",
         "2022-06-13",
         102.04,
         8.0
        ],
        [
         "Sports",
         "Tennis Racket",
         "South",
         "2023-07-21",
         null,
         9.0
        ],
        [
         "Books",
         "Comics",
         "East",
         "2023-07-13",
         57.71,
         8.0
        ],
        [
         "Unknown",
         "Unknown product",
         "East",
         "2022-07-29",
         36.88,
         4.0
        ],
        [
         "Sports",
         "Football",
         "east",
         "2023-01-22",
         149.71,
         2.0
        ],
        [
         "Clothing",
         "Jacket",
         "South",
         "2022-02-09",
         228.88,
         1.0
        ],
        [
         "Sports",
         "Yoga Mat",
         "West",
         "2023-06-04",
         441.69,
         5.0
        ],
        [
         "Unknown",
         "Unknown product",
         "West",
         "2022-09-17",
         null,
         6.0
        ],
        [
         "Clothing",
         "Shirt",
         "east",
         "2023-01-01",
         null,
         6.0
        ],
        [
         "Sports",
         "Tennis Racket",
         "North",
         "2023-06-28",
         14.7,
         7.0
        ],
        [
         "Unknown",
         "Unknown product",
         "Central",
         "2022-01-16",
         null,
         1.0
        ],
        [
         "Electronics",
         "Laptop",
         "West",
         "2023-07-29",
         216.95,
         5.0
        ],
        [
         "Books",
         "Comics",
         "East",
         "2023-06-17",
         348.85,
         2.0
        ],
        [
         "Clothing",
         "Jeans",
         "east",
         "2022-09-17",
         498.39,
         7.0
        ],
        [
         "Unknown",
         "Unknown product",
         "West",
         "2023-10-02",
         -43.07,
         9.0
        ],
        [
         "Electronics",
         "Headphones",
         "North",
         "2022-05-11",
         240.07,
         9.0
        ],
        [
         "Books",
         "Non-Fiction",
         "East",
         "2023-10-28",
         -6.33,
         5.0
        ],
        [
         "Books",
         "Non-Fiction",
         "West",
         "2022-08-15",
         53.08,
         9.0
        ],
        [
         "Books",
         "Fiction",
         "Central",
         "2023-01-07",
         455.01,
         6.0
        ],
        [
         "Home Decor",
         "Cushion",
         "South",
         "2022-07-30",
         367.77,
         9.0
        ],
        [
         "Clothing",
         "Jeans",
         "East",
         "2023-01-30",
         445.71,
         9.0
        ],
        [
         "Unknown",
         "Unknown product",
         "east",
         "2023-12-26",
         89.88,
         6.0
        ],
        [
         "Clothing",
         "Shirt",
         "North",
         "2022-05-11",
         433.9,
         5.0
        ],
        [
         "Electronics",
         "Unknown product",
         "Central",
         "2022-06-05",
         404.29,
         1.0
        ],
        [
         "Electronics",
         "Laptop",
         "Central",
         "2023-11-06",
         28.08,
         9.0
        ],
        [
         "Clothing",
         "Jacket",
         "East",
         "2022-11-03",
         197.69,
         9.0
        ],
        [
         "Home Decor",
         "Lamp",
         "West",
         "2022-10-06",
         null,
         6.0
        ],
        [
         "Unknown",
         "Unknown product",
         "east",
         "2022-09-30",
         412.8,
         3.0
        ],
        [
         "Clothing",
         "Shirt",
         "South",
         "2022-10-16",
         null,
         4.0
        ],
        [
         "Sports",
         "Tennis Racket",
         "east",
         "2022-09-29",
         8.49,
         3.0
        ],
        [
         "Sports",
         "Yoga Mat",
         "Central",
         "2022-09-05",
         -11.7,
         7.0
        ],
        [
         "Clothing",
         "Jacket",
         "West",
         "2023-03-30",
         420.66,
         1.0
        ],
        [
         "Electronics",
         "Laptop",
         "East",
         "2023-10-02",
         303.59,
         4.0
        ],
        [
         "Electronics",
         "Unknown product",
         "South",
         "2023-03-18",
         231.96,
         6.0
        ],
        [
         "Clothing",
         "Jeans",
         "South",
         "2022-05-23",
         null,
         5.0
        ],
        [
         "Sports",
         "Tennis Racket",
         "Central",
         "2022-08-15",
         369.74,
         5.0
        ],
        [
         "Books",
         "Comics",
         "West",
         "2022-10-29",
         367.59,
         4.0
        ],
        [
         "Sports",
         "Tennis Racket",
         "east",
         "2023-04-05",
         78.02,
         9.0
        ],
        [
         "Electronics",
         "Headphones",
         "West",
         "2022-07-26",
         93.16,
         1.0
        ],
        [
         "Books",
         "Fiction",
         "Central",
         "2023-10-08",
         318.9,
         7.0
        ],
        [
         "Unknown",
         "Unknown product",
         "North",
         "2023-03-19",
         11.04,
         8.0
        ],
        [
         "Sports",
         "Football",
         "east",
         "2023-07-12",
         203.2,
         4.0
        ],
        [
         "Clothing",
         "Jacket",
         "West",
         "2023-05-16",
         250.66,
         3.0
        ],
        [
         "Unknown",
         "Unknown product",
         "North",
         "2023-05-22",
         182.4,
         9.0
        ],
        [
         "Books",
         "Comics",
         "East",
         "2023-02-28",
         null,
         8.0
        ],
        [
         "Clothing",
         "Jacket",
         "North",
         "2022-09-27",
         454.94,
         5.0
        ],
        [
         "Books",
         "Non-Fiction",
         "east",
         "2023-12-28",
         20.1,
         9.0
        ],
        [
         "Sports",
         "Yoga Mat",
         "West",
         "2022-03-24",
         485.03,
         3.0
        ],
        [
         "Home Decor",
         "Lamp",
         "East",
         "2023-03-02",
         334.62,
         4.0
        ],
        [
         "Electronics",
         "Mobile",
         "East",
         "2022-06-22",
         479.55,
         9.0
        ],
        [
         "Clothing",
         "Jeans",
         "East",
         "2023-09-28",
         406.17,
         3.0
        ],
        [
         "Books",
         "Non-Fiction",
         "East",
         "2023-02-02",
         70.14,
         5.0
        ],
        [
         "Books",
         "Fiction",
         "east",
         "2023-11-07",
         3.09,
         9.0
        ],
        [
         "Unknown",
         "Unknown product",
         "South",
         "2022-11-16",
         261.94,
         4.0
        ],
        [
         "Clothing",
         "Jacket",
         "East",
         "2022-03-30",
         403.49,
         5.0
        ],
        [
         "Sports",
         "Yoga Mat",
         "east",
         "2022-11-30",
         358.76,
         4.0
        ],
        [
         "Electronics",
         "Unknown product",
         "east",
         "2022-03-09",
         432.48,
         5.0
        ],
        [
         "Unknown",
         "Unknown product",
         "East",
         "2023-05-29",
         317.29,
         5.0
        ],
        [
         "Clothing",
         "Jeans",
         "Central",
         "2023-09-14",
         137.22,
         8.0
        ],
        [
         "Home Decor",
         "Lamp",
         "east",
         "2022-05-07",
         294.4,
         1.0
        ],
        [
         "Home Decor",
         "Cushion",
         "east",
         "2023-03-08",
         -30.93,
         3.0
        ],
        [
         "Clothing",
         "Shirt",
         "North",
         "2023-07-30",
         384.04,
         5.0
        ],
        [
         "Clothing",
         "Jeans",
         "West",
         "2023-10-23",
         -15.0,
         4.0
        ],
        [
         "Books",
         "Non-Fiction",
         "North",
         "2023-11-15",
         13.21,
         9.0
        ],
        [
         "Sports",
         "Yoga Mat",
         "Central",
         "2023-03-21",
         -32.04,
         3.0
        ],
        [
         "Home Decor",
         "Lamp",
         "West",
         "2023-04-27",
         433.44,
         1.0
        ],
        [
         "Unknown",
         "Unknown product",
         "Central",
         "2023-03-07",
         -4.79,
         5.0
        ],
        [
         "Books",
         "Fiction",
         "East",
         "2023-03-14",
         189.03,
         9.0
        ],
        [
         "Unknown",
         "Unknown product",
         "North",
         "2023-10-21",
         440.89,
         6.0
        ],
        [
         "Electronics",
         "Mobile",
         "East",
         "2022-08-20",
         471.46,
         6.0
        ],
        [
         "Books",
         "Non-Fiction",
         "South",
         "2023-05-20",
         336.45,
         4.0
        ],
        [
         "Home Decor",
         "Cushion",
         "east",
         "2023-03-31",
         22.43,
         4.0
        ],
        [
         "Sports",
         "Yoga Mat",
         "East",
         "2023-02-10",
         382.71,
         3.0
        ],
        [
         "Unknown",
         "Unknown product",
         "Central",
         "2023-05-07",
         472.79,
         2.0
        ],
        [
         "Books",
         "Comics",
         "East",
         "2022-12-13",
         358.98,
         1.0
        ],
        [
         "Sports",
         "Football",
         "east",
         "2023-08-07",
         null,
         7.0
        ],
        [
         "Unknown",
         "Unknown product",
         "east",
         "2022-09-19",
         440.31,
         2.0
        ],
        [
         "Sports",
         "Football",
         "South",
         "2023-07-27",
         209.87,
         8.0
        ],
        [
         "Books",
         "Non-Fiction",
         "West",
         "2023-04-12",
         102.25,
         1.0
        ],
        [
         "Home Decor",
         "Lamp",
         "East",
         "2023-03-17",
         132.24,
         1.0
        ],
        [
         "Books",
         "Comics",
         "South",
         "2023-02-28",
         208.36,
         4.0
        ],
        [
         "Unknown",
         "Unknown product",
         "Central",
         "2023-11-20",
         234.11,
         6.0
        ],
        [
         "Clothing",
         "Shirt",
         "Central",
         "2022-02-18",
         -45.78,
         8.0
        ],
        [
         "Electronics",
         "Mobile",
         "North",
         "2023-07-09",
         414.16,
         1.0
        ],
        [
         "Home Decor",
         "Lamp",
         "east",
         "2023-08-25",
         204.57,
         5.0
        ],
        [
         "Unknown",
         "Unknown product",
         "South",
         "2023-12-05",
         231.97,
         6.0
        ],
        [
         "Electronics",
         "Headphones",
         "east",
         "2023-01-17",
         102.8,
         8.0
        ],
        [
         "Electronics",
         "Unknown product",
         "South",
         "2023-07-03",
         106.51,
         1.0
        ],
        [
         "Books",
         "Non-Fiction",
         "North",
         "2023-07-25",
         229.08,
         9.0
        ],
        [
         "Books",
         "Comics",
         "East",
         "2023-07-05",
         221.45,
         3.0
        ],
        [
         "Electronics",
         "Headphones",
         "West",
         "2022-11-29",
         461.18,
         1.0
        ],
        [
         "Home Decor",
         "Lamp",
         "West",
         "2022-06-17",
         182.01,
         8.0
        ],
        [
         "Electronics",
         "Laptop",
         "Central",
         "2023-04-01",
         319.02,
         5.0
        ],
        [
         "Sports",
         "Football",
         "North",
         "2022-04-19",
         284.35,
         1.0
        ],
        [
         "Electronics",
         "Mobile",
         "Central",
         "2022-10-28",
         345.14,
         5.0
        ],
        [
         "Electronics",
         "Laptop",
         "South",
         "2023-06-04",
         424.58,
         7.0
        ],
        [
         "Home Decor",
         "Curtain",
         "North",
         "2023-11-01",
         91.68,
         7.0
        ],
        [
         "Clothing",
         "Shirt",
         "West",
         "2023-11-20",
         282.09,
         2.0
        ],
        [
         "Unknown",
         "Unknown product",
         "Central",
         "2023-10-20",
         12.97,
         1.0
        ],
        [
         "Unknown",
         "Unknown product",
         "North",
         "2023-10-01",
         314.47,
         5.0
        ],
        [
         "Home Decor",
         "Curtain",
         "Central",
         "2023-10-21",
         277.98,
         5.0
        ],
        [
         "Books",
         "Non-Fiction",
         "east",
         "2022-03-25",
         445.18,
         3.0
        ],
        [
         "Sports",
         "Tennis Racket",
         "Central",
         "2023-10-17",
         362.42,
         2.0
        ],
        [
         "Clothing",
         "Shirt",
         "East",
         "2022-04-15",
         305.55,
         3.0
        ],
        [
         "Sports",
         "Tennis Racket",
         "North",
         "2022-09-23",
         226.18,
         3.0
        ],
        [
         "Electronics",
         "Laptop",
         "West",
         "2022-04-28",
         13.66,
         7.0
        ],
        [
         "Sports",
         "Tennis Racket",
         "Central",
         "2023-06-24",
         null,
         3.0
        ],
        [
         "Electronics",
         "Mobile",
         "North",
         "2022-03-25",
         300.83,
         5.0
        ],
        [
         "Home Decor",
         "Cushion",
         "east",
         "2023-05-29",
         241.5,
         3.0
        ],
        [
         "Unknown",
         "Unknown product",
         "North",
         "2022-12-16",
         28.18,
         1.0
        ],
        [
         "Unknown",
         "Unknown product",
         "East",
         "2022-09-25",
         112.27,
         1.0
        ],
        [
         "Clothing",
         "Shirt",
         "East",
         "2022-11-07",
         267.46,
         5.0
        ],
        [
         "Unknown",
         "Unknown product",
         "East",
         "2022-08-01",
         null,
         1.0
        ],
        [
         "Sports",
         "Yoga Mat",
         "Central",
         "2022-05-07",
         138.74,
         7.0
        ],
        [
         "Books",
         "Comics",
         "east",
         "2023-02-12",
         null,
         9.0
        ],
        [
         "Sports",
         "Yoga Mat",
         "east",
         "2022-10-21",
         null,
         5.0
        ],
        [
         "Sports",
         "Tennis Racket",
         "east",
         "2023-03-14",
         418.51,
         4.0
        ],
        [
         "Electronics",
         "Mobile",
         "North",
         "2023-09-03",
         -7.31,
         9.0
        ],
        [
         "Books",
         "Non-Fiction",
         "North",
         "2023-09-26",
         274.66,
         2.0
        ],
        [
         "Sports",
         "Football",
         "West",
         "2023-03-27",
         197.57,
         9.0
        ],
        [
         "Books",
         "Comics",
         "West",
         "2022-03-04",
         4.38,
         9.0
        ],
        [
         "Home Decor",
         "Cushion",
         "east",
         "2022-04-28",
         null,
         4.0
        ],
        [
         "Electronics",
         "Laptop",
         "South",
         "2023-01-15",
         328.62,
         7.0
        ],
        [
         "Electronics",
         "Mobile",
         "east",
         "2022-10-17",
         41.77,
         5.0
        ],
        [
         "Books",
         "Non-Fiction",
         "east",
         "2022-01-07",
         null,
         4.0
        ],
        [
         "Books",
         "Fiction",
         "South",
         "2023-02-25",
         439.55,
         1.0
        ],
        [
         "Clothing",
         "Jeans",
         "South",
         "2023-07-13",
         34.95,
         2.0
        ],
        [
         "Unknown",
         "Unknown product",
         "East",
         "2023-02-23",
         137.33,
         1.0
        ]
       ],
       "datasetInfos": [],
       "dbfsResultPath": null,
       "isJsonSchema": true,
       "metadata": {},
       "overflow": false,
       "plotOptions": {
        "customPlotOptions": {},
        "displayType": "table",
        "pivotAggregation": null,
        "pivotColumns": null,
        "xColumns": null,
        "yColumns": null
       },
       "removedWidgets": [],
       "schema": [
        {
         "metadata": "{}",
         "name": "Category",
         "type": "\"string\""
        },
        {
         "metadata": "{}",
         "name": "Product",
         "type": "\"string\""
        },
        {
         "metadata": "{\"scale\":0}",
         "name": "Region",
         "type": "\"string\""
        },
        {
         "metadata": "{\"scale\":0}",
         "name": "Date",
         "type": "\"date\""
        },
        {
         "metadata": "{\"scale\":0}",
         "name": "Sales",
         "type": "\"double\""
        },
        {
         "metadata": "{}",
         "name": "Quantity",
         "type": "\"double\""
        }
       ],
       "type": "table"
      }
     },
     "output_type": "display_data"
    }
   ],
   "source": [
    "from pyspark.sql.functions import when, col, lit, expr\n",
    "\n",
    "# Handle missing values for Category and Product\n",
    "salesdf = salesdf.withColumn(\"Category\", when(col(\"Category\").isNull(), \"Unknown\").otherwise(col(\"Category\")))\n",
    "salesdf = salesdf.withColumn(\"Product\", when(col(\"Product\").isNull(), \"Unknown product\").otherwise(col(\"Product\")))\n",
    "\n",
    "# Drop rows with missing Date\n",
    "salesdf = salesdf.filter(col(\"Date\").isNotNull())\n",
    "\n",
    "# Fill missing Quantity with median\n",
    "median_quantity = salesdf.approxQuantile(\"Quantity\", [0.5], 0.0)[0]\n",
    "salesdf = salesdf.withColumn(\"Quantity\", when(col(\"Quantity\").isNull(), lit(median_quantity)).otherwise(col(\"Quantity\")))\n",
    "\n",
    "# Display the updated DataFrame\n",
    "display(salesdf)"
   ]
  },
  {
   "cell_type": "code",
   "execution_count": 0,
   "metadata": {
    "application/vnd.databricks.v1+cell": {
     "cellMetadata": {
      "byteLimit": 2048000,
      "rowLimit": 10000
     },
     "inputWidgets": {},
     "nuid": "011fe758-3052-4b91-b38d-b5f3ea0a5d9f",
     "showTitle": false,
     "tableResultSettingsMap": {},
     "title": ""
    }
   },
   "outputs": [
    {
     "output_type": "stream",
     "name": "stdout",
     "output_type": "stream",
     "text": [
      "Out[17]: 954"
     ]
    }
   ],
   "source": [
    "row_count = salesdf.count()"
   ]
  },
  {
   "cell_type": "code",
   "execution_count": 0,
   "metadata": {
    "application/vnd.databricks.v1+cell": {
     "cellMetadata": {
      "byteLimit": 2048000,
      "rowLimit": 10000
     },
     "inputWidgets": {},
     "nuid": "47ca1272-eee5-4c5a-9b5c-3c2c90d61904",
     "showTitle": false,
     "tableResultSettingsMap": {},
     "title": ""
    }
   },
   "outputs": [],
   "source": [
    "# Write the extracted data into a Parquet file\n",
    "salesdf.write.mode(\"overwrite\").parquet(\"dbfs:/FileStore/data/sales_data_cleaned.parquet\")"
   ]
  },
  {
   "cell_type": "code",
   "execution_count": 0,
   "metadata": {
    "application/vnd.databricks.v1+cell": {
     "cellMetadata": {},
     "inputWidgets": {},
     "nuid": "013991e1-f52c-4456-9389-ba670c96031d",
     "showTitle": false,
     "tableResultSettingsMap": {},
     "title": ""
    }
   },
   "outputs": [],
   "source": [
    "dbutils.notebook.exit(row_count)"
   ]
  }
 ],
 "metadata": {
  "application/vnd.databricks.v1+notebook": {
   "computePreferences": null,
   "dashboards": [],
   "environmentMetadata": {
    "base_environment": "",
    "client": "1"
   },
   "language": "python",
   "notebookMetadata": {
    "pythonIndentUnit": 4
   },
   "notebookName": "Extract Data",
   "widgets": {
    "jdbcPassword": {
     "currentValue": "demo!pass123",
     "nuid": "bb4c64e8-1a1b-426b-b664-2f5b94c86363",
     "typedWidgetInfo": {
      "autoCreated": false,
      "defaultValue": "demo!pass123",
      "label": "JDBC Password",
      "name": "jdbcPassword",
      "options": {
       "widgetDisplayType": "Text",
       "validationRegex": null
      },
      "parameterDataType": "String"
     },
     "widgetInfo": {
      "widgetType": "text",
      "defaultValue": "demo!pass123",
      "label": "JDBC Password",
      "name": "jdbcPassword",
      "options": {
       "widgetType": "text",
       "autoCreated": null,
       "validationRegex": null
      }
     }
    },
    "jdbcUsername": {
     "currentValue": "sqladmin",
     "nuid": "a9963290-f974-477f-80fb-b154f01f0b58",
     "typedWidgetInfo": {
      "autoCreated": false,
      "defaultValue": "sqladmin",
      "label": "JDBC Username",
      "name": "jdbcUsername",
      "options": {
       "widgetDisplayType": "Text",
       "validationRegex": null
      },
      "parameterDataType": "String"
     },
     "widgetInfo": {
      "widgetType": "text",
      "defaultValue": "sqladmin",
      "label": "JDBC Username",
      "name": "jdbcUsername",
      "options": {
       "widgetType": "text",
       "autoCreated": null,
       "validationRegex": null
      }
     }
    }
   }
  },
  "language_info": {
   "name": "python"
  }
 },
 "nbformat": 4,
 "nbformat_minor": 0
}